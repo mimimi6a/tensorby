{
 "cells": [
  {
   "cell_type": "code",
   "execution_count": 4,
   "metadata": {},
   "outputs": [],
   "source": [
    "from IPython.display import HTML"
   ]
  },
  {
   "cell_type": "markdown",
   "metadata": {},
   "source": [
    "# Multiclassification task on image data\n",
    "\n",
    "\n",
    "Dataset: [Fashion MNIST](https://github.com/zalandoresearch/fashion-mnist)\n",
    "\n",
    "<img src=\"img/fashion-mnist-sprite.png\">"
   ]
  },
  {
   "cell_type": "code",
   "execution_count": 5,
   "metadata": {
    "scrolled": false
   },
   "outputs": [
    {
     "data": {
      "text/html": [
       "<img src=\"img/embedding.gif\">"
      ],
      "text/plain": [
       "<IPython.core.display.HTML object>"
      ]
     },
     "execution_count": 5,
     "metadata": {},
     "output_type": "execute_result"
    }
   ],
   "source": [
    "HTML('<img src=\"img/embedding.gif\">')"
   ]
  },
  {
   "cell_type": "code",
   "execution_count": 6,
   "metadata": {},
   "outputs": [],
   "source": [
    "import numpy as np\n",
    "import pandas as pd\n",
    "\n",
    "import matplotlib.pyplot as plt\n",
    "\n",
    "from sklearn.datasets import load_digits\n",
    "from sklearn.model_selection import train_test_split\n",
    "from sklearn.metrics import classification_report\n",
    "\n",
    "from IPython.display import SVG\n",
    "\n",
    "from keras.models import Sequential\n",
    "from keras.layers import InputLayer, Dense, Dropout, Conv2D, MaxPooling2D, Flatten\n",
    "from keras.utils.vis_utils import model_to_dot\n",
    "from keras.callbacks import CSVLogger, ModelCheckpoint\n",
    "from keras.datasets import cifar10, fashion_mnist\n",
    "from keras.utils import to_categorical\n",
    "from keras_preprocessing.image import NumpyArrayIterator, ImageDataGenerator\n",
    "\n",
    "np.random.seed(1234)\n",
    "%matplotlib inline"
   ]
  },
  {
   "cell_type": "markdown",
   "metadata": {},
   "source": [
    "## Load dataset"
   ]
  },
  {
   "cell_type": "code",
   "execution_count": 7,
   "metadata": {},
   "outputs": [],
   "source": [
    "(train_X, train_y), (test_X, test_y) = fashion_mnist.load_data()"
   ]
  },
  {
   "cell_type": "markdown",
   "metadata": {},
   "source": [
    "## Excersize: plot the data"
   ]
  },
  {
   "cell_type": "code",
   "execution_count": 8,
   "metadata": {},
   "outputs": [
    {
     "data": {
      "text/plain": [
       "(60000,)"
      ]
     },
     "execution_count": 8,
     "metadata": {},
     "output_type": "execute_result"
    }
   ],
   "source": [
    "train_y.shape"
   ]
  },
  {
   "cell_type": "code",
   "execution_count": 9,
   "metadata": {},
   "outputs": [
    {
     "data": {
      "text/plain": [
       "(60000, 10)"
      ]
     },
     "execution_count": 9,
     "metadata": {},
     "output_type": "execute_result"
    }
   ],
   "source": [
    "to_categorical(train_y).shape"
   ]
  },
  {
   "cell_type": "code",
   "execution_count": 10,
   "metadata": {},
   "outputs": [
    {
     "data": {
      "image/png": "[encoded data removed]",
      "text/plain": [
       "<Figure size 864x432 with 10 Axes>"
      ]
     },
     "metadata": {},
     "output_type": "display_data"
    }
   ],
   "source": [
    "labels = np.unique(train_y)\n",
    "\n",
    "plt.figure(figsize=(12, 6))\n",
    "\n",
    "for i in labels:\n",
    "    ax = plt.subplot(1, len(labels), i + 1)\n",
    "    ax.axis('off')\n",
    "    plt.imshow(train_X[train_y == i][0, :, :], 'gray')"
   ]
  },
  {
   "cell_type": "markdown",
   "metadata": {},
   "source": [
    "## Scale data"
   ]
  },
  {
   "cell_type": "code",
   "execution_count": 11,
   "metadata": {},
   "outputs": [],
   "source": [
    "train_X = train_X.astype('float32') / 255.\n",
    "test_X = test_X.astype('float32') / 255."
   ]
  },
  {
   "cell_type": "markdown",
   "metadata": {},
   "source": [
    "## Split data intro train, valid and test"
   ]
  },
  {
   "cell_type": "code",
   "execution_count": 12,
   "metadata": {},
   "outputs": [
    {
     "name": "stdout",
     "output_type": "stream",
     "text": [
      "#train: 48000 #valid: 12000 #test: 10000\n"
     ]
    }
   ],
   "source": [
    "train_X, valid_X, train_y, valid_y = train_test_split(train_X, train_y, test_size=0.2, stratify=train_y)\n",
    "\n",
    "\n",
    "print('#train:', len(train_X), '#valid:', len(valid_X), '#test:', len(test_X))"
   ]
  },
  {
   "cell_type": "markdown",
   "metadata": {},
   "source": [
    "## Reshape data"
   ]
  },
  {
   "cell_type": "code",
   "execution_count": 13,
   "metadata": {},
   "outputs": [
    {
     "data": {
      "text/plain": [
       "(48000, 28, 28)"
      ]
     },
     "execution_count": 13,
     "metadata": {},
     "output_type": "execute_result"
    }
   ],
   "source": [
    "train_X.shape"
   ]
  },
  {
   "cell_type": "code",
   "execution_count": 14,
   "metadata": {},
   "outputs": [],
   "source": [
    "train_X = train_X.reshape(-1, 28, 28, 1)\n",
    "test_X = test_X.reshape(-1, 28, 28, 1)\n",
    "valid_X = valid_X.reshape(-1, 28, 28, 1)"
   ]
  },
  {
   "cell_type": "markdown",
   "metadata": {},
   "source": [
    "## One-hot encode targets\n",
    "\n",
    "In keras when we solve multiclassification task we apply one-hot encoding"
   ]
  },
  {
   "cell_type": "code",
   "execution_count": 15,
   "metadata": {},
   "outputs": [],
   "source": [
    "train_y_one_hot = to_categorical(train_y)\n",
    "test_y_one_hot = to_categorical(test_y)\n",
    "valid_y_one_hot = to_categorical(valid_y)"
   ]
  },
  {
   "cell_type": "markdown",
   "metadata": {},
   "source": [
    "## Excersize: solve task with a simple fully connected network (like in regression notebook)\n",
    "\n",
    "hints:\n",
    "    \n",
    "    * loss = 'categorical_crossentropy'\n",
    "    * metrics = ['accuracy']"
   ]
  },
  {
   "cell_type": "code",
   "execution_count": null,
   "metadata": {},
   "outputs": [],
   "source": []
  },
  {
   "cell_type": "markdown",
   "metadata": {},
   "source": [
    "## Let's learn more about conv nets\n",
    "\n",
    "[cs231n](http://cs231n.github.io/convolutional-networks)"
   ]
  },
  {
   "cell_type": "markdown",
   "metadata": {},
   "source": [
    "## 1st cnn"
   ]
  },
  {
   "cell_type": "code",
   "execution_count": 16,
   "metadata": {},
   "outputs": [
    {
     "name": "stdout",
     "output_type": "stream",
     "text": [
      "_________________________________________________________________\n",
      "Layer (type)                 Output Shape              Param #   \n",
      "=================================================================\n",
      "conv2d_1 (Conv2D)            (None, 28, 28, 64)        320       \n",
      "_________________________________________________________________\n",
      "max_pooling2d_1 (MaxPooling2 (None, 14, 14, 64)        0         \n",
      "_________________________________________________________________\n",
      "flatten_1 (Flatten)          (None, 12544)             0         \n",
      "_________________________________________________________________\n",
      "dense_1 (Dense)              (None, 256)               3211520   \n",
      "_________________________________________________________________\n",
      "dropout_1 (Dropout)          (None, 256)               0         \n",
      "_________________________________________________________________\n",
      "dense_2 (Dense)              (None, 10)                2570      \n",
      "=================================================================\n",
      "Total params: 3,214,410\n",
      "Trainable params: 3,214,410\n",
      "Non-trainable params: 0\n",
      "_________________________________________________________________\n"
     ]
    }
   ],
   "source": [
    "model = Sequential()\n",
    "\n",
    "# Must define the input shape in the first layer of the neural network\n",
    "model.add(Conv2D(filters=64, kernel_size=2, padding='same', activation='relu', input_shape=(28, 28, 1))) \n",
    "model.add(MaxPooling2D(pool_size=2))\n",
    "\n",
    "model.add(Flatten())\n",
    "\n",
    "model.add(Dense(256, activation='relu'))\n",
    "model.add(Dropout(0.5))\n",
    "model.add(Dense(10, activation='softmax'))\n",
    "\n",
    "# Take a look at the model summary\n",
    "model.summary()"
   ]
  },
  {
   "cell_type": "markdown",
   "metadata": {},
   "source": [
    "## Plot the model"
   ]
  },
  {
   "cell_type": "code",
   "execution_count": 17,
   "metadata": {},
   "outputs": [
    {
     "data": {
      "image/svg+xml": [
       "<svg height=\"543pt\" viewBox=\"0.00 0.00 388.00 543.00\" width=\"388pt\" xmlns=\"http://www.w3.org/2000/svg\" xmlns:xlink=\"http://www.w3.org/1999/xlink\">\n",
       "<g class=\"graph\" id=\"graph0\" transform=\"scale(1 1) rotate(0) translate(4 539)\">\n",
       "<title>G</title>\n",
       "<polygon fill=\"#ffffff\" points=\"-4,4 -4,-539 384,-539 384,4 -4,4\" stroke=\"transparent\"/>\n",
       "<!-- 140176997166720 -->\n",
       "<g class=\"node\" id=\"node1\">\n",
       "<title>140176997166720</title>\n",
       "<polygon fill=\"none\" points=\"42,-415.5 42,-461.5 338,-461.5 338,-415.5 42,-415.5\" stroke=\"#000000\"/>\n",
       "<text fill=\"#000000\" font-family=\"Times,serif\" font-size=\"14.00\" text-anchor=\"middle\" x=\"103.5\" y=\"-434.8\">conv2d_1: Conv2D</text>\n",
       "<polyline fill=\"none\" points=\"165,-415.5 165,-461.5 \" stroke=\"#000000\"/>\n",
       "<text fill=\"#000000\" font-family=\"Times,serif\" font-size=\"14.00\" text-anchor=\"middle\" x=\"192.5\" y=\"-446.3\">input:</text>\n",
       "<polyline fill=\"none\" points=\"165,-438.5 220,-438.5 \" stroke=\"#000000\"/>\n",
       "<text fill=\"#000000\" font-family=\"Times,serif\" font-size=\"14.00\" text-anchor=\"middle\" x=\"192.5\" y=\"-423.3\">output:</text>\n",
       "<polyline fill=\"none\" points=\"220,-415.5 220,-461.5 \" stroke=\"#000000\"/>\n",
       "<text fill=\"#000000\" font-family=\"Times,serif\" font-size=\"14.00\" text-anchor=\"middle\" x=\"279\" y=\"-446.3\">(None, 28, 28, 1)</text>\n",
       "<polyline fill=\"none\" points=\"220,-438.5 338,-438.5 \" stroke=\"#000000\"/>\n",
       "<text fill=\"#000000\" font-family=\"Times,serif\" font-size=\"14.00\" text-anchor=\"middle\" x=\"279\" y=\"-423.3\">(None, 28, 28, 64)</text>\n",
       "</g>\n",
       "<!-- 140176997166496 -->\n",
       "<g class=\"node\" id=\"node2\">\n",
       "<title>140176997166496</title>\n",
       "<polygon fill=\"none\" points=\"0,-332.5 0,-378.5 380,-378.5 380,-332.5 0,-332.5\" stroke=\"#000000\"/>\n",
       "<text fill=\"#000000\" font-family=\"Times,serif\" font-size=\"14.00\" text-anchor=\"middle\" x=\"103.5\" y=\"-351.8\">max_pooling2d_1: MaxPooling2D</text>\n",
       "<polyline fill=\"none\" points=\"207,-332.5 207,-378.5 \" stroke=\"#000000\"/>\n",
       "<text fill=\"#000000\" font-family=\"Times,serif\" font-size=\"14.00\" text-anchor=\"middle\" x=\"234.5\" y=\"-363.3\">input:</text>\n",
       "<polyline fill=\"none\" points=\"207,-355.5 262,-355.5 \" stroke=\"#000000\"/>\n",
       "<text fill=\"#000000\" font-family=\"Times,serif\" font-size=\"14.00\" text-anchor=\"middle\" x=\"234.5\" y=\"-340.3\">output:</text>\n",
       "<polyline fill=\"none\" points=\"262,-332.5 262,-378.5 \" stroke=\"#000000\"/>\n",
       "<text fill=\"#000000\" font-family=\"Times,serif\" font-size=\"14.00\" text-anchor=\"middle\" x=\"321\" y=\"-363.3\">(None, 28, 28, 64)</text>\n",
       "<polyline fill=\"none\" points=\"262,-355.5 380,-355.5 \" stroke=\"#000000\"/>\n",
       "<text fill=\"#000000\" font-family=\"Times,serif\" font-size=\"14.00\" text-anchor=\"middle\" x=\"321\" y=\"-340.3\">(None, 14, 14, 64)</text>\n",
       "</g>\n",
       "<!-- 140176997166720&#45;&gt;140176997166496 -->\n",
       "<g class=\"edge\" id=\"edge2\">\n",
       "<title>140176997166720-&gt;140176997166496</title>\n",
       "<path d=\"M190,-415.3799C190,-407.1745 190,-397.7679 190,-388.8786\" fill=\"none\" stroke=\"#000000\"/>\n",
       "<polygon fill=\"#000000\" points=\"193.5001,-388.784 190,-378.784 186.5001,-388.784 193.5001,-388.784\" stroke=\"#000000\"/>\n",
       "</g>\n",
       "<!-- 140176997286576 -->\n",
       "<g class=\"node\" id=\"node3\">\n",
       "<title>140176997286576</title>\n",
       "<polygon fill=\"none\" points=\"48.5,-249.5 48.5,-295.5 331.5,-295.5 331.5,-249.5 48.5,-249.5\" stroke=\"#000000\"/>\n",
       "<text fill=\"#000000\" font-family=\"Times,serif\" font-size=\"14.00\" text-anchor=\"middle\" x=\"103.5\" y=\"-268.8\">flatten_1: Flatten</text>\n",
       "<polyline fill=\"none\" points=\"158.5,-249.5 158.5,-295.5 \" stroke=\"#000000\"/>\n",
       "<text fill=\"#000000\" font-family=\"Times,serif\" font-size=\"14.00\" text-anchor=\"middle\" x=\"186\" y=\"-280.3\">input:</text>\n",
       "<polyline fill=\"none\" points=\"158.5,-272.5 213.5,-272.5 \" stroke=\"#000000\"/>\n",
       "<text fill=\"#000000\" font-family=\"Times,serif\" font-size=\"14.00\" text-anchor=\"middle\" x=\"186\" y=\"-257.3\">output:</text>\n",
       "<polyline fill=\"none\" points=\"213.5,-249.5 213.5,-295.5 \" stroke=\"#000000\"/>\n",
       "<text fill=\"#000000\" font-family=\"Times,serif\" font-size=\"14.00\" text-anchor=\"middle\" x=\"272.5\" y=\"-280.3\">(None, 14, 14, 64)</text>\n",
       "<polyline fill=\"none\" points=\"213.5,-272.5 331.5,-272.5 \" stroke=\"#000000\"/>\n",
       "<text fill=\"#000000\" font-family=\"Times,serif\" font-size=\"14.00\" text-anchor=\"middle\" x=\"272.5\" y=\"-257.3\">(None, 12544)</text>\n",
       "</g>\n",
       "<!-- 140176997166496&#45;&gt;140176997286576 -->\n",
       "<g class=\"edge\" id=\"edge3\">\n",
       "<title>140176997166496-&gt;140176997286576</title>\n",
       "<path d=\"M190,-332.3799C190,-324.1745 190,-314.7679 190,-305.8786\" fill=\"none\" stroke=\"#000000\"/>\n",
       "<polygon fill=\"#000000\" points=\"193.5001,-305.784 190,-295.784 186.5001,-305.784 193.5001,-305.784\" stroke=\"#000000\"/>\n",
       "</g>\n",
       "<!-- 140176997289152 -->\n",
       "<g class=\"node\" id=\"node4\">\n",
       "<title>140176997289152</title>\n",
       "<polygon fill=\"none\" points=\"63.5,-166.5 63.5,-212.5 316.5,-212.5 316.5,-166.5 63.5,-166.5\" stroke=\"#000000\"/>\n",
       "<text fill=\"#000000\" font-family=\"Times,serif\" font-size=\"14.00\" text-anchor=\"middle\" x=\"114.5\" y=\"-185.8\">dense_1: Dense</text>\n",
       "<polyline fill=\"none\" points=\"165.5,-166.5 165.5,-212.5 \" stroke=\"#000000\"/>\n",
       "<text fill=\"#000000\" font-family=\"Times,serif\" font-size=\"14.00\" text-anchor=\"middle\" x=\"193\" y=\"-197.3\">input:</text>\n",
       "<polyline fill=\"none\" points=\"165.5,-189.5 220.5,-189.5 \" stroke=\"#000000\"/>\n",
       "<text fill=\"#000000\" font-family=\"Times,serif\" font-size=\"14.00\" text-anchor=\"middle\" x=\"193\" y=\"-174.3\">output:</text>\n",
       "<polyline fill=\"none\" points=\"220.5,-166.5 220.5,-212.5 \" stroke=\"#000000\"/>\n",
       "<text fill=\"#000000\" font-family=\"Times,serif\" font-size=\"14.00\" text-anchor=\"middle\" x=\"268.5\" y=\"-197.3\">(None, 12544)</text>\n",
       "<polyline fill=\"none\" points=\"220.5,-189.5 316.5,-189.5 \" stroke=\"#000000\"/>\n",
       "<text fill=\"#000000\" font-family=\"Times,serif\" font-size=\"14.00\" text-anchor=\"middle\" x=\"268.5\" y=\"-174.3\">(None, 256)</text>\n",
       "</g>\n",
       "<!-- 140176997286576&#45;&gt;140176997289152 -->\n",
       "<g class=\"edge\" id=\"edge4\">\n",
       "<title>140176997286576-&gt;140176997289152</title>\n",
       "<path d=\"M190,-249.3799C190,-241.1745 190,-231.7679 190,-222.8786\" fill=\"none\" stroke=\"#000000\"/>\n",
       "<polygon fill=\"#000000\" points=\"193.5001,-222.784 190,-212.784 186.5001,-222.784 193.5001,-222.784\" stroke=\"#000000\"/>\n",
       "</g>\n",
       "<!-- 140176919516160 -->\n",
       "<g class=\"node\" id=\"node5\">\n",
       "<title>140176919516160</title>\n",
       "<polygon fill=\"none\" points=\"58.5,-83.5 58.5,-129.5 321.5,-129.5 321.5,-83.5 58.5,-83.5\" stroke=\"#000000\"/>\n",
       "<text fill=\"#000000\" font-family=\"Times,serif\" font-size=\"14.00\" text-anchor=\"middle\" x=\"121\" y=\"-102.8\">dropout_1: Dropout</text>\n",
       "<polyline fill=\"none\" points=\"183.5,-83.5 183.5,-129.5 \" stroke=\"#000000\"/>\n",
       "<text fill=\"#000000\" font-family=\"Times,serif\" font-size=\"14.00\" text-anchor=\"middle\" x=\"211\" y=\"-114.3\">input:</text>\n",
       "<polyline fill=\"none\" points=\"183.5,-106.5 238.5,-106.5 \" stroke=\"#000000\"/>\n",
       "<text fill=\"#000000\" font-family=\"Times,serif\" font-size=\"14.00\" text-anchor=\"middle\" x=\"211\" y=\"-91.3\">output:</text>\n",
       "<polyline fill=\"none\" points=\"238.5,-83.5 238.5,-129.5 \" stroke=\"#000000\"/>\n",
       "<text fill=\"#000000\" font-family=\"Times,serif\" font-size=\"14.00\" text-anchor=\"middle\" x=\"280\" y=\"-114.3\">(None, 256)</text>\n",
       "<polyline fill=\"none\" points=\"238.5,-106.5 321.5,-106.5 \" stroke=\"#000000\"/>\n",
       "<text fill=\"#000000\" font-family=\"Times,serif\" font-size=\"14.00\" text-anchor=\"middle\" x=\"280\" y=\"-91.3\">(None, 256)</text>\n",
       "</g>\n",
       "<!-- 140176997289152&#45;&gt;140176919516160 -->\n",
       "<g class=\"edge\" id=\"edge5\">\n",
       "<title>140176997289152-&gt;140176919516160</title>\n",
       "<path d=\"M190,-166.3799C190,-158.1745 190,-148.7679 190,-139.8786\" fill=\"none\" stroke=\"#000000\"/>\n",
       "<polygon fill=\"#000000\" points=\"193.5001,-139.784 190,-129.784 186.5001,-139.784 193.5001,-139.784\" stroke=\"#000000\"/>\n",
       "</g>\n",
       "<!-- 140176919651776 -->\n",
       "<g class=\"node\" id=\"node6\">\n",
       "<title>140176919651776</title>\n",
       "<polygon fill=\"none\" points=\"70,-.5 70,-46.5 310,-46.5 310,-.5 70,-.5\" stroke=\"#000000\"/>\n",
       "<text fill=\"#000000\" font-family=\"Times,serif\" font-size=\"14.00\" text-anchor=\"middle\" x=\"121\" y=\"-19.8\">dense_2: Dense</text>\n",
       "<polyline fill=\"none\" points=\"172,-.5 172,-46.5 \" stroke=\"#000000\"/>\n",
       "<text fill=\"#000000\" font-family=\"Times,serif\" font-size=\"14.00\" text-anchor=\"middle\" x=\"199.5\" y=\"-31.3\">input:</text>\n",
       "<polyline fill=\"none\" points=\"172,-23.5 227,-23.5 \" stroke=\"#000000\"/>\n",
       "<text fill=\"#000000\" font-family=\"Times,serif\" font-size=\"14.00\" text-anchor=\"middle\" x=\"199.5\" y=\"-8.3\">output:</text>\n",
       "<polyline fill=\"none\" points=\"227,-.5 227,-46.5 \" stroke=\"#000000\"/>\n",
       "<text fill=\"#000000\" font-family=\"Times,serif\" font-size=\"14.00\" text-anchor=\"middle\" x=\"268.5\" y=\"-31.3\">(None, 256)</text>\n",
       "<polyline fill=\"none\" points=\"227,-23.5 310,-23.5 \" stroke=\"#000000\"/>\n",
       "<text fill=\"#000000\" font-family=\"Times,serif\" font-size=\"14.00\" text-anchor=\"middle\" x=\"268.5\" y=\"-8.3\">(None, 10)</text>\n",
       "</g>\n",
       "<!-- 140176919516160&#45;&gt;140176919651776 -->\n",
       "<g class=\"edge\" id=\"edge6\">\n",
       "<title>140176919516160-&gt;140176919651776</title>\n",
       "<path d=\"M190,-83.3799C190,-75.1745 190,-65.7679 190,-56.8786\" fill=\"none\" stroke=\"#000000\"/>\n",
       "<polygon fill=\"#000000\" points=\"193.5001,-56.784 190,-46.784 186.5001,-56.784 193.5001,-56.784\" stroke=\"#000000\"/>\n",
       "</g>\n",
       "<!-- 140176997286296 -->\n",
       "<g class=\"node\" id=\"node7\">\n",
       "<title>140176997286296</title>\n",
       "<polygon fill=\"none\" points=\"131,-498.5 131,-534.5 249,-534.5 249,-498.5 131,-498.5\" stroke=\"#000000\"/>\n",
       "<text fill=\"#000000\" font-family=\"Times,serif\" font-size=\"14.00\" text-anchor=\"middle\" x=\"190\" y=\"-512.8\">140176997286296</text>\n",
       "</g>\n",
       "<!-- 140176997286296&#45;&gt;140176997166720 -->\n",
       "<g class=\"edge\" id=\"edge1\">\n",
       "<title>140176997286296-&gt;140176997166720</title>\n",
       "<path d=\"M190,-498.4092C190,-490.4308 190,-480.795 190,-471.606\" fill=\"none\" stroke=\"#000000\"/>\n",
       "<polygon fill=\"#000000\" points=\"193.5001,-471.5333 190,-461.5333 186.5001,-471.5334 193.5001,-471.5333\" stroke=\"#000000\"/>\n",
       "</g>\n",
       "</g>\n",
       "</svg>"
      ],
      "text/plain": [
       "<IPython.core.display.SVG object>"
      ]
     },
     "execution_count": 17,
     "metadata": {},
     "output_type": "execute_result"
    }
   ],
   "source": [
    "SVG(model_to_dot(model, show_shapes=True).create(prog='dot', format='svg'))"
   ]
  },
  {
   "cell_type": "code",
   "execution_count": 18,
   "metadata": {},
   "outputs": [],
   "source": [
    "model.compile(loss='categorical_crossentropy', optimizer='adam', metrics=['accuracy'])"
   ]
  },
  {
   "cell_type": "code",
   "execution_count": 19,
   "metadata": {},
   "outputs": [
    {
     "name": "stdout",
     "output_type": "stream",
     "text": [
      "Train on 48000 samples, validate on 12000 samples\n",
      "Epoch 1/10\n",
      "48000/48000 [==============================] - 5s 111us/step - loss: 0.4939 - acc: 0.8254 - val_loss: 0.3131 - val_acc: 0.8858\n",
      "Epoch 2/10\n",
      "48000/48000 [==============================] - 4s 84us/step - loss: 0.3331 - acc: 0.8812 - val_loss: 0.2743 - val_acc: 0.8990\n",
      "Epoch 3/10\n",
      "48000/48000 [==============================] - 4s 87us/step - loss: 0.2912 - acc: 0.8936 - val_loss: 0.2576 - val_acc: 0.9032\n",
      "Epoch 4/10\n",
      "48000/48000 [==============================] - 4s 84us/step - loss: 0.2653 - acc: 0.9051 - val_loss: 0.2447 - val_acc: 0.9103\n",
      "Epoch 5/10\n",
      "48000/48000 [==============================] - 4s 84us/step - loss: 0.2473 - acc: 0.9096 - val_loss: 0.2470 - val_acc: 0.9062\n",
      "Epoch 6/10\n",
      "48000/48000 [==============================] - 4s 84us/step - loss: 0.2266 - acc: 0.9175 - val_loss: 0.2418 - val_acc: 0.9136\n",
      "Epoch 7/10\n",
      "48000/48000 [==============================] - 4s 84us/step - loss: 0.2118 - acc: 0.9204 - val_loss: 0.2327 - val_acc: 0.9137\n",
      "Epoch 8/10\n",
      "48000/48000 [==============================] - 4s 86us/step - loss: 0.1988 - acc: 0.9267 - val_loss: 0.2261 - val_acc: 0.9200\n",
      "Epoch 9/10\n",
      "48000/48000 [==============================] - 4s 83us/step - loss: 0.1884 - acc: 0.9308 - val_loss: 0.2311 - val_acc: 0.9166\n",
      "Epoch 10/10\n",
      "48000/48000 [==============================] - 4s 85us/step - loss: 0.1748 - acc: 0.9342 - val_loss: 0.2442 - val_acc: 0.9151\n"
     ]
    }
   ],
   "source": [
    "!rm -rf /tmp/checkpoints\n",
    "!mkdir /tmp/checkpoints\n",
    "\n",
    "checkpointer = ModelCheckpoint('/tmp/checkpoints/weights.{epoch:02d}-{val_loss:.2f}.hdf5')\n",
    "\n",
    "history = model.fit(train_X, train_y_one_hot,\n",
    "                    batch_size=64,\n",
    "                    epochs=10,\n",
    "                    validation_data=(valid_X, valid_y_one_hot),\n",
    "                    callbacks=[checkpointer])"
   ]
  },
  {
   "cell_type": "markdown",
   "metadata": {},
   "source": [
    "## Excersize: plot learning curves and choose the best epoch"
   ]
  },
  {
   "cell_type": "code",
   "execution_count": null,
   "metadata": {},
   "outputs": [],
   "source": []
  },
  {
   "cell_type": "markdown",
   "metadata": {},
   "source": [
    "## Excersize: change model structure (add more conv->max_pool blocks)\n",
    "\n",
    "[how to do it](http://cs231n.github.io/convolutional-networks/#layerpat)"
   ]
  },
  {
   "cell_type": "code",
   "execution_count": null,
   "metadata": {},
   "outputs": [],
   "source": []
  }
 ],
 "metadata": {
  "kernelspec": {
   "display_name": "Python 3",
   "language": "python",
   "name": "python3"
  },
  "language_info": {
   "codemirror_mode": {
    "name": "ipython",
    "version": 3
   },
   "file_extension": ".py",
   "mimetype": "text/x-python",
   "name": "python",
   "nbconvert_exporter": "python",
   "pygments_lexer": "ipython3",
   "version": "3.6.5"
  }
 },
 "nbformat": 4,
 "nbformat_minor": 2
}

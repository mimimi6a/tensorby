{
 "cells": [
  {
   "cell_type": "code",
   "execution_count": 1,
   "metadata": {},
   "outputs": [
    {
     "name": "stderr",
     "output_type": "stream",
     "text": [
      "Using TensorFlow backend.\n"
     ]
    }
   ],
   "source": [
    "import numpy as np\n",
    "import pandas as pd\n",
    "\n",
    "import matplotlib.pyplot as plt\n",
    "\n",
    "from sklearn.datasets import load_boston\n",
    "from sklearn.preprocessing import StandardScaler\n",
    "from sklearn.model_selection import train_test_split, KFold, cross_val_score\n",
    "from sklearn.metrics import mean_squared_error, r2_score\n",
    "from sklearn.pipeline import Pipeline\n",
    "\n",
    "from IPython.display import SVG\n",
    "\n",
    "from keras.wrappers.scikit_learn import KerasRegressor\n",
    "from keras.models import Sequential\n",
    "from keras.layers import InputLayer, Dense, Dropout\n",
    "from keras.utils.vis_utils import model_to_dot\n",
    "from keras.callbacks import CSVLogger, ModelCheckpoint\n",
    "\n",
    "np.random.seed(1234)\n",
    "\n",
    "%matplotlib inline"
   ]
  },
  {
   "cell_type": "code",
   "execution_count": 2,
   "metadata": {},
   "outputs": [
    {
     "name": "stdout",
     "output_type": "stream",
     "text": [
      "Boston House Prices dataset\n",
      "===========================\n",
      "\n",
      "Notes\n",
      "------\n",
      "Data Set Characteristics:  \n",
      "\n",
      "    :Number of Instances: 506 \n",
      "\n",
      "    :Number of Attributes: 13 numeric/categorical predictive\n",
      "    \n",
      "    :Median Value (attribute 14) is usually the target\n",
      "\n",
      "    :Attribute Information (in order):\n",
      "        - CRIM     per capita crime rate by town\n",
      "        - ZN       proportion of residential land zoned for lots over 25,000 sq.ft.\n",
      "        - INDUS    proportion of non-retail business acres per town\n",
      "        - CHAS     Charles River dummy variable (= 1 if tract bounds river; 0 otherwise)\n",
      "        - NOX      nitric oxides concentration (parts per 10 million)\n",
      "        - RM       average number of rooms per dwelling\n",
      "        - AGE      proportion of owner-occupied units built prior to 1940\n",
      "        - DIS      weighted distances to five Boston employment centres\n",
      "        - RAD      index of accessibility to radial highways\n",
      "        - TAX      full-value property-tax rate per $10,000\n",
      "        - PTRATIO  pupil-teacher ratio by town\n",
      "        - B        1000(Bk - 0.63)^2 where Bk is the proportion of blacks by town\n",
      "        - LSTAT    % lower status of the population\n",
      "        - MEDV     Median value of owner-occupied homes in $1000's\n",
      "\n",
      "    :Missing Attribute Values: None\n",
      "\n",
      "    :Creator: Harrison, D. and Rubinfeld, D.L.\n",
      "\n",
      "This is a copy of UCI ML housing dataset.\n",
      "http://archive.ics.uci.edu/ml/datasets/Housing\n",
      "\n",
      "\n",
      "This dataset was taken from the StatLib library which is maintained at Carnegie Mellon University.\n",
      "\n",
      "The Boston house-price data of Harrison, D. and Rubinfeld, D.L. 'Hedonic\n",
      "prices and the demand for clean air', J. Environ. Economics & Management,\n",
      "vol.5, 81-102, 1978.   Used in Belsley, Kuh & Welsch, 'Regression diagnostics\n",
      "...', Wiley, 1980.   N.B. Various transformations are used in the table on\n",
      "pages 244-261 of the latter.\n",
      "\n",
      "The Boston house-price data has been used in many machine learning papers that address regression\n",
      "problems.   \n",
      "     \n",
      "**References**\n",
      "\n",
      "   - Belsley, Kuh & Welsch, 'Regression diagnostics: Identifying Influential Data and Sources of Collinearity', Wiley, 1980. 244-261.\n",
      "   - Quinlan,R. (1993). Combining Instance-Based and Model-Based Learning. In Proceedings on the Tenth International Conference of Machine Learning, 236-243, University of Massachusetts, Amherst. Morgan Kaufmann.\n",
      "   - many more! (see http://archive.ics.uci.edu/ml/datasets/Housing)\n",
      "\n"
     ]
    },
    {
     "data": {
      "text/html": [
       "<div>\n",
       "<style scoped>\n",
       "    .dataframe tbody tr th:only-of-type {\n",
       "        vertical-align: middle;\n",
       "    }\n",
       "\n",
       "    .dataframe tbody tr th {\n",
       "        vertical-align: top;\n",
       "    }\n",
       "\n",
       "    .dataframe thead th {\n",
       "        text-align: right;\n",
       "    }\n",
       "</style>\n",
       "<table border=\"1\" class=\"dataframe\">\n",
       "  <thead>\n",
       "    <tr style=\"text-align: right;\">\n",
       "      <th></th>\n",
       "      <th>CRIM</th>\n",
       "      <th>ZN</th>\n",
       "      <th>INDUS</th>\n",
       "      <th>CHAS</th>\n",
       "      <th>NOX</th>\n",
       "      <th>RM</th>\n",
       "      <th>AGE</th>\n",
       "      <th>DIS</th>\n",
       "      <th>RAD</th>\n",
       "      <th>TAX</th>\n",
       "      <th>PTRATIO</th>\n",
       "      <th>B</th>\n",
       "      <th>LSTAT</th>\n",
       "      <th>y</th>\n",
       "    </tr>\n",
       "  </thead>\n",
       "  <tbody>\n",
       "    <tr>\n",
       "      <th>0</th>\n",
       "      <td>0.00632</td>\n",
       "      <td>18.0</td>\n",
       "      <td>2.31</td>\n",
       "      <td>0.0</td>\n",
       "      <td>0.538</td>\n",
       "      <td>6.575</td>\n",
       "      <td>65.2</td>\n",
       "      <td>4.0900</td>\n",
       "      <td>1.0</td>\n",
       "      <td>296.0</td>\n",
       "      <td>15.3</td>\n",
       "      <td>396.90</td>\n",
       "      <td>4.98</td>\n",
       "      <td>24.0</td>\n",
       "    </tr>\n",
       "    <tr>\n",
       "      <th>1</th>\n",
       "      <td>0.02731</td>\n",
       "      <td>0.0</td>\n",
       "      <td>7.07</td>\n",
       "      <td>0.0</td>\n",
       "      <td>0.469</td>\n",
       "      <td>6.421</td>\n",
       "      <td>78.9</td>\n",
       "      <td>4.9671</td>\n",
       "      <td>2.0</td>\n",
       "      <td>242.0</td>\n",
       "      <td>17.8</td>\n",
       "      <td>396.90</td>\n",
       "      <td>9.14</td>\n",
       "      <td>21.6</td>\n",
       "    </tr>\n",
       "    <tr>\n",
       "      <th>2</th>\n",
       "      <td>0.02729</td>\n",
       "      <td>0.0</td>\n",
       "      <td>7.07</td>\n",
       "      <td>0.0</td>\n",
       "      <td>0.469</td>\n",
       "      <td>7.185</td>\n",
       "      <td>61.1</td>\n",
       "      <td>4.9671</td>\n",
       "      <td>2.0</td>\n",
       "      <td>242.0</td>\n",
       "      <td>17.8</td>\n",
       "      <td>392.83</td>\n",
       "      <td>4.03</td>\n",
       "      <td>34.7</td>\n",
       "    </tr>\n",
       "    <tr>\n",
       "      <th>3</th>\n",
       "      <td>0.03237</td>\n",
       "      <td>0.0</td>\n",
       "      <td>2.18</td>\n",
       "      <td>0.0</td>\n",
       "      <td>0.458</td>\n",
       "      <td>6.998</td>\n",
       "      <td>45.8</td>\n",
       "      <td>6.0622</td>\n",
       "      <td>3.0</td>\n",
       "      <td>222.0</td>\n",
       "      <td>18.7</td>\n",
       "      <td>394.63</td>\n",
       "      <td>2.94</td>\n",
       "      <td>33.4</td>\n",
       "    </tr>\n",
       "    <tr>\n",
       "      <th>4</th>\n",
       "      <td>0.06905</td>\n",
       "      <td>0.0</td>\n",
       "      <td>2.18</td>\n",
       "      <td>0.0</td>\n",
       "      <td>0.458</td>\n",
       "      <td>7.147</td>\n",
       "      <td>54.2</td>\n",
       "      <td>6.0622</td>\n",
       "      <td>3.0</td>\n",
       "      <td>222.0</td>\n",
       "      <td>18.7</td>\n",
       "      <td>396.90</td>\n",
       "      <td>5.33</td>\n",
       "      <td>36.2</td>\n",
       "    </tr>\n",
       "  </tbody>\n",
       "</table>\n",
       "</div>"
      ],
      "text/plain": [
       "      CRIM    ZN  INDUS  CHAS    NOX     RM   AGE     DIS  RAD    TAX  \\\n",
       "0  0.00632  18.0   2.31   0.0  0.538  6.575  65.2  4.0900  1.0  296.0   \n",
       "1  0.02731   0.0   7.07   0.0  0.469  6.421  78.9  4.9671  2.0  242.0   \n",
       "2  0.02729   0.0   7.07   0.0  0.469  7.185  61.1  4.9671  2.0  242.0   \n",
       "3  0.03237   0.0   2.18   0.0  0.458  6.998  45.8  6.0622  3.0  222.0   \n",
       "4  0.06905   0.0   2.18   0.0  0.458  7.147  54.2  6.0622  3.0  222.0   \n",
       "\n",
       "   PTRATIO       B  LSTAT     y  \n",
       "0     15.3  396.90   4.98  24.0  \n",
       "1     17.8  396.90   9.14  21.6  \n",
       "2     17.8  392.83   4.03  34.7  \n",
       "3     18.7  394.63   2.94  33.4  \n",
       "4     18.7  396.90   5.33  36.2  "
      ]
     },
     "execution_count": 2,
     "metadata": {},
     "output_type": "execute_result"
    }
   ],
   "source": [
    "boston = load_boston()\n",
    "\n",
    "boston_df = pd.DataFrame(boston['data'], columns=boston['feature_names'])\n",
    "boston_df['y'] = boston['target']\n",
    "\n",
    "x_cols = boston['feature_names']\n",
    "\n",
    "print(boston['DESCR'])\n",
    "boston_df.head()"
   ]
  },
  {
   "cell_type": "markdown",
   "metadata": {},
   "source": [
    "## Split data intro train, valid and test"
   ]
  },
  {
   "cell_type": "code",
   "execution_count": 3,
   "metadata": {},
   "outputs": [
    {
     "name": "stdout",
     "output_type": "stream",
     "text": [
      "#train: 323 #valid: 81 #test: 102\n"
     ]
    }
   ],
   "source": [
    "train_df, test_df = train_test_split(boston_df, test_size=0.2)\n",
    "train_df, valid_df = train_test_split(train_df, test_size=0.2)\n",
    "\n",
    "train_df = train_df.copy()\n",
    "test_df = test_df.copy()\n",
    "valid_df = valid_df.copy()\n",
    "\n",
    "print('#train:', len(train_df), '#valid:', len(valid_df), '#test:', len(test_df))"
   ]
  },
  {
   "cell_type": "markdown",
   "metadata": {},
   "source": [
    "## Let's scale our data"
   ]
  },
  {
   "cell_type": "code",
   "execution_count": 4,
   "metadata": {},
   "outputs": [
    {
     "data": {
      "text/html": [
       "<div>\n",
       "<style scoped>\n",
       "    .dataframe tbody tr th:only-of-type {\n",
       "        vertical-align: middle;\n",
       "    }\n",
       "\n",
       "    .dataframe tbody tr th {\n",
       "        vertical-align: top;\n",
       "    }\n",
       "\n",
       "    .dataframe thead th {\n",
       "        text-align: right;\n",
       "    }\n",
       "</style>\n",
       "<table border=\"1\" class=\"dataframe\">\n",
       "  <thead>\n",
       "    <tr style=\"text-align: right;\">\n",
       "      <th></th>\n",
       "      <th>CRIM</th>\n",
       "      <th>ZN</th>\n",
       "      <th>INDUS</th>\n",
       "      <th>CHAS</th>\n",
       "      <th>NOX</th>\n",
       "      <th>RM</th>\n",
       "      <th>AGE</th>\n",
       "      <th>DIS</th>\n",
       "      <th>RAD</th>\n",
       "      <th>TAX</th>\n",
       "      <th>PTRATIO</th>\n",
       "      <th>B</th>\n",
       "      <th>LSTAT</th>\n",
       "      <th>y</th>\n",
       "    </tr>\n",
       "  </thead>\n",
       "  <tbody>\n",
       "    <tr>\n",
       "      <th>28</th>\n",
       "      <td>-0.327391</td>\n",
       "      <td>-0.449163</td>\n",
       "      <td>-0.465665</td>\n",
       "      <td>-0.263698</td>\n",
       "      <td>-0.185207</td>\n",
       "      <td>0.300997</td>\n",
       "      <td>0.891137</td>\n",
       "      <td>0.390173</td>\n",
       "      <td>-0.649358</td>\n",
       "      <td>-0.608270</td>\n",
       "      <td>1.174704</td>\n",
       "      <td>0.367454</td>\n",
       "      <td>0.011949</td>\n",
       "      <td>18.4</td>\n",
       "    </tr>\n",
       "    <tr>\n",
       "      <th>171</th>\n",
       "      <td>-0.126111</td>\n",
       "      <td>-0.449163</td>\n",
       "      <td>1.226777</td>\n",
       "      <td>-0.263698</td>\n",
       "      <td>0.387726</td>\n",
       "      <td>-0.594153</td>\n",
       "      <td>0.996278</td>\n",
       "      <td>-0.681422</td>\n",
       "      <td>-0.535553</td>\n",
       "      <td>-0.040160</td>\n",
       "      <td>-1.728739</td>\n",
       "      <td>-0.042720</td>\n",
       "      <td>-0.098447</td>\n",
       "      <td>19.1</td>\n",
       "    </tr>\n",
       "    <tr>\n",
       "      <th>392</th>\n",
       "      <td>1.083986</td>\n",
       "      <td>-0.449163</td>\n",
       "      <td>1.007825</td>\n",
       "      <td>-0.263698</td>\n",
       "      <td>1.200094</td>\n",
       "      <td>-1.822618</td>\n",
       "      <td>0.985402</td>\n",
       "      <td>-1.002330</td>\n",
       "      <td>1.626742</td>\n",
       "      <td>1.516223</td>\n",
       "      <td>0.806013</td>\n",
       "      <td>0.459771</td>\n",
       "      <td>1.858573</td>\n",
       "      <td>9.7</td>\n",
       "    </tr>\n",
       "    <tr>\n",
       "      <th>497</th>\n",
       "      <td>-0.393305</td>\n",
       "      <td>-0.449163</td>\n",
       "      <td>-0.236357</td>\n",
       "      <td>-0.263698</td>\n",
       "      <td>0.216701</td>\n",
       "      <td>-0.719328</td>\n",
       "      <td>0.028252</td>\n",
       "      <td>-0.420006</td>\n",
       "      <td>-0.421748</td>\n",
       "      <td>-0.111174</td>\n",
       "      <td>0.345149</td>\n",
       "      <td>0.459771</td>\n",
       "      <td>0.198332</td>\n",
       "      <td>18.3</td>\n",
       "    </tr>\n",
       "    <tr>\n",
       "      <th>180</th>\n",
       "      <td>-0.419756</td>\n",
       "      <td>-0.449163</td>\n",
       "      <td>-1.305969</td>\n",
       "      <td>-0.263698</td>\n",
       "      <td>-0.612769</td>\n",
       "      <td>2.149516</td>\n",
       "      <td>0.488699</td>\n",
       "      <td>-0.498690</td>\n",
       "      <td>-0.763163</td>\n",
       "      <td>-1.282900</td>\n",
       "      <td>-0.300061</td>\n",
       "      <td>0.445965</td>\n",
       "      <td>-0.739317</td>\n",
       "      <td>39.8</td>\n",
       "    </tr>\n",
       "  </tbody>\n",
       "</table>\n",
       "</div>"
      ],
      "text/plain": [
       "         CRIM        ZN     INDUS      CHAS       NOX        RM       AGE  \\\n",
       "28  -0.327391 -0.449163 -0.465665 -0.263698 -0.185207  0.300997  0.891137   \n",
       "171 -0.126111 -0.449163  1.226777 -0.263698  0.387726 -0.594153  0.996278   \n",
       "392  1.083986 -0.449163  1.007825 -0.263698  1.200094 -1.822618  0.985402   \n",
       "497 -0.393305 -0.449163 -0.236357 -0.263698  0.216701 -0.719328  0.028252   \n",
       "180 -0.419756 -0.449163 -1.305969 -0.263698 -0.612769  2.149516  0.488699   \n",
       "\n",
       "          DIS       RAD       TAX   PTRATIO         B     LSTAT     y  \n",
       "28   0.390173 -0.649358 -0.608270  1.174704  0.367454  0.011949  18.4  \n",
       "171 -0.681422 -0.535553 -0.040160 -1.728739 -0.042720 -0.098447  19.1  \n",
       "392 -1.002330  1.626742  1.516223  0.806013  0.459771  1.858573   9.7  \n",
       "497 -0.420006 -0.421748 -0.111174  0.345149  0.459771  0.198332  18.3  \n",
       "180 -0.498690 -0.763163 -1.282900 -0.300061  0.445965 -0.739317  39.8  "
      ]
     },
     "execution_count": 4,
     "metadata": {},
     "output_type": "execute_result"
    }
   ],
   "source": [
    "scaller = StandardScaler()\n",
    "\n",
    "train_df[x_cols] = scaller.fit_transform(train_df[x_cols])\n",
    "test_df[x_cols] = scaller.transform(test_df[x_cols])\n",
    "valid_df[x_cols] = scaller.transform(valid_df[x_cols])\n",
    "\n",
    "train_df.head()"
   ]
  },
  {
   "cell_type": "markdown",
   "metadata": {},
   "source": [
    "## Let's back to matrices"
   ]
  },
  {
   "cell_type": "code",
   "execution_count": 5,
   "metadata": {},
   "outputs": [],
   "source": [
    "X_train, y_train = train_df[x_cols].values, train_df['y'].values\n",
    "X_test, y_test = test_df[x_cols].values, test_df['y'].values\n",
    "X_valid, y_valid = valid_df[x_cols].values, valid_df['y'].values"
   ]
  },
  {
   "cell_type": "markdown",
   "metadata": {},
   "source": [
    "## Set up network"
   ]
  },
  {
   "cell_type": "code",
   "execution_count": 6,
   "metadata": {},
   "outputs": [],
   "source": [
    "model = Sequential([\n",
    "    Dense(len(x_cols), input_dim=len(x_cols), kernel_initializer='normal', activation='relu'),\n",
    "    Dense(1, kernel_initializer='normal')\n",
    "])\n",
    "\n",
    "model.compile('adam', loss='mean_squared_error')"
   ]
  },
  {
   "cell_type": "markdown",
   "metadata": {},
   "source": [
    "### Plot the model"
   ]
  },
  {
   "cell_type": "code",
   "execution_count": 7,
   "metadata": {},
   "outputs": [
    {
     "data": {
      "image/svg+xml": [
       "<svg height=\"211pt\" viewBox=\"0.00 0.00 241.00 211.00\" width=\"241pt\" xmlns=\"http://www.w3.org/2000/svg\" xmlns:xlink=\"http://www.w3.org/1999/xlink\">\n",
       "<g class=\"graph\" id=\"graph0\" transform=\"scale(1 1) rotate(0) translate(4 207)\">\n",
       "<title>G</title>\n",
       "<polygon fill=\"#ffffff\" points=\"-4,4 -4,-207 237,-207 237,4 -4,4\" stroke=\"transparent\"/>\n",
       "<!-- 140339540208104 -->\n",
       "<g class=\"node\" id=\"node1\">\n",
       "<title>140339540208104</title>\n",
       "<polygon fill=\"none\" points=\"0,-83.5 0,-129.5 233,-129.5 233,-83.5 0,-83.5\" stroke=\"#000000\"/>\n",
       "<text fill=\"#000000\" font-family=\"Times,serif\" font-size=\"14.00\" text-anchor=\"middle\" x=\"51\" y=\"-102.8\">dense_1: Dense</text>\n",
       "<polyline fill=\"none\" points=\"102,-83.5 102,-129.5 \" stroke=\"#000000\"/>\n",
       "<text fill=\"#000000\" font-family=\"Times,serif\" font-size=\"14.00\" text-anchor=\"middle\" x=\"129.5\" y=\"-114.3\">input:</text>\n",
       "<polyline fill=\"none\" points=\"102,-106.5 157,-106.5 \" stroke=\"#000000\"/>\n",
       "<text fill=\"#000000\" font-family=\"Times,serif\" font-size=\"14.00\" text-anchor=\"middle\" x=\"129.5\" y=\"-91.3\">output:</text>\n",
       "<polyline fill=\"none\" points=\"157,-83.5 157,-129.5 \" stroke=\"#000000\"/>\n",
       "<text fill=\"#000000\" font-family=\"Times,serif\" font-size=\"14.00\" text-anchor=\"middle\" x=\"195\" y=\"-114.3\">(None, 13)</text>\n",
       "<polyline fill=\"none\" points=\"157,-106.5 233,-106.5 \" stroke=\"#000000\"/>\n",
       "<text fill=\"#000000\" font-family=\"Times,serif\" font-size=\"14.00\" text-anchor=\"middle\" x=\"195\" y=\"-91.3\">(None, 13)</text>\n",
       "</g>\n",
       "<!-- 140339539919760 -->\n",
       "<g class=\"node\" id=\"node2\">\n",
       "<title>140339539919760</title>\n",
       "<polygon fill=\"none\" points=\"0,-.5 0,-46.5 233,-46.5 233,-.5 0,-.5\" stroke=\"#000000\"/>\n",
       "<text fill=\"#000000\" font-family=\"Times,serif\" font-size=\"14.00\" text-anchor=\"middle\" x=\"51\" y=\"-19.8\">dense_2: Dense</text>\n",
       "<polyline fill=\"none\" points=\"102,-.5 102,-46.5 \" stroke=\"#000000\"/>\n",
       "<text fill=\"#000000\" font-family=\"Times,serif\" font-size=\"14.00\" text-anchor=\"middle\" x=\"129.5\" y=\"-31.3\">input:</text>\n",
       "<polyline fill=\"none\" points=\"102,-23.5 157,-23.5 \" stroke=\"#000000\"/>\n",
       "<text fill=\"#000000\" font-family=\"Times,serif\" font-size=\"14.00\" text-anchor=\"middle\" x=\"129.5\" y=\"-8.3\">output:</text>\n",
       "<polyline fill=\"none\" points=\"157,-.5 157,-46.5 \" stroke=\"#000000\"/>\n",
       "<text fill=\"#000000\" font-family=\"Times,serif\" font-size=\"14.00\" text-anchor=\"middle\" x=\"195\" y=\"-31.3\">(None, 13)</text>\n",
       "<polyline fill=\"none\" points=\"157,-23.5 233,-23.5 \" stroke=\"#000000\"/>\n",
       "<text fill=\"#000000\" font-family=\"Times,serif\" font-size=\"14.00\" text-anchor=\"middle\" x=\"195\" y=\"-8.3\">(None, 1)</text>\n",
       "</g>\n",
       "<!-- 140339540208104&#45;&gt;140339539919760 -->\n",
       "<g class=\"edge\" id=\"edge2\">\n",
       "<title>140339540208104-&gt;140339539919760</title>\n",
       "<path d=\"M116.5,-83.3799C116.5,-75.1745 116.5,-65.7679 116.5,-56.8786\" fill=\"none\" stroke=\"#000000\"/>\n",
       "<polygon fill=\"#000000\" points=\"120.0001,-56.784 116.5,-46.784 113.0001,-56.784 120.0001,-56.784\" stroke=\"#000000\"/>\n",
       "</g>\n",
       "<!-- 140339539919256 -->\n",
       "<g class=\"node\" id=\"node3\">\n",
       "<title>140339539919256</title>\n",
       "<polygon fill=\"none\" points=\"57.5,-166.5 57.5,-202.5 175.5,-202.5 175.5,-166.5 57.5,-166.5\" stroke=\"#000000\"/>\n",
       "<text fill=\"#000000\" font-family=\"Times,serif\" font-size=\"14.00\" text-anchor=\"middle\" x=\"116.5\" y=\"-180.8\">140339539919256</text>\n",
       "</g>\n",
       "<!-- 140339539919256&#45;&gt;140339540208104 -->\n",
       "<g class=\"edge\" id=\"edge1\">\n",
       "<title>140339539919256-&gt;140339540208104</title>\n",
       "<path d=\"M116.5,-166.4092C116.5,-158.4308 116.5,-148.795 116.5,-139.606\" fill=\"none\" stroke=\"#000000\"/>\n",
       "<polygon fill=\"#000000\" points=\"120.0001,-139.5333 116.5,-129.5333 113.0001,-139.5334 120.0001,-139.5333\" stroke=\"#000000\"/>\n",
       "</g>\n",
       "</g>\n",
       "</svg>"
      ],
      "text/plain": [
       "<IPython.core.display.SVG object>"
      ]
     },
     "execution_count": 7,
     "metadata": {},
     "output_type": "execute_result"
    }
   ],
   "source": [
    "SVG(model_to_dot(model, show_shapes=True).create(prog='dot', format='svg'))"
   ]
  },
  {
   "cell_type": "code",
   "execution_count": 8,
   "metadata": {},
   "outputs": [
    {
     "name": "stdout",
     "output_type": "stream",
     "text": [
      "_________________________________________________________________\n",
      "Layer (type)                 Output Shape              Param #   \n",
      "=================================================================\n",
      "dense_1 (Dense)              (None, 13)                182       \n",
      "_________________________________________________________________\n",
      "dense_2 (Dense)              (None, 1)                 14        \n",
      "=================================================================\n",
      "Total params: 196\n",
      "Trainable params: 196\n",
      "Non-trainable params: 0\n",
      "_________________________________________________________________\n"
     ]
    }
   ],
   "source": [
    "model.summary()"
   ]
  },
  {
   "cell_type": "code",
   "execution_count": 9,
   "metadata": {
    "scrolled": true
   },
   "outputs": [
    {
     "name": "stdout",
     "output_type": "stream",
     "text": [
      "Train on 323 samples, validate on 81 samples\n",
      "Epoch 1/600\n",
      "323/323 [==============================] - 1s 2ms/step - loss: 565.9739 - val_loss: 632.1962\n",
      "Epoch 2/600\n",
      "323/323 [==============================] - 0s 74us/step - loss: 562.4569 - val_loss: 627.4589\n",
      "Epoch 3/600\n",
      "323/323 [==============================] - 0s 79us/step - loss: 557.1389 - val_loss: 620.3053\n",
      "Epoch 4/600\n",
      "323/323 [==============================] - 0s 75us/step - loss: 549.1642 - val_loss: 610.3551\n",
      "Epoch 5/600\n",
      "323/323 [==============================] - 0s 74us/step - loss: 538.5475 - val_loss: 596.7493\n",
      "Epoch 6/600\n",
      "323/323 [==============================] - 0s 74us/step - loss: 524.8892 - val_loss: 580.3748\n",
      "Epoch 7/600\n",
      "323/323 [==============================] - 0s 73us/step - loss: 508.5978 - val_loss: 560.6034\n",
      "Epoch 8/600\n",
      "323/323 [==============================] - 0s 77us/step - loss: 489.2981 - val_loss: 538.7389\n",
      "Epoch 9/600\n",
      "323/323 [==============================] - 0s 73us/step - loss: 467.6881 - val_loss: 513.8119\n",
      "Epoch 10/600\n",
      "323/323 [==============================] - 0s 73us/step - loss: 444.0491 - val_loss: 485.8488\n",
      "Epoch 11/600\n",
      "323/323 [==============================] - 0s 72us/step - loss: 417.5551 - val_loss: 456.7959\n",
      "Epoch 12/600\n",
      "323/323 [==============================] - 0s 74us/step - loss: 391.0674 - val_loss: 427.6527\n",
      "Epoch 13/600\n",
      "323/323 [==============================] - 0s 76us/step - loss: 363.5404 - val_loss: 397.1068\n",
      "Epoch 14/600\n",
      "323/323 [==============================] - 0s 74us/step - loss: 335.0758 - val_loss: 365.4806\n",
      "Epoch 15/600\n",
      "323/323 [==============================] - 0s 72us/step - loss: 306.0463 - val_loss: 334.5757\n",
      "Epoch 16/600\n",
      "323/323 [==============================] - 0s 72us/step - loss: 277.6882 - val_loss: 302.7655\n",
      "Epoch 17/600\n",
      "323/323 [==============================] - 0s 75us/step - loss: 250.1090 - val_loss: 274.0779\n",
      "Epoch 18/600\n",
      "323/323 [==============================] - 0s 77us/step - loss: 224.4758 - val_loss: 247.4350\n",
      "Epoch 19/600\n",
      "323/323 [==============================] - 0s 73us/step - loss: 201.0922 - val_loss: 221.8312\n",
      "Epoch 20/600\n",
      "323/323 [==============================] - 0s 72us/step - loss: 178.3923 - val_loss: 200.2152\n",
      "Epoch 21/600\n",
      "323/323 [==============================] - 0s 72us/step - loss: 159.0804 - val_loss: 179.1544\n",
      "Epoch 22/600\n",
      "323/323 [==============================] - 0s 72us/step - loss: 141.5554 - val_loss: 161.6018\n",
      "Epoch 23/600\n",
      "323/323 [==============================] - 0s 78us/step - loss: 126.3970 - val_loss: 146.9146\n",
      "Epoch 24/600\n",
      "323/323 [==============================] - 0s 72us/step - loss: 113.4385 - val_loss: 133.6486\n",
      "Epoch 25/600\n",
      "323/323 [==============================] - 0s 72us/step - loss: 101.9305 - val_loss: 122.5877\n",
      "Epoch 26/600\n",
      "323/323 [==============================] - 0s 72us/step - loss: 92.1244 - val_loss: 112.8553\n",
      "Epoch 27/600\n",
      "323/323 [==============================] - 0s 72us/step - loss: 83.5968 - val_loss: 104.6556\n",
      "Epoch 28/600\n",
      "323/323 [==============================] - 0s 77us/step - loss: 76.4576 - val_loss: 97.6628\n",
      "Epoch 29/600\n",
      "323/323 [==============================] - 0s 72us/step - loss: 70.6949 - val_loss: 91.1283\n",
      "Epoch 30/600\n",
      "323/323 [==============================] - 0s 87us/step - loss: 65.1604 - val_loss: 86.0338\n",
      "Epoch 31/600\n",
      "323/323 [==============================] - 0s 73us/step - loss: 60.7621 - val_loss: 81.1826\n",
      "Epoch 32/600\n",
      "323/323 [==============================] - 0s 74us/step - loss: 56.5436 - val_loss: 76.7515\n",
      "Epoch 33/600\n",
      "323/323 [==============================] - 0s 76us/step - loss: 52.8102 - val_loss: 72.9279\n",
      "Epoch 34/600\n",
      "323/323 [==============================] - 0s 76us/step - loss: 49.7048 - val_loss: 69.1760\n",
      "Epoch 35/600\n",
      "323/323 [==============================] - 0s 76us/step - loss: 46.8013 - val_loss: 66.2790\n",
      "Epoch 36/600\n",
      "323/323 [==============================] - 0s 72us/step - loss: 44.3633 - val_loss: 63.4931\n",
      "Epoch 37/600\n",
      "323/323 [==============================] - 0s 74us/step - loss: 42.1816 - val_loss: 61.2335\n",
      "Epoch 38/600\n",
      "323/323 [==============================] - 0s 85us/step - loss: 40.3252 - val_loss: 58.8973\n",
      "Epoch 39/600\n",
      "323/323 [==============================] - 0s 75us/step - loss: 38.5760 - val_loss: 56.9184\n",
      "Epoch 40/600\n",
      "323/323 [==============================] - 0s 74us/step - loss: 37.0949 - val_loss: 55.0368\n",
      "Epoch 41/600\n",
      "323/323 [==============================] - 0s 73us/step - loss: 35.6905 - val_loss: 53.4073\n",
      "Epoch 42/600\n",
      "323/323 [==============================] - 0s 81us/step - loss: 34.5358 - val_loss: 51.9329\n",
      "Epoch 43/600\n",
      "323/323 [==============================] - 0s 74us/step - loss: 33.4133 - val_loss: 50.5984\n",
      "Epoch 44/600\n",
      "323/323 [==============================] - 0s 74us/step - loss: 32.4692 - val_loss: 49.3061\n",
      "Epoch 45/600\n",
      "323/323 [==============================] - 0s 72us/step - loss: 31.4977 - val_loss: 48.1483\n",
      "Epoch 46/600\n",
      "323/323 [==============================] - 0s 73us/step - loss: 30.7179 - val_loss: 47.1516\n",
      "Epoch 47/600\n",
      "323/323 [==============================] - 0s 76us/step - loss: 30.0407 - val_loss: 46.2458\n",
      "Epoch 48/600\n",
      "323/323 [==============================] - 0s 73us/step - loss: 29.3982 - val_loss: 45.4160\n",
      "Epoch 49/600\n",
      "323/323 [==============================] - 0s 73us/step - loss: 28.8552 - val_loss: 44.7201\n",
      "Epoch 50/600\n",
      "323/323 [==============================] - 0s 72us/step - loss: 28.3331 - val_loss: 44.0177\n",
      "Epoch 51/600\n",
      "323/323 [==============================] - 0s 71us/step - loss: 27.8574 - val_loss: 43.4004\n",
      "Epoch 52/600\n",
      "323/323 [==============================] - 0s 75us/step - loss: 27.4318 - val_loss: 42.8080\n",
      "Epoch 53/600\n",
      "323/323 [==============================] - 0s 79us/step - loss: 27.0588 - val_loss: 42.2773\n",
      "Epoch 54/600\n",
      "323/323 [==============================] - 0s 73us/step - loss: 26.6307 - val_loss: 41.7826\n",
      "Epoch 55/600\n",
      "323/323 [==============================] - 0s 76us/step - loss: 26.2667 - val_loss: 41.3414\n",
      "Epoch 56/600\n",
      "323/323 [==============================] - 0s 73us/step - loss: 25.9715 - val_loss: 40.8984\n",
      "Epoch 57/600\n",
      "323/323 [==============================] - 0s 79us/step - loss: 25.6662 - val_loss: 40.4938\n",
      "Epoch 58/600\n",
      "323/323 [==============================] - 0s 74us/step - loss: 25.3932 - val_loss: 40.0849\n",
      "Epoch 59/600\n",
      "323/323 [==============================] - 0s 72us/step - loss: 25.1210 - val_loss: 39.5517\n",
      "Epoch 60/600\n",
      "323/323 [==============================] - 0s 73us/step - loss: 24.8201 - val_loss: 39.2074\n",
      "Epoch 61/600\n",
      "323/323 [==============================] - 0s 72us/step - loss: 24.5881 - val_loss: 38.9096\n",
      "Epoch 62/600\n",
      "323/323 [==============================] - 0s 76us/step - loss: 24.3703 - val_loss: 38.5656\n",
      "Epoch 63/600\n",
      "323/323 [==============================] - 0s 73us/step - loss: 24.1349 - val_loss: 38.1471\n",
      "Epoch 64/600\n",
      "323/323 [==============================] - 0s 73us/step - loss: 23.9577 - val_loss: 37.7293\n",
      "Epoch 65/600\n",
      "323/323 [==============================] - 0s 72us/step - loss: 23.7780 - val_loss: 37.5288\n",
      "Epoch 66/600\n",
      "323/323 [==============================] - 0s 73us/step - loss: 23.5851 - val_loss: 37.1988\n",
      "Epoch 67/600\n",
      "323/323 [==============================] - 0s 74us/step - loss: 23.3764 - val_loss: 36.9711\n",
      "Epoch 68/600\n",
      "323/323 [==============================] - 0s 75us/step - loss: 23.1910 - val_loss: 36.7891\n",
      "Epoch 69/600\n",
      "323/323 [==============================] - 0s 71us/step - loss: 23.0186 - val_loss: 36.6010\n",
      "Epoch 70/600\n",
      "323/323 [==============================] - 0s 71us/step - loss: 22.8683 - val_loss: 36.3520\n",
      "Epoch 71/600\n",
      "323/323 [==============================] - 0s 72us/step - loss: 22.6906 - val_loss: 36.1751\n",
      "Epoch 72/600\n",
      "323/323 [==============================] - 0s 79us/step - loss: 22.5436 - val_loss: 35.9700\n",
      "Epoch 73/600\n",
      "323/323 [==============================] - 0s 76us/step - loss: 22.4236 - val_loss: 35.7357\n",
      "Epoch 74/600\n",
      "323/323 [==============================] - 0s 76us/step - loss: 22.2691 - val_loss: 35.5560\n",
      "Epoch 75/600\n",
      "323/323 [==============================] - 0s 72us/step - loss: 22.1141 - val_loss: 35.3594\n",
      "Epoch 76/600\n",
      "323/323 [==============================] - 0s 72us/step - loss: 21.9851 - val_loss: 35.2807\n",
      "Epoch 77/600\n",
      "323/323 [==============================] - 0s 77us/step - loss: 21.8460 - val_loss: 35.0282\n",
      "Epoch 78/600\n"
     ]
    },
    {
     "name": "stdout",
     "output_type": "stream",
     "text": [
      "323/323 [==============================] - 0s 74us/step - loss: 21.7258 - val_loss: 34.8719\n",
      "Epoch 79/600\n",
      "323/323 [==============================] - 0s 72us/step - loss: 21.5997 - val_loss: 34.6706\n",
      "Epoch 80/600\n",
      "323/323 [==============================] - 0s 73us/step - loss: 21.4637 - val_loss: 34.5112\n",
      "Epoch 81/600\n",
      "323/323 [==============================] - 0s 72us/step - loss: 21.3731 - val_loss: 34.4278\n",
      "Epoch 82/600\n",
      "323/323 [==============================] - 0s 74us/step - loss: 21.2369 - val_loss: 34.2041\n",
      "Epoch 83/600\n",
      "323/323 [==============================] - 0s 79us/step - loss: 21.1406 - val_loss: 33.9855\n",
      "Epoch 84/600\n",
      "323/323 [==============================] - 0s 74us/step - loss: 21.0129 - val_loss: 33.8805\n",
      "Epoch 85/600\n",
      "323/323 [==============================] - 0s 71us/step - loss: 20.9249 - val_loss: 33.7195\n",
      "Epoch 86/600\n",
      "323/323 [==============================] - 0s 74us/step - loss: 20.7608 - val_loss: 33.6589\n",
      "Epoch 87/600\n",
      "323/323 [==============================] - 0s 76us/step - loss: 20.7339 - val_loss: 33.5974\n",
      "Epoch 88/600\n",
      "323/323 [==============================] - 0s 73us/step - loss: 20.6040 - val_loss: 33.4011\n",
      "Epoch 89/600\n",
      "323/323 [==============================] - 0s 73us/step - loss: 20.4843 - val_loss: 33.2019\n",
      "Epoch 90/600\n",
      "323/323 [==============================] - 0s 72us/step - loss: 20.4049 - val_loss: 33.1022\n",
      "Epoch 91/600\n",
      "323/323 [==============================] - 0s 73us/step - loss: 20.2753 - val_loss: 32.9686\n",
      "Epoch 92/600\n",
      "323/323 [==============================] - 0s 76us/step - loss: 20.1876 - val_loss: 32.8230\n",
      "Epoch 93/600\n",
      "323/323 [==============================] - 0s 71us/step - loss: 20.1008 - val_loss: 32.6961\n",
      "Epoch 94/600\n",
      "323/323 [==============================] - 0s 72us/step - loss: 20.0145 - val_loss: 32.6067\n",
      "Epoch 95/600\n",
      "323/323 [==============================] - 0s 75us/step - loss: 19.9152 - val_loss: 32.4803\n",
      "Epoch 96/600\n",
      "323/323 [==============================] - 0s 74us/step - loss: 19.8642 - val_loss: 32.2161\n",
      "Epoch 97/600\n",
      "323/323 [==============================] - 0s 77us/step - loss: 19.7237 - val_loss: 32.1448\n",
      "Epoch 98/600\n",
      "323/323 [==============================] - 0s 72us/step - loss: 19.6126 - val_loss: 31.9978\n",
      "Epoch 99/600\n",
      "323/323 [==============================] - 0s 74us/step - loss: 19.5195 - val_loss: 31.8055\n",
      "Epoch 100/600\n",
      "323/323 [==============================] - 0s 79us/step - loss: 19.4438 - val_loss: 31.7241\n",
      "Epoch 101/600\n",
      "323/323 [==============================] - 0s 76us/step - loss: 19.3429 - val_loss: 31.5913\n",
      "Epoch 102/600\n",
      "323/323 [==============================] - 0s 76us/step - loss: 19.2390 - val_loss: 31.5830\n",
      "Epoch 103/600\n",
      "323/323 [==============================] - 0s 73us/step - loss: 19.1030 - val_loss: 31.5590\n",
      "Epoch 104/600\n",
      "323/323 [==============================] - 0s 73us/step - loss: 19.0053 - val_loss: 31.4207\n",
      "Epoch 105/600\n",
      "323/323 [==============================] - 0s 73us/step - loss: 18.9020 - val_loss: 31.3506\n",
      "Epoch 106/600\n",
      "323/323 [==============================] - 0s 72us/step - loss: 18.8222 - val_loss: 31.1796\n",
      "Epoch 107/600\n",
      "323/323 [==============================] - 0s 76us/step - loss: 18.7396 - val_loss: 31.0747\n",
      "Epoch 108/600\n",
      "323/323 [==============================] - 0s 73us/step - loss: 18.6689 - val_loss: 31.0383\n",
      "Epoch 109/600\n",
      "323/323 [==============================] - 0s 71us/step - loss: 18.5488 - val_loss: 30.9261\n",
      "Epoch 110/600\n",
      "323/323 [==============================] - 0s 73us/step - loss: 18.4795 - val_loss: 30.8093\n",
      "Epoch 111/600\n",
      "323/323 [==============================] - 0s 73us/step - loss: 18.3970 - val_loss: 30.6212\n",
      "Epoch 112/600\n",
      "323/323 [==============================] - 0s 77us/step - loss: 18.3202 - val_loss: 30.4121\n",
      "Epoch 113/600\n",
      "323/323 [==============================] - 0s 72us/step - loss: 18.2095 - val_loss: 30.3622\n",
      "Epoch 114/600\n",
      "323/323 [==============================] - 0s 74us/step - loss: 18.1508 - val_loss: 30.2686\n",
      "Epoch 115/600\n",
      "323/323 [==============================] - 0s 73us/step - loss: 18.0429 - val_loss: 30.0711\n",
      "Epoch 116/600\n",
      "323/323 [==============================] - 0s 74us/step - loss: 17.9576 - val_loss: 29.9475\n",
      "Epoch 117/600\n",
      "323/323 [==============================] - 0s 77us/step - loss: 17.8709 - val_loss: 29.8745\n",
      "Epoch 118/600\n",
      "323/323 [==============================] - 0s 72us/step - loss: 17.8193 - val_loss: 29.8311\n",
      "Epoch 119/600\n",
      "323/323 [==============================] - 0s 71us/step - loss: 17.7011 - val_loss: 29.6945\n",
      "Epoch 120/600\n",
      "323/323 [==============================] - 0s 71us/step - loss: 17.6346 - val_loss: 29.5650\n",
      "Epoch 121/600\n",
      "323/323 [==============================] - 0s 73us/step - loss: 17.5543 - val_loss: 29.4364\n",
      "Epoch 122/600\n",
      "323/323 [==============================] - 0s 74us/step - loss: 17.4597 - val_loss: 29.4464\n",
      "Epoch 123/600\n",
      "323/323 [==============================] - 0s 74us/step - loss: 17.3990 - val_loss: 29.4261\n",
      "Epoch 124/600\n",
      "323/323 [==============================] - 0s 77us/step - loss: 17.3192 - val_loss: 29.2293\n",
      "Epoch 125/600\n",
      "323/323 [==============================] - 0s 72us/step - loss: 17.2518 - val_loss: 29.1968\n",
      "Epoch 126/600\n",
      "323/323 [==============================] - 0s 73us/step - loss: 17.1500 - val_loss: 28.9433\n",
      "Epoch 127/600\n",
      "323/323 [==============================] - 0s 77us/step - loss: 17.0552 - val_loss: 28.8082\n",
      "Epoch 128/600\n",
      "323/323 [==============================] - 0s 75us/step - loss: 16.9988 - val_loss: 28.7138\n",
      "Epoch 129/600\n",
      "323/323 [==============================] - 0s 72us/step - loss: 16.9024 - val_loss: 28.5658\n",
      "Epoch 130/600\n",
      "323/323 [==============================] - 0s 71us/step - loss: 16.8367 - val_loss: 28.5201\n",
      "Epoch 131/600\n",
      "323/323 [==============================] - 0s 73us/step - loss: 16.7733 - val_loss: 28.4675\n",
      "Epoch 132/600\n",
      "323/323 [==============================] - 0s 86us/step - loss: 16.7010 - val_loss: 28.2169\n",
      "Epoch 133/600\n",
      "323/323 [==============================] - 0s 73us/step - loss: 16.5904 - val_loss: 27.9132\n",
      "Epoch 134/600\n",
      "323/323 [==============================] - 0s 72us/step - loss: 16.5417 - val_loss: 27.8441\n",
      "Epoch 135/600\n",
      "323/323 [==============================] - 0s 73us/step - loss: 16.4541 - val_loss: 27.7721\n",
      "Epoch 136/600\n",
      "323/323 [==============================] - 0s 73us/step - loss: 16.3879 - val_loss: 27.7202\n",
      "Epoch 137/600\n",
      "323/323 [==============================] - 0s 75us/step - loss: 16.3090 - val_loss: 27.5830\n",
      "Epoch 138/600\n",
      "323/323 [==============================] - 0s 74us/step - loss: 16.2727 - val_loss: 27.5780\n",
      "Epoch 139/600\n",
      "323/323 [==============================] - 0s 74us/step - loss: 16.1502 - val_loss: 27.4797\n",
      "Epoch 140/600\n",
      "323/323 [==============================] - 0s 72us/step - loss: 16.1410 - val_loss: 27.4825\n",
      "Epoch 141/600\n",
      "323/323 [==============================] - 0s 76us/step - loss: 15.9899 - val_loss: 27.2347\n",
      "Epoch 142/600\n",
      "323/323 [==============================] - 0s 75us/step - loss: 15.9455 - val_loss: 27.0352\n",
      "Epoch 143/600\n",
      "323/323 [==============================] - 0s 73us/step - loss: 15.9023 - val_loss: 26.9780\n",
      "Epoch 144/600\n",
      "323/323 [==============================] - 0s 71us/step - loss: 15.8246 - val_loss: 26.9790\n",
      "Epoch 145/600\n",
      "323/323 [==============================] - 0s 72us/step - loss: 15.7370 - val_loss: 26.9075\n",
      "Epoch 146/600\n",
      "323/323 [==============================] - 0s 74us/step - loss: 15.6614 - val_loss: 26.7618\n",
      "Epoch 147/600\n",
      "323/323 [==============================] - 0s 75us/step - loss: 15.6147 - val_loss: 26.6497\n",
      "Epoch 148/600\n",
      "323/323 [==============================] - 0s 71us/step - loss: 15.5397 - val_loss: 26.5859\n",
      "Epoch 149/600\n",
      "323/323 [==============================] - 0s 71us/step - loss: 15.4854 - val_loss: 26.4717\n",
      "Epoch 150/600\n",
      "323/323 [==============================] - 0s 71us/step - loss: 15.4120 - val_loss: 26.3543\n",
      "Epoch 151/600\n",
      "323/323 [==============================] - 0s 76us/step - loss: 15.3400 - val_loss: 26.3041\n",
      "Epoch 152/600\n",
      "323/323 [==============================] - 0s 77us/step - loss: 15.2640 - val_loss: 26.2719\n",
      "Epoch 153/600\n",
      "323/323 [==============================] - 0s 74us/step - loss: 15.2330 - val_loss: 26.1555\n",
      "Epoch 154/600\n",
      "323/323 [==============================] - 0s 72us/step - loss: 15.1443 - val_loss: 26.1225\n",
      "Epoch 155/600\n"
     ]
    },
    {
     "name": "stdout",
     "output_type": "stream",
     "text": [
      "323/323 [==============================] - 0s 71us/step - loss: 15.1112 - val_loss: 26.0282\n",
      "Epoch 156/600\n",
      "323/323 [==============================] - 0s 74us/step - loss: 15.0229 - val_loss: 26.0342\n",
      "Epoch 157/600\n",
      "323/323 [==============================] - 0s 73us/step - loss: 14.9721 - val_loss: 25.9094\n",
      "Epoch 158/600\n",
      "323/323 [==============================] - 0s 74us/step - loss: 14.9333 - val_loss: 25.8198\n",
      "Epoch 159/600\n",
      "323/323 [==============================] - 0s 74us/step - loss: 14.8557 - val_loss: 25.7021\n",
      "Epoch 160/600\n",
      "323/323 [==============================] - 0s 72us/step - loss: 14.7834 - val_loss: 25.6673\n",
      "Epoch 161/600\n",
      "323/323 [==============================] - 0s 75us/step - loss: 14.7363 - val_loss: 25.5646\n",
      "Epoch 162/600\n",
      "323/323 [==============================] - 0s 75us/step - loss: 14.7095 - val_loss: 25.4592\n",
      "Epoch 163/600\n",
      "323/323 [==============================] - 0s 78us/step - loss: 14.6361 - val_loss: 25.3736\n",
      "Epoch 164/600\n",
      "323/323 [==============================] - 0s 73us/step - loss: 14.5792 - val_loss: 25.2277\n",
      "Epoch 165/600\n",
      "323/323 [==============================] - 0s 79us/step - loss: 14.5204 - val_loss: 25.1728\n",
      "Epoch 166/600\n",
      "323/323 [==============================] - 0s 74us/step - loss: 14.4578 - val_loss: 25.0563\n",
      "Epoch 167/600\n",
      "323/323 [==============================] - 0s 74us/step - loss: 14.3998 - val_loss: 25.0075\n",
      "Epoch 168/600\n",
      "323/323 [==============================] - 0s 73us/step - loss: 14.3323 - val_loss: 24.9107\n",
      "Epoch 169/600\n",
      "323/323 [==============================] - 0s 74us/step - loss: 14.2893 - val_loss: 24.8504\n",
      "Epoch 170/600\n",
      "323/323 [==============================] - 0s 72us/step - loss: 14.2777 - val_loss: 24.7984\n",
      "Epoch 171/600\n",
      "323/323 [==============================] - 0s 73us/step - loss: 14.2215 - val_loss: 24.7499\n",
      "Epoch 172/600\n",
      "323/323 [==============================] - 0s 74us/step - loss: 14.1218 - val_loss: 24.6339\n",
      "Epoch 173/600\n",
      "323/323 [==============================] - 0s 72us/step - loss: 14.0872 - val_loss: 24.6132\n",
      "Epoch 174/600\n",
      "323/323 [==============================] - 0s 73us/step - loss: 14.0331 - val_loss: 24.5952\n",
      "Epoch 175/600\n",
      "323/323 [==============================] - 0s 72us/step - loss: 13.9795 - val_loss: 24.4227\n",
      "Epoch 176/600\n",
      "323/323 [==============================] - 0s 75us/step - loss: 13.9218 - val_loss: 24.3490\n",
      "Epoch 177/600\n",
      "323/323 [==============================] - 0s 76us/step - loss: 13.8690 - val_loss: 24.1897\n",
      "Epoch 178/600\n",
      "323/323 [==============================] - 0s 72us/step - loss: 13.7874 - val_loss: 24.1212\n",
      "Epoch 179/600\n",
      "323/323 [==============================] - 0s 72us/step - loss: 13.7332 - val_loss: 24.0971\n",
      "Epoch 180/600\n",
      "323/323 [==============================] - 0s 74us/step - loss: 13.6647 - val_loss: 24.0178\n",
      "Epoch 181/600\n",
      "323/323 [==============================] - 0s 73us/step - loss: 13.6568 - val_loss: 24.0529\n",
      "Epoch 182/600\n",
      "323/323 [==============================] - 0s 77us/step - loss: 13.5727 - val_loss: 23.6279\n",
      "Epoch 183/600\n",
      "323/323 [==============================] - 0s 73us/step - loss: 13.4911 - val_loss: 23.5797\n",
      "Epoch 184/600\n",
      "323/323 [==============================] - 0s 72us/step - loss: 13.4080 - val_loss: 23.3202\n",
      "Epoch 185/600\n",
      "323/323 [==============================] - 0s 74us/step - loss: 13.4005 - val_loss: 23.2490\n",
      "Epoch 186/600\n",
      "323/323 [==============================] - 0s 75us/step - loss: 13.3344 - val_loss: 23.3084\n",
      "Epoch 187/600\n",
      "323/323 [==============================] - 0s 73us/step - loss: 13.2822 - val_loss: 23.3612\n",
      "Epoch 188/600\n",
      "323/323 [==============================] - 0s 71us/step - loss: 13.2055 - val_loss: 23.2687\n",
      "Epoch 189/600\n",
      "323/323 [==============================] - 0s 76us/step - loss: 13.1390 - val_loss: 23.1661\n",
      "Epoch 190/600\n",
      "323/323 [==============================] - 0s 72us/step - loss: 13.1049 - val_loss: 23.1298\n",
      "Epoch 191/600\n",
      "323/323 [==============================] - 0s 76us/step - loss: 13.0460 - val_loss: 23.0693\n",
      "Epoch 192/600\n",
      "323/323 [==============================] - 0s 75us/step - loss: 13.0219 - val_loss: 22.9859\n",
      "Epoch 193/600\n",
      "323/323 [==============================] - 0s 75us/step - loss: 12.9696 - val_loss: 22.9294\n",
      "Epoch 194/600\n",
      "323/323 [==============================] - 0s 72us/step - loss: 12.8778 - val_loss: 22.9094\n",
      "Epoch 195/600\n",
      "323/323 [==============================] - 0s 73us/step - loss: 12.8417 - val_loss: 22.7230\n",
      "Epoch 196/600\n",
      "323/323 [==============================] - 0s 76us/step - loss: 12.8109 - val_loss: 22.6629\n",
      "Epoch 197/600\n",
      "323/323 [==============================] - 0s 74us/step - loss: 12.7640 - val_loss: 22.5910\n",
      "Epoch 198/600\n",
      "323/323 [==============================] - 0s 71us/step - loss: 12.6582 - val_loss: 22.5331\n",
      "Epoch 199/600\n",
      "323/323 [==============================] - 0s 73us/step - loss: 12.6309 - val_loss: 22.5411\n",
      "Epoch 200/600\n",
      "323/323 [==============================] - 0s 72us/step - loss: 12.5929 - val_loss: 22.4919\n",
      "Epoch 201/600\n",
      "323/323 [==============================] - 0s 76us/step - loss: 12.5332 - val_loss: 22.3599\n",
      "Epoch 202/600\n",
      "323/323 [==============================] - 0s 75us/step - loss: 12.4574 - val_loss: 22.2863\n",
      "Epoch 203/600\n",
      "323/323 [==============================] - 0s 71us/step - loss: 12.4146 - val_loss: 22.2431\n",
      "Epoch 204/600\n",
      "323/323 [==============================] - 0s 72us/step - loss: 12.3672 - val_loss: 22.1874\n",
      "Epoch 205/600\n",
      "323/323 [==============================] - 0s 73us/step - loss: 12.3161 - val_loss: 22.1234\n",
      "Epoch 206/600\n",
      "323/323 [==============================] - 0s 78us/step - loss: 12.2869 - val_loss: 22.0754\n",
      "Epoch 207/600\n",
      "323/323 [==============================] - 0s 75us/step - loss: 12.2374 - val_loss: 22.0109\n",
      "Epoch 208/600\n",
      "323/323 [==============================] - 0s 75us/step - loss: 12.1650 - val_loss: 21.8833\n",
      "Epoch 209/600\n",
      "323/323 [==============================] - 0s 72us/step - loss: 12.1407 - val_loss: 21.8865\n",
      "Epoch 210/600\n",
      "323/323 [==============================] - 0s 73us/step - loss: 12.1207 - val_loss: 21.8485\n",
      "Epoch 211/600\n",
      "323/323 [==============================] - 0s 77us/step - loss: 12.0536 - val_loss: 21.7388\n",
      "Epoch 212/600\n",
      "323/323 [==============================] - 0s 72us/step - loss: 12.0037 - val_loss: 21.7780\n",
      "Epoch 213/600\n",
      "323/323 [==============================] - 0s 73us/step - loss: 11.9752 - val_loss: 21.6720\n",
      "Epoch 214/600\n",
      "323/323 [==============================] - 0s 73us/step - loss: 11.9161 - val_loss: 21.6394\n",
      "Epoch 215/600\n",
      "323/323 [==============================] - 0s 74us/step - loss: 11.8797 - val_loss: 21.6219\n",
      "Epoch 216/600\n",
      "323/323 [==============================] - 0s 78us/step - loss: 11.8340 - val_loss: 21.5142\n",
      "Epoch 217/600\n",
      "323/323 [==============================] - 0s 73us/step - loss: 11.7801 - val_loss: 21.5382\n",
      "Epoch 218/600\n",
      "323/323 [==============================] - 0s 74us/step - loss: 11.7515 - val_loss: 21.4738\n",
      "Epoch 219/600\n",
      "323/323 [==============================] - 0s 74us/step - loss: 11.7155 - val_loss: 21.3131\n",
      "Epoch 220/600\n",
      "323/323 [==============================] - 0s 73us/step - loss: 11.6585 - val_loss: 21.2594\n",
      "Epoch 221/600\n",
      "323/323 [==============================] - 0s 78us/step - loss: 11.6192 - val_loss: 21.1977\n",
      "Epoch 222/600\n",
      "323/323 [==============================] - 0s 73us/step - loss: 11.5909 - val_loss: 21.1322\n",
      "Epoch 223/600\n",
      "323/323 [==============================] - 0s 72us/step - loss: 11.5614 - val_loss: 21.0795\n",
      "Epoch 224/600\n",
      "323/323 [==============================] - 0s 73us/step - loss: 11.5069 - val_loss: 20.9816\n",
      "Epoch 225/600\n",
      "323/323 [==============================] - 0s 75us/step - loss: 11.5053 - val_loss: 21.0744\n",
      "Epoch 226/600\n",
      "323/323 [==============================] - 0s 78us/step - loss: 11.4562 - val_loss: 20.9899\n",
      "Epoch 227/600\n",
      "323/323 [==============================] - 0s 72us/step - loss: 11.4058 - val_loss: 20.7710\n",
      "Epoch 228/600\n",
      "323/323 [==============================] - 0s 73us/step - loss: 11.3675 - val_loss: 20.7938\n",
      "Epoch 229/600\n",
      "323/323 [==============================] - 0s 76us/step - loss: 11.3125 - val_loss: 20.6755\n",
      "Epoch 230/600\n",
      "323/323 [==============================] - 0s 73us/step - loss: 11.3143 - val_loss: 20.6380\n",
      "Epoch 231/600\n",
      "323/323 [==============================] - 0s 75us/step - loss: 11.2547 - val_loss: 20.5838\n",
      "Epoch 232/600\n"
     ]
    },
    {
     "name": "stdout",
     "output_type": "stream",
     "text": [
      "323/323 [==============================] - 0s 74us/step - loss: 11.2491 - val_loss: 20.3435\n",
      "Epoch 233/600\n",
      "323/323 [==============================] - 0s 73us/step - loss: 11.1516 - val_loss: 20.3464\n",
      "Epoch 234/600\n",
      "323/323 [==============================] - 0s 74us/step - loss: 11.1140 - val_loss: 20.3226\n",
      "Epoch 235/600\n",
      "323/323 [==============================] - 0s 74us/step - loss: 11.0733 - val_loss: 20.4460\n",
      "Epoch 236/600\n",
      "323/323 [==============================] - 0s 76us/step - loss: 11.0691 - val_loss: 20.3841\n",
      "Epoch 237/600\n",
      "323/323 [==============================] - 0s 73us/step - loss: 11.0213 - val_loss: 20.2859\n",
      "Epoch 238/600\n",
      "323/323 [==============================] - 0s 73us/step - loss: 10.9684 - val_loss: 20.2683\n",
      "Epoch 239/600\n",
      "323/323 [==============================] - 0s 74us/step - loss: 10.9517 - val_loss: 20.3918\n",
      "Epoch 240/600\n",
      "323/323 [==============================] - 0s 74us/step - loss: 10.9248 - val_loss: 20.1465\n",
      "Epoch 241/600\n",
      "323/323 [==============================] - 0s 76us/step - loss: 10.9188 - val_loss: 20.2238\n",
      "Epoch 242/600\n",
      "323/323 [==============================] - 0s 76us/step - loss: 10.8900 - val_loss: 19.9002\n",
      "Epoch 243/600\n",
      "323/323 [==============================] - 0s 71us/step - loss: 10.7917 - val_loss: 20.0013\n",
      "Epoch 244/600\n",
      "323/323 [==============================] - 0s 72us/step - loss: 10.7843 - val_loss: 19.8877\n",
      "Epoch 245/600\n",
      "323/323 [==============================] - 0s 71us/step - loss: 10.7133 - val_loss: 19.9370\n",
      "Epoch 246/600\n",
      "323/323 [==============================] - 0s 77us/step - loss: 10.7025 - val_loss: 19.9700\n",
      "Epoch 247/600\n",
      "323/323 [==============================] - 0s 74us/step - loss: 10.6850 - val_loss: 19.8912\n",
      "Epoch 248/600\n",
      "323/323 [==============================] - 0s 77us/step - loss: 10.6296 - val_loss: 19.7526\n",
      "Epoch 249/600\n",
      "323/323 [==============================] - 0s 72us/step - loss: 10.6153 - val_loss: 19.6961\n",
      "Epoch 250/600\n",
      "323/323 [==============================] - 0s 74us/step - loss: 10.5834 - val_loss: 19.6542\n",
      "Epoch 251/600\n",
      "323/323 [==============================] - 0s 74us/step - loss: 10.5341 - val_loss: 19.7342\n",
      "Epoch 252/600\n",
      "323/323 [==============================] - 0s 75us/step - loss: 10.5332 - val_loss: 19.5917\n",
      "Epoch 253/600\n",
      "323/323 [==============================] - 0s 74us/step - loss: 10.4999 - val_loss: 19.5407\n",
      "Epoch 254/600\n",
      "323/323 [==============================] - 0s 73us/step - loss: 10.4735 - val_loss: 19.4836\n",
      "Epoch 255/600\n",
      "323/323 [==============================] - 0s 73us/step - loss: 10.4985 - val_loss: 19.3383\n",
      "Epoch 256/600\n",
      "323/323 [==============================] - 0s 77us/step - loss: 10.4588 - val_loss: 19.5046\n",
      "Epoch 257/600\n",
      "323/323 [==============================] - 0s 74us/step - loss: 10.3888 - val_loss: 19.3444\n",
      "Epoch 258/600\n",
      "323/323 [==============================] - 0s 73us/step - loss: 10.3611 - val_loss: 19.3488\n",
      "Epoch 259/600\n",
      "323/323 [==============================] - 0s 72us/step - loss: 10.3430 - val_loss: 19.2106\n",
      "Epoch 260/600\n",
      "323/323 [==============================] - 0s 73us/step - loss: 10.3109 - val_loss: 19.1904\n",
      "Epoch 261/600\n",
      "323/323 [==============================] - 0s 78us/step - loss: 10.2847 - val_loss: 19.2796\n",
      "Epoch 262/600\n",
      "323/323 [==============================] - 0s 71us/step - loss: 10.2903 - val_loss: 19.1447\n",
      "Epoch 263/600\n",
      "323/323 [==============================] - 0s 74us/step - loss: 10.2878 - val_loss: 19.0844\n",
      "Epoch 264/600\n",
      "323/323 [==============================] - 0s 72us/step - loss: 10.2265 - val_loss: 18.9572\n",
      "Epoch 265/600\n",
      "323/323 [==============================] - 0s 75us/step - loss: 10.2536 - val_loss: 19.1025\n",
      "Epoch 266/600\n",
      "323/323 [==============================] - 0s 76us/step - loss: 10.2064 - val_loss: 19.0289\n",
      "Epoch 267/600\n",
      "323/323 [==============================] - 0s 72us/step - loss: 10.2552 - val_loss: 19.3058\n",
      "Epoch 268/600\n",
      "323/323 [==============================] - 0s 74us/step - loss: 10.2970 - val_loss: 18.9757\n",
      "Epoch 269/600\n",
      "323/323 [==============================] - 0s 74us/step - loss: 10.1883 - val_loss: 19.0199\n",
      "Epoch 270/600\n",
      "323/323 [==============================] - 0s 74us/step - loss: 10.1566 - val_loss: 18.9722\n",
      "Epoch 271/600\n",
      "323/323 [==============================] - 0s 76us/step - loss: 10.1347 - val_loss: 18.9197\n",
      "Epoch 272/600\n",
      "323/323 [==============================] - 0s 73us/step - loss: 10.0764 - val_loss: 18.5193\n",
      "Epoch 273/600\n",
      "323/323 [==============================] - 0s 72us/step - loss: 10.0989 - val_loss: 18.5018\n",
      "Epoch 274/600\n",
      "323/323 [==============================] - 0s 74us/step - loss: 10.0495 - val_loss: 18.5276\n",
      "Epoch 275/600\n",
      "323/323 [==============================] - 0s 76us/step - loss: 10.0357 - val_loss: 18.6583\n",
      "Epoch 276/600\n",
      "323/323 [==============================] - 0s 79us/step - loss: 9.9961 - val_loss: 18.6253\n",
      "Epoch 277/600\n",
      "323/323 [==============================] - 0s 76us/step - loss: 10.0080 - val_loss: 18.4794\n",
      "Epoch 278/600\n",
      "323/323 [==============================] - 0s 74us/step - loss: 9.9842 - val_loss: 18.5070\n",
      "Epoch 279/600\n",
      "323/323 [==============================] - 0s 72us/step - loss: 9.9783 - val_loss: 18.6197\n",
      "Epoch 280/600\n",
      "323/323 [==============================] - 0s 75us/step - loss: 9.9512 - val_loss: 18.5759\n",
      "Epoch 281/600\n",
      "323/323 [==============================] - 0s 74us/step - loss: 9.9269 - val_loss: 18.3107\n",
      "Epoch 282/600\n",
      "323/323 [==============================] - 0s 75us/step - loss: 9.9585 - val_loss: 18.3365\n",
      "Epoch 283/600\n",
      "323/323 [==============================] - 0s 73us/step - loss: 9.8990 - val_loss: 18.4245\n",
      "Epoch 284/600\n",
      "323/323 [==============================] - 0s 75us/step - loss: 9.8843 - val_loss: 18.3806\n",
      "Epoch 285/600\n",
      "323/323 [==============================] - 0s 74us/step - loss: 9.9122 - val_loss: 18.4694\n",
      "Epoch 286/600\n",
      "323/323 [==============================] - 0s 75us/step - loss: 9.8459 - val_loss: 18.3318\n",
      "Epoch 287/600\n",
      "323/323 [==============================] - 0s 74us/step - loss: 9.8334 - val_loss: 18.1700\n",
      "Epoch 288/600\n",
      "323/323 [==============================] - 0s 78us/step - loss: 9.8424 - val_loss: 18.2049\n",
      "Epoch 289/600\n",
      "323/323 [==============================] - 0s 75us/step - loss: 9.8065 - val_loss: 17.8892\n",
      "Epoch 290/600\n",
      "323/323 [==============================] - 0s 76us/step - loss: 9.8052 - val_loss: 17.9300\n",
      "Epoch 291/600\n",
      "323/323 [==============================] - 0s 72us/step - loss: 9.7870 - val_loss: 18.0432\n",
      "Epoch 292/600\n",
      "323/323 [==============================] - 0s 72us/step - loss: 9.7664 - val_loss: 17.9895\n",
      "Epoch 293/600\n",
      "323/323 [==============================] - 0s 74us/step - loss: 9.7606 - val_loss: 18.0283\n",
      "Epoch 294/600\n",
      "323/323 [==============================] - 0s 72us/step - loss: 9.7130 - val_loss: 17.9957\n",
      "Epoch 295/600\n",
      "323/323 [==============================] - 0s 76us/step - loss: 9.7457 - val_loss: 18.0727\n",
      "Epoch 296/600\n",
      "323/323 [==============================] - 0s 73us/step - loss: 9.7135 - val_loss: 17.9756\n",
      "Epoch 297/600\n",
      "323/323 [==============================] - 0s 73us/step - loss: 9.6917 - val_loss: 18.0051\n",
      "Epoch 298/600\n",
      "323/323 [==============================] - 0s 72us/step - loss: 9.6743 - val_loss: 17.8294\n",
      "Epoch 299/600\n",
      "323/323 [==============================] - 0s 72us/step - loss: 9.6897 - val_loss: 17.7973\n",
      "Epoch 300/600\n",
      "323/323 [==============================] - 0s 76us/step - loss: 9.6791 - val_loss: 17.9106\n",
      "Epoch 301/600\n",
      "323/323 [==============================] - 0s 73us/step - loss: 9.6329 - val_loss: 17.9739\n",
      "Epoch 302/600\n",
      "323/323 [==============================] - 0s 74us/step - loss: 9.6820 - val_loss: 17.9141\n",
      "Epoch 303/600\n",
      "323/323 [==============================] - 0s 71us/step - loss: 9.6411 - val_loss: 17.8444\n",
      "Epoch 304/600\n",
      "323/323 [==============================] - 0s 75us/step - loss: 9.6195 - val_loss: 17.8677\n",
      "Epoch 305/600\n",
      "323/323 [==============================] - 0s 76us/step - loss: 9.6068 - val_loss: 17.8051\n",
      "Epoch 306/600\n",
      "323/323 [==============================] - 0s 74us/step - loss: 9.5720 - val_loss: 17.7128\n",
      "Epoch 307/600\n",
      "323/323 [==============================] - 0s 73us/step - loss: 9.5995 - val_loss: 17.5621\n",
      "Epoch 308/600\n",
      "323/323 [==============================] - 0s 72us/step - loss: 9.5838 - val_loss: 17.5791\n",
      "Epoch 309/600\n"
     ]
    },
    {
     "name": "stdout",
     "output_type": "stream",
     "text": [
      "323/323 [==============================] - 0s 74us/step - loss: 9.5569 - val_loss: 17.5934\n",
      "Epoch 310/600\n",
      "323/323 [==============================] - 0s 75us/step - loss: 9.6026 - val_loss: 17.6680\n",
      "Epoch 311/600\n",
      "323/323 [==============================] - 0s 72us/step - loss: 9.5320 - val_loss: 17.6837\n",
      "Epoch 312/600\n",
      "323/323 [==============================] - 0s 72us/step - loss: 9.5440 - val_loss: 17.6801\n",
      "Epoch 313/600\n",
      "323/323 [==============================] - 0s 78us/step - loss: 9.5651 - val_loss: 17.9118\n",
      "Epoch 314/600\n",
      "323/323 [==============================] - 0s 73us/step - loss: 9.4956 - val_loss: 17.6957\n",
      "Epoch 315/600\n",
      "323/323 [==============================] - 0s 77us/step - loss: 9.4859 - val_loss: 17.6824\n",
      "Epoch 316/600\n",
      "323/323 [==============================] - 0s 73us/step - loss: 9.4919 - val_loss: 17.7246\n",
      "Epoch 317/600\n",
      "323/323 [==============================] - 0s 73us/step - loss: 9.4791 - val_loss: 17.6772\n",
      "Epoch 318/600\n",
      "323/323 [==============================] - 0s 74us/step - loss: 9.4812 - val_loss: 17.6382\n",
      "Epoch 319/600\n",
      "323/323 [==============================] - 0s 72us/step - loss: 9.4471 - val_loss: 17.6346\n",
      "Epoch 320/600\n",
      "323/323 [==============================] - 0s 78us/step - loss: 9.4794 - val_loss: 17.5437\n",
      "Epoch 321/600\n",
      "323/323 [==============================] - 0s 72us/step - loss: 9.4699 - val_loss: 17.5282\n",
      "Epoch 322/600\n",
      "323/323 [==============================] - 0s 74us/step - loss: 9.4337 - val_loss: 17.5232\n",
      "Epoch 323/600\n",
      "323/323 [==============================] - 0s 72us/step - loss: 9.4355 - val_loss: 17.4853\n",
      "Epoch 324/600\n",
      "323/323 [==============================] - 0s 72us/step - loss: 9.4037 - val_loss: 17.4902\n",
      "Epoch 325/600\n",
      "323/323 [==============================] - 0s 75us/step - loss: 9.4009 - val_loss: 17.5236\n",
      "Epoch 326/600\n",
      "323/323 [==============================] - 0s 73us/step - loss: 9.4049 - val_loss: 17.5477\n",
      "Epoch 327/600\n",
      "323/323 [==============================] - 0s 73us/step - loss: 9.3911 - val_loss: 17.5070\n",
      "Epoch 328/600\n",
      "323/323 [==============================] - 0s 72us/step - loss: 9.3816 - val_loss: 17.5373\n",
      "Epoch 329/600\n",
      "323/323 [==============================] - 0s 77us/step - loss: 9.3684 - val_loss: 17.5191\n",
      "Epoch 330/600\n",
      "323/323 [==============================] - 0s 83us/step - loss: 9.3953 - val_loss: 17.4510\n",
      "Epoch 331/600\n",
      "323/323 [==============================] - 0s 72us/step - loss: 9.3719 - val_loss: 17.4126\n",
      "Epoch 332/600\n",
      "323/323 [==============================] - 0s 73us/step - loss: 9.3593 - val_loss: 17.4093\n",
      "Epoch 333/600\n",
      "323/323 [==============================] - 0s 72us/step - loss: 9.3511 - val_loss: 17.4222\n",
      "Epoch 334/600\n",
      "323/323 [==============================] - 0s 73us/step - loss: 9.3325 - val_loss: 17.5229\n",
      "Epoch 335/600\n",
      "323/323 [==============================] - 0s 77us/step - loss: 9.3286 - val_loss: 17.4427\n",
      "Epoch 336/600\n",
      "323/323 [==============================] - 0s 73us/step - loss: 9.3075 - val_loss: 17.4004\n",
      "Epoch 337/600\n",
      "323/323 [==============================] - 0s 74us/step - loss: 9.3149 - val_loss: 17.4120\n",
      "Epoch 338/600\n",
      "323/323 [==============================] - 0s 73us/step - loss: 9.2979 - val_loss: 17.3565\n",
      "Epoch 339/600\n",
      "323/323 [==============================] - 0s 74us/step - loss: 9.2849 - val_loss: 17.3295\n",
      "Epoch 340/600\n",
      "323/323 [==============================] - 0s 74us/step - loss: 9.3300 - val_loss: 17.1562\n",
      "Epoch 341/600\n",
      "323/323 [==============================] - 0s 72us/step - loss: 9.2971 - val_loss: 17.3488\n",
      "Epoch 342/600\n",
      "323/323 [==============================] - 0s 72us/step - loss: 9.2885 - val_loss: 17.2863\n",
      "Epoch 343/600\n",
      "323/323 [==============================] - 0s 73us/step - loss: 9.2883 - val_loss: 17.2576\n",
      "Epoch 344/600\n",
      "323/323 [==============================] - 0s 75us/step - loss: 9.2868 - val_loss: 17.1173\n",
      "Epoch 345/600\n",
      "323/323 [==============================] - 0s 77us/step - loss: 9.3144 - val_loss: 17.1745\n",
      "Epoch 346/600\n",
      "323/323 [==============================] - 0s 72us/step - loss: 9.2366 - val_loss: 17.0991\n",
      "Epoch 347/600\n",
      "323/323 [==============================] - 0s 73us/step - loss: 9.2421 - val_loss: 17.1550\n",
      "Epoch 348/600\n",
      "323/323 [==============================] - 0s 77us/step - loss: 9.2754 - val_loss: 17.2703\n",
      "Epoch 349/600\n",
      "323/323 [==============================] - 0s 73us/step - loss: 9.2290 - val_loss: 17.1615\n",
      "Epoch 350/600\n",
      "323/323 [==============================] - 0s 101us/step - loss: 9.2802 - val_loss: 17.1837\n",
      "Epoch 351/600\n",
      "323/323 [==============================] - 0s 72us/step - loss: 9.2205 - val_loss: 17.1600\n",
      "Epoch 352/600\n",
      "323/323 [==============================] - 0s 73us/step - loss: 9.2318 - val_loss: 17.1544\n",
      "Epoch 353/600\n",
      "323/323 [==============================] - 0s 75us/step - loss: 9.2049 - val_loss: 17.1355\n",
      "Epoch 354/600\n",
      "323/323 [==============================] - 0s 74us/step - loss: 9.2197 - val_loss: 17.1205\n",
      "Epoch 355/600\n",
      "323/323 [==============================] - 0s 75us/step - loss: 9.2542 - val_loss: 17.0238\n",
      "Epoch 356/600\n",
      "323/323 [==============================] - 0s 73us/step - loss: 9.2305 - val_loss: 17.0974\n",
      "Epoch 357/600\n",
      "323/323 [==============================] - 0s 75us/step - loss: 9.1927 - val_loss: 17.0587\n",
      "Epoch 358/600\n",
      "323/323 [==============================] - 0s 71us/step - loss: 9.1709 - val_loss: 17.0522\n",
      "Epoch 359/600\n",
      "323/323 [==============================] - 0s 76us/step - loss: 9.1608 - val_loss: 17.0663\n",
      "Epoch 360/600\n",
      "323/323 [==============================] - 0s 76us/step - loss: 9.1618 - val_loss: 17.0452\n",
      "Epoch 361/600\n",
      "323/323 [==============================] - 0s 71us/step - loss: 9.1734 - val_loss: 16.9759\n",
      "Epoch 362/600\n",
      "323/323 [==============================] - 0s 72us/step - loss: 9.1807 - val_loss: 17.0452\n",
      "Epoch 363/600\n",
      "323/323 [==============================] - 0s 73us/step - loss: 9.1646 - val_loss: 16.9017\n",
      "Epoch 364/600\n",
      "323/323 [==============================] - 0s 75us/step - loss: 9.1720 - val_loss: 17.1761\n",
      "Epoch 365/600\n",
      "323/323 [==============================] - 0s 74us/step - loss: 9.1540 - val_loss: 17.1408\n",
      "Epoch 366/600\n",
      "323/323 [==============================] - 0s 72us/step - loss: 9.1539 - val_loss: 16.9172\n",
      "Epoch 367/600\n",
      "323/323 [==============================] - 0s 72us/step - loss: 9.1484 - val_loss: 16.9629\n",
      "Epoch 368/600\n",
      "323/323 [==============================] - 0s 72us/step - loss: 9.1382 - val_loss: 16.9335\n",
      "Epoch 369/600\n",
      "323/323 [==============================] - 0s 75us/step - loss: 9.1320 - val_loss: 16.9992\n",
      "Epoch 370/600\n",
      "323/323 [==============================] - 0s 79us/step - loss: 9.1445 - val_loss: 16.9280\n",
      "Epoch 371/600\n",
      "323/323 [==============================] - 0s 78us/step - loss: 9.1219 - val_loss: 16.8316\n",
      "Epoch 372/600\n",
      "323/323 [==============================] - 0s 72us/step - loss: 9.1101 - val_loss: 16.8335\n",
      "Epoch 373/600\n",
      "323/323 [==============================] - 0s 73us/step - loss: 9.0977 - val_loss: 16.9662\n",
      "Epoch 374/600\n",
      "323/323 [==============================] - 0s 74us/step - loss: 9.1138 - val_loss: 16.9730\n",
      "Epoch 375/600\n",
      "323/323 [==============================] - 0s 74us/step - loss: 9.0950 - val_loss: 16.9498\n",
      "Epoch 376/600\n",
      "323/323 [==============================] - 0s 75us/step - loss: 9.1127 - val_loss: 17.0943\n",
      "Epoch 377/600\n",
      "323/323 [==============================] - 0s 73us/step - loss: 9.0762 - val_loss: 17.0312\n",
      "Epoch 378/600\n",
      "323/323 [==============================] - 0s 71us/step - loss: 9.0633 - val_loss: 16.8354\n",
      "Epoch 379/600\n",
      "323/323 [==============================] - 0s 77us/step - loss: 9.1089 - val_loss: 16.7549\n",
      "Epoch 380/600\n",
      "323/323 [==============================] - 0s 73us/step - loss: 9.0786 - val_loss: 16.8554\n",
      "Epoch 381/600\n",
      "323/323 [==============================] - 0s 71us/step - loss: 9.0670 - val_loss: 16.8780\n",
      "Epoch 382/600\n",
      "323/323 [==============================] - 0s 72us/step - loss: 9.0479 - val_loss: 16.9197\n",
      "Epoch 383/600\n",
      "323/323 [==============================] - 0s 73us/step - loss: 9.0433 - val_loss: 16.9453\n",
      "Epoch 384/600\n",
      "323/323 [==============================] - 0s 73us/step - loss: 9.0500 - val_loss: 16.9783\n",
      "Epoch 385/600\n",
      "323/323 [==============================] - 0s 75us/step - loss: 9.0518 - val_loss: 16.9277\n",
      "Epoch 386/600\n",
      "323/323 [==============================] - 0s 72us/step - loss: 9.0697 - val_loss: 16.6535\n",
      "Epoch 387/600\n"
     ]
    },
    {
     "name": "stdout",
     "output_type": "stream",
     "text": [
      "323/323 [==============================] - 0s 76us/step - loss: 9.0282 - val_loss: 16.6852\n",
      "Epoch 388/600\n",
      "323/323 [==============================] - 0s 73us/step - loss: 9.0927 - val_loss: 16.8153\n",
      "Epoch 389/600\n",
      "323/323 [==============================] - 0s 78us/step - loss: 8.9962 - val_loss: 16.8183\n",
      "Epoch 390/600\n",
      "323/323 [==============================] - 0s 75us/step - loss: 9.0390 - val_loss: 16.8524\n",
      "Epoch 391/600\n",
      "323/323 [==============================] - 0s 74us/step - loss: 9.0330 - val_loss: 16.7860\n",
      "Epoch 392/600\n",
      "323/323 [==============================] - 0s 75us/step - loss: 9.0141 - val_loss: 16.8059\n",
      "Epoch 393/600\n",
      "323/323 [==============================] - 0s 73us/step - loss: 9.0059 - val_loss: 16.8073\n",
      "Epoch 394/600\n",
      "323/323 [==============================] - 0s 75us/step - loss: 8.9972 - val_loss: 16.8564\n",
      "Epoch 395/600\n",
      "323/323 [==============================] - 0s 72us/step - loss: 8.9896 - val_loss: 16.8289\n",
      "Epoch 396/600\n",
      "323/323 [==============================] - 0s 73us/step - loss: 8.9686 - val_loss: 17.0794\n",
      "Epoch 397/600\n",
      "323/323 [==============================] - 0s 73us/step - loss: 8.9973 - val_loss: 16.9469\n",
      "Epoch 398/600\n",
      "323/323 [==============================] - 0s 72us/step - loss: 8.9709 - val_loss: 16.9362\n",
      "Epoch 399/600\n",
      "323/323 [==============================] - 0s 78us/step - loss: 8.9586 - val_loss: 16.9461\n",
      "Epoch 400/600\n",
      "323/323 [==============================] - 0s 73us/step - loss: 8.9641 - val_loss: 17.0472\n",
      "Epoch 401/600\n",
      "323/323 [==============================] - 0s 73us/step - loss: 8.9646 - val_loss: 16.9768\n",
      "Epoch 402/600\n",
      "323/323 [==============================] - 0s 72us/step - loss: 8.9645 - val_loss: 16.9359\n",
      "Epoch 403/600\n",
      "323/323 [==============================] - 0s 72us/step - loss: 8.9520 - val_loss: 16.9252\n",
      "Epoch 404/600\n",
      "323/323 [==============================] - 0s 77us/step - loss: 8.9383 - val_loss: 17.0118\n",
      "Epoch 405/600\n",
      "323/323 [==============================] - 0s 71us/step - loss: 8.9295 - val_loss: 16.9418\n",
      "Epoch 406/600\n",
      "323/323 [==============================] - 0s 73us/step - loss: 8.9286 - val_loss: 16.9214\n",
      "Epoch 407/600\n",
      "323/323 [==============================] - 0s 74us/step - loss: 8.9300 - val_loss: 16.8512\n",
      "Epoch 408/600\n",
      "323/323 [==============================] - 0s 74us/step - loss: 8.9255 - val_loss: 16.8887\n",
      "Epoch 409/600\n",
      "323/323 [==============================] - 0s 80us/step - loss: 8.8910 - val_loss: 16.9232\n",
      "Epoch 410/600\n",
      "323/323 [==============================] - 0s 72us/step - loss: 8.8989 - val_loss: 16.9340\n",
      "Epoch 411/600\n",
      "323/323 [==============================] - 0s 74us/step - loss: 8.9233 - val_loss: 17.0397\n",
      "Epoch 412/600\n",
      "323/323 [==============================] - 0s 81us/step - loss: 8.8784 - val_loss: 16.7666\n",
      "Epoch 413/600\n",
      "323/323 [==============================] - 0s 75us/step - loss: 8.9074 - val_loss: 16.8106\n",
      "Epoch 414/600\n",
      "323/323 [==============================] - 0s 80us/step - loss: 8.8846 - val_loss: 16.7725\n",
      "Epoch 415/600\n",
      "323/323 [==============================] - 0s 73us/step - loss: 8.9089 - val_loss: 16.7459\n",
      "Epoch 416/600\n",
      "323/323 [==============================] - 0s 77us/step - loss: 8.9133 - val_loss: 16.9070\n",
      "Epoch 417/600\n",
      "323/323 [==============================] - 0s 72us/step - loss: 8.8718 - val_loss: 16.7640\n",
      "Epoch 418/600\n",
      "323/323 [==============================] - 0s 74us/step - loss: 8.8668 - val_loss: 16.7982\n",
      "Epoch 419/600\n",
      "323/323 [==============================] - 0s 81us/step - loss: 8.8657 - val_loss: 16.8258\n",
      "Epoch 420/600\n",
      "323/323 [==============================] - 0s 74us/step - loss: 8.8669 - val_loss: 16.7960\n",
      "Epoch 421/600\n",
      "323/323 [==============================] - 0s 72us/step - loss: 8.8641 - val_loss: 16.7891\n",
      "Epoch 422/600\n",
      "323/323 [==============================] - 0s 75us/step - loss: 8.8523 - val_loss: 16.8159\n",
      "Epoch 423/600\n",
      "323/323 [==============================] - 0s 75us/step - loss: 8.8687 - val_loss: 16.8455\n",
      "Epoch 424/600\n",
      "323/323 [==============================] - 0s 75us/step - loss: 8.8995 - val_loss: 16.8057\n",
      "Epoch 425/600\n",
      "323/323 [==============================] - 0s 73us/step - loss: 8.8316 - val_loss: 17.4430\n",
      "Epoch 426/600\n",
      "323/323 [==============================] - 0s 72us/step - loss: 8.9822 - val_loss: 17.2786\n",
      "Epoch 427/600\n",
      "323/323 [==============================] - 0s 74us/step - loss: 8.9159 - val_loss: 17.1448\n",
      "Epoch 428/600\n",
      "323/323 [==============================] - 0s 75us/step - loss: 8.8647 - val_loss: 16.9319\n",
      "Epoch 429/600\n",
      "323/323 [==============================] - 0s 79us/step - loss: 8.8152 - val_loss: 16.8790\n",
      "Epoch 430/600\n",
      "323/323 [==============================] - 0s 74us/step - loss: 8.8425 - val_loss: 16.6712\n",
      "Epoch 431/600\n",
      "323/323 [==============================] - 0s 73us/step - loss: 8.8468 - val_loss: 16.7379\n",
      "Epoch 432/600\n",
      "323/323 [==============================] - 0s 74us/step - loss: 8.8332 - val_loss: 16.8082\n",
      "Epoch 433/600\n",
      "323/323 [==============================] - 0s 76us/step - loss: 8.8223 - val_loss: 16.6884\n",
      "Epoch 434/600\n",
      "323/323 [==============================] - 0s 75us/step - loss: 8.8105 - val_loss: 16.7111\n",
      "Epoch 435/600\n",
      "323/323 [==============================] - 0s 73us/step - loss: 8.8136 - val_loss: 16.7135\n",
      "Epoch 436/600\n",
      "323/323 [==============================] - 0s 72us/step - loss: 8.8042 - val_loss: 17.0130\n",
      "Epoch 437/600\n",
      "323/323 [==============================] - 0s 75us/step - loss: 8.7931 - val_loss: 17.1140\n",
      "Epoch 438/600\n",
      "323/323 [==============================] - 0s 77us/step - loss: 8.8059 - val_loss: 17.0278\n",
      "Epoch 439/600\n",
      "323/323 [==============================] - 0s 77us/step - loss: 8.7990 - val_loss: 16.9170\n",
      "Epoch 440/600\n",
      "323/323 [==============================] - 0s 72us/step - loss: 8.7801 - val_loss: 16.8981\n",
      "Epoch 441/600\n",
      "323/323 [==============================] - 0s 73us/step - loss: 8.7699 - val_loss: 16.8480\n",
      "Epoch 442/600\n",
      "323/323 [==============================] - 0s 72us/step - loss: 8.7684 - val_loss: 16.8075\n",
      "Epoch 443/600\n",
      "323/323 [==============================] - 0s 73us/step - loss: 8.7697 - val_loss: 16.7004\n",
      "Epoch 444/600\n",
      "323/323 [==============================] - 0s 75us/step - loss: 8.7549 - val_loss: 16.8121\n",
      "Epoch 445/600\n",
      "323/323 [==============================] - 0s 72us/step - loss: 8.7601 - val_loss: 16.7689\n",
      "Epoch 446/600\n",
      "323/323 [==============================] - 0s 75us/step - loss: 8.7640 - val_loss: 16.8387\n",
      "Epoch 447/600\n",
      "323/323 [==============================] - 0s 73us/step - loss: 8.7613 - val_loss: 16.6781\n",
      "Epoch 448/600\n",
      "323/323 [==============================] - 0s 73us/step - loss: 8.7407 - val_loss: 16.7779\n",
      "Epoch 449/600\n",
      "323/323 [==============================] - 0s 75us/step - loss: 8.7590 - val_loss: 16.7551\n",
      "Epoch 450/600\n",
      "323/323 [==============================] - 0s 73us/step - loss: 8.7330 - val_loss: 16.7577\n",
      "Epoch 451/600\n",
      "323/323 [==============================] - 0s 72us/step - loss: 8.7374 - val_loss: 16.7775\n",
      "Epoch 452/600\n",
      "323/323 [==============================] - 0s 75us/step - loss: 8.7406 - val_loss: 16.7755\n",
      "Epoch 453/600\n",
      "323/323 [==============================] - 0s 78us/step - loss: 8.7323 - val_loss: 16.7911\n",
      "Epoch 454/600\n",
      "323/323 [==============================] - 0s 75us/step - loss: 8.7369 - val_loss: 16.7415\n",
      "Epoch 455/600\n",
      "323/323 [==============================] - 0s 72us/step - loss: 8.7404 - val_loss: 16.8300\n",
      "Epoch 456/600\n",
      "323/323 [==============================] - 0s 72us/step - loss: 8.7292 - val_loss: 16.8749\n",
      "Epoch 457/600\n",
      "323/323 [==============================] - 0s 72us/step - loss: 8.7384 - val_loss: 16.7086\n",
      "Epoch 458/600\n",
      "323/323 [==============================] - 0s 74us/step - loss: 8.7448 - val_loss: 16.6187\n",
      "Epoch 459/600\n",
      "323/323 [==============================] - 0s 73us/step - loss: 8.7394 - val_loss: 16.5541\n",
      "Epoch 460/600\n",
      "323/323 [==============================] - 0s 72us/step - loss: 8.7063 - val_loss: 16.6501\n",
      "Epoch 461/600\n",
      "323/323 [==============================] - 0s 72us/step - loss: 8.7485 - val_loss: 17.1303\n",
      "Epoch 462/600\n",
      "323/323 [==============================] - 0s 72us/step - loss: 8.7816 - val_loss: 17.0288\n",
      "Epoch 463/600\n",
      "323/323 [==============================] - 0s 74us/step - loss: 8.7609 - val_loss: 16.7338\n",
      "Epoch 464/600\n",
      "323/323 [==============================] - 0s 76us/step - loss: 8.7611 - val_loss: 16.9339\n",
      "Epoch 465/600\n"
     ]
    },
    {
     "name": "stdout",
     "output_type": "stream",
     "text": [
      "323/323 [==============================] - 0s 73us/step - loss: 8.7065 - val_loss: 16.8206\n",
      "Epoch 466/600\n",
      "323/323 [==============================] - 0s 72us/step - loss: 8.7037 - val_loss: 16.7718\n",
      "Epoch 467/600\n",
      "323/323 [==============================] - 0s 74us/step - loss: 8.7076 - val_loss: 16.7750\n",
      "Epoch 468/600\n",
      "323/323 [==============================] - 0s 75us/step - loss: 8.7333 - val_loss: 16.8095\n",
      "Epoch 469/600\n",
      "323/323 [==============================] - 0s 75us/step - loss: 8.7383 - val_loss: 16.8862\n",
      "Epoch 470/600\n",
      "323/323 [==============================] - 0s 73us/step - loss: 8.7163 - val_loss: 16.7018\n",
      "Epoch 471/600\n",
      "323/323 [==============================] - 0s 75us/step - loss: 8.6799 - val_loss: 16.7227\n",
      "Epoch 472/600\n",
      "323/323 [==============================] - 0s 75us/step - loss: 8.6905 - val_loss: 16.7401\n",
      "Epoch 473/600\n",
      "323/323 [==============================] - 0s 76us/step - loss: 8.7030 - val_loss: 16.5755\n",
      "Epoch 474/600\n",
      "323/323 [==============================] - 0s 77us/step - loss: 8.6593 - val_loss: 16.6694\n",
      "Epoch 475/600\n",
      "323/323 [==============================] - 0s 75us/step - loss: 8.6879 - val_loss: 16.6312\n",
      "Epoch 476/600\n",
      "323/323 [==============================] - 0s 75us/step - loss: 8.7071 - val_loss: 16.6272\n",
      "Epoch 477/600\n",
      "323/323 [==============================] - 0s 73us/step - loss: 8.6845 - val_loss: 16.5821\n",
      "Epoch 478/600\n",
      "323/323 [==============================] - 0s 76us/step - loss: 8.6082 - val_loss: 16.6412\n",
      "Epoch 479/600\n",
      "323/323 [==============================] - 0s 72us/step - loss: 8.6273 - val_loss: 16.7765\n",
      "Epoch 480/600\n",
      "323/323 [==============================] - 0s 74us/step - loss: 8.6213 - val_loss: 16.7203\n",
      "Epoch 481/600\n",
      "323/323 [==============================] - 0s 73us/step - loss: 8.6076 - val_loss: 16.6438\n",
      "Epoch 482/600\n",
      "323/323 [==============================] - 0s 71us/step - loss: 8.6134 - val_loss: 16.6146\n",
      "Epoch 483/600\n",
      "323/323 [==============================] - 0s 85us/step - loss: 8.6345 - val_loss: 16.5674\n",
      "Epoch 484/600\n",
      "323/323 [==============================] - 0s 73us/step - loss: 8.6096 - val_loss: 16.6923\n",
      "Epoch 485/600\n",
      "323/323 [==============================] - 0s 74us/step - loss: 8.5951 - val_loss: 16.6508\n",
      "Epoch 486/600\n",
      "323/323 [==============================] - 0s 73us/step - loss: 8.6478 - val_loss: 16.5935\n",
      "Epoch 487/600\n",
      "323/323 [==============================] - 0s 74us/step - loss: 8.5953 - val_loss: 16.5790\n",
      "Epoch 488/600\n",
      "323/323 [==============================] - 0s 75us/step - loss: 8.5770 - val_loss: 16.5288\n",
      "Epoch 489/600\n",
      "323/323 [==============================] - 0s 72us/step - loss: 8.5950 - val_loss: 16.4205\n",
      "Epoch 490/600\n",
      "323/323 [==============================] - 0s 76us/step - loss: 8.5956 - val_loss: 16.3351\n",
      "Epoch 491/600\n",
      "323/323 [==============================] - 0s 71us/step - loss: 8.5600 - val_loss: 16.3670\n",
      "Epoch 492/600\n",
      "323/323 [==============================] - 0s 73us/step - loss: 8.5694 - val_loss: 16.4405\n",
      "Epoch 493/600\n",
      "323/323 [==============================] - 0s 77us/step - loss: 8.5783 - val_loss: 16.3835\n",
      "Epoch 494/600\n",
      "323/323 [==============================] - 0s 76us/step - loss: 8.5426 - val_loss: 16.4128\n",
      "Epoch 495/600\n",
      "323/323 [==============================] - 0s 75us/step - loss: 8.5376 - val_loss: 16.4456\n",
      "Epoch 496/600\n",
      "323/323 [==============================] - 0s 73us/step - loss: 8.5296 - val_loss: 16.3492\n",
      "Epoch 497/600\n",
      "323/323 [==============================] - 0s 74us/step - loss: 8.5506 - val_loss: 16.3392\n",
      "Epoch 498/600\n",
      "323/323 [==============================] - 0s 74us/step - loss: 8.5611 - val_loss: 16.2405\n",
      "Epoch 499/600\n",
      "323/323 [==============================] - 0s 71us/step - loss: 8.5060 - val_loss: 16.4298\n",
      "Epoch 500/600\n",
      "323/323 [==============================] - 0s 74us/step - loss: 8.4999 - val_loss: 16.5076\n",
      "Epoch 501/600\n",
      "323/323 [==============================] - 0s 73us/step - loss: 8.5055 - val_loss: 16.4024\n",
      "Epoch 502/600\n",
      "323/323 [==============================] - 0s 75us/step - loss: 8.4746 - val_loss: 16.4719\n",
      "Epoch 503/600\n",
      "323/323 [==============================] - 0s 75us/step - loss: 8.5097 - val_loss: 16.4692\n",
      "Epoch 504/600\n",
      "323/323 [==============================] - 0s 72us/step - loss: 8.4949 - val_loss: 16.4014\n",
      "Epoch 505/600\n",
      "323/323 [==============================] - 0s 75us/step - loss: 8.4668 - val_loss: 16.4398\n",
      "Epoch 506/600\n",
      "323/323 [==============================] - 0s 72us/step - loss: 8.4757 - val_loss: 16.3581\n",
      "Epoch 507/600\n",
      "323/323 [==============================] - 0s 72us/step - loss: 8.4959 - val_loss: 16.4343\n",
      "Epoch 508/600\n",
      "323/323 [==============================] - 0s 78us/step - loss: 8.4739 - val_loss: 16.5430\n",
      "Epoch 509/600\n",
      "323/323 [==============================] - 0s 73us/step - loss: 8.4754 - val_loss: 16.3880\n",
      "Epoch 510/600\n",
      "323/323 [==============================] - 0s 73us/step - loss: 8.4893 - val_loss: 16.2769\n",
      "Epoch 511/600\n",
      "323/323 [==============================] - 0s 74us/step - loss: 8.4699 - val_loss: 16.3945\n",
      "Epoch 512/600\n",
      "323/323 [==============================] - 0s 77us/step - loss: 8.4550 - val_loss: 16.2885\n",
      "Epoch 513/600\n",
      "323/323 [==============================] - 0s 77us/step - loss: 8.4337 - val_loss: 16.3848\n",
      "Epoch 514/600\n",
      "323/323 [==============================] - 0s 75us/step - loss: 8.4454 - val_loss: 16.3325\n",
      "Epoch 515/600\n",
      "323/323 [==============================] - 0s 72us/step - loss: 8.4090 - val_loss: 16.2700\n",
      "Epoch 516/600\n",
      "323/323 [==============================] - 0s 75us/step - loss: 8.4321 - val_loss: 16.2019\n",
      "Epoch 517/600\n",
      "323/323 [==============================] - 0s 74us/step - loss: 8.4142 - val_loss: 16.2023\n",
      "Epoch 518/600\n",
      "323/323 [==============================] - 0s 75us/step - loss: 8.4052 - val_loss: 16.1927\n",
      "Epoch 519/600\n",
      "323/323 [==============================] - 0s 74us/step - loss: 8.4290 - val_loss: 16.1563\n",
      "Epoch 520/600\n",
      "323/323 [==============================] - 0s 73us/step - loss: 8.3966 - val_loss: 16.2827\n",
      "Epoch 521/600\n",
      "323/323 [==============================] - 0s 72us/step - loss: 8.4222 - val_loss: 16.2458\n",
      "Epoch 522/600\n",
      "323/323 [==============================] - 0s 75us/step - loss: 8.3811 - val_loss: 16.1782\n",
      "Epoch 523/600\n",
      "323/323 [==============================] - 0s 82us/step - loss: 8.3860 - val_loss: 16.1483\n",
      "Epoch 524/600\n",
      "323/323 [==============================] - 0s 72us/step - loss: 8.3836 - val_loss: 16.2032\n",
      "Epoch 525/600\n",
      "323/323 [==============================] - 0s 72us/step - loss: 8.3961 - val_loss: 16.2536\n",
      "Epoch 526/600\n",
      "323/323 [==============================] - 0s 72us/step - loss: 8.3670 - val_loss: 16.1563\n",
      "Epoch 527/600\n",
      "323/323 [==============================] - 0s 73us/step - loss: 8.3622 - val_loss: 16.2223\n",
      "Epoch 528/600\n",
      "323/323 [==============================] - 0s 73us/step - loss: 8.3506 - val_loss: 16.1970\n",
      "Epoch 529/600\n",
      "323/323 [==============================] - 0s 71us/step - loss: 8.3417 - val_loss: 16.2809\n",
      "Epoch 530/600\n",
      "323/323 [==============================] - 0s 72us/step - loss: 8.3651 - val_loss: 16.2915\n",
      "Epoch 531/600\n",
      "323/323 [==============================] - 0s 74us/step - loss: 8.3580 - val_loss: 16.0938\n",
      "Epoch 532/600\n",
      "323/323 [==============================] - 0s 74us/step - loss: 8.3284 - val_loss: 16.2014\n",
      "Epoch 533/600\n",
      "323/323 [==============================] - 0s 75us/step - loss: 8.3113 - val_loss: 16.1506\n",
      "Epoch 534/600\n",
      "323/323 [==============================] - 0s 72us/step - loss: 8.3296 - val_loss: 16.2272\n",
      "Epoch 535/600\n",
      "323/323 [==============================] - 0s 77us/step - loss: 8.3335 - val_loss: 16.2536\n",
      "Epoch 536/600\n",
      "323/323 [==============================] - 0s 78us/step - loss: 8.3258 - val_loss: 16.1556\n",
      "Epoch 537/600\n",
      "323/323 [==============================] - 0s 75us/step - loss: 8.3034 - val_loss: 16.1458\n",
      "Epoch 538/600\n",
      "323/323 [==============================] - 0s 73us/step - loss: 8.2938 - val_loss: 16.2021\n",
      "Epoch 539/600\n",
      "323/323 [==============================] - 0s 73us/step - loss: 8.2855 - val_loss: 16.3089\n",
      "Epoch 540/600\n",
      "323/323 [==============================] - 0s 76us/step - loss: 8.3135 - val_loss: 16.2334\n",
      "Epoch 541/600\n",
      "323/323 [==============================] - 0s 74us/step - loss: 8.2639 - val_loss: 16.0892\n",
      "Epoch 542/600\n",
      "323/323 [==============================] - 0s 78us/step - loss: 8.2849 - val_loss: 15.9529\n",
      "Epoch 543/600\n"
     ]
    },
    {
     "name": "stdout",
     "output_type": "stream",
     "text": [
      "323/323 [==============================] - 0s 73us/step - loss: 8.2627 - val_loss: 16.0426\n",
      "Epoch 544/600\n",
      "323/323 [==============================] - 0s 72us/step - loss: 8.3086 - val_loss: 16.2089\n",
      "Epoch 545/600\n",
      "323/323 [==============================] - 0s 72us/step - loss: 8.2258 - val_loss: 16.2005\n",
      "Epoch 546/600\n",
      "323/323 [==============================] - 0s 73us/step - loss: 8.2360 - val_loss: 16.1627\n",
      "Epoch 547/600\n",
      "323/323 [==============================] - 0s 75us/step - loss: 8.2429 - val_loss: 16.2473\n",
      "Epoch 548/600\n",
      "323/323 [==============================] - 0s 78us/step - loss: 8.2157 - val_loss: 16.1580\n",
      "Epoch 549/600\n",
      "323/323 [==============================] - 0s 72us/step - loss: 8.2295 - val_loss: 16.2083\n",
      "Epoch 550/600\n",
      "323/323 [==============================] - 0s 75us/step - loss: 8.1881 - val_loss: 16.2270\n",
      "Epoch 551/600\n",
      "323/323 [==============================] - 0s 72us/step - loss: 8.2067 - val_loss: 16.2686\n",
      "Epoch 552/600\n",
      "323/323 [==============================] - 0s 77us/step - loss: 8.2303 - val_loss: 16.1423\n",
      "Epoch 553/600\n",
      "323/323 [==============================] - 0s 75us/step - loss: 8.1973 - val_loss: 16.2143\n",
      "Epoch 554/600\n",
      "323/323 [==============================] - 0s 72us/step - loss: 8.1601 - val_loss: 16.1884\n",
      "Epoch 555/600\n",
      "323/323 [==============================] - 0s 72us/step - loss: 8.1595 - val_loss: 16.2231\n",
      "Epoch 556/600\n",
      "323/323 [==============================] - 0s 72us/step - loss: 8.2344 - val_loss: 16.4111\n",
      "Epoch 557/600\n",
      "323/323 [==============================] - 0s 75us/step - loss: 8.1713 - val_loss: 16.2341\n",
      "Epoch 558/600\n",
      "323/323 [==============================] - 0s 75us/step - loss: 8.1403 - val_loss: 16.2013\n",
      "Epoch 559/600\n",
      "323/323 [==============================] - 0s 75us/step - loss: 8.1529 - val_loss: 16.1996\n",
      "Epoch 560/600\n",
      "323/323 [==============================] - 0s 71us/step - loss: 8.1509 - val_loss: 16.2979\n",
      "Epoch 561/600\n",
      "323/323 [==============================] - 0s 76us/step - loss: 8.1280 - val_loss: 16.2121\n",
      "Epoch 562/600\n",
      "323/323 [==============================] - 0s 75us/step - loss: 8.1182 - val_loss: 16.1865\n",
      "Epoch 563/600\n",
      "323/323 [==============================] - 0s 73us/step - loss: 8.1262 - val_loss: 16.1644\n",
      "Epoch 564/600\n",
      "323/323 [==============================] - 0s 75us/step - loss: 8.1349 - val_loss: 16.3434\n",
      "Epoch 565/600\n",
      "323/323 [==============================] - 0s 72us/step - loss: 8.1080 - val_loss: 16.2109\n",
      "Epoch 566/600\n",
      "323/323 [==============================] - 0s 74us/step - loss: 8.1008 - val_loss: 16.1178\n",
      "Epoch 567/600\n",
      "323/323 [==============================] - 0s 80us/step - loss: 8.1241 - val_loss: 16.1405\n",
      "Epoch 568/600\n",
      "323/323 [==============================] - 0s 72us/step - loss: 8.0855 - val_loss: 16.1580\n",
      "Epoch 569/600\n",
      "323/323 [==============================] - 0s 72us/step - loss: 8.1116 - val_loss: 16.2067\n",
      "Epoch 570/600\n",
      "323/323 [==============================] - 0s 74us/step - loss: 8.1028 - val_loss: 16.1616\n",
      "Epoch 571/600\n",
      "323/323 [==============================] - 0s 71us/step - loss: 8.1200 - val_loss: 16.2589\n",
      "Epoch 572/600\n",
      "323/323 [==============================] - 0s 76us/step - loss: 8.1062 - val_loss: 16.2787\n",
      "Epoch 573/600\n",
      "323/323 [==============================] - 0s 73us/step - loss: 8.0745 - val_loss: 16.1370\n",
      "Epoch 574/600\n",
      "323/323 [==============================] - 0s 73us/step - loss: 8.0554 - val_loss: 16.1528\n",
      "Epoch 575/600\n",
      "323/323 [==============================] - 0s 74us/step - loss: 8.0632 - val_loss: 16.0874\n",
      "Epoch 576/600\n",
      "323/323 [==============================] - 0s 87us/step - loss: 8.0731 - val_loss: 16.1272\n",
      "Epoch 577/600\n",
      "323/323 [==============================] - 0s 76us/step - loss: 8.0639 - val_loss: 16.3128\n",
      "Epoch 578/600\n",
      "323/323 [==============================] - 0s 73us/step - loss: 8.0379 - val_loss: 16.2623\n",
      "Epoch 579/600\n",
      "323/323 [==============================] - 0s 72us/step - loss: 8.0765 - val_loss: 16.3063\n",
      "Epoch 580/600\n",
      "323/323 [==============================] - 0s 77us/step - loss: 8.0531 - val_loss: 16.2336\n",
      "Epoch 581/600\n",
      "323/323 [==============================] - 0s 77us/step - loss: 8.0427 - val_loss: 16.2279\n",
      "Epoch 582/600\n",
      "323/323 [==============================] - 0s 74us/step - loss: 8.0321 - val_loss: 16.1954\n",
      "Epoch 583/600\n",
      "323/323 [==============================] - 0s 73us/step - loss: 8.0152 - val_loss: 16.1236\n",
      "Epoch 584/600\n",
      "323/323 [==============================] - 0s 73us/step - loss: 8.0198 - val_loss: 16.2026\n",
      "Epoch 585/600\n",
      "323/323 [==============================] - 0s 75us/step - loss: 8.0215 - val_loss: 16.2460\n",
      "Epoch 586/600\n",
      "323/323 [==============================] - 0s 75us/step - loss: 8.0533 - val_loss: 16.0838\n",
      "Epoch 587/600\n",
      "323/323 [==============================] - 0s 75us/step - loss: 8.0643 - val_loss: 16.6162\n",
      "Epoch 588/600\n",
      "323/323 [==============================] - 0s 71us/step - loss: 8.0858 - val_loss: 16.5408\n",
      "Epoch 589/600\n",
      "323/323 [==============================] - 0s 73us/step - loss: 8.0589 - val_loss: 16.3825\n",
      "Epoch 590/600\n",
      "323/323 [==============================] - 0s 71us/step - loss: 8.0184 - val_loss: 16.3834\n",
      "Epoch 591/600\n",
      "323/323 [==============================] - 0s 73us/step - loss: 7.9946 - val_loss: 16.2538\n",
      "Epoch 592/600\n",
      "323/323 [==============================] - 0s 77us/step - loss: 7.9918 - val_loss: 16.2875\n",
      "Epoch 593/600\n",
      "323/323 [==============================] - 0s 76us/step - loss: 7.9731 - val_loss: 16.2046\n",
      "Epoch 594/600\n",
      "323/323 [==============================] - 0s 81us/step - loss: 8.0018 - val_loss: 16.1699\n",
      "Epoch 595/600\n",
      "323/323 [==============================] - 0s 79us/step - loss: 7.9601 - val_loss: 16.2868\n",
      "Epoch 596/600\n",
      "323/323 [==============================] - 0s 83us/step - loss: 7.9780 - val_loss: 16.1852\n",
      "Epoch 597/600\n",
      "323/323 [==============================] - 0s 82us/step - loss: 7.9590 - val_loss: 16.1573\n",
      "Epoch 598/600\n",
      "323/323 [==============================] - 0s 84us/step - loss: 7.9755 - val_loss: 15.9191\n",
      "Epoch 599/600\n",
      "323/323 [==============================] - 0s 77us/step - loss: 7.9530 - val_loss: 15.9127\n",
      "Epoch 600/600\n",
      "323/323 [==============================] - 0s 80us/step - loss: 7.9601 - val_loss: 15.9682\n"
     ]
    }
   ],
   "source": [
    "history = model.fit(X_train, y_train, batch_size=16, epochs=600, validation_data=(X_valid, y_valid))"
   ]
  },
  {
   "cell_type": "code",
   "execution_count": 10,
   "metadata": {},
   "outputs": [
    {
     "name": "stdout",
     "output_type": "stream",
     "text": [
      "MSE: 12.670261108010363\n",
      "R^2: 0.87656692280297\n"
     ]
    }
   ],
   "source": [
    "y_pred = model.predict(X_test)\n",
    "\n",
    "print('MSE:', mean_squared_error(y_test, y_pred))\n",
    "print('R^2:', r2_score(y_test, y_pred))"
   ]
  },
  {
   "cell_type": "markdown",
   "metadata": {},
   "source": [
    "## Excersize: try to overfit modifying NN structure (add layers, make them wider)"
   ]
  },
  {
   "cell_type": "code",
   "execution_count": 11,
   "metadata": {},
   "outputs": [
    {
     "name": "stdout",
     "output_type": "stream",
     "text": [
      "Train on 323 samples, validate on 81 samples\n",
      "Epoch 1/1600\n",
      "323/323 [==============================] - 0s 737us/step - loss: 552.9181 - val_loss: 532.8733\n",
      "Epoch 2/1600\n",
      "323/323 [==============================] - 0s 117us/step - loss: 209.2976 - val_loss: 73.7632\n",
      "Epoch 3/1600\n",
      "323/323 [==============================] - 0s 116us/step - loss: 37.7434 - val_loss: 44.8642\n",
      "Epoch 4/1600\n",
      "323/323 [==============================] - 0s 120us/step - loss: 21.5782 - val_loss: 35.2080\n",
      "Epoch 5/1600\n",
      "323/323 [==============================] - 0s 117us/step - loss: 18.3808 - val_loss: 30.2035\n",
      "Epoch 6/1600\n",
      "323/323 [==============================] - 0s 117us/step - loss: 16.5986 - val_loss: 27.3629\n",
      "Epoch 7/1600\n",
      "323/323 [==============================] - 0s 119us/step - loss: 14.2246 - val_loss: 25.7052\n",
      "Epoch 8/1600\n",
      "323/323 [==============================] - 0s 114us/step - loss: 15.5459 - val_loss: 23.5273\n",
      "Epoch 9/1600\n",
      "323/323 [==============================] - 0s 118us/step - loss: 12.8187 - val_loss: 24.0955\n",
      "Epoch 10/1600\n",
      "323/323 [==============================] - 0s 121us/step - loss: 12.0591 - val_loss: 23.9043\n",
      "Epoch 11/1600\n",
      "323/323 [==============================] - 0s 119us/step - loss: 11.3771 - val_loss: 21.7908\n",
      "Epoch 12/1600\n",
      "323/323 [==============================] - 0s 117us/step - loss: 10.7309 - val_loss: 21.6798\n",
      "Epoch 13/1600\n",
      "323/323 [==============================] - 0s 122us/step - loss: 10.5337 - val_loss: 21.0961\n",
      "Epoch 14/1600\n",
      "323/323 [==============================] - 0s 116us/step - loss: 10.2592 - val_loss: 20.0442\n",
      "Epoch 15/1600\n",
      "323/323 [==============================] - 0s 115us/step - loss: 11.4615 - val_loss: 20.3542\n",
      "Epoch 16/1600\n",
      "323/323 [==============================] - 0s 118us/step - loss: 11.1756 - val_loss: 21.3282\n",
      "Epoch 17/1600\n",
      "323/323 [==============================] - 0s 116us/step - loss: 11.8661 - val_loss: 19.1058\n",
      "Epoch 18/1600\n",
      "323/323 [==============================] - 0s 114us/step - loss: 9.8195 - val_loss: 19.4236\n",
      "Epoch 19/1600\n",
      "323/323 [==============================] - 0s 119us/step - loss: 10.3735 - val_loss: 21.8580\n",
      "Epoch 20/1600\n",
      "323/323 [==============================] - 0s 115us/step - loss: 9.3620 - val_loss: 19.2084\n",
      "Epoch 21/1600\n",
      "323/323 [==============================] - 0s 114us/step - loss: 9.2447 - val_loss: 19.8665\n",
      "Epoch 22/1600\n",
      "323/323 [==============================] - 0s 118us/step - loss: 9.1067 - val_loss: 19.4788\n",
      "Epoch 23/1600\n",
      "323/323 [==============================] - 0s 123us/step - loss: 8.8264 - val_loss: 18.0799\n",
      "Epoch 24/1600\n",
      "323/323 [==============================] - 0s 115us/step - loss: 9.2637 - val_loss: 19.1388\n",
      "Epoch 25/1600\n",
      "323/323 [==============================] - 0s 116us/step - loss: 8.9751 - val_loss: 19.3756\n",
      "Epoch 26/1600\n",
      "323/323 [==============================] - 0s 118us/step - loss: 8.9533 - val_loss: 21.5124\n",
      "Epoch 27/1600\n",
      "323/323 [==============================] - 0s 116us/step - loss: 8.4985 - val_loss: 17.8530\n",
      "Epoch 28/1600\n",
      "323/323 [==============================] - 0s 118us/step - loss: 8.1234 - val_loss: 18.5115\n",
      "Epoch 29/1600\n",
      "323/323 [==============================] - 0s 122us/step - loss: 7.5943 - val_loss: 19.1296\n",
      "Epoch 30/1600\n",
      "323/323 [==============================] - 0s 116us/step - loss: 7.9046 - val_loss: 17.4991\n",
      "Epoch 31/1600\n",
      "323/323 [==============================] - 0s 115us/step - loss: 8.1942 - val_loss: 18.8307\n",
      "Epoch 32/1600\n",
      "323/323 [==============================] - 0s 119us/step - loss: 8.3352 - val_loss: 17.8086\n",
      "Epoch 33/1600\n",
      "323/323 [==============================] - 0s 115us/step - loss: 8.8878 - val_loss: 26.4529\n",
      "Epoch 34/1600\n",
      "323/323 [==============================] - 0s 117us/step - loss: 8.4057 - val_loss: 18.6670\n",
      "Epoch 35/1600\n",
      "323/323 [==============================] - 0s 118us/step - loss: 7.5077 - val_loss: 17.2680\n",
      "Epoch 36/1600\n",
      "323/323 [==============================] - 0s 114us/step - loss: 7.9344 - val_loss: 17.9056\n",
      "Epoch 37/1600\n",
      "323/323 [==============================] - 0s 121us/step - loss: 7.0449 - val_loss: 19.4577\n",
      "Epoch 38/1600\n",
      "323/323 [==============================] - 0s 119us/step - loss: 7.0807 - val_loss: 18.1895\n",
      "Epoch 39/1600\n",
      "323/323 [==============================] - 0s 117us/step - loss: 7.5773 - val_loss: 18.2176\n",
      "Epoch 40/1600\n",
      "323/323 [==============================] - 0s 116us/step - loss: 7.5313 - val_loss: 18.2873\n",
      "Epoch 41/1600\n",
      "323/323 [==============================] - 0s 119us/step - loss: 6.8618 - val_loss: 17.8033\n",
      "Epoch 42/1600\n",
      "323/323 [==============================] - 0s 116us/step - loss: 6.7444 - val_loss: 17.3216\n",
      "Epoch 43/1600\n",
      "323/323 [==============================] - 0s 115us/step - loss: 8.0684 - val_loss: 16.3880\n",
      "Epoch 44/1600\n",
      "323/323 [==============================] - 0s 117us/step - loss: 6.4581 - val_loss: 17.8018\n",
      "Epoch 45/1600\n",
      "323/323 [==============================] - 0s 118us/step - loss: 6.4467 - val_loss: 19.3552\n",
      "Epoch 46/1600\n",
      "323/323 [==============================] - 0s 116us/step - loss: 6.7799 - val_loss: 19.1602\n",
      "Epoch 47/1600\n",
      "323/323 [==============================] - 0s 117us/step - loss: 7.3277 - val_loss: 17.9383\n",
      "Epoch 48/1600\n",
      "323/323 [==============================] - 0s 122us/step - loss: 6.9161 - val_loss: 18.6330\n",
      "Epoch 49/1600\n",
      "323/323 [==============================] - 0s 115us/step - loss: 6.9872 - val_loss: 21.8739\n",
      "Epoch 50/1600\n",
      "323/323 [==============================] - 0s 116us/step - loss: 7.3992 - val_loss: 16.2663\n",
      "Epoch 51/1600\n",
      "323/323 [==============================] - 0s 119us/step - loss: 6.3506 - val_loss: 19.2504\n",
      "Epoch 52/1600\n",
      "323/323 [==============================] - 0s 118us/step - loss: 6.3977 - val_loss: 16.6000\n",
      "Epoch 53/1600\n",
      "323/323 [==============================] - 0s 117us/step - loss: 6.1351 - val_loss: 15.6741\n",
      "Epoch 54/1600\n",
      "323/323 [==============================] - 0s 121us/step - loss: 6.8745 - val_loss: 18.8143\n",
      "Epoch 55/1600\n",
      "323/323 [==============================] - 0s 118us/step - loss: 6.4457 - val_loss: 16.6506\n",
      "Epoch 56/1600\n",
      "323/323 [==============================] - 0s 118us/step - loss: 6.2692 - val_loss: 19.8175\n",
      "Epoch 57/1600\n",
      "323/323 [==============================] - 0s 121us/step - loss: 6.9929 - val_loss: 16.1316\n",
      "Epoch 58/1600\n",
      "323/323 [==============================] - 0s 116us/step - loss: 6.7752 - val_loss: 23.2357\n",
      "Epoch 59/1600\n",
      "323/323 [==============================] - 0s 116us/step - loss: 7.1970 - val_loss: 17.0243\n",
      "Epoch 60/1600\n",
      "323/323 [==============================] - 0s 119us/step - loss: 6.0372 - val_loss: 16.7930\n",
      "Epoch 61/1600\n",
      "323/323 [==============================] - 0s 114us/step - loss: 5.8720 - val_loss: 18.7336\n",
      "Epoch 62/1600\n",
      "323/323 [==============================] - 0s 117us/step - loss: 6.4033 - val_loss: 17.5643\n",
      "Epoch 63/1600\n",
      "323/323 [==============================] - 0s 127us/step - loss: 5.9034 - val_loss: 17.6965\n",
      "Epoch 64/1600\n",
      "323/323 [==============================] - 0s 114us/step - loss: 6.5844 - val_loss: 19.2971\n",
      "Epoch 65/1600\n",
      "323/323 [==============================] - 0s 116us/step - loss: 6.1635 - val_loss: 18.1462\n",
      "Epoch 66/1600\n",
      "323/323 [==============================] - 0s 119us/step - loss: 6.5768 - val_loss: 18.9272\n",
      "Epoch 67/1600\n",
      "323/323 [==============================] - 0s 120us/step - loss: 5.8294 - val_loss: 16.5742\n",
      "Epoch 68/1600\n",
      "323/323 [==============================] - 0s 118us/step - loss: 6.5798 - val_loss: 18.4322\n",
      "Epoch 69/1600\n",
      "323/323 [==============================] - 0s 118us/step - loss: 5.6601 - val_loss: 17.5884\n",
      "Epoch 70/1600\n",
      "323/323 [==============================] - 0s 117us/step - loss: 5.4714 - val_loss: 19.1357\n",
      "Epoch 71/1600\n",
      "323/323 [==============================] - 0s 115us/step - loss: 6.9466 - val_loss: 20.9508\n",
      "Epoch 72/1600\n",
      "323/323 [==============================] - 0s 120us/step - loss: 7.0744 - val_loss: 16.5317\n",
      "Epoch 73/1600\n",
      "323/323 [==============================] - 0s 117us/step - loss: 5.2080 - val_loss: 16.2712\n",
      "Epoch 74/1600\n",
      "323/323 [==============================] - 0s 118us/step - loss: 5.5769 - val_loss: 17.1494\n",
      "Epoch 75/1600\n",
      "323/323 [==============================] - 0s 115us/step - loss: 6.1491 - val_loss: 18.4940\n",
      "Epoch 76/1600\n",
      "323/323 [==============================] - 0s 121us/step - loss: 5.6404 - val_loss: 17.9715\n",
      "Epoch 77/1600\n",
      "323/323 [==============================] - 0s 114us/step - loss: 6.0188 - val_loss: 15.7173\n"
     ]
    },
    {
     "name": "stdout",
     "output_type": "stream",
     "text": [
      "Epoch 78/1600\n",
      "323/323 [==============================] - 0s 116us/step - loss: 5.1885 - val_loss: 15.1946\n",
      "Epoch 79/1600\n",
      "323/323 [==============================] - 0s 122us/step - loss: 5.3400 - val_loss: 15.9309\n",
      "Epoch 80/1600\n",
      "323/323 [==============================] - 0s 117us/step - loss: 6.1586 - val_loss: 18.0679\n",
      "Epoch 81/1600\n",
      "323/323 [==============================] - 0s 116us/step - loss: 5.3329 - val_loss: 15.9923\n",
      "Epoch 82/1600\n",
      "323/323 [==============================] - 0s 120us/step - loss: 5.1810 - val_loss: 16.7544\n",
      "Epoch 83/1600\n",
      "323/323 [==============================] - 0s 115us/step - loss: 5.2497 - val_loss: 15.9869\n",
      "Epoch 84/1600\n",
      "323/323 [==============================] - 0s 116us/step - loss: 5.3220 - val_loss: 15.2791\n",
      "Epoch 85/1600\n",
      "323/323 [==============================] - 0s 120us/step - loss: 6.1406 - val_loss: 20.8462\n",
      "Epoch 86/1600\n",
      "323/323 [==============================] - 0s 116us/step - loss: 5.1040 - val_loss: 17.5409\n",
      "Epoch 87/1600\n",
      "323/323 [==============================] - 0s 113us/step - loss: 6.0661 - val_loss: 16.6950\n",
      "Epoch 88/1600\n",
      "323/323 [==============================] - 0s 116us/step - loss: 5.1956 - val_loss: 16.9570\n",
      "Epoch 89/1600\n",
      "323/323 [==============================] - 0s 120us/step - loss: 5.0248 - val_loss: 16.9072\n",
      "Epoch 90/1600\n",
      "323/323 [==============================] - 0s 115us/step - loss: 5.0231 - val_loss: 16.4294\n",
      "Epoch 91/1600\n",
      "323/323 [==============================] - 0s 117us/step - loss: 6.4770 - val_loss: 18.7874\n",
      "Epoch 92/1600\n",
      "323/323 [==============================] - 0s 122us/step - loss: 5.1182 - val_loss: 17.2738\n",
      "Epoch 93/1600\n",
      "323/323 [==============================] - 0s 116us/step - loss: 4.7380 - val_loss: 16.3581\n",
      "Epoch 94/1600\n",
      "323/323 [==============================] - 0s 120us/step - loss: 5.7252 - val_loss: 16.1726\n",
      "Epoch 95/1600\n",
      "323/323 [==============================] - 0s 117us/step - loss: 4.6946 - val_loss: 15.8601\n",
      "Epoch 96/1600\n",
      "323/323 [==============================] - 0s 116us/step - loss: 5.0815 - val_loss: 18.2833\n",
      "Epoch 97/1600\n",
      "323/323 [==============================] - 0s 117us/step - loss: 5.1433 - val_loss: 17.3043\n",
      "Epoch 98/1600\n",
      "323/323 [==============================] - 0s 118us/step - loss: 5.8630 - val_loss: 17.7901\n",
      "Epoch 99/1600\n",
      "323/323 [==============================] - 0s 116us/step - loss: 4.8766 - val_loss: 19.2638\n",
      "Epoch 100/1600\n",
      "323/323 [==============================] - 0s 115us/step - loss: 4.7031 - val_loss: 15.4430\n",
      "Epoch 101/1600\n",
      "323/323 [==============================] - 0s 123us/step - loss: 4.7703 - val_loss: 17.5265\n",
      "Epoch 102/1600\n",
      "323/323 [==============================] - 0s 118us/step - loss: 4.8368 - val_loss: 15.3666\n",
      "Epoch 103/1600\n",
      "323/323 [==============================] - 0s 118us/step - loss: 4.2512 - val_loss: 15.3230\n",
      "Epoch 104/1600\n",
      "323/323 [==============================] - 0s 120us/step - loss: 4.5355 - val_loss: 16.9327\n",
      "Epoch 105/1600\n",
      "323/323 [==============================] - 0s 116us/step - loss: 5.0687 - val_loss: 18.1638\n",
      "Epoch 106/1600\n",
      "323/323 [==============================] - 0s 116us/step - loss: 4.7816 - val_loss: 16.3597\n",
      "Epoch 107/1600\n",
      "323/323 [==============================] - 0s 125us/step - loss: 4.2135 - val_loss: 16.8371\n",
      "Epoch 108/1600\n",
      "323/323 [==============================] - 0s 116us/step - loss: 4.0891 - val_loss: 16.3540\n",
      "Epoch 109/1600\n",
      "323/323 [==============================] - 0s 116us/step - loss: 4.1589 - val_loss: 15.5009\n",
      "Epoch 110/1600\n",
      "323/323 [==============================] - 0s 118us/step - loss: 4.0511 - val_loss: 17.3083\n",
      "Epoch 111/1600\n",
      "323/323 [==============================] - 0s 115us/step - loss: 4.1567 - val_loss: 17.0421\n",
      "Epoch 112/1600\n",
      "323/323 [==============================] - 0s 115us/step - loss: 4.1482 - val_loss: 19.7263\n",
      "Epoch 113/1600\n",
      "323/323 [==============================] - 0s 119us/step - loss: 5.2442 - val_loss: 16.0183\n",
      "Epoch 114/1600\n",
      "323/323 [==============================] - 0s 117us/step - loss: 4.2990 - val_loss: 15.9070\n",
      "Epoch 115/1600\n",
      "323/323 [==============================] - 0s 125us/step - loss: 5.1231 - val_loss: 18.7053\n",
      "Epoch 116/1600\n",
      "323/323 [==============================] - 0s 116us/step - loss: 5.0285 - val_loss: 13.6744\n",
      "Epoch 117/1600\n",
      "323/323 [==============================] - 0s 119us/step - loss: 5.0230 - val_loss: 15.3451\n",
      "Epoch 118/1600\n",
      "323/323 [==============================] - 0s 115us/step - loss: 4.1975 - val_loss: 14.0174\n",
      "Epoch 119/1600\n",
      "323/323 [==============================] - 0s 116us/step - loss: 4.2027 - val_loss: 19.7858\n",
      "Epoch 120/1600\n",
      "323/323 [==============================] - 0s 120us/step - loss: 5.3148 - val_loss: 14.6238\n",
      "Epoch 121/1600\n",
      "323/323 [==============================] - 0s 117us/step - loss: 3.7603 - val_loss: 16.9055\n",
      "Epoch 122/1600\n",
      "323/323 [==============================] - 0s 115us/step - loss: 3.5510 - val_loss: 14.8236\n",
      "Epoch 123/1600\n",
      "323/323 [==============================] - 0s 121us/step - loss: 3.7825 - val_loss: 15.9277\n",
      "Epoch 124/1600\n",
      "323/323 [==============================] - 0s 114us/step - loss: 3.8366 - val_loss: 15.6852\n",
      "Epoch 125/1600\n",
      "323/323 [==============================] - 0s 118us/step - loss: 4.0997 - val_loss: 18.1545\n",
      "Epoch 126/1600\n",
      "323/323 [==============================] - 0s 119us/step - loss: 3.6635 - val_loss: 16.4146\n",
      "Epoch 127/1600\n",
      "323/323 [==============================] - 0s 115us/step - loss: 3.8097 - val_loss: 17.8842\n",
      "Epoch 128/1600\n",
      "323/323 [==============================] - 0s 116us/step - loss: 3.6646 - val_loss: 14.8539\n",
      "Epoch 129/1600\n",
      "323/323 [==============================] - 0s 119us/step - loss: 3.6948 - val_loss: 14.6966\n",
      "Epoch 130/1600\n",
      "323/323 [==============================] - 0s 115us/step - loss: 3.5897 - val_loss: 14.7821\n",
      "Epoch 131/1600\n",
      "323/323 [==============================] - 0s 115us/step - loss: 3.7529 - val_loss: 16.9426\n",
      "Epoch 132/1600\n",
      "323/323 [==============================] - 0s 120us/step - loss: 4.1410 - val_loss: 16.9540\n",
      "Epoch 133/1600\n",
      "323/323 [==============================] - 0s 117us/step - loss: 4.4252 - val_loss: 16.1694\n",
      "Epoch 134/1600\n",
      "323/323 [==============================] - 0s 117us/step - loss: 3.3792 - val_loss: 15.8026\n",
      "Epoch 135/1600\n",
      "323/323 [==============================] - 0s 118us/step - loss: 3.3976 - val_loss: 15.7220\n",
      "Epoch 136/1600\n",
      "323/323 [==============================] - 0s 117us/step - loss: 3.3021 - val_loss: 16.0074\n",
      "Epoch 137/1600\n",
      "323/323 [==============================] - 0s 115us/step - loss: 3.8823 - val_loss: 16.0661\n",
      "Epoch 138/1600\n",
      "323/323 [==============================] - 0s 120us/step - loss: 3.5537 - val_loss: 20.8969\n",
      "Epoch 139/1600\n",
      "323/323 [==============================] - 0s 117us/step - loss: 4.0619 - val_loss: 14.7324\n",
      "Epoch 140/1600\n",
      "323/323 [==============================] - 0s 117us/step - loss: 3.4399 - val_loss: 15.5648\n",
      "Epoch 141/1600\n",
      "323/323 [==============================] - 0s 121us/step - loss: 4.0433 - val_loss: 14.8158\n",
      "Epoch 142/1600\n",
      "323/323 [==============================] - 0s 123us/step - loss: 4.5783 - val_loss: 16.5103\n",
      "Epoch 143/1600\n",
      "323/323 [==============================] - 0s 117us/step - loss: 3.6567 - val_loss: 16.1251\n",
      "Epoch 144/1600\n",
      "323/323 [==============================] - 0s 117us/step - loss: 3.0935 - val_loss: 17.1503\n",
      "Epoch 145/1600\n",
      "323/323 [==============================] - 0s 120us/step - loss: 3.1004 - val_loss: 17.6882\n",
      "Epoch 146/1600\n",
      "323/323 [==============================] - 0s 114us/step - loss: 3.2318 - val_loss: 16.6346\n",
      "Epoch 147/1600\n",
      "323/323 [==============================] - 0s 115us/step - loss: 3.2015 - val_loss: 17.8506\n",
      "Epoch 148/1600\n",
      "323/323 [==============================] - 0s 119us/step - loss: 3.6114 - val_loss: 17.2476\n",
      "Epoch 149/1600\n",
      "323/323 [==============================] - 0s 115us/step - loss: 3.6302 - val_loss: 16.2113\n",
      "Epoch 150/1600\n",
      "323/323 [==============================] - 0s 115us/step - loss: 4.4303 - val_loss: 16.0709\n",
      "Epoch 151/1600\n",
      "323/323 [==============================] - 0s 119us/step - loss: 3.1934 - val_loss: 16.1232\n",
      "Epoch 152/1600\n",
      "323/323 [==============================] - 0s 119us/step - loss: 3.2311 - val_loss: 15.5589\n",
      "Epoch 153/1600\n",
      "323/323 [==============================] - 0s 113us/step - loss: 3.9771 - val_loss: 13.7938\n",
      "Epoch 154/1600\n",
      "323/323 [==============================] - 0s 121us/step - loss: 3.5599 - val_loss: 16.4947\n"
     ]
    },
    {
     "name": "stdout",
     "output_type": "stream",
     "text": [
      "Epoch 155/1600\n",
      "323/323 [==============================] - 0s 115us/step - loss: 3.2766 - val_loss: 17.7643\n",
      "Epoch 156/1600\n",
      "323/323 [==============================] - 0s 115us/step - loss: 3.4813 - val_loss: 17.7309\n",
      "Epoch 157/1600\n",
      "323/323 [==============================] - 0s 121us/step - loss: 3.8408 - val_loss: 16.4305\n",
      "Epoch 158/1600\n",
      "323/323 [==============================] - 0s 118us/step - loss: 4.1843 - val_loss: 13.9146\n",
      "Epoch 159/1600\n",
      "323/323 [==============================] - 0s 115us/step - loss: 3.2480 - val_loss: 14.8728\n",
      "Epoch 160/1600\n",
      "323/323 [==============================] - 0s 118us/step - loss: 3.0996 - val_loss: 15.0182\n",
      "Epoch 161/1600\n",
      "323/323 [==============================] - 0s 120us/step - loss: 3.3799 - val_loss: 14.2948\n",
      "Epoch 162/1600\n",
      "323/323 [==============================] - 0s 114us/step - loss: 3.3579 - val_loss: 13.8052\n",
      "Epoch 163/1600\n",
      "323/323 [==============================] - 0s 117us/step - loss: 3.3259 - val_loss: 15.4288\n",
      "Epoch 164/1600\n",
      "323/323 [==============================] - 0s 117us/step - loss: 3.6388 - val_loss: 18.9866\n",
      "Epoch 165/1600\n",
      "323/323 [==============================] - 0s 115us/step - loss: 4.2178 - val_loss: 17.9678\n",
      "Epoch 166/1600\n",
      "323/323 [==============================] - 0s 117us/step - loss: 4.0284 - val_loss: 20.2995\n",
      "Epoch 167/1600\n",
      "323/323 [==============================] - 0s 125us/step - loss: 3.1957 - val_loss: 15.9954\n",
      "Epoch 168/1600\n",
      "323/323 [==============================] - 0s 119us/step - loss: 3.2329 - val_loss: 18.5519\n",
      "Epoch 169/1600\n",
      "323/323 [==============================] - 0s 115us/step - loss: 3.8616 - val_loss: 18.6989\n",
      "Epoch 170/1600\n",
      "323/323 [==============================] - 0s 119us/step - loss: 3.1648 - val_loss: 16.4389\n",
      "Epoch 171/1600\n",
      "323/323 [==============================] - 0s 115us/step - loss: 3.2937 - val_loss: 17.4833\n",
      "Epoch 172/1600\n",
      "323/323 [==============================] - 0s 114us/step - loss: 3.0434 - val_loss: 15.9412\n",
      "Epoch 173/1600\n",
      "323/323 [==============================] - 0s 120us/step - loss: 2.6974 - val_loss: 17.8724\n",
      "Epoch 174/1600\n",
      "323/323 [==============================] - 0s 118us/step - loss: 3.0076 - val_loss: 17.1570\n",
      "Epoch 175/1600\n",
      "323/323 [==============================] - 0s 115us/step - loss: 3.3084 - val_loss: 16.3366\n",
      "Epoch 176/1600\n",
      "323/323 [==============================] - 0s 117us/step - loss: 4.1991 - val_loss: 16.1905\n",
      "Epoch 177/1600\n",
      "323/323 [==============================] - 0s 117us/step - loss: 2.8971 - val_loss: 14.2879\n",
      "Epoch 178/1600\n",
      "323/323 [==============================] - 0s 119us/step - loss: 4.4165 - val_loss: 15.6109\n",
      "Epoch 179/1600\n",
      "323/323 [==============================] - 0s 119us/step - loss: 3.3027 - val_loss: 17.0846\n",
      "Epoch 180/1600\n",
      "323/323 [==============================] - 0s 116us/step - loss: 3.2370 - val_loss: 14.7558\n",
      "Epoch 181/1600\n",
      "323/323 [==============================] - 0s 121us/step - loss: 3.5642 - val_loss: 14.2028\n",
      "Epoch 182/1600\n",
      "323/323 [==============================] - 0s 118us/step - loss: 3.0246 - val_loss: 15.8746\n",
      "Epoch 183/1600\n",
      "323/323 [==============================] - 0s 119us/step - loss: 2.7365 - val_loss: 19.0079\n",
      "Epoch 184/1600\n",
      "323/323 [==============================] - 0s 118us/step - loss: 3.2014 - val_loss: 16.7317\n",
      "Epoch 185/1600\n",
      "323/323 [==============================] - 0s 116us/step - loss: 2.6202 - val_loss: 15.5990\n",
      "Epoch 186/1600\n",
      "323/323 [==============================] - 0s 119us/step - loss: 2.8251 - val_loss: 16.9958\n",
      "Epoch 187/1600\n",
      "323/323 [==============================] - 0s 115us/step - loss: 3.0538 - val_loss: 15.6079\n",
      "Epoch 188/1600\n",
      "323/323 [==============================] - 0s 116us/step - loss: 2.8148 - val_loss: 17.4655\n",
      "Epoch 189/1600\n",
      "323/323 [==============================] - 0s 115us/step - loss: 3.3089 - val_loss: 17.9758\n",
      "Epoch 190/1600\n",
      "323/323 [==============================] - 0s 117us/step - loss: 2.9634 - val_loss: 16.8447\n",
      "Epoch 191/1600\n",
      "323/323 [==============================] - 0s 115us/step - loss: 3.4401 - val_loss: 17.2064\n",
      "Epoch 192/1600\n",
      "323/323 [==============================] - 0s 120us/step - loss: 3.4000 - val_loss: 15.8716\n",
      "Epoch 193/1600\n",
      "323/323 [==============================] - 0s 119us/step - loss: 3.4371 - val_loss: 16.0155\n",
      "Epoch 194/1600\n",
      "323/323 [==============================] - 0s 117us/step - loss: 3.0625 - val_loss: 15.9012\n",
      "Epoch 195/1600\n",
      "323/323 [==============================] - 0s 121us/step - loss: 3.0657 - val_loss: 16.1428\n",
      "Epoch 196/1600\n",
      "323/323 [==============================] - 0s 115us/step - loss: 3.0317 - val_loss: 17.5340\n",
      "Epoch 197/1600\n",
      "323/323 [==============================] - 0s 116us/step - loss: 2.7305 - val_loss: 17.3213\n",
      "Epoch 198/1600\n",
      "323/323 [==============================] - 0s 121us/step - loss: 2.7874 - val_loss: 15.0425\n",
      "Epoch 199/1600\n",
      "323/323 [==============================] - 0s 115us/step - loss: 2.4887 - val_loss: 15.9917\n",
      "Epoch 200/1600\n",
      "323/323 [==============================] - 0s 118us/step - loss: 2.3979 - val_loss: 18.0423\n",
      "Epoch 201/1600\n",
      "323/323 [==============================] - 0s 118us/step - loss: 4.0708 - val_loss: 15.6093\n",
      "Epoch 202/1600\n",
      "323/323 [==============================] - 0s 115us/step - loss: 3.1765 - val_loss: 14.2605\n",
      "Epoch 203/1600\n",
      "323/323 [==============================] - 0s 116us/step - loss: 3.0977 - val_loss: 15.5272\n",
      "Epoch 204/1600\n",
      "323/323 [==============================] - 0s 119us/step - loss: 3.2791 - val_loss: 16.6605\n",
      "Epoch 205/1600\n",
      "323/323 [==============================] - 0s 118us/step - loss: 3.0726 - val_loss: 16.0980\n",
      "Epoch 206/1600\n",
      "323/323 [==============================] - 0s 116us/step - loss: 3.2246 - val_loss: 16.7295\n",
      "Epoch 207/1600\n",
      "323/323 [==============================] - 0s 118us/step - loss: 2.5650 - val_loss: 17.5277\n",
      "Epoch 208/1600\n",
      "323/323 [==============================] - 0s 120us/step - loss: 6.6088 - val_loss: 16.3548\n",
      "Epoch 209/1600\n",
      "323/323 [==============================] - 0s 115us/step - loss: 4.1804 - val_loss: 15.2932\n",
      "Epoch 210/1600\n",
      "323/323 [==============================] - 0s 118us/step - loss: 2.6048 - val_loss: 15.8143\n",
      "Epoch 211/1600\n",
      "323/323 [==============================] - 0s 121us/step - loss: 2.5713 - val_loss: 15.6180\n",
      "Epoch 212/1600\n",
      "323/323 [==============================] - 0s 115us/step - loss: 2.5128 - val_loss: 15.8280\n",
      "Epoch 213/1600\n",
      "323/323 [==============================] - 0s 115us/step - loss: 2.3577 - val_loss: 16.8566\n",
      "Epoch 214/1600\n",
      "323/323 [==============================] - 0s 116us/step - loss: 2.5101 - val_loss: 18.5172\n",
      "Epoch 215/1600\n",
      "323/323 [==============================] - 0s 115us/step - loss: 3.5071 - val_loss: 16.6462\n",
      "Epoch 216/1600\n",
      "323/323 [==============================] - 0s 115us/step - loss: 2.6653 - val_loss: 16.0431\n",
      "Epoch 217/1600\n",
      "323/323 [==============================] - 0s 121us/step - loss: 2.5064 - val_loss: 14.9268\n",
      "Epoch 218/1600\n",
      "323/323 [==============================] - 0s 114us/step - loss: 2.2505 - val_loss: 15.3734\n",
      "Epoch 219/1600\n",
      "323/323 [==============================] - 0s 118us/step - loss: 2.5261 - val_loss: 15.9285\n",
      "Epoch 220/1600\n",
      "323/323 [==============================] - 0s 119us/step - loss: 2.5692 - val_loss: 17.3173\n",
      "Epoch 221/1600\n",
      "323/323 [==============================] - 0s 119us/step - loss: 2.8229 - val_loss: 19.1408\n",
      "Epoch 222/1600\n",
      "323/323 [==============================] - 0s 115us/step - loss: 3.7921 - val_loss: 17.0380\n",
      "Epoch 223/1600\n",
      "323/323 [==============================] - 0s 125us/step - loss: 2.6412 - val_loss: 15.5298\n",
      "Epoch 224/1600\n",
      "323/323 [==============================] - 0s 116us/step - loss: 3.6446 - val_loss: 15.5039\n",
      "Epoch 225/1600\n",
      "323/323 [==============================] - 0s 115us/step - loss: 3.2258 - val_loss: 17.3478\n",
      "Epoch 226/1600\n",
      "323/323 [==============================] - 0s 122us/step - loss: 2.7558 - val_loss: 18.4369\n",
      "Epoch 227/1600\n",
      "323/323 [==============================] - 0s 117us/step - loss: 2.7726 - val_loss: 14.3972\n",
      "Epoch 228/1600\n",
      "323/323 [==============================] - 0s 114us/step - loss: 2.6180 - val_loss: 15.0642\n",
      "Epoch 229/1600\n",
      "323/323 [==============================] - 0s 115us/step - loss: 2.2164 - val_loss: 17.0243\n",
      "Epoch 230/1600\n",
      "323/323 [==============================] - 0s 121us/step - loss: 2.3456 - val_loss: 15.3876\n",
      "Epoch 231/1600\n"
     ]
    },
    {
     "name": "stdout",
     "output_type": "stream",
     "text": [
      "323/323 [==============================] - 0s 116us/step - loss: 2.0973 - val_loss: 17.6263\n",
      "Epoch 232/1600\n",
      "323/323 [==============================] - 0s 116us/step - loss: 2.6541 - val_loss: 15.4829\n",
      "Epoch 233/1600\n",
      "323/323 [==============================] - 0s 118us/step - loss: 2.9581 - val_loss: 17.7026\n",
      "Epoch 234/1600\n",
      "323/323 [==============================] - 0s 118us/step - loss: 2.3569 - val_loss: 14.5532\n",
      "Epoch 235/1600\n",
      "323/323 [==============================] - 0s 114us/step - loss: 2.4731 - val_loss: 17.3045\n",
      "Epoch 236/1600\n",
      "323/323 [==============================] - 0s 121us/step - loss: 2.8169 - val_loss: 15.8282\n",
      "Epoch 237/1600\n",
      "323/323 [==============================] - 0s 115us/step - loss: 2.2400 - val_loss: 14.3474\n",
      "Epoch 238/1600\n",
      "323/323 [==============================] - 0s 118us/step - loss: 2.2231 - val_loss: 16.3795\n",
      "Epoch 239/1600\n",
      "323/323 [==============================] - 0s 120us/step - loss: 3.2088 - val_loss: 22.1548\n",
      "Epoch 240/1600\n",
      "323/323 [==============================] - 0s 121us/step - loss: 5.0551 - val_loss: 18.9594\n",
      "Epoch 241/1600\n",
      "323/323 [==============================] - 0s 118us/step - loss: 3.1222 - val_loss: 14.2249\n",
      "Epoch 242/1600\n",
      "323/323 [==============================] - 0s 125us/step - loss: 2.7072 - val_loss: 14.2944\n",
      "Epoch 243/1600\n",
      "323/323 [==============================] - 0s 118us/step - loss: 2.7177 - val_loss: 17.0040\n",
      "Epoch 244/1600\n",
      "323/323 [==============================] - 0s 115us/step - loss: 3.3348 - val_loss: 15.5646\n",
      "Epoch 245/1600\n",
      "323/323 [==============================] - 0s 125us/step - loss: 2.1859 - val_loss: 18.4601\n",
      "Epoch 246/1600\n",
      "323/323 [==============================] - 0s 116us/step - loss: 2.5082 - val_loss: 16.4315\n",
      "Epoch 247/1600\n",
      "323/323 [==============================] - 0s 115us/step - loss: 2.4156 - val_loss: 16.7295\n",
      "Epoch 248/1600\n",
      "323/323 [==============================] - 0s 118us/step - loss: 2.4485 - val_loss: 17.5277\n",
      "Epoch 249/1600\n",
      "323/323 [==============================] - 0s 117us/step - loss: 2.2650 - val_loss: 19.5215\n",
      "Epoch 250/1600\n",
      "323/323 [==============================] - 0s 114us/step - loss: 2.2382 - val_loss: 18.1665\n",
      "Epoch 251/1600\n",
      "323/323 [==============================] - 0s 115us/step - loss: 2.2718 - val_loss: 18.7999\n",
      "Epoch 252/1600\n",
      "323/323 [==============================] - 0s 122us/step - loss: 3.1405 - val_loss: 14.4943\n",
      "Epoch 253/1600\n",
      "323/323 [==============================] - 0s 115us/step - loss: 2.1906 - val_loss: 16.7696\n",
      "Epoch 254/1600\n",
      "323/323 [==============================] - 0s 118us/step - loss: 2.0792 - val_loss: 16.4250\n",
      "Epoch 255/1600\n",
      "323/323 [==============================] - 0s 120us/step - loss: 2.3918 - val_loss: 15.1400\n",
      "Epoch 256/1600\n",
      "323/323 [==============================] - 0s 119us/step - loss: 2.1637 - val_loss: 16.0073\n",
      "Epoch 257/1600\n",
      "323/323 [==============================] - 0s 116us/step - loss: 2.6822 - val_loss: 15.9466\n",
      "Epoch 258/1600\n",
      "323/323 [==============================] - 0s 121us/step - loss: 2.3299 - val_loss: 18.6838\n",
      "Epoch 259/1600\n",
      "323/323 [==============================] - 0s 117us/step - loss: 2.5176 - val_loss: 15.8371\n",
      "Epoch 260/1600\n",
      "323/323 [==============================] - 0s 124us/step - loss: 2.2986 - val_loss: 17.5555\n",
      "Epoch 261/1600\n",
      "323/323 [==============================] - 0s 123us/step - loss: 2.1554 - val_loss: 17.8434\n",
      "Epoch 262/1600\n",
      "323/323 [==============================] - 0s 115us/step - loss: 1.9853 - val_loss: 16.8274\n",
      "Epoch 263/1600\n",
      "323/323 [==============================] - 0s 122us/step - loss: 1.9939 - val_loss: 15.8692\n",
      "Epoch 264/1600\n",
      "323/323 [==============================] - 0s 120us/step - loss: 2.0407 - val_loss: 15.8615\n",
      "Epoch 265/1600\n",
      "323/323 [==============================] - 0s 115us/step - loss: 2.1203 - val_loss: 16.0294\n",
      "Epoch 266/1600\n",
      "323/323 [==============================] - 0s 117us/step - loss: 2.1825 - val_loss: 15.4948\n",
      "Epoch 267/1600\n",
      "323/323 [==============================] - 0s 124us/step - loss: 3.3580 - val_loss: 16.0589\n",
      "Epoch 268/1600\n",
      "323/323 [==============================] - 0s 119us/step - loss: 2.6962 - val_loss: 16.2610\n",
      "Epoch 269/1600\n",
      "323/323 [==============================] - 0s 114us/step - loss: 2.6901 - val_loss: 18.7960\n",
      "Epoch 270/1600\n",
      "323/323 [==============================] - 0s 118us/step - loss: 2.2090 - val_loss: 16.6962\n",
      "Epoch 271/1600\n",
      "323/323 [==============================] - 0s 119us/step - loss: 2.0731 - val_loss: 15.7416\n",
      "Epoch 272/1600\n",
      "323/323 [==============================] - 0s 116us/step - loss: 1.7235 - val_loss: 14.6631\n",
      "Epoch 273/1600\n",
      "323/323 [==============================] - 0s 119us/step - loss: 2.1808 - val_loss: 16.3687\n",
      "Epoch 274/1600\n",
      "323/323 [==============================] - 0s 117us/step - loss: 1.8212 - val_loss: 14.3251\n",
      "Epoch 275/1600\n",
      "323/323 [==============================] - 0s 117us/step - loss: 2.1502 - val_loss: 17.1338\n",
      "Epoch 276/1600\n",
      "323/323 [==============================] - 0s 115us/step - loss: 2.7082 - val_loss: 17.1305\n",
      "Epoch 277/1600\n",
      "323/323 [==============================] - 0s 117us/step - loss: 2.5902 - val_loss: 16.0778\n",
      "Epoch 278/1600\n",
      "323/323 [==============================] - 0s 113us/step - loss: 3.1873 - val_loss: 17.0437\n",
      "Epoch 279/1600\n",
      "323/323 [==============================] - 0s 117us/step - loss: 2.0195 - val_loss: 15.3137\n",
      "Epoch 280/1600\n",
      "323/323 [==============================] - 0s 116us/step - loss: 3.1983 - val_loss: 16.9429\n",
      "Epoch 281/1600\n",
      "323/323 [==============================] - 0s 116us/step - loss: 2.2089 - val_loss: 16.2507\n",
      "Epoch 282/1600\n",
      "323/323 [==============================] - 0s 118us/step - loss: 2.2517 - val_loss: 18.3214\n",
      "Epoch 283/1600\n",
      "323/323 [==============================] - 0s 116us/step - loss: 1.8450 - val_loss: 15.7750\n",
      "Epoch 284/1600\n",
      "323/323 [==============================] - 0s 116us/step - loss: 2.6821 - val_loss: 18.8803\n",
      "Epoch 285/1600\n",
      "323/323 [==============================] - 0s 118us/step - loss: 2.1103 - val_loss: 15.3704\n",
      "Epoch 286/1600\n",
      "323/323 [==============================] - 0s 120us/step - loss: 2.5684 - val_loss: 14.7111\n",
      "Epoch 287/1600\n",
      "323/323 [==============================] - 0s 115us/step - loss: 2.5004 - val_loss: 19.3433\n",
      "Epoch 288/1600\n",
      "323/323 [==============================] - 0s 117us/step - loss: 2.1721 - val_loss: 17.8495\n",
      "Epoch 289/1600\n",
      "323/323 [==============================] - 0s 122us/step - loss: 2.1271 - val_loss: 14.4697\n",
      "Epoch 290/1600\n",
      "323/323 [==============================] - 0s 116us/step - loss: 2.4148 - val_loss: 20.5764\n",
      "Epoch 291/1600\n",
      "323/323 [==============================] - 0s 116us/step - loss: 2.5244 - val_loss: 17.3208\n",
      "Epoch 292/1600\n",
      "323/323 [==============================] - 0s 119us/step - loss: 2.0263 - val_loss: 14.9271\n",
      "Epoch 293/1600\n",
      "323/323 [==============================] - 0s 115us/step - loss: 2.4965 - val_loss: 17.1960\n",
      "Epoch 294/1600\n",
      "323/323 [==============================] - 0s 117us/step - loss: 2.1849 - val_loss: 16.8485\n",
      "Epoch 295/1600\n",
      "323/323 [==============================] - 0s 122us/step - loss: 1.8917 - val_loss: 16.9979\n",
      "Epoch 296/1600\n",
      "323/323 [==============================] - 0s 115us/step - loss: 1.8521 - val_loss: 16.4844\n",
      "Epoch 297/1600\n",
      "323/323 [==============================] - 0s 118us/step - loss: 3.8462 - val_loss: 19.0470\n",
      "Epoch 298/1600\n",
      "323/323 [==============================] - 0s 123us/step - loss: 3.9285 - val_loss: 17.6361\n",
      "Epoch 299/1600\n",
      "323/323 [==============================] - 0s 117us/step - loss: 2.4159 - val_loss: 16.3470\n",
      "Epoch 300/1600\n",
      "323/323 [==============================] - 0s 115us/step - loss: 2.1961 - val_loss: 16.4142\n",
      "Epoch 301/1600\n",
      "323/323 [==============================] - 0s 120us/step - loss: 2.0360 - val_loss: 16.8290\n",
      "Epoch 302/1600\n",
      "323/323 [==============================] - 0s 119us/step - loss: 1.8508 - val_loss: 16.1412\n",
      "Epoch 303/1600\n",
      "323/323 [==============================] - 0s 114us/step - loss: 3.3003 - val_loss: 17.3334\n",
      "Epoch 304/1600\n",
      "323/323 [==============================] - 0s 119us/step - loss: 2.6838 - val_loss: 16.9156\n",
      "Epoch 305/1600\n",
      "323/323 [==============================] - 0s 119us/step - loss: 2.3532 - val_loss: 19.2082\n",
      "Epoch 306/1600\n",
      "323/323 [==============================] - 0s 114us/step - loss: 2.3611 - val_loss: 16.3106\n",
      "Epoch 307/1600\n"
     ]
    },
    {
     "name": "stdout",
     "output_type": "stream",
     "text": [
      "323/323 [==============================] - 0s 115us/step - loss: 2.2270 - val_loss: 16.1749\n",
      "Epoch 308/1600\n",
      "323/323 [==============================] - 0s 121us/step - loss: 1.8352 - val_loss: 18.8401\n",
      "Epoch 309/1600\n",
      "323/323 [==============================] - 0s 115us/step - loss: 2.3283 - val_loss: 17.3770\n",
      "Epoch 310/1600\n",
      "323/323 [==============================] - 0s 116us/step - loss: 2.9225 - val_loss: 16.0616\n",
      "Epoch 311/1600\n",
      "323/323 [==============================] - 0s 119us/step - loss: 2.1935 - val_loss: 17.2164\n",
      "Epoch 312/1600\n",
      "323/323 [==============================] - 0s 114us/step - loss: 1.7734 - val_loss: 16.9457\n",
      "Epoch 313/1600\n",
      "323/323 [==============================] - 0s 115us/step - loss: 1.9267 - val_loss: 16.9849\n",
      "Epoch 314/1600\n",
      "323/323 [==============================] - 0s 120us/step - loss: 2.9052 - val_loss: 18.6766\n",
      "Epoch 315/1600\n",
      "323/323 [==============================] - 0s 116us/step - loss: 2.6504 - val_loss: 16.7374\n",
      "Epoch 316/1600\n",
      "323/323 [==============================] - 0s 115us/step - loss: 2.3689 - val_loss: 15.4811\n",
      "Epoch 317/1600\n",
      "323/323 [==============================] - 0s 118us/step - loss: 1.8570 - val_loss: 16.8090\n",
      "Epoch 318/1600\n",
      "323/323 [==============================] - 0s 116us/step - loss: 1.6595 - val_loss: 17.0499\n",
      "Epoch 319/1600\n",
      "323/323 [==============================] - 0s 115us/step - loss: 1.6830 - val_loss: 16.9869\n",
      "Epoch 320/1600\n",
      "323/323 [==============================] - 0s 120us/step - loss: 1.7843 - val_loss: 17.1408\n",
      "Epoch 321/1600\n",
      "323/323 [==============================] - 0s 119us/step - loss: 1.8517 - val_loss: 14.7106\n",
      "Epoch 322/1600\n",
      "323/323 [==============================] - 0s 118us/step - loss: 2.5042 - val_loss: 16.2107\n",
      "Epoch 323/1600\n",
      "323/323 [==============================] - 0s 123us/step - loss: 2.0620 - val_loss: 17.9301\n",
      "Epoch 324/1600\n",
      "323/323 [==============================] - 0s 119us/step - loss: 1.8063 - val_loss: 16.6800\n",
      "Epoch 325/1600\n",
      "323/323 [==============================] - 0s 116us/step - loss: 2.7098 - val_loss: 16.5487\n",
      "Epoch 326/1600\n",
      "323/323 [==============================] - 0s 117us/step - loss: 2.3399 - val_loss: 17.1990\n",
      "Epoch 327/1600\n",
      "323/323 [==============================] - 0s 116us/step - loss: 1.8681 - val_loss: 15.2410\n",
      "Epoch 328/1600\n",
      "323/323 [==============================] - 0s 116us/step - loss: 1.9450 - val_loss: 14.9936\n",
      "Epoch 329/1600\n",
      "323/323 [==============================] - 0s 116us/step - loss: 1.5270 - val_loss: 16.0586\n",
      "Epoch 330/1600\n",
      "323/323 [==============================] - 0s 121us/step - loss: 1.6225 - val_loss: 17.0248\n",
      "Epoch 331/1600\n",
      "323/323 [==============================] - 0s 115us/step - loss: 1.5686 - val_loss: 17.5566\n",
      "Epoch 332/1600\n",
      "323/323 [==============================] - 0s 116us/step - loss: 1.6903 - val_loss: 19.2739\n",
      "Epoch 333/1600\n",
      "323/323 [==============================] - 0s 117us/step - loss: 1.8954 - val_loss: 16.8139\n",
      "Epoch 334/1600\n",
      "323/323 [==============================] - 0s 116us/step - loss: 2.0670 - val_loss: 15.9920\n",
      "Epoch 335/1600\n",
      "323/323 [==============================] - 0s 116us/step - loss: 2.4511 - val_loss: 19.4435\n",
      "Epoch 336/1600\n",
      "323/323 [==============================] - 0s 123us/step - loss: 2.4016 - val_loss: 16.6930\n",
      "Epoch 337/1600\n",
      "323/323 [==============================] - 0s 116us/step - loss: 2.2098 - val_loss: 20.6505\n",
      "Epoch 338/1600\n",
      "323/323 [==============================] - 0s 116us/step - loss: 2.4555 - val_loss: 19.6029\n",
      "Epoch 339/1600\n",
      "323/323 [==============================] - 0s 121us/step - loss: 2.6535 - val_loss: 18.6637\n",
      "Epoch 340/1600\n",
      "323/323 [==============================] - 0s 119us/step - loss: 2.1757 - val_loss: 19.1315\n",
      "Epoch 341/1600\n",
      "323/323 [==============================] - 0s 116us/step - loss: 2.2844 - val_loss: 17.0865\n",
      "Epoch 342/1600\n",
      "323/323 [==============================] - 0s 118us/step - loss: 1.7964 - val_loss: 16.3457\n",
      "Epoch 343/1600\n",
      "323/323 [==============================] - 0s 117us/step - loss: 1.7564 - val_loss: 17.9200\n",
      "Epoch 344/1600\n",
      "323/323 [==============================] - 0s 115us/step - loss: 2.1424 - val_loss: 18.2174\n",
      "Epoch 345/1600\n",
      "323/323 [==============================] - 0s 118us/step - loss: 1.6351 - val_loss: 16.7773\n",
      "Epoch 346/1600\n",
      "323/323 [==============================] - 0s 118us/step - loss: 2.0536 - val_loss: 15.4476\n",
      "Epoch 347/1600\n",
      "323/323 [==============================] - 0s 119us/step - loss: 2.0290 - val_loss: 16.7340\n",
      "Epoch 348/1600\n",
      "323/323 [==============================] - 0s 119us/step - loss: 1.9963 - val_loss: 15.0579\n",
      "Epoch 349/1600\n",
      "323/323 [==============================] - 0s 125us/step - loss: 1.5870 - val_loss: 18.3663\n",
      "Epoch 350/1600\n",
      "323/323 [==============================] - 0s 118us/step - loss: 1.5044 - val_loss: 15.1577\n",
      "Epoch 351/1600\n",
      "323/323 [==============================] - 0s 116us/step - loss: 2.6738 - val_loss: 20.9371\n",
      "Epoch 352/1600\n",
      "323/323 [==============================] - 0s 119us/step - loss: 2.9015 - val_loss: 19.0860\n",
      "Epoch 353/1600\n",
      "323/323 [==============================] - 0s 115us/step - loss: 2.2181 - val_loss: 17.3512\n",
      "Epoch 354/1600\n",
      "323/323 [==============================] - 0s 114us/step - loss: 1.9431 - val_loss: 16.5149\n",
      "Epoch 355/1600\n",
      "323/323 [==============================] - 0s 120us/step - loss: 2.4656 - val_loss: 18.6710\n",
      "Epoch 356/1600\n",
      "323/323 [==============================] - 0s 115us/step - loss: 1.6339 - val_loss: 17.6621\n",
      "Epoch 357/1600\n",
      "323/323 [==============================] - 0s 117us/step - loss: 1.5845 - val_loss: 18.0183\n",
      "Epoch 358/1600\n",
      "323/323 [==============================] - 0s 119us/step - loss: 2.1613 - val_loss: 17.7360\n",
      "Epoch 359/1600\n",
      "323/323 [==============================] - 0s 117us/step - loss: 2.9676 - val_loss: 18.2562\n",
      "Epoch 360/1600\n",
      "323/323 [==============================] - 0s 115us/step - loss: 1.6796 - val_loss: 17.0151\n",
      "Epoch 361/1600\n",
      "323/323 [==============================] - 0s 119us/step - loss: 1.6048 - val_loss: 16.5588\n",
      "Epoch 362/1600\n",
      "323/323 [==============================] - 0s 115us/step - loss: 1.4349 - val_loss: 16.7866\n",
      "Epoch 363/1600\n",
      "323/323 [==============================] - 0s 118us/step - loss: 1.3813 - val_loss: 16.9289\n",
      "Epoch 364/1600\n",
      "323/323 [==============================] - 0s 119us/step - loss: 1.3686 - val_loss: 17.7492\n",
      "Epoch 365/1600\n",
      "323/323 [==============================] - 0s 122us/step - loss: 1.3920 - val_loss: 18.5868\n",
      "Epoch 366/1600\n",
      "323/323 [==============================] - 0s 117us/step - loss: 2.9677 - val_loss: 22.1462\n",
      "Epoch 367/1600\n",
      "323/323 [==============================] - 0s 120us/step - loss: 3.4264 - val_loss: 19.3085\n",
      "Epoch 368/1600\n",
      "323/323 [==============================] - 0s 121us/step - loss: 1.7361 - val_loss: 17.4172\n",
      "Epoch 369/1600\n",
      "323/323 [==============================] - 0s 116us/step - loss: 1.4995 - val_loss: 17.8284\n",
      "Epoch 370/1600\n",
      "323/323 [==============================] - 0s 118us/step - loss: 1.7579 - val_loss: 18.9206\n",
      "Epoch 371/1600\n",
      "323/323 [==============================] - 0s 121us/step - loss: 1.5928 - val_loss: 18.0263\n",
      "Epoch 372/1600\n",
      "323/323 [==============================] - 0s 115us/step - loss: 1.8059 - val_loss: 16.0237\n",
      "Epoch 373/1600\n",
      "323/323 [==============================] - 0s 116us/step - loss: 1.6083 - val_loss: 17.4809\n",
      "Epoch 374/1600\n",
      "323/323 [==============================] - 0s 122us/step - loss: 2.3335 - val_loss: 16.1434\n",
      "Epoch 375/1600\n",
      "323/323 [==============================] - 0s 128us/step - loss: 1.6943 - val_loss: 14.8955\n",
      "Epoch 376/1600\n",
      "323/323 [==============================] - 0s 118us/step - loss: 1.8715 - val_loss: 18.0837\n",
      "Epoch 377/1600\n",
      "323/323 [==============================] - 0s 120us/step - loss: 2.3054 - val_loss: 19.3072\n",
      "Epoch 378/1600\n",
      "323/323 [==============================] - 0s 116us/step - loss: 2.8386 - val_loss: 17.2873\n",
      "Epoch 379/1600\n",
      "323/323 [==============================] - 0s 117us/step - loss: 1.5520 - val_loss: 19.3704\n",
      "Epoch 380/1600\n",
      "323/323 [==============================] - 0s 119us/step - loss: 1.7578 - val_loss: 16.6522\n",
      "Epoch 381/1600\n",
      "323/323 [==============================] - 0s 116us/step - loss: 1.7657 - val_loss: 17.2495\n",
      "Epoch 382/1600\n",
      "323/323 [==============================] - 0s 117us/step - loss: 1.9964 - val_loss: 17.9589\n",
      "Epoch 383/1600\n"
     ]
    },
    {
     "name": "stdout",
     "output_type": "stream",
     "text": [
      "323/323 [==============================] - 0s 121us/step - loss: 1.4368 - val_loss: 16.7603\n",
      "Epoch 384/1600\n",
      "323/323 [==============================] - 0s 113us/step - loss: 1.6179 - val_loss: 16.2023\n",
      "Epoch 385/1600\n",
      "323/323 [==============================] - 0s 116us/step - loss: 1.6391 - val_loss: 16.0974\n",
      "Epoch 386/1600\n",
      "323/323 [==============================] - 0s 120us/step - loss: 1.3341 - val_loss: 17.7356\n",
      "Epoch 387/1600\n",
      "323/323 [==============================] - 0s 118us/step - loss: 1.3065 - val_loss: 17.9802\n",
      "Epoch 388/1600\n",
      "323/323 [==============================] - 0s 115us/step - loss: 1.8090 - val_loss: 17.4492\n",
      "Epoch 389/1600\n",
      "323/323 [==============================] - 0s 122us/step - loss: 1.4039 - val_loss: 17.7633\n",
      "Epoch 390/1600\n",
      "323/323 [==============================] - 0s 114us/step - loss: 1.9025 - val_loss: 15.9416\n",
      "Epoch 391/1600\n",
      "323/323 [==============================] - 0s 116us/step - loss: 1.8459 - val_loss: 16.2855\n",
      "Epoch 392/1600\n",
      "323/323 [==============================] - 0s 117us/step - loss: 1.4124 - val_loss: 17.6718\n",
      "Epoch 393/1600\n",
      "323/323 [==============================] - 0s 118us/step - loss: 1.5423 - val_loss: 15.7257\n",
      "Epoch 394/1600\n",
      "323/323 [==============================] - 0s 114us/step - loss: 2.1755 - val_loss: 17.4926\n",
      "Epoch 395/1600\n",
      "323/323 [==============================] - 0s 114us/step - loss: 1.6904 - val_loss: 15.3296\n",
      "Epoch 396/1600\n",
      "323/323 [==============================] - 0s 117us/step - loss: 1.5390 - val_loss: 16.8454\n",
      "Epoch 397/1600\n",
      "323/323 [==============================] - 0s 115us/step - loss: 1.3598 - val_loss: 18.0491\n",
      "Epoch 398/1600\n",
      "323/323 [==============================] - 0s 114us/step - loss: 1.1809 - val_loss: 15.3469\n",
      "Epoch 399/1600\n",
      "323/323 [==============================] - 0s 121us/step - loss: 1.3936 - val_loss: 17.5970\n",
      "Epoch 400/1600\n",
      "323/323 [==============================] - 0s 115us/step - loss: 3.3734 - val_loss: 16.8867\n",
      "Epoch 401/1600\n",
      "323/323 [==============================] - 0s 117us/step - loss: 1.9877 - val_loss: 19.9759\n",
      "Epoch 402/1600\n",
      "323/323 [==============================] - 0s 119us/step - loss: 1.8454 - val_loss: 17.5908\n",
      "Epoch 403/1600\n",
      "323/323 [==============================] - 0s 116us/step - loss: 2.1215 - val_loss: 17.9595\n",
      "Epoch 404/1600\n",
      "323/323 [==============================] - 0s 115us/step - loss: 1.8245 - val_loss: 15.3294\n",
      "Epoch 405/1600\n",
      "323/323 [==============================] - 0s 118us/step - loss: 3.4938 - val_loss: 19.7427\n",
      "Epoch 406/1600\n",
      "323/323 [==============================] - 0s 115us/step - loss: 2.3898 - val_loss: 18.5350\n",
      "Epoch 407/1600\n",
      "323/323 [==============================] - 0s 117us/step - loss: 2.1669 - val_loss: 17.8027\n",
      "Epoch 408/1600\n",
      "323/323 [==============================] - 0s 118us/step - loss: 1.6031 - val_loss: 15.7079\n",
      "Epoch 409/1600\n",
      "323/323 [==============================] - 0s 117us/step - loss: 1.7378 - val_loss: 17.9145\n",
      "Epoch 410/1600\n",
      "323/323 [==============================] - 0s 116us/step - loss: 1.7254 - val_loss: 15.2131\n",
      "Epoch 411/1600\n",
      "323/323 [==============================] - 0s 120us/step - loss: 1.2901 - val_loss: 17.1766\n",
      "Epoch 412/1600\n",
      "323/323 [==============================] - 0s 118us/step - loss: 1.2603 - val_loss: 17.0688\n",
      "Epoch 413/1600\n",
      "323/323 [==============================] - 0s 118us/step - loss: 1.6747 - val_loss: 20.4287\n",
      "Epoch 414/1600\n",
      "323/323 [==============================] - 0s 117us/step - loss: 1.6091 - val_loss: 17.3202\n",
      "Epoch 415/1600\n",
      "323/323 [==============================] - 0s 116us/step - loss: 1.9350 - val_loss: 15.9620\n",
      "Epoch 416/1600\n",
      "323/323 [==============================] - 0s 115us/step - loss: 1.8559 - val_loss: 17.4702\n",
      "Epoch 417/1600\n",
      "323/323 [==============================] - 0s 117us/step - loss: 2.0656 - val_loss: 16.5433\n",
      "Epoch 418/1600\n",
      "323/323 [==============================] - 0s 126us/step - loss: 1.3233 - val_loss: 14.6746\n",
      "Epoch 419/1600\n",
      "323/323 [==============================] - 0s 125us/step - loss: 1.7910 - val_loss: 16.7864\n",
      "Epoch 420/1600\n",
      "323/323 [==============================] - 0s 115us/step - loss: 1.5949 - val_loss: 18.5538\n",
      "Epoch 421/1600\n",
      "323/323 [==============================] - 0s 119us/step - loss: 1.8419 - val_loss: 19.3434\n",
      "Epoch 422/1600\n",
      "323/323 [==============================] - 0s 115us/step - loss: 1.9489 - val_loss: 16.7681\n",
      "Epoch 423/1600\n",
      "323/323 [==============================] - 0s 116us/step - loss: 1.6334 - val_loss: 18.0251\n",
      "Epoch 424/1600\n",
      "323/323 [==============================] - 0s 118us/step - loss: 1.8355 - val_loss: 18.8041\n",
      "Epoch 425/1600\n",
      "323/323 [==============================] - 0s 117us/step - loss: 1.8942 - val_loss: 18.5913\n",
      "Epoch 426/1600\n",
      "323/323 [==============================] - 0s 116us/step - loss: 1.3718 - val_loss: 16.9794\n",
      "Epoch 427/1600\n",
      "323/323 [==============================] - 0s 123us/step - loss: 1.3654 - val_loss: 18.0530\n",
      "Epoch 428/1600\n",
      "323/323 [==============================] - 0s 120us/step - loss: 1.1730 - val_loss: 16.2818\n",
      "Epoch 429/1600\n",
      "323/323 [==============================] - 0s 116us/step - loss: 1.3528 - val_loss: 16.2920\n",
      "Epoch 430/1600\n",
      "323/323 [==============================] - 0s 121us/step - loss: 1.2461 - val_loss: 17.0861\n",
      "Epoch 431/1600\n",
      "323/323 [==============================] - 0s 115us/step - loss: 1.3569 - val_loss: 16.4567\n",
      "Epoch 432/1600\n",
      "323/323 [==============================] - 0s 116us/step - loss: 1.4843 - val_loss: 18.5050\n",
      "Epoch 433/1600\n",
      "323/323 [==============================] - 0s 119us/step - loss: 1.8664 - val_loss: 17.5700\n",
      "Epoch 434/1600\n",
      "323/323 [==============================] - 0s 113us/step - loss: 1.9315 - val_loss: 18.9590\n",
      "Epoch 435/1600\n",
      "323/323 [==============================] - 0s 117us/step - loss: 2.0010 - val_loss: 14.5025\n",
      "Epoch 436/1600\n",
      "323/323 [==============================] - 0s 122us/step - loss: 2.5798 - val_loss: 19.9459\n",
      "Epoch 437/1600\n",
      "323/323 [==============================] - 0s 119us/step - loss: 2.4523 - val_loss: 18.1611\n",
      "Epoch 438/1600\n",
      "323/323 [==============================] - 0s 120us/step - loss: 1.5874 - val_loss: 15.8803\n",
      "Epoch 439/1600\n",
      "323/323 [==============================] - 0s 117us/step - loss: 1.2824 - val_loss: 18.6331\n",
      "Epoch 440/1600\n",
      "323/323 [==============================] - 0s 117us/step - loss: 1.7021 - val_loss: 15.8479\n",
      "Epoch 441/1600\n",
      "323/323 [==============================] - 0s 116us/step - loss: 1.4579 - val_loss: 18.4746\n",
      "Epoch 442/1600\n",
      "323/323 [==============================] - 0s 126us/step - loss: 2.1058 - val_loss: 17.3972\n",
      "Epoch 443/1600\n",
      "323/323 [==============================] - 0s 116us/step - loss: 1.5762 - val_loss: 18.8396\n",
      "Epoch 444/1600\n",
      "323/323 [==============================] - 0s 119us/step - loss: 1.9282 - val_loss: 16.7951\n",
      "Epoch 445/1600\n",
      "323/323 [==============================] - 0s 115us/step - loss: 2.3200 - val_loss: 18.2006\n",
      "Epoch 446/1600\n",
      "323/323 [==============================] - 0s 116us/step - loss: 1.8007 - val_loss: 15.9488\n",
      "Epoch 447/1600\n",
      "323/323 [==============================] - 0s 116us/step - loss: 1.4765 - val_loss: 17.3498\n",
      "Epoch 448/1600\n",
      "323/323 [==============================] - 0s 115us/step - loss: 1.2367 - val_loss: 17.0051\n",
      "Epoch 449/1600\n",
      "323/323 [==============================] - 0s 119us/step - loss: 1.2307 - val_loss: 16.2416\n",
      "Epoch 450/1600\n",
      "323/323 [==============================] - 0s 117us/step - loss: 1.5375 - val_loss: 16.7525\n",
      "Epoch 451/1600\n",
      "323/323 [==============================] - 0s 118us/step - loss: 1.3237 - val_loss: 15.6235\n",
      "Epoch 452/1600\n",
      "323/323 [==============================] - 0s 125us/step - loss: 1.2966 - val_loss: 17.8691\n",
      "Epoch 453/1600\n",
      "323/323 [==============================] - 0s 118us/step - loss: 1.4248 - val_loss: 16.9586\n",
      "Epoch 454/1600\n",
      "323/323 [==============================] - 0s 120us/step - loss: 1.5808 - val_loss: 18.2270\n",
      "Epoch 455/1600\n",
      "323/323 [==============================] - 0s 119us/step - loss: 1.9148 - val_loss: 16.5528\n",
      "Epoch 456/1600\n",
      "323/323 [==============================] - 0s 115us/step - loss: 1.6450 - val_loss: 21.5678\n",
      "Epoch 457/1600\n",
      "323/323 [==============================] - 0s 122us/step - loss: 1.6543 - val_loss: 15.6830\n",
      "Epoch 458/1600\n",
      "323/323 [==============================] - 0s 122us/step - loss: 1.3871 - val_loss: 19.1701\n",
      "Epoch 459/1600\n"
     ]
    },
    {
     "name": "stdout",
     "output_type": "stream",
     "text": [
      "323/323 [==============================] - 0s 115us/step - loss: 1.7578 - val_loss: 17.3067\n",
      "Epoch 460/1600\n",
      "323/323 [==============================] - 0s 116us/step - loss: 1.5257 - val_loss: 16.7187\n",
      "Epoch 461/1600\n",
      "323/323 [==============================] - 0s 118us/step - loss: 1.1599 - val_loss: 16.1425\n",
      "Epoch 462/1600\n",
      "323/323 [==============================] - 0s 117us/step - loss: 1.3273 - val_loss: 17.0557\n",
      "Epoch 463/1600\n",
      "323/323 [==============================] - 0s 116us/step - loss: 1.3988 - val_loss: 17.8799\n",
      "Epoch 464/1600\n",
      "323/323 [==============================] - 0s 117us/step - loss: 1.1117 - val_loss: 17.1087\n",
      "Epoch 465/1600\n",
      "323/323 [==============================] - 0s 118us/step - loss: 1.1900 - val_loss: 19.4311\n",
      "Epoch 466/1600\n",
      "323/323 [==============================] - 0s 119us/step - loss: 1.4015 - val_loss: 17.0953\n",
      "Epoch 467/1600\n",
      "323/323 [==============================] - 0s 117us/step - loss: 1.2716 - val_loss: 17.3803\n",
      "Epoch 468/1600\n",
      "323/323 [==============================] - 0s 118us/step - loss: 1.5895 - val_loss: 17.8754\n",
      "Epoch 469/1600\n",
      "323/323 [==============================] - 0s 114us/step - loss: 3.0419 - val_loss: 15.1560\n",
      "Epoch 470/1600\n",
      "323/323 [==============================] - 0s 117us/step - loss: 2.5366 - val_loss: 19.7339\n",
      "Epoch 471/1600\n",
      "323/323 [==============================] - 0s 120us/step - loss: 2.1782 - val_loss: 21.7882\n",
      "Epoch 472/1600\n",
      "323/323 [==============================] - 0s 116us/step - loss: 2.6723 - val_loss: 17.6738\n",
      "Epoch 473/1600\n",
      "323/323 [==============================] - 0s 115us/step - loss: 1.5930 - val_loss: 16.3393\n",
      "Epoch 474/1600\n",
      "323/323 [==============================] - 0s 117us/step - loss: 1.7799 - val_loss: 18.5450\n",
      "Epoch 475/1600\n",
      "323/323 [==============================] - 0s 114us/step - loss: 1.8952 - val_loss: 18.3414\n",
      "Epoch 476/1600\n",
      "323/323 [==============================] - 0s 116us/step - loss: 1.5058 - val_loss: 16.0733\n",
      "Epoch 477/1600\n",
      "323/323 [==============================] - 0s 122us/step - loss: 1.2798 - val_loss: 16.9668\n",
      "Epoch 478/1600\n",
      "323/323 [==============================] - 0s 114us/step - loss: 1.4161 - val_loss: 15.8237\n",
      "Epoch 479/1600\n",
      "323/323 [==============================] - 0s 119us/step - loss: 1.4147 - val_loss: 20.4067\n",
      "Epoch 480/1600\n",
      "323/323 [==============================] - 0s 122us/step - loss: 2.6721 - val_loss: 22.6685\n",
      "Epoch 481/1600\n",
      "323/323 [==============================] - 0s 116us/step - loss: 2.4681 - val_loss: 16.8143\n",
      "Epoch 482/1600\n",
      "323/323 [==============================] - 0s 117us/step - loss: 1.2877 - val_loss: 17.2196\n",
      "Epoch 483/1600\n",
      "323/323 [==============================] - 0s 118us/step - loss: 1.4854 - val_loss: 18.4010\n",
      "Epoch 484/1600\n",
      "323/323 [==============================] - 0s 116us/step - loss: 1.2915 - val_loss: 18.4679\n",
      "Epoch 485/1600\n",
      "323/323 [==============================] - 0s 115us/step - loss: 1.3340 - val_loss: 16.8251\n",
      "Epoch 486/1600\n",
      "323/323 [==============================] - 0s 121us/step - loss: 1.0538 - val_loss: 17.8024\n",
      "Epoch 487/1600\n",
      "323/323 [==============================] - 0s 115us/step - loss: 1.3614 - val_loss: 19.4888\n",
      "Epoch 488/1600\n",
      "323/323 [==============================] - 0s 116us/step - loss: 1.7078 - val_loss: 20.4588\n",
      "Epoch 489/1600\n",
      "323/323 [==============================] - 0s 116us/step - loss: 1.9118 - val_loss: 19.5692\n",
      "Epoch 490/1600\n",
      "323/323 [==============================] - 0s 117us/step - loss: 1.2911 - val_loss: 16.2564\n",
      "Epoch 491/1600\n",
      "323/323 [==============================] - 0s 116us/step - loss: 1.0262 - val_loss: 17.5416\n",
      "Epoch 492/1600\n",
      "323/323 [==============================] - 0s 114us/step - loss: 1.0937 - val_loss: 17.1242\n",
      "Epoch 493/1600\n",
      "323/323 [==============================] - 0s 120us/step - loss: 1.3368 - val_loss: 18.5102\n",
      "Epoch 494/1600\n",
      "323/323 [==============================] - 0s 116us/step - loss: 1.2889 - val_loss: 16.0938\n",
      "Epoch 495/1600\n",
      "323/323 [==============================] - 0s 115us/step - loss: 2.1655 - val_loss: 18.9753\n",
      "Epoch 496/1600\n",
      "323/323 [==============================] - 0s 123us/step - loss: 1.2245 - val_loss: 16.2020\n",
      "Epoch 497/1600\n",
      "323/323 [==============================] - 0s 120us/step - loss: 1.2564 - val_loss: 17.5792\n",
      "Epoch 498/1600\n",
      "323/323 [==============================] - 0s 116us/step - loss: 1.2816 - val_loss: 17.4104\n",
      "Epoch 499/1600\n",
      "323/323 [==============================] - 0s 121us/step - loss: 1.0388 - val_loss: 17.9105\n",
      "Epoch 500/1600\n",
      "323/323 [==============================] - 0s 116us/step - loss: 1.1226 - val_loss: 17.8644\n",
      "Epoch 501/1600\n",
      "323/323 [==============================] - 0s 115us/step - loss: 1.1993 - val_loss: 18.6550\n",
      "Epoch 502/1600\n",
      "323/323 [==============================] - 0s 118us/step - loss: 1.0067 - val_loss: 17.1225\n",
      "Epoch 503/1600\n",
      "323/323 [==============================] - 0s 117us/step - loss: 1.1585 - val_loss: 16.5922\n",
      "Epoch 504/1600\n",
      "323/323 [==============================] - 0s 115us/step - loss: 1.0254 - val_loss: 17.6408\n",
      "Epoch 505/1600\n",
      "323/323 [==============================] - 0s 121us/step - loss: 0.9678 - val_loss: 16.2562\n",
      "Epoch 506/1600\n",
      "323/323 [==============================] - 0s 120us/step - loss: 1.0672 - val_loss: 18.0924\n",
      "Epoch 507/1600\n",
      "323/323 [==============================] - 0s 115us/step - loss: 1.6093 - val_loss: 18.9984\n",
      "Epoch 508/1600\n",
      "323/323 [==============================] - 0s 118us/step - loss: 2.0991 - val_loss: 18.6939\n",
      "Epoch 509/1600\n",
      "323/323 [==============================] - 0s 117us/step - loss: 1.4440 - val_loss: 15.6869\n",
      "Epoch 510/1600\n",
      "323/323 [==============================] - 0s 115us/step - loss: 1.5707 - val_loss: 18.3911\n",
      "Epoch 511/1600\n",
      "323/323 [==============================] - 0s 115us/step - loss: 1.2530 - val_loss: 15.4210\n",
      "Epoch 512/1600\n",
      "323/323 [==============================] - 0s 121us/step - loss: 2.1794 - val_loss: 19.2672\n",
      "Epoch 513/1600\n",
      "323/323 [==============================] - 0s 114us/step - loss: 1.3701 - val_loss: 16.3180\n",
      "Epoch 514/1600\n",
      "323/323 [==============================] - 0s 116us/step - loss: 1.4115 - val_loss: 18.1430\n",
      "Epoch 515/1600\n",
      "323/323 [==============================] - 0s 120us/step - loss: 1.4964 - val_loss: 18.4651\n",
      "Epoch 516/1600\n",
      "323/323 [==============================] - 0s 117us/step - loss: 1.1746 - val_loss: 17.6508\n",
      "Epoch 517/1600\n",
      "323/323 [==============================] - 0s 119us/step - loss: 1.4460 - val_loss: 17.2767\n",
      "Epoch 518/1600\n",
      "323/323 [==============================] - 0s 122us/step - loss: 1.5209 - val_loss: 19.4207\n",
      "Epoch 519/1600\n",
      "323/323 [==============================] - 0s 114us/step - loss: 1.4896 - val_loss: 16.9944\n",
      "Epoch 520/1600\n",
      "323/323 [==============================] - 0s 119us/step - loss: 1.4059 - val_loss: 19.8866\n",
      "Epoch 521/1600\n",
      "323/323 [==============================] - 0s 119us/step - loss: 1.7423 - val_loss: 16.4154\n",
      "Epoch 522/1600\n",
      "323/323 [==============================] - 0s 114us/step - loss: 1.3186 - val_loss: 17.1304\n",
      "Epoch 523/1600\n",
      "323/323 [==============================] - 0s 114us/step - loss: 1.7074 - val_loss: 16.5321\n",
      "Epoch 524/1600\n",
      "323/323 [==============================] - 0s 120us/step - loss: 1.8959 - val_loss: 19.0260\n",
      "Epoch 525/1600\n",
      "323/323 [==============================] - 0s 116us/step - loss: 1.2534 - val_loss: 16.7798\n",
      "Epoch 526/1600\n",
      "323/323 [==============================] - 0s 116us/step - loss: 1.2962 - val_loss: 19.6343\n",
      "Epoch 527/1600\n",
      "323/323 [==============================] - 0s 121us/step - loss: 1.4818 - val_loss: 16.0721\n",
      "Epoch 528/1600\n",
      "323/323 [==============================] - 0s 116us/step - loss: 1.0402 - val_loss: 17.5190\n",
      "Epoch 529/1600\n",
      "323/323 [==============================] - 0s 115us/step - loss: 1.1693 - val_loss: 19.2668\n",
      "Epoch 530/1600\n",
      "323/323 [==============================] - 0s 119us/step - loss: 1.3490 - val_loss: 15.9265\n",
      "Epoch 531/1600\n",
      "323/323 [==============================] - 0s 121us/step - loss: 1.1192 - val_loss: 17.8376\n",
      "Epoch 532/1600\n",
      "323/323 [==============================] - 0s 119us/step - loss: 1.0798 - val_loss: 16.9907\n",
      "Epoch 533/1600\n",
      "323/323 [==============================] - 0s 117us/step - loss: 1.1793 - val_loss: 17.1758\n",
      "Epoch 534/1600\n",
      "323/323 [==============================] - 0s 117us/step - loss: 1.3788 - val_loss: 18.8548\n",
      "Epoch 535/1600\n"
     ]
    },
    {
     "name": "stdout",
     "output_type": "stream",
     "text": [
      "323/323 [==============================] - 0s 116us/step - loss: 2.2290 - val_loss: 16.7770\n",
      "Epoch 536/1600\n",
      "323/323 [==============================] - 0s 122us/step - loss: 1.2180 - val_loss: 18.9083\n",
      "Epoch 537/1600\n",
      "323/323 [==============================] - 0s 120us/step - loss: 1.3624 - val_loss: 18.9715\n",
      "Epoch 538/1600\n",
      "323/323 [==============================] - 0s 115us/step - loss: 1.1419 - val_loss: 15.1601\n",
      "Epoch 539/1600\n",
      "323/323 [==============================] - 0s 115us/step - loss: 1.2583 - val_loss: 18.2858\n",
      "Epoch 540/1600\n",
      "323/323 [==============================] - 0s 120us/step - loss: 1.1170 - val_loss: 17.5746\n",
      "Epoch 541/1600\n",
      "323/323 [==============================] - 0s 116us/step - loss: 1.1259 - val_loss: 16.8983\n",
      "Epoch 542/1600\n",
      "323/323 [==============================] - 0s 115us/step - loss: 1.2412 - val_loss: 18.3887\n",
      "Epoch 543/1600\n",
      "323/323 [==============================] - 0s 121us/step - loss: 1.2489 - val_loss: 15.9835\n",
      "Epoch 544/1600\n",
      "323/323 [==============================] - 0s 117us/step - loss: 0.9883 - val_loss: 18.1558\n",
      "Epoch 545/1600\n",
      "323/323 [==============================] - 0s 115us/step - loss: 1.5119 - val_loss: 21.6849\n",
      "Epoch 546/1600\n",
      "323/323 [==============================] - 0s 119us/step - loss: 3.2953 - val_loss: 16.2979\n",
      "Epoch 547/1600\n",
      "323/323 [==============================] - 0s 116us/step - loss: 2.2154 - val_loss: 16.0352\n",
      "Epoch 548/1600\n",
      "323/323 [==============================] - 0s 115us/step - loss: 1.5502 - val_loss: 18.9305\n",
      "Epoch 549/1600\n",
      "323/323 [==============================] - 0s 119us/step - loss: 1.6143 - val_loss: 14.3817\n",
      "Epoch 550/1600\n",
      "323/323 [==============================] - 0s 116us/step - loss: 1.3130 - val_loss: 17.0871\n",
      "Epoch 551/1600\n",
      "323/323 [==============================] - 0s 115us/step - loss: 1.1535 - val_loss: 16.7577\n",
      "Epoch 552/1600\n",
      "323/323 [==============================] - 0s 116us/step - loss: 1.1906 - val_loss: 17.7816\n",
      "Epoch 553/1600\n",
      "323/323 [==============================] - 0s 119us/step - loss: 1.1408 - val_loss: 20.1646\n",
      "Epoch 554/1600\n",
      "323/323 [==============================] - 0s 117us/step - loss: 1.5523 - val_loss: 16.2990\n",
      "Epoch 555/1600\n",
      "323/323 [==============================] - 0s 116us/step - loss: 1.0895 - val_loss: 17.6074\n",
      "Epoch 556/1600\n",
      "323/323 [==============================] - 0s 116us/step - loss: 1.2985 - val_loss: 18.6649\n",
      "Epoch 557/1600\n",
      "323/323 [==============================] - 0s 117us/step - loss: 1.4994 - val_loss: 16.2173\n",
      "Epoch 558/1600\n",
      "323/323 [==============================] - 0s 122us/step - loss: 1.5185 - val_loss: 17.3516\n",
      "Epoch 559/1600\n",
      "323/323 [==============================] - 0s 117us/step - loss: 2.5147 - val_loss: 18.7492\n",
      "Epoch 560/1600\n",
      "323/323 [==============================] - 0s 118us/step - loss: 1.6034 - val_loss: 17.2504\n",
      "Epoch 561/1600\n",
      "323/323 [==============================] - 0s 116us/step - loss: 1.2063 - val_loss: 16.8517\n",
      "Epoch 562/1600\n",
      "323/323 [==============================] - 0s 118us/step - loss: 1.0202 - val_loss: 16.6789\n",
      "Epoch 563/1600\n",
      "323/323 [==============================] - 0s 117us/step - loss: 1.1127 - val_loss: 16.7057\n",
      "Epoch 564/1600\n",
      "323/323 [==============================] - 0s 116us/step - loss: 2.3059 - val_loss: 17.7528\n",
      "Epoch 565/1600\n",
      "323/323 [==============================] - 0s 120us/step - loss: 2.5717 - val_loss: 17.4423\n",
      "Epoch 566/1600\n",
      "323/323 [==============================] - 0s 116us/step - loss: 1.4812 - val_loss: 17.7092\n",
      "Epoch 567/1600\n",
      "323/323 [==============================] - 0s 115us/step - loss: 1.4265 - val_loss: 17.2767\n",
      "Epoch 568/1600\n",
      "323/323 [==============================] - 0s 121us/step - loss: 1.4143 - val_loss: 15.2939\n",
      "Epoch 569/1600\n",
      "323/323 [==============================] - 0s 116us/step - loss: 1.9599 - val_loss: 18.5074\n",
      "Epoch 570/1600\n",
      "323/323 [==============================] - 0s 116us/step - loss: 1.0447 - val_loss: 15.9520\n",
      "Epoch 571/1600\n",
      "323/323 [==============================] - 0s 117us/step - loss: 1.2126 - val_loss: 18.1854\n",
      "Epoch 572/1600\n",
      "323/323 [==============================] - 0s 117us/step - loss: 1.2153 - val_loss: 18.0534\n",
      "Epoch 573/1600\n",
      "323/323 [==============================] - 0s 118us/step - loss: 0.9796 - val_loss: 17.6668\n",
      "Epoch 574/1600\n",
      "323/323 [==============================] - 0s 118us/step - loss: 1.3143 - val_loss: 16.7146\n",
      "Epoch 575/1600\n",
      "323/323 [==============================] - 0s 119us/step - loss: 1.2562 - val_loss: 19.2026\n",
      "Epoch 576/1600\n",
      "323/323 [==============================] - 0s 119us/step - loss: 1.6014 - val_loss: 19.5236\n",
      "Epoch 577/1600\n",
      "323/323 [==============================] - 0s 116us/step - loss: 1.8937 - val_loss: 15.8807\n",
      "Epoch 578/1600\n",
      "323/323 [==============================] - 0s 117us/step - loss: 1.3188 - val_loss: 18.1941\n",
      "Epoch 579/1600\n",
      "323/323 [==============================] - 0s 114us/step - loss: 1.1872 - val_loss: 15.8595\n",
      "Epoch 580/1600\n",
      "323/323 [==============================] - 0s 118us/step - loss: 0.9482 - val_loss: 16.0581\n",
      "Epoch 581/1600\n",
      "323/323 [==============================] - 0s 121us/step - loss: 0.9143 - val_loss: 19.2523\n",
      "Epoch 582/1600\n",
      "323/323 [==============================] - 0s 115us/step - loss: 1.4670 - val_loss: 16.3632\n",
      "Epoch 583/1600\n",
      "323/323 [==============================] - 0s 116us/step - loss: 1.1987 - val_loss: 17.1104\n",
      "Epoch 584/1600\n",
      "323/323 [==============================] - 0s 130us/step - loss: 1.1502 - val_loss: 15.3855\n",
      "Epoch 585/1600\n",
      "323/323 [==============================] - 0s 114us/step - loss: 1.3029 - val_loss: 16.9636\n",
      "Epoch 586/1600\n",
      "323/323 [==============================] - 0s 115us/step - loss: 1.0196 - val_loss: 17.5353\n",
      "Epoch 587/1600\n",
      "323/323 [==============================] - 0s 122us/step - loss: 0.9757 - val_loss: 16.4840\n",
      "Epoch 588/1600\n",
      "323/323 [==============================] - 0s 116us/step - loss: 1.1199 - val_loss: 17.4129\n",
      "Epoch 589/1600\n",
      "323/323 [==============================] - 0s 118us/step - loss: 0.9240 - val_loss: 17.1857\n",
      "Epoch 590/1600\n",
      "323/323 [==============================] - 0s 118us/step - loss: 0.7869 - val_loss: 16.8090\n",
      "Epoch 591/1600\n",
      "323/323 [==============================] - 0s 115us/step - loss: 0.9537 - val_loss: 16.8589\n",
      "Epoch 592/1600\n",
      "323/323 [==============================] - 0s 116us/step - loss: 0.9686 - val_loss: 17.3913\n",
      "Epoch 593/1600\n",
      "323/323 [==============================] - 0s 120us/step - loss: 1.0113 - val_loss: 19.1428\n",
      "Epoch 594/1600\n",
      "323/323 [==============================] - 0s 118us/step - loss: 1.1369 - val_loss: 17.6496\n",
      "Epoch 595/1600\n",
      "323/323 [==============================] - 0s 119us/step - loss: 1.1204 - val_loss: 17.8197\n",
      "Epoch 596/1600\n",
      "323/323 [==============================] - 0s 122us/step - loss: 1.1120 - val_loss: 19.1690\n",
      "Epoch 597/1600\n",
      "323/323 [==============================] - 0s 116us/step - loss: 1.6172 - val_loss: 17.7867\n",
      "Epoch 598/1600\n",
      "323/323 [==============================] - 0s 116us/step - loss: 1.2618 - val_loss: 16.5780\n",
      "Epoch 599/1600\n",
      "323/323 [==============================] - 0s 116us/step - loss: 1.1751 - val_loss: 16.2659\n",
      "Epoch 600/1600\n",
      "323/323 [==============================] - 0s 123us/step - loss: 1.1038 - val_loss: 18.2803\n",
      "Epoch 601/1600\n",
      "323/323 [==============================] - 0s 118us/step - loss: 1.0043 - val_loss: 16.8203\n",
      "Epoch 602/1600\n",
      "323/323 [==============================] - 0s 117us/step - loss: 0.8258 - val_loss: 17.4083\n",
      "Epoch 603/1600\n",
      "323/323 [==============================] - 0s 119us/step - loss: 0.8864 - val_loss: 19.0360\n",
      "Epoch 604/1600\n",
      "323/323 [==============================] - 0s 115us/step - loss: 1.5882 - val_loss: 15.7090\n",
      "Epoch 605/1600\n",
      "323/323 [==============================] - 0s 116us/step - loss: 3.6199 - val_loss: 21.8896\n",
      "Epoch 606/1600\n",
      "323/323 [==============================] - 0s 122us/step - loss: 2.9578 - val_loss: 17.5113\n",
      "Epoch 607/1600\n",
      "323/323 [==============================] - 0s 113us/step - loss: 2.0278 - val_loss: 17.7018\n",
      "Epoch 608/1600\n",
      "323/323 [==============================] - 0s 115us/step - loss: 1.6167 - val_loss: 17.6408\n",
      "Epoch 609/1600\n",
      "323/323 [==============================] - 0s 118us/step - loss: 1.0799 - val_loss: 16.9273\n",
      "Epoch 610/1600\n",
      "323/323 [==============================] - 0s 130us/step - loss: 1.3759 - val_loss: 19.4712\n",
      "Epoch 611/1600\n"
     ]
    },
    {
     "name": "stdout",
     "output_type": "stream",
     "text": [
      "323/323 [==============================] - 0s 116us/step - loss: 1.1328 - val_loss: 15.9375\n",
      "Epoch 612/1600\n",
      "323/323 [==============================] - 0s 117us/step - loss: 1.0712 - val_loss: 17.8806\n",
      "Epoch 613/1600\n",
      "323/323 [==============================] - 0s 116us/step - loss: 1.8833 - val_loss: 16.2909\n",
      "Epoch 614/1600\n",
      "323/323 [==============================] - 0s 117us/step - loss: 1.6138 - val_loss: 18.0541\n",
      "Epoch 615/1600\n",
      "323/323 [==============================] - 0s 126us/step - loss: 1.3212 - val_loss: 17.6842\n",
      "Epoch 616/1600\n",
      "323/323 [==============================] - 0s 118us/step - loss: 1.3887 - val_loss: 16.0434\n",
      "Epoch 617/1600\n",
      "323/323 [==============================] - 0s 115us/step - loss: 1.1632 - val_loss: 17.3765\n",
      "Epoch 618/1600\n",
      "323/323 [==============================] - 0s 120us/step - loss: 1.0350 - val_loss: 16.8418\n",
      "Epoch 619/1600\n",
      "323/323 [==============================] - 0s 115us/step - loss: 1.7838 - val_loss: 17.8994\n",
      "Epoch 620/1600\n",
      "323/323 [==============================] - 0s 115us/step - loss: 1.5504 - val_loss: 18.3240\n",
      "Epoch 621/1600\n",
      "323/323 [==============================] - 0s 122us/step - loss: 1.8042 - val_loss: 17.8407\n",
      "Epoch 622/1600\n",
      "323/323 [==============================] - 0s 115us/step - loss: 2.7915 - val_loss: 21.5727\n",
      "Epoch 623/1600\n",
      "323/323 [==============================] - 0s 115us/step - loss: 1.6074 - val_loss: 16.9831\n",
      "Epoch 624/1600\n",
      "323/323 [==============================] - 0s 119us/step - loss: 1.1054 - val_loss: 18.3410\n",
      "Epoch 625/1600\n",
      "323/323 [==============================] - 0s 117us/step - loss: 1.0979 - val_loss: 15.9527\n",
      "Epoch 626/1600\n",
      "323/323 [==============================] - 0s 116us/step - loss: 1.3541 - val_loss: 16.2558\n",
      "Epoch 627/1600\n",
      "323/323 [==============================] - 0s 137us/step - loss: 1.2585 - val_loss: 19.1760\n",
      "Epoch 628/1600\n",
      "323/323 [==============================] - 0s 119us/step - loss: 3.0885 - val_loss: 18.7132\n",
      "Epoch 629/1600\n",
      "323/323 [==============================] - 0s 115us/step - loss: 2.0040 - val_loss: 16.5070\n",
      "Epoch 630/1600\n",
      "323/323 [==============================] - 0s 116us/step - loss: 1.3212 - val_loss: 16.5756\n",
      "Epoch 631/1600\n",
      "323/323 [==============================] - 0s 119us/step - loss: 1.1892 - val_loss: 16.0125\n",
      "Epoch 632/1600\n",
      "323/323 [==============================] - 0s 117us/step - loss: 1.1952 - val_loss: 17.4625\n",
      "Epoch 633/1600\n",
      "323/323 [==============================] - 0s 119us/step - loss: 1.9362 - val_loss: 16.8340\n",
      "Epoch 634/1600\n",
      "323/323 [==============================] - 0s 117us/step - loss: 1.3582 - val_loss: 17.6220\n",
      "Epoch 635/1600\n",
      "323/323 [==============================] - 0s 117us/step - loss: 1.1204 - val_loss: 16.2624\n",
      "Epoch 636/1600\n",
      "323/323 [==============================] - 0s 121us/step - loss: 1.0553 - val_loss: 19.0103\n",
      "Epoch 637/1600\n",
      "323/323 [==============================] - 0s 120us/step - loss: 1.0179 - val_loss: 16.2643\n",
      "Epoch 638/1600\n",
      "323/323 [==============================] - 0s 116us/step - loss: 1.1953 - val_loss: 18.0634\n",
      "Epoch 639/1600\n",
      "323/323 [==============================] - 0s 114us/step - loss: 1.1331 - val_loss: 17.7042\n",
      "Epoch 640/1600\n",
      "323/323 [==============================] - 0s 122us/step - loss: 1.3743 - val_loss: 16.6022\n",
      "Epoch 641/1600\n",
      "323/323 [==============================] - 0s 115us/step - loss: 1.0912 - val_loss: 17.7196\n",
      "Epoch 642/1600\n",
      "323/323 [==============================] - 0s 116us/step - loss: 0.9863 - val_loss: 17.0324\n",
      "Epoch 643/1600\n",
      "323/323 [==============================] - 0s 120us/step - loss: 1.2713 - val_loss: 15.0532\n",
      "Epoch 644/1600\n",
      "323/323 [==============================] - 0s 115us/step - loss: 1.5209 - val_loss: 18.9957\n",
      "Epoch 645/1600\n",
      "323/323 [==============================] - 0s 115us/step - loss: 1.0343 - val_loss: 18.0010\n",
      "Epoch 646/1600\n",
      "323/323 [==============================] - 0s 117us/step - loss: 0.8000 - val_loss: 18.1270\n",
      "Epoch 647/1600\n",
      "323/323 [==============================] - 0s 118us/step - loss: 1.0398 - val_loss: 17.3930\n",
      "Epoch 648/1600\n",
      "323/323 [==============================] - 0s 115us/step - loss: 1.0212 - val_loss: 15.9068\n",
      "Epoch 649/1600\n",
      "323/323 [==============================] - 0s 118us/step - loss: 1.0263 - val_loss: 16.2731\n",
      "Epoch 650/1600\n",
      "323/323 [==============================] - 0s 117us/step - loss: 0.9516 - val_loss: 18.5246\n",
      "Epoch 651/1600\n",
      "323/323 [==============================] - 0s 118us/step - loss: 0.9582 - val_loss: 16.4816\n",
      "Epoch 652/1600\n",
      "323/323 [==============================] - 0s 118us/step - loss: 1.1005 - val_loss: 18.2370\n",
      "Epoch 653/1600\n",
      "323/323 [==============================] - 0s 116us/step - loss: 0.8420 - val_loss: 16.3669\n",
      "Epoch 654/1600\n",
      "323/323 [==============================] - 0s 122us/step - loss: 0.8985 - val_loss: 19.1804\n",
      "Epoch 655/1600\n",
      "323/323 [==============================] - 0s 118us/step - loss: 1.6069 - val_loss: 18.3003\n",
      "Epoch 656/1600\n",
      "323/323 [==============================] - 0s 119us/step - loss: 1.0043 - val_loss: 17.5608\n",
      "Epoch 657/1600\n",
      "323/323 [==============================] - 0s 118us/step - loss: 1.0505 - val_loss: 17.8884\n",
      "Epoch 658/1600\n",
      "323/323 [==============================] - 0s 119us/step - loss: 0.9117 - val_loss: 17.0892\n",
      "Epoch 659/1600\n",
      "323/323 [==============================] - 0s 118us/step - loss: 1.0606 - val_loss: 17.4702\n",
      "Epoch 660/1600\n",
      "323/323 [==============================] - 0s 117us/step - loss: 0.8539 - val_loss: 16.6623\n",
      "Epoch 661/1600\n",
      "323/323 [==============================] - 0s 119us/step - loss: 0.9469 - val_loss: 20.4884\n",
      "Epoch 662/1600\n",
      "323/323 [==============================] - 0s 125us/step - loss: 1.0292 - val_loss: 16.5617\n",
      "Epoch 663/1600\n",
      "323/323 [==============================] - 0s 116us/step - loss: 0.8811 - val_loss: 16.5308\n",
      "Epoch 664/1600\n",
      "323/323 [==============================] - 0s 116us/step - loss: 0.8192 - val_loss: 17.3321\n",
      "Epoch 665/1600\n",
      "323/323 [==============================] - 0s 122us/step - loss: 1.2922 - val_loss: 18.3487\n",
      "Epoch 666/1600\n",
      "323/323 [==============================] - 0s 115us/step - loss: 2.9439 - val_loss: 16.5044\n",
      "Epoch 667/1600\n",
      "323/323 [==============================] - 0s 115us/step - loss: 3.0858 - val_loss: 17.4887\n",
      "Epoch 668/1600\n",
      "323/323 [==============================] - 0s 119us/step - loss: 1.5946 - val_loss: 18.8493\n",
      "Epoch 669/1600\n",
      "323/323 [==============================] - 0s 115us/step - loss: 1.1578 - val_loss: 16.0606\n",
      "Epoch 670/1600\n",
      "323/323 [==============================] - 0s 118us/step - loss: 1.0308 - val_loss: 16.9252\n",
      "Epoch 671/1600\n",
      "323/323 [==============================] - 0s 119us/step - loss: 0.8965 - val_loss: 17.5993\n",
      "Epoch 672/1600\n",
      "323/323 [==============================] - 0s 120us/step - loss: 1.6975 - val_loss: 16.5354\n",
      "Epoch 673/1600\n",
      "323/323 [==============================] - 0s 118us/step - loss: 1.3352 - val_loss: 17.6767\n",
      "Epoch 674/1600\n",
      "323/323 [==============================] - 0s 119us/step - loss: 1.0567 - val_loss: 16.1309\n",
      "Epoch 675/1600\n",
      "323/323 [==============================] - 0s 118us/step - loss: 1.2888 - val_loss: 18.0312\n",
      "Epoch 676/1600\n",
      "323/323 [==============================] - 0s 118us/step - loss: 1.2489 - val_loss: 17.9980\n",
      "Epoch 677/1600\n",
      "323/323 [==============================] - 0s 116us/step - loss: 0.8630 - val_loss: 16.3527\n",
      "Epoch 678/1600\n",
      "323/323 [==============================] - 0s 123us/step - loss: 0.9964 - val_loss: 17.8654\n",
      "Epoch 679/1600\n",
      "323/323 [==============================] - 0s 116us/step - loss: 0.9777 - val_loss: 16.9032\n",
      "Epoch 680/1600\n",
      "323/323 [==============================] - 0s 116us/step - loss: 1.0935 - val_loss: 15.6003\n",
      "Epoch 681/1600\n",
      "323/323 [==============================] - 0s 117us/step - loss: 1.4638 - val_loss: 20.2602\n",
      "Epoch 682/1600\n",
      "323/323 [==============================] - 0s 115us/step - loss: 1.6088 - val_loss: 17.9614\n",
      "Epoch 683/1600\n",
      "323/323 [==============================] - 0s 116us/step - loss: 1.9204 - val_loss: 21.8004\n",
      "Epoch 684/1600\n",
      "323/323 [==============================] - 0s 117us/step - loss: 3.5554 - val_loss: 19.1247\n",
      "Epoch 685/1600\n",
      "323/323 [==============================] - 0s 119us/step - loss: 2.1139 - val_loss: 16.9928\n",
      "Epoch 686/1600\n",
      "323/323 [==============================] - 0s 115us/step - loss: 1.7093 - val_loss: 17.5856\n",
      "Epoch 687/1600\n"
     ]
    },
    {
     "name": "stdout",
     "output_type": "stream",
     "text": [
      "323/323 [==============================] - 0s 123us/step - loss: 1.0784 - val_loss: 17.8085\n",
      "Epoch 688/1600\n",
      "323/323 [==============================] - 0s 128us/step - loss: 1.5843 - val_loss: 19.0276\n",
      "Epoch 689/1600\n",
      "323/323 [==============================] - 0s 116us/step - loss: 1.0752 - val_loss: 16.3826\n",
      "Epoch 690/1600\n",
      "323/323 [==============================] - 0s 121us/step - loss: 1.7401 - val_loss: 17.6563\n",
      "Epoch 691/1600\n",
      "323/323 [==============================] - 0s 118us/step - loss: 1.2267 - val_loss: 16.9238\n",
      "Epoch 692/1600\n",
      "323/323 [==============================] - 0s 114us/step - loss: 1.1469 - val_loss: 17.3382\n",
      "Epoch 693/1600\n",
      "323/323 [==============================] - 0s 123us/step - loss: 1.1027 - val_loss: 16.7267\n",
      "Epoch 694/1600\n",
      "323/323 [==============================] - 0s 118us/step - loss: 1.0926 - val_loss: 16.5115\n",
      "Epoch 695/1600\n",
      "323/323 [==============================] - 0s 115us/step - loss: 1.2979 - val_loss: 17.0541\n",
      "Epoch 696/1600\n",
      "323/323 [==============================] - 0s 120us/step - loss: 1.1454 - val_loss: 17.7057\n",
      "Epoch 697/1600\n",
      "323/323 [==============================] - 0s 116us/step - loss: 1.0172 - val_loss: 16.4764\n",
      "Epoch 698/1600\n",
      "323/323 [==============================] - 0s 120us/step - loss: 0.8835 - val_loss: 16.9242\n",
      "Epoch 699/1600\n",
      "323/323 [==============================] - 0s 119us/step - loss: 0.7959 - val_loss: 16.2323\n",
      "Epoch 700/1600\n",
      "323/323 [==============================] - 0s 118us/step - loss: 0.9000 - val_loss: 16.7881\n",
      "Epoch 701/1600\n",
      "323/323 [==============================] - 0s 116us/step - loss: 1.0078 - val_loss: 16.5598\n",
      "Epoch 702/1600\n",
      "323/323 [==============================] - 0s 117us/step - loss: 1.0105 - val_loss: 17.3983\n",
      "Epoch 703/1600\n",
      "323/323 [==============================] - 0s 116us/step - loss: 1.1608 - val_loss: 15.9812\n",
      "Epoch 704/1600\n",
      "323/323 [==============================] - 0s 117us/step - loss: 0.9937 - val_loss: 17.1896\n",
      "Epoch 705/1600\n",
      "323/323 [==============================] - 0s 117us/step - loss: 1.0103 - val_loss: 18.3310\n",
      "Epoch 706/1600\n",
      "323/323 [==============================] - 0s 121us/step - loss: 0.9842 - val_loss: 17.0021\n",
      "Epoch 707/1600\n",
      "323/323 [==============================] - 0s 119us/step - loss: 0.9997 - val_loss: 17.8107\n",
      "Epoch 708/1600\n",
      "323/323 [==============================] - 0s 116us/step - loss: 0.8879 - val_loss: 16.9735\n",
      "Epoch 709/1600\n",
      "323/323 [==============================] - 0s 118us/step - loss: 0.9515 - val_loss: 16.8075\n",
      "Epoch 710/1600\n",
      "323/323 [==============================] - 0s 117us/step - loss: 1.0930 - val_loss: 17.5785\n",
      "Epoch 711/1600\n",
      "323/323 [==============================] - 0s 116us/step - loss: 1.0360 - val_loss: 15.2209\n",
      "Epoch 712/1600\n",
      "323/323 [==============================] - 0s 118us/step - loss: 1.1432 - val_loss: 18.9691\n",
      "Epoch 713/1600\n",
      "323/323 [==============================] - 0s 119us/step - loss: 1.0140 - val_loss: 16.2776\n",
      "Epoch 714/1600\n",
      "323/323 [==============================] - 0s 116us/step - loss: 0.9828 - val_loss: 18.3279\n",
      "Epoch 715/1600\n",
      "323/323 [==============================] - 0s 120us/step - loss: 0.9627 - val_loss: 15.8257\n",
      "Epoch 716/1600\n",
      "323/323 [==============================] - 0s 117us/step - loss: 1.4355 - val_loss: 18.5467\n",
      "Epoch 717/1600\n",
      "323/323 [==============================] - 0s 119us/step - loss: 1.2618 - val_loss: 16.7383\n",
      "Epoch 718/1600\n",
      "323/323 [==============================] - 0s 119us/step - loss: 1.4910 - val_loss: 17.6032\n",
      "Epoch 719/1600\n",
      "323/323 [==============================] - 0s 115us/step - loss: 0.9188 - val_loss: 16.6567\n",
      "Epoch 720/1600\n",
      "323/323 [==============================] - 0s 115us/step - loss: 1.4120 - val_loss: 18.7328\n",
      "Epoch 721/1600\n",
      "323/323 [==============================] - 0s 119us/step - loss: 1.0343 - val_loss: 16.5454\n",
      "Epoch 722/1600\n",
      "323/323 [==============================] - 0s 116us/step - loss: 2.5492 - val_loss: 14.6175\n",
      "Epoch 723/1600\n",
      "323/323 [==============================] - 0s 117us/step - loss: 2.8559 - val_loss: 18.0197\n",
      "Epoch 724/1600\n",
      "323/323 [==============================] - 0s 126us/step - loss: 1.7680 - val_loss: 16.6490\n",
      "Epoch 725/1600\n",
      "323/323 [==============================] - 0s 116us/step - loss: 1.2029 - val_loss: 16.9050\n",
      "Epoch 726/1600\n",
      "323/323 [==============================] - 0s 118us/step - loss: 1.2749 - val_loss: 16.8000\n",
      "Epoch 727/1600\n",
      "323/323 [==============================] - 0s 122us/step - loss: 1.1075 - val_loss: 16.1023\n",
      "Epoch 728/1600\n",
      "323/323 [==============================] - 0s 116us/step - loss: 1.2351 - val_loss: 19.1379\n",
      "Epoch 729/1600\n",
      "323/323 [==============================] - 0s 115us/step - loss: 1.3856 - val_loss: 17.4341\n",
      "Epoch 730/1600\n",
      "323/323 [==============================] - 0s 120us/step - loss: 1.5000 - val_loss: 15.9764\n",
      "Epoch 731/1600\n",
      "323/323 [==============================] - 0s 122us/step - loss: 1.9016 - val_loss: 17.1359\n",
      "Epoch 732/1600\n",
      "323/323 [==============================] - 0s 119us/step - loss: 1.6781 - val_loss: 17.7931\n",
      "Epoch 733/1600\n",
      "323/323 [==============================] - 0s 120us/step - loss: 1.2709 - val_loss: 17.0130\n",
      "Epoch 734/1600\n",
      "323/323 [==============================] - 0s 118us/step - loss: 1.5306 - val_loss: 17.5457\n",
      "Epoch 735/1600\n",
      "323/323 [==============================] - 0s 115us/step - loss: 1.3896 - val_loss: 17.2568\n",
      "Epoch 736/1600\n",
      "323/323 [==============================] - 0s 115us/step - loss: 1.1412 - val_loss: 16.3528\n",
      "Epoch 737/1600\n",
      "323/323 [==============================] - 0s 118us/step - loss: 1.1379 - val_loss: 16.3004\n",
      "Epoch 738/1600\n",
      "323/323 [==============================] - 0s 117us/step - loss: 2.4505 - val_loss: 17.0428\n",
      "Epoch 739/1600\n",
      "323/323 [==============================] - 0s 119us/step - loss: 2.1907 - val_loss: 17.7842\n",
      "Epoch 740/1600\n",
      "323/323 [==============================] - 0s 124us/step - loss: 1.8093 - val_loss: 18.1533\n",
      "Epoch 741/1600\n",
      "323/323 [==============================] - 0s 115us/step - loss: 1.1705 - val_loss: 16.3366\n",
      "Epoch 742/1600\n",
      "323/323 [==============================] - 0s 115us/step - loss: 0.9111 - val_loss: 15.1973\n",
      "Epoch 743/1600\n",
      "323/323 [==============================] - 0s 120us/step - loss: 0.8673 - val_loss: 17.5887\n",
      "Epoch 744/1600\n",
      "323/323 [==============================] - 0s 114us/step - loss: 0.7563 - val_loss: 17.1433\n",
      "Epoch 745/1600\n",
      "323/323 [==============================] - 0s 116us/step - loss: 0.9126 - val_loss: 17.0913\n",
      "Epoch 746/1600\n",
      "323/323 [==============================] - 0s 120us/step - loss: 0.7943 - val_loss: 17.9360\n",
      "Epoch 747/1600\n",
      "323/323 [==============================] - 0s 116us/step - loss: 1.0006 - val_loss: 16.0182\n",
      "Epoch 748/1600\n",
      "323/323 [==============================] - 0s 114us/step - loss: 0.8683 - val_loss: 18.3228\n",
      "Epoch 749/1600\n",
      "323/323 [==============================] - 0s 118us/step - loss: 0.9868 - val_loss: 15.7751\n",
      "Epoch 750/1600\n",
      "323/323 [==============================] - 0s 118us/step - loss: 1.0457 - val_loss: 17.5293\n",
      "Epoch 751/1600\n",
      "323/323 [==============================] - 0s 117us/step - loss: 1.0301 - val_loss: 17.1588\n",
      "Epoch 752/1600\n",
      "323/323 [==============================] - 0s 116us/step - loss: 0.9396 - val_loss: 17.1852\n",
      "Epoch 753/1600\n",
      "323/323 [==============================] - 0s 116us/step - loss: 1.1280 - val_loss: 19.6201\n",
      "Epoch 754/1600\n",
      "323/323 [==============================] - 0s 115us/step - loss: 1.3090 - val_loss: 16.7878\n",
      "Epoch 755/1600\n",
      "323/323 [==============================] - 0s 117us/step - loss: 0.8929 - val_loss: 16.1795\n",
      "Epoch 756/1600\n",
      "323/323 [==============================] - 0s 117us/step - loss: 2.2501 - val_loss: 18.6389\n",
      "Epoch 757/1600\n",
      "323/323 [==============================] - 0s 115us/step - loss: 2.1621 - val_loss: 17.6233\n",
      "Epoch 758/1600\n",
      "323/323 [==============================] - 0s 114us/step - loss: 1.5615 - val_loss: 21.7048\n",
      "Epoch 759/1600\n",
      "323/323 [==============================] - 0s 121us/step - loss: 2.5079 - val_loss: 18.3417\n",
      "Epoch 760/1600\n",
      "323/323 [==============================] - 0s 114us/step - loss: 1.5398 - val_loss: 19.0751\n",
      "Epoch 761/1600\n",
      "323/323 [==============================] - 0s 115us/step - loss: 1.1098 - val_loss: 16.7825\n",
      "Epoch 762/1600\n",
      "323/323 [==============================] - 0s 120us/step - loss: 0.9307 - val_loss: 16.4169\n",
      "Epoch 763/1600\n"
     ]
    },
    {
     "name": "stdout",
     "output_type": "stream",
     "text": [
      "323/323 [==============================] - 0s 118us/step - loss: 1.3549 - val_loss: 16.0803\n",
      "Epoch 764/1600\n",
      "323/323 [==============================] - 0s 114us/step - loss: 1.0897 - val_loss: 16.3124\n",
      "Epoch 765/1600\n",
      "323/323 [==============================] - 0s 121us/step - loss: 0.8712 - val_loss: 17.8385\n",
      "Epoch 766/1600\n",
      "323/323 [==============================] - 0s 119us/step - loss: 0.9888 - val_loss: 18.2469\n",
      "Epoch 767/1600\n",
      "323/323 [==============================] - 0s 116us/step - loss: 0.9445 - val_loss: 16.8219\n",
      "Epoch 768/1600\n",
      "323/323 [==============================] - 0s 118us/step - loss: 0.8498 - val_loss: 17.7807\n",
      "Epoch 769/1600\n",
      "323/323 [==============================] - 0s 115us/step - loss: 0.9333 - val_loss: 18.5664\n",
      "Epoch 770/1600\n",
      "323/323 [==============================] - 0s 115us/step - loss: 1.1252 - val_loss: 20.3462\n",
      "Epoch 771/1600\n",
      "323/323 [==============================] - 0s 116us/step - loss: 1.1358 - val_loss: 17.2240\n",
      "Epoch 772/1600\n",
      "323/323 [==============================] - 0s 120us/step - loss: 1.2331 - val_loss: 16.2587\n",
      "Epoch 773/1600\n",
      "323/323 [==============================] - 0s 118us/step - loss: 0.8777 - val_loss: 17.2844\n",
      "Epoch 774/1600\n",
      "323/323 [==============================] - 0s 117us/step - loss: 1.0653 - val_loss: 16.5804\n",
      "Epoch 775/1600\n",
      "323/323 [==============================] - 0s 119us/step - loss: 1.0873 - val_loss: 17.6297\n",
      "Epoch 776/1600\n",
      "323/323 [==============================] - 0s 117us/step - loss: 1.6799 - val_loss: 17.1039\n",
      "Epoch 777/1600\n",
      "323/323 [==============================] - 0s 115us/step - loss: 1.1259 - val_loss: 17.8935\n",
      "Epoch 778/1600\n",
      "323/323 [==============================] - 0s 120us/step - loss: 2.0381 - val_loss: 16.1097\n",
      "Epoch 779/1600\n",
      "323/323 [==============================] - 0s 116us/step - loss: 2.0402 - val_loss: 16.3700\n",
      "Epoch 780/1600\n",
      "323/323 [==============================] - 0s 117us/step - loss: 2.9793 - val_loss: 19.2355\n",
      "Epoch 781/1600\n",
      "323/323 [==============================] - 0s 119us/step - loss: 1.4733 - val_loss: 17.1189\n",
      "Epoch 782/1600\n",
      "323/323 [==============================] - 0s 116us/step - loss: 1.3516 - val_loss: 18.8183\n",
      "Epoch 783/1600\n",
      "323/323 [==============================] - 0s 116us/step - loss: 1.2124 - val_loss: 15.4601\n",
      "Epoch 784/1600\n",
      "323/323 [==============================] - 0s 120us/step - loss: 0.9821 - val_loss: 18.1353\n",
      "Epoch 785/1600\n",
      "323/323 [==============================] - 0s 114us/step - loss: 0.8771 - val_loss: 16.4218\n",
      "Epoch 786/1600\n",
      "323/323 [==============================] - 0s 116us/step - loss: 1.0928 - val_loss: 16.3346\n",
      "Epoch 787/1600\n",
      "323/323 [==============================] - 0s 118us/step - loss: 0.9603 - val_loss: 16.3827\n",
      "Epoch 788/1600\n",
      "323/323 [==============================] - 0s 115us/step - loss: 0.7129 - val_loss: 16.3418\n",
      "Epoch 789/1600\n",
      "323/323 [==============================] - 0s 117us/step - loss: 0.9454 - val_loss: 18.4635\n",
      "Epoch 790/1600\n",
      "323/323 [==============================] - 0s 120us/step - loss: 0.9177 - val_loss: 16.4007\n",
      "Epoch 791/1600\n",
      "323/323 [==============================] - 0s 116us/step - loss: 1.2571 - val_loss: 17.6030\n",
      "Epoch 792/1600\n",
      "323/323 [==============================] - 0s 117us/step - loss: 1.9972 - val_loss: 17.1773\n",
      "Epoch 793/1600\n",
      "323/323 [==============================] - 0s 118us/step - loss: 1.2730 - val_loss: 17.8397\n",
      "Epoch 794/1600\n",
      "323/323 [==============================] - 0s 119us/step - loss: 0.9229 - val_loss: 17.9557\n",
      "Epoch 795/1600\n",
      "323/323 [==============================] - 0s 116us/step - loss: 1.0479 - val_loss: 17.5232\n",
      "Epoch 796/1600\n",
      "323/323 [==============================] - 0s 117us/step - loss: 0.9410 - val_loss: 17.1558\n",
      "Epoch 797/1600\n",
      "323/323 [==============================] - 0s 119us/step - loss: 0.8077 - val_loss: 16.8423\n",
      "Epoch 798/1600\n",
      "323/323 [==============================] - 0s 115us/step - loss: 0.7505 - val_loss: 17.4592\n",
      "Epoch 799/1600\n",
      "323/323 [==============================] - 0s 116us/step - loss: 0.7285 - val_loss: 16.4228\n",
      "Epoch 800/1600\n",
      "323/323 [==============================] - 0s 119us/step - loss: 0.7082 - val_loss: 18.1484\n",
      "Epoch 801/1600\n",
      "323/323 [==============================] - 0s 114us/step - loss: 0.9283 - val_loss: 16.5804\n",
      "Epoch 802/1600\n",
      "323/323 [==============================] - 0s 118us/step - loss: 0.9757 - val_loss: 17.7392\n",
      "Epoch 803/1600\n",
      "323/323 [==============================] - 0s 123us/step - loss: 0.9115 - val_loss: 17.5954\n",
      "Epoch 804/1600\n",
      "323/323 [==============================] - 0s 115us/step - loss: 1.3533 - val_loss: 18.0458\n",
      "Epoch 805/1600\n",
      "323/323 [==============================] - 0s 115us/step - loss: 0.8911 - val_loss: 18.1595\n",
      "Epoch 806/1600\n",
      "323/323 [==============================] - 0s 119us/step - loss: 0.9870 - val_loss: 18.7247\n",
      "Epoch 807/1600\n",
      "323/323 [==============================] - 0s 115us/step - loss: 1.0304 - val_loss: 17.2371\n",
      "Epoch 808/1600\n",
      "323/323 [==============================] - 0s 120us/step - loss: 0.7402 - val_loss: 17.3891\n",
      "Epoch 809/1600\n",
      "323/323 [==============================] - 0s 119us/step - loss: 0.8662 - val_loss: 16.3616\n",
      "Epoch 810/1600\n",
      "323/323 [==============================] - 0s 114us/step - loss: 0.7554 - val_loss: 17.3321\n",
      "Epoch 811/1600\n",
      "323/323 [==============================] - 0s 116us/step - loss: 0.6634 - val_loss: 16.9808\n",
      "Epoch 812/1600\n",
      "323/323 [==============================] - 0s 129us/step - loss: 0.7618 - val_loss: 17.6005\n",
      "Epoch 813/1600\n",
      "323/323 [==============================] - 0s 115us/step - loss: 0.8027 - val_loss: 18.4191\n",
      "Epoch 814/1600\n",
      "323/323 [==============================] - 0s 114us/step - loss: 0.8978 - val_loss: 17.6959\n",
      "Epoch 815/1600\n",
      "323/323 [==============================] - 0s 118us/step - loss: 1.1711 - val_loss: 18.1045\n",
      "Epoch 816/1600\n",
      "323/323 [==============================] - 0s 116us/step - loss: 0.9989 - val_loss: 17.5816\n",
      "Epoch 817/1600\n",
      "323/323 [==============================] - 0s 117us/step - loss: 1.0951 - val_loss: 19.0161\n",
      "Epoch 818/1600\n",
      "323/323 [==============================] - 0s 126us/step - loss: 1.2981 - val_loss: 17.4297\n",
      "Epoch 819/1600\n",
      "323/323 [==============================] - 0s 118us/step - loss: 1.1418 - val_loss: 19.1403\n",
      "Epoch 820/1600\n",
      "323/323 [==============================] - 0s 115us/step - loss: 1.3320 - val_loss: 16.5261\n",
      "Epoch 821/1600\n",
      "323/323 [==============================] - 0s 115us/step - loss: 1.7183 - val_loss: 19.9614\n",
      "Epoch 822/1600\n",
      "323/323 [==============================] - 0s 117us/step - loss: 1.6836 - val_loss: 18.2367\n",
      "Epoch 823/1600\n",
      "323/323 [==============================] - 0s 117us/step - loss: 1.1317 - val_loss: 17.2627\n",
      "Epoch 824/1600\n",
      "323/323 [==============================] - 0s 116us/step - loss: 0.8217 - val_loss: 18.5858\n",
      "Epoch 825/1600\n",
      "323/323 [==============================] - 0s 121us/step - loss: 1.0307 - val_loss: 17.6450\n",
      "Epoch 826/1600\n",
      "323/323 [==============================] - 0s 116us/step - loss: 0.8212 - val_loss: 17.0979\n",
      "Epoch 827/1600\n",
      "323/323 [==============================] - 0s 115us/step - loss: 1.2452 - val_loss: 18.3452\n",
      "Epoch 828/1600\n",
      "323/323 [==============================] - 0s 124us/step - loss: 1.1353 - val_loss: 16.8861\n",
      "Epoch 829/1600\n",
      "323/323 [==============================] - 0s 120us/step - loss: 0.9750 - val_loss: 17.1385\n",
      "Epoch 830/1600\n",
      "323/323 [==============================] - 0s 115us/step - loss: 0.6869 - val_loss: 17.2909\n",
      "Epoch 831/1600\n",
      "323/323 [==============================] - 0s 119us/step - loss: 0.8199 - val_loss: 18.2202\n",
      "Epoch 832/1600\n",
      "323/323 [==============================] - 0s 115us/step - loss: 1.6410 - val_loss: 18.0452\n",
      "Epoch 833/1600\n",
      "323/323 [==============================] - 0s 116us/step - loss: 1.6415 - val_loss: 16.1681\n",
      "Epoch 834/1600\n",
      "323/323 [==============================] - 0s 122us/step - loss: 0.9298 - val_loss: 16.6368\n",
      "Epoch 835/1600\n",
      "323/323 [==============================] - 0s 120us/step - loss: 0.8700 - val_loss: 16.4983\n",
      "Epoch 836/1600\n",
      "323/323 [==============================] - 0s 115us/step - loss: 0.7437 - val_loss: 17.6490\n",
      "Epoch 837/1600\n",
      "323/323 [==============================] - 0s 118us/step - loss: 0.9832 - val_loss: 16.6555\n",
      "Epoch 838/1600\n",
      "323/323 [==============================] - 0s 118us/step - loss: 0.8999 - val_loss: 18.0078\n",
      "Epoch 839/1600\n"
     ]
    },
    {
     "name": "stdout",
     "output_type": "stream",
     "text": [
      "323/323 [==============================] - 0s 116us/step - loss: 0.9291 - val_loss: 15.6911\n",
      "Epoch 840/1600\n",
      "323/323 [==============================] - 0s 119us/step - loss: 0.9656 - val_loss: 18.6917\n",
      "Epoch 841/1600\n",
      "323/323 [==============================] - 0s 137us/step - loss: 1.0979 - val_loss: 16.8415\n",
      "Epoch 842/1600\n",
      "323/323 [==============================] - 0s 115us/step - loss: 0.7309 - val_loss: 17.3251\n",
      "Epoch 843/1600\n",
      "323/323 [==============================] - 0s 118us/step - loss: 0.6892 - val_loss: 17.5172\n",
      "Epoch 844/1600\n",
      "323/323 [==============================] - 0s 122us/step - loss: 0.9749 - val_loss: 16.6826\n",
      "Epoch 845/1600\n",
      "323/323 [==============================] - 0s 116us/step - loss: 1.2466 - val_loss: 17.4010\n",
      "Epoch 846/1600\n",
      "323/323 [==============================] - 0s 116us/step - loss: 2.2108 - val_loss: 20.3576\n",
      "Epoch 847/1600\n",
      "323/323 [==============================] - 0s 119us/step - loss: 1.8728 - val_loss: 17.0055\n",
      "Epoch 848/1600\n",
      "323/323 [==============================] - 0s 117us/step - loss: 1.0297 - val_loss: 18.0562\n",
      "Epoch 849/1600\n",
      "323/323 [==============================] - 0s 116us/step - loss: 1.0201 - val_loss: 17.2753\n",
      "Epoch 850/1600\n",
      "323/323 [==============================] - 0s 117us/step - loss: 1.3240 - val_loss: 17.7627\n",
      "Epoch 851/1600\n",
      "323/323 [==============================] - 0s 120us/step - loss: 1.0946 - val_loss: 16.2361\n",
      "Epoch 852/1600\n",
      "323/323 [==============================] - 0s 115us/step - loss: 0.9539 - val_loss: 17.5961\n",
      "Epoch 853/1600\n",
      "323/323 [==============================] - 0s 121us/step - loss: 0.9072 - val_loss: 17.1299\n",
      "Epoch 854/1600\n",
      "323/323 [==============================] - 0s 116us/step - loss: 1.1371 - val_loss: 16.9799\n",
      "Epoch 855/1600\n",
      "323/323 [==============================] - 0s 115us/step - loss: 1.1427 - val_loss: 16.5214\n",
      "Epoch 856/1600\n",
      "323/323 [==============================] - 0s 123us/step - loss: 0.8401 - val_loss: 17.3321\n",
      "Epoch 857/1600\n",
      "323/323 [==============================] - 0s 117us/step - loss: 0.8578 - val_loss: 18.4635\n",
      "Epoch 858/1600\n",
      "323/323 [==============================] - 0s 115us/step - loss: 0.7192 - val_loss: 17.7566\n",
      "Epoch 859/1600\n",
      "323/323 [==============================] - 0s 120us/step - loss: 0.7183 - val_loss: 17.2732\n",
      "Epoch 860/1600\n",
      "323/323 [==============================] - 0s 118us/step - loss: 0.9239 - val_loss: 16.6581\n",
      "Epoch 861/1600\n",
      "323/323 [==============================] - 0s 115us/step - loss: 0.8652 - val_loss: 16.8261\n",
      "Epoch 862/1600\n",
      "323/323 [==============================] - 0s 116us/step - loss: 1.2612 - val_loss: 17.3215\n",
      "Epoch 863/1600\n",
      "323/323 [==============================] - 0s 117us/step - loss: 1.7711 - val_loss: 19.3732\n",
      "Epoch 864/1600\n",
      "323/323 [==============================] - 0s 116us/step - loss: 1.0754 - val_loss: 17.1540\n",
      "Epoch 865/1600\n",
      "323/323 [==============================] - 0s 119us/step - loss: 1.4533 - val_loss: 18.0128\n",
      "Epoch 866/1600\n",
      "323/323 [==============================] - 0s 117us/step - loss: 0.8760 - val_loss: 16.9473\n",
      "Epoch 867/1600\n",
      "323/323 [==============================] - 0s 115us/step - loss: 0.7773 - val_loss: 17.6159\n",
      "Epoch 868/1600\n",
      "323/323 [==============================] - 0s 119us/step - loss: 0.9111 - val_loss: 17.1772\n",
      "Epoch 869/1600\n",
      "323/323 [==============================] - 0s 119us/step - loss: 0.9010 - val_loss: 19.0211\n",
      "Epoch 870/1600\n",
      "323/323 [==============================] - 0s 117us/step - loss: 0.8760 - val_loss: 16.6657\n",
      "Epoch 871/1600\n",
      "323/323 [==============================] - 0s 117us/step - loss: 0.7508 - val_loss: 16.3361\n",
      "Epoch 872/1600\n",
      "323/323 [==============================] - 0s 119us/step - loss: 0.8790 - val_loss: 18.1154\n",
      "Epoch 873/1600\n",
      "323/323 [==============================] - 0s 116us/step - loss: 0.8613 - val_loss: 19.0103\n",
      "Epoch 874/1600\n",
      "323/323 [==============================] - 0s 116us/step - loss: 1.3590 - val_loss: 16.0783\n",
      "Epoch 875/1600\n",
      "323/323 [==============================] - 0s 121us/step - loss: 0.7854 - val_loss: 16.9271\n",
      "Epoch 876/1600\n",
      "323/323 [==============================] - 0s 115us/step - loss: 0.7477 - val_loss: 17.6854\n",
      "Epoch 877/1600\n",
      "323/323 [==============================] - 0s 116us/step - loss: 0.8718 - val_loss: 18.1210\n",
      "Epoch 878/1600\n",
      "323/323 [==============================] - 0s 119us/step - loss: 0.7955 - val_loss: 15.7601\n",
      "Epoch 879/1600\n",
      "323/323 [==============================] - 0s 117us/step - loss: 0.9329 - val_loss: 17.8998\n",
      "Epoch 880/1600\n",
      "323/323 [==============================] - 0s 115us/step - loss: 1.1538 - val_loss: 16.6585\n",
      "Epoch 881/1600\n",
      "323/323 [==============================] - 0s 124us/step - loss: 1.5148 - val_loss: 18.7174\n",
      "Epoch 882/1600\n",
      "323/323 [==============================] - 0s 118us/step - loss: 0.9974 - val_loss: 17.5571\n",
      "Epoch 883/1600\n",
      "323/323 [==============================] - 0s 114us/step - loss: 1.0105 - val_loss: 19.9367\n",
      "Epoch 884/1600\n",
      "323/323 [==============================] - 0s 120us/step - loss: 1.8967 - val_loss: 17.4656\n",
      "Epoch 885/1600\n",
      "323/323 [==============================] - 0s 116us/step - loss: 1.1489 - val_loss: 17.5429\n",
      "Epoch 886/1600\n",
      "323/323 [==============================] - 0s 116us/step - loss: 1.0057 - val_loss: 18.8829\n",
      "Epoch 887/1600\n",
      "323/323 [==============================] - 0s 136us/step - loss: 1.3142 - val_loss: 17.1956\n",
      "Epoch 888/1600\n",
      "323/323 [==============================] - 0s 116us/step - loss: 1.2034 - val_loss: 19.8041\n",
      "Epoch 889/1600\n",
      "323/323 [==============================] - 0s 116us/step - loss: 1.0291 - val_loss: 16.1735\n",
      "Epoch 890/1600\n",
      "323/323 [==============================] - 0s 120us/step - loss: 0.8243 - val_loss: 17.3286\n",
      "Epoch 891/1600\n",
      "323/323 [==============================] - 0s 119us/step - loss: 0.7856 - val_loss: 16.8838\n",
      "Epoch 892/1600\n",
      "323/323 [==============================] - 0s 119us/step - loss: 1.2160 - val_loss: 19.7833\n",
      "Epoch 893/1600\n",
      "323/323 [==============================] - 0s 118us/step - loss: 1.4448 - val_loss: 18.9029\n",
      "Epoch 894/1600\n",
      "323/323 [==============================] - 0s 118us/step - loss: 1.4497 - val_loss: 17.4397\n",
      "Epoch 895/1600\n",
      "323/323 [==============================] - 0s 117us/step - loss: 0.8404 - val_loss: 17.2023\n",
      "Epoch 896/1600\n",
      "323/323 [==============================] - 0s 122us/step - loss: 0.8079 - val_loss: 17.7433\n",
      "Epoch 897/1600\n",
      "323/323 [==============================] - 0s 117us/step - loss: 1.4008 - val_loss: 18.0522\n",
      "Epoch 898/1600\n",
      "323/323 [==============================] - 0s 114us/step - loss: 1.7444 - val_loss: 22.6360\n",
      "Epoch 899/1600\n",
      "323/323 [==============================] - 0s 115us/step - loss: 2.2094 - val_loss: 18.9842\n",
      "Epoch 900/1600\n",
      "323/323 [==============================] - 0s 118us/step - loss: 2.6627 - val_loss: 15.6911\n",
      "Epoch 901/1600\n",
      "323/323 [==============================] - 0s 116us/step - loss: 2.1314 - val_loss: 17.1250\n",
      "Epoch 902/1600\n",
      "323/323 [==============================] - 0s 117us/step - loss: 3.1723 - val_loss: 19.0193\n",
      "Epoch 903/1600\n",
      "323/323 [==============================] - 0s 117us/step - loss: 1.6729 - val_loss: 17.1145\n",
      "Epoch 904/1600\n",
      "323/323 [==============================] - 0s 117us/step - loss: 1.3246 - val_loss: 18.5986\n",
      "Epoch 905/1600\n",
      "323/323 [==============================] - 0s 116us/step - loss: 1.0880 - val_loss: 16.6872\n",
      "Epoch 906/1600\n",
      "323/323 [==============================] - 0s 121us/step - loss: 1.0424 - val_loss: 17.3481\n",
      "Epoch 907/1600\n",
      "323/323 [==============================] - 0s 116us/step - loss: 1.3512 - val_loss: 16.8933\n",
      "Epoch 908/1600\n",
      "323/323 [==============================] - 0s 115us/step - loss: 1.2421 - val_loss: 15.9498\n",
      "Epoch 909/1600\n",
      "323/323 [==============================] - 0s 121us/step - loss: 0.7682 - val_loss: 16.8376\n",
      "Epoch 910/1600\n",
      "323/323 [==============================] - 0s 119us/step - loss: 0.7773 - val_loss: 17.0532\n",
      "Epoch 911/1600\n",
      "323/323 [==============================] - 0s 117us/step - loss: 0.7220 - val_loss: 17.3672\n",
      "Epoch 912/1600\n",
      "323/323 [==============================] - 0s 119us/step - loss: 1.2281 - val_loss: 18.7405\n",
      "Epoch 913/1600\n",
      "323/323 [==============================] - 0s 117us/step - loss: 0.7760 - val_loss: 17.0619\n",
      "Epoch 914/1600\n",
      "323/323 [==============================] - 0s 117us/step - loss: 0.8995 - val_loss: 17.0624\n",
      "Epoch 915/1600\n"
     ]
    },
    {
     "name": "stdout",
     "output_type": "stream",
     "text": [
      "323/323 [==============================] - 0s 116us/step - loss: 0.6939 - val_loss: 17.0256\n",
      "Epoch 916/1600\n",
      "323/323 [==============================] - 0s 117us/step - loss: 0.6898 - val_loss: 17.2805\n",
      "Epoch 917/1600\n",
      "323/323 [==============================] - 0s 116us/step - loss: 0.7545 - val_loss: 18.3707\n",
      "Epoch 918/1600\n",
      "323/323 [==============================] - 0s 117us/step - loss: 0.7008 - val_loss: 18.1707\n",
      "Epoch 919/1600\n",
      "323/323 [==============================] - 0s 118us/step - loss: 0.6884 - val_loss: 17.8866\n",
      "Epoch 920/1600\n",
      "323/323 [==============================] - 0s 117us/step - loss: 0.7032 - val_loss: 16.5680\n",
      "Epoch 921/1600\n",
      "323/323 [==============================] - 0s 118us/step - loss: 0.7332 - val_loss: 16.9647\n",
      "Epoch 922/1600\n",
      "323/323 [==============================] - 0s 123us/step - loss: 0.8789 - val_loss: 17.8148\n",
      "Epoch 923/1600\n",
      "323/323 [==============================] - 0s 117us/step - loss: 0.8566 - val_loss: 18.2814\n",
      "Epoch 924/1600\n",
      "323/323 [==============================] - 0s 115us/step - loss: 0.8512 - val_loss: 16.7164\n",
      "Epoch 925/1600\n",
      "323/323 [==============================] - 0s 121us/step - loss: 1.0660 - val_loss: 17.1256\n",
      "Epoch 926/1600\n",
      "323/323 [==============================] - 0s 116us/step - loss: 1.2674 - val_loss: 17.4423\n",
      "Epoch 927/1600\n",
      "323/323 [==============================] - 0s 118us/step - loss: 1.3823 - val_loss: 19.2826\n",
      "Epoch 928/1600\n",
      "323/323 [==============================] - 0s 119us/step - loss: 1.3081 - val_loss: 16.2210\n",
      "Epoch 929/1600\n",
      "323/323 [==============================] - 0s 116us/step - loss: 1.3988 - val_loss: 16.5691\n",
      "Epoch 930/1600\n",
      "323/323 [==============================] - 0s 119us/step - loss: 1.0534 - val_loss: 18.0879\n",
      "Epoch 931/1600\n",
      "323/323 [==============================] - 0s 125us/step - loss: 0.9752 - val_loss: 18.5165\n",
      "Epoch 932/1600\n",
      "323/323 [==============================] - 0s 116us/step - loss: 1.0415 - val_loss: 15.9488\n",
      "Epoch 933/1600\n",
      "323/323 [==============================] - 0s 117us/step - loss: 0.9885 - val_loss: 17.0442\n",
      "Epoch 934/1600\n",
      "323/323 [==============================] - 0s 117us/step - loss: 0.6916 - val_loss: 17.4383\n",
      "Epoch 935/1600\n",
      "323/323 [==============================] - 0s 117us/step - loss: 0.7405 - val_loss: 17.9085\n",
      "Epoch 936/1600\n",
      "323/323 [==============================] - 0s 115us/step - loss: 0.8706 - val_loss: 16.4497\n",
      "Epoch 937/1600\n",
      "323/323 [==============================] - 0s 116us/step - loss: 1.5290 - val_loss: 19.1730\n",
      "Epoch 938/1600\n",
      "323/323 [==============================] - 0s 122us/step - loss: 1.7297 - val_loss: 18.5253\n",
      "Epoch 939/1600\n",
      "323/323 [==============================] - 0s 115us/step - loss: 1.3532 - val_loss: 18.5739\n",
      "Epoch 940/1600\n",
      "323/323 [==============================] - 0s 117us/step - loss: 0.9380 - val_loss: 16.7783\n",
      "Epoch 941/1600\n",
      "323/323 [==============================] - 0s 120us/step - loss: 1.1619 - val_loss: 18.1908\n",
      "Epoch 942/1600\n",
      "323/323 [==============================] - 0s 114us/step - loss: 1.1450 - val_loss: 16.5190\n",
      "Epoch 943/1600\n",
      "323/323 [==============================] - 0s 116us/step - loss: 1.1442 - val_loss: 16.2856\n",
      "Epoch 944/1600\n",
      "323/323 [==============================] - 0s 121us/step - loss: 0.7235 - val_loss: 15.5383\n",
      "Epoch 945/1600\n",
      "323/323 [==============================] - 0s 117us/step - loss: 0.9447 - val_loss: 17.6390\n",
      "Epoch 946/1600\n",
      "323/323 [==============================] - 0s 115us/step - loss: 0.6337 - val_loss: 18.1047\n",
      "Epoch 947/1600\n",
      "323/323 [==============================] - 0s 127us/step - loss: 0.7338 - val_loss: 17.0759\n",
      "Epoch 948/1600\n",
      "323/323 [==============================] - 0s 116us/step - loss: 0.9380 - val_loss: 17.3385\n",
      "Epoch 949/1600\n",
      "323/323 [==============================] - 0s 116us/step - loss: 0.7955 - val_loss: 18.1347\n",
      "Epoch 950/1600\n",
      "323/323 [==============================] - 0s 120us/step - loss: 1.2355 - val_loss: 16.5032\n",
      "Epoch 951/1600\n",
      "323/323 [==============================] - 0s 117us/step - loss: 0.8549 - val_loss: 19.3569\n",
      "Epoch 952/1600\n",
      "323/323 [==============================] - 0s 114us/step - loss: 1.4855 - val_loss: 18.2233\n",
      "Epoch 953/1600\n",
      "323/323 [==============================] - 0s 119us/step - loss: 1.5423 - val_loss: 20.2925\n",
      "Epoch 954/1600\n",
      "323/323 [==============================] - 0s 116us/step - loss: 1.2848 - val_loss: 16.8059\n",
      "Epoch 955/1600\n",
      "323/323 [==============================] - 0s 116us/step - loss: 1.1581 - val_loss: 18.5269\n",
      "Epoch 956/1600\n",
      "323/323 [==============================] - 0s 118us/step - loss: 0.9846 - val_loss: 15.0457\n",
      "Epoch 957/1600\n",
      "323/323 [==============================] - 0s 115us/step - loss: 0.9920 - val_loss: 19.5574\n",
      "Epoch 958/1600\n",
      "323/323 [==============================] - 0s 115us/step - loss: 0.8650 - val_loss: 15.9367\n",
      "Epoch 959/1600\n",
      "323/323 [==============================] - 0s 117us/step - loss: 0.8254 - val_loss: 18.8072\n",
      "Epoch 960/1600\n",
      "323/323 [==============================] - 0s 116us/step - loss: 0.7873 - val_loss: 16.2510\n",
      "Epoch 961/1600\n",
      "323/323 [==============================] - 0s 116us/step - loss: 0.6283 - val_loss: 18.1947\n",
      "Epoch 962/1600\n",
      "323/323 [==============================] - 0s 117us/step - loss: 0.7415 - val_loss: 17.4298\n",
      "Epoch 963/1600\n",
      "323/323 [==============================] - 0s 129us/step - loss: 0.8851 - val_loss: 17.1423\n",
      "Epoch 964/1600\n",
      "323/323 [==============================] - 0s 119us/step - loss: 0.6507 - val_loss: 17.8794\n",
      "Epoch 965/1600\n",
      "323/323 [==============================] - 0s 116us/step - loss: 1.2688 - val_loss: 18.4648\n",
      "Epoch 966/1600\n",
      "323/323 [==============================] - 0s 120us/step - loss: 1.5515 - val_loss: 16.1559\n",
      "Epoch 967/1600\n",
      "323/323 [==============================] - 0s 119us/step - loss: 1.7101 - val_loss: 20.8513\n",
      "Epoch 968/1600\n",
      "323/323 [==============================] - 0s 117us/step - loss: 1.5059 - val_loss: 15.8321\n",
      "Epoch 969/1600\n",
      "323/323 [==============================] - 0s 124us/step - loss: 0.8889 - val_loss: 16.7535\n",
      "Epoch 970/1600\n",
      "323/323 [==============================] - 0s 115us/step - loss: 0.8169 - val_loss: 17.7145\n",
      "Epoch 971/1600\n",
      "323/323 [==============================] - 0s 115us/step - loss: 0.6807 - val_loss: 19.8256\n",
      "Epoch 972/1600\n",
      "323/323 [==============================] - 0s 117us/step - loss: 1.2298 - val_loss: 17.6357\n",
      "Epoch 973/1600\n",
      "323/323 [==============================] - 0s 117us/step - loss: 0.6799 - val_loss: 17.4853\n",
      "Epoch 974/1600\n",
      "323/323 [==============================] - 0s 118us/step - loss: 0.6463 - val_loss: 16.8604\n",
      "Epoch 975/1600\n",
      "323/323 [==============================] - 0s 122us/step - loss: 0.7970 - val_loss: 16.5309\n",
      "Epoch 976/1600\n",
      "323/323 [==============================] - 0s 117us/step - loss: 1.1778 - val_loss: 18.2805\n",
      "Epoch 977/1600\n",
      "323/323 [==============================] - 0s 114us/step - loss: 1.5190 - val_loss: 15.9109\n",
      "Epoch 978/1600\n",
      "323/323 [==============================] - 0s 120us/step - loss: 1.6173 - val_loss: 20.8539\n",
      "Epoch 979/1600\n",
      "323/323 [==============================] - 0s 116us/step - loss: 1.2074 - val_loss: 16.8271\n",
      "Epoch 980/1600\n",
      "323/323 [==============================] - 0s 115us/step - loss: 1.3379 - val_loss: 20.4212\n",
      "Epoch 981/1600\n",
      "323/323 [==============================] - 0s 120us/step - loss: 1.2006 - val_loss: 16.7227\n",
      "Epoch 982/1600\n",
      "323/323 [==============================] - 0s 118us/step - loss: 1.3372 - val_loss: 15.7970\n",
      "Epoch 983/1600\n",
      "323/323 [==============================] - 0s 116us/step - loss: 0.8516 - val_loss: 20.1782\n",
      "Epoch 984/1600\n",
      "323/323 [==============================] - 0s 118us/step - loss: 0.7883 - val_loss: 15.4668\n",
      "Epoch 985/1600\n",
      "323/323 [==============================] - 0s 118us/step - loss: 0.8909 - val_loss: 17.4611\n",
      "Epoch 986/1600\n",
      "323/323 [==============================] - 0s 114us/step - loss: 0.9720 - val_loss: 19.1970\n",
      "Epoch 987/1600\n",
      "323/323 [==============================] - 0s 119us/step - loss: 1.3894 - val_loss: 17.8194\n",
      "Epoch 988/1600\n",
      "323/323 [==============================] - 0s 116us/step - loss: 0.9673 - val_loss: 19.4642\n",
      "Epoch 989/1600\n",
      "323/323 [==============================] - 0s 117us/step - loss: 1.1569 - val_loss: 16.6601\n",
      "Epoch 990/1600\n",
      "323/323 [==============================] - 0s 118us/step - loss: 1.2349 - val_loss: 17.3509\n",
      "Epoch 991/1600\n"
     ]
    },
    {
     "name": "stdout",
     "output_type": "stream",
     "text": [
      "323/323 [==============================] - 0s 119us/step - loss: 0.8328 - val_loss: 16.9254\n",
      "Epoch 992/1600\n",
      "323/323 [==============================] - 0s 114us/step - loss: 0.7632 - val_loss: 17.9812\n",
      "Epoch 993/1600\n",
      "323/323 [==============================] - 0s 116us/step - loss: 0.5679 - val_loss: 18.0725\n",
      "Epoch 994/1600\n",
      "323/323 [==============================] - 0s 117us/step - loss: 0.8330 - val_loss: 17.1536\n",
      "Epoch 995/1600\n",
      "323/323 [==============================] - 0s 114us/step - loss: 0.7239 - val_loss: 17.6825\n",
      "Epoch 996/1600\n",
      "323/323 [==============================] - 0s 114us/step - loss: 0.6337 - val_loss: 17.7084\n",
      "Epoch 997/1600\n",
      "323/323 [==============================] - 0s 122us/step - loss: 0.6551 - val_loss: 16.6910\n",
      "Epoch 998/1600\n",
      "323/323 [==============================] - 0s 115us/step - loss: 1.3826 - val_loss: 19.1181\n",
      "Epoch 999/1600\n",
      "323/323 [==============================] - 0s 119us/step - loss: 0.9992 - val_loss: 16.8942\n",
      "Epoch 1000/1600\n",
      "323/323 [==============================] - 0s 123us/step - loss: 0.7790 - val_loss: 18.6223\n",
      "Epoch 1001/1600\n",
      "323/323 [==============================] - 0s 118us/step - loss: 0.6059 - val_loss: 17.0256\n",
      "Epoch 1002/1600\n",
      "323/323 [==============================] - 0s 118us/step - loss: 0.6306 - val_loss: 16.5935\n",
      "Epoch 1003/1600\n",
      "323/323 [==============================] - 0s 117us/step - loss: 0.6599 - val_loss: 18.9342\n",
      "Epoch 1004/1600\n",
      "323/323 [==============================] - 0s 119us/step - loss: 0.9015 - val_loss: 16.8348\n",
      "Epoch 1005/1600\n",
      "323/323 [==============================] - 0s 116us/step - loss: 0.8166 - val_loss: 17.3892\n",
      "Epoch 1006/1600\n",
      "323/323 [==============================] - 0s 116us/step - loss: 0.6316 - val_loss: 17.1579\n",
      "Epoch 1007/1600\n",
      "323/323 [==============================] - 0s 120us/step - loss: 0.6538 - val_loss: 18.0340\n",
      "Epoch 1008/1600\n",
      "323/323 [==============================] - 0s 114us/step - loss: 0.8171 - val_loss: 17.2631\n",
      "Epoch 1009/1600\n",
      "323/323 [==============================] - 0s 120us/step - loss: 0.6904 - val_loss: 19.1460\n",
      "Epoch 1010/1600\n",
      "323/323 [==============================] - 0s 124us/step - loss: 0.7589 - val_loss: 17.6740\n",
      "Epoch 1011/1600\n",
      "323/323 [==============================] - 0s 114us/step - loss: 0.9538 - val_loss: 19.8297\n",
      "Epoch 1012/1600\n",
      "323/323 [==============================] - 0s 117us/step - loss: 0.8808 - val_loss: 17.6693\n",
      "Epoch 1013/1600\n",
      "323/323 [==============================] - 0s 123us/step - loss: 0.8946 - val_loss: 18.4975\n",
      "Epoch 1014/1600\n",
      "323/323 [==============================] - 0s 115us/step - loss: 0.7451 - val_loss: 18.7261\n",
      "Epoch 1015/1600\n",
      "323/323 [==============================] - 0s 114us/step - loss: 0.7404 - val_loss: 17.2316\n",
      "Epoch 1016/1600\n",
      "323/323 [==============================] - 0s 123us/step - loss: 0.6689 - val_loss: 16.3953\n",
      "Epoch 1017/1600\n",
      "323/323 [==============================] - 0s 116us/step - loss: 1.0458 - val_loss: 18.6476\n",
      "Epoch 1018/1600\n",
      "323/323 [==============================] - 0s 115us/step - loss: 0.9882 - val_loss: 18.2703\n",
      "Epoch 1019/1600\n",
      "323/323 [==============================] - 0s 118us/step - loss: 0.9795 - val_loss: 17.6738\n",
      "Epoch 1020/1600\n",
      "323/323 [==============================] - 0s 114us/step - loss: 0.6793 - val_loss: 19.3547\n",
      "Epoch 1021/1600\n",
      "323/323 [==============================] - 0s 114us/step - loss: 0.9318 - val_loss: 17.4644\n",
      "Epoch 1022/1600\n",
      "323/323 [==============================] - 0s 117us/step - loss: 0.8102 - val_loss: 19.1638\n",
      "Epoch 1023/1600\n",
      "323/323 [==============================] - 0s 117us/step - loss: 1.0071 - val_loss: 15.7943\n",
      "Epoch 1024/1600\n",
      "323/323 [==============================] - 0s 114us/step - loss: 0.8834 - val_loss: 18.6624\n",
      "Epoch 1025/1600\n",
      "323/323 [==============================] - 0s 118us/step - loss: 0.7576 - val_loss: 17.0153\n",
      "Epoch 1026/1600\n",
      "323/323 [==============================] - 0s 121us/step - loss: 0.9640 - val_loss: 18.6760\n",
      "Epoch 1027/1600\n",
      "323/323 [==============================] - 0s 114us/step - loss: 0.6421 - val_loss: 16.2140\n",
      "Epoch 1028/1600\n",
      "323/323 [==============================] - 0s 119us/step - loss: 0.6632 - val_loss: 17.5403\n",
      "Epoch 1029/1600\n",
      "323/323 [==============================] - 0s 118us/step - loss: 0.6040 - val_loss: 18.1527\n",
      "Epoch 1030/1600\n",
      "323/323 [==============================] - 0s 116us/step - loss: 0.9177 - val_loss: 17.1024\n",
      "Epoch 1031/1600\n",
      "323/323 [==============================] - 0s 117us/step - loss: 1.0433 - val_loss: 19.7096\n",
      "Epoch 1032/1600\n",
      "323/323 [==============================] - 0s 117us/step - loss: 1.4696 - val_loss: 16.5981\n",
      "Epoch 1033/1600\n",
      "323/323 [==============================] - 0s 118us/step - loss: 0.8710 - val_loss: 17.3049\n",
      "Epoch 1034/1600\n",
      "323/323 [==============================] - 0s 116us/step - loss: 0.6891 - val_loss: 18.7373\n",
      "Epoch 1035/1600\n",
      "323/323 [==============================] - 0s 122us/step - loss: 0.6524 - val_loss: 16.2092\n",
      "Epoch 1036/1600\n",
      "323/323 [==============================] - 0s 116us/step - loss: 0.7705 - val_loss: 18.2003\n",
      "Epoch 1037/1600\n",
      "323/323 [==============================] - 0s 116us/step - loss: 1.4715 - val_loss: 20.4801\n",
      "Epoch 1038/1600\n",
      "323/323 [==============================] - 0s 118us/step - loss: 1.1528 - val_loss: 17.9879\n",
      "Epoch 1039/1600\n",
      "323/323 [==============================] - 0s 118us/step - loss: 0.8556 - val_loss: 20.9552\n",
      "Epoch 1040/1600\n",
      "323/323 [==============================] - 0s 115us/step - loss: 1.1170 - val_loss: 18.5773\n",
      "Epoch 1041/1600\n",
      "323/323 [==============================] - 0s 118us/step - loss: 3.0506 - val_loss: 18.4497\n",
      "Epoch 1042/1600\n",
      "323/323 [==============================] - 0s 119us/step - loss: 1.6328 - val_loss: 17.5177\n",
      "Epoch 1043/1600\n",
      "323/323 [==============================] - 0s 126us/step - loss: 0.9593 - val_loss: 18.2431\n",
      "Epoch 1044/1600\n",
      "323/323 [==============================] - 0s 119us/step - loss: 0.8340 - val_loss: 18.3249\n",
      "Epoch 1045/1600\n",
      "323/323 [==============================] - 0s 116us/step - loss: 0.9608 - val_loss: 19.1434\n",
      "Epoch 1046/1600\n",
      "323/323 [==============================] - 0s 116us/step - loss: 2.6866 - val_loss: 19.8624\n",
      "Epoch 1047/1600\n",
      "323/323 [==============================] - 0s 119us/step - loss: 0.8938 - val_loss: 16.5306\n",
      "Epoch 1048/1600\n",
      "323/323 [==============================] - 0s 118us/step - loss: 0.7505 - val_loss: 18.4173\n",
      "Epoch 1049/1600\n",
      "323/323 [==============================] - 0s 117us/step - loss: 0.6382 - val_loss: 16.3568\n",
      "Epoch 1050/1600\n",
      "323/323 [==============================] - 0s 118us/step - loss: 1.0188 - val_loss: 17.5916\n",
      "Epoch 1051/1600\n",
      "323/323 [==============================] - 0s 118us/step - loss: 0.9277 - val_loss: 17.5075\n",
      "Epoch 1052/1600\n",
      "323/323 [==============================] - 0s 120us/step - loss: 0.6976 - val_loss: 20.3868\n",
      "Epoch 1053/1600\n",
      "323/323 [==============================] - 0s 115us/step - loss: 0.7589 - val_loss: 17.5925\n",
      "Epoch 1054/1600\n",
      "323/323 [==============================] - 0s 117us/step - loss: 0.9737 - val_loss: 16.1961\n",
      "Epoch 1055/1600\n",
      "323/323 [==============================] - 0s 115us/step - loss: 1.1120 - val_loss: 18.5620\n",
      "Epoch 1056/1600\n",
      "323/323 [==============================] - 0s 118us/step - loss: 0.8716 - val_loss: 16.9298\n",
      "Epoch 1057/1600\n",
      "323/323 [==============================] - 0s 118us/step - loss: 0.8263 - val_loss: 16.7556\n",
      "Epoch 1058/1600\n",
      "323/323 [==============================] - 0s 114us/step - loss: 2.0743 - val_loss: 17.8969\n",
      "Epoch 1059/1600\n",
      "323/323 [==============================] - 0s 118us/step - loss: 1.2978 - val_loss: 18.5487\n",
      "Epoch 1060/1600\n",
      "323/323 [==============================] - 0s 119us/step - loss: 0.8223 - val_loss: 16.6298\n",
      "Epoch 1061/1600\n",
      "323/323 [==============================] - 0s 116us/step - loss: 0.6762 - val_loss: 17.2332\n",
      "Epoch 1062/1600\n",
      "323/323 [==============================] - 0s 116us/step - loss: 0.7099 - val_loss: 17.6537\n",
      "Epoch 1063/1600\n",
      "323/323 [==============================] - 0s 123us/step - loss: 0.6017 - val_loss: 15.7542\n",
      "Epoch 1064/1600\n",
      "323/323 [==============================] - 0s 116us/step - loss: 0.8091 - val_loss: 18.6091\n",
      "Epoch 1065/1600\n",
      "323/323 [==============================] - 0s 115us/step - loss: 0.7467 - val_loss: 17.3890\n",
      "Epoch 1066/1600\n",
      "323/323 [==============================] - 0s 121us/step - loss: 1.6729 - val_loss: 18.3419\n",
      "Epoch 1067/1600\n"
     ]
    },
    {
     "name": "stdout",
     "output_type": "stream",
     "text": [
      "323/323 [==============================] - 0s 117us/step - loss: 1.0430 - val_loss: 16.1046\n",
      "Epoch 1068/1600\n",
      "323/323 [==============================] - 0s 114us/step - loss: 1.1807 - val_loss: 18.2380\n",
      "Epoch 1069/1600\n",
      "323/323 [==============================] - 0s 119us/step - loss: 1.2037 - val_loss: 16.1972\n",
      "Epoch 1070/1600\n",
      "323/323 [==============================] - 0s 115us/step - loss: 0.7365 - val_loss: 16.9118\n",
      "Epoch 1071/1600\n",
      "323/323 [==============================] - 0s 115us/step - loss: 0.7207 - val_loss: 16.6465\n",
      "Epoch 1072/1600\n",
      "323/323 [==============================] - 0s 117us/step - loss: 0.6219 - val_loss: 16.8718\n",
      "Epoch 1073/1600\n",
      "323/323 [==============================] - 0s 117us/step - loss: 0.6852 - val_loss: 16.7425\n",
      "Epoch 1074/1600\n",
      "323/323 [==============================] - 0s 116us/step - loss: 0.5383 - val_loss: 17.3541\n",
      "Epoch 1075/1600\n",
      "323/323 [==============================] - 0s 117us/step - loss: 0.7179 - val_loss: 16.8769\n",
      "Epoch 1076/1600\n",
      "323/323 [==============================] - 0s 119us/step - loss: 0.7486 - val_loss: 17.2992\n",
      "Epoch 1077/1600\n",
      "323/323 [==============================] - 0s 115us/step - loss: 0.9252 - val_loss: 17.1830\n",
      "Epoch 1078/1600\n",
      "323/323 [==============================] - 0s 121us/step - loss: 1.0338 - val_loss: 19.5573\n",
      "Epoch 1079/1600\n",
      "323/323 [==============================] - 0s 117us/step - loss: 0.9838 - val_loss: 15.7851\n",
      "Epoch 1080/1600\n",
      "323/323 [==============================] - 0s 115us/step - loss: 0.9356 - val_loss: 18.8498\n",
      "Epoch 1081/1600\n",
      "323/323 [==============================] - 0s 114us/step - loss: 0.9011 - val_loss: 16.3295\n",
      "Epoch 1082/1600\n",
      "323/323 [==============================] - 0s 119us/step - loss: 0.5755 - val_loss: 18.2232\n",
      "Epoch 1083/1600\n",
      "323/323 [==============================] - 0s 118us/step - loss: 0.7813 - val_loss: 17.1539\n",
      "Epoch 1084/1600\n",
      "323/323 [==============================] - 0s 116us/step - loss: 1.2026 - val_loss: 19.2424\n",
      "Epoch 1085/1600\n",
      "323/323 [==============================] - 0s 119us/step - loss: 1.1642 - val_loss: 16.3652\n",
      "Epoch 1086/1600\n",
      "323/323 [==============================] - 0s 116us/step - loss: 1.0002 - val_loss: 18.4151\n",
      "Epoch 1087/1600\n",
      "323/323 [==============================] - 0s 115us/step - loss: 0.8653 - val_loss: 18.0101\n",
      "Epoch 1088/1600\n",
      "323/323 [==============================] - 0s 125us/step - loss: 0.6211 - val_loss: 18.0860\n",
      "Epoch 1089/1600\n",
      "323/323 [==============================] - 0s 120us/step - loss: 0.8243 - val_loss: 17.5152\n",
      "Epoch 1090/1600\n",
      "323/323 [==============================] - 0s 115us/step - loss: 0.9207 - val_loss: 17.6807\n",
      "Epoch 1091/1600\n",
      "323/323 [==============================] - 0s 116us/step - loss: 0.9646 - val_loss: 18.7976\n",
      "Epoch 1092/1600\n",
      "323/323 [==============================] - 0s 116us/step - loss: 0.7630 - val_loss: 17.0533\n",
      "Epoch 1093/1600\n",
      "323/323 [==============================] - 0s 115us/step - loss: 0.7460 - val_loss: 19.0174\n",
      "Epoch 1094/1600\n",
      "323/323 [==============================] - 0s 118us/step - loss: 0.7526 - val_loss: 17.6542\n",
      "Epoch 1095/1600\n",
      "323/323 [==============================] - 0s 120us/step - loss: 0.8606 - val_loss: 17.9991\n",
      "Epoch 1096/1600\n",
      "323/323 [==============================] - 0s 115us/step - loss: 0.8318 - val_loss: 17.0095\n",
      "Epoch 1097/1600\n",
      "323/323 [==============================] - 0s 116us/step - loss: 0.6951 - val_loss: 17.6089\n",
      "Epoch 1098/1600\n",
      "323/323 [==============================] - 0s 120us/step - loss: 0.8129 - val_loss: 15.9383\n",
      "Epoch 1099/1600\n",
      "323/323 [==============================] - 0s 117us/step - loss: 0.6925 - val_loss: 17.7100\n",
      "Epoch 1100/1600\n",
      "323/323 [==============================] - 0s 117us/step - loss: 1.2410 - val_loss: 18.5183\n",
      "Epoch 1101/1600\n",
      "323/323 [==============================] - 0s 119us/step - loss: 0.9313 - val_loss: 17.3362\n",
      "Epoch 1102/1600\n",
      "323/323 [==============================] - 0s 117us/step - loss: 0.8074 - val_loss: 16.9175\n",
      "Epoch 1103/1600\n",
      "323/323 [==============================] - 0s 115us/step - loss: 0.7759 - val_loss: 17.5311\n",
      "Epoch 1104/1600\n",
      "323/323 [==============================] - 0s 132us/step - loss: 0.8282 - val_loss: 16.3982\n",
      "Epoch 1105/1600\n",
      "323/323 [==============================] - 0s 115us/step - loss: 0.7883 - val_loss: 19.0604\n",
      "Epoch 1106/1600\n",
      "323/323 [==============================] - 0s 118us/step - loss: 0.9775 - val_loss: 17.0488\n",
      "Epoch 1107/1600\n",
      "323/323 [==============================] - 0s 122us/step - loss: 0.8414 - val_loss: 18.9455\n",
      "Epoch 1108/1600\n",
      "323/323 [==============================] - 0s 116us/step - loss: 0.6921 - val_loss: 16.1738\n",
      "Epoch 1109/1600\n",
      "323/323 [==============================] - 0s 116us/step - loss: 0.5850 - val_loss: 17.2660\n",
      "Epoch 1110/1600\n",
      "323/323 [==============================] - 0s 117us/step - loss: 0.5718 - val_loss: 17.6389\n",
      "Epoch 1111/1600\n",
      "323/323 [==============================] - 0s 115us/step - loss: 0.4950 - val_loss: 17.3861\n",
      "Epoch 1112/1600\n",
      "323/323 [==============================] - 0s 118us/step - loss: 0.6433 - val_loss: 15.9428\n",
      "Epoch 1113/1600\n",
      "323/323 [==============================] - 0s 120us/step - loss: 1.0603 - val_loss: 18.5893\n",
      "Epoch 1114/1600\n",
      "323/323 [==============================] - 0s 115us/step - loss: 1.1283 - val_loss: 17.2827\n",
      "Epoch 1115/1600\n",
      "323/323 [==============================] - 0s 118us/step - loss: 1.9040 - val_loss: 15.4693\n",
      "Epoch 1116/1600\n",
      "323/323 [==============================] - 0s 117us/step - loss: 1.0901 - val_loss: 18.3441\n",
      "Epoch 1117/1600\n",
      "323/323 [==============================] - 0s 118us/step - loss: 0.8059 - val_loss: 16.5561\n",
      "Epoch 1118/1600\n",
      "323/323 [==============================] - 0s 114us/step - loss: 0.7803 - val_loss: 20.4592\n",
      "Epoch 1119/1600\n",
      "323/323 [==============================] - 0s 116us/step - loss: 0.7734 - val_loss: 17.2973\n",
      "Epoch 1120/1600\n",
      "323/323 [==============================] - 0s 118us/step - loss: 0.7292 - val_loss: 17.5741\n",
      "Epoch 1121/1600\n",
      "323/323 [==============================] - 0s 115us/step - loss: 0.6975 - val_loss: 17.5041\n",
      "Epoch 1122/1600\n",
      "323/323 [==============================] - 0s 118us/step - loss: 0.6350 - val_loss: 17.9171\n",
      "Epoch 1123/1600\n",
      "323/323 [==============================] - 0s 117us/step - loss: 0.7547 - val_loss: 16.8401\n",
      "Epoch 1124/1600\n",
      "323/323 [==============================] - 0s 116us/step - loss: 0.7189 - val_loss: 19.2931\n",
      "Epoch 1125/1600\n",
      "323/323 [==============================] - 0s 115us/step - loss: 0.7482 - val_loss: 18.4438\n",
      "Epoch 1126/1600\n",
      "323/323 [==============================] - 0s 122us/step - loss: 0.6158 - val_loss: 18.2290\n",
      "Epoch 1127/1600\n",
      "323/323 [==============================] - 0s 116us/step - loss: 0.8433 - val_loss: 18.2274\n",
      "Epoch 1128/1600\n",
      "323/323 [==============================] - 0s 117us/step - loss: 0.7573 - val_loss: 17.7111\n",
      "Epoch 1129/1600\n",
      "323/323 [==============================] - 0s 120us/step - loss: 0.6076 - val_loss: 17.2777\n",
      "Epoch 1130/1600\n",
      "323/323 [==============================] - 0s 121us/step - loss: 0.6039 - val_loss: 19.7048\n",
      "Epoch 1131/1600\n",
      "323/323 [==============================] - 0s 114us/step - loss: 0.9689 - val_loss: 14.9044\n",
      "Epoch 1132/1600\n",
      "323/323 [==============================] - 0s 119us/step - loss: 0.7912 - val_loss: 19.5436\n",
      "Epoch 1133/1600\n",
      "323/323 [==============================] - 0s 116us/step - loss: 1.4260 - val_loss: 18.7543\n",
      "Epoch 1134/1600\n",
      "323/323 [==============================] - 0s 117us/step - loss: 0.9322 - val_loss: 17.1826\n",
      "Epoch 1135/1600\n",
      "323/323 [==============================] - 0s 119us/step - loss: 0.6938 - val_loss: 16.8147\n",
      "Epoch 1136/1600\n",
      "323/323 [==============================] - 0s 116us/step - loss: 0.6541 - val_loss: 18.7990\n",
      "Epoch 1137/1600\n",
      "323/323 [==============================] - 0s 117us/step - loss: 0.6941 - val_loss: 16.7458\n",
      "Epoch 1138/1600\n",
      "323/323 [==============================] - 0s 120us/step - loss: 0.5866 - val_loss: 18.0854\n",
      "Epoch 1139/1600\n",
      "323/323 [==============================] - 0s 116us/step - loss: 0.5370 - val_loss: 18.4767\n",
      "Epoch 1140/1600\n",
      "323/323 [==============================] - 0s 116us/step - loss: 0.8336 - val_loss: 16.6472\n",
      "Epoch 1141/1600\n",
      "323/323 [==============================] - 0s 122us/step - loss: 0.8697 - val_loss: 18.1923\n",
      "Epoch 1142/1600\n",
      "323/323 [==============================] - 0s 119us/step - loss: 0.8268 - val_loss: 17.8409\n",
      "Epoch 1143/1600\n"
     ]
    },
    {
     "name": "stdout",
     "output_type": "stream",
     "text": [
      "323/323 [==============================] - 0s 115us/step - loss: 1.0441 - val_loss: 17.4982\n",
      "Epoch 1144/1600\n",
      "323/323 [==============================] - 0s 116us/step - loss: 0.6429 - val_loss: 18.1763\n",
      "Epoch 1145/1600\n",
      "323/323 [==============================] - 0s 117us/step - loss: 0.5650 - val_loss: 18.7695\n",
      "Epoch 1146/1600\n",
      "323/323 [==============================] - 0s 116us/step - loss: 0.6042 - val_loss: 18.9330\n",
      "Epoch 1147/1600\n",
      "323/323 [==============================] - 0s 117us/step - loss: 0.6219 - val_loss: 16.1559\n",
      "Epoch 1148/1600\n",
      "323/323 [==============================] - 0s 122us/step - loss: 0.5444 - val_loss: 19.2564\n",
      "Epoch 1149/1600\n",
      "323/323 [==============================] - 0s 120us/step - loss: 0.5747 - val_loss: 16.8605\n",
      "Epoch 1150/1600\n",
      "323/323 [==============================] - 0s 116us/step - loss: 0.6481 - val_loss: 18.9478\n",
      "Epoch 1151/1600\n",
      "323/323 [==============================] - 0s 118us/step - loss: 0.9901 - val_loss: 17.8684\n",
      "Epoch 1152/1600\n",
      "323/323 [==============================] - 0s 113us/step - loss: 1.3011 - val_loss: 17.3561\n",
      "Epoch 1153/1600\n",
      "323/323 [==============================] - 0s 115us/step - loss: 3.7318 - val_loss: 21.9973\n",
      "Epoch 1154/1600\n",
      "323/323 [==============================] - 0s 122us/step - loss: 2.9273 - val_loss: 23.8677\n",
      "Epoch 1155/1600\n",
      "323/323 [==============================] - 0s 116us/step - loss: 2.5288 - val_loss: 15.6438\n",
      "Epoch 1156/1600\n",
      "323/323 [==============================] - 0s 118us/step - loss: 1.0273 - val_loss: 18.0800\n",
      "Epoch 1157/1600\n",
      "323/323 [==============================] - 0s 119us/step - loss: 1.2046 - val_loss: 18.1895\n",
      "Epoch 1158/1600\n",
      "323/323 [==============================] - 0s 116us/step - loss: 1.2761 - val_loss: 16.7373\n",
      "Epoch 1159/1600\n",
      "323/323 [==============================] - 0s 116us/step - loss: 0.6466 - val_loss: 18.1277\n",
      "Epoch 1160/1600\n",
      "323/323 [==============================] - 0s 119us/step - loss: 0.6322 - val_loss: 17.8807\n",
      "Epoch 1161/1600\n",
      "323/323 [==============================] - 0s 119us/step - loss: 0.6632 - val_loss: 18.1399\n",
      "Epoch 1162/1600\n",
      "323/323 [==============================] - 0s 116us/step - loss: 0.6092 - val_loss: 17.1601\n",
      "Epoch 1163/1600\n",
      "323/323 [==============================] - 0s 117us/step - loss: 0.8643 - val_loss: 17.6885\n",
      "Epoch 1164/1600\n",
      "323/323 [==============================] - 0s 117us/step - loss: 0.9139 - val_loss: 17.0074\n",
      "Epoch 1165/1600\n",
      "323/323 [==============================] - 0s 118us/step - loss: 0.7717 - val_loss: 16.7165\n",
      "Epoch 1166/1600\n",
      "323/323 [==============================] - 0s 123us/step - loss: 0.6743 - val_loss: 18.1480\n",
      "Epoch 1167/1600\n",
      "323/323 [==============================] - 0s 119us/step - loss: 0.5984 - val_loss: 18.7951\n",
      "Epoch 1168/1600\n",
      "323/323 [==============================] - 0s 116us/step - loss: 0.7558 - val_loss: 19.2356\n",
      "Epoch 1169/1600\n",
      "323/323 [==============================] - 0s 117us/step - loss: 0.6387 - val_loss: 16.3880\n",
      "Epoch 1170/1600\n",
      "323/323 [==============================] - 0s 123us/step - loss: 0.5802 - val_loss: 18.4184\n",
      "Epoch 1171/1600\n",
      "323/323 [==============================] - 0s 115us/step - loss: 0.6835 - val_loss: 17.6354\n",
      "Epoch 1172/1600\n",
      "323/323 [==============================] - 0s 114us/step - loss: 0.5828 - val_loss: 18.1886\n",
      "Epoch 1173/1600\n",
      "323/323 [==============================] - 0s 119us/step - loss: 0.4600 - val_loss: 19.1581\n",
      "Epoch 1174/1600\n",
      "323/323 [==============================] - 0s 117us/step - loss: 0.5939 - val_loss: 17.5459\n",
      "Epoch 1175/1600\n",
      "323/323 [==============================] - 0s 116us/step - loss: 0.5186 - val_loss: 18.2681\n",
      "Epoch 1176/1600\n",
      "323/323 [==============================] - 0s 118us/step - loss: 0.5206 - val_loss: 18.6881\n",
      "Epoch 1177/1600\n",
      "323/323 [==============================] - 0s 116us/step - loss: 0.5299 - val_loss: 18.5336\n",
      "Epoch 1178/1600\n",
      "323/323 [==============================] - 0s 118us/step - loss: 0.7578 - val_loss: 18.2017\n",
      "Epoch 1179/1600\n",
      "323/323 [==============================] - 0s 119us/step - loss: 0.7822 - val_loss: 18.4042\n",
      "Epoch 1180/1600\n",
      "323/323 [==============================] - 0s 117us/step - loss: 1.1036 - val_loss: 16.8228\n",
      "Epoch 1181/1600\n",
      "323/323 [==============================] - 0s 117us/step - loss: 1.1185 - val_loss: 16.1602\n",
      "Epoch 1182/1600\n",
      "323/323 [==============================] - 0s 119us/step - loss: 0.9998 - val_loss: 18.1448\n",
      "Epoch 1183/1600\n",
      "323/323 [==============================] - 0s 121us/step - loss: 0.8805 - val_loss: 15.8080\n",
      "Epoch 1184/1600\n",
      "323/323 [==============================] - 0s 117us/step - loss: 0.6880 - val_loss: 17.3512\n",
      "Epoch 1185/1600\n",
      "323/323 [==============================] - 0s 117us/step - loss: 0.6038 - val_loss: 18.0907\n",
      "Epoch 1186/1600\n",
      "323/323 [==============================] - 0s 119us/step - loss: 0.7909 - val_loss: 18.2377\n",
      "Epoch 1187/1600\n",
      "323/323 [==============================] - 0s 114us/step - loss: 0.9908 - val_loss: 18.0759\n",
      "Epoch 1188/1600\n",
      "323/323 [==============================] - 0s 116us/step - loss: 0.7981 - val_loss: 17.8503\n",
      "Epoch 1189/1600\n",
      "323/323 [==============================] - 0s 120us/step - loss: 0.6482 - val_loss: 17.4463\n",
      "Epoch 1190/1600\n",
      "323/323 [==============================] - 0s 115us/step - loss: 0.5923 - val_loss: 18.5814\n",
      "Epoch 1191/1600\n",
      "323/323 [==============================] - 0s 119us/step - loss: 0.7984 - val_loss: 18.8128\n",
      "Epoch 1192/1600\n",
      "323/323 [==============================] - 0s 121us/step - loss: 0.6646 - val_loss: 18.4127\n",
      "Epoch 1193/1600\n",
      "323/323 [==============================] - 0s 116us/step - loss: 0.9208 - val_loss: 19.4586\n",
      "Epoch 1194/1600\n",
      "323/323 [==============================] - 0s 116us/step - loss: 0.9216 - val_loss: 16.0978\n",
      "Epoch 1195/1600\n",
      "323/323 [==============================] - 0s 121us/step - loss: 0.5846 - val_loss: 17.8588\n",
      "Epoch 1196/1600\n",
      "323/323 [==============================] - 0s 116us/step - loss: 0.6039 - val_loss: 19.4898\n",
      "Epoch 1197/1600\n",
      "323/323 [==============================] - 0s 115us/step - loss: 0.6067 - val_loss: 17.6601\n",
      "Epoch 1198/1600\n",
      "323/323 [==============================] - 0s 119us/step - loss: 0.6751 - val_loss: 18.6449\n",
      "Epoch 1199/1600\n",
      "323/323 [==============================] - 0s 118us/step - loss: 0.7482 - val_loss: 16.9724\n",
      "Epoch 1200/1600\n",
      "323/323 [==============================] - 0s 115us/step - loss: 0.5792 - val_loss: 17.3221\n",
      "Epoch 1201/1600\n",
      "323/323 [==============================] - 0s 120us/step - loss: 0.9274 - val_loss: 19.3440\n",
      "Epoch 1202/1600\n",
      "323/323 [==============================] - 0s 118us/step - loss: 0.7522 - val_loss: 17.0463\n",
      "Epoch 1203/1600\n",
      "323/323 [==============================] - 0s 117us/step - loss: 0.9521 - val_loss: 21.5514\n",
      "Epoch 1204/1600\n",
      "323/323 [==============================] - 0s 117us/step - loss: 1.1567 - val_loss: 16.5955\n",
      "Epoch 1205/1600\n",
      "323/323 [==============================] - 0s 117us/step - loss: 0.9684 - val_loss: 18.7595\n",
      "Epoch 1206/1600\n",
      "323/323 [==============================] - 0s 124us/step - loss: 0.6424 - val_loss: 16.1003\n",
      "Epoch 1207/1600\n",
      "323/323 [==============================] - 0s 119us/step - loss: 0.6472 - val_loss: 18.9081\n",
      "Epoch 1208/1600\n",
      "323/323 [==============================] - 0s 122us/step - loss: 1.2509 - val_loss: 17.5924\n",
      "Epoch 1209/1600\n",
      "323/323 [==============================] - 0s 113us/step - loss: 1.1980 - val_loss: 17.4476\n",
      "Epoch 1210/1600\n",
      "323/323 [==============================] - 0s 117us/step - loss: 1.2309 - val_loss: 21.5010\n",
      "Epoch 1211/1600\n",
      "323/323 [==============================] - 0s 120us/step - loss: 1.7247 - val_loss: 18.0068\n",
      "Epoch 1212/1600\n",
      "323/323 [==============================] - 0s 114us/step - loss: 1.3050 - val_loss: 15.9129\n",
      "Epoch 1213/1600\n",
      "323/323 [==============================] - 0s 117us/step - loss: 1.2055 - val_loss: 20.2189\n",
      "Epoch 1214/1600\n",
      "323/323 [==============================] - 0s 120us/step - loss: 1.6453 - val_loss: 16.1848\n",
      "Epoch 1215/1600\n",
      "323/323 [==============================] - 0s 114us/step - loss: 1.2158 - val_loss: 16.7837\n",
      "Epoch 1216/1600\n",
      "323/323 [==============================] - 0s 115us/step - loss: 1.0552 - val_loss: 16.6646\n",
      "Epoch 1217/1600\n",
      "323/323 [==============================] - 0s 120us/step - loss: 0.6540 - val_loss: 17.1460\n",
      "Epoch 1218/1600\n",
      "323/323 [==============================] - 0s 115us/step - loss: 0.5370 - val_loss: 17.9779\n",
      "Epoch 1219/1600\n"
     ]
    },
    {
     "name": "stdout",
     "output_type": "stream",
     "text": [
      "323/323 [==============================] - 0s 116us/step - loss: 0.5260 - val_loss: 17.5093\n",
      "Epoch 1220/1600\n",
      "323/323 [==============================] - 0s 120us/step - loss: 0.6167 - val_loss: 15.9648\n",
      "Epoch 1221/1600\n",
      "323/323 [==============================] - 0s 115us/step - loss: 0.6629 - val_loss: 18.1650\n",
      "Epoch 1222/1600\n",
      "323/323 [==============================] - 0s 114us/step - loss: 0.5535 - val_loss: 16.1246\n",
      "Epoch 1223/1600\n",
      "323/323 [==============================] - 0s 119us/step - loss: 0.6004 - val_loss: 17.4395\n",
      "Epoch 1224/1600\n",
      "323/323 [==============================] - 0s 118us/step - loss: 1.1601 - val_loss: 17.4364\n",
      "Epoch 1225/1600\n",
      "323/323 [==============================] - 0s 116us/step - loss: 0.7357 - val_loss: 16.4253\n",
      "Epoch 1226/1600\n",
      "323/323 [==============================] - 0s 120us/step - loss: 0.6196 - val_loss: 18.2426\n",
      "Epoch 1227/1600\n",
      "323/323 [==============================] - 0s 118us/step - loss: 0.6441 - val_loss: 17.9357\n",
      "Epoch 1228/1600\n",
      "323/323 [==============================] - 0s 119us/step - loss: 0.5278 - val_loss: 17.0025\n",
      "Epoch 1229/1600\n",
      "323/323 [==============================] - 0s 116us/step - loss: 0.6902 - val_loss: 18.6641\n",
      "Epoch 1230/1600\n",
      "323/323 [==============================] - 0s 119us/step - loss: 1.2259 - val_loss: 19.4729\n",
      "Epoch 1231/1600\n",
      "323/323 [==============================] - 0s 115us/step - loss: 0.7317 - val_loss: 18.0090\n",
      "Epoch 1232/1600\n",
      "323/323 [==============================] - 0s 116us/step - loss: 0.5136 - val_loss: 17.8953\n",
      "Epoch 1233/1600\n",
      "323/323 [==============================] - 0s 119us/step - loss: 0.4265 - val_loss: 17.4905\n",
      "Epoch 1234/1600\n",
      "323/323 [==============================] - 0s 123us/step - loss: 0.6199 - val_loss: 16.9599\n",
      "Epoch 1235/1600\n",
      "323/323 [==============================] - 0s 116us/step - loss: 0.9743 - val_loss: 16.8550\n",
      "Epoch 1236/1600\n",
      "323/323 [==============================] - 0s 124us/step - loss: 0.7805 - val_loss: 18.3180\n",
      "Epoch 1237/1600\n",
      "323/323 [==============================] - 0s 118us/step - loss: 0.6209 - val_loss: 16.6005\n",
      "Epoch 1238/1600\n",
      "323/323 [==============================] - 0s 116us/step - loss: 0.5615 - val_loss: 17.3174\n",
      "Epoch 1239/1600\n",
      "323/323 [==============================] - 0s 119us/step - loss: 0.5663 - val_loss: 18.0998\n",
      "Epoch 1240/1600\n",
      "323/323 [==============================] - 0s 116us/step - loss: 0.6960 - val_loss: 20.0200\n",
      "Epoch 1241/1600\n",
      "323/323 [==============================] - 0s 115us/step - loss: 1.6164 - val_loss: 17.4924\n",
      "Epoch 1242/1600\n",
      "323/323 [==============================] - 0s 120us/step - loss: 2.1582 - val_loss: 19.5777\n",
      "Epoch 1243/1600\n",
      "323/323 [==============================] - 0s 116us/step - loss: 1.1227 - val_loss: 18.2720\n",
      "Epoch 1244/1600\n",
      "323/323 [==============================] - 0s 115us/step - loss: 1.1117 - val_loss: 18.8067\n",
      "Epoch 1245/1600\n",
      "323/323 [==============================] - 0s 124us/step - loss: 1.6999 - val_loss: 16.5422\n",
      "Epoch 1246/1600\n",
      "323/323 [==============================] - 0s 116us/step - loss: 1.5677 - val_loss: 18.2283\n",
      "Epoch 1247/1600\n",
      "323/323 [==============================] - 0s 115us/step - loss: 0.8787 - val_loss: 17.2363\n",
      "Epoch 1248/1600\n",
      "323/323 [==============================] - 0s 117us/step - loss: 0.9758 - val_loss: 17.0125\n",
      "Epoch 1249/1600\n",
      "323/323 [==============================] - 0s 117us/step - loss: 0.6637 - val_loss: 16.4887\n",
      "Epoch 1250/1600\n",
      "323/323 [==============================] - 0s 115us/step - loss: 0.6060 - val_loss: 18.6925\n",
      "Epoch 1251/1600\n",
      "323/323 [==============================] - 0s 119us/step - loss: 0.5965 - val_loss: 16.3717\n",
      "Epoch 1252/1600\n",
      "323/323 [==============================] - 0s 120us/step - loss: 0.4558 - val_loss: 17.5083\n",
      "Epoch 1253/1600\n",
      "323/323 [==============================] - 0s 116us/step - loss: 0.5784 - val_loss: 16.4819\n",
      "Epoch 1254/1600\n",
      "323/323 [==============================] - 0s 117us/step - loss: 0.4576 - val_loss: 18.5119\n",
      "Epoch 1255/1600\n",
      "323/323 [==============================] - 0s 118us/step - loss: 0.5778 - val_loss: 16.6986\n",
      "Epoch 1256/1600\n",
      "323/323 [==============================] - 0s 117us/step - loss: 0.7331 - val_loss: 18.0675\n",
      "Epoch 1257/1600\n",
      "323/323 [==============================] - 0s 116us/step - loss: 0.5459 - val_loss: 17.7247\n",
      "Epoch 1258/1600\n",
      "323/323 [==============================] - 0s 122us/step - loss: 0.5516 - val_loss: 19.0932\n",
      "Epoch 1259/1600\n",
      "323/323 [==============================] - 0s 118us/step - loss: 0.6943 - val_loss: 17.7762\n",
      "Epoch 1260/1600\n",
      "323/323 [==============================] - 0s 118us/step - loss: 0.6414 - val_loss: 18.0562\n",
      "Epoch 1261/1600\n",
      "323/323 [==============================] - 0s 120us/step - loss: 0.6149 - val_loss: 18.5082\n",
      "Epoch 1262/1600\n",
      "323/323 [==============================] - 0s 116us/step - loss: 0.8190 - val_loss: 17.5902\n",
      "Epoch 1263/1600\n",
      "323/323 [==============================] - 0s 115us/step - loss: 0.7761 - val_loss: 17.7349\n",
      "Epoch 1264/1600\n",
      "323/323 [==============================] - 0s 120us/step - loss: 0.4839 - val_loss: 18.6219\n",
      "Epoch 1265/1600\n",
      "323/323 [==============================] - 0s 116us/step - loss: 1.2051 - val_loss: 15.3822\n",
      "Epoch 1266/1600\n",
      "323/323 [==============================] - 0s 117us/step - loss: 1.2843 - val_loss: 18.0154\n",
      "Epoch 1267/1600\n",
      "323/323 [==============================] - 0s 118us/step - loss: 0.7240 - val_loss: 18.3074\n",
      "Epoch 1268/1600\n",
      "323/323 [==============================] - 0s 118us/step - loss: 1.0561 - val_loss: 17.6950\n",
      "Epoch 1269/1600\n",
      "323/323 [==============================] - 0s 117us/step - loss: 0.7338 - val_loss: 17.9220\n",
      "Epoch 1270/1600\n",
      "323/323 [==============================] - 0s 116us/step - loss: 0.5565 - val_loss: 17.8532\n",
      "Epoch 1271/1600\n",
      "323/323 [==============================] - 0s 121us/step - loss: 0.7577 - val_loss: 18.5328\n",
      "Epoch 1272/1600\n",
      "323/323 [==============================] - 0s 116us/step - loss: 0.8114 - val_loss: 18.0707\n",
      "Epoch 1273/1600\n",
      "323/323 [==============================] - 0s 115us/step - loss: 1.4479 - val_loss: 18.9367\n",
      "Epoch 1274/1600\n",
      "323/323 [==============================] - 0s 117us/step - loss: 0.7477 - val_loss: 16.4267\n",
      "Epoch 1275/1600\n",
      "323/323 [==============================] - 0s 116us/step - loss: 0.7186 - val_loss: 16.3347\n",
      "Epoch 1276/1600\n",
      "323/323 [==============================] - 0s 118us/step - loss: 0.7434 - val_loss: 17.3335\n",
      "Epoch 1277/1600\n",
      "323/323 [==============================] - 0s 121us/step - loss: 0.7338 - val_loss: 18.3895\n",
      "Epoch 1278/1600\n",
      "323/323 [==============================] - 0s 114us/step - loss: 0.6519 - val_loss: 18.5049\n",
      "Epoch 1279/1600\n",
      "323/323 [==============================] - 0s 117us/step - loss: 0.7547 - val_loss: 19.4963\n",
      "Epoch 1280/1600\n",
      "323/323 [==============================] - 0s 118us/step - loss: 0.5078 - val_loss: 18.0683\n",
      "Epoch 1281/1600\n",
      "323/323 [==============================] - 0s 115us/step - loss: 0.7113 - val_loss: 17.6698\n",
      "Epoch 1282/1600\n",
      "323/323 [==============================] - 0s 114us/step - loss: 0.8683 - val_loss: 18.2871\n",
      "Epoch 1283/1600\n",
      "323/323 [==============================] - 0s 120us/step - loss: 1.8053 - val_loss: 19.1234\n",
      "Epoch 1284/1600\n",
      "323/323 [==============================] - 0s 116us/step - loss: 1.3247 - val_loss: 17.0750\n",
      "Epoch 1285/1600\n",
      "323/323 [==============================] - 0s 123us/step - loss: 0.7751 - val_loss: 17.1742\n",
      "Epoch 1286/1600\n",
      "323/323 [==============================] - 0s 123us/step - loss: 0.6556 - val_loss: 17.6579\n",
      "Epoch 1287/1600\n",
      "323/323 [==============================] - 0s 116us/step - loss: 0.5802 - val_loss: 17.1091\n",
      "Epoch 1288/1600\n",
      "323/323 [==============================] - 0s 116us/step - loss: 0.5900 - val_loss: 16.4276\n",
      "Epoch 1289/1600\n",
      "323/323 [==============================] - 0s 119us/step - loss: 0.4625 - val_loss: 17.3298\n",
      "Epoch 1290/1600\n",
      "323/323 [==============================] - 0s 116us/step - loss: 0.5837 - val_loss: 18.4016\n",
      "Epoch 1291/1600\n",
      "323/323 [==============================] - 0s 115us/step - loss: 0.5957 - val_loss: 17.2259\n",
      "Epoch 1292/1600\n",
      "323/323 [==============================] - 0s 117us/step - loss: 0.5149 - val_loss: 17.9893\n",
      "Epoch 1293/1600\n",
      "323/323 [==============================] - 0s 118us/step - loss: 0.4781 - val_loss: 18.1900\n",
      "Epoch 1294/1600\n",
      "323/323 [==============================] - 0s 115us/step - loss: 0.5793 - val_loss: 17.9047\n",
      "Epoch 1295/1600\n"
     ]
    },
    {
     "name": "stdout",
     "output_type": "stream",
     "text": [
      "323/323 [==============================] - 0s 117us/step - loss: 0.6560 - val_loss: 17.6915\n",
      "Epoch 1296/1600\n",
      "323/323 [==============================] - 0s 118us/step - loss: 0.6290 - val_loss: 17.2679\n",
      "Epoch 1297/1600\n",
      "323/323 [==============================] - 0s 118us/step - loss: 0.5714 - val_loss: 18.3562\n",
      "Epoch 1298/1600\n",
      "323/323 [==============================] - 0s 119us/step - loss: 0.5916 - val_loss: 18.0280\n",
      "Epoch 1299/1600\n",
      "323/323 [==============================] - 0s 121us/step - loss: 1.5600 - val_loss: 18.6051\n",
      "Epoch 1300/1600\n",
      "323/323 [==============================] - 0s 118us/step - loss: 0.7090 - val_loss: 18.7575\n",
      "Epoch 1301/1600\n",
      "323/323 [==============================] - 0s 116us/step - loss: 0.7272 - val_loss: 16.4643\n",
      "Epoch 1302/1600\n",
      "323/323 [==============================] - 0s 119us/step - loss: 0.7280 - val_loss: 16.8564\n",
      "Epoch 1303/1600\n",
      "323/323 [==============================] - 0s 117us/step - loss: 0.6830 - val_loss: 18.3797\n",
      "Epoch 1304/1600\n",
      "323/323 [==============================] - 0s 114us/step - loss: 0.6506 - val_loss: 16.1325\n",
      "Epoch 1305/1600\n",
      "323/323 [==============================] - 0s 122us/step - loss: 0.9484 - val_loss: 17.5703\n",
      "Epoch 1306/1600\n",
      "323/323 [==============================] - 0s 117us/step - loss: 1.0812 - val_loss: 15.2408\n",
      "Epoch 1307/1600\n",
      "323/323 [==============================] - 0s 114us/step - loss: 0.8204 - val_loss: 19.1211\n",
      "Epoch 1308/1600\n",
      "323/323 [==============================] - 0s 116us/step - loss: 0.5755 - val_loss: 16.7656\n",
      "Epoch 1309/1600\n",
      "323/323 [==============================] - 0s 118us/step - loss: 0.5537 - val_loss: 18.5279\n",
      "Epoch 1310/1600\n",
      "323/323 [==============================] - 0s 116us/step - loss: 1.0741 - val_loss: 17.5864\n",
      "Epoch 1311/1600\n",
      "323/323 [==============================] - 0s 116us/step - loss: 1.0643 - val_loss: 17.7140\n",
      "Epoch 1312/1600\n",
      "323/323 [==============================] - 0s 122us/step - loss: 0.7652 - val_loss: 18.8727\n",
      "Epoch 1313/1600\n",
      "323/323 [==============================] - 0s 118us/step - loss: 1.8211 - val_loss: 17.1321\n",
      "Epoch 1314/1600\n",
      "323/323 [==============================] - 0s 117us/step - loss: 1.1985 - val_loss: 17.1331\n",
      "Epoch 1315/1600\n",
      "323/323 [==============================] - 0s 117us/step - loss: 0.9509 - val_loss: 20.2366\n",
      "Epoch 1316/1600\n",
      "323/323 [==============================] - 0s 115us/step - loss: 2.3039 - val_loss: 19.8448\n",
      "Epoch 1317/1600\n",
      "323/323 [==============================] - 0s 114us/step - loss: 1.8242 - val_loss: 17.7545\n",
      "Epoch 1318/1600\n",
      "323/323 [==============================] - 0s 120us/step - loss: 1.5673 - val_loss: 17.7896\n",
      "Epoch 1319/1600\n",
      "323/323 [==============================] - 0s 115us/step - loss: 0.6706 - val_loss: 18.4370\n",
      "Epoch 1320/1600\n",
      "323/323 [==============================] - 0s 118us/step - loss: 0.5193 - val_loss: 17.5119\n",
      "Epoch 1321/1600\n",
      "323/323 [==============================] - 0s 122us/step - loss: 0.4388 - val_loss: 17.5664\n",
      "Epoch 1322/1600\n",
      "323/323 [==============================] - 0s 115us/step - loss: 0.6047 - val_loss: 17.5308\n",
      "Epoch 1323/1600\n",
      "323/323 [==============================] - 0s 121us/step - loss: 0.4719 - val_loss: 18.1360\n",
      "Epoch 1324/1600\n",
      "323/323 [==============================] - 0s 123us/step - loss: 0.6631 - val_loss: 17.8578\n",
      "Epoch 1325/1600\n",
      "323/323 [==============================] - 0s 116us/step - loss: 0.6530 - val_loss: 16.8907\n",
      "Epoch 1326/1600\n",
      "323/323 [==============================] - 0s 116us/step - loss: 1.2523 - val_loss: 17.5499\n",
      "Epoch 1327/1600\n",
      "323/323 [==============================] - 0s 118us/step - loss: 0.7252 - val_loss: 18.7134\n",
      "Epoch 1328/1600\n",
      "323/323 [==============================] - 0s 116us/step - loss: 0.5422 - val_loss: 17.2334\n",
      "Epoch 1329/1600\n",
      "323/323 [==============================] - 0s 114us/step - loss: 0.4828 - val_loss: 17.4759\n",
      "Epoch 1330/1600\n",
      "323/323 [==============================] - 0s 117us/step - loss: 0.7138 - val_loss: 17.4810\n",
      "Epoch 1331/1600\n",
      "323/323 [==============================] - 0s 118us/step - loss: 0.4742 - val_loss: 17.2768\n",
      "Epoch 1332/1600\n",
      "323/323 [==============================] - 0s 118us/step - loss: 1.8859 - val_loss: 20.6032\n",
      "Epoch 1333/1600\n",
      "323/323 [==============================] - 0s 117us/step - loss: 1.1387 - val_loss: 18.0998\n",
      "Epoch 1334/1600\n",
      "323/323 [==============================] - 0s 119us/step - loss: 1.3631 - val_loss: 18.9598\n",
      "Epoch 1335/1600\n",
      "323/323 [==============================] - 0s 116us/step - loss: 0.6887 - val_loss: 15.8791\n",
      "Epoch 1336/1600\n",
      "323/323 [==============================] - 0s 116us/step - loss: 0.7243 - val_loss: 18.6992\n",
      "Epoch 1337/1600\n",
      "323/323 [==============================] - 0s 119us/step - loss: 0.4965 - val_loss: 17.8253\n",
      "Epoch 1338/1600\n",
      "323/323 [==============================] - 0s 119us/step - loss: 0.3934 - val_loss: 18.4135\n",
      "Epoch 1339/1600\n",
      "323/323 [==============================] - 0s 117us/step - loss: 0.3580 - val_loss: 18.0001\n",
      "Epoch 1340/1600\n",
      "323/323 [==============================] - 0s 119us/step - loss: 1.0211 - val_loss: 17.1699\n",
      "Epoch 1341/1600\n",
      "323/323 [==============================] - 0s 118us/step - loss: 0.9719 - val_loss: 18.0176\n",
      "Epoch 1342/1600\n",
      "323/323 [==============================] - 0s 116us/step - loss: 0.6840 - val_loss: 17.9717\n",
      "Epoch 1343/1600\n",
      "323/323 [==============================] - 0s 119us/step - loss: 0.8783 - val_loss: 17.4201\n",
      "Epoch 1344/1600\n",
      "323/323 [==============================] - 0s 115us/step - loss: 0.7966 - val_loss: 17.2349\n",
      "Epoch 1345/1600\n",
      "323/323 [==============================] - 0s 115us/step - loss: 0.7790 - val_loss: 17.9925\n",
      "Epoch 1346/1600\n",
      "323/323 [==============================] - 0s 122us/step - loss: 0.6258 - val_loss: 18.6898\n",
      "Epoch 1347/1600\n",
      "323/323 [==============================] - 0s 115us/step - loss: 0.6352 - val_loss: 18.9610\n",
      "Epoch 1348/1600\n",
      "323/323 [==============================] - 0s 115us/step - loss: 0.9539 - val_loss: 18.1256\n",
      "Epoch 1349/1600\n",
      "323/323 [==============================] - 0s 121us/step - loss: 0.6704 - val_loss: 17.6444\n",
      "Epoch 1350/1600\n",
      "323/323 [==============================] - 0s 115us/step - loss: 0.4899 - val_loss: 18.1517\n",
      "Epoch 1351/1600\n",
      "323/323 [==============================] - 0s 116us/step - loss: 0.4619 - val_loss: 17.1880\n",
      "Epoch 1352/1600\n",
      "323/323 [==============================] - 0s 118us/step - loss: 0.4951 - val_loss: 17.7666\n",
      "Epoch 1353/1600\n",
      "323/323 [==============================] - 0s 119us/step - loss: 0.6275 - val_loss: 18.6164\n",
      "Epoch 1354/1600\n",
      "323/323 [==============================] - 0s 115us/step - loss: 0.6671 - val_loss: 16.8450\n",
      "Epoch 1355/1600\n",
      "323/323 [==============================] - 0s 119us/step - loss: 0.5260 - val_loss: 18.0540\n",
      "Epoch 1356/1600\n",
      "323/323 [==============================] - 0s 122us/step - loss: 0.4276 - val_loss: 16.7135\n",
      "Epoch 1357/1600\n",
      "323/323 [==============================] - 0s 117us/step - loss: 0.4875 - val_loss: 18.8180\n",
      "Epoch 1358/1600\n",
      "323/323 [==============================] - 0s 119us/step - loss: 0.4510 - val_loss: 18.1141\n",
      "Epoch 1359/1600\n",
      "323/323 [==============================] - 0s 119us/step - loss: 0.5816 - val_loss: 16.5790\n",
      "Epoch 1360/1600\n",
      "323/323 [==============================] - 0s 115us/step - loss: 0.4726 - val_loss: 19.8563\n",
      "Epoch 1361/1600\n",
      "323/323 [==============================] - 0s 116us/step - loss: 0.5461 - val_loss: 16.1969\n",
      "Epoch 1362/1600\n",
      "323/323 [==============================] - 0s 120us/step - loss: 0.6743 - val_loss: 19.1756\n",
      "Epoch 1363/1600\n",
      "323/323 [==============================] - 0s 116us/step - loss: 0.6431 - val_loss: 17.4186\n",
      "Epoch 1364/1600\n",
      "323/323 [==============================] - 0s 128us/step - loss: 0.4570 - val_loss: 19.1357\n",
      "Epoch 1365/1600\n",
      "323/323 [==============================] - 0s 134us/step - loss: 0.5061 - val_loss: 19.0739\n",
      "Epoch 1366/1600\n",
      "323/323 [==============================] - 0s 126us/step - loss: 0.5047 - val_loss: 16.9326\n",
      "Epoch 1367/1600\n",
      "323/323 [==============================] - 0s 116us/step - loss: 0.5496 - val_loss: 18.2452\n",
      "Epoch 1368/1600\n",
      "323/323 [==============================] - 0s 121us/step - loss: 0.4664 - val_loss: 18.2096\n",
      "Epoch 1369/1600\n",
      "323/323 [==============================] - 0s 117us/step - loss: 0.4539 - val_loss: 17.0651\n",
      "Epoch 1370/1600\n",
      "323/323 [==============================] - 0s 117us/step - loss: 0.6477 - val_loss: 17.6226\n",
      "Epoch 1371/1600\n"
     ]
    },
    {
     "name": "stdout",
     "output_type": "stream",
     "text": [
      "323/323 [==============================] - 0s 119us/step - loss: 0.5710 - val_loss: 18.8416\n",
      "Epoch 1372/1600\n",
      "323/323 [==============================] - 0s 118us/step - loss: 0.5825 - val_loss: 16.7924\n",
      "Epoch 1373/1600\n",
      "323/323 [==============================] - 0s 115us/step - loss: 0.8335 - val_loss: 19.9442\n",
      "Epoch 1374/1600\n",
      "323/323 [==============================] - 0s 119us/step - loss: 0.7023 - val_loss: 17.6666\n",
      "Epoch 1375/1600\n",
      "323/323 [==============================] - 0s 122us/step - loss: 0.5581 - val_loss: 17.3166\n",
      "Epoch 1376/1600\n",
      "323/323 [==============================] - 0s 116us/step - loss: 0.4789 - val_loss: 19.4978\n",
      "Epoch 1377/1600\n",
      "323/323 [==============================] - 0s 118us/step - loss: 0.6144 - val_loss: 17.8522\n",
      "Epoch 1378/1600\n",
      "323/323 [==============================] - 0s 116us/step - loss: 0.7436 - val_loss: 16.8702\n",
      "Epoch 1379/1600\n",
      "323/323 [==============================] - 0s 116us/step - loss: 0.9158 - val_loss: 18.3036\n",
      "Epoch 1380/1600\n",
      "323/323 [==============================] - 0s 120us/step - loss: 0.6204 - val_loss: 18.1670\n",
      "Epoch 1381/1600\n",
      "323/323 [==============================] - 0s 118us/step - loss: 1.0388 - val_loss: 17.5116\n",
      "Epoch 1382/1600\n",
      "323/323 [==============================] - 0s 116us/step - loss: 0.7847 - val_loss: 18.9838\n",
      "Epoch 1383/1600\n",
      "323/323 [==============================] - 0s 116us/step - loss: 0.9683 - val_loss: 18.3388\n",
      "Epoch 1384/1600\n",
      "323/323 [==============================] - 0s 120us/step - loss: 0.7500 - val_loss: 17.4351\n",
      "Epoch 1385/1600\n",
      "323/323 [==============================] - 0s 116us/step - loss: 1.1901 - val_loss: 18.9011\n",
      "Epoch 1386/1600\n",
      "323/323 [==============================] - 0s 118us/step - loss: 0.9577 - val_loss: 15.3158\n",
      "Epoch 1387/1600\n",
      "323/323 [==============================] - 0s 120us/step - loss: 0.7292 - val_loss: 18.7868\n",
      "Epoch 1388/1600\n",
      "323/323 [==============================] - 0s 116us/step - loss: 0.6076 - val_loss: 18.2258\n",
      "Epoch 1389/1600\n",
      "323/323 [==============================] - 0s 118us/step - loss: 0.7461 - val_loss: 17.8229\n",
      "Epoch 1390/1600\n",
      "323/323 [==============================] - 0s 121us/step - loss: 0.6456 - val_loss: 18.0303\n",
      "Epoch 1391/1600\n",
      "323/323 [==============================] - 0s 114us/step - loss: 0.7319 - val_loss: 16.6035\n",
      "Epoch 1392/1600\n",
      "323/323 [==============================] - 0s 116us/step - loss: 0.8976 - val_loss: 18.7646\n",
      "Epoch 1393/1600\n",
      "323/323 [==============================] - 0s 119us/step - loss: 0.5529 - val_loss: 18.6285\n",
      "Epoch 1394/1600\n",
      "323/323 [==============================] - 0s 116us/step - loss: 0.5224 - val_loss: 17.0946\n",
      "Epoch 1395/1600\n",
      "323/323 [==============================] - 0s 116us/step - loss: 0.5215 - val_loss: 18.6646\n",
      "Epoch 1396/1600\n",
      "323/323 [==============================] - 0s 119us/step - loss: 0.4578 - val_loss: 17.9498\n",
      "Epoch 1397/1600\n",
      "323/323 [==============================] - 0s 116us/step - loss: 0.3953 - val_loss: 17.2006\n",
      "Epoch 1398/1600\n",
      "323/323 [==============================] - 0s 115us/step - loss: 0.6562 - val_loss: 18.3917\n",
      "Epoch 1399/1600\n",
      "323/323 [==============================] - 0s 121us/step - loss: 0.8624 - val_loss: 16.7124\n",
      "Epoch 1400/1600\n",
      "323/323 [==============================] - 0s 113us/step - loss: 0.7000 - val_loss: 18.2403\n",
      "Epoch 1401/1600\n",
      "323/323 [==============================] - 0s 114us/step - loss: 0.7810 - val_loss: 19.1928\n",
      "Epoch 1402/1600\n",
      "323/323 [==============================] - 0s 118us/step - loss: 0.8258 - val_loss: 17.8259\n",
      "Epoch 1403/1600\n",
      "323/323 [==============================] - 0s 118us/step - loss: 0.6932 - val_loss: 16.4520\n",
      "Epoch 1404/1600\n",
      "323/323 [==============================] - 0s 116us/step - loss: 0.6531 - val_loss: 18.3385\n",
      "Epoch 1405/1600\n",
      "323/323 [==============================] - 0s 117us/step - loss: 0.5273 - val_loss: 17.1091\n",
      "Epoch 1406/1600\n",
      "323/323 [==============================] - 0s 117us/step - loss: 0.5520 - val_loss: 19.9725\n",
      "Epoch 1407/1600\n",
      "323/323 [==============================] - 0s 117us/step - loss: 0.5858 - val_loss: 16.3051\n",
      "Epoch 1408/1600\n",
      "323/323 [==============================] - 0s 117us/step - loss: 0.5965 - val_loss: 19.8132\n",
      "Epoch 1409/1600\n",
      "323/323 [==============================] - 0s 123us/step - loss: 0.6747 - val_loss: 16.9052\n",
      "Epoch 1410/1600\n",
      "323/323 [==============================] - 0s 116us/step - loss: 0.5718 - val_loss: 17.8979\n",
      "Epoch 1411/1600\n",
      "323/323 [==============================] - 0s 117us/step - loss: 0.3935 - val_loss: 18.9393\n",
      "Epoch 1412/1600\n",
      "323/323 [==============================] - 0s 118us/step - loss: 0.6461 - val_loss: 16.4566\n",
      "Epoch 1413/1600\n",
      "323/323 [==============================] - 0s 117us/step - loss: 0.7491 - val_loss: 17.6009\n",
      "Epoch 1414/1600\n",
      "323/323 [==============================] - 0s 116us/step - loss: 0.5744 - val_loss: 18.6388\n",
      "Epoch 1415/1600\n",
      "323/323 [==============================] - 0s 121us/step - loss: 0.7973 - val_loss: 18.2221\n",
      "Epoch 1416/1600\n",
      "323/323 [==============================] - 0s 119us/step - loss: 0.6159 - val_loss: 16.9301\n",
      "Epoch 1417/1600\n",
      "323/323 [==============================] - 0s 117us/step - loss: 0.5878 - val_loss: 17.4902\n",
      "Epoch 1418/1600\n",
      "323/323 [==============================] - 0s 124us/step - loss: 0.6512 - val_loss: 17.7613\n",
      "Epoch 1419/1600\n",
      "323/323 [==============================] - 0s 115us/step - loss: 0.4856 - val_loss: 17.2131\n",
      "Epoch 1420/1600\n",
      "323/323 [==============================] - 0s 116us/step - loss: 0.4311 - val_loss: 18.3370\n",
      "Epoch 1421/1600\n",
      "323/323 [==============================] - 0s 122us/step - loss: 0.8250 - val_loss: 20.5281\n",
      "Epoch 1422/1600\n",
      "323/323 [==============================] - 0s 116us/step - loss: 1.2998 - val_loss: 17.1983\n",
      "Epoch 1423/1600\n",
      "323/323 [==============================] - 0s 115us/step - loss: 0.6813 - val_loss: 17.2532\n",
      "Epoch 1424/1600\n",
      "323/323 [==============================] - 0s 120us/step - loss: 0.8413 - val_loss: 17.6275\n",
      "Epoch 1425/1600\n",
      "323/323 [==============================] - 0s 114us/step - loss: 0.8667 - val_loss: 17.4439\n",
      "Epoch 1426/1600\n",
      "323/323 [==============================] - 0s 115us/step - loss: 0.5815 - val_loss: 16.2260\n",
      "Epoch 1427/1600\n",
      "323/323 [==============================] - 0s 118us/step - loss: 0.4455 - val_loss: 18.3550\n",
      "Epoch 1428/1600\n",
      "323/323 [==============================] - 0s 121us/step - loss: 0.4443 - val_loss: 17.5637\n",
      "Epoch 1429/1600\n",
      "323/323 [==============================] - 0s 117us/step - loss: 0.4138 - val_loss: 17.9022\n",
      "Epoch 1430/1600\n",
      "323/323 [==============================] - 0s 119us/step - loss: 0.4713 - val_loss: 18.1871\n",
      "Epoch 1431/1600\n",
      "323/323 [==============================] - 0s 125us/step - loss: 0.4876 - val_loss: 17.9728\n",
      "Epoch 1432/1600\n",
      "323/323 [==============================] - 0s 118us/step - loss: 0.4895 - val_loss: 18.2619\n",
      "Epoch 1433/1600\n",
      "323/323 [==============================] - 0s 120us/step - loss: 0.4321 - val_loss: 18.2728\n",
      "Epoch 1434/1600\n",
      "323/323 [==============================] - 0s 117us/step - loss: 0.4140 - val_loss: 18.3371\n",
      "Epoch 1435/1600\n",
      "323/323 [==============================] - 0s 118us/step - loss: 0.5068 - val_loss: 18.1628\n",
      "Epoch 1436/1600\n",
      "323/323 [==============================] - 0s 119us/step - loss: 0.6511 - val_loss: 18.3837\n",
      "Epoch 1437/1600\n",
      "323/323 [==============================] - 0s 119us/step - loss: 0.5836 - val_loss: 18.7730\n",
      "Epoch 1438/1600\n",
      "323/323 [==============================] - 0s 116us/step - loss: 0.6600 - val_loss: 18.1271\n",
      "Epoch 1439/1600\n",
      "323/323 [==============================] - 0s 116us/step - loss: 0.7854 - val_loss: 17.0573\n",
      "Epoch 1440/1600\n",
      "323/323 [==============================] - 0s 120us/step - loss: 0.4946 - val_loss: 17.4021\n",
      "Epoch 1441/1600\n",
      "323/323 [==============================] - 0s 117us/step - loss: 0.5396 - val_loss: 17.8160\n",
      "Epoch 1442/1600\n",
      "323/323 [==============================] - 0s 121us/step - loss: 0.8701 - val_loss: 20.5292\n",
      "Epoch 1443/1600\n",
      "323/323 [==============================] - 0s 119us/step - loss: 0.6834 - val_loss: 17.7912\n",
      "Epoch 1444/1600\n",
      "323/323 [==============================] - 0s 118us/step - loss: 1.1832 - val_loss: 19.6741\n",
      "Epoch 1445/1600\n",
      "323/323 [==============================] - 0s 114us/step - loss: 1.5636 - val_loss: 16.3584\n",
      "Epoch 1446/1600\n",
      "323/323 [==============================] - 0s 119us/step - loss: 0.8463 - val_loss: 20.0715\n",
      "Epoch 1447/1600\n"
     ]
    },
    {
     "name": "stdout",
     "output_type": "stream",
     "text": [
      "323/323 [==============================] - 0s 116us/step - loss: 1.2418 - val_loss: 19.4184\n",
      "Epoch 1448/1600\n",
      "323/323 [==============================] - 0s 114us/step - loss: 0.8351 - val_loss: 17.0032\n",
      "Epoch 1449/1600\n",
      "323/323 [==============================] - 0s 120us/step - loss: 0.5399 - val_loss: 19.0705\n",
      "Epoch 1450/1600\n",
      "323/323 [==============================] - 0s 113us/step - loss: 0.4607 - val_loss: 18.0878\n",
      "Epoch 1451/1600\n",
      "323/323 [==============================] - 0s 114us/step - loss: 0.4922 - val_loss: 17.9963\n",
      "Epoch 1452/1600\n",
      "323/323 [==============================] - 0s 117us/step - loss: 1.8067 - val_loss: 18.9601\n",
      "Epoch 1453/1600\n",
      "323/323 [==============================] - 0s 120us/step - loss: 1.4443 - val_loss: 16.6735\n",
      "Epoch 1454/1600\n",
      "323/323 [==============================] - 0s 117us/step - loss: 1.0124 - val_loss: 18.9641\n",
      "Epoch 1455/1600\n",
      "323/323 [==============================] - 0s 118us/step - loss: 0.5253 - val_loss: 17.5954\n",
      "Epoch 1456/1600\n",
      "323/323 [==============================] - 0s 118us/step - loss: 0.6352 - val_loss: 18.4156\n",
      "Epoch 1457/1600\n",
      "323/323 [==============================] - 0s 115us/step - loss: 0.6801 - val_loss: 17.5346\n",
      "Epoch 1458/1600\n",
      "323/323 [==============================] - 0s 119us/step - loss: 0.6668 - val_loss: 19.1736\n",
      "Epoch 1459/1600\n",
      "323/323 [==============================] - 0s 118us/step - loss: 0.6077 - val_loss: 16.7869\n",
      "Epoch 1460/1600\n",
      "323/323 [==============================] - 0s 116us/step - loss: 0.5264 - val_loss: 18.2727\n",
      "Epoch 1461/1600\n",
      "323/323 [==============================] - 0s 116us/step - loss: 0.8068 - val_loss: 17.9301\n",
      "Epoch 1462/1600\n",
      "323/323 [==============================] - 0s 120us/step - loss: 0.7570 - val_loss: 18.1131\n",
      "Epoch 1463/1600\n",
      "323/323 [==============================] - 0s 116us/step - loss: 0.6923 - val_loss: 17.0997\n",
      "Epoch 1464/1600\n",
      "323/323 [==============================] - 0s 116us/step - loss: 0.8379 - val_loss: 17.7553\n",
      "Epoch 1465/1600\n",
      "323/323 [==============================] - 0s 120us/step - loss: 0.5384 - val_loss: 18.2361\n",
      "Epoch 1466/1600\n",
      "323/323 [==============================] - 0s 116us/step - loss: 0.6924 - val_loss: 15.6703\n",
      "Epoch 1467/1600\n",
      "323/323 [==============================] - 0s 117us/step - loss: 0.6028 - val_loss: 19.1727\n",
      "Epoch 1468/1600\n",
      "323/323 [==============================] - 0s 131us/step - loss: 0.6166 - val_loss: 17.5501\n",
      "Epoch 1469/1600\n",
      "323/323 [==============================] - 0s 115us/step - loss: 1.6270 - val_loss: 19.9209\n",
      "Epoch 1470/1600\n",
      "323/323 [==============================] - 0s 115us/step - loss: 2.9180 - val_loss: 18.3913\n",
      "Epoch 1471/1600\n",
      "323/323 [==============================] - 0s 119us/step - loss: 1.9843 - val_loss: 19.5378\n",
      "Epoch 1472/1600\n",
      "323/323 [==============================] - 0s 115us/step - loss: 1.0448 - val_loss: 17.2321\n",
      "Epoch 1473/1600\n",
      "323/323 [==============================] - 0s 115us/step - loss: 0.5964 - val_loss: 18.5752\n",
      "Epoch 1474/1600\n",
      "323/323 [==============================] - 0s 122us/step - loss: 0.4263 - val_loss: 17.2997\n",
      "Epoch 1475/1600\n",
      "323/323 [==============================] - 0s 118us/step - loss: 0.4823 - val_loss: 18.3374\n",
      "Epoch 1476/1600\n",
      "323/323 [==============================] - 0s 114us/step - loss: 0.3862 - val_loss: 17.4546\n",
      "Epoch 1477/1600\n",
      "323/323 [==============================] - 0s 122us/step - loss: 0.3867 - val_loss: 18.6969\n",
      "Epoch 1478/1600\n",
      "323/323 [==============================] - 0s 118us/step - loss: 0.5278 - val_loss: 17.4113\n",
      "Epoch 1479/1600\n",
      "323/323 [==============================] - 0s 116us/step - loss: 0.3750 - val_loss: 17.2953\n",
      "Epoch 1480/1600\n",
      "323/323 [==============================] - 0s 117us/step - loss: 0.4609 - val_loss: 19.0180\n",
      "Epoch 1481/1600\n",
      "323/323 [==============================] - 0s 120us/step - loss: 0.6549 - val_loss: 17.1920\n",
      "Epoch 1482/1600\n",
      "323/323 [==============================] - 0s 118us/step - loss: 0.4730 - val_loss: 17.8521\n",
      "Epoch 1483/1600\n",
      "323/323 [==============================] - 0s 118us/step - loss: 0.5200 - val_loss: 18.2173\n",
      "Epoch 1484/1600\n",
      "323/323 [==============================] - 0s 131us/step - loss: 0.3712 - val_loss: 17.3187\n",
      "Epoch 1485/1600\n",
      "323/323 [==============================] - 0s 118us/step - loss: 0.4246 - val_loss: 18.2264\n",
      "Epoch 1486/1600\n",
      "323/323 [==============================] - 0s 117us/step - loss: 0.4828 - val_loss: 17.0927\n",
      "Epoch 1487/1600\n",
      "323/323 [==============================] - 0s 118us/step - loss: 0.5504 - val_loss: 18.2945\n",
      "Epoch 1488/1600\n",
      "323/323 [==============================] - 0s 115us/step - loss: 0.5178 - val_loss: 16.0920\n",
      "Epoch 1489/1600\n",
      "323/323 [==============================] - 0s 116us/step - loss: 0.5156 - val_loss: 19.0850\n",
      "Epoch 1490/1600\n",
      "323/323 [==============================] - 0s 120us/step - loss: 0.5144 - val_loss: 17.0271\n",
      "Epoch 1491/1600\n",
      "323/323 [==============================] - 0s 115us/step - loss: 0.5247 - val_loss: 17.4269\n",
      "Epoch 1492/1600\n",
      "323/323 [==============================] - 0s 115us/step - loss: 0.3682 - val_loss: 17.7860\n",
      "Epoch 1493/1600\n",
      "323/323 [==============================] - 0s 119us/step - loss: 0.3947 - val_loss: 17.3332\n",
      "Epoch 1494/1600\n",
      "323/323 [==============================] - 0s 120us/step - loss: 0.4278 - val_loss: 17.9235\n",
      "Epoch 1495/1600\n",
      "323/323 [==============================] - 0s 116us/step - loss: 0.4385 - val_loss: 18.6131\n",
      "Epoch 1496/1600\n",
      "323/323 [==============================] - 0s 122us/step - loss: 0.6814 - val_loss: 18.0419\n",
      "Epoch 1497/1600\n",
      "323/323 [==============================] - 0s 115us/step - loss: 0.8365 - val_loss: 17.8104\n",
      "Epoch 1498/1600\n",
      "323/323 [==============================] - 0s 116us/step - loss: 0.5670 - val_loss: 18.1053\n",
      "Epoch 1499/1600\n",
      "323/323 [==============================] - 0s 117us/step - loss: 0.5068 - val_loss: 17.1835\n",
      "Epoch 1500/1600\n",
      "323/323 [==============================] - 0s 115us/step - loss: 0.5574 - val_loss: 20.0862\n",
      "Epoch 1501/1600\n",
      "323/323 [==============================] - 0s 117us/step - loss: 0.4235 - val_loss: 17.2427\n",
      "Epoch 1502/1600\n",
      "323/323 [==============================] - 0s 120us/step - loss: 0.3682 - val_loss: 17.7048\n",
      "Epoch 1503/1600\n",
      "323/323 [==============================] - 0s 119us/step - loss: 0.3654 - val_loss: 17.7756\n",
      "Epoch 1504/1600\n",
      "323/323 [==============================] - 0s 117us/step - loss: 0.3692 - val_loss: 17.9881\n",
      "Epoch 1505/1600\n",
      "323/323 [==============================] - 0s 121us/step - loss: 0.3359 - val_loss: 16.8420\n",
      "Epoch 1506/1600\n",
      "323/323 [==============================] - 0s 120us/step - loss: 0.7422 - val_loss: 18.5963\n",
      "Epoch 1507/1600\n",
      "323/323 [==============================] - 0s 116us/step - loss: 0.7084 - val_loss: 19.1017\n",
      "Epoch 1508/1600\n",
      "323/323 [==============================] - 0s 121us/step - loss: 0.5226 - val_loss: 17.6308\n",
      "Epoch 1509/1600\n",
      "323/323 [==============================] - 0s 117us/step - loss: 0.5025 - val_loss: 16.9164\n",
      "Epoch 1510/1600\n",
      "323/323 [==============================] - 0s 117us/step - loss: 1.0333 - val_loss: 15.6984\n",
      "Epoch 1511/1600\n",
      "323/323 [==============================] - 0s 116us/step - loss: 1.4871 - val_loss: 16.2097\n",
      "Epoch 1512/1600\n",
      "323/323 [==============================] - 0s 124us/step - loss: 1.6138 - val_loss: 18.8205\n",
      "Epoch 1513/1600\n",
      "323/323 [==============================] - 0s 114us/step - loss: 1.0742 - val_loss: 16.0688\n",
      "Epoch 1514/1600\n",
      "323/323 [==============================] - 0s 117us/step - loss: 0.8074 - val_loss: 18.8213\n",
      "Epoch 1515/1600\n",
      "323/323 [==============================] - 0s 119us/step - loss: 0.6332 - val_loss: 16.1969\n",
      "Epoch 1516/1600\n",
      "323/323 [==============================] - 0s 120us/step - loss: 0.5247 - val_loss: 17.3439\n",
      "Epoch 1517/1600\n",
      "323/323 [==============================] - 0s 120us/step - loss: 0.3844 - val_loss: 18.0594\n",
      "Epoch 1518/1600\n",
      "323/323 [==============================] - 0s 125us/step - loss: 0.4437 - val_loss: 18.4588\n",
      "Epoch 1519/1600\n",
      "323/323 [==============================] - 0s 115us/step - loss: 0.4864 - val_loss: 17.6008\n",
      "Epoch 1520/1600\n",
      "323/323 [==============================] - 0s 133us/step - loss: 0.8193 - val_loss: 17.7615\n",
      "Epoch 1521/1600\n",
      "323/323 [==============================] - 0s 126us/step - loss: 1.2481 - val_loss: 18.7506\n",
      "Epoch 1522/1600\n",
      "323/323 [==============================] - 0s 116us/step - loss: 1.2147 - val_loss: 19.4425\n",
      "Epoch 1523/1600\n"
     ]
    },
    {
     "name": "stdout",
     "output_type": "stream",
     "text": [
      "323/323 [==============================] - 0s 115us/step - loss: 1.0821 - val_loss: 16.3865\n",
      "Epoch 1524/1600\n",
      "323/323 [==============================] - 0s 122us/step - loss: 0.9447 - val_loss: 19.7427\n",
      "Epoch 1525/1600\n",
      "323/323 [==============================] - 0s 115us/step - loss: 0.7277 - val_loss: 16.6756\n",
      "Epoch 1526/1600\n",
      "323/323 [==============================] - 0s 116us/step - loss: 0.4480 - val_loss: 18.1239\n",
      "Epoch 1527/1600\n",
      "323/323 [==============================] - 0s 120us/step - loss: 0.3840 - val_loss: 17.5428\n",
      "Epoch 1528/1600\n",
      "323/323 [==============================] - 0s 115us/step - loss: 0.3894 - val_loss: 17.0390\n",
      "Epoch 1529/1600\n",
      "323/323 [==============================] - 0s 118us/step - loss: 0.4968 - val_loss: 17.8758\n",
      "Epoch 1530/1600\n",
      "323/323 [==============================] - 0s 119us/step - loss: 0.4477 - val_loss: 17.2546\n",
      "Epoch 1531/1600\n",
      "323/323 [==============================] - 0s 115us/step - loss: 0.4631 - val_loss: 18.4359\n",
      "Epoch 1532/1600\n",
      "323/323 [==============================] - 0s 115us/step - loss: 0.4348 - val_loss: 17.7409\n",
      "Epoch 1533/1600\n",
      "323/323 [==============================] - 0s 120us/step - loss: 0.6367 - val_loss: 17.4803\n",
      "Epoch 1534/1600\n",
      "323/323 [==============================] - 0s 118us/step - loss: 0.6877 - val_loss: 16.6680\n",
      "Epoch 1535/1600\n",
      "323/323 [==============================] - 0s 117us/step - loss: 0.5457 - val_loss: 16.4061\n",
      "Epoch 1536/1600\n",
      "323/323 [==============================] - 0s 118us/step - loss: 0.5261 - val_loss: 17.6547\n",
      "Epoch 1537/1600\n",
      "323/323 [==============================] - 0s 117us/step - loss: 0.5893 - val_loss: 17.6201\n",
      "Epoch 1538/1600\n",
      "323/323 [==============================] - 0s 115us/step - loss: 0.4713 - val_loss: 18.0546\n",
      "Epoch 1539/1600\n",
      "323/323 [==============================] - 0s 115us/step - loss: 0.3550 - val_loss: 17.0602\n",
      "Epoch 1540/1600\n",
      "323/323 [==============================] - 0s 116us/step - loss: 0.5327 - val_loss: 16.8818\n",
      "Epoch 1541/1600\n",
      "323/323 [==============================] - 0s 116us/step - loss: 0.5918 - val_loss: 17.0497\n",
      "Epoch 1542/1600\n",
      "323/323 [==============================] - 0s 114us/step - loss: 0.4820 - val_loss: 16.7004\n",
      "Epoch 1543/1600\n",
      "323/323 [==============================] - 0s 121us/step - loss: 0.4482 - val_loss: 18.6551\n",
      "Epoch 1544/1600\n",
      "323/323 [==============================] - 0s 114us/step - loss: 0.3456 - val_loss: 18.0176\n",
      "Epoch 1545/1600\n",
      "323/323 [==============================] - 0s 116us/step - loss: 0.3556 - val_loss: 18.3437\n",
      "Epoch 1546/1600\n",
      "323/323 [==============================] - 0s 133us/step - loss: 0.3114 - val_loss: 18.0990\n",
      "Epoch 1547/1600\n",
      "323/323 [==============================] - 0s 114us/step - loss: 0.3690 - val_loss: 18.0467\n",
      "Epoch 1548/1600\n",
      "323/323 [==============================] - 0s 116us/step - loss: 0.3862 - val_loss: 17.4865\n",
      "Epoch 1549/1600\n",
      "323/323 [==============================] - 0s 120us/step - loss: 0.4281 - val_loss: 18.1937\n",
      "Epoch 1550/1600\n",
      "323/323 [==============================] - 0s 117us/step - loss: 0.3720 - val_loss: 18.3288\n",
      "Epoch 1551/1600\n",
      "323/323 [==============================] - 0s 115us/step - loss: 0.4373 - val_loss: 18.5607\n",
      "Epoch 1552/1600\n",
      "323/323 [==============================] - 0s 119us/step - loss: 0.4486 - val_loss: 18.9649\n",
      "Epoch 1553/1600\n",
      "323/323 [==============================] - 0s 115us/step - loss: 0.6134 - val_loss: 18.4464\n",
      "Epoch 1554/1600\n",
      "323/323 [==============================] - 0s 114us/step - loss: 1.1020 - val_loss: 16.8258\n",
      "Epoch 1555/1600\n",
      "323/323 [==============================] - 0s 120us/step - loss: 0.8350 - val_loss: 17.2862\n",
      "Epoch 1556/1600\n",
      "323/323 [==============================] - 0s 117us/step - loss: 0.7632 - val_loss: 16.9671\n",
      "Epoch 1557/1600\n",
      "323/323 [==============================] - 0s 116us/step - loss: 0.6022 - val_loss: 18.4077\n",
      "Epoch 1558/1600\n",
      "323/323 [==============================] - 0s 122us/step - loss: 0.4669 - val_loss: 18.4084\n",
      "Epoch 1559/1600\n",
      "323/323 [==============================] - 0s 118us/step - loss: 0.5903 - val_loss: 18.3099\n",
      "Epoch 1560/1600\n",
      "323/323 [==============================] - 0s 118us/step - loss: 0.6450 - val_loss: 16.9174\n",
      "Epoch 1561/1600\n",
      "323/323 [==============================] - 0s 116us/step - loss: 0.5490 - val_loss: 17.7736\n",
      "Epoch 1562/1600\n",
      "323/323 [==============================] - 0s 122us/step - loss: 0.5758 - val_loss: 18.7131\n",
      "Epoch 1563/1600\n",
      "323/323 [==============================] - 0s 117us/step - loss: 0.6462 - val_loss: 18.1363\n",
      "Epoch 1564/1600\n",
      "323/323 [==============================] - 0s 118us/step - loss: 0.6677 - val_loss: 17.9774\n",
      "Epoch 1565/1600\n",
      "323/323 [==============================] - 0s 120us/step - loss: 0.6099 - val_loss: 17.8807\n",
      "Epoch 1566/1600\n",
      "323/323 [==============================] - 0s 114us/step - loss: 1.0785 - val_loss: 18.4573\n",
      "Epoch 1567/1600\n",
      "323/323 [==============================] - 0s 116us/step - loss: 0.6344 - val_loss: 17.7203\n",
      "Epoch 1568/1600\n",
      "323/323 [==============================] - 0s 120us/step - loss: 0.6096 - val_loss: 16.7497\n",
      "Epoch 1569/1600\n",
      "323/323 [==============================] - 0s 116us/step - loss: 0.4804 - val_loss: 17.4265\n",
      "Epoch 1570/1600\n",
      "323/323 [==============================] - 0s 114us/step - loss: 0.4267 - val_loss: 18.7655\n",
      "Epoch 1571/1600\n",
      "323/323 [==============================] - 0s 120us/step - loss: 0.6089 - val_loss: 16.6478\n",
      "Epoch 1572/1600\n",
      "323/323 [==============================] - 0s 120us/step - loss: 0.5422 - val_loss: 17.0403\n",
      "Epoch 1573/1600\n",
      "323/323 [==============================] - 0s 115us/step - loss: 0.4647 - val_loss: 16.8829\n",
      "Epoch 1574/1600\n",
      "323/323 [==============================] - 0s 119us/step - loss: 0.4053 - val_loss: 17.9040\n",
      "Epoch 1575/1600\n",
      "323/323 [==============================] - 0s 114us/step - loss: 0.6499 - val_loss: 16.7954\n",
      "Epoch 1576/1600\n",
      "323/323 [==============================] - 0s 114us/step - loss: 0.6612 - val_loss: 17.1404\n",
      "Epoch 1577/1600\n",
      "323/323 [==============================] - 0s 117us/step - loss: 0.4415 - val_loss: 17.4734\n",
      "Epoch 1578/1600\n",
      "323/323 [==============================] - 0s 120us/step - loss: 0.3643 - val_loss: 17.1858\n",
      "Epoch 1579/1600\n",
      "323/323 [==============================] - 0s 116us/step - loss: 0.4021 - val_loss: 19.0578\n",
      "Epoch 1580/1600\n",
      "323/323 [==============================] - 0s 119us/step - loss: 0.6701 - val_loss: 16.9623\n",
      "Epoch 1581/1600\n",
      "323/323 [==============================] - 0s 120us/step - loss: 0.3979 - val_loss: 18.2515\n",
      "Epoch 1582/1600\n",
      "323/323 [==============================] - 0s 116us/step - loss: 0.3141 - val_loss: 17.6797\n",
      "Epoch 1583/1600\n",
      "323/323 [==============================] - 0s 119us/step - loss: 0.2996 - val_loss: 16.7751\n",
      "Epoch 1584/1600\n",
      "323/323 [==============================] - 0s 118us/step - loss: 0.7073 - val_loss: 17.4409\n",
      "Epoch 1585/1600\n",
      "323/323 [==============================] - 0s 114us/step - loss: 0.7925 - val_loss: 18.5949\n",
      "Epoch 1586/1600\n",
      "323/323 [==============================] - 0s 116us/step - loss: 2.4251 - val_loss: 19.8675\n",
      "Epoch 1587/1600\n",
      "323/323 [==============================] - 0s 118us/step - loss: 2.0671 - val_loss: 15.4102\n",
      "Epoch 1588/1600\n",
      "323/323 [==============================] - 0s 115us/step - loss: 0.8804 - val_loss: 18.6180\n",
      "Epoch 1589/1600\n",
      "323/323 [==============================] - 0s 116us/step - loss: 0.9066 - val_loss: 16.4179\n",
      "Epoch 1590/1600\n",
      "323/323 [==============================] - 0s 119us/step - loss: 0.9841 - val_loss: 17.2068\n",
      "Epoch 1591/1600\n",
      "323/323 [==============================] - 0s 115us/step - loss: 2.1156 - val_loss: 17.0756\n",
      "Epoch 1592/1600\n",
      "323/323 [==============================] - 0s 115us/step - loss: 1.0392 - val_loss: 16.8472\n",
      "Epoch 1593/1600\n",
      "323/323 [==============================] - 0s 119us/step - loss: 0.6956 - val_loss: 16.5481\n",
      "Epoch 1594/1600\n",
      "323/323 [==============================] - 0s 113us/step - loss: 0.9848 - val_loss: 16.2052\n",
      "Epoch 1595/1600\n",
      "323/323 [==============================] - 0s 115us/step - loss: 0.6966 - val_loss: 16.3701\n",
      "Epoch 1596/1600\n",
      "323/323 [==============================] - 0s 120us/step - loss: 0.5762 - val_loss: 18.0237\n",
      "Epoch 1597/1600\n",
      "323/323 [==============================] - 0s 114us/step - loss: 0.5327 - val_loss: 15.7681\n",
      "Epoch 1598/1600\n",
      "323/323 [==============================] - 0s 119us/step - loss: 0.4238 - val_loss: 17.7180\n",
      "Epoch 1599/1600\n"
     ]
    },
    {
     "name": "stdout",
     "output_type": "stream",
     "text": [
      "323/323 [==============================] - 0s 124us/step - loss: 0.3416 - val_loss: 17.4201\n",
      "Epoch 1600/1600\n",
      "323/323 [==============================] - 0s 120us/step - loss: 0.4466 - val_loss: 18.0691\n"
     ]
    }
   ],
   "source": [
    "model = Sequential([\n",
    "    Dense(64, input_dim=len(x_cols), kernel_initializer='normal', activation='relu'),\n",
    "    Dense(64, kernel_initializer='normal'),\n",
    "    Dense(64, kernel_initializer='normal'),\n",
    "    Dense(64, kernel_initializer='normal'),\n",
    "    Dense(64, kernel_initializer='normal'),\n",
    "    Dense(1, kernel_initializer='normal'),\n",
    "])\n",
    "\n",
    "model.compile('adam', loss='mean_squared_error')\n",
    "\n",
    "history = model.fit(X_train, y_train, batch_size=16, epochs=1600, validation_data=(X_valid, y_valid))"
   ]
  },
  {
   "cell_type": "markdown",
   "metadata": {},
   "source": [
    "## Excersize: explore history object and plot training history (aka learning curves)"
   ]
  },
  {
   "cell_type": "code",
   "execution_count": 12,
   "metadata": {},
   "outputs": [
    {
     "data": {
      "text/plain": [
       "<matplotlib.axes._subplots.AxesSubplot at 0x7fa3e0b81048>"
      ]
     },
     "execution_count": 12,
     "metadata": {},
     "output_type": "execute_result"
    },
    {
     "data": {
      "image/png": "[encoded data removed]",
      "text/plain": [
       "<Figure size 432x288 with 1 Axes>"
      ]
     },
     "metadata": {},
     "output_type": "display_data"
    }
   ],
   "source": [
    "pd.DataFrame(history.history).plot()"
   ]
  },
  {
   "cell_type": "markdown",
   "metadata": {},
   "source": [
    "## Let's use callbacks\n",
    "\n",
    "Keras contains a callback mechanism allows to call your own function after each epoch, before each epoch, after each batch, etc.\n",
    "\n",
    "Also Keras includes a bunch of predefined callbacks, for example for checkpining, early stopping, learning rate decay..."
   ]
  },
  {
   "cell_type": "code",
   "execution_count": 13,
   "metadata": {},
   "outputs": [],
   "source": [
    "from keras_tqdm import TQDMNotebookCallback"
   ]
  },
  {
   "cell_type": "code",
   "execution_count": 14,
   "metadata": {},
   "outputs": [
    {
     "data": {
      "application/vnd.jupyter.widget-view+json": {
       "model_id": "a935330dff9d4648b3a62ab22d2bba02",
       "version_major": 2,
       "version_minor": 0
      },
      "text/plain": [
       "HBox(children=(IntProgress(value=0, description='Training', max=1000), HTML(value='')))"
      ]
     },
     "metadata": {},
     "output_type": "display_data"
    },
    {
     "data": {
      "application/vnd.jupyter.widget-view+json": {
       "model_id": "",
       "version_major": 2,
       "version_minor": 0
      },
      "text/plain": [
       "HBox(children=(IntProgress(value=0, description='Epoch 0', max=323), HTML(value='')))"
      ]
     },
     "metadata": {},
     "output_type": "display_data"
    },
    {
     "data": {
      "application/vnd.jupyter.widget-view+json": {
       "model_id": "",
       "version_major": 2,
       "version_minor": 0
      },
      "text/plain": [
       "HBox(children=(IntProgress(value=0, description='Epoch 1', max=323), HTML(value='')))"
      ]
     },
     "metadata": {},
     "output_type": "display_data"
    },
    {
     "data": {
      "application/vnd.jupyter.widget-view+json": {
       "model_id": "",
       "version_major": 2,
       "version_minor": 0
      },
      "text/plain": [
       "HBox(children=(IntProgress(value=0, description='Epoch 2', max=323), HTML(value='')))"
      ]
     },
     "metadata": {},
     "output_type": "display_data"
    },
    {
     "data": {
      "application/vnd.jupyter.widget-view+json": {
       "model_id": "",
       "version_major": 2,
       "version_minor": 0
      },
      "text/plain": [
       "HBox(children=(IntProgress(value=0, description='Epoch 3', max=323), HTML(value='')))"
      ]
     },
     "metadata": {},
     "output_type": "display_data"
    },
    {
     "data": {
      "application/vnd.jupyter.widget-view+json": {
       "model_id": "",
       "version_major": 2,
       "version_minor": 0
      },
      "text/plain": [
       "HBox(children=(IntProgress(value=0, description='Epoch 4', max=323), HTML(value='')))"
      ]
     },
     "metadata": {},
     "output_type": "display_data"
    },
    {
     "data": {
      "application/vnd.jupyter.widget-view+json": {
       "model_id": "",
       "version_major": 2,
       "version_minor": 0
      },
      "text/plain": [
       "HBox(children=(IntProgress(value=0, description='Epoch 5', max=323), HTML(value='')))"
      ]
     },
     "metadata": {},
     "output_type": "display_data"
    },
    {
     "data": {
      "application/vnd.jupyter.widget-view+json": {
       "model_id": "",
       "version_major": 2,
       "version_minor": 0
      },
      "text/plain": [
       "HBox(children=(IntProgress(value=0, description='Epoch 6', max=323), HTML(value='')))"
      ]
     },
     "metadata": {},
     "output_type": "display_data"
    },
    {
     "data": {
      "application/vnd.jupyter.widget-view+json": {
       "model_id": "",
       "version_major": 2,
       "version_minor": 0
      },
      "text/plain": [
       "HBox(children=(IntProgress(value=0, description='Epoch 7', max=323), HTML(value='')))"
      ]
     },
     "metadata": {},
     "output_type": "display_data"
    },
    {
     "data": {
      "application/vnd.jupyter.widget-view+json": {
       "model_id": "",
       "version_major": 2,
       "version_minor": 0
      },
      "text/plain": [
       "HBox(children=(IntProgress(value=0, description='Epoch 8', max=323), HTML(value='')))"
      ]
     },
     "metadata": {},
     "output_type": "display_data"
    },
    {
     "data": {
      "application/vnd.jupyter.widget-view+json": {
       "model_id": "",
       "version_major": 2,
       "version_minor": 0
      },
      "text/plain": [
       "HBox(children=(IntProgress(value=0, description='Epoch 9', max=323), HTML(value='')))"
      ]
     },
     "metadata": {},
     "output_type": "display_data"
    },
    {
     "data": {
      "application/vnd.jupyter.widget-view+json": {
       "model_id": "",
       "version_major": 2,
       "version_minor": 0
      },
      "text/plain": [
       "HBox(children=(IntProgress(value=0, description='Epoch 10', max=323), HTML(value='')))"
      ]
     },
     "metadata": {},
     "output_type": "display_data"
    },
    {
     "data": {
      "application/vnd.jupyter.widget-view+json": {
       "model_id": "",
       "version_major": 2,
       "version_minor": 0
      },
      "text/plain": [
       "HBox(children=(IntProgress(value=0, description='Epoch 11', max=323), HTML(value='')))"
      ]
     },
     "metadata": {},
     "output_type": "display_data"
    },
    {
     "data": {
      "application/vnd.jupyter.widget-view+json": {
       "model_id": "",
       "version_major": 2,
       "version_minor": 0
      },
      "text/plain": [
       "HBox(children=(IntProgress(value=0, description='Epoch 12', max=323), HTML(value='')))"
      ]
     },
     "metadata": {},
     "output_type": "display_data"
    },
    {
     "data": {
      "application/vnd.jupyter.widget-view+json": {
       "model_id": "",
       "version_major": 2,
       "version_minor": 0
      },
      "text/plain": [
       "HBox(children=(IntProgress(value=0, description='Epoch 13', max=323), HTML(value='')))"
      ]
     },
     "metadata": {},
     "output_type": "display_data"
    },
    {
     "data": {
      "application/vnd.jupyter.widget-view+json": {
       "model_id": "",
       "version_major": 2,
       "version_minor": 0
      },
      "text/plain": [
       "HBox(children=(IntProgress(value=0, description='Epoch 14', max=323), HTML(value='')))"
      ]
     },
     "metadata": {},
     "output_type": "display_data"
    },
    {
     "data": {
      "application/vnd.jupyter.widget-view+json": {
       "model_id": "",
       "version_major": 2,
       "version_minor": 0
      },
      "text/plain": [
       "HBox(children=(IntProgress(value=0, description='Epoch 15', max=323), HTML(value='')))"
      ]
     },
     "metadata": {},
     "output_type": "display_data"
    },
    {
     "data": {
      "application/vnd.jupyter.widget-view+json": {
       "model_id": "",
       "version_major": 2,
       "version_minor": 0
      },
      "text/plain": [
       "HBox(children=(IntProgress(value=0, description='Epoch 16', max=323), HTML(value='')))"
      ]
     },
     "metadata": {},
     "output_type": "display_data"
    },
    {
     "data": {
      "application/vnd.jupyter.widget-view+json": {
       "model_id": "",
       "version_major": 2,
       "version_minor": 0
      },
      "text/plain": [
       "HBox(children=(IntProgress(value=0, description='Epoch 17', max=323), HTML(value='')))"
      ]
     },
     "metadata": {},
     "output_type": "display_data"
    },
    {
     "data": {
      "application/vnd.jupyter.widget-view+json": {
       "model_id": "",
       "version_major": 2,
       "version_minor": 0
      },
      "text/plain": [
       "HBox(children=(IntProgress(value=0, description='Epoch 18', max=323), HTML(value='')))"
      ]
     },
     "metadata": {},
     "output_type": "display_data"
    },
    {
     "data": {
      "application/vnd.jupyter.widget-view+json": {
       "model_id": "",
       "version_major": 2,
       "version_minor": 0
      },
      "text/plain": [
       "HBox(children=(IntProgress(value=0, description='Epoch 19', max=323), HTML(value='')))"
      ]
     },
     "metadata": {},
     "output_type": "display_data"
    },
    {
     "data": {
      "application/vnd.jupyter.widget-view+json": {
       "model_id": "",
       "version_major": 2,
       "version_minor": 0
      },
      "text/plain": [
       "HBox(children=(IntProgress(value=0, description='Epoch 20', max=323), HTML(value='')))"
      ]
     },
     "metadata": {},
     "output_type": "display_data"
    },
    {
     "data": {
      "application/vnd.jupyter.widget-view+json": {
       "model_id": "",
       "version_major": 2,
       "version_minor": 0
      },
      "text/plain": [
       "HBox(children=(IntProgress(value=0, description='Epoch 21', max=323), HTML(value='')))"
      ]
     },
     "metadata": {},
     "output_type": "display_data"
    },
    {
     "data": {
      "application/vnd.jupyter.widget-view+json": {
       "model_id": "",
       "version_major": 2,
       "version_minor": 0
      },
      "text/plain": [
       "HBox(children=(IntProgress(value=0, description='Epoch 22', max=323), HTML(value='')))"
      ]
     },
     "metadata": {},
     "output_type": "display_data"
    },
    {
     "data": {
      "application/vnd.jupyter.widget-view+json": {
       "model_id": "",
       "version_major": 2,
       "version_minor": 0
      },
      "text/plain": [
       "HBox(children=(IntProgress(value=0, description='Epoch 23', max=323), HTML(value='')))"
      ]
     },
     "metadata": {},
     "output_type": "display_data"
    },
    {
     "data": {
      "application/vnd.jupyter.widget-view+json": {
       "model_id": "",
       "version_major": 2,
       "version_minor": 0
      },
      "text/plain": [
       "HBox(children=(IntProgress(value=0, description='Epoch 24', max=323), HTML(value='')))"
      ]
     },
     "metadata": {},
     "output_type": "display_data"
    },
    {
     "data": {
      "application/vnd.jupyter.widget-view+json": {
       "model_id": "",
       "version_major": 2,
       "version_minor": 0
      },
      "text/plain": [
       "HBox(children=(IntProgress(value=0, description='Epoch 25', max=323), HTML(value='')))"
      ]
     },
     "metadata": {},
     "output_type": "display_data"
    },
    {
     "data": {
      "application/vnd.jupyter.widget-view+json": {
       "model_id": "",
       "version_major": 2,
       "version_minor": 0
      },
      "text/plain": [
       "HBox(children=(IntProgress(value=0, description='Epoch 26', max=323), HTML(value='')))"
      ]
     },
     "metadata": {},
     "output_type": "display_data"
    },
    {
     "data": {
      "application/vnd.jupyter.widget-view+json": {
       "model_id": "",
       "version_major": 2,
       "version_minor": 0
      },
      "text/plain": [
       "HBox(children=(IntProgress(value=0, description='Epoch 27', max=323), HTML(value='')))"
      ]
     },
     "metadata": {},
     "output_type": "display_data"
    },
    {
     "data": {
      "application/vnd.jupyter.widget-view+json": {
       "model_id": "",
       "version_major": 2,
       "version_minor": 0
      },
      "text/plain": [
       "HBox(children=(IntProgress(value=0, description='Epoch 28', max=323), HTML(value='')))"
      ]
     },
     "metadata": {},
     "output_type": "display_data"
    },
    {
     "data": {
      "application/vnd.jupyter.widget-view+json": {
       "model_id": "",
       "version_major": 2,
       "version_minor": 0
      },
      "text/plain": [
       "HBox(children=(IntProgress(value=0, description='Epoch 29', max=323), HTML(value='')))"
      ]
     },
     "metadata": {},
     "output_type": "display_data"
    },
    {
     "data": {
      "application/vnd.jupyter.widget-view+json": {
       "model_id": "",
       "version_major": 2,
       "version_minor": 0
      },
      "text/plain": [
       "HBox(children=(IntProgress(value=0, description='Epoch 30', max=323), HTML(value='')))"
      ]
     },
     "metadata": {},
     "output_type": "display_data"
    },
    {
     "data": {
      "application/vnd.jupyter.widget-view+json": {
       "model_id": "",
       "version_major": 2,
       "version_minor": 0
      },
      "text/plain": [
       "HBox(children=(IntProgress(value=0, description='Epoch 31', max=323), HTML(value='')))"
      ]
     },
     "metadata": {},
     "output_type": "display_data"
    },
    {
     "data": {
      "application/vnd.jupyter.widget-view+json": {
       "model_id": "",
       "version_major": 2,
       "version_minor": 0
      },
      "text/plain": [
       "HBox(children=(IntProgress(value=0, description='Epoch 32', max=323), HTML(value='')))"
      ]
     },
     "metadata": {},
     "output_type": "display_data"
    },
    {
     "data": {
      "application/vnd.jupyter.widget-view+json": {
       "model_id": "",
       "version_major": 2,
       "version_minor": 0
      },
      "text/plain": [
       "HBox(children=(IntProgress(value=0, description='Epoch 33', max=323), HTML(value='')))"
      ]
     },
     "metadata": {},
     "output_type": "display_data"
    },
    {
     "data": {
      "application/vnd.jupyter.widget-view+json": {
       "model_id": "",
       "version_major": 2,
       "version_minor": 0
      },
      "text/plain": [
       "HBox(children=(IntProgress(value=0, description='Epoch 34', max=323), HTML(value='')))"
      ]
     },
     "metadata": {},
     "output_type": "display_data"
    },
    {
     "data": {
      "application/vnd.jupyter.widget-view+json": {
       "model_id": "",
       "version_major": 2,
       "version_minor": 0
      },
      "text/plain": [
       "HBox(children=(IntProgress(value=0, description='Epoch 35', max=323), HTML(value='')))"
      ]
     },
     "metadata": {},
     "output_type": "display_data"
    },
    {
     "data": {
      "application/vnd.jupyter.widget-view+json": {
       "model_id": "",
       "version_major": 2,
       "version_minor": 0
      },
      "text/plain": [
       "HBox(children=(IntProgress(value=0, description='Epoch 36', max=323), HTML(value='')))"
      ]
     },
     "metadata": {},
     "output_type": "display_data"
    },
    {
     "data": {
      "application/vnd.jupyter.widget-view+json": {
       "model_id": "",
       "version_major": 2,
       "version_minor": 0
      },
      "text/plain": [
       "HBox(children=(IntProgress(value=0, description='Epoch 37', max=323), HTML(value='')))"
      ]
     },
     "metadata": {},
     "output_type": "display_data"
    },
    {
     "data": {
      "application/vnd.jupyter.widget-view+json": {
       "model_id": "",
       "version_major": 2,
       "version_minor": 0
      },
      "text/plain": [
       "HBox(children=(IntProgress(value=0, description='Epoch 38', max=323), HTML(value='')))"
      ]
     },
     "metadata": {},
     "output_type": "display_data"
    },
    {
     "data": {
      "application/vnd.jupyter.widget-view+json": {
       "model_id": "",
       "version_major": 2,
       "version_minor": 0
      },
      "text/plain": [
       "HBox(children=(IntProgress(value=0, description='Epoch 39', max=323), HTML(value='')))"
      ]
     },
     "metadata": {},
     "output_type": "display_data"
    },
    {
     "data": {
      "application/vnd.jupyter.widget-view+json": {
       "model_id": "",
       "version_major": 2,
       "version_minor": 0
      },
      "text/plain": [
       "HBox(children=(IntProgress(value=0, description='Epoch 40', max=323), HTML(value='')))"
      ]
     },
     "metadata": {},
     "output_type": "display_data"
    },
    {
     "data": {
      "application/vnd.jupyter.widget-view+json": {
       "model_id": "",
       "version_major": 2,
       "version_minor": 0
      },
      "text/plain": [
       "HBox(children=(IntProgress(value=0, description='Epoch 41', max=323), HTML(value='')))"
      ]
     },
     "metadata": {},
     "output_type": "display_data"
    },
    {
     "data": {
      "application/vnd.jupyter.widget-view+json": {
       "model_id": "",
       "version_major": 2,
       "version_minor": 0
      },
      "text/plain": [
       "HBox(children=(IntProgress(value=0, description='Epoch 42', max=323), HTML(value='')))"
      ]
     },
     "metadata": {},
     "output_type": "display_data"
    },
    {
     "data": {
      "application/vnd.jupyter.widget-view+json": {
       "model_id": "",
       "version_major": 2,
       "version_minor": 0
      },
      "text/plain": [
       "HBox(children=(IntProgress(value=0, description='Epoch 43', max=323), HTML(value='')))"
      ]
     },
     "metadata": {},
     "output_type": "display_data"
    },
    {
     "data": {
      "application/vnd.jupyter.widget-view+json": {
       "model_id": "",
       "version_major": 2,
       "version_minor": 0
      },
      "text/plain": [
       "HBox(children=(IntProgress(value=0, description='Epoch 44', max=323), HTML(value='')))"
      ]
     },
     "metadata": {},
     "output_type": "display_data"
    },
    {
     "data": {
      "application/vnd.jupyter.widget-view+json": {
       "model_id": "",
       "version_major": 2,
       "version_minor": 0
      },
      "text/plain": [
       "HBox(children=(IntProgress(value=0, description='Epoch 45', max=323), HTML(value='')))"
      ]
     },
     "metadata": {},
     "output_type": "display_data"
    },
    {
     "data": {
      "application/vnd.jupyter.widget-view+json": {
       "model_id": "",
       "version_major": 2,
       "version_minor": 0
      },
      "text/plain": [
       "HBox(children=(IntProgress(value=0, description='Epoch 46', max=323), HTML(value='')))"
      ]
     },
     "metadata": {},
     "output_type": "display_data"
    },
    {
     "data": {
      "application/vnd.jupyter.widget-view+json": {
       "model_id": "",
       "version_major": 2,
       "version_minor": 0
      },
      "text/plain": [
       "HBox(children=(IntProgress(value=0, description='Epoch 47', max=323), HTML(value='')))"
      ]
     },
     "metadata": {},
     "output_type": "display_data"
    },
    {
     "data": {
      "application/vnd.jupyter.widget-view+json": {
       "model_id": "",
       "version_major": 2,
       "version_minor": 0
      },
      "text/plain": [
       "HBox(children=(IntProgress(value=0, description='Epoch 48', max=323), HTML(value='')))"
      ]
     },
     "metadata": {},
     "output_type": "display_data"
    },
    {
     "data": {
      "application/vnd.jupyter.widget-view+json": {
       "model_id": "",
       "version_major": 2,
       "version_minor": 0
      },
      "text/plain": [
       "HBox(children=(IntProgress(value=0, description='Epoch 49', max=323), HTML(value='')))"
      ]
     },
     "metadata": {},
     "output_type": "display_data"
    },
    {
     "data": {
      "application/vnd.jupyter.widget-view+json": {
       "model_id": "",
       "version_major": 2,
       "version_minor": 0
      },
      "text/plain": [
       "HBox(children=(IntProgress(value=0, description='Epoch 50', max=323), HTML(value='')))"
      ]
     },
     "metadata": {},
     "output_type": "display_data"
    },
    {
     "data": {
      "application/vnd.jupyter.widget-view+json": {
       "model_id": "",
       "version_major": 2,
       "version_minor": 0
      },
      "text/plain": [
       "HBox(children=(IntProgress(value=0, description='Epoch 51', max=323), HTML(value='')))"
      ]
     },
     "metadata": {},
     "output_type": "display_data"
    },
    {
     "data": {
      "application/vnd.jupyter.widget-view+json": {
       "model_id": "",
       "version_major": 2,
       "version_minor": 0
      },
      "text/plain": [
       "HBox(children=(IntProgress(value=0, description='Epoch 52', max=323), HTML(value='')))"
      ]
     },
     "metadata": {},
     "output_type": "display_data"
    },
    {
     "data": {
      "application/vnd.jupyter.widget-view+json": {
       "model_id": "",
       "version_major": 2,
       "version_minor": 0
      },
      "text/plain": [
       "HBox(children=(IntProgress(value=0, description='Epoch 53', max=323), HTML(value='')))"
      ]
     },
     "metadata": {},
     "output_type": "display_data"
    },
    {
     "data": {
      "application/vnd.jupyter.widget-view+json": {
       "model_id": "",
       "version_major": 2,
       "version_minor": 0
      },
      "text/plain": [
       "HBox(children=(IntProgress(value=0, description='Epoch 54', max=323), HTML(value='')))"
      ]
     },
     "metadata": {},
     "output_type": "display_data"
    },
    {
     "data": {
      "application/vnd.jupyter.widget-view+json": {
       "model_id": "",
       "version_major": 2,
       "version_minor": 0
      },
      "text/plain": [
       "HBox(children=(IntProgress(value=0, description='Epoch 55', max=323), HTML(value='')))"
      ]
     },
     "metadata": {},
     "output_type": "display_data"
    },
    {
     "data": {
      "application/vnd.jupyter.widget-view+json": {
       "model_id": "",
       "version_major": 2,
       "version_minor": 0
      },
      "text/plain": [
       "HBox(children=(IntProgress(value=0, description='Epoch 56', max=323), HTML(value='')))"
      ]
     },
     "metadata": {},
     "output_type": "display_data"
    },
    {
     "data": {
      "application/vnd.jupyter.widget-view+json": {
       "model_id": "",
       "version_major": 2,
       "version_minor": 0
      },
      "text/plain": [
       "HBox(children=(IntProgress(value=0, description='Epoch 57', max=323), HTML(value='')))"
      ]
     },
     "metadata": {},
     "output_type": "display_data"
    },
    {
     "data": {
      "application/vnd.jupyter.widget-view+json": {
       "model_id": "",
       "version_major": 2,
       "version_minor": 0
      },
      "text/plain": [
       "HBox(children=(IntProgress(value=0, description='Epoch 58', max=323), HTML(value='')))"
      ]
     },
     "metadata": {},
     "output_type": "display_data"
    },
    {
     "data": {
      "application/vnd.jupyter.widget-view+json": {
       "model_id": "",
       "version_major": 2,
       "version_minor": 0
      },
      "text/plain": [
       "HBox(children=(IntProgress(value=0, description='Epoch 59', max=323), HTML(value='')))"
      ]
     },
     "metadata": {},
     "output_type": "display_data"
    },
    {
     "data": {
      "application/vnd.jupyter.widget-view+json": {
       "model_id": "",
       "version_major": 2,
       "version_minor": 0
      },
      "text/plain": [
       "HBox(children=(IntProgress(value=0, description='Epoch 60', max=323), HTML(value='')))"
      ]
     },
     "metadata": {},
     "output_type": "display_data"
    },
    {
     "data": {
      "application/vnd.jupyter.widget-view+json": {
       "model_id": "",
       "version_major": 2,
       "version_minor": 0
      },
      "text/plain": [
       "HBox(children=(IntProgress(value=0, description='Epoch 61', max=323), HTML(value='')))"
      ]
     },
     "metadata": {},
     "output_type": "display_data"
    },
    {
     "data": {
      "application/vnd.jupyter.widget-view+json": {
       "model_id": "",
       "version_major": 2,
       "version_minor": 0
      },
      "text/plain": [
       "HBox(children=(IntProgress(value=0, description='Epoch 62', max=323), HTML(value='')))"
      ]
     },
     "metadata": {},
     "output_type": "display_data"
    },
    {
     "data": {
      "application/vnd.jupyter.widget-view+json": {
       "model_id": "",
       "version_major": 2,
       "version_minor": 0
      },
      "text/plain": [
       "HBox(children=(IntProgress(value=0, description='Epoch 63', max=323), HTML(value='')))"
      ]
     },
     "metadata": {},
     "output_type": "display_data"
    },
    {
     "data": {
      "application/vnd.jupyter.widget-view+json": {
       "model_id": "",
       "version_major": 2,
       "version_minor": 0
      },
      "text/plain": [
       "HBox(children=(IntProgress(value=0, description='Epoch 64', max=323), HTML(value='')))"
      ]
     },
     "metadata": {},
     "output_type": "display_data"
    },
    {
     "data": {
      "application/vnd.jupyter.widget-view+json": {
       "model_id": "",
       "version_major": 2,
       "version_minor": 0
      },
      "text/plain": [
       "HBox(children=(IntProgress(value=0, description='Epoch 65', max=323), HTML(value='')))"
      ]
     },
     "metadata": {},
     "output_type": "display_data"
    },
    {
     "data": {
      "application/vnd.jupyter.widget-view+json": {
       "model_id": "",
       "version_major": 2,
       "version_minor": 0
      },
      "text/plain": [
       "HBox(children=(IntProgress(value=0, description='Epoch 66', max=323), HTML(value='')))"
      ]
     },
     "metadata": {},
     "output_type": "display_data"
    },
    {
     "data": {
      "application/vnd.jupyter.widget-view+json": {
       "model_id": "",
       "version_major": 2,
       "version_minor": 0
      },
      "text/plain": [
       "HBox(children=(IntProgress(value=0, description='Epoch 67', max=323), HTML(value='')))"
      ]
     },
     "metadata": {},
     "output_type": "display_data"
    },
    {
     "data": {
      "application/vnd.jupyter.widget-view+json": {
       "model_id": "",
       "version_major": 2,
       "version_minor": 0
      },
      "text/plain": [
       "HBox(children=(IntProgress(value=0, description='Epoch 68', max=323), HTML(value='')))"
      ]
     },
     "metadata": {},
     "output_type": "display_data"
    },
    {
     "data": {
      "application/vnd.jupyter.widget-view+json": {
       "model_id": "",
       "version_major": 2,
       "version_minor": 0
      },
      "text/plain": [
       "HBox(children=(IntProgress(value=0, description='Epoch 69', max=323), HTML(value='')))"
      ]
     },
     "metadata": {},
     "output_type": "display_data"
    },
    {
     "data": {
      "application/vnd.jupyter.widget-view+json": {
       "model_id": "",
       "version_major": 2,
       "version_minor": 0
      },
      "text/plain": [
       "HBox(children=(IntProgress(value=0, description='Epoch 70', max=323), HTML(value='')))"
      ]
     },
     "metadata": {},
     "output_type": "display_data"
    },
    {
     "data": {
      "application/vnd.jupyter.widget-view+json": {
       "model_id": "",
       "version_major": 2,
       "version_minor": 0
      },
      "text/plain": [
       "HBox(children=(IntProgress(value=0, description='Epoch 71', max=323), HTML(value='')))"
      ]
     },
     "metadata": {},
     "output_type": "display_data"
    },
    {
     "data": {
      "application/vnd.jupyter.widget-view+json": {
       "model_id": "",
       "version_major": 2,
       "version_minor": 0
      },
      "text/plain": [
       "HBox(children=(IntProgress(value=0, description='Epoch 72', max=323), HTML(value='')))"
      ]
     },
     "metadata": {},
     "output_type": "display_data"
    },
    {
     "data": {
      "application/vnd.jupyter.widget-view+json": {
       "model_id": "",
       "version_major": 2,
       "version_minor": 0
      },
      "text/plain": [
       "HBox(children=(IntProgress(value=0, description='Epoch 73', max=323), HTML(value='')))"
      ]
     },
     "metadata": {},
     "output_type": "display_data"
    },
    {
     "data": {
      "application/vnd.jupyter.widget-view+json": {
       "model_id": "",
       "version_major": 2,
       "version_minor": 0
      },
      "text/plain": [
       "HBox(children=(IntProgress(value=0, description='Epoch 74', max=323), HTML(value='')))"
      ]
     },
     "metadata": {},
     "output_type": "display_data"
    },
    {
     "data": {
      "application/vnd.jupyter.widget-view+json": {
       "model_id": "",
       "version_major": 2,
       "version_minor": 0
      },
      "text/plain": [
       "HBox(children=(IntProgress(value=0, description='Epoch 75', max=323), HTML(value='')))"
      ]
     },
     "metadata": {},
     "output_type": "display_data"
    },
    {
     "data": {
      "application/vnd.jupyter.widget-view+json": {
       "model_id": "",
       "version_major": 2,
       "version_minor": 0
      },
      "text/plain": [
       "HBox(children=(IntProgress(value=0, description='Epoch 76', max=323), HTML(value='')))"
      ]
     },
     "metadata": {},
     "output_type": "display_data"
    },
    {
     "data": {
      "application/vnd.jupyter.widget-view+json": {
       "model_id": "",
       "version_major": 2,
       "version_minor": 0
      },
      "text/plain": [
       "HBox(children=(IntProgress(value=0, description='Epoch 77', max=323), HTML(value='')))"
      ]
     },
     "metadata": {},
     "output_type": "display_data"
    },
    {
     "data": {
      "application/vnd.jupyter.widget-view+json": {
       "model_id": "",
       "version_major": 2,
       "version_minor": 0
      },
      "text/plain": [
       "HBox(children=(IntProgress(value=0, description='Epoch 78', max=323), HTML(value='')))"
      ]
     },
     "metadata": {},
     "output_type": "display_data"
    },
    {
     "data": {
      "application/vnd.jupyter.widget-view+json": {
       "model_id": "",
       "version_major": 2,
       "version_minor": 0
      },
      "text/plain": [
       "HBox(children=(IntProgress(value=0, description='Epoch 79', max=323), HTML(value='')))"
      ]
     },
     "metadata": {},
     "output_type": "display_data"
    },
    {
     "data": {
      "application/vnd.jupyter.widget-view+json": {
       "model_id": "",
       "version_major": 2,
       "version_minor": 0
      },
      "text/plain": [
       "HBox(children=(IntProgress(value=0, description='Epoch 80', max=323), HTML(value='')))"
      ]
     },
     "metadata": {},
     "output_type": "display_data"
    },
    {
     "data": {
      "application/vnd.jupyter.widget-view+json": {
       "model_id": "",
       "version_major": 2,
       "version_minor": 0
      },
      "text/plain": [
       "HBox(children=(IntProgress(value=0, description='Epoch 81', max=323), HTML(value='')))"
      ]
     },
     "metadata": {},
     "output_type": "display_data"
    },
    {
     "data": {
      "application/vnd.jupyter.widget-view+json": {
       "model_id": "",
       "version_major": 2,
       "version_minor": 0
      },
      "text/plain": [
       "HBox(children=(IntProgress(value=0, description='Epoch 82', max=323), HTML(value='')))"
      ]
     },
     "metadata": {},
     "output_type": "display_data"
    },
    {
     "data": {
      "application/vnd.jupyter.widget-view+json": {
       "model_id": "",
       "version_major": 2,
       "version_minor": 0
      },
      "text/plain": [
       "HBox(children=(IntProgress(value=0, description='Epoch 83', max=323), HTML(value='')))"
      ]
     },
     "metadata": {},
     "output_type": "display_data"
    },
    {
     "data": {
      "application/vnd.jupyter.widget-view+json": {
       "model_id": "",
       "version_major": 2,
       "version_minor": 0
      },
      "text/plain": [
       "HBox(children=(IntProgress(value=0, description='Epoch 84', max=323), HTML(value='')))"
      ]
     },
     "metadata": {},
     "output_type": "display_data"
    },
    {
     "data": {
      "application/vnd.jupyter.widget-view+json": {
       "model_id": "",
       "version_major": 2,
       "version_minor": 0
      },
      "text/plain": [
       "HBox(children=(IntProgress(value=0, description='Epoch 85', max=323), HTML(value='')))"
      ]
     },
     "metadata": {},
     "output_type": "display_data"
    },
    {
     "data": {
      "application/vnd.jupyter.widget-view+json": {
       "model_id": "",
       "version_major": 2,
       "version_minor": 0
      },
      "text/plain": [
       "HBox(children=(IntProgress(value=0, description='Epoch 86', max=323), HTML(value='')))"
      ]
     },
     "metadata": {},
     "output_type": "display_data"
    },
    {
     "data": {
      "application/vnd.jupyter.widget-view+json": {
       "model_id": "",
       "version_major": 2,
       "version_minor": 0
      },
      "text/plain": [
       "HBox(children=(IntProgress(value=0, description='Epoch 87', max=323), HTML(value='')))"
      ]
     },
     "metadata": {},
     "output_type": "display_data"
    },
    {
     "data": {
      "application/vnd.jupyter.widget-view+json": {
       "model_id": "",
       "version_major": 2,
       "version_minor": 0
      },
      "text/plain": [
       "HBox(children=(IntProgress(value=0, description='Epoch 88', max=323), HTML(value='')))"
      ]
     },
     "metadata": {},
     "output_type": "display_data"
    },
    {
     "data": {
      "application/vnd.jupyter.widget-view+json": {
       "model_id": "",
       "version_major": 2,
       "version_minor": 0
      },
      "text/plain": [
       "HBox(children=(IntProgress(value=0, description='Epoch 89', max=323), HTML(value='')))"
      ]
     },
     "metadata": {},
     "output_type": "display_data"
    },
    {
     "data": {
      "application/vnd.jupyter.widget-view+json": {
       "model_id": "",
       "version_major": 2,
       "version_minor": 0
      },
      "text/plain": [
       "HBox(children=(IntProgress(value=0, description='Epoch 90', max=323), HTML(value='')))"
      ]
     },
     "metadata": {},
     "output_type": "display_data"
    },
    {
     "data": {
      "application/vnd.jupyter.widget-view+json": {
       "model_id": "",
       "version_major": 2,
       "version_minor": 0
      },
      "text/plain": [
       "HBox(children=(IntProgress(value=0, description='Epoch 91', max=323), HTML(value='')))"
      ]
     },
     "metadata": {},
     "output_type": "display_data"
    },
    {
     "data": {
      "application/vnd.jupyter.widget-view+json": {
       "model_id": "",
       "version_major": 2,
       "version_minor": 0
      },
      "text/plain": [
       "HBox(children=(IntProgress(value=0, description='Epoch 92', max=323), HTML(value='')))"
      ]
     },
     "metadata": {},
     "output_type": "display_data"
    },
    {
     "data": {
      "application/vnd.jupyter.widget-view+json": {
       "model_id": "",
       "version_major": 2,
       "version_minor": 0
      },
      "text/plain": [
       "HBox(children=(IntProgress(value=0, description='Epoch 93', max=323), HTML(value='')))"
      ]
     },
     "metadata": {},
     "output_type": "display_data"
    },
    {
     "data": {
      "application/vnd.jupyter.widget-view+json": {
       "model_id": "",
       "version_major": 2,
       "version_minor": 0
      },
      "text/plain": [
       "HBox(children=(IntProgress(value=0, description='Epoch 94', max=323), HTML(value='')))"
      ]
     },
     "metadata": {},
     "output_type": "display_data"
    },
    {
     "data": {
      "application/vnd.jupyter.widget-view+json": {
       "model_id": "",
       "version_major": 2,
       "version_minor": 0
      },
      "text/plain": [
       "HBox(children=(IntProgress(value=0, description='Epoch 95', max=323), HTML(value='')))"
      ]
     },
     "metadata": {},
     "output_type": "display_data"
    },
    {
     "data": {
      "application/vnd.jupyter.widget-view+json": {
       "model_id": "",
       "version_major": 2,
       "version_minor": 0
      },
      "text/plain": [
       "HBox(children=(IntProgress(value=0, description='Epoch 96', max=323), HTML(value='')))"
      ]
     },
     "metadata": {},
     "output_type": "display_data"
    },
    {
     "data": {
      "application/vnd.jupyter.widget-view+json": {
       "model_id": "",
       "version_major": 2,
       "version_minor": 0
      },
      "text/plain": [
       "HBox(children=(IntProgress(value=0, description='Epoch 97', max=323), HTML(value='')))"
      ]
     },
     "metadata": {},
     "output_type": "display_data"
    },
    {
     "data": {
      "application/vnd.jupyter.widget-view+json": {
       "model_id": "",
       "version_major": 2,
       "version_minor": 0
      },
      "text/plain": [
       "HBox(children=(IntProgress(value=0, description='Epoch 98', max=323), HTML(value='')))"
      ]
     },
     "metadata": {},
     "output_type": "display_data"
    },
    {
     "data": {
      "application/vnd.jupyter.widget-view+json": {
       "model_id": "",
       "version_major": 2,
       "version_minor": 0
      },
      "text/plain": [
       "HBox(children=(IntProgress(value=0, description='Epoch 99', max=323), HTML(value='')))"
      ]
     },
     "metadata": {},
     "output_type": "display_data"
    },
    {
     "data": {
      "application/vnd.jupyter.widget-view+json": {
       "model_id": "",
       "version_major": 2,
       "version_minor": 0
      },
      "text/plain": [
       "HBox(children=(IntProgress(value=0, description='Epoch 100', max=323), HTML(value='')))"
      ]
     },
     "metadata": {},
     "output_type": "display_data"
    },
    {
     "data": {
      "application/vnd.jupyter.widget-view+json": {
       "model_id": "",
       "version_major": 2,
       "version_minor": 0
      },
      "text/plain": [
       "HBox(children=(IntProgress(value=0, description='Epoch 101', max=323), HTML(value='')))"
      ]
     },
     "metadata": {},
     "output_type": "display_data"
    },
    {
     "data": {
      "application/vnd.jupyter.widget-view+json": {
       "model_id": "",
       "version_major": 2,
       "version_minor": 0
      },
      "text/plain": [
       "HBox(children=(IntProgress(value=0, description='Epoch 102', max=323), HTML(value='')))"
      ]
     },
     "metadata": {},
     "output_type": "display_data"
    },
    {
     "data": {
      "application/vnd.jupyter.widget-view+json": {
       "model_id": "",
       "version_major": 2,
       "version_minor": 0
      },
      "text/plain": [
       "HBox(children=(IntProgress(value=0, description='Epoch 103', max=323), HTML(value='')))"
      ]
     },
     "metadata": {},
     "output_type": "display_data"
    },
    {
     "data": {
      "application/vnd.jupyter.widget-view+json": {
       "model_id": "",
       "version_major": 2,
       "version_minor": 0
      },
      "text/plain": [
       "HBox(children=(IntProgress(value=0, description='Epoch 104', max=323), HTML(value='')))"
      ]
     },
     "metadata": {},
     "output_type": "display_data"
    },
    {
     "data": {
      "application/vnd.jupyter.widget-view+json": {
       "model_id": "",
       "version_major": 2,
       "version_minor": 0
      },
      "text/plain": [
       "HBox(children=(IntProgress(value=0, description='Epoch 105', max=323), HTML(value='')))"
      ]
     },
     "metadata": {},
     "output_type": "display_data"
    },
    {
     "data": {
      "application/vnd.jupyter.widget-view+json": {
       "model_id": "",
       "version_major": 2,
       "version_minor": 0
      },
      "text/plain": [
       "HBox(children=(IntProgress(value=0, description='Epoch 106', max=323), HTML(value='')))"
      ]
     },
     "metadata": {},
     "output_type": "display_data"
    },
    {
     "data": {
      "application/vnd.jupyter.widget-view+json": {
       "model_id": "",
       "version_major": 2,
       "version_minor": 0
      },
      "text/plain": [
       "HBox(children=(IntProgress(value=0, description='Epoch 107', max=323), HTML(value='')))"
      ]
     },
     "metadata": {},
     "output_type": "display_data"
    },
    {
     "data": {
      "application/vnd.jupyter.widget-view+json": {
       "model_id": "",
       "version_major": 2,
       "version_minor": 0
      },
      "text/plain": [
       "HBox(children=(IntProgress(value=0, description='Epoch 108', max=323), HTML(value='')))"
      ]
     },
     "metadata": {},
     "output_type": "display_data"
    },
    {
     "data": {
      "application/vnd.jupyter.widget-view+json": {
       "model_id": "",
       "version_major": 2,
       "version_minor": 0
      },
      "text/plain": [
       "HBox(children=(IntProgress(value=0, description='Epoch 109', max=323), HTML(value='')))"
      ]
     },
     "metadata": {},
     "output_type": "display_data"
    },
    {
     "data": {
      "application/vnd.jupyter.widget-view+json": {
       "model_id": "",
       "version_major": 2,
       "version_minor": 0
      },
      "text/plain": [
       "HBox(children=(IntProgress(value=0, description='Epoch 110', max=323), HTML(value='')))"
      ]
     },
     "metadata": {},
     "output_type": "display_data"
    },
    {
     "data": {
      "application/vnd.jupyter.widget-view+json": {
       "model_id": "",
       "version_major": 2,
       "version_minor": 0
      },
      "text/plain": [
       "HBox(children=(IntProgress(value=0, description='Epoch 111', max=323), HTML(value='')))"
      ]
     },
     "metadata": {},
     "output_type": "display_data"
    },
    {
     "data": {
      "application/vnd.jupyter.widget-view+json": {
       "model_id": "",
       "version_major": 2,
       "version_minor": 0
      },
      "text/plain": [
       "HBox(children=(IntProgress(value=0, description='Epoch 112', max=323), HTML(value='')))"
      ]
     },
     "metadata": {},
     "output_type": "display_data"
    },
    {
     "data": {
      "application/vnd.jupyter.widget-view+json": {
       "model_id": "",
       "version_major": 2,
       "version_minor": 0
      },
      "text/plain": [
       "HBox(children=(IntProgress(value=0, description='Epoch 113', max=323), HTML(value='')))"
      ]
     },
     "metadata": {},
     "output_type": "display_data"
    },
    {
     "data": {
      "application/vnd.jupyter.widget-view+json": {
       "model_id": "",
       "version_major": 2,
       "version_minor": 0
      },
      "text/plain": [
       "HBox(children=(IntProgress(value=0, description='Epoch 114', max=323), HTML(value='')))"
      ]
     },
     "metadata": {},
     "output_type": "display_data"
    },
    {
     "data": {
      "application/vnd.jupyter.widget-view+json": {
       "model_id": "",
       "version_major": 2,
       "version_minor": 0
      },
      "text/plain": [
       "HBox(children=(IntProgress(value=0, description='Epoch 115', max=323), HTML(value='')))"
      ]
     },
     "metadata": {},
     "output_type": "display_data"
    },
    {
     "data": {
      "application/vnd.jupyter.widget-view+json": {
       "model_id": "",
       "version_major": 2,
       "version_minor": 0
      },
      "text/plain": [
       "HBox(children=(IntProgress(value=0, description='Epoch 116', max=323), HTML(value='')))"
      ]
     },
     "metadata": {},
     "output_type": "display_data"
    },
    {
     "data": {
      "application/vnd.jupyter.widget-view+json": {
       "model_id": "",
       "version_major": 2,
       "version_minor": 0
      },
      "text/plain": [
       "HBox(children=(IntProgress(value=0, description='Epoch 117', max=323), HTML(value='')))"
      ]
     },
     "metadata": {},
     "output_type": "display_data"
    },
    {
     "data": {
      "application/vnd.jupyter.widget-view+json": {
       "model_id": "",
       "version_major": 2,
       "version_minor": 0
      },
      "text/plain": [
       "HBox(children=(IntProgress(value=0, description='Epoch 118', max=323), HTML(value='')))"
      ]
     },
     "metadata": {},
     "output_type": "display_data"
    },
    {
     "data": {
      "application/vnd.jupyter.widget-view+json": {
       "model_id": "",
       "version_major": 2,
       "version_minor": 0
      },
      "text/plain": [
       "HBox(children=(IntProgress(value=0, description='Epoch 119', max=323), HTML(value='')))"
      ]
     },
     "metadata": {},
     "output_type": "display_data"
    },
    {
     "data": {
      "application/vnd.jupyter.widget-view+json": {
       "model_id": "",
       "version_major": 2,
       "version_minor": 0
      },
      "text/plain": [
       "HBox(children=(IntProgress(value=0, description='Epoch 120', max=323), HTML(value='')))"
      ]
     },
     "metadata": {},
     "output_type": "display_data"
    },
    {
     "data": {
      "application/vnd.jupyter.widget-view+json": {
       "model_id": "",
       "version_major": 2,
       "version_minor": 0
      },
      "text/plain": [
       "HBox(children=(IntProgress(value=0, description='Epoch 121', max=323), HTML(value='')))"
      ]
     },
     "metadata": {},
     "output_type": "display_data"
    },
    {
     "data": {
      "application/vnd.jupyter.widget-view+json": {
       "model_id": "",
       "version_major": 2,
       "version_minor": 0
      },
      "text/plain": [
       "HBox(children=(IntProgress(value=0, description='Epoch 122', max=323), HTML(value='')))"
      ]
     },
     "metadata": {},
     "output_type": "display_data"
    },
    {
     "data": {
      "application/vnd.jupyter.widget-view+json": {
       "model_id": "",
       "version_major": 2,
       "version_minor": 0
      },
      "text/plain": [
       "HBox(children=(IntProgress(value=0, description='Epoch 123', max=323), HTML(value='')))"
      ]
     },
     "metadata": {},
     "output_type": "display_data"
    },
    {
     "data": {
      "application/vnd.jupyter.widget-view+json": {
       "model_id": "",
       "version_major": 2,
       "version_minor": 0
      },
      "text/plain": [
       "HBox(children=(IntProgress(value=0, description='Epoch 124', max=323), HTML(value='')))"
      ]
     },
     "metadata": {},
     "output_type": "display_data"
    },
    {
     "data": {
      "application/vnd.jupyter.widget-view+json": {
       "model_id": "",
       "version_major": 2,
       "version_minor": 0
      },
      "text/plain": [
       "HBox(children=(IntProgress(value=0, description='Epoch 125', max=323), HTML(value='')))"
      ]
     },
     "metadata": {},
     "output_type": "display_data"
    },
    {
     "data": {
      "application/vnd.jupyter.widget-view+json": {
       "model_id": "",
       "version_major": 2,
       "version_minor": 0
      },
      "text/plain": [
       "HBox(children=(IntProgress(value=0, description='Epoch 126', max=323), HTML(value='')))"
      ]
     },
     "metadata": {},
     "output_type": "display_data"
    },
    {
     "data": {
      "application/vnd.jupyter.widget-view+json": {
       "model_id": "",
       "version_major": 2,
       "version_minor": 0
      },
      "text/plain": [
       "HBox(children=(IntProgress(value=0, description='Epoch 127', max=323), HTML(value='')))"
      ]
     },
     "metadata": {},
     "output_type": "display_data"
    },
    {
     "data": {
      "application/vnd.jupyter.widget-view+json": {
       "model_id": "",
       "version_major": 2,
       "version_minor": 0
      },
      "text/plain": [
       "HBox(children=(IntProgress(value=0, description='Epoch 128', max=323), HTML(value='')))"
      ]
     },
     "metadata": {},
     "output_type": "display_data"
    },
    {
     "data": {
      "application/vnd.jupyter.widget-view+json": {
       "model_id": "",
       "version_major": 2,
       "version_minor": 0
      },
      "text/plain": [
       "HBox(children=(IntProgress(value=0, description='Epoch 129', max=323), HTML(value='')))"
      ]
     },
     "metadata": {},
     "output_type": "display_data"
    },
    {
     "data": {
      "application/vnd.jupyter.widget-view+json": {
       "model_id": "",
       "version_major": 2,
       "version_minor": 0
      },
      "text/plain": [
       "HBox(children=(IntProgress(value=0, description='Epoch 130', max=323), HTML(value='')))"
      ]
     },
     "metadata": {},
     "output_type": "display_data"
    },
    {
     "data": {
      "application/vnd.jupyter.widget-view+json": {
       "model_id": "",
       "version_major": 2,
       "version_minor": 0
      },
      "text/plain": [
       "HBox(children=(IntProgress(value=0, description='Epoch 131', max=323), HTML(value='')))"
      ]
     },
     "metadata": {},
     "output_type": "display_data"
    },
    {
     "data": {
      "application/vnd.jupyter.widget-view+json": {
       "model_id": "",
       "version_major": 2,
       "version_minor": 0
      },
      "text/plain": [
       "HBox(children=(IntProgress(value=0, description='Epoch 132', max=323), HTML(value='')))"
      ]
     },
     "metadata": {},
     "output_type": "display_data"
    },
    {
     "data": {
      "application/vnd.jupyter.widget-view+json": {
       "model_id": "",
       "version_major": 2,
       "version_minor": 0
      },
      "text/plain": [
       "HBox(children=(IntProgress(value=0, description='Epoch 133', max=323), HTML(value='')))"
      ]
     },
     "metadata": {},
     "output_type": "display_data"
    },
    {
     "data": {
      "application/vnd.jupyter.widget-view+json": {
       "model_id": "",
       "version_major": 2,
       "version_minor": 0
      },
      "text/plain": [
       "HBox(children=(IntProgress(value=0, description='Epoch 134', max=323), HTML(value='')))"
      ]
     },
     "metadata": {},
     "output_type": "display_data"
    },
    {
     "data": {
      "application/vnd.jupyter.widget-view+json": {
       "model_id": "",
       "version_major": 2,
       "version_minor": 0
      },
      "text/plain": [
       "HBox(children=(IntProgress(value=0, description='Epoch 135', max=323), HTML(value='')))"
      ]
     },
     "metadata": {},
     "output_type": "display_data"
    },
    {
     "data": {
      "application/vnd.jupyter.widget-view+json": {
       "model_id": "",
       "version_major": 2,
       "version_minor": 0
      },
      "text/plain": [
       "HBox(children=(IntProgress(value=0, description='Epoch 136', max=323), HTML(value='')))"
      ]
     },
     "metadata": {},
     "output_type": "display_data"
    },
    {
     "data": {
      "application/vnd.jupyter.widget-view+json": {
       "model_id": "",
       "version_major": 2,
       "version_minor": 0
      },
      "text/plain": [
       "HBox(children=(IntProgress(value=0, description='Epoch 137', max=323), HTML(value='')))"
      ]
     },
     "metadata": {},
     "output_type": "display_data"
    },
    {
     "data": {
      "application/vnd.jupyter.widget-view+json": {
       "model_id": "",
       "version_major": 2,
       "version_minor": 0
      },
      "text/plain": [
       "HBox(children=(IntProgress(value=0, description='Epoch 138', max=323), HTML(value='')))"
      ]
     },
     "metadata": {},
     "output_type": "display_data"
    },
    {
     "data": {
      "application/vnd.jupyter.widget-view+json": {
       "model_id": "",
       "version_major": 2,
       "version_minor": 0
      },
      "text/plain": [
       "HBox(children=(IntProgress(value=0, description='Epoch 139', max=323), HTML(value='')))"
      ]
     },
     "metadata": {},
     "output_type": "display_data"
    },
    {
     "data": {
      "application/vnd.jupyter.widget-view+json": {
       "model_id": "",
       "version_major": 2,
       "version_minor": 0
      },
      "text/plain": [
       "HBox(children=(IntProgress(value=0, description='Epoch 140', max=323), HTML(value='')))"
      ]
     },
     "metadata": {},
     "output_type": "display_data"
    },
    {
     "data": {
      "application/vnd.jupyter.widget-view+json": {
       "model_id": "",
       "version_major": 2,
       "version_minor": 0
      },
      "text/plain": [
       "HBox(children=(IntProgress(value=0, description='Epoch 141', max=323), HTML(value='')))"
      ]
     },
     "metadata": {},
     "output_type": "display_data"
    },
    {
     "data": {
      "application/vnd.jupyter.widget-view+json": {
       "model_id": "",
       "version_major": 2,
       "version_minor": 0
      },
      "text/plain": [
       "HBox(children=(IntProgress(value=0, description='Epoch 142', max=323), HTML(value='')))"
      ]
     },
     "metadata": {},
     "output_type": "display_data"
    },
    {
     "data": {
      "application/vnd.jupyter.widget-view+json": {
       "model_id": "",
       "version_major": 2,
       "version_minor": 0
      },
      "text/plain": [
       "HBox(children=(IntProgress(value=0, description='Epoch 143', max=323), HTML(value='')))"
      ]
     },
     "metadata": {},
     "output_type": "display_data"
    },
    {
     "data": {
      "application/vnd.jupyter.widget-view+json": {
       "model_id": "",
       "version_major": 2,
       "version_minor": 0
      },
      "text/plain": [
       "HBox(children=(IntProgress(value=0, description='Epoch 144', max=323), HTML(value='')))"
      ]
     },
     "metadata": {},
     "output_type": "display_data"
    },
    {
     "data": {
      "application/vnd.jupyter.widget-view+json": {
       "model_id": "",
       "version_major": 2,
       "version_minor": 0
      },
      "text/plain": [
       "HBox(children=(IntProgress(value=0, description='Epoch 145', max=323), HTML(value='')))"
      ]
     },
     "metadata": {},
     "output_type": "display_data"
    },
    {
     "data": {
      "application/vnd.jupyter.widget-view+json": {
       "model_id": "",
       "version_major": 2,
       "version_minor": 0
      },
      "text/plain": [
       "HBox(children=(IntProgress(value=0, description='Epoch 146', max=323), HTML(value='')))"
      ]
     },
     "metadata": {},
     "output_type": "display_data"
    },
    {
     "data": {
      "application/vnd.jupyter.widget-view+json": {
       "model_id": "",
       "version_major": 2,
       "version_minor": 0
      },
      "text/plain": [
       "HBox(children=(IntProgress(value=0, description='Epoch 147', max=323), HTML(value='')))"
      ]
     },
     "metadata": {},
     "output_type": "display_data"
    },
    {
     "data": {
      "application/vnd.jupyter.widget-view+json": {
       "model_id": "",
       "version_major": 2,
       "version_minor": 0
      },
      "text/plain": [
       "HBox(children=(IntProgress(value=0, description='Epoch 148', max=323), HTML(value='')))"
      ]
     },
     "metadata": {},
     "output_type": "display_data"
    },
    {
     "data": {
      "application/vnd.jupyter.widget-view+json": {
       "model_id": "",
       "version_major": 2,
       "version_minor": 0
      },
      "text/plain": [
       "HBox(children=(IntProgress(value=0, description='Epoch 149', max=323), HTML(value='')))"
      ]
     },
     "metadata": {},
     "output_type": "display_data"
    },
    {
     "data": {
      "application/vnd.jupyter.widget-view+json": {
       "model_id": "",
       "version_major": 2,
       "version_minor": 0
      },
      "text/plain": [
       "HBox(children=(IntProgress(value=0, description='Epoch 150', max=323), HTML(value='')))"
      ]
     },
     "metadata": {},
     "output_type": "display_data"
    },
    {
     "data": {
      "application/vnd.jupyter.widget-view+json": {
       "model_id": "",
       "version_major": 2,
       "version_minor": 0
      },
      "text/plain": [
       "HBox(children=(IntProgress(value=0, description='Epoch 151', max=323), HTML(value='')))"
      ]
     },
     "metadata": {},
     "output_type": "display_data"
    },
    {
     "data": {
      "application/vnd.jupyter.widget-view+json": {
       "model_id": "",
       "version_major": 2,
       "version_minor": 0
      },
      "text/plain": [
       "HBox(children=(IntProgress(value=0, description='Epoch 152', max=323), HTML(value='')))"
      ]
     },
     "metadata": {},
     "output_type": "display_data"
    },
    {
     "data": {
      "application/vnd.jupyter.widget-view+json": {
       "model_id": "",
       "version_major": 2,
       "version_minor": 0
      },
      "text/plain": [
       "HBox(children=(IntProgress(value=0, description='Epoch 153', max=323), HTML(value='')))"
      ]
     },
     "metadata": {},
     "output_type": "display_data"
    },
    {
     "data": {
      "application/vnd.jupyter.widget-view+json": {
       "model_id": "",
       "version_major": 2,
       "version_minor": 0
      },
      "text/plain": [
       "HBox(children=(IntProgress(value=0, description='Epoch 154', max=323), HTML(value='')))"
      ]
     },
     "metadata": {},
     "output_type": "display_data"
    },
    {
     "data": {
      "application/vnd.jupyter.widget-view+json": {
       "model_id": "",
       "version_major": 2,
       "version_minor": 0
      },
      "text/plain": [
       "HBox(children=(IntProgress(value=0, description='Epoch 155', max=323), HTML(value='')))"
      ]
     },
     "metadata": {},
     "output_type": "display_data"
    },
    {
     "data": {
      "application/vnd.jupyter.widget-view+json": {
       "model_id": "",
       "version_major": 2,
       "version_minor": 0
      },
      "text/plain": [
       "HBox(children=(IntProgress(value=0, description='Epoch 156', max=323), HTML(value='')))"
      ]
     },
     "metadata": {},
     "output_type": "display_data"
    },
    {
     "data": {
      "application/vnd.jupyter.widget-view+json": {
       "model_id": "",
       "version_major": 2,
       "version_minor": 0
      },
      "text/plain": [
       "HBox(children=(IntProgress(value=0, description='Epoch 157', max=323), HTML(value='')))"
      ]
     },
     "metadata": {},
     "output_type": "display_data"
    },
    {
     "data": {
      "application/vnd.jupyter.widget-view+json": {
       "model_id": "",
       "version_major": 2,
       "version_minor": 0
      },
      "text/plain": [
       "HBox(children=(IntProgress(value=0, description='Epoch 158', max=323), HTML(value='')))"
      ]
     },
     "metadata": {},
     "output_type": "display_data"
    },
    {
     "data": {
      "application/vnd.jupyter.widget-view+json": {
       "model_id": "",
       "version_major": 2,
       "version_minor": 0
      },
      "text/plain": [
       "HBox(children=(IntProgress(value=0, description='Epoch 159', max=323), HTML(value='')))"
      ]
     },
     "metadata": {},
     "output_type": "display_data"
    },
    {
     "data": {
      "application/vnd.jupyter.widget-view+json": {
       "model_id": "",
       "version_major": 2,
       "version_minor": 0
      },
      "text/plain": [
       "HBox(children=(IntProgress(value=0, description='Epoch 160', max=323), HTML(value='')))"
      ]
     },
     "metadata": {},
     "output_type": "display_data"
    },
    {
     "data": {
      "application/vnd.jupyter.widget-view+json": {
       "model_id": "",
       "version_major": 2,
       "version_minor": 0
      },
      "text/plain": [
       "HBox(children=(IntProgress(value=0, description='Epoch 161', max=323), HTML(value='')))"
      ]
     },
     "metadata": {},
     "output_type": "display_data"
    },
    {
     "data": {
      "application/vnd.jupyter.widget-view+json": {
       "model_id": "",
       "version_major": 2,
       "version_minor": 0
      },
      "text/plain": [
       "HBox(children=(IntProgress(value=0, description='Epoch 162', max=323), HTML(value='')))"
      ]
     },
     "metadata": {},
     "output_type": "display_data"
    },
    {
     "data": {
      "application/vnd.jupyter.widget-view+json": {
       "model_id": "",
       "version_major": 2,
       "version_minor": 0
      },
      "text/plain": [
       "HBox(children=(IntProgress(value=0, description='Epoch 163', max=323), HTML(value='')))"
      ]
     },
     "metadata": {},
     "output_type": "display_data"
    },
    {
     "data": {
      "application/vnd.jupyter.widget-view+json": {
       "model_id": "",
       "version_major": 2,
       "version_minor": 0
      },
      "text/plain": [
       "HBox(children=(IntProgress(value=0, description='Epoch 164', max=323), HTML(value='')))"
      ]
     },
     "metadata": {},
     "output_type": "display_data"
    },
    {
     "data": {
      "application/vnd.jupyter.widget-view+json": {
       "model_id": "",
       "version_major": 2,
       "version_minor": 0
      },
      "text/plain": [
       "HBox(children=(IntProgress(value=0, description='Epoch 165', max=323), HTML(value='')))"
      ]
     },
     "metadata": {},
     "output_type": "display_data"
    },
    {
     "data": {
      "application/vnd.jupyter.widget-view+json": {
       "model_id": "",
       "version_major": 2,
       "version_minor": 0
      },
      "text/plain": [
       "HBox(children=(IntProgress(value=0, description='Epoch 166', max=323), HTML(value='')))"
      ]
     },
     "metadata": {},
     "output_type": "display_data"
    },
    {
     "data": {
      "application/vnd.jupyter.widget-view+json": {
       "model_id": "",
       "version_major": 2,
       "version_minor": 0
      },
      "text/plain": [
       "HBox(children=(IntProgress(value=0, description='Epoch 167', max=323), HTML(value='')))"
      ]
     },
     "metadata": {},
     "output_type": "display_data"
    },
    {
     "data": {
      "application/vnd.jupyter.widget-view+json": {
       "model_id": "",
       "version_major": 2,
       "version_minor": 0
      },
      "text/plain": [
       "HBox(children=(IntProgress(value=0, description='Epoch 168', max=323), HTML(value='')))"
      ]
     },
     "metadata": {},
     "output_type": "display_data"
    },
    {
     "data": {
      "application/vnd.jupyter.widget-view+json": {
       "model_id": "",
       "version_major": 2,
       "version_minor": 0
      },
      "text/plain": [
       "HBox(children=(IntProgress(value=0, description='Epoch 169', max=323), HTML(value='')))"
      ]
     },
     "metadata": {},
     "output_type": "display_data"
    },
    {
     "data": {
      "application/vnd.jupyter.widget-view+json": {
       "model_id": "",
       "version_major": 2,
       "version_minor": 0
      },
      "text/plain": [
       "HBox(children=(IntProgress(value=0, description='Epoch 170', max=323), HTML(value='')))"
      ]
     },
     "metadata": {},
     "output_type": "display_data"
    },
    {
     "data": {
      "application/vnd.jupyter.widget-view+json": {
       "model_id": "",
       "version_major": 2,
       "version_minor": 0
      },
      "text/plain": [
       "HBox(children=(IntProgress(value=0, description='Epoch 171', max=323), HTML(value='')))"
      ]
     },
     "metadata": {},
     "output_type": "display_data"
    },
    {
     "data": {
      "application/vnd.jupyter.widget-view+json": {
       "model_id": "",
       "version_major": 2,
       "version_minor": 0
      },
      "text/plain": [
       "HBox(children=(IntProgress(value=0, description='Epoch 172', max=323), HTML(value='')))"
      ]
     },
     "metadata": {},
     "output_type": "display_data"
    },
    {
     "data": {
      "application/vnd.jupyter.widget-view+json": {
       "model_id": "",
       "version_major": 2,
       "version_minor": 0
      },
      "text/plain": [
       "HBox(children=(IntProgress(value=0, description='Epoch 173', max=323), HTML(value='')))"
      ]
     },
     "metadata": {},
     "output_type": "display_data"
    },
    {
     "data": {
      "application/vnd.jupyter.widget-view+json": {
       "model_id": "",
       "version_major": 2,
       "version_minor": 0
      },
      "text/plain": [
       "HBox(children=(IntProgress(value=0, description='Epoch 174', max=323), HTML(value='')))"
      ]
     },
     "metadata": {},
     "output_type": "display_data"
    },
    {
     "data": {
      "application/vnd.jupyter.widget-view+json": {
       "model_id": "",
       "version_major": 2,
       "version_minor": 0
      },
      "text/plain": [
       "HBox(children=(IntProgress(value=0, description='Epoch 175', max=323), HTML(value='')))"
      ]
     },
     "metadata": {},
     "output_type": "display_data"
    },
    {
     "data": {
      "application/vnd.jupyter.widget-view+json": {
       "model_id": "",
       "version_major": 2,
       "version_minor": 0
      },
      "text/plain": [
       "HBox(children=(IntProgress(value=0, description='Epoch 176', max=323), HTML(value='')))"
      ]
     },
     "metadata": {},
     "output_type": "display_data"
    },
    {
     "data": {
      "application/vnd.jupyter.widget-view+json": {
       "model_id": "",
       "version_major": 2,
       "version_minor": 0
      },
      "text/plain": [
       "HBox(children=(IntProgress(value=0, description='Epoch 177', max=323), HTML(value='')))"
      ]
     },
     "metadata": {},
     "output_type": "display_data"
    },
    {
     "data": {
      "application/vnd.jupyter.widget-view+json": {
       "model_id": "",
       "version_major": 2,
       "version_minor": 0
      },
      "text/plain": [
       "HBox(children=(IntProgress(value=0, description='Epoch 178', max=323), HTML(value='')))"
      ]
     },
     "metadata": {},
     "output_type": "display_data"
    },
    {
     "data": {
      "application/vnd.jupyter.widget-view+json": {
       "model_id": "",
       "version_major": 2,
       "version_minor": 0
      },
      "text/plain": [
       "HBox(children=(IntProgress(value=0, description='Epoch 179', max=323), HTML(value='')))"
      ]
     },
     "metadata": {},
     "output_type": "display_data"
    },
    {
     "data": {
      "application/vnd.jupyter.widget-view+json": {
       "model_id": "",
       "version_major": 2,
       "version_minor": 0
      },
      "text/plain": [
       "HBox(children=(IntProgress(value=0, description='Epoch 180', max=323), HTML(value='')))"
      ]
     },
     "metadata": {},
     "output_type": "display_data"
    },
    {
     "data": {
      "application/vnd.jupyter.widget-view+json": {
       "model_id": "",
       "version_major": 2,
       "version_minor": 0
      },
      "text/plain": [
       "HBox(children=(IntProgress(value=0, description='Epoch 181', max=323), HTML(value='')))"
      ]
     },
     "metadata": {},
     "output_type": "display_data"
    },
    {
     "data": {
      "application/vnd.jupyter.widget-view+json": {
       "model_id": "",
       "version_major": 2,
       "version_minor": 0
      },
      "text/plain": [
       "HBox(children=(IntProgress(value=0, description='Epoch 182', max=323), HTML(value='')))"
      ]
     },
     "metadata": {},
     "output_type": "display_data"
    },
    {
     "data": {
      "application/vnd.jupyter.widget-view+json": {
       "model_id": "",
       "version_major": 2,
       "version_minor": 0
      },
      "text/plain": [
       "HBox(children=(IntProgress(value=0, description='Epoch 183', max=323), HTML(value='')))"
      ]
     },
     "metadata": {},
     "output_type": "display_data"
    },
    {
     "data": {
      "application/vnd.jupyter.widget-view+json": {
       "model_id": "",
       "version_major": 2,
       "version_minor": 0
      },
      "text/plain": [
       "HBox(children=(IntProgress(value=0, description='Epoch 184', max=323), HTML(value='')))"
      ]
     },
     "metadata": {},
     "output_type": "display_data"
    },
    {
     "data": {
      "application/vnd.jupyter.widget-view+json": {
       "model_id": "",
       "version_major": 2,
       "version_minor": 0
      },
      "text/plain": [
       "HBox(children=(IntProgress(value=0, description='Epoch 185', max=323), HTML(value='')))"
      ]
     },
     "metadata": {},
     "output_type": "display_data"
    },
    {
     "data": {
      "application/vnd.jupyter.widget-view+json": {
       "model_id": "",
       "version_major": 2,
       "version_minor": 0
      },
      "text/plain": [
       "HBox(children=(IntProgress(value=0, description='Epoch 186', max=323), HTML(value='')))"
      ]
     },
     "metadata": {},
     "output_type": "display_data"
    },
    {
     "data": {
      "application/vnd.jupyter.widget-view+json": {
       "model_id": "",
       "version_major": 2,
       "version_minor": 0
      },
      "text/plain": [
       "HBox(children=(IntProgress(value=0, description='Epoch 187', max=323), HTML(value='')))"
      ]
     },
     "metadata": {},
     "output_type": "display_data"
    },
    {
     "data": {
      "application/vnd.jupyter.widget-view+json": {
       "model_id": "",
       "version_major": 2,
       "version_minor": 0
      },
      "text/plain": [
       "HBox(children=(IntProgress(value=0, description='Epoch 188', max=323), HTML(value='')))"
      ]
     },
     "metadata": {},
     "output_type": "display_data"
    },
    {
     "data": {
      "application/vnd.jupyter.widget-view+json": {
       "model_id": "",
       "version_major": 2,
       "version_minor": 0
      },
      "text/plain": [
       "HBox(children=(IntProgress(value=0, description='Epoch 189', max=323), HTML(value='')))"
      ]
     },
     "metadata": {},
     "output_type": "display_data"
    },
    {
     "data": {
      "application/vnd.jupyter.widget-view+json": {
       "model_id": "",
       "version_major": 2,
       "version_minor": 0
      },
      "text/plain": [
       "HBox(children=(IntProgress(value=0, description='Epoch 190', max=323), HTML(value='')))"
      ]
     },
     "metadata": {},
     "output_type": "display_data"
    },
    {
     "data": {
      "application/vnd.jupyter.widget-view+json": {
       "model_id": "",
       "version_major": 2,
       "version_minor": 0
      },
      "text/plain": [
       "HBox(children=(IntProgress(value=0, description='Epoch 191', max=323), HTML(value='')))"
      ]
     },
     "metadata": {},
     "output_type": "display_data"
    },
    {
     "data": {
      "application/vnd.jupyter.widget-view+json": {
       "model_id": "",
       "version_major": 2,
       "version_minor": 0
      },
      "text/plain": [
       "HBox(children=(IntProgress(value=0, description='Epoch 192', max=323), HTML(value='')))"
      ]
     },
     "metadata": {},
     "output_type": "display_data"
    },
    {
     "data": {
      "application/vnd.jupyter.widget-view+json": {
       "model_id": "",
       "version_major": 2,
       "version_minor": 0
      },
      "text/plain": [
       "HBox(children=(IntProgress(value=0, description='Epoch 193', max=323), HTML(value='')))"
      ]
     },
     "metadata": {},
     "output_type": "display_data"
    },
    {
     "data": {
      "application/vnd.jupyter.widget-view+json": {
       "model_id": "",
       "version_major": 2,
       "version_minor": 0
      },
      "text/plain": [
       "HBox(children=(IntProgress(value=0, description='Epoch 194', max=323), HTML(value='')))"
      ]
     },
     "metadata": {},
     "output_type": "display_data"
    },
    {
     "data": {
      "application/vnd.jupyter.widget-view+json": {
       "model_id": "",
       "version_major": 2,
       "version_minor": 0
      },
      "text/plain": [
       "HBox(children=(IntProgress(value=0, description='Epoch 195', max=323), HTML(value='')))"
      ]
     },
     "metadata": {},
     "output_type": "display_data"
    },
    {
     "data": {
      "application/vnd.jupyter.widget-view+json": {
       "model_id": "",
       "version_major": 2,
       "version_minor": 0
      },
      "text/plain": [
       "HBox(children=(IntProgress(value=0, description='Epoch 196', max=323), HTML(value='')))"
      ]
     },
     "metadata": {},
     "output_type": "display_data"
    },
    {
     "data": {
      "application/vnd.jupyter.widget-view+json": {
       "model_id": "",
       "version_major": 2,
       "version_minor": 0
      },
      "text/plain": [
       "HBox(children=(IntProgress(value=0, description='Epoch 197', max=323), HTML(value='')))"
      ]
     },
     "metadata": {},
     "output_type": "display_data"
    },
    {
     "data": {
      "application/vnd.jupyter.widget-view+json": {
       "model_id": "",
       "version_major": 2,
       "version_minor": 0
      },
      "text/plain": [
       "HBox(children=(IntProgress(value=0, description='Epoch 198', max=323), HTML(value='')))"
      ]
     },
     "metadata": {},
     "output_type": "display_data"
    },
    {
     "data": {
      "application/vnd.jupyter.widget-view+json": {
       "model_id": "",
       "version_major": 2,
       "version_minor": 0
      },
      "text/plain": [
       "HBox(children=(IntProgress(value=0, description='Epoch 199', max=323), HTML(value='')))"
      ]
     },
     "metadata": {},
     "output_type": "display_data"
    },
    {
     "data": {
      "application/vnd.jupyter.widget-view+json": {
       "model_id": "",
       "version_major": 2,
       "version_minor": 0
      },
      "text/plain": [
       "HBox(children=(IntProgress(value=0, description='Epoch 200', max=323), HTML(value='')))"
      ]
     },
     "metadata": {},
     "output_type": "display_data"
    },
    {
     "data": {
      "application/vnd.jupyter.widget-view+json": {
       "model_id": "",
       "version_major": 2,
       "version_minor": 0
      },
      "text/plain": [
       "HBox(children=(IntProgress(value=0, description='Epoch 201', max=323), HTML(value='')))"
      ]
     },
     "metadata": {},
     "output_type": "display_data"
    },
    {
     "data": {
      "application/vnd.jupyter.widget-view+json": {
       "model_id": "",
       "version_major": 2,
       "version_minor": 0
      },
      "text/plain": [
       "HBox(children=(IntProgress(value=0, description='Epoch 202', max=323), HTML(value='')))"
      ]
     },
     "metadata": {},
     "output_type": "display_data"
    },
    {
     "data": {
      "application/vnd.jupyter.widget-view+json": {
       "model_id": "",
       "version_major": 2,
       "version_minor": 0
      },
      "text/plain": [
       "HBox(children=(IntProgress(value=0, description='Epoch 203', max=323), HTML(value='')))"
      ]
     },
     "metadata": {},
     "output_type": "display_data"
    },
    {
     "data": {
      "application/vnd.jupyter.widget-view+json": {
       "model_id": "",
       "version_major": 2,
       "version_minor": 0
      },
      "text/plain": [
       "HBox(children=(IntProgress(value=0, description='Epoch 204', max=323), HTML(value='')))"
      ]
     },
     "metadata": {},
     "output_type": "display_data"
    },
    {
     "data": {
      "application/vnd.jupyter.widget-view+json": {
       "model_id": "",
       "version_major": 2,
       "version_minor": 0
      },
      "text/plain": [
       "HBox(children=(IntProgress(value=0, description='Epoch 205', max=323), HTML(value='')))"
      ]
     },
     "metadata": {},
     "output_type": "display_data"
    },
    {
     "data": {
      "application/vnd.jupyter.widget-view+json": {
       "model_id": "",
       "version_major": 2,
       "version_minor": 0
      },
      "text/plain": [
       "HBox(children=(IntProgress(value=0, description='Epoch 206', max=323), HTML(value='')))"
      ]
     },
     "metadata": {},
     "output_type": "display_data"
    },
    {
     "data": {
      "application/vnd.jupyter.widget-view+json": {
       "model_id": "",
       "version_major": 2,
       "version_minor": 0
      },
      "text/plain": [
       "HBox(children=(IntProgress(value=0, description='Epoch 207', max=323), HTML(value='')))"
      ]
     },
     "metadata": {},
     "output_type": "display_data"
    },
    {
     "data": {
      "application/vnd.jupyter.widget-view+json": {
       "model_id": "",
       "version_major": 2,
       "version_minor": 0
      },
      "text/plain": [
       "HBox(children=(IntProgress(value=0, description='Epoch 208', max=323), HTML(value='')))"
      ]
     },
     "metadata": {},
     "output_type": "display_data"
    },
    {
     "data": {
      "application/vnd.jupyter.widget-view+json": {
       "model_id": "",
       "version_major": 2,
       "version_minor": 0
      },
      "text/plain": [
       "HBox(children=(IntProgress(value=0, description='Epoch 209', max=323), HTML(value='')))"
      ]
     },
     "metadata": {},
     "output_type": "display_data"
    },
    {
     "data": {
      "application/vnd.jupyter.widget-view+json": {
       "model_id": "",
       "version_major": 2,
       "version_minor": 0
      },
      "text/plain": [
       "HBox(children=(IntProgress(value=0, description='Epoch 210', max=323), HTML(value='')))"
      ]
     },
     "metadata": {},
     "output_type": "display_data"
    },
    {
     "data": {
      "application/vnd.jupyter.widget-view+json": {
       "model_id": "",
       "version_major": 2,
       "version_minor": 0
      },
      "text/plain": [
       "HBox(children=(IntProgress(value=0, description='Epoch 211', max=323), HTML(value='')))"
      ]
     },
     "metadata": {},
     "output_type": "display_data"
    },
    {
     "data": {
      "application/vnd.jupyter.widget-view+json": {
       "model_id": "",
       "version_major": 2,
       "version_minor": 0
      },
      "text/plain": [
       "HBox(children=(IntProgress(value=0, description='Epoch 212', max=323), HTML(value='')))"
      ]
     },
     "metadata": {},
     "output_type": "display_data"
    },
    {
     "data": {
      "application/vnd.jupyter.widget-view+json": {
       "model_id": "",
       "version_major": 2,
       "version_minor": 0
      },
      "text/plain": [
       "HBox(children=(IntProgress(value=0, description='Epoch 213', max=323), HTML(value='')))"
      ]
     },
     "metadata": {},
     "output_type": "display_data"
    },
    {
     "data": {
      "application/vnd.jupyter.widget-view+json": {
       "model_id": "",
       "version_major": 2,
       "version_minor": 0
      },
      "text/plain": [
       "HBox(children=(IntProgress(value=0, description='Epoch 214', max=323), HTML(value='')))"
      ]
     },
     "metadata": {},
     "output_type": "display_data"
    },
    {
     "data": {
      "application/vnd.jupyter.widget-view+json": {
       "model_id": "",
       "version_major": 2,
       "version_minor": 0
      },
      "text/plain": [
       "HBox(children=(IntProgress(value=0, description='Epoch 215', max=323), HTML(value='')))"
      ]
     },
     "metadata": {},
     "output_type": "display_data"
    },
    {
     "data": {
      "application/vnd.jupyter.widget-view+json": {
       "model_id": "",
       "version_major": 2,
       "version_minor": 0
      },
      "text/plain": [
       "HBox(children=(IntProgress(value=0, description='Epoch 216', max=323), HTML(value='')))"
      ]
     },
     "metadata": {},
     "output_type": "display_data"
    },
    {
     "data": {
      "application/vnd.jupyter.widget-view+json": {
       "model_id": "",
       "version_major": 2,
       "version_minor": 0
      },
      "text/plain": [
       "HBox(children=(IntProgress(value=0, description='Epoch 217', max=323), HTML(value='')))"
      ]
     },
     "metadata": {},
     "output_type": "display_data"
    },
    {
     "data": {
      "application/vnd.jupyter.widget-view+json": {
       "model_id": "",
       "version_major": 2,
       "version_minor": 0
      },
      "text/plain": [
       "HBox(children=(IntProgress(value=0, description='Epoch 218', max=323), HTML(value='')))"
      ]
     },
     "metadata": {},
     "output_type": "display_data"
    },
    {
     "data": {
      "application/vnd.jupyter.widget-view+json": {
       "model_id": "",
       "version_major": 2,
       "version_minor": 0
      },
      "text/plain": [
       "HBox(children=(IntProgress(value=0, description='Epoch 219', max=323), HTML(value='')))"
      ]
     },
     "metadata": {},
     "output_type": "display_data"
    },
    {
     "data": {
      "application/vnd.jupyter.widget-view+json": {
       "model_id": "",
       "version_major": 2,
       "version_minor": 0
      },
      "text/plain": [
       "HBox(children=(IntProgress(value=0, description='Epoch 220', max=323), HTML(value='')))"
      ]
     },
     "metadata": {},
     "output_type": "display_data"
    },
    {
     "data": {
      "application/vnd.jupyter.widget-view+json": {
       "model_id": "",
       "version_major": 2,
       "version_minor": 0
      },
      "text/plain": [
       "HBox(children=(IntProgress(value=0, description='Epoch 221', max=323), HTML(value='')))"
      ]
     },
     "metadata": {},
     "output_type": "display_data"
    },
    {
     "data": {
      "application/vnd.jupyter.widget-view+json": {
       "model_id": "",
       "version_major": 2,
       "version_minor": 0
      },
      "text/plain": [
       "HBox(children=(IntProgress(value=0, description='Epoch 222', max=323), HTML(value='')))"
      ]
     },
     "metadata": {},
     "output_type": "display_data"
    },
    {
     "data": {
      "application/vnd.jupyter.widget-view+json": {
       "model_id": "",
       "version_major": 2,
       "version_minor": 0
      },
      "text/plain": [
       "HBox(children=(IntProgress(value=0, description='Epoch 223', max=323), HTML(value='')))"
      ]
     },
     "metadata": {},
     "output_type": "display_data"
    },
    {
     "data": {
      "application/vnd.jupyter.widget-view+json": {
       "model_id": "",
       "version_major": 2,
       "version_minor": 0
      },
      "text/plain": [
       "HBox(children=(IntProgress(value=0, description='Epoch 224', max=323), HTML(value='')))"
      ]
     },
     "metadata": {},
     "output_type": "display_data"
    },
    {
     "data": {
      "application/vnd.jupyter.widget-view+json": {
       "model_id": "",
       "version_major": 2,
       "version_minor": 0
      },
      "text/plain": [
       "HBox(children=(IntProgress(value=0, description='Epoch 225', max=323), HTML(value='')))"
      ]
     },
     "metadata": {},
     "output_type": "display_data"
    },
    {
     "data": {
      "application/vnd.jupyter.widget-view+json": {
       "model_id": "",
       "version_major": 2,
       "version_minor": 0
      },
      "text/plain": [
       "HBox(children=(IntProgress(value=0, description='Epoch 226', max=323), HTML(value='')))"
      ]
     },
     "metadata": {},
     "output_type": "display_data"
    },
    {
     "data": {
      "application/vnd.jupyter.widget-view+json": {
       "model_id": "",
       "version_major": 2,
       "version_minor": 0
      },
      "text/plain": [
       "HBox(children=(IntProgress(value=0, description='Epoch 227', max=323), HTML(value='')))"
      ]
     },
     "metadata": {},
     "output_type": "display_data"
    },
    {
     "data": {
      "application/vnd.jupyter.widget-view+json": {
       "model_id": "",
       "version_major": 2,
       "version_minor": 0
      },
      "text/plain": [
       "HBox(children=(IntProgress(value=0, description='Epoch 228', max=323), HTML(value='')))"
      ]
     },
     "metadata": {},
     "output_type": "display_data"
    },
    {
     "data": {
      "application/vnd.jupyter.widget-view+json": {
       "model_id": "",
       "version_major": 2,
       "version_minor": 0
      },
      "text/plain": [
       "HBox(children=(IntProgress(value=0, description='Epoch 229', max=323), HTML(value='')))"
      ]
     },
     "metadata": {},
     "output_type": "display_data"
    },
    {
     "data": {
      "application/vnd.jupyter.widget-view+json": {
       "model_id": "",
       "version_major": 2,
       "version_minor": 0
      },
      "text/plain": [
       "HBox(children=(IntProgress(value=0, description='Epoch 230', max=323), HTML(value='')))"
      ]
     },
     "metadata": {},
     "output_type": "display_data"
    },
    {
     "data": {
      "application/vnd.jupyter.widget-view+json": {
       "model_id": "",
       "version_major": 2,
       "version_minor": 0
      },
      "text/plain": [
       "HBox(children=(IntProgress(value=0, description='Epoch 231', max=323), HTML(value='')))"
      ]
     },
     "metadata": {},
     "output_type": "display_data"
    },
    {
     "data": {
      "application/vnd.jupyter.widget-view+json": {
       "model_id": "",
       "version_major": 2,
       "version_minor": 0
      },
      "text/plain": [
       "HBox(children=(IntProgress(value=0, description='Epoch 232', max=323), HTML(value='')))"
      ]
     },
     "metadata": {},
     "output_type": "display_data"
    },
    {
     "data": {
      "application/vnd.jupyter.widget-view+json": {
       "model_id": "",
       "version_major": 2,
       "version_minor": 0
      },
      "text/plain": [
       "HBox(children=(IntProgress(value=0, description='Epoch 233', max=323), HTML(value='')))"
      ]
     },
     "metadata": {},
     "output_type": "display_data"
    },
    {
     "data": {
      "application/vnd.jupyter.widget-view+json": {
       "model_id": "",
       "version_major": 2,
       "version_minor": 0
      },
      "text/plain": [
       "HBox(children=(IntProgress(value=0, description='Epoch 234', max=323), HTML(value='')))"
      ]
     },
     "metadata": {},
     "output_type": "display_data"
    },
    {
     "data": {
      "application/vnd.jupyter.widget-view+json": {
       "model_id": "",
       "version_major": 2,
       "version_minor": 0
      },
      "text/plain": [
       "HBox(children=(IntProgress(value=0, description='Epoch 235', max=323), HTML(value='')))"
      ]
     },
     "metadata": {},
     "output_type": "display_data"
    },
    {
     "data": {
      "application/vnd.jupyter.widget-view+json": {
       "model_id": "",
       "version_major": 2,
       "version_minor": 0
      },
      "text/plain": [
       "HBox(children=(IntProgress(value=0, description='Epoch 236', max=323), HTML(value='')))"
      ]
     },
     "metadata": {},
     "output_type": "display_data"
    },
    {
     "data": {
      "application/vnd.jupyter.widget-view+json": {
       "model_id": "",
       "version_major": 2,
       "version_minor": 0
      },
      "text/plain": [
       "HBox(children=(IntProgress(value=0, description='Epoch 237', max=323), HTML(value='')))"
      ]
     },
     "metadata": {},
     "output_type": "display_data"
    },
    {
     "data": {
      "application/vnd.jupyter.widget-view+json": {
       "model_id": "",
       "version_major": 2,
       "version_minor": 0
      },
      "text/plain": [
       "HBox(children=(IntProgress(value=0, description='Epoch 238', max=323), HTML(value='')))"
      ]
     },
     "metadata": {},
     "output_type": "display_data"
    },
    {
     "data": {
      "application/vnd.jupyter.widget-view+json": {
       "model_id": "",
       "version_major": 2,
       "version_minor": 0
      },
      "text/plain": [
       "HBox(children=(IntProgress(value=0, description='Epoch 239', max=323), HTML(value='')))"
      ]
     },
     "metadata": {},
     "output_type": "display_data"
    },
    {
     "data": {
      "application/vnd.jupyter.widget-view+json": {
       "model_id": "",
       "version_major": 2,
       "version_minor": 0
      },
      "text/plain": [
       "HBox(children=(IntProgress(value=0, description='Epoch 240', max=323), HTML(value='')))"
      ]
     },
     "metadata": {},
     "output_type": "display_data"
    },
    {
     "data": {
      "application/vnd.jupyter.widget-view+json": {
       "model_id": "",
       "version_major": 2,
       "version_minor": 0
      },
      "text/plain": [
       "HBox(children=(IntProgress(value=0, description='Epoch 241', max=323), HTML(value='')))"
      ]
     },
     "metadata": {},
     "output_type": "display_data"
    },
    {
     "data": {
      "application/vnd.jupyter.widget-view+json": {
       "model_id": "",
       "version_major": 2,
       "version_minor": 0
      },
      "text/plain": [
       "HBox(children=(IntProgress(value=0, description='Epoch 242', max=323), HTML(value='')))"
      ]
     },
     "metadata": {},
     "output_type": "display_data"
    },
    {
     "data": {
      "application/vnd.jupyter.widget-view+json": {
       "model_id": "",
       "version_major": 2,
       "version_minor": 0
      },
      "text/plain": [
       "HBox(children=(IntProgress(value=0, description='Epoch 243', max=323), HTML(value='')))"
      ]
     },
     "metadata": {},
     "output_type": "display_data"
    },
    {
     "data": {
      "application/vnd.jupyter.widget-view+json": {
       "model_id": "",
       "version_major": 2,
       "version_minor": 0
      },
      "text/plain": [
       "HBox(children=(IntProgress(value=0, description='Epoch 244', max=323), HTML(value='')))"
      ]
     },
     "metadata": {},
     "output_type": "display_data"
    },
    {
     "data": {
      "application/vnd.jupyter.widget-view+json": {
       "model_id": "",
       "version_major": 2,
       "version_minor": 0
      },
      "text/plain": [
       "HBox(children=(IntProgress(value=0, description='Epoch 245', max=323), HTML(value='')))"
      ]
     },
     "metadata": {},
     "output_type": "display_data"
    },
    {
     "data": {
      "application/vnd.jupyter.widget-view+json": {
       "model_id": "",
       "version_major": 2,
       "version_minor": 0
      },
      "text/plain": [
       "HBox(children=(IntProgress(value=0, description='Epoch 246', max=323), HTML(value='')))"
      ]
     },
     "metadata": {},
     "output_type": "display_data"
    },
    {
     "data": {
      "application/vnd.jupyter.widget-view+json": {
       "model_id": "",
       "version_major": 2,
       "version_minor": 0
      },
      "text/plain": [
       "HBox(children=(IntProgress(value=0, description='Epoch 247', max=323), HTML(value='')))"
      ]
     },
     "metadata": {},
     "output_type": "display_data"
    },
    {
     "data": {
      "application/vnd.jupyter.widget-view+json": {
       "model_id": "",
       "version_major": 2,
       "version_minor": 0
      },
      "text/plain": [
       "HBox(children=(IntProgress(value=0, description='Epoch 248', max=323), HTML(value='')))"
      ]
     },
     "metadata": {},
     "output_type": "display_data"
    },
    {
     "data": {
      "application/vnd.jupyter.widget-view+json": {
       "model_id": "",
       "version_major": 2,
       "version_minor": 0
      },
      "text/plain": [
       "HBox(children=(IntProgress(value=0, description='Epoch 249', max=323), HTML(value='')))"
      ]
     },
     "metadata": {},
     "output_type": "display_data"
    },
    {
     "data": {
      "application/vnd.jupyter.widget-view+json": {
       "model_id": "",
       "version_major": 2,
       "version_minor": 0
      },
      "text/plain": [
       "HBox(children=(IntProgress(value=0, description='Epoch 250', max=323), HTML(value='')))"
      ]
     },
     "metadata": {},
     "output_type": "display_data"
    },
    {
     "data": {
      "application/vnd.jupyter.widget-view+json": {
       "model_id": "",
       "version_major": 2,
       "version_minor": 0
      },
      "text/plain": [
       "HBox(children=(IntProgress(value=0, description='Epoch 251', max=323), HTML(value='')))"
      ]
     },
     "metadata": {},
     "output_type": "display_data"
    },
    {
     "data": {
      "application/vnd.jupyter.widget-view+json": {
       "model_id": "",
       "version_major": 2,
       "version_minor": 0
      },
      "text/plain": [
       "HBox(children=(IntProgress(value=0, description='Epoch 252', max=323), HTML(value='')))"
      ]
     },
     "metadata": {},
     "output_type": "display_data"
    },
    {
     "data": {
      "application/vnd.jupyter.widget-view+json": {
       "model_id": "",
       "version_major": 2,
       "version_minor": 0
      },
      "text/plain": [
       "HBox(children=(IntProgress(value=0, description='Epoch 253', max=323), HTML(value='')))"
      ]
     },
     "metadata": {},
     "output_type": "display_data"
    },
    {
     "data": {
      "application/vnd.jupyter.widget-view+json": {
       "model_id": "",
       "version_major": 2,
       "version_minor": 0
      },
      "text/plain": [
       "HBox(children=(IntProgress(value=0, description='Epoch 254', max=323), HTML(value='')))"
      ]
     },
     "metadata": {},
     "output_type": "display_data"
    },
    {
     "data": {
      "application/vnd.jupyter.widget-view+json": {
       "model_id": "",
       "version_major": 2,
       "version_minor": 0
      },
      "text/plain": [
       "HBox(children=(IntProgress(value=0, description='Epoch 255', max=323), HTML(value='')))"
      ]
     },
     "metadata": {},
     "output_type": "display_data"
    },
    {
     "data": {
      "application/vnd.jupyter.widget-view+json": {
       "model_id": "",
       "version_major": 2,
       "version_minor": 0
      },
      "text/plain": [
       "HBox(children=(IntProgress(value=0, description='Epoch 256', max=323), HTML(value='')))"
      ]
     },
     "metadata": {},
     "output_type": "display_data"
    },
    {
     "data": {
      "application/vnd.jupyter.widget-view+json": {
       "model_id": "",
       "version_major": 2,
       "version_minor": 0
      },
      "text/plain": [
       "HBox(children=(IntProgress(value=0, description='Epoch 257', max=323), HTML(value='')))"
      ]
     },
     "metadata": {},
     "output_type": "display_data"
    },
    {
     "data": {
      "application/vnd.jupyter.widget-view+json": {
       "model_id": "",
       "version_major": 2,
       "version_minor": 0
      },
      "text/plain": [
       "HBox(children=(IntProgress(value=0, description='Epoch 258', max=323), HTML(value='')))"
      ]
     },
     "metadata": {},
     "output_type": "display_data"
    },
    {
     "data": {
      "application/vnd.jupyter.widget-view+json": {
       "model_id": "",
       "version_major": 2,
       "version_minor": 0
      },
      "text/plain": [
       "HBox(children=(IntProgress(value=0, description='Epoch 259', max=323), HTML(value='')))"
      ]
     },
     "metadata": {},
     "output_type": "display_data"
    },
    {
     "data": {
      "application/vnd.jupyter.widget-view+json": {
       "model_id": "",
       "version_major": 2,
       "version_minor": 0
      },
      "text/plain": [
       "HBox(children=(IntProgress(value=0, description='Epoch 260', max=323), HTML(value='')))"
      ]
     },
     "metadata": {},
     "output_type": "display_data"
    },
    {
     "data": {
      "application/vnd.jupyter.widget-view+json": {
       "model_id": "",
       "version_major": 2,
       "version_minor": 0
      },
      "text/plain": [
       "HBox(children=(IntProgress(value=0, description='Epoch 261', max=323), HTML(value='')))"
      ]
     },
     "metadata": {},
     "output_type": "display_data"
    },
    {
     "data": {
      "application/vnd.jupyter.widget-view+json": {
       "model_id": "",
       "version_major": 2,
       "version_minor": 0
      },
      "text/plain": [
       "HBox(children=(IntProgress(value=0, description='Epoch 262', max=323), HTML(value='')))"
      ]
     },
     "metadata": {},
     "output_type": "display_data"
    },
    {
     "data": {
      "application/vnd.jupyter.widget-view+json": {
       "model_id": "",
       "version_major": 2,
       "version_minor": 0
      },
      "text/plain": [
       "HBox(children=(IntProgress(value=0, description='Epoch 263', max=323), HTML(value='')))"
      ]
     },
     "metadata": {},
     "output_type": "display_data"
    },
    {
     "data": {
      "application/vnd.jupyter.widget-view+json": {
       "model_id": "",
       "version_major": 2,
       "version_minor": 0
      },
      "text/plain": [
       "HBox(children=(IntProgress(value=0, description='Epoch 264', max=323), HTML(value='')))"
      ]
     },
     "metadata": {},
     "output_type": "display_data"
    },
    {
     "data": {
      "application/vnd.jupyter.widget-view+json": {
       "model_id": "",
       "version_major": 2,
       "version_minor": 0
      },
      "text/plain": [
       "HBox(children=(IntProgress(value=0, description='Epoch 265', max=323), HTML(value='')))"
      ]
     },
     "metadata": {},
     "output_type": "display_data"
    },
    {
     "data": {
      "application/vnd.jupyter.widget-view+json": {
       "model_id": "",
       "version_major": 2,
       "version_minor": 0
      },
      "text/plain": [
       "HBox(children=(IntProgress(value=0, description='Epoch 266', max=323), HTML(value='')))"
      ]
     },
     "metadata": {},
     "output_type": "display_data"
    },
    {
     "data": {
      "application/vnd.jupyter.widget-view+json": {
       "model_id": "",
       "version_major": 2,
       "version_minor": 0
      },
      "text/plain": [
       "HBox(children=(IntProgress(value=0, description='Epoch 267', max=323), HTML(value='')))"
      ]
     },
     "metadata": {},
     "output_type": "display_data"
    },
    {
     "data": {
      "application/vnd.jupyter.widget-view+json": {
       "model_id": "",
       "version_major": 2,
       "version_minor": 0
      },
      "text/plain": [
       "HBox(children=(IntProgress(value=0, description='Epoch 268', max=323), HTML(value='')))"
      ]
     },
     "metadata": {},
     "output_type": "display_data"
    },
    {
     "data": {
      "application/vnd.jupyter.widget-view+json": {
       "model_id": "",
       "version_major": 2,
       "version_minor": 0
      },
      "text/plain": [
       "HBox(children=(IntProgress(value=0, description='Epoch 269', max=323), HTML(value='')))"
      ]
     },
     "metadata": {},
     "output_type": "display_data"
    },
    {
     "data": {
      "application/vnd.jupyter.widget-view+json": {
       "model_id": "",
       "version_major": 2,
       "version_minor": 0
      },
      "text/plain": [
       "HBox(children=(IntProgress(value=0, description='Epoch 270', max=323), HTML(value='')))"
      ]
     },
     "metadata": {},
     "output_type": "display_data"
    },
    {
     "data": {
      "application/vnd.jupyter.widget-view+json": {
       "model_id": "",
       "version_major": 2,
       "version_minor": 0
      },
      "text/plain": [
       "HBox(children=(IntProgress(value=0, description='Epoch 271', max=323), HTML(value='')))"
      ]
     },
     "metadata": {},
     "output_type": "display_data"
    },
    {
     "data": {
      "application/vnd.jupyter.widget-view+json": {
       "model_id": "",
       "version_major": 2,
       "version_minor": 0
      },
      "text/plain": [
       "HBox(children=(IntProgress(value=0, description='Epoch 272', max=323), HTML(value='')))"
      ]
     },
     "metadata": {},
     "output_type": "display_data"
    },
    {
     "data": {
      "application/vnd.jupyter.widget-view+json": {
       "model_id": "",
       "version_major": 2,
       "version_minor": 0
      },
      "text/plain": [
       "HBox(children=(IntProgress(value=0, description='Epoch 273', max=323), HTML(value='')))"
      ]
     },
     "metadata": {},
     "output_type": "display_data"
    },
    {
     "data": {
      "application/vnd.jupyter.widget-view+json": {
       "model_id": "",
       "version_major": 2,
       "version_minor": 0
      },
      "text/plain": [
       "HBox(children=(IntProgress(value=0, description='Epoch 274', max=323), HTML(value='')))"
      ]
     },
     "metadata": {},
     "output_type": "display_data"
    },
    {
     "data": {
      "application/vnd.jupyter.widget-view+json": {
       "model_id": "",
       "version_major": 2,
       "version_minor": 0
      },
      "text/plain": [
       "HBox(children=(IntProgress(value=0, description='Epoch 275', max=323), HTML(value='')))"
      ]
     },
     "metadata": {},
     "output_type": "display_data"
    },
    {
     "data": {
      "application/vnd.jupyter.widget-view+json": {
       "model_id": "",
       "version_major": 2,
       "version_minor": 0
      },
      "text/plain": [
       "HBox(children=(IntProgress(value=0, description='Epoch 276', max=323), HTML(value='')))"
      ]
     },
     "metadata": {},
     "output_type": "display_data"
    },
    {
     "data": {
      "application/vnd.jupyter.widget-view+json": {
       "model_id": "",
       "version_major": 2,
       "version_minor": 0
      },
      "text/plain": [
       "HBox(children=(IntProgress(value=0, description='Epoch 277', max=323), HTML(value='')))"
      ]
     },
     "metadata": {},
     "output_type": "display_data"
    },
    {
     "data": {
      "application/vnd.jupyter.widget-view+json": {
       "model_id": "",
       "version_major": 2,
       "version_minor": 0
      },
      "text/plain": [
       "HBox(children=(IntProgress(value=0, description='Epoch 278', max=323), HTML(value='')))"
      ]
     },
     "metadata": {},
     "output_type": "display_data"
    },
    {
     "data": {
      "application/vnd.jupyter.widget-view+json": {
       "model_id": "",
       "version_major": 2,
       "version_minor": 0
      },
      "text/plain": [
       "HBox(children=(IntProgress(value=0, description='Epoch 279', max=323), HTML(value='')))"
      ]
     },
     "metadata": {},
     "output_type": "display_data"
    },
    {
     "data": {
      "application/vnd.jupyter.widget-view+json": {
       "model_id": "",
       "version_major": 2,
       "version_minor": 0
      },
      "text/plain": [
       "HBox(children=(IntProgress(value=0, description='Epoch 280', max=323), HTML(value='')))"
      ]
     },
     "metadata": {},
     "output_type": "display_data"
    },
    {
     "data": {
      "application/vnd.jupyter.widget-view+json": {
       "model_id": "",
       "version_major": 2,
       "version_minor": 0
      },
      "text/plain": [
       "HBox(children=(IntProgress(value=0, description='Epoch 281', max=323), HTML(value='')))"
      ]
     },
     "metadata": {},
     "output_type": "display_data"
    },
    {
     "data": {
      "application/vnd.jupyter.widget-view+json": {
       "model_id": "",
       "version_major": 2,
       "version_minor": 0
      },
      "text/plain": [
       "HBox(children=(IntProgress(value=0, description='Epoch 282', max=323), HTML(value='')))"
      ]
     },
     "metadata": {},
     "output_type": "display_data"
    },
    {
     "data": {
      "application/vnd.jupyter.widget-view+json": {
       "model_id": "",
       "version_major": 2,
       "version_minor": 0
      },
      "text/plain": [
       "HBox(children=(IntProgress(value=0, description='Epoch 283', max=323), HTML(value='')))"
      ]
     },
     "metadata": {},
     "output_type": "display_data"
    },
    {
     "data": {
      "application/vnd.jupyter.widget-view+json": {
       "model_id": "",
       "version_major": 2,
       "version_minor": 0
      },
      "text/plain": [
       "HBox(children=(IntProgress(value=0, description='Epoch 284', max=323), HTML(value='')))"
      ]
     },
     "metadata": {},
     "output_type": "display_data"
    },
    {
     "data": {
      "application/vnd.jupyter.widget-view+json": {
       "model_id": "",
       "version_major": 2,
       "version_minor": 0
      },
      "text/plain": [
       "HBox(children=(IntProgress(value=0, description='Epoch 285', max=323), HTML(value='')))"
      ]
     },
     "metadata": {},
     "output_type": "display_data"
    },
    {
     "data": {
      "application/vnd.jupyter.widget-view+json": {
       "model_id": "",
       "version_major": 2,
       "version_minor": 0
      },
      "text/plain": [
       "HBox(children=(IntProgress(value=0, description='Epoch 286', max=323), HTML(value='')))"
      ]
     },
     "metadata": {},
     "output_type": "display_data"
    },
    {
     "data": {
      "application/vnd.jupyter.widget-view+json": {
       "model_id": "",
       "version_major": 2,
       "version_minor": 0
      },
      "text/plain": [
       "HBox(children=(IntProgress(value=0, description='Epoch 287', max=323), HTML(value='')))"
      ]
     },
     "metadata": {},
     "output_type": "display_data"
    },
    {
     "data": {
      "application/vnd.jupyter.widget-view+json": {
       "model_id": "",
       "version_major": 2,
       "version_minor": 0
      },
      "text/plain": [
       "HBox(children=(IntProgress(value=0, description='Epoch 288', max=323), HTML(value='')))"
      ]
     },
     "metadata": {},
     "output_type": "display_data"
    },
    {
     "data": {
      "application/vnd.jupyter.widget-view+json": {
       "model_id": "",
       "version_major": 2,
       "version_minor": 0
      },
      "text/plain": [
       "HBox(children=(IntProgress(value=0, description='Epoch 289', max=323), HTML(value='')))"
      ]
     },
     "metadata": {},
     "output_type": "display_data"
    },
    {
     "data": {
      "application/vnd.jupyter.widget-view+json": {
       "model_id": "",
       "version_major": 2,
       "version_minor": 0
      },
      "text/plain": [
       "HBox(children=(IntProgress(value=0, description='Epoch 290', max=323), HTML(value='')))"
      ]
     },
     "metadata": {},
     "output_type": "display_data"
    },
    {
     "data": {
      "application/vnd.jupyter.widget-view+json": {
       "model_id": "",
       "version_major": 2,
       "version_minor": 0
      },
      "text/plain": [
       "HBox(children=(IntProgress(value=0, description='Epoch 291', max=323), HTML(value='')))"
      ]
     },
     "metadata": {},
     "output_type": "display_data"
    },
    {
     "data": {
      "application/vnd.jupyter.widget-view+json": {
       "model_id": "",
       "version_major": 2,
       "version_minor": 0
      },
      "text/plain": [
       "HBox(children=(IntProgress(value=0, description='Epoch 292', max=323), HTML(value='')))"
      ]
     },
     "metadata": {},
     "output_type": "display_data"
    },
    {
     "data": {
      "application/vnd.jupyter.widget-view+json": {
       "model_id": "",
       "version_major": 2,
       "version_minor": 0
      },
      "text/plain": [
       "HBox(children=(IntProgress(value=0, description='Epoch 293', max=323), HTML(value='')))"
      ]
     },
     "metadata": {},
     "output_type": "display_data"
    },
    {
     "data": {
      "application/vnd.jupyter.widget-view+json": {
       "model_id": "",
       "version_major": 2,
       "version_minor": 0
      },
      "text/plain": [
       "HBox(children=(IntProgress(value=0, description='Epoch 294', max=323), HTML(value='')))"
      ]
     },
     "metadata": {},
     "output_type": "display_data"
    },
    {
     "data": {
      "application/vnd.jupyter.widget-view+json": {
       "model_id": "",
       "version_major": 2,
       "version_minor": 0
      },
      "text/plain": [
       "HBox(children=(IntProgress(value=0, description='Epoch 295', max=323), HTML(value='')))"
      ]
     },
     "metadata": {},
     "output_type": "display_data"
    },
    {
     "data": {
      "application/vnd.jupyter.widget-view+json": {
       "model_id": "",
       "version_major": 2,
       "version_minor": 0
      },
      "text/plain": [
       "HBox(children=(IntProgress(value=0, description='Epoch 296', max=323), HTML(value='')))"
      ]
     },
     "metadata": {},
     "output_type": "display_data"
    },
    {
     "data": {
      "application/vnd.jupyter.widget-view+json": {
       "model_id": "",
       "version_major": 2,
       "version_minor": 0
      },
      "text/plain": [
       "HBox(children=(IntProgress(value=0, description='Epoch 297', max=323), HTML(value='')))"
      ]
     },
     "metadata": {},
     "output_type": "display_data"
    },
    {
     "data": {
      "application/vnd.jupyter.widget-view+json": {
       "model_id": "",
       "version_major": 2,
       "version_minor": 0
      },
      "text/plain": [
       "HBox(children=(IntProgress(value=0, description='Epoch 298', max=323), HTML(value='')))"
      ]
     },
     "metadata": {},
     "output_type": "display_data"
    },
    {
     "data": {
      "application/vnd.jupyter.widget-view+json": {
       "model_id": "",
       "version_major": 2,
       "version_minor": 0
      },
      "text/plain": [
       "HBox(children=(IntProgress(value=0, description='Epoch 299', max=323), HTML(value='')))"
      ]
     },
     "metadata": {},
     "output_type": "display_data"
    },
    {
     "data": {
      "application/vnd.jupyter.widget-view+json": {
       "model_id": "",
       "version_major": 2,
       "version_minor": 0
      },
      "text/plain": [
       "HBox(children=(IntProgress(value=0, description='Epoch 300', max=323), HTML(value='')))"
      ]
     },
     "metadata": {},
     "output_type": "display_data"
    },
    {
     "data": {
      "application/vnd.jupyter.widget-view+json": {
       "model_id": "",
       "version_major": 2,
       "version_minor": 0
      },
      "text/plain": [
       "HBox(children=(IntProgress(value=0, description='Epoch 301', max=323), HTML(value='')))"
      ]
     },
     "metadata": {},
     "output_type": "display_data"
    },
    {
     "data": {
      "application/vnd.jupyter.widget-view+json": {
       "model_id": "",
       "version_major": 2,
       "version_minor": 0
      },
      "text/plain": [
       "HBox(children=(IntProgress(value=0, description='Epoch 302', max=323), HTML(value='')))"
      ]
     },
     "metadata": {},
     "output_type": "display_data"
    },
    {
     "data": {
      "application/vnd.jupyter.widget-view+json": {
       "model_id": "",
       "version_major": 2,
       "version_minor": 0
      },
      "text/plain": [
       "HBox(children=(IntProgress(value=0, description='Epoch 303', max=323), HTML(value='')))"
      ]
     },
     "metadata": {},
     "output_type": "display_data"
    },
    {
     "data": {
      "application/vnd.jupyter.widget-view+json": {
       "model_id": "",
       "version_major": 2,
       "version_minor": 0
      },
      "text/plain": [
       "HBox(children=(IntProgress(value=0, description='Epoch 304', max=323), HTML(value='')))"
      ]
     },
     "metadata": {},
     "output_type": "display_data"
    },
    {
     "data": {
      "application/vnd.jupyter.widget-view+json": {
       "model_id": "",
       "version_major": 2,
       "version_minor": 0
      },
      "text/plain": [
       "HBox(children=(IntProgress(value=0, description='Epoch 305', max=323), HTML(value='')))"
      ]
     },
     "metadata": {},
     "output_type": "display_data"
    },
    {
     "data": {
      "application/vnd.jupyter.widget-view+json": {
       "model_id": "",
       "version_major": 2,
       "version_minor": 0
      },
      "text/plain": [
       "HBox(children=(IntProgress(value=0, description='Epoch 306', max=323), HTML(value='')))"
      ]
     },
     "metadata": {},
     "output_type": "display_data"
    },
    {
     "data": {
      "application/vnd.jupyter.widget-view+json": {
       "model_id": "",
       "version_major": 2,
       "version_minor": 0
      },
      "text/plain": [
       "HBox(children=(IntProgress(value=0, description='Epoch 307', max=323), HTML(value='')))"
      ]
     },
     "metadata": {},
     "output_type": "display_data"
    },
    {
     "data": {
      "application/vnd.jupyter.widget-view+json": {
       "model_id": "",
       "version_major": 2,
       "version_minor": 0
      },
      "text/plain": [
       "HBox(children=(IntProgress(value=0, description='Epoch 308', max=323), HTML(value='')))"
      ]
     },
     "metadata": {},
     "output_type": "display_data"
    },
    {
     "data": {
      "application/vnd.jupyter.widget-view+json": {
       "model_id": "",
       "version_major": 2,
       "version_minor": 0
      },
      "text/plain": [
       "HBox(children=(IntProgress(value=0, description='Epoch 309', max=323), HTML(value='')))"
      ]
     },
     "metadata": {},
     "output_type": "display_data"
    },
    {
     "data": {
      "application/vnd.jupyter.widget-view+json": {
       "model_id": "",
       "version_major": 2,
       "version_minor": 0
      },
      "text/plain": [
       "HBox(children=(IntProgress(value=0, description='Epoch 310', max=323), HTML(value='')))"
      ]
     },
     "metadata": {},
     "output_type": "display_data"
    },
    {
     "data": {
      "application/vnd.jupyter.widget-view+json": {
       "model_id": "",
       "version_major": 2,
       "version_minor": 0
      },
      "text/plain": [
       "HBox(children=(IntProgress(value=0, description='Epoch 311', max=323), HTML(value='')))"
      ]
     },
     "metadata": {},
     "output_type": "display_data"
    },
    {
     "data": {
      "application/vnd.jupyter.widget-view+json": {
       "model_id": "",
       "version_major": 2,
       "version_minor": 0
      },
      "text/plain": [
       "HBox(children=(IntProgress(value=0, description='Epoch 312', max=323), HTML(value='')))"
      ]
     },
     "metadata": {},
     "output_type": "display_data"
    },
    {
     "data": {
      "application/vnd.jupyter.widget-view+json": {
       "model_id": "",
       "version_major": 2,
       "version_minor": 0
      },
      "text/plain": [
       "HBox(children=(IntProgress(value=0, description='Epoch 313', max=323), HTML(value='')))"
      ]
     },
     "metadata": {},
     "output_type": "display_data"
    },
    {
     "data": {
      "application/vnd.jupyter.widget-view+json": {
       "model_id": "",
       "version_major": 2,
       "version_minor": 0
      },
      "text/plain": [
       "HBox(children=(IntProgress(value=0, description='Epoch 314', max=323), HTML(value='')))"
      ]
     },
     "metadata": {},
     "output_type": "display_data"
    },
    {
     "data": {
      "application/vnd.jupyter.widget-view+json": {
       "model_id": "",
       "version_major": 2,
       "version_minor": 0
      },
      "text/plain": [
       "HBox(children=(IntProgress(value=0, description='Epoch 315', max=323), HTML(value='')))"
      ]
     },
     "metadata": {},
     "output_type": "display_data"
    },
    {
     "data": {
      "application/vnd.jupyter.widget-view+json": {
       "model_id": "",
       "version_major": 2,
       "version_minor": 0
      },
      "text/plain": [
       "HBox(children=(IntProgress(value=0, description='Epoch 316', max=323), HTML(value='')))"
      ]
     },
     "metadata": {},
     "output_type": "display_data"
    },
    {
     "data": {
      "application/vnd.jupyter.widget-view+json": {
       "model_id": "",
       "version_major": 2,
       "version_minor": 0
      },
      "text/plain": [
       "HBox(children=(IntProgress(value=0, description='Epoch 317', max=323), HTML(value='')))"
      ]
     },
     "metadata": {},
     "output_type": "display_data"
    },
    {
     "data": {
      "application/vnd.jupyter.widget-view+json": {
       "model_id": "",
       "version_major": 2,
       "version_minor": 0
      },
      "text/plain": [
       "HBox(children=(IntProgress(value=0, description='Epoch 318', max=323), HTML(value='')))"
      ]
     },
     "metadata": {},
     "output_type": "display_data"
    },
    {
     "data": {
      "application/vnd.jupyter.widget-view+json": {
       "model_id": "",
       "version_major": 2,
       "version_minor": 0
      },
      "text/plain": [
       "HBox(children=(IntProgress(value=0, description='Epoch 319', max=323), HTML(value='')))"
      ]
     },
     "metadata": {},
     "output_type": "display_data"
    },
    {
     "data": {
      "application/vnd.jupyter.widget-view+json": {
       "model_id": "",
       "version_major": 2,
       "version_minor": 0
      },
      "text/plain": [
       "HBox(children=(IntProgress(value=0, description='Epoch 320', max=323), HTML(value='')))"
      ]
     },
     "metadata": {},
     "output_type": "display_data"
    },
    {
     "data": {
      "application/vnd.jupyter.widget-view+json": {
       "model_id": "",
       "version_major": 2,
       "version_minor": 0
      },
      "text/plain": [
       "HBox(children=(IntProgress(value=0, description='Epoch 321', max=323), HTML(value='')))"
      ]
     },
     "metadata": {},
     "output_type": "display_data"
    },
    {
     "data": {
      "application/vnd.jupyter.widget-view+json": {
       "model_id": "",
       "version_major": 2,
       "version_minor": 0
      },
      "text/plain": [
       "HBox(children=(IntProgress(value=0, description='Epoch 322', max=323), HTML(value='')))"
      ]
     },
     "metadata": {},
     "output_type": "display_data"
    },
    {
     "data": {
      "application/vnd.jupyter.widget-view+json": {
       "model_id": "",
       "version_major": 2,
       "version_minor": 0
      },
      "text/plain": [
       "HBox(children=(IntProgress(value=0, description='Epoch 323', max=323), HTML(value='')))"
      ]
     },
     "metadata": {},
     "output_type": "display_data"
    },
    {
     "data": {
      "application/vnd.jupyter.widget-view+json": {
       "model_id": "",
       "version_major": 2,
       "version_minor": 0
      },
      "text/plain": [
       "HBox(children=(IntProgress(value=0, description='Epoch 324', max=323), HTML(value='')))"
      ]
     },
     "metadata": {},
     "output_type": "display_data"
    },
    {
     "data": {
      "application/vnd.jupyter.widget-view+json": {
       "model_id": "",
       "version_major": 2,
       "version_minor": 0
      },
      "text/plain": [
       "HBox(children=(IntProgress(value=0, description='Epoch 325', max=323), HTML(value='')))"
      ]
     },
     "metadata": {},
     "output_type": "display_data"
    },
    {
     "data": {
      "application/vnd.jupyter.widget-view+json": {
       "model_id": "",
       "version_major": 2,
       "version_minor": 0
      },
      "text/plain": [
       "HBox(children=(IntProgress(value=0, description='Epoch 326', max=323), HTML(value='')))"
      ]
     },
     "metadata": {},
     "output_type": "display_data"
    },
    {
     "data": {
      "application/vnd.jupyter.widget-view+json": {
       "model_id": "",
       "version_major": 2,
       "version_minor": 0
      },
      "text/plain": [
       "HBox(children=(IntProgress(value=0, description='Epoch 327', max=323), HTML(value='')))"
      ]
     },
     "metadata": {},
     "output_type": "display_data"
    },
    {
     "data": {
      "application/vnd.jupyter.widget-view+json": {
       "model_id": "",
       "version_major": 2,
       "version_minor": 0
      },
      "text/plain": [
       "HBox(children=(IntProgress(value=0, description='Epoch 328', max=323), HTML(value='')))"
      ]
     },
     "metadata": {},
     "output_type": "display_data"
    },
    {
     "data": {
      "application/vnd.jupyter.widget-view+json": {
       "model_id": "",
       "version_major": 2,
       "version_minor": 0
      },
      "text/plain": [
       "HBox(children=(IntProgress(value=0, description='Epoch 329', max=323), HTML(value='')))"
      ]
     },
     "metadata": {},
     "output_type": "display_data"
    },
    {
     "data": {
      "application/vnd.jupyter.widget-view+json": {
       "model_id": "",
       "version_major": 2,
       "version_minor": 0
      },
      "text/plain": [
       "HBox(children=(IntProgress(value=0, description='Epoch 330', max=323), HTML(value='')))"
      ]
     },
     "metadata": {},
     "output_type": "display_data"
    },
    {
     "data": {
      "application/vnd.jupyter.widget-view+json": {
       "model_id": "",
       "version_major": 2,
       "version_minor": 0
      },
      "text/plain": [
       "HBox(children=(IntProgress(value=0, description='Epoch 331', max=323), HTML(value='')))"
      ]
     },
     "metadata": {},
     "output_type": "display_data"
    },
    {
     "data": {
      "application/vnd.jupyter.widget-view+json": {
       "model_id": "",
       "version_major": 2,
       "version_minor": 0
      },
      "text/plain": [
       "HBox(children=(IntProgress(value=0, description='Epoch 332', max=323), HTML(value='')))"
      ]
     },
     "metadata": {},
     "output_type": "display_data"
    },
    {
     "data": {
      "application/vnd.jupyter.widget-view+json": {
       "model_id": "",
       "version_major": 2,
       "version_minor": 0
      },
      "text/plain": [
       "HBox(children=(IntProgress(value=0, description='Epoch 333', max=323), HTML(value='')))"
      ]
     },
     "metadata": {},
     "output_type": "display_data"
    },
    {
     "data": {
      "application/vnd.jupyter.widget-view+json": {
       "model_id": "",
       "version_major": 2,
       "version_minor": 0
      },
      "text/plain": [
       "HBox(children=(IntProgress(value=0, description='Epoch 334', max=323), HTML(value='')))"
      ]
     },
     "metadata": {},
     "output_type": "display_data"
    },
    {
     "data": {
      "application/vnd.jupyter.widget-view+json": {
       "model_id": "",
       "version_major": 2,
       "version_minor": 0
      },
      "text/plain": [
       "HBox(children=(IntProgress(value=0, description='Epoch 335', max=323), HTML(value='')))"
      ]
     },
     "metadata": {},
     "output_type": "display_data"
    },
    {
     "data": {
      "application/vnd.jupyter.widget-view+json": {
       "model_id": "",
       "version_major": 2,
       "version_minor": 0
      },
      "text/plain": [
       "HBox(children=(IntProgress(value=0, description='Epoch 336', max=323), HTML(value='')))"
      ]
     },
     "metadata": {},
     "output_type": "display_data"
    },
    {
     "data": {
      "application/vnd.jupyter.widget-view+json": {
       "model_id": "",
       "version_major": 2,
       "version_minor": 0
      },
      "text/plain": [
       "HBox(children=(IntProgress(value=0, description='Epoch 337', max=323), HTML(value='')))"
      ]
     },
     "metadata": {},
     "output_type": "display_data"
    },
    {
     "data": {
      "application/vnd.jupyter.widget-view+json": {
       "model_id": "",
       "version_major": 2,
       "version_minor": 0
      },
      "text/plain": [
       "HBox(children=(IntProgress(value=0, description='Epoch 338', max=323), HTML(value='')))"
      ]
     },
     "metadata": {},
     "output_type": "display_data"
    },
    {
     "data": {
      "application/vnd.jupyter.widget-view+json": {
       "model_id": "",
       "version_major": 2,
       "version_minor": 0
      },
      "text/plain": [
       "HBox(children=(IntProgress(value=0, description='Epoch 339', max=323), HTML(value='')))"
      ]
     },
     "metadata": {},
     "output_type": "display_data"
    },
    {
     "data": {
      "application/vnd.jupyter.widget-view+json": {
       "model_id": "",
       "version_major": 2,
       "version_minor": 0
      },
      "text/plain": [
       "HBox(children=(IntProgress(value=0, description='Epoch 340', max=323), HTML(value='')))"
      ]
     },
     "metadata": {},
     "output_type": "display_data"
    },
    {
     "data": {
      "application/vnd.jupyter.widget-view+json": {
       "model_id": "",
       "version_major": 2,
       "version_minor": 0
      },
      "text/plain": [
       "HBox(children=(IntProgress(value=0, description='Epoch 341', max=323), HTML(value='')))"
      ]
     },
     "metadata": {},
     "output_type": "display_data"
    },
    {
     "data": {
      "application/vnd.jupyter.widget-view+json": {
       "model_id": "",
       "version_major": 2,
       "version_minor": 0
      },
      "text/plain": [
       "HBox(children=(IntProgress(value=0, description='Epoch 342', max=323), HTML(value='')))"
      ]
     },
     "metadata": {},
     "output_type": "display_data"
    },
    {
     "data": {
      "application/vnd.jupyter.widget-view+json": {
       "model_id": "",
       "version_major": 2,
       "version_minor": 0
      },
      "text/plain": [
       "HBox(children=(IntProgress(value=0, description='Epoch 343', max=323), HTML(value='')))"
      ]
     },
     "metadata": {},
     "output_type": "display_data"
    },
    {
     "data": {
      "application/vnd.jupyter.widget-view+json": {
       "model_id": "",
       "version_major": 2,
       "version_minor": 0
      },
      "text/plain": [
       "HBox(children=(IntProgress(value=0, description='Epoch 344', max=323), HTML(value='')))"
      ]
     },
     "metadata": {},
     "output_type": "display_data"
    },
    {
     "data": {
      "application/vnd.jupyter.widget-view+json": {
       "model_id": "",
       "version_major": 2,
       "version_minor": 0
      },
      "text/plain": [
       "HBox(children=(IntProgress(value=0, description='Epoch 345', max=323), HTML(value='')))"
      ]
     },
     "metadata": {},
     "output_type": "display_data"
    },
    {
     "data": {
      "application/vnd.jupyter.widget-view+json": {
       "model_id": "",
       "version_major": 2,
       "version_minor": 0
      },
      "text/plain": [
       "HBox(children=(IntProgress(value=0, description='Epoch 346', max=323), HTML(value='')))"
      ]
     },
     "metadata": {},
     "output_type": "display_data"
    },
    {
     "data": {
      "application/vnd.jupyter.widget-view+json": {
       "model_id": "",
       "version_major": 2,
       "version_minor": 0
      },
      "text/plain": [
       "HBox(children=(IntProgress(value=0, description='Epoch 347', max=323), HTML(value='')))"
      ]
     },
     "metadata": {},
     "output_type": "display_data"
    },
    {
     "data": {
      "application/vnd.jupyter.widget-view+json": {
       "model_id": "",
       "version_major": 2,
       "version_minor": 0
      },
      "text/plain": [
       "HBox(children=(IntProgress(value=0, description='Epoch 348', max=323), HTML(value='')))"
      ]
     },
     "metadata": {},
     "output_type": "display_data"
    },
    {
     "data": {
      "application/vnd.jupyter.widget-view+json": {
       "model_id": "",
       "version_major": 2,
       "version_minor": 0
      },
      "text/plain": [
       "HBox(children=(IntProgress(value=0, description='Epoch 349', max=323), HTML(value='')))"
      ]
     },
     "metadata": {},
     "output_type": "display_data"
    },
    {
     "data": {
      "application/vnd.jupyter.widget-view+json": {
       "model_id": "",
       "version_major": 2,
       "version_minor": 0
      },
      "text/plain": [
       "HBox(children=(IntProgress(value=0, description='Epoch 350', max=323), HTML(value='')))"
      ]
     },
     "metadata": {},
     "output_type": "display_data"
    },
    {
     "data": {
      "application/vnd.jupyter.widget-view+json": {
       "model_id": "",
       "version_major": 2,
       "version_minor": 0
      },
      "text/plain": [
       "HBox(children=(IntProgress(value=0, description='Epoch 351', max=323), HTML(value='')))"
      ]
     },
     "metadata": {},
     "output_type": "display_data"
    },
    {
     "data": {
      "application/vnd.jupyter.widget-view+json": {
       "model_id": "",
       "version_major": 2,
       "version_minor": 0
      },
      "text/plain": [
       "HBox(children=(IntProgress(value=0, description='Epoch 352', max=323), HTML(value='')))"
      ]
     },
     "metadata": {},
     "output_type": "display_data"
    },
    {
     "data": {
      "application/vnd.jupyter.widget-view+json": {
       "model_id": "",
       "version_major": 2,
       "version_minor": 0
      },
      "text/plain": [
       "HBox(children=(IntProgress(value=0, description='Epoch 353', max=323), HTML(value='')))"
      ]
     },
     "metadata": {},
     "output_type": "display_data"
    },
    {
     "data": {
      "application/vnd.jupyter.widget-view+json": {
       "model_id": "",
       "version_major": 2,
       "version_minor": 0
      },
      "text/plain": [
       "HBox(children=(IntProgress(value=0, description='Epoch 354', max=323), HTML(value='')))"
      ]
     },
     "metadata": {},
     "output_type": "display_data"
    },
    {
     "data": {
      "application/vnd.jupyter.widget-view+json": {
       "model_id": "",
       "version_major": 2,
       "version_minor": 0
      },
      "text/plain": [
       "HBox(children=(IntProgress(value=0, description='Epoch 355', max=323), HTML(value='')))"
      ]
     },
     "metadata": {},
     "output_type": "display_data"
    },
    {
     "data": {
      "application/vnd.jupyter.widget-view+json": {
       "model_id": "",
       "version_major": 2,
       "version_minor": 0
      },
      "text/plain": [
       "HBox(children=(IntProgress(value=0, description='Epoch 356', max=323), HTML(value='')))"
      ]
     },
     "metadata": {},
     "output_type": "display_data"
    },
    {
     "data": {
      "application/vnd.jupyter.widget-view+json": {
       "model_id": "",
       "version_major": 2,
       "version_minor": 0
      },
      "text/plain": [
       "HBox(children=(IntProgress(value=0, description='Epoch 357', max=323), HTML(value='')))"
      ]
     },
     "metadata": {},
     "output_type": "display_data"
    },
    {
     "data": {
      "application/vnd.jupyter.widget-view+json": {
       "model_id": "",
       "version_major": 2,
       "version_minor": 0
      },
      "text/plain": [
       "HBox(children=(IntProgress(value=0, description='Epoch 358', max=323), HTML(value='')))"
      ]
     },
     "metadata": {},
     "output_type": "display_data"
    },
    {
     "data": {
      "application/vnd.jupyter.widget-view+json": {
       "model_id": "",
       "version_major": 2,
       "version_minor": 0
      },
      "text/plain": [
       "HBox(children=(IntProgress(value=0, description='Epoch 359', max=323), HTML(value='')))"
      ]
     },
     "metadata": {},
     "output_type": "display_data"
    },
    {
     "data": {
      "application/vnd.jupyter.widget-view+json": {
       "model_id": "",
       "version_major": 2,
       "version_minor": 0
      },
      "text/plain": [
       "HBox(children=(IntProgress(value=0, description='Epoch 360', max=323), HTML(value='')))"
      ]
     },
     "metadata": {},
     "output_type": "display_data"
    },
    {
     "data": {
      "application/vnd.jupyter.widget-view+json": {
       "model_id": "",
       "version_major": 2,
       "version_minor": 0
      },
      "text/plain": [
       "HBox(children=(IntProgress(value=0, description='Epoch 361', max=323), HTML(value='')))"
      ]
     },
     "metadata": {},
     "output_type": "display_data"
    },
    {
     "data": {
      "application/vnd.jupyter.widget-view+json": {
       "model_id": "",
       "version_major": 2,
       "version_minor": 0
      },
      "text/plain": [
       "HBox(children=(IntProgress(value=0, description='Epoch 362', max=323), HTML(value='')))"
      ]
     },
     "metadata": {},
     "output_type": "display_data"
    },
    {
     "data": {
      "application/vnd.jupyter.widget-view+json": {
       "model_id": "",
       "version_major": 2,
       "version_minor": 0
      },
      "text/plain": [
       "HBox(children=(IntProgress(value=0, description='Epoch 363', max=323), HTML(value='')))"
      ]
     },
     "metadata": {},
     "output_type": "display_data"
    },
    {
     "data": {
      "application/vnd.jupyter.widget-view+json": {
       "model_id": "",
       "version_major": 2,
       "version_minor": 0
      },
      "text/plain": [
       "HBox(children=(IntProgress(value=0, description='Epoch 364', max=323), HTML(value='')))"
      ]
     },
     "metadata": {},
     "output_type": "display_data"
    },
    {
     "data": {
      "application/vnd.jupyter.widget-view+json": {
       "model_id": "",
       "version_major": 2,
       "version_minor": 0
      },
      "text/plain": [
       "HBox(children=(IntProgress(value=0, description='Epoch 365', max=323), HTML(value='')))"
      ]
     },
     "metadata": {},
     "output_type": "display_data"
    },
    {
     "data": {
      "application/vnd.jupyter.widget-view+json": {
       "model_id": "",
       "version_major": 2,
       "version_minor": 0
      },
      "text/plain": [
       "HBox(children=(IntProgress(value=0, description='Epoch 366', max=323), HTML(value='')))"
      ]
     },
     "metadata": {},
     "output_type": "display_data"
    },
    {
     "data": {
      "application/vnd.jupyter.widget-view+json": {
       "model_id": "",
       "version_major": 2,
       "version_minor": 0
      },
      "text/plain": [
       "HBox(children=(IntProgress(value=0, description='Epoch 367', max=323), HTML(value='')))"
      ]
     },
     "metadata": {},
     "output_type": "display_data"
    },
    {
     "data": {
      "application/vnd.jupyter.widget-view+json": {
       "model_id": "",
       "version_major": 2,
       "version_minor": 0
      },
      "text/plain": [
       "HBox(children=(IntProgress(value=0, description='Epoch 368', max=323), HTML(value='')))"
      ]
     },
     "metadata": {},
     "output_type": "display_data"
    },
    {
     "data": {
      "application/vnd.jupyter.widget-view+json": {
       "model_id": "",
       "version_major": 2,
       "version_minor": 0
      },
      "text/plain": [
       "HBox(children=(IntProgress(value=0, description='Epoch 369', max=323), HTML(value='')))"
      ]
     },
     "metadata": {},
     "output_type": "display_data"
    },
    {
     "data": {
      "application/vnd.jupyter.widget-view+json": {
       "model_id": "",
       "version_major": 2,
       "version_minor": 0
      },
      "text/plain": [
       "HBox(children=(IntProgress(value=0, description='Epoch 370', max=323), HTML(value='')))"
      ]
     },
     "metadata": {},
     "output_type": "display_data"
    },
    {
     "data": {
      "application/vnd.jupyter.widget-view+json": {
       "model_id": "",
       "version_major": 2,
       "version_minor": 0
      },
      "text/plain": [
       "HBox(children=(IntProgress(value=0, description='Epoch 371', max=323), HTML(value='')))"
      ]
     },
     "metadata": {},
     "output_type": "display_data"
    },
    {
     "data": {
      "application/vnd.jupyter.widget-view+json": {
       "model_id": "",
       "version_major": 2,
       "version_minor": 0
      },
      "text/plain": [
       "HBox(children=(IntProgress(value=0, description='Epoch 372', max=323), HTML(value='')))"
      ]
     },
     "metadata": {},
     "output_type": "display_data"
    },
    {
     "data": {
      "application/vnd.jupyter.widget-view+json": {
       "model_id": "",
       "version_major": 2,
       "version_minor": 0
      },
      "text/plain": [
       "HBox(children=(IntProgress(value=0, description='Epoch 373', max=323), HTML(value='')))"
      ]
     },
     "metadata": {},
     "output_type": "display_data"
    },
    {
     "data": {
      "application/vnd.jupyter.widget-view+json": {
       "model_id": "",
       "version_major": 2,
       "version_minor": 0
      },
      "text/plain": [
       "HBox(children=(IntProgress(value=0, description='Epoch 374', max=323), HTML(value='')))"
      ]
     },
     "metadata": {},
     "output_type": "display_data"
    },
    {
     "data": {
      "application/vnd.jupyter.widget-view+json": {
       "model_id": "",
       "version_major": 2,
       "version_minor": 0
      },
      "text/plain": [
       "HBox(children=(IntProgress(value=0, description='Epoch 375', max=323), HTML(value='')))"
      ]
     },
     "metadata": {},
     "output_type": "display_data"
    },
    {
     "data": {
      "application/vnd.jupyter.widget-view+json": {
       "model_id": "",
       "version_major": 2,
       "version_minor": 0
      },
      "text/plain": [
       "HBox(children=(IntProgress(value=0, description='Epoch 376', max=323), HTML(value='')))"
      ]
     },
     "metadata": {},
     "output_type": "display_data"
    },
    {
     "data": {
      "application/vnd.jupyter.widget-view+json": {
       "model_id": "",
       "version_major": 2,
       "version_minor": 0
      },
      "text/plain": [
       "HBox(children=(IntProgress(value=0, description='Epoch 377', max=323), HTML(value='')))"
      ]
     },
     "metadata": {},
     "output_type": "display_data"
    },
    {
     "data": {
      "application/vnd.jupyter.widget-view+json": {
       "model_id": "",
       "version_major": 2,
       "version_minor": 0
      },
      "text/plain": [
       "HBox(children=(IntProgress(value=0, description='Epoch 378', max=323), HTML(value='')))"
      ]
     },
     "metadata": {},
     "output_type": "display_data"
    },
    {
     "data": {
      "application/vnd.jupyter.widget-view+json": {
       "model_id": "",
       "version_major": 2,
       "version_minor": 0
      },
      "text/plain": [
       "HBox(children=(IntProgress(value=0, description='Epoch 379', max=323), HTML(value='')))"
      ]
     },
     "metadata": {},
     "output_type": "display_data"
    },
    {
     "data": {
      "application/vnd.jupyter.widget-view+json": {
       "model_id": "",
       "version_major": 2,
       "version_minor": 0
      },
      "text/plain": [
       "HBox(children=(IntProgress(value=0, description='Epoch 380', max=323), HTML(value='')))"
      ]
     },
     "metadata": {},
     "output_type": "display_data"
    },
    {
     "data": {
      "application/vnd.jupyter.widget-view+json": {
       "model_id": "",
       "version_major": 2,
       "version_minor": 0
      },
      "text/plain": [
       "HBox(children=(IntProgress(value=0, description='Epoch 381', max=323), HTML(value='')))"
      ]
     },
     "metadata": {},
     "output_type": "display_data"
    },
    {
     "data": {
      "application/vnd.jupyter.widget-view+json": {
       "model_id": "",
       "version_major": 2,
       "version_minor": 0
      },
      "text/plain": [
       "HBox(children=(IntProgress(value=0, description='Epoch 382', max=323), HTML(value='')))"
      ]
     },
     "metadata": {},
     "output_type": "display_data"
    },
    {
     "data": {
      "application/vnd.jupyter.widget-view+json": {
       "model_id": "",
       "version_major": 2,
       "version_minor": 0
      },
      "text/plain": [
       "HBox(children=(IntProgress(value=0, description='Epoch 383', max=323), HTML(value='')))"
      ]
     },
     "metadata": {},
     "output_type": "display_data"
    },
    {
     "data": {
      "application/vnd.jupyter.widget-view+json": {
       "model_id": "",
       "version_major": 2,
       "version_minor": 0
      },
      "text/plain": [
       "HBox(children=(IntProgress(value=0, description='Epoch 384', max=323), HTML(value='')))"
      ]
     },
     "metadata": {},
     "output_type": "display_data"
    },
    {
     "data": {
      "application/vnd.jupyter.widget-view+json": {
       "model_id": "",
       "version_major": 2,
       "version_minor": 0
      },
      "text/plain": [
       "HBox(children=(IntProgress(value=0, description='Epoch 385', max=323), HTML(value='')))"
      ]
     },
     "metadata": {},
     "output_type": "display_data"
    },
    {
     "data": {
      "application/vnd.jupyter.widget-view+json": {
       "model_id": "",
       "version_major": 2,
       "version_minor": 0
      },
      "text/plain": [
       "HBox(children=(IntProgress(value=0, description='Epoch 386', max=323), HTML(value='')))"
      ]
     },
     "metadata": {},
     "output_type": "display_data"
    },
    {
     "data": {
      "application/vnd.jupyter.widget-view+json": {
       "model_id": "",
       "version_major": 2,
       "version_minor": 0
      },
      "text/plain": [
       "HBox(children=(IntProgress(value=0, description='Epoch 387', max=323), HTML(value='')))"
      ]
     },
     "metadata": {},
     "output_type": "display_data"
    },
    {
     "data": {
      "application/vnd.jupyter.widget-view+json": {
       "model_id": "",
       "version_major": 2,
       "version_minor": 0
      },
      "text/plain": [
       "HBox(children=(IntProgress(value=0, description='Epoch 388', max=323), HTML(value='')))"
      ]
     },
     "metadata": {},
     "output_type": "display_data"
    },
    {
     "data": {
      "application/vnd.jupyter.widget-view+json": {
       "model_id": "",
       "version_major": 2,
       "version_minor": 0
      },
      "text/plain": [
       "HBox(children=(IntProgress(value=0, description='Epoch 389', max=323), HTML(value='')))"
      ]
     },
     "metadata": {},
     "output_type": "display_data"
    },
    {
     "data": {
      "application/vnd.jupyter.widget-view+json": {
       "model_id": "",
       "version_major": 2,
       "version_minor": 0
      },
      "text/plain": [
       "HBox(children=(IntProgress(value=0, description='Epoch 390', max=323), HTML(value='')))"
      ]
     },
     "metadata": {},
     "output_type": "display_data"
    },
    {
     "data": {
      "application/vnd.jupyter.widget-view+json": {
       "model_id": "",
       "version_major": 2,
       "version_minor": 0
      },
      "text/plain": [
       "HBox(children=(IntProgress(value=0, description='Epoch 391', max=323), HTML(value='')))"
      ]
     },
     "metadata": {},
     "output_type": "display_data"
    },
    {
     "data": {
      "application/vnd.jupyter.widget-view+json": {
       "model_id": "",
       "version_major": 2,
       "version_minor": 0
      },
      "text/plain": [
       "HBox(children=(IntProgress(value=0, description='Epoch 392', max=323), HTML(value='')))"
      ]
     },
     "metadata": {},
     "output_type": "display_data"
    },
    {
     "data": {
      "application/vnd.jupyter.widget-view+json": {
       "model_id": "",
       "version_major": 2,
       "version_minor": 0
      },
      "text/plain": [
       "HBox(children=(IntProgress(value=0, description='Epoch 393', max=323), HTML(value='')))"
      ]
     },
     "metadata": {},
     "output_type": "display_data"
    },
    {
     "data": {
      "application/vnd.jupyter.widget-view+json": {
       "model_id": "",
       "version_major": 2,
       "version_minor": 0
      },
      "text/plain": [
       "HBox(children=(IntProgress(value=0, description='Epoch 394', max=323), HTML(value='')))"
      ]
     },
     "metadata": {},
     "output_type": "display_data"
    },
    {
     "data": {
      "application/vnd.jupyter.widget-view+json": {
       "model_id": "",
       "version_major": 2,
       "version_minor": 0
      },
      "text/plain": [
       "HBox(children=(IntProgress(value=0, description='Epoch 395', max=323), HTML(value='')))"
      ]
     },
     "metadata": {},
     "output_type": "display_data"
    },
    {
     "data": {
      "application/vnd.jupyter.widget-view+json": {
       "model_id": "",
       "version_major": 2,
       "version_minor": 0
      },
      "text/plain": [
       "HBox(children=(IntProgress(value=0, description='Epoch 396', max=323), HTML(value='')))"
      ]
     },
     "metadata": {},
     "output_type": "display_data"
    },
    {
     "data": {
      "application/vnd.jupyter.widget-view+json": {
       "model_id": "",
       "version_major": 2,
       "version_minor": 0
      },
      "text/plain": [
       "HBox(children=(IntProgress(value=0, description='Epoch 397', max=323), HTML(value='')))"
      ]
     },
     "metadata": {},
     "output_type": "display_data"
    },
    {
     "data": {
      "application/vnd.jupyter.widget-view+json": {
       "model_id": "",
       "version_major": 2,
       "version_minor": 0
      },
      "text/plain": [
       "HBox(children=(IntProgress(value=0, description='Epoch 398', max=323), HTML(value='')))"
      ]
     },
     "metadata": {},
     "output_type": "display_data"
    },
    {
     "data": {
      "application/vnd.jupyter.widget-view+json": {
       "model_id": "",
       "version_major": 2,
       "version_minor": 0
      },
      "text/plain": [
       "HBox(children=(IntProgress(value=0, description='Epoch 399', max=323), HTML(value='')))"
      ]
     },
     "metadata": {},
     "output_type": "display_data"
    },
    {
     "data": {
      "application/vnd.jupyter.widget-view+json": {
       "model_id": "",
       "version_major": 2,
       "version_minor": 0
      },
      "text/plain": [
       "HBox(children=(IntProgress(value=0, description='Epoch 400', max=323), HTML(value='')))"
      ]
     },
     "metadata": {},
     "output_type": "display_data"
    },
    {
     "data": {
      "application/vnd.jupyter.widget-view+json": {
       "model_id": "",
       "version_major": 2,
       "version_minor": 0
      },
      "text/plain": [
       "HBox(children=(IntProgress(value=0, description='Epoch 401', max=323), HTML(value='')))"
      ]
     },
     "metadata": {},
     "output_type": "display_data"
    },
    {
     "data": {
      "application/vnd.jupyter.widget-view+json": {
       "model_id": "",
       "version_major": 2,
       "version_minor": 0
      },
      "text/plain": [
       "HBox(children=(IntProgress(value=0, description='Epoch 402', max=323), HTML(value='')))"
      ]
     },
     "metadata": {},
     "output_type": "display_data"
    },
    {
     "data": {
      "application/vnd.jupyter.widget-view+json": {
       "model_id": "",
       "version_major": 2,
       "version_minor": 0
      },
      "text/plain": [
       "HBox(children=(IntProgress(value=0, description='Epoch 403', max=323), HTML(value='')))"
      ]
     },
     "metadata": {},
     "output_type": "display_data"
    },
    {
     "data": {
      "application/vnd.jupyter.widget-view+json": {
       "model_id": "",
       "version_major": 2,
       "version_minor": 0
      },
      "text/plain": [
       "HBox(children=(IntProgress(value=0, description='Epoch 404', max=323), HTML(value='')))"
      ]
     },
     "metadata": {},
     "output_type": "display_data"
    },
    {
     "data": {
      "application/vnd.jupyter.widget-view+json": {
       "model_id": "",
       "version_major": 2,
       "version_minor": 0
      },
      "text/plain": [
       "HBox(children=(IntProgress(value=0, description='Epoch 405', max=323), HTML(value='')))"
      ]
     },
     "metadata": {},
     "output_type": "display_data"
    },
    {
     "data": {
      "application/vnd.jupyter.widget-view+json": {
       "model_id": "",
       "version_major": 2,
       "version_minor": 0
      },
      "text/plain": [
       "HBox(children=(IntProgress(value=0, description='Epoch 406', max=323), HTML(value='')))"
      ]
     },
     "metadata": {},
     "output_type": "display_data"
    },
    {
     "data": {
      "application/vnd.jupyter.widget-view+json": {
       "model_id": "",
       "version_major": 2,
       "version_minor": 0
      },
      "text/plain": [
       "HBox(children=(IntProgress(value=0, description='Epoch 407', max=323), HTML(value='')))"
      ]
     },
     "metadata": {},
     "output_type": "display_data"
    },
    {
     "data": {
      "application/vnd.jupyter.widget-view+json": {
       "model_id": "",
       "version_major": 2,
       "version_minor": 0
      },
      "text/plain": [
       "HBox(children=(IntProgress(value=0, description='Epoch 408', max=323), HTML(value='')))"
      ]
     },
     "metadata": {},
     "output_type": "display_data"
    },
    {
     "data": {
      "application/vnd.jupyter.widget-view+json": {
       "model_id": "",
       "version_major": 2,
       "version_minor": 0
      },
      "text/plain": [
       "HBox(children=(IntProgress(value=0, description='Epoch 409', max=323), HTML(value='')))"
      ]
     },
     "metadata": {},
     "output_type": "display_data"
    },
    {
     "data": {
      "application/vnd.jupyter.widget-view+json": {
       "model_id": "",
       "version_major": 2,
       "version_minor": 0
      },
      "text/plain": [
       "HBox(children=(IntProgress(value=0, description='Epoch 410', max=323), HTML(value='')))"
      ]
     },
     "metadata": {},
     "output_type": "display_data"
    },
    {
     "data": {
      "application/vnd.jupyter.widget-view+json": {
       "model_id": "",
       "version_major": 2,
       "version_minor": 0
      },
      "text/plain": [
       "HBox(children=(IntProgress(value=0, description='Epoch 411', max=323), HTML(value='')))"
      ]
     },
     "metadata": {},
     "output_type": "display_data"
    },
    {
     "data": {
      "application/vnd.jupyter.widget-view+json": {
       "model_id": "",
       "version_major": 2,
       "version_minor": 0
      },
      "text/plain": [
       "HBox(children=(IntProgress(value=0, description='Epoch 412', max=323), HTML(value='')))"
      ]
     },
     "metadata": {},
     "output_type": "display_data"
    },
    {
     "data": {
      "application/vnd.jupyter.widget-view+json": {
       "model_id": "",
       "version_major": 2,
       "version_minor": 0
      },
      "text/plain": [
       "HBox(children=(IntProgress(value=0, description='Epoch 413', max=323), HTML(value='')))"
      ]
     },
     "metadata": {},
     "output_type": "display_data"
    },
    {
     "data": {
      "application/vnd.jupyter.widget-view+json": {
       "model_id": "",
       "version_major": 2,
       "version_minor": 0
      },
      "text/plain": [
       "HBox(children=(IntProgress(value=0, description='Epoch 414', max=323), HTML(value='')))"
      ]
     },
     "metadata": {},
     "output_type": "display_data"
    },
    {
     "data": {
      "application/vnd.jupyter.widget-view+json": {
       "model_id": "",
       "version_major": 2,
       "version_minor": 0
      },
      "text/plain": [
       "HBox(children=(IntProgress(value=0, description='Epoch 415', max=323), HTML(value='')))"
      ]
     },
     "metadata": {},
     "output_type": "display_data"
    },
    {
     "data": {
      "application/vnd.jupyter.widget-view+json": {
       "model_id": "",
       "version_major": 2,
       "version_minor": 0
      },
      "text/plain": [
       "HBox(children=(IntProgress(value=0, description='Epoch 416', max=323), HTML(value='')))"
      ]
     },
     "metadata": {},
     "output_type": "display_data"
    },
    {
     "data": {
      "application/vnd.jupyter.widget-view+json": {
       "model_id": "",
       "version_major": 2,
       "version_minor": 0
      },
      "text/plain": [
       "HBox(children=(IntProgress(value=0, description='Epoch 417', max=323), HTML(value='')))"
      ]
     },
     "metadata": {},
     "output_type": "display_data"
    },
    {
     "data": {
      "application/vnd.jupyter.widget-view+json": {
       "model_id": "",
       "version_major": 2,
       "version_minor": 0
      },
      "text/plain": [
       "HBox(children=(IntProgress(value=0, description='Epoch 418', max=323), HTML(value='')))"
      ]
     },
     "metadata": {},
     "output_type": "display_data"
    },
    {
     "data": {
      "application/vnd.jupyter.widget-view+json": {
       "model_id": "",
       "version_major": 2,
       "version_minor": 0
      },
      "text/plain": [
       "HBox(children=(IntProgress(value=0, description='Epoch 419', max=323), HTML(value='')))"
      ]
     },
     "metadata": {},
     "output_type": "display_data"
    },
    {
     "data": {
      "application/vnd.jupyter.widget-view+json": {
       "model_id": "",
       "version_major": 2,
       "version_minor": 0
      },
      "text/plain": [
       "HBox(children=(IntProgress(value=0, description='Epoch 420', max=323), HTML(value='')))"
      ]
     },
     "metadata": {},
     "output_type": "display_data"
    },
    {
     "data": {
      "application/vnd.jupyter.widget-view+json": {
       "model_id": "",
       "version_major": 2,
       "version_minor": 0
      },
      "text/plain": [
       "HBox(children=(IntProgress(value=0, description='Epoch 421', max=323), HTML(value='')))"
      ]
     },
     "metadata": {},
     "output_type": "display_data"
    },
    {
     "data": {
      "application/vnd.jupyter.widget-view+json": {
       "model_id": "",
       "version_major": 2,
       "version_minor": 0
      },
      "text/plain": [
       "HBox(children=(IntProgress(value=0, description='Epoch 422', max=323), HTML(value='')))"
      ]
     },
     "metadata": {},
     "output_type": "display_data"
    },
    {
     "data": {
      "application/vnd.jupyter.widget-view+json": {
       "model_id": "",
       "version_major": 2,
       "version_minor": 0
      },
      "text/plain": [
       "HBox(children=(IntProgress(value=0, description='Epoch 423', max=323), HTML(value='')))"
      ]
     },
     "metadata": {},
     "output_type": "display_data"
    },
    {
     "data": {
      "application/vnd.jupyter.widget-view+json": {
       "model_id": "",
       "version_major": 2,
       "version_minor": 0
      },
      "text/plain": [
       "HBox(children=(IntProgress(value=0, description='Epoch 424', max=323), HTML(value='')))"
      ]
     },
     "metadata": {},
     "output_type": "display_data"
    },
    {
     "data": {
      "application/vnd.jupyter.widget-view+json": {
       "model_id": "",
       "version_major": 2,
       "version_minor": 0
      },
      "text/plain": [
       "HBox(children=(IntProgress(value=0, description='Epoch 425', max=323), HTML(value='')))"
      ]
     },
     "metadata": {},
     "output_type": "display_data"
    },
    {
     "data": {
      "application/vnd.jupyter.widget-view+json": {
       "model_id": "",
       "version_major": 2,
       "version_minor": 0
      },
      "text/plain": [
       "HBox(children=(IntProgress(value=0, description='Epoch 426', max=323), HTML(value='')))"
      ]
     },
     "metadata": {},
     "output_type": "display_data"
    },
    {
     "data": {
      "application/vnd.jupyter.widget-view+json": {
       "model_id": "",
       "version_major": 2,
       "version_minor": 0
      },
      "text/plain": [
       "HBox(children=(IntProgress(value=0, description='Epoch 427', max=323), HTML(value='')))"
      ]
     },
     "metadata": {},
     "output_type": "display_data"
    },
    {
     "data": {
      "application/vnd.jupyter.widget-view+json": {
       "model_id": "",
       "version_major": 2,
       "version_minor": 0
      },
      "text/plain": [
       "HBox(children=(IntProgress(value=0, description='Epoch 428', max=323), HTML(value='')))"
      ]
     },
     "metadata": {},
     "output_type": "display_data"
    },
    {
     "data": {
      "application/vnd.jupyter.widget-view+json": {
       "model_id": "",
       "version_major": 2,
       "version_minor": 0
      },
      "text/plain": [
       "HBox(children=(IntProgress(value=0, description='Epoch 429', max=323), HTML(value='')))"
      ]
     },
     "metadata": {},
     "output_type": "display_data"
    },
    {
     "data": {
      "application/vnd.jupyter.widget-view+json": {
       "model_id": "",
       "version_major": 2,
       "version_minor": 0
      },
      "text/plain": [
       "HBox(children=(IntProgress(value=0, description='Epoch 430', max=323), HTML(value='')))"
      ]
     },
     "metadata": {},
     "output_type": "display_data"
    },
    {
     "data": {
      "application/vnd.jupyter.widget-view+json": {
       "model_id": "",
       "version_major": 2,
       "version_minor": 0
      },
      "text/plain": [
       "HBox(children=(IntProgress(value=0, description='Epoch 431', max=323), HTML(value='')))"
      ]
     },
     "metadata": {},
     "output_type": "display_data"
    },
    {
     "data": {
      "application/vnd.jupyter.widget-view+json": {
       "model_id": "",
       "version_major": 2,
       "version_minor": 0
      },
      "text/plain": [
       "HBox(children=(IntProgress(value=0, description='Epoch 432', max=323), HTML(value='')))"
      ]
     },
     "metadata": {},
     "output_type": "display_data"
    },
    {
     "data": {
      "application/vnd.jupyter.widget-view+json": {
       "model_id": "",
       "version_major": 2,
       "version_minor": 0
      },
      "text/plain": [
       "HBox(children=(IntProgress(value=0, description='Epoch 433', max=323), HTML(value='')))"
      ]
     },
     "metadata": {},
     "output_type": "display_data"
    },
    {
     "data": {
      "application/vnd.jupyter.widget-view+json": {
       "model_id": "",
       "version_major": 2,
       "version_minor": 0
      },
      "text/plain": [
       "HBox(children=(IntProgress(value=0, description='Epoch 434', max=323), HTML(value='')))"
      ]
     },
     "metadata": {},
     "output_type": "display_data"
    },
    {
     "data": {
      "application/vnd.jupyter.widget-view+json": {
       "model_id": "",
       "version_major": 2,
       "version_minor": 0
      },
      "text/plain": [
       "HBox(children=(IntProgress(value=0, description='Epoch 435', max=323), HTML(value='')))"
      ]
     },
     "metadata": {},
     "output_type": "display_data"
    },
    {
     "data": {
      "application/vnd.jupyter.widget-view+json": {
       "model_id": "",
       "version_major": 2,
       "version_minor": 0
      },
      "text/plain": [
       "HBox(children=(IntProgress(value=0, description='Epoch 436', max=323), HTML(value='')))"
      ]
     },
     "metadata": {},
     "output_type": "display_data"
    },
    {
     "data": {
      "application/vnd.jupyter.widget-view+json": {
       "model_id": "",
       "version_major": 2,
       "version_minor": 0
      },
      "text/plain": [
       "HBox(children=(IntProgress(value=0, description='Epoch 437', max=323), HTML(value='')))"
      ]
     },
     "metadata": {},
     "output_type": "display_data"
    },
    {
     "data": {
      "application/vnd.jupyter.widget-view+json": {
       "model_id": "",
       "version_major": 2,
       "version_minor": 0
      },
      "text/plain": [
       "HBox(children=(IntProgress(value=0, description='Epoch 438', max=323), HTML(value='')))"
      ]
     },
     "metadata": {},
     "output_type": "display_data"
    },
    {
     "data": {
      "application/vnd.jupyter.widget-view+json": {
       "model_id": "",
       "version_major": 2,
       "version_minor": 0
      },
      "text/plain": [
       "HBox(children=(IntProgress(value=0, description='Epoch 439', max=323), HTML(value='')))"
      ]
     },
     "metadata": {},
     "output_type": "display_data"
    },
    {
     "data": {
      "application/vnd.jupyter.widget-view+json": {
       "model_id": "",
       "version_major": 2,
       "version_minor": 0
      },
      "text/plain": [
       "HBox(children=(IntProgress(value=0, description='Epoch 440', max=323), HTML(value='')))"
      ]
     },
     "metadata": {},
     "output_type": "display_data"
    },
    {
     "data": {
      "application/vnd.jupyter.widget-view+json": {
       "model_id": "",
       "version_major": 2,
       "version_minor": 0
      },
      "text/plain": [
       "HBox(children=(IntProgress(value=0, description='Epoch 441', max=323), HTML(value='')))"
      ]
     },
     "metadata": {},
     "output_type": "display_data"
    },
    {
     "data": {
      "application/vnd.jupyter.widget-view+json": {
       "model_id": "",
       "version_major": 2,
       "version_minor": 0
      },
      "text/plain": [
       "HBox(children=(IntProgress(value=0, description='Epoch 442', max=323), HTML(value='')))"
      ]
     },
     "metadata": {},
     "output_type": "display_data"
    },
    {
     "data": {
      "application/vnd.jupyter.widget-view+json": {
       "model_id": "",
       "version_major": 2,
       "version_minor": 0
      },
      "text/plain": [
       "HBox(children=(IntProgress(value=0, description='Epoch 443', max=323), HTML(value='')))"
      ]
     },
     "metadata": {},
     "output_type": "display_data"
    },
    {
     "data": {
      "application/vnd.jupyter.widget-view+json": {
       "model_id": "",
       "version_major": 2,
       "version_minor": 0
      },
      "text/plain": [
       "HBox(children=(IntProgress(value=0, description='Epoch 444', max=323), HTML(value='')))"
      ]
     },
     "metadata": {},
     "output_type": "display_data"
    },
    {
     "data": {
      "application/vnd.jupyter.widget-view+json": {
       "model_id": "",
       "version_major": 2,
       "version_minor": 0
      },
      "text/plain": [
       "HBox(children=(IntProgress(value=0, description='Epoch 445', max=323), HTML(value='')))"
      ]
     },
     "metadata": {},
     "output_type": "display_data"
    },
    {
     "data": {
      "application/vnd.jupyter.widget-view+json": {
       "model_id": "",
       "version_major": 2,
       "version_minor": 0
      },
      "text/plain": [
       "HBox(children=(IntProgress(value=0, description='Epoch 446', max=323), HTML(value='')))"
      ]
     },
     "metadata": {},
     "output_type": "display_data"
    },
    {
     "data": {
      "application/vnd.jupyter.widget-view+json": {
       "model_id": "",
       "version_major": 2,
       "version_minor": 0
      },
      "text/plain": [
       "HBox(children=(IntProgress(value=0, description='Epoch 447', max=323), HTML(value='')))"
      ]
     },
     "metadata": {},
     "output_type": "display_data"
    },
    {
     "data": {
      "application/vnd.jupyter.widget-view+json": {
       "model_id": "",
       "version_major": 2,
       "version_minor": 0
      },
      "text/plain": [
       "HBox(children=(IntProgress(value=0, description='Epoch 448', max=323), HTML(value='')))"
      ]
     },
     "metadata": {},
     "output_type": "display_data"
    },
    {
     "data": {
      "application/vnd.jupyter.widget-view+json": {
       "model_id": "",
       "version_major": 2,
       "version_minor": 0
      },
      "text/plain": [
       "HBox(children=(IntProgress(value=0, description='Epoch 449', max=323), HTML(value='')))"
      ]
     },
     "metadata": {},
     "output_type": "display_data"
    },
    {
     "data": {
      "application/vnd.jupyter.widget-view+json": {
       "model_id": "",
       "version_major": 2,
       "version_minor": 0
      },
      "text/plain": [
       "HBox(children=(IntProgress(value=0, description='Epoch 450', max=323), HTML(value='')))"
      ]
     },
     "metadata": {},
     "output_type": "display_data"
    },
    {
     "data": {
      "application/vnd.jupyter.widget-view+json": {
       "model_id": "",
       "version_major": 2,
       "version_minor": 0
      },
      "text/plain": [
       "HBox(children=(IntProgress(value=0, description='Epoch 451', max=323), HTML(value='')))"
      ]
     },
     "metadata": {},
     "output_type": "display_data"
    },
    {
     "data": {
      "application/vnd.jupyter.widget-view+json": {
       "model_id": "",
       "version_major": 2,
       "version_minor": 0
      },
      "text/plain": [
       "HBox(children=(IntProgress(value=0, description='Epoch 452', max=323), HTML(value='')))"
      ]
     },
     "metadata": {},
     "output_type": "display_data"
    },
    {
     "data": {
      "application/vnd.jupyter.widget-view+json": {
       "model_id": "",
       "version_major": 2,
       "version_minor": 0
      },
      "text/plain": [
       "HBox(children=(IntProgress(value=0, description='Epoch 453', max=323), HTML(value='')))"
      ]
     },
     "metadata": {},
     "output_type": "display_data"
    },
    {
     "data": {
      "application/vnd.jupyter.widget-view+json": {
       "model_id": "",
       "version_major": 2,
       "version_minor": 0
      },
      "text/plain": [
       "HBox(children=(IntProgress(value=0, description='Epoch 454', max=323), HTML(value='')))"
      ]
     },
     "metadata": {},
     "output_type": "display_data"
    },
    {
     "data": {
      "application/vnd.jupyter.widget-view+json": {
       "model_id": "",
       "version_major": 2,
       "version_minor": 0
      },
      "text/plain": [
       "HBox(children=(IntProgress(value=0, description='Epoch 455', max=323), HTML(value='')))"
      ]
     },
     "metadata": {},
     "output_type": "display_data"
    },
    {
     "data": {
      "application/vnd.jupyter.widget-view+json": {
       "model_id": "",
       "version_major": 2,
       "version_minor": 0
      },
      "text/plain": [
       "HBox(children=(IntProgress(value=0, description='Epoch 456', max=323), HTML(value='')))"
      ]
     },
     "metadata": {},
     "output_type": "display_data"
    },
    {
     "data": {
      "application/vnd.jupyter.widget-view+json": {
       "model_id": "",
       "version_major": 2,
       "version_minor": 0
      },
      "text/plain": [
       "HBox(children=(IntProgress(value=0, description='Epoch 457', max=323), HTML(value='')))"
      ]
     },
     "metadata": {},
     "output_type": "display_data"
    },
    {
     "data": {
      "application/vnd.jupyter.widget-view+json": {
       "model_id": "",
       "version_major": 2,
       "version_minor": 0
      },
      "text/plain": [
       "HBox(children=(IntProgress(value=0, description='Epoch 458', max=323), HTML(value='')))"
      ]
     },
     "metadata": {},
     "output_type": "display_data"
    },
    {
     "data": {
      "application/vnd.jupyter.widget-view+json": {
       "model_id": "",
       "version_major": 2,
       "version_minor": 0
      },
      "text/plain": [
       "HBox(children=(IntProgress(value=0, description='Epoch 459', max=323), HTML(value='')))"
      ]
     },
     "metadata": {},
     "output_type": "display_data"
    },
    {
     "data": {
      "application/vnd.jupyter.widget-view+json": {
       "model_id": "",
       "version_major": 2,
       "version_minor": 0
      },
      "text/plain": [
       "HBox(children=(IntProgress(value=0, description='Epoch 460', max=323), HTML(value='')))"
      ]
     },
     "metadata": {},
     "output_type": "display_data"
    },
    {
     "data": {
      "application/vnd.jupyter.widget-view+json": {
       "model_id": "",
       "version_major": 2,
       "version_minor": 0
      },
      "text/plain": [
       "HBox(children=(IntProgress(value=0, description='Epoch 461', max=323), HTML(value='')))"
      ]
     },
     "metadata": {},
     "output_type": "display_data"
    },
    {
     "data": {
      "application/vnd.jupyter.widget-view+json": {
       "model_id": "",
       "version_major": 2,
       "version_minor": 0
      },
      "text/plain": [
       "HBox(children=(IntProgress(value=0, description='Epoch 462', max=323), HTML(value='')))"
      ]
     },
     "metadata": {},
     "output_type": "display_data"
    },
    {
     "data": {
      "application/vnd.jupyter.widget-view+json": {
       "model_id": "",
       "version_major": 2,
       "version_minor": 0
      },
      "text/plain": [
       "HBox(children=(IntProgress(value=0, description='Epoch 463', max=323), HTML(value='')))"
      ]
     },
     "metadata": {},
     "output_type": "display_data"
    },
    {
     "data": {
      "application/vnd.jupyter.widget-view+json": {
       "model_id": "",
       "version_major": 2,
       "version_minor": 0
      },
      "text/plain": [
       "HBox(children=(IntProgress(value=0, description='Epoch 464', max=323), HTML(value='')))"
      ]
     },
     "metadata": {},
     "output_type": "display_data"
    },
    {
     "data": {
      "application/vnd.jupyter.widget-view+json": {
       "model_id": "",
       "version_major": 2,
       "version_minor": 0
      },
      "text/plain": [
       "HBox(children=(IntProgress(value=0, description='Epoch 465', max=323), HTML(value='')))"
      ]
     },
     "metadata": {},
     "output_type": "display_data"
    },
    {
     "data": {
      "application/vnd.jupyter.widget-view+json": {
       "model_id": "",
       "version_major": 2,
       "version_minor": 0
      },
      "text/plain": [
       "HBox(children=(IntProgress(value=0, description='Epoch 466', max=323), HTML(value='')))"
      ]
     },
     "metadata": {},
     "output_type": "display_data"
    },
    {
     "data": {
      "application/vnd.jupyter.widget-view+json": {
       "model_id": "",
       "version_major": 2,
       "version_minor": 0
      },
      "text/plain": [
       "HBox(children=(IntProgress(value=0, description='Epoch 467', max=323), HTML(value='')))"
      ]
     },
     "metadata": {},
     "output_type": "display_data"
    },
    {
     "data": {
      "application/vnd.jupyter.widget-view+json": {
       "model_id": "",
       "version_major": 2,
       "version_minor": 0
      },
      "text/plain": [
       "HBox(children=(IntProgress(value=0, description='Epoch 468', max=323), HTML(value='')))"
      ]
     },
     "metadata": {},
     "output_type": "display_data"
    },
    {
     "data": {
      "application/vnd.jupyter.widget-view+json": {
       "model_id": "",
       "version_major": 2,
       "version_minor": 0
      },
      "text/plain": [
       "HBox(children=(IntProgress(value=0, description='Epoch 469', max=323), HTML(value='')))"
      ]
     },
     "metadata": {},
     "output_type": "display_data"
    },
    {
     "data": {
      "application/vnd.jupyter.widget-view+json": {
       "model_id": "",
       "version_major": 2,
       "version_minor": 0
      },
      "text/plain": [
       "HBox(children=(IntProgress(value=0, description='Epoch 470', max=323), HTML(value='')))"
      ]
     },
     "metadata": {},
     "output_type": "display_data"
    },
    {
     "data": {
      "application/vnd.jupyter.widget-view+json": {
       "model_id": "",
       "version_major": 2,
       "version_minor": 0
      },
      "text/plain": [
       "HBox(children=(IntProgress(value=0, description='Epoch 471', max=323), HTML(value='')))"
      ]
     },
     "metadata": {},
     "output_type": "display_data"
    },
    {
     "data": {
      "application/vnd.jupyter.widget-view+json": {
       "model_id": "",
       "version_major": 2,
       "version_minor": 0
      },
      "text/plain": [
       "HBox(children=(IntProgress(value=0, description='Epoch 472', max=323), HTML(value='')))"
      ]
     },
     "metadata": {},
     "output_type": "display_data"
    },
    {
     "data": {
      "application/vnd.jupyter.widget-view+json": {
       "model_id": "",
       "version_major": 2,
       "version_minor": 0
      },
      "text/plain": [
       "HBox(children=(IntProgress(value=0, description='Epoch 473', max=323), HTML(value='')))"
      ]
     },
     "metadata": {},
     "output_type": "display_data"
    },
    {
     "data": {
      "application/vnd.jupyter.widget-view+json": {
       "model_id": "",
       "version_major": 2,
       "version_minor": 0
      },
      "text/plain": [
       "HBox(children=(IntProgress(value=0, description='Epoch 474', max=323), HTML(value='')))"
      ]
     },
     "metadata": {},
     "output_type": "display_data"
    },
    {
     "data": {
      "application/vnd.jupyter.widget-view+json": {
       "model_id": "",
       "version_major": 2,
       "version_minor": 0
      },
      "text/plain": [
       "HBox(children=(IntProgress(value=0, description='Epoch 475', max=323), HTML(value='')))"
      ]
     },
     "metadata": {},
     "output_type": "display_data"
    },
    {
     "data": {
      "application/vnd.jupyter.widget-view+json": {
       "model_id": "",
       "version_major": 2,
       "version_minor": 0
      },
      "text/plain": [
       "HBox(children=(IntProgress(value=0, description='Epoch 476', max=323), HTML(value='')))"
      ]
     },
     "metadata": {},
     "output_type": "display_data"
    },
    {
     "data": {
      "application/vnd.jupyter.widget-view+json": {
       "model_id": "",
       "version_major": 2,
       "version_minor": 0
      },
      "text/plain": [
       "HBox(children=(IntProgress(value=0, description='Epoch 477', max=323), HTML(value='')))"
      ]
     },
     "metadata": {},
     "output_type": "display_data"
    },
    {
     "data": {
      "application/vnd.jupyter.widget-view+json": {
       "model_id": "",
       "version_major": 2,
       "version_minor": 0
      },
      "text/plain": [
       "HBox(children=(IntProgress(value=0, description='Epoch 478', max=323), HTML(value='')))"
      ]
     },
     "metadata": {},
     "output_type": "display_data"
    },
    {
     "data": {
      "application/vnd.jupyter.widget-view+json": {
       "model_id": "",
       "version_major": 2,
       "version_minor": 0
      },
      "text/plain": [
       "HBox(children=(IntProgress(value=0, description='Epoch 479', max=323), HTML(value='')))"
      ]
     },
     "metadata": {},
     "output_type": "display_data"
    },
    {
     "data": {
      "application/vnd.jupyter.widget-view+json": {
       "model_id": "",
       "version_major": 2,
       "version_minor": 0
      },
      "text/plain": [
       "HBox(children=(IntProgress(value=0, description='Epoch 480', max=323), HTML(value='')))"
      ]
     },
     "metadata": {},
     "output_type": "display_data"
    },
    {
     "data": {
      "application/vnd.jupyter.widget-view+json": {
       "model_id": "",
       "version_major": 2,
       "version_minor": 0
      },
      "text/plain": [
       "HBox(children=(IntProgress(value=0, description='Epoch 481', max=323), HTML(value='')))"
      ]
     },
     "metadata": {},
     "output_type": "display_data"
    },
    {
     "data": {
      "application/vnd.jupyter.widget-view+json": {
       "model_id": "",
       "version_major": 2,
       "version_minor": 0
      },
      "text/plain": [
       "HBox(children=(IntProgress(value=0, description='Epoch 482', max=323), HTML(value='')))"
      ]
     },
     "metadata": {},
     "output_type": "display_data"
    },
    {
     "data": {
      "application/vnd.jupyter.widget-view+json": {
       "model_id": "",
       "version_major": 2,
       "version_minor": 0
      },
      "text/plain": [
       "HBox(children=(IntProgress(value=0, description='Epoch 483', max=323), HTML(value='')))"
      ]
     },
     "metadata": {},
     "output_type": "display_data"
    },
    {
     "data": {
      "application/vnd.jupyter.widget-view+json": {
       "model_id": "",
       "version_major": 2,
       "version_minor": 0
      },
      "text/plain": [
       "HBox(children=(IntProgress(value=0, description='Epoch 484', max=323), HTML(value='')))"
      ]
     },
     "metadata": {},
     "output_type": "display_data"
    },
    {
     "data": {
      "application/vnd.jupyter.widget-view+json": {
       "model_id": "",
       "version_major": 2,
       "version_minor": 0
      },
      "text/plain": [
       "HBox(children=(IntProgress(value=0, description='Epoch 485', max=323), HTML(value='')))"
      ]
     },
     "metadata": {},
     "output_type": "display_data"
    },
    {
     "data": {
      "application/vnd.jupyter.widget-view+json": {
       "model_id": "",
       "version_major": 2,
       "version_minor": 0
      },
      "text/plain": [
       "HBox(children=(IntProgress(value=0, description='Epoch 486', max=323), HTML(value='')))"
      ]
     },
     "metadata": {},
     "output_type": "display_data"
    },
    {
     "data": {
      "application/vnd.jupyter.widget-view+json": {
       "model_id": "",
       "version_major": 2,
       "version_minor": 0
      },
      "text/plain": [
       "HBox(children=(IntProgress(value=0, description='Epoch 487', max=323), HTML(value='')))"
      ]
     },
     "metadata": {},
     "output_type": "display_data"
    },
    {
     "data": {
      "application/vnd.jupyter.widget-view+json": {
       "model_id": "",
       "version_major": 2,
       "version_minor": 0
      },
      "text/plain": [
       "HBox(children=(IntProgress(value=0, description='Epoch 488', max=323), HTML(value='')))"
      ]
     },
     "metadata": {},
     "output_type": "display_data"
    },
    {
     "data": {
      "application/vnd.jupyter.widget-view+json": {
       "model_id": "",
       "version_major": 2,
       "version_minor": 0
      },
      "text/plain": [
       "HBox(children=(IntProgress(value=0, description='Epoch 489', max=323), HTML(value='')))"
      ]
     },
     "metadata": {},
     "output_type": "display_data"
    },
    {
     "data": {
      "application/vnd.jupyter.widget-view+json": {
       "model_id": "",
       "version_major": 2,
       "version_minor": 0
      },
      "text/plain": [
       "HBox(children=(IntProgress(value=0, description='Epoch 490', max=323), HTML(value='')))"
      ]
     },
     "metadata": {},
     "output_type": "display_data"
    },
    {
     "data": {
      "application/vnd.jupyter.widget-view+json": {
       "model_id": "",
       "version_major": 2,
       "version_minor": 0
      },
      "text/plain": [
       "HBox(children=(IntProgress(value=0, description='Epoch 491', max=323), HTML(value='')))"
      ]
     },
     "metadata": {},
     "output_type": "display_data"
    },
    {
     "data": {
      "application/vnd.jupyter.widget-view+json": {
       "model_id": "",
       "version_major": 2,
       "version_minor": 0
      },
      "text/plain": [
       "HBox(children=(IntProgress(value=0, description='Epoch 492', max=323), HTML(value='')))"
      ]
     },
     "metadata": {},
     "output_type": "display_data"
    },
    {
     "data": {
      "application/vnd.jupyter.widget-view+json": {
       "model_id": "",
       "version_major": 2,
       "version_minor": 0
      },
      "text/plain": [
       "HBox(children=(IntProgress(value=0, description='Epoch 493', max=323), HTML(value='')))"
      ]
     },
     "metadata": {},
     "output_type": "display_data"
    },
    {
     "data": {
      "application/vnd.jupyter.widget-view+json": {
       "model_id": "",
       "version_major": 2,
       "version_minor": 0
      },
      "text/plain": [
       "HBox(children=(IntProgress(value=0, description='Epoch 494', max=323), HTML(value='')))"
      ]
     },
     "metadata": {},
     "output_type": "display_data"
    },
    {
     "data": {
      "application/vnd.jupyter.widget-view+json": {
       "model_id": "",
       "version_major": 2,
       "version_minor": 0
      },
      "text/plain": [
       "HBox(children=(IntProgress(value=0, description='Epoch 495', max=323), HTML(value='')))"
      ]
     },
     "metadata": {},
     "output_type": "display_data"
    },
    {
     "data": {
      "application/vnd.jupyter.widget-view+json": {
       "model_id": "",
       "version_major": 2,
       "version_minor": 0
      },
      "text/plain": [
       "HBox(children=(IntProgress(value=0, description='Epoch 496', max=323), HTML(value='')))"
      ]
     },
     "metadata": {},
     "output_type": "display_data"
    },
    {
     "data": {
      "application/vnd.jupyter.widget-view+json": {
       "model_id": "",
       "version_major": 2,
       "version_minor": 0
      },
      "text/plain": [
       "HBox(children=(IntProgress(value=0, description='Epoch 497', max=323), HTML(value='')))"
      ]
     },
     "metadata": {},
     "output_type": "display_data"
    },
    {
     "data": {
      "application/vnd.jupyter.widget-view+json": {
       "model_id": "",
       "version_major": 2,
       "version_minor": 0
      },
      "text/plain": [
       "HBox(children=(IntProgress(value=0, description='Epoch 498', max=323), HTML(value='')))"
      ]
     },
     "metadata": {},
     "output_type": "display_data"
    },
    {
     "data": {
      "application/vnd.jupyter.widget-view+json": {
       "model_id": "",
       "version_major": 2,
       "version_minor": 0
      },
      "text/plain": [
       "HBox(children=(IntProgress(value=0, description='Epoch 499', max=323), HTML(value='')))"
      ]
     },
     "metadata": {},
     "output_type": "display_data"
    },
    {
     "data": {
      "application/vnd.jupyter.widget-view+json": {
       "model_id": "",
       "version_major": 2,
       "version_minor": 0
      },
      "text/plain": [
       "HBox(children=(IntProgress(value=0, description='Epoch 500', max=323), HTML(value='')))"
      ]
     },
     "metadata": {},
     "output_type": "display_data"
    },
    {
     "data": {
      "application/vnd.jupyter.widget-view+json": {
       "model_id": "",
       "version_major": 2,
       "version_minor": 0
      },
      "text/plain": [
       "HBox(children=(IntProgress(value=0, description='Epoch 501', max=323), HTML(value='')))"
      ]
     },
     "metadata": {},
     "output_type": "display_data"
    },
    {
     "data": {
      "application/vnd.jupyter.widget-view+json": {
       "model_id": "",
       "version_major": 2,
       "version_minor": 0
      },
      "text/plain": [
       "HBox(children=(IntProgress(value=0, description='Epoch 502', max=323), HTML(value='')))"
      ]
     },
     "metadata": {},
     "output_type": "display_data"
    },
    {
     "data": {
      "application/vnd.jupyter.widget-view+json": {
       "model_id": "",
       "version_major": 2,
       "version_minor": 0
      },
      "text/plain": [
       "HBox(children=(IntProgress(value=0, description='Epoch 503', max=323), HTML(value='')))"
      ]
     },
     "metadata": {},
     "output_type": "display_data"
    },
    {
     "data": {
      "application/vnd.jupyter.widget-view+json": {
       "model_id": "",
       "version_major": 2,
       "version_minor": 0
      },
      "text/plain": [
       "HBox(children=(IntProgress(value=0, description='Epoch 504', max=323), HTML(value='')))"
      ]
     },
     "metadata": {},
     "output_type": "display_data"
    },
    {
     "data": {
      "application/vnd.jupyter.widget-view+json": {
       "model_id": "",
       "version_major": 2,
       "version_minor": 0
      },
      "text/plain": [
       "HBox(children=(IntProgress(value=0, description='Epoch 505', max=323), HTML(value='')))"
      ]
     },
     "metadata": {},
     "output_type": "display_data"
    },
    {
     "data": {
      "application/vnd.jupyter.widget-view+json": {
       "model_id": "",
       "version_major": 2,
       "version_minor": 0
      },
      "text/plain": [
       "HBox(children=(IntProgress(value=0, description='Epoch 506', max=323), HTML(value='')))"
      ]
     },
     "metadata": {},
     "output_type": "display_data"
    },
    {
     "data": {
      "application/vnd.jupyter.widget-view+json": {
       "model_id": "",
       "version_major": 2,
       "version_minor": 0
      },
      "text/plain": [
       "HBox(children=(IntProgress(value=0, description='Epoch 507', max=323), HTML(value='')))"
      ]
     },
     "metadata": {},
     "output_type": "display_data"
    },
    {
     "data": {
      "application/vnd.jupyter.widget-view+json": {
       "model_id": "",
       "version_major": 2,
       "version_minor": 0
      },
      "text/plain": [
       "HBox(children=(IntProgress(value=0, description='Epoch 508', max=323), HTML(value='')))"
      ]
     },
     "metadata": {},
     "output_type": "display_data"
    },
    {
     "data": {
      "application/vnd.jupyter.widget-view+json": {
       "model_id": "",
       "version_major": 2,
       "version_minor": 0
      },
      "text/plain": [
       "HBox(children=(IntProgress(value=0, description='Epoch 509', max=323), HTML(value='')))"
      ]
     },
     "metadata": {},
     "output_type": "display_data"
    },
    {
     "data": {
      "application/vnd.jupyter.widget-view+json": {
       "model_id": "",
       "version_major": 2,
       "version_minor": 0
      },
      "text/plain": [
       "HBox(children=(IntProgress(value=0, description='Epoch 510', max=323), HTML(value='')))"
      ]
     },
     "metadata": {},
     "output_type": "display_data"
    },
    {
     "data": {
      "application/vnd.jupyter.widget-view+json": {
       "model_id": "",
       "version_major": 2,
       "version_minor": 0
      },
      "text/plain": [
       "HBox(children=(IntProgress(value=0, description='Epoch 511', max=323), HTML(value='')))"
      ]
     },
     "metadata": {},
     "output_type": "display_data"
    },
    {
     "data": {
      "application/vnd.jupyter.widget-view+json": {
       "model_id": "",
       "version_major": 2,
       "version_minor": 0
      },
      "text/plain": [
       "HBox(children=(IntProgress(value=0, description='Epoch 512', max=323), HTML(value='')))"
      ]
     },
     "metadata": {},
     "output_type": "display_data"
    },
    {
     "data": {
      "application/vnd.jupyter.widget-view+json": {
       "model_id": "",
       "version_major": 2,
       "version_minor": 0
      },
      "text/plain": [
       "HBox(children=(IntProgress(value=0, description='Epoch 513', max=323), HTML(value='')))"
      ]
     },
     "metadata": {},
     "output_type": "display_data"
    },
    {
     "data": {
      "application/vnd.jupyter.widget-view+json": {
       "model_id": "",
       "version_major": 2,
       "version_minor": 0
      },
      "text/plain": [
       "HBox(children=(IntProgress(value=0, description='Epoch 514', max=323), HTML(value='')))"
      ]
     },
     "metadata": {},
     "output_type": "display_data"
    },
    {
     "data": {
      "application/vnd.jupyter.widget-view+json": {
       "model_id": "",
       "version_major": 2,
       "version_minor": 0
      },
      "text/plain": [
       "HBox(children=(IntProgress(value=0, description='Epoch 515', max=323), HTML(value='')))"
      ]
     },
     "metadata": {},
     "output_type": "display_data"
    },
    {
     "data": {
      "application/vnd.jupyter.widget-view+json": {
       "model_id": "",
       "version_major": 2,
       "version_minor": 0
      },
      "text/plain": [
       "HBox(children=(IntProgress(value=0, description='Epoch 516', max=323), HTML(value='')))"
      ]
     },
     "metadata": {},
     "output_type": "display_data"
    },
    {
     "data": {
      "application/vnd.jupyter.widget-view+json": {
       "model_id": "",
       "version_major": 2,
       "version_minor": 0
      },
      "text/plain": [
       "HBox(children=(IntProgress(value=0, description='Epoch 517', max=323), HTML(value='')))"
      ]
     },
     "metadata": {},
     "output_type": "display_data"
    },
    {
     "data": {
      "application/vnd.jupyter.widget-view+json": {
       "model_id": "",
       "version_major": 2,
       "version_minor": 0
      },
      "text/plain": [
       "HBox(children=(IntProgress(value=0, description='Epoch 518', max=323), HTML(value='')))"
      ]
     },
     "metadata": {},
     "output_type": "display_data"
    },
    {
     "data": {
      "application/vnd.jupyter.widget-view+json": {
       "model_id": "",
       "version_major": 2,
       "version_minor": 0
      },
      "text/plain": [
       "HBox(children=(IntProgress(value=0, description='Epoch 519', max=323), HTML(value='')))"
      ]
     },
     "metadata": {},
     "output_type": "display_data"
    },
    {
     "data": {
      "application/vnd.jupyter.widget-view+json": {
       "model_id": "",
       "version_major": 2,
       "version_minor": 0
      },
      "text/plain": [
       "HBox(children=(IntProgress(value=0, description='Epoch 520', max=323), HTML(value='')))"
      ]
     },
     "metadata": {},
     "output_type": "display_data"
    },
    {
     "data": {
      "application/vnd.jupyter.widget-view+json": {
       "model_id": "",
       "version_major": 2,
       "version_minor": 0
      },
      "text/plain": [
       "HBox(children=(IntProgress(value=0, description='Epoch 521', max=323), HTML(value='')))"
      ]
     },
     "metadata": {},
     "output_type": "display_data"
    },
    {
     "data": {
      "application/vnd.jupyter.widget-view+json": {
       "model_id": "",
       "version_major": 2,
       "version_minor": 0
      },
      "text/plain": [
       "HBox(children=(IntProgress(value=0, description='Epoch 522', max=323), HTML(value='')))"
      ]
     },
     "metadata": {},
     "output_type": "display_data"
    },
    {
     "data": {
      "application/vnd.jupyter.widget-view+json": {
       "model_id": "",
       "version_major": 2,
       "version_minor": 0
      },
      "text/plain": [
       "HBox(children=(IntProgress(value=0, description='Epoch 523', max=323), HTML(value='')))"
      ]
     },
     "metadata": {},
     "output_type": "display_data"
    },
    {
     "data": {
      "application/vnd.jupyter.widget-view+json": {
       "model_id": "",
       "version_major": 2,
       "version_minor": 0
      },
      "text/plain": [
       "HBox(children=(IntProgress(value=0, description='Epoch 524', max=323), HTML(value='')))"
      ]
     },
     "metadata": {},
     "output_type": "display_data"
    },
    {
     "data": {
      "application/vnd.jupyter.widget-view+json": {
       "model_id": "",
       "version_major": 2,
       "version_minor": 0
      },
      "text/plain": [
       "HBox(children=(IntProgress(value=0, description='Epoch 525', max=323), HTML(value='')))"
      ]
     },
     "metadata": {},
     "output_type": "display_data"
    },
    {
     "data": {
      "application/vnd.jupyter.widget-view+json": {
       "model_id": "",
       "version_major": 2,
       "version_minor": 0
      },
      "text/plain": [
       "HBox(children=(IntProgress(value=0, description='Epoch 526', max=323), HTML(value='')))"
      ]
     },
     "metadata": {},
     "output_type": "display_data"
    },
    {
     "data": {
      "application/vnd.jupyter.widget-view+json": {
       "model_id": "",
       "version_major": 2,
       "version_minor": 0
      },
      "text/plain": [
       "HBox(children=(IntProgress(value=0, description='Epoch 527', max=323), HTML(value='')))"
      ]
     },
     "metadata": {},
     "output_type": "display_data"
    },
    {
     "data": {
      "application/vnd.jupyter.widget-view+json": {
       "model_id": "",
       "version_major": 2,
       "version_minor": 0
      },
      "text/plain": [
       "HBox(children=(IntProgress(value=0, description='Epoch 528', max=323), HTML(value='')))"
      ]
     },
     "metadata": {},
     "output_type": "display_data"
    },
    {
     "data": {
      "application/vnd.jupyter.widget-view+json": {
       "model_id": "",
       "version_major": 2,
       "version_minor": 0
      },
      "text/plain": [
       "HBox(children=(IntProgress(value=0, description='Epoch 529', max=323), HTML(value='')))"
      ]
     },
     "metadata": {},
     "output_type": "display_data"
    },
    {
     "data": {
      "application/vnd.jupyter.widget-view+json": {
       "model_id": "",
       "version_major": 2,
       "version_minor": 0
      },
      "text/plain": [
       "HBox(children=(IntProgress(value=0, description='Epoch 530', max=323), HTML(value='')))"
      ]
     },
     "metadata": {},
     "output_type": "display_data"
    },
    {
     "data": {
      "application/vnd.jupyter.widget-view+json": {
       "model_id": "",
       "version_major": 2,
       "version_minor": 0
      },
      "text/plain": [
       "HBox(children=(IntProgress(value=0, description='Epoch 531', max=323), HTML(value='')))"
      ]
     },
     "metadata": {},
     "output_type": "display_data"
    },
    {
     "data": {
      "application/vnd.jupyter.widget-view+json": {
       "model_id": "",
       "version_major": 2,
       "version_minor": 0
      },
      "text/plain": [
       "HBox(children=(IntProgress(value=0, description='Epoch 532', max=323), HTML(value='')))"
      ]
     },
     "metadata": {},
     "output_type": "display_data"
    },
    {
     "data": {
      "application/vnd.jupyter.widget-view+json": {
       "model_id": "",
       "version_major": 2,
       "version_minor": 0
      },
      "text/plain": [
       "HBox(children=(IntProgress(value=0, description='Epoch 533', max=323), HTML(value='')))"
      ]
     },
     "metadata": {},
     "output_type": "display_data"
    },
    {
     "data": {
      "application/vnd.jupyter.widget-view+json": {
       "model_id": "",
       "version_major": 2,
       "version_minor": 0
      },
      "text/plain": [
       "HBox(children=(IntProgress(value=0, description='Epoch 534', max=323), HTML(value='')))"
      ]
     },
     "metadata": {},
     "output_type": "display_data"
    },
    {
     "data": {
      "application/vnd.jupyter.widget-view+json": {
       "model_id": "",
       "version_major": 2,
       "version_minor": 0
      },
      "text/plain": [
       "HBox(children=(IntProgress(value=0, description='Epoch 535', max=323), HTML(value='')))"
      ]
     },
     "metadata": {},
     "output_type": "display_data"
    },
    {
     "data": {
      "application/vnd.jupyter.widget-view+json": {
       "model_id": "",
       "version_major": 2,
       "version_minor": 0
      },
      "text/plain": [
       "HBox(children=(IntProgress(value=0, description='Epoch 536', max=323), HTML(value='')))"
      ]
     },
     "metadata": {},
     "output_type": "display_data"
    },
    {
     "data": {
      "application/vnd.jupyter.widget-view+json": {
       "model_id": "",
       "version_major": 2,
       "version_minor": 0
      },
      "text/plain": [
       "HBox(children=(IntProgress(value=0, description='Epoch 537', max=323), HTML(value='')))"
      ]
     },
     "metadata": {},
     "output_type": "display_data"
    },
    {
     "data": {
      "application/vnd.jupyter.widget-view+json": {
       "model_id": "",
       "version_major": 2,
       "version_minor": 0
      },
      "text/plain": [
       "HBox(children=(IntProgress(value=0, description='Epoch 538', max=323), HTML(value='')))"
      ]
     },
     "metadata": {},
     "output_type": "display_data"
    },
    {
     "data": {
      "application/vnd.jupyter.widget-view+json": {
       "model_id": "",
       "version_major": 2,
       "version_minor": 0
      },
      "text/plain": [
       "HBox(children=(IntProgress(value=0, description='Epoch 539', max=323), HTML(value='')))"
      ]
     },
     "metadata": {},
     "output_type": "display_data"
    },
    {
     "data": {
      "application/vnd.jupyter.widget-view+json": {
       "model_id": "",
       "version_major": 2,
       "version_minor": 0
      },
      "text/plain": [
       "HBox(children=(IntProgress(value=0, description='Epoch 540', max=323), HTML(value='')))"
      ]
     },
     "metadata": {},
     "output_type": "display_data"
    },
    {
     "data": {
      "application/vnd.jupyter.widget-view+json": {
       "model_id": "",
       "version_major": 2,
       "version_minor": 0
      },
      "text/plain": [
       "HBox(children=(IntProgress(value=0, description='Epoch 541', max=323), HTML(value='')))"
      ]
     },
     "metadata": {},
     "output_type": "display_data"
    },
    {
     "data": {
      "application/vnd.jupyter.widget-view+json": {
       "model_id": "",
       "version_major": 2,
       "version_minor": 0
      },
      "text/plain": [
       "HBox(children=(IntProgress(value=0, description='Epoch 542', max=323), HTML(value='')))"
      ]
     },
     "metadata": {},
     "output_type": "display_data"
    },
    {
     "data": {
      "application/vnd.jupyter.widget-view+json": {
       "model_id": "",
       "version_major": 2,
       "version_minor": 0
      },
      "text/plain": [
       "HBox(children=(IntProgress(value=0, description='Epoch 543', max=323), HTML(value='')))"
      ]
     },
     "metadata": {},
     "output_type": "display_data"
    },
    {
     "data": {
      "application/vnd.jupyter.widget-view+json": {
       "model_id": "",
       "version_major": 2,
       "version_minor": 0
      },
      "text/plain": [
       "HBox(children=(IntProgress(value=0, description='Epoch 544', max=323), HTML(value='')))"
      ]
     },
     "metadata": {},
     "output_type": "display_data"
    },
    {
     "data": {
      "application/vnd.jupyter.widget-view+json": {
       "model_id": "",
       "version_major": 2,
       "version_minor": 0
      },
      "text/plain": [
       "HBox(children=(IntProgress(value=0, description='Epoch 545', max=323), HTML(value='')))"
      ]
     },
     "metadata": {},
     "output_type": "display_data"
    },
    {
     "data": {
      "application/vnd.jupyter.widget-view+json": {
       "model_id": "",
       "version_major": 2,
       "version_minor": 0
      },
      "text/plain": [
       "HBox(children=(IntProgress(value=0, description='Epoch 546', max=323), HTML(value='')))"
      ]
     },
     "metadata": {},
     "output_type": "display_data"
    },
    {
     "data": {
      "application/vnd.jupyter.widget-view+json": {
       "model_id": "",
       "version_major": 2,
       "version_minor": 0
      },
      "text/plain": [
       "HBox(children=(IntProgress(value=0, description='Epoch 547', max=323), HTML(value='')))"
      ]
     },
     "metadata": {},
     "output_type": "display_data"
    },
    {
     "data": {
      "application/vnd.jupyter.widget-view+json": {
       "model_id": "",
       "version_major": 2,
       "version_minor": 0
      },
      "text/plain": [
       "HBox(children=(IntProgress(value=0, description='Epoch 548', max=323), HTML(value='')))"
      ]
     },
     "metadata": {},
     "output_type": "display_data"
    },
    {
     "data": {
      "application/vnd.jupyter.widget-view+json": {
       "model_id": "",
       "version_major": 2,
       "version_minor": 0
      },
      "text/plain": [
       "HBox(children=(IntProgress(value=0, description='Epoch 549', max=323), HTML(value='')))"
      ]
     },
     "metadata": {},
     "output_type": "display_data"
    },
    {
     "data": {
      "application/vnd.jupyter.widget-view+json": {
       "model_id": "",
       "version_major": 2,
       "version_minor": 0
      },
      "text/plain": [
       "HBox(children=(IntProgress(value=0, description='Epoch 550', max=323), HTML(value='')))"
      ]
     },
     "metadata": {},
     "output_type": "display_data"
    },
    {
     "data": {
      "application/vnd.jupyter.widget-view+json": {
       "model_id": "",
       "version_major": 2,
       "version_minor": 0
      },
      "text/plain": [
       "HBox(children=(IntProgress(value=0, description='Epoch 551', max=323), HTML(value='')))"
      ]
     },
     "metadata": {},
     "output_type": "display_data"
    },
    {
     "data": {
      "application/vnd.jupyter.widget-view+json": {
       "model_id": "",
       "version_major": 2,
       "version_minor": 0
      },
      "text/plain": [
       "HBox(children=(IntProgress(value=0, description='Epoch 552', max=323), HTML(value='')))"
      ]
     },
     "metadata": {},
     "output_type": "display_data"
    },
    {
     "data": {
      "application/vnd.jupyter.widget-view+json": {
       "model_id": "",
       "version_major": 2,
       "version_minor": 0
      },
      "text/plain": [
       "HBox(children=(IntProgress(value=0, description='Epoch 553', max=323), HTML(value='')))"
      ]
     },
     "metadata": {},
     "output_type": "display_data"
    },
    {
     "data": {
      "application/vnd.jupyter.widget-view+json": {
       "model_id": "",
       "version_major": 2,
       "version_minor": 0
      },
      "text/plain": [
       "HBox(children=(IntProgress(value=0, description='Epoch 554', max=323), HTML(value='')))"
      ]
     },
     "metadata": {},
     "output_type": "display_data"
    },
    {
     "data": {
      "application/vnd.jupyter.widget-view+json": {
       "model_id": "",
       "version_major": 2,
       "version_minor": 0
      },
      "text/plain": [
       "HBox(children=(IntProgress(value=0, description='Epoch 555', max=323), HTML(value='')))"
      ]
     },
     "metadata": {},
     "output_type": "display_data"
    },
    {
     "data": {
      "application/vnd.jupyter.widget-view+json": {
       "model_id": "",
       "version_major": 2,
       "version_minor": 0
      },
      "text/plain": [
       "HBox(children=(IntProgress(value=0, description='Epoch 556', max=323), HTML(value='')))"
      ]
     },
     "metadata": {},
     "output_type": "display_data"
    },
    {
     "data": {
      "application/vnd.jupyter.widget-view+json": {
       "model_id": "",
       "version_major": 2,
       "version_minor": 0
      },
      "text/plain": [
       "HBox(children=(IntProgress(value=0, description='Epoch 557', max=323), HTML(value='')))"
      ]
     },
     "metadata": {},
     "output_type": "display_data"
    },
    {
     "data": {
      "application/vnd.jupyter.widget-view+json": {
       "model_id": "",
       "version_major": 2,
       "version_minor": 0
      },
      "text/plain": [
       "HBox(children=(IntProgress(value=0, description='Epoch 558', max=323), HTML(value='')))"
      ]
     },
     "metadata": {},
     "output_type": "display_data"
    },
    {
     "data": {
      "application/vnd.jupyter.widget-view+json": {
       "model_id": "",
       "version_major": 2,
       "version_minor": 0
      },
      "text/plain": [
       "HBox(children=(IntProgress(value=0, description='Epoch 559', max=323), HTML(value='')))"
      ]
     },
     "metadata": {},
     "output_type": "display_data"
    },
    {
     "data": {
      "application/vnd.jupyter.widget-view+json": {
       "model_id": "",
       "version_major": 2,
       "version_minor": 0
      },
      "text/plain": [
       "HBox(children=(IntProgress(value=0, description='Epoch 560', max=323), HTML(value='')))"
      ]
     },
     "metadata": {},
     "output_type": "display_data"
    },
    {
     "data": {
      "application/vnd.jupyter.widget-view+json": {
       "model_id": "",
       "version_major": 2,
       "version_minor": 0
      },
      "text/plain": [
       "HBox(children=(IntProgress(value=0, description='Epoch 561', max=323), HTML(value='')))"
      ]
     },
     "metadata": {},
     "output_type": "display_data"
    },
    {
     "data": {
      "application/vnd.jupyter.widget-view+json": {
       "model_id": "",
       "version_major": 2,
       "version_minor": 0
      },
      "text/plain": [
       "HBox(children=(IntProgress(value=0, description='Epoch 562', max=323), HTML(value='')))"
      ]
     },
     "metadata": {},
     "output_type": "display_data"
    },
    {
     "data": {
      "application/vnd.jupyter.widget-view+json": {
       "model_id": "",
       "version_major": 2,
       "version_minor": 0
      },
      "text/plain": [
       "HBox(children=(IntProgress(value=0, description='Epoch 563', max=323), HTML(value='')))"
      ]
     },
     "metadata": {},
     "output_type": "display_data"
    },
    {
     "data": {
      "application/vnd.jupyter.widget-view+json": {
       "model_id": "",
       "version_major": 2,
       "version_minor": 0
      },
      "text/plain": [
       "HBox(children=(IntProgress(value=0, description='Epoch 564', max=323), HTML(value='')))"
      ]
     },
     "metadata": {},
     "output_type": "display_data"
    },
    {
     "data": {
      "application/vnd.jupyter.widget-view+json": {
       "model_id": "",
       "version_major": 2,
       "version_minor": 0
      },
      "text/plain": [
       "HBox(children=(IntProgress(value=0, description='Epoch 565', max=323), HTML(value='')))"
      ]
     },
     "metadata": {},
     "output_type": "display_data"
    },
    {
     "data": {
      "application/vnd.jupyter.widget-view+json": {
       "model_id": "",
       "version_major": 2,
       "version_minor": 0
      },
      "text/plain": [
       "HBox(children=(IntProgress(value=0, description='Epoch 566', max=323), HTML(value='')))"
      ]
     },
     "metadata": {},
     "output_type": "display_data"
    },
    {
     "data": {
      "application/vnd.jupyter.widget-view+json": {
       "model_id": "",
       "version_major": 2,
       "version_minor": 0
      },
      "text/plain": [
       "HBox(children=(IntProgress(value=0, description='Epoch 567', max=323), HTML(value='')))"
      ]
     },
     "metadata": {},
     "output_type": "display_data"
    },
    {
     "data": {
      "application/vnd.jupyter.widget-view+json": {
       "model_id": "",
       "version_major": 2,
       "version_minor": 0
      },
      "text/plain": [
       "HBox(children=(IntProgress(value=0, description='Epoch 568', max=323), HTML(value='')))"
      ]
     },
     "metadata": {},
     "output_type": "display_data"
    },
    {
     "data": {
      "application/vnd.jupyter.widget-view+json": {
       "model_id": "",
       "version_major": 2,
       "version_minor": 0
      },
      "text/plain": [
       "HBox(children=(IntProgress(value=0, description='Epoch 569', max=323), HTML(value='')))"
      ]
     },
     "metadata": {},
     "output_type": "display_data"
    },
    {
     "data": {
      "application/vnd.jupyter.widget-view+json": {
       "model_id": "",
       "version_major": 2,
       "version_minor": 0
      },
      "text/plain": [
       "HBox(children=(IntProgress(value=0, description='Epoch 570', max=323), HTML(value='')))"
      ]
     },
     "metadata": {},
     "output_type": "display_data"
    },
    {
     "data": {
      "application/vnd.jupyter.widget-view+json": {
       "model_id": "",
       "version_major": 2,
       "version_minor": 0
      },
      "text/plain": [
       "HBox(children=(IntProgress(value=0, description='Epoch 571', max=323), HTML(value='')))"
      ]
     },
     "metadata": {},
     "output_type": "display_data"
    },
    {
     "data": {
      "application/vnd.jupyter.widget-view+json": {
       "model_id": "",
       "version_major": 2,
       "version_minor": 0
      },
      "text/plain": [
       "HBox(children=(IntProgress(value=0, description='Epoch 572', max=323), HTML(value='')))"
      ]
     },
     "metadata": {},
     "output_type": "display_data"
    },
    {
     "data": {
      "application/vnd.jupyter.widget-view+json": {
       "model_id": "",
       "version_major": 2,
       "version_minor": 0
      },
      "text/plain": [
       "HBox(children=(IntProgress(value=0, description='Epoch 573', max=323), HTML(value='')))"
      ]
     },
     "metadata": {},
     "output_type": "display_data"
    },
    {
     "data": {
      "application/vnd.jupyter.widget-view+json": {
       "model_id": "",
       "version_major": 2,
       "version_minor": 0
      },
      "text/plain": [
       "HBox(children=(IntProgress(value=0, description='Epoch 574', max=323), HTML(value='')))"
      ]
     },
     "metadata": {},
     "output_type": "display_data"
    },
    {
     "data": {
      "application/vnd.jupyter.widget-view+json": {
       "model_id": "",
       "version_major": 2,
       "version_minor": 0
      },
      "text/plain": [
       "HBox(children=(IntProgress(value=0, description='Epoch 575', max=323), HTML(value='')))"
      ]
     },
     "metadata": {},
     "output_type": "display_data"
    },
    {
     "data": {
      "application/vnd.jupyter.widget-view+json": {
       "model_id": "",
       "version_major": 2,
       "version_minor": 0
      },
      "text/plain": [
       "HBox(children=(IntProgress(value=0, description='Epoch 576', max=323), HTML(value='')))"
      ]
     },
     "metadata": {},
     "output_type": "display_data"
    },
    {
     "data": {
      "application/vnd.jupyter.widget-view+json": {
       "model_id": "",
       "version_major": 2,
       "version_minor": 0
      },
      "text/plain": [
       "HBox(children=(IntProgress(value=0, description='Epoch 577', max=323), HTML(value='')))"
      ]
     },
     "metadata": {},
     "output_type": "display_data"
    },
    {
     "data": {
      "application/vnd.jupyter.widget-view+json": {
       "model_id": "",
       "version_major": 2,
       "version_minor": 0
      },
      "text/plain": [
       "HBox(children=(IntProgress(value=0, description='Epoch 578', max=323), HTML(value='')))"
      ]
     },
     "metadata": {},
     "output_type": "display_data"
    },
    {
     "data": {
      "application/vnd.jupyter.widget-view+json": {
       "model_id": "",
       "version_major": 2,
       "version_minor": 0
      },
      "text/plain": [
       "HBox(children=(IntProgress(value=0, description='Epoch 579', max=323), HTML(value='')))"
      ]
     },
     "metadata": {},
     "output_type": "display_data"
    },
    {
     "data": {
      "application/vnd.jupyter.widget-view+json": {
       "model_id": "",
       "version_major": 2,
       "version_minor": 0
      },
      "text/plain": [
       "HBox(children=(IntProgress(value=0, description='Epoch 580', max=323), HTML(value='')))"
      ]
     },
     "metadata": {},
     "output_type": "display_data"
    },
    {
     "data": {
      "application/vnd.jupyter.widget-view+json": {
       "model_id": "",
       "version_major": 2,
       "version_minor": 0
      },
      "text/plain": [
       "HBox(children=(IntProgress(value=0, description='Epoch 581', max=323), HTML(value='')))"
      ]
     },
     "metadata": {},
     "output_type": "display_data"
    },
    {
     "data": {
      "application/vnd.jupyter.widget-view+json": {
       "model_id": "",
       "version_major": 2,
       "version_minor": 0
      },
      "text/plain": [
       "HBox(children=(IntProgress(value=0, description='Epoch 582', max=323), HTML(value='')))"
      ]
     },
     "metadata": {},
     "output_type": "display_data"
    },
    {
     "data": {
      "application/vnd.jupyter.widget-view+json": {
       "model_id": "",
       "version_major": 2,
       "version_minor": 0
      },
      "text/plain": [
       "HBox(children=(IntProgress(value=0, description='Epoch 583', max=323), HTML(value='')))"
      ]
     },
     "metadata": {},
     "output_type": "display_data"
    },
    {
     "data": {
      "application/vnd.jupyter.widget-view+json": {
       "model_id": "",
       "version_major": 2,
       "version_minor": 0
      },
      "text/plain": [
       "HBox(children=(IntProgress(value=0, description='Epoch 584', max=323), HTML(value='')))"
      ]
     },
     "metadata": {},
     "output_type": "display_data"
    },
    {
     "data": {
      "application/vnd.jupyter.widget-view+json": {
       "model_id": "",
       "version_major": 2,
       "version_minor": 0
      },
      "text/plain": [
       "HBox(children=(IntProgress(value=0, description='Epoch 585', max=323), HTML(value='')))"
      ]
     },
     "metadata": {},
     "output_type": "display_data"
    },
    {
     "data": {
      "application/vnd.jupyter.widget-view+json": {
       "model_id": "",
       "version_major": 2,
       "version_minor": 0
      },
      "text/plain": [
       "HBox(children=(IntProgress(value=0, description='Epoch 586', max=323), HTML(value='')))"
      ]
     },
     "metadata": {},
     "output_type": "display_data"
    },
    {
     "data": {
      "application/vnd.jupyter.widget-view+json": {
       "model_id": "",
       "version_major": 2,
       "version_minor": 0
      },
      "text/plain": [
       "HBox(children=(IntProgress(value=0, description='Epoch 587', max=323), HTML(value='')))"
      ]
     },
     "metadata": {},
     "output_type": "display_data"
    },
    {
     "data": {
      "application/vnd.jupyter.widget-view+json": {
       "model_id": "",
       "version_major": 2,
       "version_minor": 0
      },
      "text/plain": [
       "HBox(children=(IntProgress(value=0, description='Epoch 588', max=323), HTML(value='')))"
      ]
     },
     "metadata": {},
     "output_type": "display_data"
    },
    {
     "data": {
      "application/vnd.jupyter.widget-view+json": {
       "model_id": "",
       "version_major": 2,
       "version_minor": 0
      },
      "text/plain": [
       "HBox(children=(IntProgress(value=0, description='Epoch 589', max=323), HTML(value='')))"
      ]
     },
     "metadata": {},
     "output_type": "display_data"
    },
    {
     "data": {
      "application/vnd.jupyter.widget-view+json": {
       "model_id": "",
       "version_major": 2,
       "version_minor": 0
      },
      "text/plain": [
       "HBox(children=(IntProgress(value=0, description='Epoch 590', max=323), HTML(value='')))"
      ]
     },
     "metadata": {},
     "output_type": "display_data"
    },
    {
     "data": {
      "application/vnd.jupyter.widget-view+json": {
       "model_id": "",
       "version_major": 2,
       "version_minor": 0
      },
      "text/plain": [
       "HBox(children=(IntProgress(value=0, description='Epoch 591', max=323), HTML(value='')))"
      ]
     },
     "metadata": {},
     "output_type": "display_data"
    },
    {
     "data": {
      "application/vnd.jupyter.widget-view+json": {
       "model_id": "",
       "version_major": 2,
       "version_minor": 0
      },
      "text/plain": [
       "HBox(children=(IntProgress(value=0, description='Epoch 592', max=323), HTML(value='')))"
      ]
     },
     "metadata": {},
     "output_type": "display_data"
    },
    {
     "data": {
      "application/vnd.jupyter.widget-view+json": {
       "model_id": "",
       "version_major": 2,
       "version_minor": 0
      },
      "text/plain": [
       "HBox(children=(IntProgress(value=0, description='Epoch 593', max=323), HTML(value='')))"
      ]
     },
     "metadata": {},
     "output_type": "display_data"
    },
    {
     "data": {
      "application/vnd.jupyter.widget-view+json": {
       "model_id": "",
       "version_major": 2,
       "version_minor": 0
      },
      "text/plain": [
       "HBox(children=(IntProgress(value=0, description='Epoch 594', max=323), HTML(value='')))"
      ]
     },
     "metadata": {},
     "output_type": "display_data"
    },
    {
     "data": {
      "application/vnd.jupyter.widget-view+json": {
       "model_id": "",
       "version_major": 2,
       "version_minor": 0
      },
      "text/plain": [
       "HBox(children=(IntProgress(value=0, description='Epoch 595', max=323), HTML(value='')))"
      ]
     },
     "metadata": {},
     "output_type": "display_data"
    },
    {
     "data": {
      "application/vnd.jupyter.widget-view+json": {
       "model_id": "",
       "version_major": 2,
       "version_minor": 0
      },
      "text/plain": [
       "HBox(children=(IntProgress(value=0, description='Epoch 596', max=323), HTML(value='')))"
      ]
     },
     "metadata": {},
     "output_type": "display_data"
    },
    {
     "data": {
      "application/vnd.jupyter.widget-view+json": {
       "model_id": "",
       "version_major": 2,
       "version_minor": 0
      },
      "text/plain": [
       "HBox(children=(IntProgress(value=0, description='Epoch 597', max=323), HTML(value='')))"
      ]
     },
     "metadata": {},
     "output_type": "display_data"
    },
    {
     "data": {
      "application/vnd.jupyter.widget-view+json": {
       "model_id": "",
       "version_major": 2,
       "version_minor": 0
      },
      "text/plain": [
       "HBox(children=(IntProgress(value=0, description='Epoch 598', max=323), HTML(value='')))"
      ]
     },
     "metadata": {},
     "output_type": "display_data"
    },
    {
     "data": {
      "application/vnd.jupyter.widget-view+json": {
       "model_id": "",
       "version_major": 2,
       "version_minor": 0
      },
      "text/plain": [
       "HBox(children=(IntProgress(value=0, description='Epoch 599', max=323), HTML(value='')))"
      ]
     },
     "metadata": {},
     "output_type": "display_data"
    },
    {
     "data": {
      "application/vnd.jupyter.widget-view+json": {
       "model_id": "",
       "version_major": 2,
       "version_minor": 0
      },
      "text/plain": [
       "HBox(children=(IntProgress(value=0, description='Epoch 600', max=323), HTML(value='')))"
      ]
     },
     "metadata": {},
     "output_type": "display_data"
    },
    {
     "data": {
      "application/vnd.jupyter.widget-view+json": {
       "model_id": "",
       "version_major": 2,
       "version_minor": 0
      },
      "text/plain": [
       "HBox(children=(IntProgress(value=0, description='Epoch 601', max=323), HTML(value='')))"
      ]
     },
     "metadata": {},
     "output_type": "display_data"
    },
    {
     "data": {
      "application/vnd.jupyter.widget-view+json": {
       "model_id": "",
       "version_major": 2,
       "version_minor": 0
      },
      "text/plain": [
       "HBox(children=(IntProgress(value=0, description='Epoch 602', max=323), HTML(value='')))"
      ]
     },
     "metadata": {},
     "output_type": "display_data"
    },
    {
     "data": {
      "application/vnd.jupyter.widget-view+json": {
       "model_id": "",
       "version_major": 2,
       "version_minor": 0
      },
      "text/plain": [
       "HBox(children=(IntProgress(value=0, description='Epoch 603', max=323), HTML(value='')))"
      ]
     },
     "metadata": {},
     "output_type": "display_data"
    },
    {
     "data": {
      "application/vnd.jupyter.widget-view+json": {
       "model_id": "",
       "version_major": 2,
       "version_minor": 0
      },
      "text/plain": [
       "HBox(children=(IntProgress(value=0, description='Epoch 604', max=323), HTML(value='')))"
      ]
     },
     "metadata": {},
     "output_type": "display_data"
    },
    {
     "data": {
      "application/vnd.jupyter.widget-view+json": {
       "model_id": "",
       "version_major": 2,
       "version_minor": 0
      },
      "text/plain": [
       "HBox(children=(IntProgress(value=0, description='Epoch 605', max=323), HTML(value='')))"
      ]
     },
     "metadata": {},
     "output_type": "display_data"
    },
    {
     "data": {
      "application/vnd.jupyter.widget-view+json": {
       "model_id": "",
       "version_major": 2,
       "version_minor": 0
      },
      "text/plain": [
       "HBox(children=(IntProgress(value=0, description='Epoch 606', max=323), HTML(value='')))"
      ]
     },
     "metadata": {},
     "output_type": "display_data"
    },
    {
     "data": {
      "application/vnd.jupyter.widget-view+json": {
       "model_id": "",
       "version_major": 2,
       "version_minor": 0
      },
      "text/plain": [
       "HBox(children=(IntProgress(value=0, description='Epoch 607', max=323), HTML(value='')))"
      ]
     },
     "metadata": {},
     "output_type": "display_data"
    },
    {
     "data": {
      "application/vnd.jupyter.widget-view+json": {
       "model_id": "",
       "version_major": 2,
       "version_minor": 0
      },
      "text/plain": [
       "HBox(children=(IntProgress(value=0, description='Epoch 608', max=323), HTML(value='')))"
      ]
     },
     "metadata": {},
     "output_type": "display_data"
    },
    {
     "data": {
      "application/vnd.jupyter.widget-view+json": {
       "model_id": "",
       "version_major": 2,
       "version_minor": 0
      },
      "text/plain": [
       "HBox(children=(IntProgress(value=0, description='Epoch 609', max=323), HTML(value='')))"
      ]
     },
     "metadata": {},
     "output_type": "display_data"
    },
    {
     "data": {
      "application/vnd.jupyter.widget-view+json": {
       "model_id": "",
       "version_major": 2,
       "version_minor": 0
      },
      "text/plain": [
       "HBox(children=(IntProgress(value=0, description='Epoch 610', max=323), HTML(value='')))"
      ]
     },
     "metadata": {},
     "output_type": "display_data"
    },
    {
     "data": {
      "application/vnd.jupyter.widget-view+json": {
       "model_id": "",
       "version_major": 2,
       "version_minor": 0
      },
      "text/plain": [
       "HBox(children=(IntProgress(value=0, description='Epoch 611', max=323), HTML(value='')))"
      ]
     },
     "metadata": {},
     "output_type": "display_data"
    },
    {
     "data": {
      "application/vnd.jupyter.widget-view+json": {
       "model_id": "",
       "version_major": 2,
       "version_minor": 0
      },
      "text/plain": [
       "HBox(children=(IntProgress(value=0, description='Epoch 612', max=323), HTML(value='')))"
      ]
     },
     "metadata": {},
     "output_type": "display_data"
    },
    {
     "data": {
      "application/vnd.jupyter.widget-view+json": {
       "model_id": "",
       "version_major": 2,
       "version_minor": 0
      },
      "text/plain": [
       "HBox(children=(IntProgress(value=0, description='Epoch 613', max=323), HTML(value='')))"
      ]
     },
     "metadata": {},
     "output_type": "display_data"
    },
    {
     "data": {
      "application/vnd.jupyter.widget-view+json": {
       "model_id": "",
       "version_major": 2,
       "version_minor": 0
      },
      "text/plain": [
       "HBox(children=(IntProgress(value=0, description='Epoch 614', max=323), HTML(value='')))"
      ]
     },
     "metadata": {},
     "output_type": "display_data"
    },
    {
     "data": {
      "application/vnd.jupyter.widget-view+json": {
       "model_id": "",
       "version_major": 2,
       "version_minor": 0
      },
      "text/plain": [
       "HBox(children=(IntProgress(value=0, description='Epoch 615', max=323), HTML(value='')))"
      ]
     },
     "metadata": {},
     "output_type": "display_data"
    },
    {
     "data": {
      "application/vnd.jupyter.widget-view+json": {
       "model_id": "",
       "version_major": 2,
       "version_minor": 0
      },
      "text/plain": [
       "HBox(children=(IntProgress(value=0, description='Epoch 616', max=323), HTML(value='')))"
      ]
     },
     "metadata": {},
     "output_type": "display_data"
    },
    {
     "data": {
      "application/vnd.jupyter.widget-view+json": {
       "model_id": "",
       "version_major": 2,
       "version_minor": 0
      },
      "text/plain": [
       "HBox(children=(IntProgress(value=0, description='Epoch 617', max=323), HTML(value='')))"
      ]
     },
     "metadata": {},
     "output_type": "display_data"
    },
    {
     "data": {
      "application/vnd.jupyter.widget-view+json": {
       "model_id": "",
       "version_major": 2,
       "version_minor": 0
      },
      "text/plain": [
       "HBox(children=(IntProgress(value=0, description='Epoch 618', max=323), HTML(value='')))"
      ]
     },
     "metadata": {},
     "output_type": "display_data"
    },
    {
     "data": {
      "application/vnd.jupyter.widget-view+json": {
       "model_id": "",
       "version_major": 2,
       "version_minor": 0
      },
      "text/plain": [
       "HBox(children=(IntProgress(value=0, description='Epoch 619', max=323), HTML(value='')))"
      ]
     },
     "metadata": {},
     "output_type": "display_data"
    },
    {
     "data": {
      "application/vnd.jupyter.widget-view+json": {
       "model_id": "",
       "version_major": 2,
       "version_minor": 0
      },
      "text/plain": [
       "HBox(children=(IntProgress(value=0, description='Epoch 620', max=323), HTML(value='')))"
      ]
     },
     "metadata": {},
     "output_type": "display_data"
    },
    {
     "data": {
      "application/vnd.jupyter.widget-view+json": {
       "model_id": "",
       "version_major": 2,
       "version_minor": 0
      },
      "text/plain": [
       "HBox(children=(IntProgress(value=0, description='Epoch 621', max=323), HTML(value='')))"
      ]
     },
     "metadata": {},
     "output_type": "display_data"
    },
    {
     "data": {
      "application/vnd.jupyter.widget-view+json": {
       "model_id": "",
       "version_major": 2,
       "version_minor": 0
      },
      "text/plain": [
       "HBox(children=(IntProgress(value=0, description='Epoch 622', max=323), HTML(value='')))"
      ]
     },
     "metadata": {},
     "output_type": "display_data"
    },
    {
     "data": {
      "application/vnd.jupyter.widget-view+json": {
       "model_id": "",
       "version_major": 2,
       "version_minor": 0
      },
      "text/plain": [
       "HBox(children=(IntProgress(value=0, description='Epoch 623', max=323), HTML(value='')))"
      ]
     },
     "metadata": {},
     "output_type": "display_data"
    },
    {
     "data": {
      "application/vnd.jupyter.widget-view+json": {
       "model_id": "",
       "version_major": 2,
       "version_minor": 0
      },
      "text/plain": [
       "HBox(children=(IntProgress(value=0, description='Epoch 624', max=323), HTML(value='')))"
      ]
     },
     "metadata": {},
     "output_type": "display_data"
    },
    {
     "data": {
      "application/vnd.jupyter.widget-view+json": {
       "model_id": "",
       "version_major": 2,
       "version_minor": 0
      },
      "text/plain": [
       "HBox(children=(IntProgress(value=0, description='Epoch 625', max=323), HTML(value='')))"
      ]
     },
     "metadata": {},
     "output_type": "display_data"
    },
    {
     "data": {
      "application/vnd.jupyter.widget-view+json": {
       "model_id": "",
       "version_major": 2,
       "version_minor": 0
      },
      "text/plain": [
       "HBox(children=(IntProgress(value=0, description='Epoch 626', max=323), HTML(value='')))"
      ]
     },
     "metadata": {},
     "output_type": "display_data"
    },
    {
     "data": {
      "application/vnd.jupyter.widget-view+json": {
       "model_id": "",
       "version_major": 2,
       "version_minor": 0
      },
      "text/plain": [
       "HBox(children=(IntProgress(value=0, description='Epoch 627', max=323), HTML(value='')))"
      ]
     },
     "metadata": {},
     "output_type": "display_data"
    },
    {
     "data": {
      "application/vnd.jupyter.widget-view+json": {
       "model_id": "",
       "version_major": 2,
       "version_minor": 0
      },
      "text/plain": [
       "HBox(children=(IntProgress(value=0, description='Epoch 628', max=323), HTML(value='')))"
      ]
     },
     "metadata": {},
     "output_type": "display_data"
    },
    {
     "data": {
      "application/vnd.jupyter.widget-view+json": {
       "model_id": "",
       "version_major": 2,
       "version_minor": 0
      },
      "text/plain": [
       "HBox(children=(IntProgress(value=0, description='Epoch 629', max=323), HTML(value='')))"
      ]
     },
     "metadata": {},
     "output_type": "display_data"
    },
    {
     "data": {
      "application/vnd.jupyter.widget-view+json": {
       "model_id": "",
       "version_major": 2,
       "version_minor": 0
      },
      "text/plain": [
       "HBox(children=(IntProgress(value=0, description='Epoch 630', max=323), HTML(value='')))"
      ]
     },
     "metadata": {},
     "output_type": "display_data"
    },
    {
     "data": {
      "application/vnd.jupyter.widget-view+json": {
       "model_id": "",
       "version_major": 2,
       "version_minor": 0
      },
      "text/plain": [
       "HBox(children=(IntProgress(value=0, description='Epoch 631', max=323), HTML(value='')))"
      ]
     },
     "metadata": {},
     "output_type": "display_data"
    },
    {
     "data": {
      "application/vnd.jupyter.widget-view+json": {
       "model_id": "",
       "version_major": 2,
       "version_minor": 0
      },
      "text/plain": [
       "HBox(children=(IntProgress(value=0, description='Epoch 632', max=323), HTML(value='')))"
      ]
     },
     "metadata": {},
     "output_type": "display_data"
    },
    {
     "data": {
      "application/vnd.jupyter.widget-view+json": {
       "model_id": "",
       "version_major": 2,
       "version_minor": 0
      },
      "text/plain": [
       "HBox(children=(IntProgress(value=0, description='Epoch 633', max=323), HTML(value='')))"
      ]
     },
     "metadata": {},
     "output_type": "display_data"
    },
    {
     "data": {
      "application/vnd.jupyter.widget-view+json": {
       "model_id": "",
       "version_major": 2,
       "version_minor": 0
      },
      "text/plain": [
       "HBox(children=(IntProgress(value=0, description='Epoch 634', max=323), HTML(value='')))"
      ]
     },
     "metadata": {},
     "output_type": "display_data"
    },
    {
     "data": {
      "application/vnd.jupyter.widget-view+json": {
       "model_id": "",
       "version_major": 2,
       "version_minor": 0
      },
      "text/plain": [
       "HBox(children=(IntProgress(value=0, description='Epoch 635', max=323), HTML(value='')))"
      ]
     },
     "metadata": {},
     "output_type": "display_data"
    },
    {
     "data": {
      "application/vnd.jupyter.widget-view+json": {
       "model_id": "",
       "version_major": 2,
       "version_minor": 0
      },
      "text/plain": [
       "HBox(children=(IntProgress(value=0, description='Epoch 636', max=323), HTML(value='')))"
      ]
     },
     "metadata": {},
     "output_type": "display_data"
    },
    {
     "data": {
      "application/vnd.jupyter.widget-view+json": {
       "model_id": "",
       "version_major": 2,
       "version_minor": 0
      },
      "text/plain": [
       "HBox(children=(IntProgress(value=0, description='Epoch 637', max=323), HTML(value='')))"
      ]
     },
     "metadata": {},
     "output_type": "display_data"
    },
    {
     "data": {
      "application/vnd.jupyter.widget-view+json": {
       "model_id": "",
       "version_major": 2,
       "version_minor": 0
      },
      "text/plain": [
       "HBox(children=(IntProgress(value=0, description='Epoch 638', max=323), HTML(value='')))"
      ]
     },
     "metadata": {},
     "output_type": "display_data"
    },
    {
     "data": {
      "application/vnd.jupyter.widget-view+json": {
       "model_id": "",
       "version_major": 2,
       "version_minor": 0
      },
      "text/plain": [
       "HBox(children=(IntProgress(value=0, description='Epoch 639', max=323), HTML(value='')))"
      ]
     },
     "metadata": {},
     "output_type": "display_data"
    },
    {
     "data": {
      "application/vnd.jupyter.widget-view+json": {
       "model_id": "",
       "version_major": 2,
       "version_minor": 0
      },
      "text/plain": [
       "HBox(children=(IntProgress(value=0, description='Epoch 640', max=323), HTML(value='')))"
      ]
     },
     "metadata": {},
     "output_type": "display_data"
    },
    {
     "data": {
      "application/vnd.jupyter.widget-view+json": {
       "model_id": "",
       "version_major": 2,
       "version_minor": 0
      },
      "text/plain": [
       "HBox(children=(IntProgress(value=0, description='Epoch 641', max=323), HTML(value='')))"
      ]
     },
     "metadata": {},
     "output_type": "display_data"
    },
    {
     "data": {
      "application/vnd.jupyter.widget-view+json": {
       "model_id": "",
       "version_major": 2,
       "version_minor": 0
      },
      "text/plain": [
       "HBox(children=(IntProgress(value=0, description='Epoch 642', max=323), HTML(value='')))"
      ]
     },
     "metadata": {},
     "output_type": "display_data"
    },
    {
     "data": {
      "application/vnd.jupyter.widget-view+json": {
       "model_id": "",
       "version_major": 2,
       "version_minor": 0
      },
      "text/plain": [
       "HBox(children=(IntProgress(value=0, description='Epoch 643', max=323), HTML(value='')))"
      ]
     },
     "metadata": {},
     "output_type": "display_data"
    },
    {
     "data": {
      "application/vnd.jupyter.widget-view+json": {
       "model_id": "",
       "version_major": 2,
       "version_minor": 0
      },
      "text/plain": [
       "HBox(children=(IntProgress(value=0, description='Epoch 644', max=323), HTML(value='')))"
      ]
     },
     "metadata": {},
     "output_type": "display_data"
    },
    {
     "data": {
      "application/vnd.jupyter.widget-view+json": {
       "model_id": "",
       "version_major": 2,
       "version_minor": 0
      },
      "text/plain": [
       "HBox(children=(IntProgress(value=0, description='Epoch 645', max=323), HTML(value='')))"
      ]
     },
     "metadata": {},
     "output_type": "display_data"
    },
    {
     "data": {
      "application/vnd.jupyter.widget-view+json": {
       "model_id": "",
       "version_major": 2,
       "version_minor": 0
      },
      "text/plain": [
       "HBox(children=(IntProgress(value=0, description='Epoch 646', max=323), HTML(value='')))"
      ]
     },
     "metadata": {},
     "output_type": "display_data"
    },
    {
     "data": {
      "application/vnd.jupyter.widget-view+json": {
       "model_id": "",
       "version_major": 2,
       "version_minor": 0
      },
      "text/plain": [
       "HBox(children=(IntProgress(value=0, description='Epoch 647', max=323), HTML(value='')))"
      ]
     },
     "metadata": {},
     "output_type": "display_data"
    },
    {
     "data": {
      "application/vnd.jupyter.widget-view+json": {
       "model_id": "",
       "version_major": 2,
       "version_minor": 0
      },
      "text/plain": [
       "HBox(children=(IntProgress(value=0, description='Epoch 648', max=323), HTML(value='')))"
      ]
     },
     "metadata": {},
     "output_type": "display_data"
    },
    {
     "data": {
      "application/vnd.jupyter.widget-view+json": {
       "model_id": "",
       "version_major": 2,
       "version_minor": 0
      },
      "text/plain": [
       "HBox(children=(IntProgress(value=0, description='Epoch 649', max=323), HTML(value='')))"
      ]
     },
     "metadata": {},
     "output_type": "display_data"
    },
    {
     "data": {
      "application/vnd.jupyter.widget-view+json": {
       "model_id": "",
       "version_major": 2,
       "version_minor": 0
      },
      "text/plain": [
       "HBox(children=(IntProgress(value=0, description='Epoch 650', max=323), HTML(value='')))"
      ]
     },
     "metadata": {},
     "output_type": "display_data"
    },
    {
     "data": {
      "application/vnd.jupyter.widget-view+json": {
       "model_id": "",
       "version_major": 2,
       "version_minor": 0
      },
      "text/plain": [
       "HBox(children=(IntProgress(value=0, description='Epoch 651', max=323), HTML(value='')))"
      ]
     },
     "metadata": {},
     "output_type": "display_data"
    },
    {
     "data": {
      "application/vnd.jupyter.widget-view+json": {
       "model_id": "",
       "version_major": 2,
       "version_minor": 0
      },
      "text/plain": [
       "HBox(children=(IntProgress(value=0, description='Epoch 652', max=323), HTML(value='')))"
      ]
     },
     "metadata": {},
     "output_type": "display_data"
    },
    {
     "data": {
      "application/vnd.jupyter.widget-view+json": {
       "model_id": "",
       "version_major": 2,
       "version_minor": 0
      },
      "text/plain": [
       "HBox(children=(IntProgress(value=0, description='Epoch 653', max=323), HTML(value='')))"
      ]
     },
     "metadata": {},
     "output_type": "display_data"
    },
    {
     "data": {
      "application/vnd.jupyter.widget-view+json": {
       "model_id": "",
       "version_major": 2,
       "version_minor": 0
      },
      "text/plain": [
       "HBox(children=(IntProgress(value=0, description='Epoch 654', max=323), HTML(value='')))"
      ]
     },
     "metadata": {},
     "output_type": "display_data"
    },
    {
     "data": {
      "application/vnd.jupyter.widget-view+json": {
       "model_id": "",
       "version_major": 2,
       "version_minor": 0
      },
      "text/plain": [
       "HBox(children=(IntProgress(value=0, description='Epoch 655', max=323), HTML(value='')))"
      ]
     },
     "metadata": {},
     "output_type": "display_data"
    },
    {
     "data": {
      "application/vnd.jupyter.widget-view+json": {
       "model_id": "",
       "version_major": 2,
       "version_minor": 0
      },
      "text/plain": [
       "HBox(children=(IntProgress(value=0, description='Epoch 656', max=323), HTML(value='')))"
      ]
     },
     "metadata": {},
     "output_type": "display_data"
    },
    {
     "data": {
      "application/vnd.jupyter.widget-view+json": {
       "model_id": "",
       "version_major": 2,
       "version_minor": 0
      },
      "text/plain": [
       "HBox(children=(IntProgress(value=0, description='Epoch 657', max=323), HTML(value='')))"
      ]
     },
     "metadata": {},
     "output_type": "display_data"
    },
    {
     "data": {
      "application/vnd.jupyter.widget-view+json": {
       "model_id": "",
       "version_major": 2,
       "version_minor": 0
      },
      "text/plain": [
       "HBox(children=(IntProgress(value=0, description='Epoch 658', max=323), HTML(value='')))"
      ]
     },
     "metadata": {},
     "output_type": "display_data"
    },
    {
     "data": {
      "application/vnd.jupyter.widget-view+json": {
       "model_id": "",
       "version_major": 2,
       "version_minor": 0
      },
      "text/plain": [
       "HBox(children=(IntProgress(value=0, description='Epoch 659', max=323), HTML(value='')))"
      ]
     },
     "metadata": {},
     "output_type": "display_data"
    },
    {
     "data": {
      "application/vnd.jupyter.widget-view+json": {
       "model_id": "",
       "version_major": 2,
       "version_minor": 0
      },
      "text/plain": [
       "HBox(children=(IntProgress(value=0, description='Epoch 660', max=323), HTML(value='')))"
      ]
     },
     "metadata": {},
     "output_type": "display_data"
    },
    {
     "data": {
      "application/vnd.jupyter.widget-view+json": {
       "model_id": "",
       "version_major": 2,
       "version_minor": 0
      },
      "text/plain": [
       "HBox(children=(IntProgress(value=0, description='Epoch 661', max=323), HTML(value='')))"
      ]
     },
     "metadata": {},
     "output_type": "display_data"
    },
    {
     "data": {
      "application/vnd.jupyter.widget-view+json": {
       "model_id": "",
       "version_major": 2,
       "version_minor": 0
      },
      "text/plain": [
       "HBox(children=(IntProgress(value=0, description='Epoch 662', max=323), HTML(value='')))"
      ]
     },
     "metadata": {},
     "output_type": "display_data"
    },
    {
     "data": {
      "application/vnd.jupyter.widget-view+json": {
       "model_id": "",
       "version_major": 2,
       "version_minor": 0
      },
      "text/plain": [
       "HBox(children=(IntProgress(value=0, description='Epoch 663', max=323), HTML(value='')))"
      ]
     },
     "metadata": {},
     "output_type": "display_data"
    },
    {
     "data": {
      "application/vnd.jupyter.widget-view+json": {
       "model_id": "",
       "version_major": 2,
       "version_minor": 0
      },
      "text/plain": [
       "HBox(children=(IntProgress(value=0, description='Epoch 664', max=323), HTML(value='')))"
      ]
     },
     "metadata": {},
     "output_type": "display_data"
    },
    {
     "data": {
      "application/vnd.jupyter.widget-view+json": {
       "model_id": "",
       "version_major": 2,
       "version_minor": 0
      },
      "text/plain": [
       "HBox(children=(IntProgress(value=0, description='Epoch 665', max=323), HTML(value='')))"
      ]
     },
     "metadata": {},
     "output_type": "display_data"
    },
    {
     "data": {
      "application/vnd.jupyter.widget-view+json": {
       "model_id": "",
       "version_major": 2,
       "version_minor": 0
      },
      "text/plain": [
       "HBox(children=(IntProgress(value=0, description='Epoch 666', max=323), HTML(value='')))"
      ]
     },
     "metadata": {},
     "output_type": "display_data"
    },
    {
     "data": {
      "application/vnd.jupyter.widget-view+json": {
       "model_id": "",
       "version_major": 2,
       "version_minor": 0
      },
      "text/plain": [
       "HBox(children=(IntProgress(value=0, description='Epoch 667', max=323), HTML(value='')))"
      ]
     },
     "metadata": {},
     "output_type": "display_data"
    },
    {
     "data": {
      "application/vnd.jupyter.widget-view+json": {
       "model_id": "",
       "version_major": 2,
       "version_minor": 0
      },
      "text/plain": [
       "HBox(children=(IntProgress(value=0, description='Epoch 668', max=323), HTML(value='')))"
      ]
     },
     "metadata": {},
     "output_type": "display_data"
    },
    {
     "data": {
      "application/vnd.jupyter.widget-view+json": {
       "model_id": "",
       "version_major": 2,
       "version_minor": 0
      },
      "text/plain": [
       "HBox(children=(IntProgress(value=0, description='Epoch 669', max=323), HTML(value='')))"
      ]
     },
     "metadata": {},
     "output_type": "display_data"
    },
    {
     "data": {
      "application/vnd.jupyter.widget-view+json": {
       "model_id": "",
       "version_major": 2,
       "version_minor": 0
      },
      "text/plain": [
       "HBox(children=(IntProgress(value=0, description='Epoch 670', max=323), HTML(value='')))"
      ]
     },
     "metadata": {},
     "output_type": "display_data"
    },
    {
     "data": {
      "application/vnd.jupyter.widget-view+json": {
       "model_id": "",
       "version_major": 2,
       "version_minor": 0
      },
      "text/plain": [
       "HBox(children=(IntProgress(value=0, description='Epoch 671', max=323), HTML(value='')))"
      ]
     },
     "metadata": {},
     "output_type": "display_data"
    },
    {
     "data": {
      "application/vnd.jupyter.widget-view+json": {
       "model_id": "",
       "version_major": 2,
       "version_minor": 0
      },
      "text/plain": [
       "HBox(children=(IntProgress(value=0, description='Epoch 672', max=323), HTML(value='')))"
      ]
     },
     "metadata": {},
     "output_type": "display_data"
    },
    {
     "data": {
      "application/vnd.jupyter.widget-view+json": {
       "model_id": "",
       "version_major": 2,
       "version_minor": 0
      },
      "text/plain": [
       "HBox(children=(IntProgress(value=0, description='Epoch 673', max=323), HTML(value='')))"
      ]
     },
     "metadata": {},
     "output_type": "display_data"
    },
    {
     "data": {
      "application/vnd.jupyter.widget-view+json": {
       "model_id": "",
       "version_major": 2,
       "version_minor": 0
      },
      "text/plain": [
       "HBox(children=(IntProgress(value=0, description='Epoch 674', max=323), HTML(value='')))"
      ]
     },
     "metadata": {},
     "output_type": "display_data"
    },
    {
     "data": {
      "application/vnd.jupyter.widget-view+json": {
       "model_id": "",
       "version_major": 2,
       "version_minor": 0
      },
      "text/plain": [
       "HBox(children=(IntProgress(value=0, description='Epoch 675', max=323), HTML(value='')))"
      ]
     },
     "metadata": {},
     "output_type": "display_data"
    },
    {
     "data": {
      "application/vnd.jupyter.widget-view+json": {
       "model_id": "",
       "version_major": 2,
       "version_minor": 0
      },
      "text/plain": [
       "HBox(children=(IntProgress(value=0, description='Epoch 676', max=323), HTML(value='')))"
      ]
     },
     "metadata": {},
     "output_type": "display_data"
    },
    {
     "data": {
      "application/vnd.jupyter.widget-view+json": {
       "model_id": "",
       "version_major": 2,
       "version_minor": 0
      },
      "text/plain": [
       "HBox(children=(IntProgress(value=0, description='Epoch 677', max=323), HTML(value='')))"
      ]
     },
     "metadata": {},
     "output_type": "display_data"
    },
    {
     "data": {
      "application/vnd.jupyter.widget-view+json": {
       "model_id": "",
       "version_major": 2,
       "version_minor": 0
      },
      "text/plain": [
       "HBox(children=(IntProgress(value=0, description='Epoch 678', max=323), HTML(value='')))"
      ]
     },
     "metadata": {},
     "output_type": "display_data"
    },
    {
     "data": {
      "application/vnd.jupyter.widget-view+json": {
       "model_id": "",
       "version_major": 2,
       "version_minor": 0
      },
      "text/plain": [
       "HBox(children=(IntProgress(value=0, description='Epoch 679', max=323), HTML(value='')))"
      ]
     },
     "metadata": {},
     "output_type": "display_data"
    },
    {
     "data": {
      "application/vnd.jupyter.widget-view+json": {
       "model_id": "",
       "version_major": 2,
       "version_minor": 0
      },
      "text/plain": [
       "HBox(children=(IntProgress(value=0, description='Epoch 680', max=323), HTML(value='')))"
      ]
     },
     "metadata": {},
     "output_type": "display_data"
    },
    {
     "data": {
      "application/vnd.jupyter.widget-view+json": {
       "model_id": "",
       "version_major": 2,
       "version_minor": 0
      },
      "text/plain": [
       "HBox(children=(IntProgress(value=0, description='Epoch 681', max=323), HTML(value='')))"
      ]
     },
     "metadata": {},
     "output_type": "display_data"
    },
    {
     "data": {
      "application/vnd.jupyter.widget-view+json": {
       "model_id": "",
       "version_major": 2,
       "version_minor": 0
      },
      "text/plain": [
       "HBox(children=(IntProgress(value=0, description='Epoch 682', max=323), HTML(value='')))"
      ]
     },
     "metadata": {},
     "output_type": "display_data"
    },
    {
     "data": {
      "application/vnd.jupyter.widget-view+json": {
       "model_id": "",
       "version_major": 2,
       "version_minor": 0
      },
      "text/plain": [
       "HBox(children=(IntProgress(value=0, description='Epoch 683', max=323), HTML(value='')))"
      ]
     },
     "metadata": {},
     "output_type": "display_data"
    },
    {
     "data": {
      "application/vnd.jupyter.widget-view+json": {
       "model_id": "",
       "version_major": 2,
       "version_minor": 0
      },
      "text/plain": [
       "HBox(children=(IntProgress(value=0, description='Epoch 684', max=323), HTML(value='')))"
      ]
     },
     "metadata": {},
     "output_type": "display_data"
    },
    {
     "data": {
      "application/vnd.jupyter.widget-view+json": {
       "model_id": "",
       "version_major": 2,
       "version_minor": 0
      },
      "text/plain": [
       "HBox(children=(IntProgress(value=0, description='Epoch 685', max=323), HTML(value='')))"
      ]
     },
     "metadata": {},
     "output_type": "display_data"
    },
    {
     "data": {
      "application/vnd.jupyter.widget-view+json": {
       "model_id": "",
       "version_major": 2,
       "version_minor": 0
      },
      "text/plain": [
       "HBox(children=(IntProgress(value=0, description='Epoch 686', max=323), HTML(value='')))"
      ]
     },
     "metadata": {},
     "output_type": "display_data"
    },
    {
     "data": {
      "application/vnd.jupyter.widget-view+json": {
       "model_id": "",
       "version_major": 2,
       "version_minor": 0
      },
      "text/plain": [
       "HBox(children=(IntProgress(value=0, description='Epoch 687', max=323), HTML(value='')))"
      ]
     },
     "metadata": {},
     "output_type": "display_data"
    },
    {
     "data": {
      "application/vnd.jupyter.widget-view+json": {
       "model_id": "",
       "version_major": 2,
       "version_minor": 0
      },
      "text/plain": [
       "HBox(children=(IntProgress(value=0, description='Epoch 688', max=323), HTML(value='')))"
      ]
     },
     "metadata": {},
     "output_type": "display_data"
    },
    {
     "data": {
      "application/vnd.jupyter.widget-view+json": {
       "model_id": "",
       "version_major": 2,
       "version_minor": 0
      },
      "text/plain": [
       "HBox(children=(IntProgress(value=0, description='Epoch 689', max=323), HTML(value='')))"
      ]
     },
     "metadata": {},
     "output_type": "display_data"
    },
    {
     "data": {
      "application/vnd.jupyter.widget-view+json": {
       "model_id": "",
       "version_major": 2,
       "version_minor": 0
      },
      "text/plain": [
       "HBox(children=(IntProgress(value=0, description='Epoch 690', max=323), HTML(value='')))"
      ]
     },
     "metadata": {},
     "output_type": "display_data"
    },
    {
     "data": {
      "application/vnd.jupyter.widget-view+json": {
       "model_id": "",
       "version_major": 2,
       "version_minor": 0
      },
      "text/plain": [
       "HBox(children=(IntProgress(value=0, description='Epoch 691', max=323), HTML(value='')))"
      ]
     },
     "metadata": {},
     "output_type": "display_data"
    },
    {
     "data": {
      "application/vnd.jupyter.widget-view+json": {
       "model_id": "",
       "version_major": 2,
       "version_minor": 0
      },
      "text/plain": [
       "HBox(children=(IntProgress(value=0, description='Epoch 692', max=323), HTML(value='')))"
      ]
     },
     "metadata": {},
     "output_type": "display_data"
    },
    {
     "data": {
      "application/vnd.jupyter.widget-view+json": {
       "model_id": "",
       "version_major": 2,
       "version_minor": 0
      },
      "text/plain": [
       "HBox(children=(IntProgress(value=0, description='Epoch 693', max=323), HTML(value='')))"
      ]
     },
     "metadata": {},
     "output_type": "display_data"
    },
    {
     "data": {
      "application/vnd.jupyter.widget-view+json": {
       "model_id": "",
       "version_major": 2,
       "version_minor": 0
      },
      "text/plain": [
       "HBox(children=(IntProgress(value=0, description='Epoch 694', max=323), HTML(value='')))"
      ]
     },
     "metadata": {},
     "output_type": "display_data"
    },
    {
     "data": {
      "application/vnd.jupyter.widget-view+json": {
       "model_id": "",
       "version_major": 2,
       "version_minor": 0
      },
      "text/plain": [
       "HBox(children=(IntProgress(value=0, description='Epoch 695', max=323), HTML(value='')))"
      ]
     },
     "metadata": {},
     "output_type": "display_data"
    },
    {
     "data": {
      "application/vnd.jupyter.widget-view+json": {
       "model_id": "",
       "version_major": 2,
       "version_minor": 0
      },
      "text/plain": [
       "HBox(children=(IntProgress(value=0, description='Epoch 696', max=323), HTML(value='')))"
      ]
     },
     "metadata": {},
     "output_type": "display_data"
    },
    {
     "data": {
      "application/vnd.jupyter.widget-view+json": {
       "model_id": "",
       "version_major": 2,
       "version_minor": 0
      },
      "text/plain": [
       "HBox(children=(IntProgress(value=0, description='Epoch 697', max=323), HTML(value='')))"
      ]
     },
     "metadata": {},
     "output_type": "display_data"
    },
    {
     "data": {
      "application/vnd.jupyter.widget-view+json": {
       "model_id": "",
       "version_major": 2,
       "version_minor": 0
      },
      "text/plain": [
       "HBox(children=(IntProgress(value=0, description='Epoch 698', max=323), HTML(value='')))"
      ]
     },
     "metadata": {},
     "output_type": "display_data"
    },
    {
     "data": {
      "application/vnd.jupyter.widget-view+json": {
       "model_id": "",
       "version_major": 2,
       "version_minor": 0
      },
      "text/plain": [
       "HBox(children=(IntProgress(value=0, description='Epoch 699', max=323), HTML(value='')))"
      ]
     },
     "metadata": {},
     "output_type": "display_data"
    },
    {
     "data": {
      "application/vnd.jupyter.widget-view+json": {
       "model_id": "",
       "version_major": 2,
       "version_minor": 0
      },
      "text/plain": [
       "HBox(children=(IntProgress(value=0, description='Epoch 700', max=323), HTML(value='')))"
      ]
     },
     "metadata": {},
     "output_type": "display_data"
    },
    {
     "data": {
      "application/vnd.jupyter.widget-view+json": {
       "model_id": "",
       "version_major": 2,
       "version_minor": 0
      },
      "text/plain": [
       "HBox(children=(IntProgress(value=0, description='Epoch 701', max=323), HTML(value='')))"
      ]
     },
     "metadata": {},
     "output_type": "display_data"
    },
    {
     "data": {
      "application/vnd.jupyter.widget-view+json": {
       "model_id": "",
       "version_major": 2,
       "version_minor": 0
      },
      "text/plain": [
       "HBox(children=(IntProgress(value=0, description='Epoch 702', max=323), HTML(value='')))"
      ]
     },
     "metadata": {},
     "output_type": "display_data"
    },
    {
     "data": {
      "application/vnd.jupyter.widget-view+json": {
       "model_id": "",
       "version_major": 2,
       "version_minor": 0
      },
      "text/plain": [
       "HBox(children=(IntProgress(value=0, description='Epoch 703', max=323), HTML(value='')))"
      ]
     },
     "metadata": {},
     "output_type": "display_data"
    },
    {
     "data": {
      "application/vnd.jupyter.widget-view+json": {
       "model_id": "",
       "version_major": 2,
       "version_minor": 0
      },
      "text/plain": [
       "HBox(children=(IntProgress(value=0, description='Epoch 704', max=323), HTML(value='')))"
      ]
     },
     "metadata": {},
     "output_type": "display_data"
    },
    {
     "data": {
      "application/vnd.jupyter.widget-view+json": {
       "model_id": "",
       "version_major": 2,
       "version_minor": 0
      },
      "text/plain": [
       "HBox(children=(IntProgress(value=0, description='Epoch 705', max=323), HTML(value='')))"
      ]
     },
     "metadata": {},
     "output_type": "display_data"
    },
    {
     "data": {
      "application/vnd.jupyter.widget-view+json": {
       "model_id": "",
       "version_major": 2,
       "version_minor": 0
      },
      "text/plain": [
       "HBox(children=(IntProgress(value=0, description='Epoch 706', max=323), HTML(value='')))"
      ]
     },
     "metadata": {},
     "output_type": "display_data"
    },
    {
     "data": {
      "application/vnd.jupyter.widget-view+json": {
       "model_id": "",
       "version_major": 2,
       "version_minor": 0
      },
      "text/plain": [
       "HBox(children=(IntProgress(value=0, description='Epoch 707', max=323), HTML(value='')))"
      ]
     },
     "metadata": {},
     "output_type": "display_data"
    },
    {
     "data": {
      "application/vnd.jupyter.widget-view+json": {
       "model_id": "",
       "version_major": 2,
       "version_minor": 0
      },
      "text/plain": [
       "HBox(children=(IntProgress(value=0, description='Epoch 708', max=323), HTML(value='')))"
      ]
     },
     "metadata": {},
     "output_type": "display_data"
    },
    {
     "data": {
      "application/vnd.jupyter.widget-view+json": {
       "model_id": "",
       "version_major": 2,
       "version_minor": 0
      },
      "text/plain": [
       "HBox(children=(IntProgress(value=0, description='Epoch 709', max=323), HTML(value='')))"
      ]
     },
     "metadata": {},
     "output_type": "display_data"
    },
    {
     "data": {
      "application/vnd.jupyter.widget-view+json": {
       "model_id": "",
       "version_major": 2,
       "version_minor": 0
      },
      "text/plain": [
       "HBox(children=(IntProgress(value=0, description='Epoch 710', max=323), HTML(value='')))"
      ]
     },
     "metadata": {},
     "output_type": "display_data"
    },
    {
     "data": {
      "application/vnd.jupyter.widget-view+json": {
       "model_id": "",
       "version_major": 2,
       "version_minor": 0
      },
      "text/plain": [
       "HBox(children=(IntProgress(value=0, description='Epoch 711', max=323), HTML(value='')))"
      ]
     },
     "metadata": {},
     "output_type": "display_data"
    },
    {
     "data": {
      "application/vnd.jupyter.widget-view+json": {
       "model_id": "",
       "version_major": 2,
       "version_minor": 0
      },
      "text/plain": [
       "HBox(children=(IntProgress(value=0, description='Epoch 712', max=323), HTML(value='')))"
      ]
     },
     "metadata": {},
     "output_type": "display_data"
    },
    {
     "data": {
      "application/vnd.jupyter.widget-view+json": {
       "model_id": "",
       "version_major": 2,
       "version_minor": 0
      },
      "text/plain": [
       "HBox(children=(IntProgress(value=0, description='Epoch 713', max=323), HTML(value='')))"
      ]
     },
     "metadata": {},
     "output_type": "display_data"
    },
    {
     "data": {
      "application/vnd.jupyter.widget-view+json": {
       "model_id": "",
       "version_major": 2,
       "version_minor": 0
      },
      "text/plain": [
       "HBox(children=(IntProgress(value=0, description='Epoch 714', max=323), HTML(value='')))"
      ]
     },
     "metadata": {},
     "output_type": "display_data"
    },
    {
     "data": {
      "application/vnd.jupyter.widget-view+json": {
       "model_id": "",
       "version_major": 2,
       "version_minor": 0
      },
      "text/plain": [
       "HBox(children=(IntProgress(value=0, description='Epoch 715', max=323), HTML(value='')))"
      ]
     },
     "metadata": {},
     "output_type": "display_data"
    },
    {
     "data": {
      "application/vnd.jupyter.widget-view+json": {
       "model_id": "",
       "version_major": 2,
       "version_minor": 0
      },
      "text/plain": [
       "HBox(children=(IntProgress(value=0, description='Epoch 716', max=323), HTML(value='')))"
      ]
     },
     "metadata": {},
     "output_type": "display_data"
    },
    {
     "data": {
      "application/vnd.jupyter.widget-view+json": {
       "model_id": "",
       "version_major": 2,
       "version_minor": 0
      },
      "text/plain": [
       "HBox(children=(IntProgress(value=0, description='Epoch 717', max=323), HTML(value='')))"
      ]
     },
     "metadata": {},
     "output_type": "display_data"
    },
    {
     "data": {
      "application/vnd.jupyter.widget-view+json": {
       "model_id": "",
       "version_major": 2,
       "version_minor": 0
      },
      "text/plain": [
       "HBox(children=(IntProgress(value=0, description='Epoch 718', max=323), HTML(value='')))"
      ]
     },
     "metadata": {},
     "output_type": "display_data"
    },
    {
     "data": {
      "application/vnd.jupyter.widget-view+json": {
       "model_id": "",
       "version_major": 2,
       "version_minor": 0
      },
      "text/plain": [
       "HBox(children=(IntProgress(value=0, description='Epoch 719', max=323), HTML(value='')))"
      ]
     },
     "metadata": {},
     "output_type": "display_data"
    },
    {
     "data": {
      "application/vnd.jupyter.widget-view+json": {
       "model_id": "",
       "version_major": 2,
       "version_minor": 0
      },
      "text/plain": [
       "HBox(children=(IntProgress(value=0, description='Epoch 720', max=323), HTML(value='')))"
      ]
     },
     "metadata": {},
     "output_type": "display_data"
    },
    {
     "data": {
      "application/vnd.jupyter.widget-view+json": {
       "model_id": "",
       "version_major": 2,
       "version_minor": 0
      },
      "text/plain": [
       "HBox(children=(IntProgress(value=0, description='Epoch 721', max=323), HTML(value='')))"
      ]
     },
     "metadata": {},
     "output_type": "display_data"
    },
    {
     "data": {
      "application/vnd.jupyter.widget-view+json": {
       "model_id": "",
       "version_major": 2,
       "version_minor": 0
      },
      "text/plain": [
       "HBox(children=(IntProgress(value=0, description='Epoch 722', max=323), HTML(value='')))"
      ]
     },
     "metadata": {},
     "output_type": "display_data"
    },
    {
     "data": {
      "application/vnd.jupyter.widget-view+json": {
       "model_id": "",
       "version_major": 2,
       "version_minor": 0
      },
      "text/plain": [
       "HBox(children=(IntProgress(value=0, description='Epoch 723', max=323), HTML(value='')))"
      ]
     },
     "metadata": {},
     "output_type": "display_data"
    },
    {
     "data": {
      "application/vnd.jupyter.widget-view+json": {
       "model_id": "",
       "version_major": 2,
       "version_minor": 0
      },
      "text/plain": [
       "HBox(children=(IntProgress(value=0, description='Epoch 724', max=323), HTML(value='')))"
      ]
     },
     "metadata": {},
     "output_type": "display_data"
    },
    {
     "data": {
      "application/vnd.jupyter.widget-view+json": {
       "model_id": "",
       "version_major": 2,
       "version_minor": 0
      },
      "text/plain": [
       "HBox(children=(IntProgress(value=0, description='Epoch 725', max=323), HTML(value='')))"
      ]
     },
     "metadata": {},
     "output_type": "display_data"
    },
    {
     "data": {
      "application/vnd.jupyter.widget-view+json": {
       "model_id": "",
       "version_major": 2,
       "version_minor": 0
      },
      "text/plain": [
       "HBox(children=(IntProgress(value=0, description='Epoch 726', max=323), HTML(value='')))"
      ]
     },
     "metadata": {},
     "output_type": "display_data"
    },
    {
     "data": {
      "application/vnd.jupyter.widget-view+json": {
       "model_id": "",
       "version_major": 2,
       "version_minor": 0
      },
      "text/plain": [
       "HBox(children=(IntProgress(value=0, description='Epoch 727', max=323), HTML(value='')))"
      ]
     },
     "metadata": {},
     "output_type": "display_data"
    },
    {
     "data": {
      "application/vnd.jupyter.widget-view+json": {
       "model_id": "",
       "version_major": 2,
       "version_minor": 0
      },
      "text/plain": [
       "HBox(children=(IntProgress(value=0, description='Epoch 728', max=323), HTML(value='')))"
      ]
     },
     "metadata": {},
     "output_type": "display_data"
    },
    {
     "data": {
      "application/vnd.jupyter.widget-view+json": {
       "model_id": "",
       "version_major": 2,
       "version_minor": 0
      },
      "text/plain": [
       "HBox(children=(IntProgress(value=0, description='Epoch 729', max=323), HTML(value='')))"
      ]
     },
     "metadata": {},
     "output_type": "display_data"
    },
    {
     "data": {
      "application/vnd.jupyter.widget-view+json": {
       "model_id": "",
       "version_major": 2,
       "version_minor": 0
      },
      "text/plain": [
       "HBox(children=(IntProgress(value=0, description='Epoch 730', max=323), HTML(value='')))"
      ]
     },
     "metadata": {},
     "output_type": "display_data"
    },
    {
     "data": {
      "application/vnd.jupyter.widget-view+json": {
       "model_id": "",
       "version_major": 2,
       "version_minor": 0
      },
      "text/plain": [
       "HBox(children=(IntProgress(value=0, description='Epoch 731', max=323), HTML(value='')))"
      ]
     },
     "metadata": {},
     "output_type": "display_data"
    },
    {
     "data": {
      "application/vnd.jupyter.widget-view+json": {
       "model_id": "",
       "version_major": 2,
       "version_minor": 0
      },
      "text/plain": [
       "HBox(children=(IntProgress(value=0, description='Epoch 732', max=323), HTML(value='')))"
      ]
     },
     "metadata": {},
     "output_type": "display_data"
    },
    {
     "data": {
      "application/vnd.jupyter.widget-view+json": {
       "model_id": "",
       "version_major": 2,
       "version_minor": 0
      },
      "text/plain": [
       "HBox(children=(IntProgress(value=0, description='Epoch 733', max=323), HTML(value='')))"
      ]
     },
     "metadata": {},
     "output_type": "display_data"
    },
    {
     "data": {
      "application/vnd.jupyter.widget-view+json": {
       "model_id": "",
       "version_major": 2,
       "version_minor": 0
      },
      "text/plain": [
       "HBox(children=(IntProgress(value=0, description='Epoch 734', max=323), HTML(value='')))"
      ]
     },
     "metadata": {},
     "output_type": "display_data"
    },
    {
     "data": {
      "application/vnd.jupyter.widget-view+json": {
       "model_id": "",
       "version_major": 2,
       "version_minor": 0
      },
      "text/plain": [
       "HBox(children=(IntProgress(value=0, description='Epoch 735', max=323), HTML(value='')))"
      ]
     },
     "metadata": {},
     "output_type": "display_data"
    },
    {
     "data": {
      "application/vnd.jupyter.widget-view+json": {
       "model_id": "",
       "version_major": 2,
       "version_minor": 0
      },
      "text/plain": [
       "HBox(children=(IntProgress(value=0, description='Epoch 736', max=323), HTML(value='')))"
      ]
     },
     "metadata": {},
     "output_type": "display_data"
    },
    {
     "data": {
      "application/vnd.jupyter.widget-view+json": {
       "model_id": "",
       "version_major": 2,
       "version_minor": 0
      },
      "text/plain": [
       "HBox(children=(IntProgress(value=0, description='Epoch 737', max=323), HTML(value='')))"
      ]
     },
     "metadata": {},
     "output_type": "display_data"
    },
    {
     "data": {
      "application/vnd.jupyter.widget-view+json": {
       "model_id": "",
       "version_major": 2,
       "version_minor": 0
      },
      "text/plain": [
       "HBox(children=(IntProgress(value=0, description='Epoch 738', max=323), HTML(value='')))"
      ]
     },
     "metadata": {},
     "output_type": "display_data"
    },
    {
     "data": {
      "application/vnd.jupyter.widget-view+json": {
       "model_id": "",
       "version_major": 2,
       "version_minor": 0
      },
      "text/plain": [
       "HBox(children=(IntProgress(value=0, description='Epoch 739', max=323), HTML(value='')))"
      ]
     },
     "metadata": {},
     "output_type": "display_data"
    },
    {
     "data": {
      "application/vnd.jupyter.widget-view+json": {
       "model_id": "",
       "version_major": 2,
       "version_minor": 0
      },
      "text/plain": [
       "HBox(children=(IntProgress(value=0, description='Epoch 740', max=323), HTML(value='')))"
      ]
     },
     "metadata": {},
     "output_type": "display_data"
    },
    {
     "data": {
      "application/vnd.jupyter.widget-view+json": {
       "model_id": "",
       "version_major": 2,
       "version_minor": 0
      },
      "text/plain": [
       "HBox(children=(IntProgress(value=0, description='Epoch 741', max=323), HTML(value='')))"
      ]
     },
     "metadata": {},
     "output_type": "display_data"
    },
    {
     "data": {
      "application/vnd.jupyter.widget-view+json": {
       "model_id": "",
       "version_major": 2,
       "version_minor": 0
      },
      "text/plain": [
       "HBox(children=(IntProgress(value=0, description='Epoch 742', max=323), HTML(value='')))"
      ]
     },
     "metadata": {},
     "output_type": "display_data"
    },
    {
     "data": {
      "application/vnd.jupyter.widget-view+json": {
       "model_id": "",
       "version_major": 2,
       "version_minor": 0
      },
      "text/plain": [
       "HBox(children=(IntProgress(value=0, description='Epoch 743', max=323), HTML(value='')))"
      ]
     },
     "metadata": {},
     "output_type": "display_data"
    },
    {
     "data": {
      "application/vnd.jupyter.widget-view+json": {
       "model_id": "",
       "version_major": 2,
       "version_minor": 0
      },
      "text/plain": [
       "HBox(children=(IntProgress(value=0, description='Epoch 744', max=323), HTML(value='')))"
      ]
     },
     "metadata": {},
     "output_type": "display_data"
    },
    {
     "data": {
      "application/vnd.jupyter.widget-view+json": {
       "model_id": "",
       "version_major": 2,
       "version_minor": 0
      },
      "text/plain": [
       "HBox(children=(IntProgress(value=0, description='Epoch 745', max=323), HTML(value='')))"
      ]
     },
     "metadata": {},
     "output_type": "display_data"
    },
    {
     "data": {
      "application/vnd.jupyter.widget-view+json": {
       "model_id": "",
       "version_major": 2,
       "version_minor": 0
      },
      "text/plain": [
       "HBox(children=(IntProgress(value=0, description='Epoch 746', max=323), HTML(value='')))"
      ]
     },
     "metadata": {},
     "output_type": "display_data"
    },
    {
     "data": {
      "application/vnd.jupyter.widget-view+json": {
       "model_id": "",
       "version_major": 2,
       "version_minor": 0
      },
      "text/plain": [
       "HBox(children=(IntProgress(value=0, description='Epoch 747', max=323), HTML(value='')))"
      ]
     },
     "metadata": {},
     "output_type": "display_data"
    },
    {
     "data": {
      "application/vnd.jupyter.widget-view+json": {
       "model_id": "",
       "version_major": 2,
       "version_minor": 0
      },
      "text/plain": [
       "HBox(children=(IntProgress(value=0, description='Epoch 748', max=323), HTML(value='')))"
      ]
     },
     "metadata": {},
     "output_type": "display_data"
    },
    {
     "data": {
      "application/vnd.jupyter.widget-view+json": {
       "model_id": "",
       "version_major": 2,
       "version_minor": 0
      },
      "text/plain": [
       "HBox(children=(IntProgress(value=0, description='Epoch 749', max=323), HTML(value='')))"
      ]
     },
     "metadata": {},
     "output_type": "display_data"
    },
    {
     "data": {
      "application/vnd.jupyter.widget-view+json": {
       "model_id": "",
       "version_major": 2,
       "version_minor": 0
      },
      "text/plain": [
       "HBox(children=(IntProgress(value=0, description='Epoch 750', max=323), HTML(value='')))"
      ]
     },
     "metadata": {},
     "output_type": "display_data"
    },
    {
     "data": {
      "application/vnd.jupyter.widget-view+json": {
       "model_id": "",
       "version_major": 2,
       "version_minor": 0
      },
      "text/plain": [
       "HBox(children=(IntProgress(value=0, description='Epoch 751', max=323), HTML(value='')))"
      ]
     },
     "metadata": {},
     "output_type": "display_data"
    },
    {
     "data": {
      "application/vnd.jupyter.widget-view+json": {
       "model_id": "",
       "version_major": 2,
       "version_minor": 0
      },
      "text/plain": [
       "HBox(children=(IntProgress(value=0, description='Epoch 752', max=323), HTML(value='')))"
      ]
     },
     "metadata": {},
     "output_type": "display_data"
    },
    {
     "data": {
      "application/vnd.jupyter.widget-view+json": {
       "model_id": "",
       "version_major": 2,
       "version_minor": 0
      },
      "text/plain": [
       "HBox(children=(IntProgress(value=0, description='Epoch 753', max=323), HTML(value='')))"
      ]
     },
     "metadata": {},
     "output_type": "display_data"
    },
    {
     "data": {
      "application/vnd.jupyter.widget-view+json": {
       "model_id": "",
       "version_major": 2,
       "version_minor": 0
      },
      "text/plain": [
       "HBox(children=(IntProgress(value=0, description='Epoch 754', max=323), HTML(value='')))"
      ]
     },
     "metadata": {},
     "output_type": "display_data"
    },
    {
     "data": {
      "application/vnd.jupyter.widget-view+json": {
       "model_id": "",
       "version_major": 2,
       "version_minor": 0
      },
      "text/plain": [
       "HBox(children=(IntProgress(value=0, description='Epoch 755', max=323), HTML(value='')))"
      ]
     },
     "metadata": {},
     "output_type": "display_data"
    },
    {
     "data": {
      "application/vnd.jupyter.widget-view+json": {
       "model_id": "",
       "version_major": 2,
       "version_minor": 0
      },
      "text/plain": [
       "HBox(children=(IntProgress(value=0, description='Epoch 756', max=323), HTML(value='')))"
      ]
     },
     "metadata": {},
     "output_type": "display_data"
    },
    {
     "data": {
      "application/vnd.jupyter.widget-view+json": {
       "model_id": "",
       "version_major": 2,
       "version_minor": 0
      },
      "text/plain": [
       "HBox(children=(IntProgress(value=0, description='Epoch 757', max=323), HTML(value='')))"
      ]
     },
     "metadata": {},
     "output_type": "display_data"
    },
    {
     "data": {
      "application/vnd.jupyter.widget-view+json": {
       "model_id": "",
       "version_major": 2,
       "version_minor": 0
      },
      "text/plain": [
       "HBox(children=(IntProgress(value=0, description='Epoch 758', max=323), HTML(value='')))"
      ]
     },
     "metadata": {},
     "output_type": "display_data"
    },
    {
     "data": {
      "application/vnd.jupyter.widget-view+json": {
       "model_id": "",
       "version_major": 2,
       "version_minor": 0
      },
      "text/plain": [
       "HBox(children=(IntProgress(value=0, description='Epoch 759', max=323), HTML(value='')))"
      ]
     },
     "metadata": {},
     "output_type": "display_data"
    },
    {
     "data": {
      "application/vnd.jupyter.widget-view+json": {
       "model_id": "",
       "version_major": 2,
       "version_minor": 0
      },
      "text/plain": [
       "HBox(children=(IntProgress(value=0, description='Epoch 760', max=323), HTML(value='')))"
      ]
     },
     "metadata": {},
     "output_type": "display_data"
    },
    {
     "data": {
      "application/vnd.jupyter.widget-view+json": {
       "model_id": "",
       "version_major": 2,
       "version_minor": 0
      },
      "text/plain": [
       "HBox(children=(IntProgress(value=0, description='Epoch 761', max=323), HTML(value='')))"
      ]
     },
     "metadata": {},
     "output_type": "display_data"
    },
    {
     "data": {
      "application/vnd.jupyter.widget-view+json": {
       "model_id": "",
       "version_major": 2,
       "version_minor": 0
      },
      "text/plain": [
       "HBox(children=(IntProgress(value=0, description='Epoch 762', max=323), HTML(value='')))"
      ]
     },
     "metadata": {},
     "output_type": "display_data"
    },
    {
     "data": {
      "application/vnd.jupyter.widget-view+json": {
       "model_id": "",
       "version_major": 2,
       "version_minor": 0
      },
      "text/plain": [
       "HBox(children=(IntProgress(value=0, description='Epoch 763', max=323), HTML(value='')))"
      ]
     },
     "metadata": {},
     "output_type": "display_data"
    },
    {
     "data": {
      "application/vnd.jupyter.widget-view+json": {
       "model_id": "",
       "version_major": 2,
       "version_minor": 0
      },
      "text/plain": [
       "HBox(children=(IntProgress(value=0, description='Epoch 764', max=323), HTML(value='')))"
      ]
     },
     "metadata": {},
     "output_type": "display_data"
    },
    {
     "data": {
      "application/vnd.jupyter.widget-view+json": {
       "model_id": "",
       "version_major": 2,
       "version_minor": 0
      },
      "text/plain": [
       "HBox(children=(IntProgress(value=0, description='Epoch 765', max=323), HTML(value='')))"
      ]
     },
     "metadata": {},
     "output_type": "display_data"
    },
    {
     "data": {
      "application/vnd.jupyter.widget-view+json": {
       "model_id": "",
       "version_major": 2,
       "version_minor": 0
      },
      "text/plain": [
       "HBox(children=(IntProgress(value=0, description='Epoch 766', max=323), HTML(value='')))"
      ]
     },
     "metadata": {},
     "output_type": "display_data"
    },
    {
     "data": {
      "application/vnd.jupyter.widget-view+json": {
       "model_id": "",
       "version_major": 2,
       "version_minor": 0
      },
      "text/plain": [
       "HBox(children=(IntProgress(value=0, description='Epoch 767', max=323), HTML(value='')))"
      ]
     },
     "metadata": {},
     "output_type": "display_data"
    },
    {
     "data": {
      "application/vnd.jupyter.widget-view+json": {
       "model_id": "",
       "version_major": 2,
       "version_minor": 0
      },
      "text/plain": [
       "HBox(children=(IntProgress(value=0, description='Epoch 768', max=323), HTML(value='')))"
      ]
     },
     "metadata": {},
     "output_type": "display_data"
    },
    {
     "data": {
      "application/vnd.jupyter.widget-view+json": {
       "model_id": "",
       "version_major": 2,
       "version_minor": 0
      },
      "text/plain": [
       "HBox(children=(IntProgress(value=0, description='Epoch 769', max=323), HTML(value='')))"
      ]
     },
     "metadata": {},
     "output_type": "display_data"
    },
    {
     "data": {
      "application/vnd.jupyter.widget-view+json": {
       "model_id": "",
       "version_major": 2,
       "version_minor": 0
      },
      "text/plain": [
       "HBox(children=(IntProgress(value=0, description='Epoch 770', max=323), HTML(value='')))"
      ]
     },
     "metadata": {},
     "output_type": "display_data"
    },
    {
     "data": {
      "application/vnd.jupyter.widget-view+json": {
       "model_id": "",
       "version_major": 2,
       "version_minor": 0
      },
      "text/plain": [
       "HBox(children=(IntProgress(value=0, description='Epoch 771', max=323), HTML(value='')))"
      ]
     },
     "metadata": {},
     "output_type": "display_data"
    },
    {
     "data": {
      "application/vnd.jupyter.widget-view+json": {
       "model_id": "",
       "version_major": 2,
       "version_minor": 0
      },
      "text/plain": [
       "HBox(children=(IntProgress(value=0, description='Epoch 772', max=323), HTML(value='')))"
      ]
     },
     "metadata": {},
     "output_type": "display_data"
    },
    {
     "data": {
      "application/vnd.jupyter.widget-view+json": {
       "model_id": "",
       "version_major": 2,
       "version_minor": 0
      },
      "text/plain": [
       "HBox(children=(IntProgress(value=0, description='Epoch 773', max=323), HTML(value='')))"
      ]
     },
     "metadata": {},
     "output_type": "display_data"
    },
    {
     "data": {
      "application/vnd.jupyter.widget-view+json": {
       "model_id": "",
       "version_major": 2,
       "version_minor": 0
      },
      "text/plain": [
       "HBox(children=(IntProgress(value=0, description='Epoch 774', max=323), HTML(value='')))"
      ]
     },
     "metadata": {},
     "output_type": "display_data"
    },
    {
     "data": {
      "application/vnd.jupyter.widget-view+json": {
       "model_id": "",
       "version_major": 2,
       "version_minor": 0
      },
      "text/plain": [
       "HBox(children=(IntProgress(value=0, description='Epoch 775', max=323), HTML(value='')))"
      ]
     },
     "metadata": {},
     "output_type": "display_data"
    },
    {
     "data": {
      "application/vnd.jupyter.widget-view+json": {
       "model_id": "",
       "version_major": 2,
       "version_minor": 0
      },
      "text/plain": [
       "HBox(children=(IntProgress(value=0, description='Epoch 776', max=323), HTML(value='')))"
      ]
     },
     "metadata": {},
     "output_type": "display_data"
    },
    {
     "data": {
      "application/vnd.jupyter.widget-view+json": {
       "model_id": "",
       "version_major": 2,
       "version_minor": 0
      },
      "text/plain": [
       "HBox(children=(IntProgress(value=0, description='Epoch 777', max=323), HTML(value='')))"
      ]
     },
     "metadata": {},
     "output_type": "display_data"
    },
    {
     "data": {
      "application/vnd.jupyter.widget-view+json": {
       "model_id": "",
       "version_major": 2,
       "version_minor": 0
      },
      "text/plain": [
       "HBox(children=(IntProgress(value=0, description='Epoch 778', max=323), HTML(value='')))"
      ]
     },
     "metadata": {},
     "output_type": "display_data"
    },
    {
     "data": {
      "application/vnd.jupyter.widget-view+json": {
       "model_id": "",
       "version_major": 2,
       "version_minor": 0
      },
      "text/plain": [
       "HBox(children=(IntProgress(value=0, description='Epoch 779', max=323), HTML(value='')))"
      ]
     },
     "metadata": {},
     "output_type": "display_data"
    },
    {
     "data": {
      "application/vnd.jupyter.widget-view+json": {
       "model_id": "",
       "version_major": 2,
       "version_minor": 0
      },
      "text/plain": [
       "HBox(children=(IntProgress(value=0, description='Epoch 780', max=323), HTML(value='')))"
      ]
     },
     "metadata": {},
     "output_type": "display_data"
    },
    {
     "data": {
      "application/vnd.jupyter.widget-view+json": {
       "model_id": "",
       "version_major": 2,
       "version_minor": 0
      },
      "text/plain": [
       "HBox(children=(IntProgress(value=0, description='Epoch 781', max=323), HTML(value='')))"
      ]
     },
     "metadata": {},
     "output_type": "display_data"
    },
    {
     "data": {
      "application/vnd.jupyter.widget-view+json": {
       "model_id": "",
       "version_major": 2,
       "version_minor": 0
      },
      "text/plain": [
       "HBox(children=(IntProgress(value=0, description='Epoch 782', max=323), HTML(value='')))"
      ]
     },
     "metadata": {},
     "output_type": "display_data"
    },
    {
     "data": {
      "application/vnd.jupyter.widget-view+json": {
       "model_id": "",
       "version_major": 2,
       "version_minor": 0
      },
      "text/plain": [
       "HBox(children=(IntProgress(value=0, description='Epoch 783', max=323), HTML(value='')))"
      ]
     },
     "metadata": {},
     "output_type": "display_data"
    },
    {
     "data": {
      "application/vnd.jupyter.widget-view+json": {
       "model_id": "",
       "version_major": 2,
       "version_minor": 0
      },
      "text/plain": [
       "HBox(children=(IntProgress(value=0, description='Epoch 784', max=323), HTML(value='')))"
      ]
     },
     "metadata": {},
     "output_type": "display_data"
    },
    {
     "data": {
      "application/vnd.jupyter.widget-view+json": {
       "model_id": "",
       "version_major": 2,
       "version_minor": 0
      },
      "text/plain": [
       "HBox(children=(IntProgress(value=0, description='Epoch 785', max=323), HTML(value='')))"
      ]
     },
     "metadata": {},
     "output_type": "display_data"
    },
    {
     "data": {
      "application/vnd.jupyter.widget-view+json": {
       "model_id": "",
       "version_major": 2,
       "version_minor": 0
      },
      "text/plain": [
       "HBox(children=(IntProgress(value=0, description='Epoch 786', max=323), HTML(value='')))"
      ]
     },
     "metadata": {},
     "output_type": "display_data"
    },
    {
     "data": {
      "application/vnd.jupyter.widget-view+json": {
       "model_id": "",
       "version_major": 2,
       "version_minor": 0
      },
      "text/plain": [
       "HBox(children=(IntProgress(value=0, description='Epoch 787', max=323), HTML(value='')))"
      ]
     },
     "metadata": {},
     "output_type": "display_data"
    },
    {
     "data": {
      "application/vnd.jupyter.widget-view+json": {
       "model_id": "",
       "version_major": 2,
       "version_minor": 0
      },
      "text/plain": [
       "HBox(children=(IntProgress(value=0, description='Epoch 788', max=323), HTML(value='')))"
      ]
     },
     "metadata": {},
     "output_type": "display_data"
    },
    {
     "data": {
      "application/vnd.jupyter.widget-view+json": {
       "model_id": "",
       "version_major": 2,
       "version_minor": 0
      },
      "text/plain": [
       "HBox(children=(IntProgress(value=0, description='Epoch 789', max=323), HTML(value='')))"
      ]
     },
     "metadata": {},
     "output_type": "display_data"
    },
    {
     "data": {
      "application/vnd.jupyter.widget-view+json": {
       "model_id": "",
       "version_major": 2,
       "version_minor": 0
      },
      "text/plain": [
       "HBox(children=(IntProgress(value=0, description='Epoch 790', max=323), HTML(value='')))"
      ]
     },
     "metadata": {},
     "output_type": "display_data"
    },
    {
     "data": {
      "application/vnd.jupyter.widget-view+json": {
       "model_id": "",
       "version_major": 2,
       "version_minor": 0
      },
      "text/plain": [
       "HBox(children=(IntProgress(value=0, description='Epoch 791', max=323), HTML(value='')))"
      ]
     },
     "metadata": {},
     "output_type": "display_data"
    },
    {
     "data": {
      "application/vnd.jupyter.widget-view+json": {
       "model_id": "",
       "version_major": 2,
       "version_minor": 0
      },
      "text/plain": [
       "HBox(children=(IntProgress(value=0, description='Epoch 792', max=323), HTML(value='')))"
      ]
     },
     "metadata": {},
     "output_type": "display_data"
    },
    {
     "data": {
      "application/vnd.jupyter.widget-view+json": {
       "model_id": "",
       "version_major": 2,
       "version_minor": 0
      },
      "text/plain": [
       "HBox(children=(IntProgress(value=0, description='Epoch 793', max=323), HTML(value='')))"
      ]
     },
     "metadata": {},
     "output_type": "display_data"
    },
    {
     "data": {
      "application/vnd.jupyter.widget-view+json": {
       "model_id": "",
       "version_major": 2,
       "version_minor": 0
      },
      "text/plain": [
       "HBox(children=(IntProgress(value=0, description='Epoch 794', max=323), HTML(value='')))"
      ]
     },
     "metadata": {},
     "output_type": "display_data"
    },
    {
     "data": {
      "application/vnd.jupyter.widget-view+json": {
       "model_id": "",
       "version_major": 2,
       "version_minor": 0
      },
      "text/plain": [
       "HBox(children=(IntProgress(value=0, description='Epoch 795', max=323), HTML(value='')))"
      ]
     },
     "metadata": {},
     "output_type": "display_data"
    },
    {
     "data": {
      "application/vnd.jupyter.widget-view+json": {
       "model_id": "",
       "version_major": 2,
       "version_minor": 0
      },
      "text/plain": [
       "HBox(children=(IntProgress(value=0, description='Epoch 796', max=323), HTML(value='')))"
      ]
     },
     "metadata": {},
     "output_type": "display_data"
    },
    {
     "data": {
      "application/vnd.jupyter.widget-view+json": {
       "model_id": "",
       "version_major": 2,
       "version_minor": 0
      },
      "text/plain": [
       "HBox(children=(IntProgress(value=0, description='Epoch 797', max=323), HTML(value='')))"
      ]
     },
     "metadata": {},
     "output_type": "display_data"
    },
    {
     "data": {
      "application/vnd.jupyter.widget-view+json": {
       "model_id": "",
       "version_major": 2,
       "version_minor": 0
      },
      "text/plain": [
       "HBox(children=(IntProgress(value=0, description='Epoch 798', max=323), HTML(value='')))"
      ]
     },
     "metadata": {},
     "output_type": "display_data"
    },
    {
     "data": {
      "application/vnd.jupyter.widget-view+json": {
       "model_id": "",
       "version_major": 2,
       "version_minor": 0
      },
      "text/plain": [
       "HBox(children=(IntProgress(value=0, description='Epoch 799', max=323), HTML(value='')))"
      ]
     },
     "metadata": {},
     "output_type": "display_data"
    },
    {
     "data": {
      "application/vnd.jupyter.widget-view+json": {
       "model_id": "",
       "version_major": 2,
       "version_minor": 0
      },
      "text/plain": [
       "HBox(children=(IntProgress(value=0, description='Epoch 800', max=323), HTML(value='')))"
      ]
     },
     "metadata": {},
     "output_type": "display_data"
    },
    {
     "data": {
      "application/vnd.jupyter.widget-view+json": {
       "model_id": "",
       "version_major": 2,
       "version_minor": 0
      },
      "text/plain": [
       "HBox(children=(IntProgress(value=0, description='Epoch 801', max=323), HTML(value='')))"
      ]
     },
     "metadata": {},
     "output_type": "display_data"
    },
    {
     "data": {
      "application/vnd.jupyter.widget-view+json": {
       "model_id": "",
       "version_major": 2,
       "version_minor": 0
      },
      "text/plain": [
       "HBox(children=(IntProgress(value=0, description='Epoch 802', max=323), HTML(value='')))"
      ]
     },
     "metadata": {},
     "output_type": "display_data"
    },
    {
     "data": {
      "application/vnd.jupyter.widget-view+json": {
       "model_id": "",
       "version_major": 2,
       "version_minor": 0
      },
      "text/plain": [
       "HBox(children=(IntProgress(value=0, description='Epoch 803', max=323), HTML(value='')))"
      ]
     },
     "metadata": {},
     "output_type": "display_data"
    },
    {
     "data": {
      "application/vnd.jupyter.widget-view+json": {
       "model_id": "",
       "version_major": 2,
       "version_minor": 0
      },
      "text/plain": [
       "HBox(children=(IntProgress(value=0, description='Epoch 804', max=323), HTML(value='')))"
      ]
     },
     "metadata": {},
     "output_type": "display_data"
    },
    {
     "data": {
      "application/vnd.jupyter.widget-view+json": {
       "model_id": "",
       "version_major": 2,
       "version_minor": 0
      },
      "text/plain": [
       "HBox(children=(IntProgress(value=0, description='Epoch 805', max=323), HTML(value='')))"
      ]
     },
     "metadata": {},
     "output_type": "display_data"
    },
    {
     "data": {
      "application/vnd.jupyter.widget-view+json": {
       "model_id": "",
       "version_major": 2,
       "version_minor": 0
      },
      "text/plain": [
       "HBox(children=(IntProgress(value=0, description='Epoch 806', max=323), HTML(value='')))"
      ]
     },
     "metadata": {},
     "output_type": "display_data"
    },
    {
     "data": {
      "application/vnd.jupyter.widget-view+json": {
       "model_id": "",
       "version_major": 2,
       "version_minor": 0
      },
      "text/plain": [
       "HBox(children=(IntProgress(value=0, description='Epoch 807', max=323), HTML(value='')))"
      ]
     },
     "metadata": {},
     "output_type": "display_data"
    },
    {
     "data": {
      "application/vnd.jupyter.widget-view+json": {
       "model_id": "",
       "version_major": 2,
       "version_minor": 0
      },
      "text/plain": [
       "HBox(children=(IntProgress(value=0, description='Epoch 808', max=323), HTML(value='')))"
      ]
     },
     "metadata": {},
     "output_type": "display_data"
    },
    {
     "data": {
      "application/vnd.jupyter.widget-view+json": {
       "model_id": "",
       "version_major": 2,
       "version_minor": 0
      },
      "text/plain": [
       "HBox(children=(IntProgress(value=0, description='Epoch 809', max=323), HTML(value='')))"
      ]
     },
     "metadata": {},
     "output_type": "display_data"
    },
    {
     "data": {
      "application/vnd.jupyter.widget-view+json": {
       "model_id": "",
       "version_major": 2,
       "version_minor": 0
      },
      "text/plain": [
       "HBox(children=(IntProgress(value=0, description='Epoch 810', max=323), HTML(value='')))"
      ]
     },
     "metadata": {},
     "output_type": "display_data"
    },
    {
     "data": {
      "application/vnd.jupyter.widget-view+json": {
       "model_id": "",
       "version_major": 2,
       "version_minor": 0
      },
      "text/plain": [
       "HBox(children=(IntProgress(value=0, description='Epoch 811', max=323), HTML(value='')))"
      ]
     },
     "metadata": {},
     "output_type": "display_data"
    },
    {
     "data": {
      "application/vnd.jupyter.widget-view+json": {
       "model_id": "",
       "version_major": 2,
       "version_minor": 0
      },
      "text/plain": [
       "HBox(children=(IntProgress(value=0, description='Epoch 812', max=323), HTML(value='')))"
      ]
     },
     "metadata": {},
     "output_type": "display_data"
    },
    {
     "data": {
      "application/vnd.jupyter.widget-view+json": {
       "model_id": "",
       "version_major": 2,
       "version_minor": 0
      },
      "text/plain": [
       "HBox(children=(IntProgress(value=0, description='Epoch 813', max=323), HTML(value='')))"
      ]
     },
     "metadata": {},
     "output_type": "display_data"
    },
    {
     "data": {
      "application/vnd.jupyter.widget-view+json": {
       "model_id": "",
       "version_major": 2,
       "version_minor": 0
      },
      "text/plain": [
       "HBox(children=(IntProgress(value=0, description='Epoch 814', max=323), HTML(value='')))"
      ]
     },
     "metadata": {},
     "output_type": "display_data"
    },
    {
     "data": {
      "application/vnd.jupyter.widget-view+json": {
       "model_id": "",
       "version_major": 2,
       "version_minor": 0
      },
      "text/plain": [
       "HBox(children=(IntProgress(value=0, description='Epoch 815', max=323), HTML(value='')))"
      ]
     },
     "metadata": {},
     "output_type": "display_data"
    },
    {
     "data": {
      "application/vnd.jupyter.widget-view+json": {
       "model_id": "",
       "version_major": 2,
       "version_minor": 0
      },
      "text/plain": [
       "HBox(children=(IntProgress(value=0, description='Epoch 816', max=323), HTML(value='')))"
      ]
     },
     "metadata": {},
     "output_type": "display_data"
    },
    {
     "data": {
      "application/vnd.jupyter.widget-view+json": {
       "model_id": "",
       "version_major": 2,
       "version_minor": 0
      },
      "text/plain": [
       "HBox(children=(IntProgress(value=0, description='Epoch 817', max=323), HTML(value='')))"
      ]
     },
     "metadata": {},
     "output_type": "display_data"
    },
    {
     "data": {
      "application/vnd.jupyter.widget-view+json": {
       "model_id": "",
       "version_major": 2,
       "version_minor": 0
      },
      "text/plain": [
       "HBox(children=(IntProgress(value=0, description='Epoch 818', max=323), HTML(value='')))"
      ]
     },
     "metadata": {},
     "output_type": "display_data"
    },
    {
     "data": {
      "application/vnd.jupyter.widget-view+json": {
       "model_id": "",
       "version_major": 2,
       "version_minor": 0
      },
      "text/plain": [
       "HBox(children=(IntProgress(value=0, description='Epoch 819', max=323), HTML(value='')))"
      ]
     },
     "metadata": {},
     "output_type": "display_data"
    },
    {
     "data": {
      "application/vnd.jupyter.widget-view+json": {
       "model_id": "",
       "version_major": 2,
       "version_minor": 0
      },
      "text/plain": [
       "HBox(children=(IntProgress(value=0, description='Epoch 820', max=323), HTML(value='')))"
      ]
     },
     "metadata": {},
     "output_type": "display_data"
    },
    {
     "data": {
      "application/vnd.jupyter.widget-view+json": {
       "model_id": "",
       "version_major": 2,
       "version_minor": 0
      },
      "text/plain": [
       "HBox(children=(IntProgress(value=0, description='Epoch 821', max=323), HTML(value='')))"
      ]
     },
     "metadata": {},
     "output_type": "display_data"
    },
    {
     "data": {
      "application/vnd.jupyter.widget-view+json": {
       "model_id": "",
       "version_major": 2,
       "version_minor": 0
      },
      "text/plain": [
       "HBox(children=(IntProgress(value=0, description='Epoch 822', max=323), HTML(value='')))"
      ]
     },
     "metadata": {},
     "output_type": "display_data"
    },
    {
     "data": {
      "application/vnd.jupyter.widget-view+json": {
       "model_id": "",
       "version_major": 2,
       "version_minor": 0
      },
      "text/plain": [
       "HBox(children=(IntProgress(value=0, description='Epoch 823', max=323), HTML(value='')))"
      ]
     },
     "metadata": {},
     "output_type": "display_data"
    },
    {
     "data": {
      "application/vnd.jupyter.widget-view+json": {
       "model_id": "",
       "version_major": 2,
       "version_minor": 0
      },
      "text/plain": [
       "HBox(children=(IntProgress(value=0, description='Epoch 824', max=323), HTML(value='')))"
      ]
     },
     "metadata": {},
     "output_type": "display_data"
    },
    {
     "data": {
      "application/vnd.jupyter.widget-view+json": {
       "model_id": "",
       "version_major": 2,
       "version_minor": 0
      },
      "text/plain": [
       "HBox(children=(IntProgress(value=0, description='Epoch 825', max=323), HTML(value='')))"
      ]
     },
     "metadata": {},
     "output_type": "display_data"
    },
    {
     "data": {
      "application/vnd.jupyter.widget-view+json": {
       "model_id": "",
       "version_major": 2,
       "version_minor": 0
      },
      "text/plain": [
       "HBox(children=(IntProgress(value=0, description='Epoch 826', max=323), HTML(value='')))"
      ]
     },
     "metadata": {},
     "output_type": "display_data"
    },
    {
     "data": {
      "application/vnd.jupyter.widget-view+json": {
       "model_id": "",
       "version_major": 2,
       "version_minor": 0
      },
      "text/plain": [
       "HBox(children=(IntProgress(value=0, description='Epoch 827', max=323), HTML(value='')))"
      ]
     },
     "metadata": {},
     "output_type": "display_data"
    },
    {
     "data": {
      "application/vnd.jupyter.widget-view+json": {
       "model_id": "",
       "version_major": 2,
       "version_minor": 0
      },
      "text/plain": [
       "HBox(children=(IntProgress(value=0, description='Epoch 828', max=323), HTML(value='')))"
      ]
     },
     "metadata": {},
     "output_type": "display_data"
    },
    {
     "data": {
      "application/vnd.jupyter.widget-view+json": {
       "model_id": "",
       "version_major": 2,
       "version_minor": 0
      },
      "text/plain": [
       "HBox(children=(IntProgress(value=0, description='Epoch 829', max=323), HTML(value='')))"
      ]
     },
     "metadata": {},
     "output_type": "display_data"
    },
    {
     "data": {
      "application/vnd.jupyter.widget-view+json": {
       "model_id": "",
       "version_major": 2,
       "version_minor": 0
      },
      "text/plain": [
       "HBox(children=(IntProgress(value=0, description='Epoch 830', max=323), HTML(value='')))"
      ]
     },
     "metadata": {},
     "output_type": "display_data"
    },
    {
     "data": {
      "application/vnd.jupyter.widget-view+json": {
       "model_id": "",
       "version_major": 2,
       "version_minor": 0
      },
      "text/plain": [
       "HBox(children=(IntProgress(value=0, description='Epoch 831', max=323), HTML(value='')))"
      ]
     },
     "metadata": {},
     "output_type": "display_data"
    },
    {
     "data": {
      "application/vnd.jupyter.widget-view+json": {
       "model_id": "",
       "version_major": 2,
       "version_minor": 0
      },
      "text/plain": [
       "HBox(children=(IntProgress(value=0, description='Epoch 832', max=323), HTML(value='')))"
      ]
     },
     "metadata": {},
     "output_type": "display_data"
    },
    {
     "data": {
      "application/vnd.jupyter.widget-view+json": {
       "model_id": "",
       "version_major": 2,
       "version_minor": 0
      },
      "text/plain": [
       "HBox(children=(IntProgress(value=0, description='Epoch 833', max=323), HTML(value='')))"
      ]
     },
     "metadata": {},
     "output_type": "display_data"
    },
    {
     "data": {
      "application/vnd.jupyter.widget-view+json": {
       "model_id": "",
       "version_major": 2,
       "version_minor": 0
      },
      "text/plain": [
       "HBox(children=(IntProgress(value=0, description='Epoch 834', max=323), HTML(value='')))"
      ]
     },
     "metadata": {},
     "output_type": "display_data"
    },
    {
     "data": {
      "application/vnd.jupyter.widget-view+json": {
       "model_id": "",
       "version_major": 2,
       "version_minor": 0
      },
      "text/plain": [
       "HBox(children=(IntProgress(value=0, description='Epoch 835', max=323), HTML(value='')))"
      ]
     },
     "metadata": {},
     "output_type": "display_data"
    },
    {
     "data": {
      "application/vnd.jupyter.widget-view+json": {
       "model_id": "",
       "version_major": 2,
       "version_minor": 0
      },
      "text/plain": [
       "HBox(children=(IntProgress(value=0, description='Epoch 836', max=323), HTML(value='')))"
      ]
     },
     "metadata": {},
     "output_type": "display_data"
    },
    {
     "data": {
      "application/vnd.jupyter.widget-view+json": {
       "model_id": "",
       "version_major": 2,
       "version_minor": 0
      },
      "text/plain": [
       "HBox(children=(IntProgress(value=0, description='Epoch 837', max=323), HTML(value='')))"
      ]
     },
     "metadata": {},
     "output_type": "display_data"
    },
    {
     "data": {
      "application/vnd.jupyter.widget-view+json": {
       "model_id": "",
       "version_major": 2,
       "version_minor": 0
      },
      "text/plain": [
       "HBox(children=(IntProgress(value=0, description='Epoch 838', max=323), HTML(value='')))"
      ]
     },
     "metadata": {},
     "output_type": "display_data"
    },
    {
     "data": {
      "application/vnd.jupyter.widget-view+json": {
       "model_id": "",
       "version_major": 2,
       "version_minor": 0
      },
      "text/plain": [
       "HBox(children=(IntProgress(value=0, description='Epoch 839', max=323), HTML(value='')))"
      ]
     },
     "metadata": {},
     "output_type": "display_data"
    },
    {
     "data": {
      "application/vnd.jupyter.widget-view+json": {
       "model_id": "",
       "version_major": 2,
       "version_minor": 0
      },
      "text/plain": [
       "HBox(children=(IntProgress(value=0, description='Epoch 840', max=323), HTML(value='')))"
      ]
     },
     "metadata": {},
     "output_type": "display_data"
    },
    {
     "data": {
      "application/vnd.jupyter.widget-view+json": {
       "model_id": "",
       "version_major": 2,
       "version_minor": 0
      },
      "text/plain": [
       "HBox(children=(IntProgress(value=0, description='Epoch 841', max=323), HTML(value='')))"
      ]
     },
     "metadata": {},
     "output_type": "display_data"
    },
    {
     "data": {
      "application/vnd.jupyter.widget-view+json": {
       "model_id": "",
       "version_major": 2,
       "version_minor": 0
      },
      "text/plain": [
       "HBox(children=(IntProgress(value=0, description='Epoch 842', max=323), HTML(value='')))"
      ]
     },
     "metadata": {},
     "output_type": "display_data"
    },
    {
     "data": {
      "application/vnd.jupyter.widget-view+json": {
       "model_id": "",
       "version_major": 2,
       "version_minor": 0
      },
      "text/plain": [
       "HBox(children=(IntProgress(value=0, description='Epoch 843', max=323), HTML(value='')))"
      ]
     },
     "metadata": {},
     "output_type": "display_data"
    },
    {
     "data": {
      "application/vnd.jupyter.widget-view+json": {
       "model_id": "",
       "version_major": 2,
       "version_minor": 0
      },
      "text/plain": [
       "HBox(children=(IntProgress(value=0, description='Epoch 844', max=323), HTML(value='')))"
      ]
     },
     "metadata": {},
     "output_type": "display_data"
    },
    {
     "data": {
      "application/vnd.jupyter.widget-view+json": {
       "model_id": "",
       "version_major": 2,
       "version_minor": 0
      },
      "text/plain": [
       "HBox(children=(IntProgress(value=0, description='Epoch 845', max=323), HTML(value='')))"
      ]
     },
     "metadata": {},
     "output_type": "display_data"
    },
    {
     "data": {
      "application/vnd.jupyter.widget-view+json": {
       "model_id": "",
       "version_major": 2,
       "version_minor": 0
      },
      "text/plain": [
       "HBox(children=(IntProgress(value=0, description='Epoch 846', max=323), HTML(value='')))"
      ]
     },
     "metadata": {},
     "output_type": "display_data"
    },
    {
     "data": {
      "application/vnd.jupyter.widget-view+json": {
       "model_id": "",
       "version_major": 2,
       "version_minor": 0
      },
      "text/plain": [
       "HBox(children=(IntProgress(value=0, description='Epoch 847', max=323), HTML(value='')))"
      ]
     },
     "metadata": {},
     "output_type": "display_data"
    },
    {
     "data": {
      "application/vnd.jupyter.widget-view+json": {
       "model_id": "",
       "version_major": 2,
       "version_minor": 0
      },
      "text/plain": [
       "HBox(children=(IntProgress(value=0, description='Epoch 848', max=323), HTML(value='')))"
      ]
     },
     "metadata": {},
     "output_type": "display_data"
    },
    {
     "data": {
      "application/vnd.jupyter.widget-view+json": {
       "model_id": "",
       "version_major": 2,
       "version_minor": 0
      },
      "text/plain": [
       "HBox(children=(IntProgress(value=0, description='Epoch 849', max=323), HTML(value='')))"
      ]
     },
     "metadata": {},
     "output_type": "display_data"
    },
    {
     "data": {
      "application/vnd.jupyter.widget-view+json": {
       "model_id": "",
       "version_major": 2,
       "version_minor": 0
      },
      "text/plain": [
       "HBox(children=(IntProgress(value=0, description='Epoch 850', max=323), HTML(value='')))"
      ]
     },
     "metadata": {},
     "output_type": "display_data"
    },
    {
     "data": {
      "application/vnd.jupyter.widget-view+json": {
       "model_id": "",
       "version_major": 2,
       "version_minor": 0
      },
      "text/plain": [
       "HBox(children=(IntProgress(value=0, description='Epoch 851', max=323), HTML(value='')))"
      ]
     },
     "metadata": {},
     "output_type": "display_data"
    },
    {
     "data": {
      "application/vnd.jupyter.widget-view+json": {
       "model_id": "",
       "version_major": 2,
       "version_minor": 0
      },
      "text/plain": [
       "HBox(children=(IntProgress(value=0, description='Epoch 852', max=323), HTML(value='')))"
      ]
     },
     "metadata": {},
     "output_type": "display_data"
    },
    {
     "data": {
      "application/vnd.jupyter.widget-view+json": {
       "model_id": "",
       "version_major": 2,
       "version_minor": 0
      },
      "text/plain": [
       "HBox(children=(IntProgress(value=0, description='Epoch 853', max=323), HTML(value='')))"
      ]
     },
     "metadata": {},
     "output_type": "display_data"
    },
    {
     "data": {
      "application/vnd.jupyter.widget-view+json": {
       "model_id": "",
       "version_major": 2,
       "version_minor": 0
      },
      "text/plain": [
       "HBox(children=(IntProgress(value=0, description='Epoch 854', max=323), HTML(value='')))"
      ]
     },
     "metadata": {},
     "output_type": "display_data"
    },
    {
     "data": {
      "application/vnd.jupyter.widget-view+json": {
       "model_id": "",
       "version_major": 2,
       "version_minor": 0
      },
      "text/plain": [
       "HBox(children=(IntProgress(value=0, description='Epoch 855', max=323), HTML(value='')))"
      ]
     },
     "metadata": {},
     "output_type": "display_data"
    },
    {
     "data": {
      "application/vnd.jupyter.widget-view+json": {
       "model_id": "",
       "version_major": 2,
       "version_minor": 0
      },
      "text/plain": [
       "HBox(children=(IntProgress(value=0, description='Epoch 856', max=323), HTML(value='')))"
      ]
     },
     "metadata": {},
     "output_type": "display_data"
    },
    {
     "data": {
      "application/vnd.jupyter.widget-view+json": {
       "model_id": "",
       "version_major": 2,
       "version_minor": 0
      },
      "text/plain": [
       "HBox(children=(IntProgress(value=0, description='Epoch 857', max=323), HTML(value='')))"
      ]
     },
     "metadata": {},
     "output_type": "display_data"
    },
    {
     "data": {
      "application/vnd.jupyter.widget-view+json": {
       "model_id": "",
       "version_major": 2,
       "version_minor": 0
      },
      "text/plain": [
       "HBox(children=(IntProgress(value=0, description='Epoch 858', max=323), HTML(value='')))"
      ]
     },
     "metadata": {},
     "output_type": "display_data"
    },
    {
     "data": {
      "application/vnd.jupyter.widget-view+json": {
       "model_id": "",
       "version_major": 2,
       "version_minor": 0
      },
      "text/plain": [
       "HBox(children=(IntProgress(value=0, description='Epoch 859', max=323), HTML(value='')))"
      ]
     },
     "metadata": {},
     "output_type": "display_data"
    },
    {
     "data": {
      "application/vnd.jupyter.widget-view+json": {
       "model_id": "",
       "version_major": 2,
       "version_minor": 0
      },
      "text/plain": [
       "HBox(children=(IntProgress(value=0, description='Epoch 860', max=323), HTML(value='')))"
      ]
     },
     "metadata": {},
     "output_type": "display_data"
    },
    {
     "data": {
      "application/vnd.jupyter.widget-view+json": {
       "model_id": "",
       "version_major": 2,
       "version_minor": 0
      },
      "text/plain": [
       "HBox(children=(IntProgress(value=0, description='Epoch 861', max=323), HTML(value='')))"
      ]
     },
     "metadata": {},
     "output_type": "display_data"
    },
    {
     "data": {
      "application/vnd.jupyter.widget-view+json": {
       "model_id": "",
       "version_major": 2,
       "version_minor": 0
      },
      "text/plain": [
       "HBox(children=(IntProgress(value=0, description='Epoch 862', max=323), HTML(value='')))"
      ]
     },
     "metadata": {},
     "output_type": "display_data"
    },
    {
     "data": {
      "application/vnd.jupyter.widget-view+json": {
       "model_id": "",
       "version_major": 2,
       "version_minor": 0
      },
      "text/plain": [
       "HBox(children=(IntProgress(value=0, description='Epoch 863', max=323), HTML(value='')))"
      ]
     },
     "metadata": {},
     "output_type": "display_data"
    },
    {
     "data": {
      "application/vnd.jupyter.widget-view+json": {
       "model_id": "",
       "version_major": 2,
       "version_minor": 0
      },
      "text/plain": [
       "HBox(children=(IntProgress(value=0, description='Epoch 864', max=323), HTML(value='')))"
      ]
     },
     "metadata": {},
     "output_type": "display_data"
    },
    {
     "data": {
      "application/vnd.jupyter.widget-view+json": {
       "model_id": "",
       "version_major": 2,
       "version_minor": 0
      },
      "text/plain": [
       "HBox(children=(IntProgress(value=0, description='Epoch 865', max=323), HTML(value='')))"
      ]
     },
     "metadata": {},
     "output_type": "display_data"
    },
    {
     "data": {
      "application/vnd.jupyter.widget-view+json": {
       "model_id": "",
       "version_major": 2,
       "version_minor": 0
      },
      "text/plain": [
       "HBox(children=(IntProgress(value=0, description='Epoch 866', max=323), HTML(value='')))"
      ]
     },
     "metadata": {},
     "output_type": "display_data"
    },
    {
     "data": {
      "application/vnd.jupyter.widget-view+json": {
       "model_id": "",
       "version_major": 2,
       "version_minor": 0
      },
      "text/plain": [
       "HBox(children=(IntProgress(value=0, description='Epoch 867', max=323), HTML(value='')))"
      ]
     },
     "metadata": {},
     "output_type": "display_data"
    },
    {
     "data": {
      "application/vnd.jupyter.widget-view+json": {
       "model_id": "",
       "version_major": 2,
       "version_minor": 0
      },
      "text/plain": [
       "HBox(children=(IntProgress(value=0, description='Epoch 868', max=323), HTML(value='')))"
      ]
     },
     "metadata": {},
     "output_type": "display_data"
    },
    {
     "data": {
      "application/vnd.jupyter.widget-view+json": {
       "model_id": "",
       "version_major": 2,
       "version_minor": 0
      },
      "text/plain": [
       "HBox(children=(IntProgress(value=0, description='Epoch 869', max=323), HTML(value='')))"
      ]
     },
     "metadata": {},
     "output_type": "display_data"
    },
    {
     "data": {
      "application/vnd.jupyter.widget-view+json": {
       "model_id": "",
       "version_major": 2,
       "version_minor": 0
      },
      "text/plain": [
       "HBox(children=(IntProgress(value=0, description='Epoch 870', max=323), HTML(value='')))"
      ]
     },
     "metadata": {},
     "output_type": "display_data"
    },
    {
     "data": {
      "application/vnd.jupyter.widget-view+json": {
       "model_id": "",
       "version_major": 2,
       "version_minor": 0
      },
      "text/plain": [
       "HBox(children=(IntProgress(value=0, description='Epoch 871', max=323), HTML(value='')))"
      ]
     },
     "metadata": {},
     "output_type": "display_data"
    },
    {
     "data": {
      "application/vnd.jupyter.widget-view+json": {
       "model_id": "",
       "version_major": 2,
       "version_minor": 0
      },
      "text/plain": [
       "HBox(children=(IntProgress(value=0, description='Epoch 872', max=323), HTML(value='')))"
      ]
     },
     "metadata": {},
     "output_type": "display_data"
    },
    {
     "data": {
      "application/vnd.jupyter.widget-view+json": {
       "model_id": "",
       "version_major": 2,
       "version_minor": 0
      },
      "text/plain": [
       "HBox(children=(IntProgress(value=0, description='Epoch 873', max=323), HTML(value='')))"
      ]
     },
     "metadata": {},
     "output_type": "display_data"
    },
    {
     "data": {
      "application/vnd.jupyter.widget-view+json": {
       "model_id": "",
       "version_major": 2,
       "version_minor": 0
      },
      "text/plain": [
       "HBox(children=(IntProgress(value=0, description='Epoch 874', max=323), HTML(value='')))"
      ]
     },
     "metadata": {},
     "output_type": "display_data"
    },
    {
     "data": {
      "application/vnd.jupyter.widget-view+json": {
       "model_id": "",
       "version_major": 2,
       "version_minor": 0
      },
      "text/plain": [
       "HBox(children=(IntProgress(value=0, description='Epoch 875', max=323), HTML(value='')))"
      ]
     },
     "metadata": {},
     "output_type": "display_data"
    },
    {
     "data": {
      "application/vnd.jupyter.widget-view+json": {
       "model_id": "",
       "version_major": 2,
       "version_minor": 0
      },
      "text/plain": [
       "HBox(children=(IntProgress(value=0, description='Epoch 876', max=323), HTML(value='')))"
      ]
     },
     "metadata": {},
     "output_type": "display_data"
    },
    {
     "data": {
      "application/vnd.jupyter.widget-view+json": {
       "model_id": "",
       "version_major": 2,
       "version_minor": 0
      },
      "text/plain": [
       "HBox(children=(IntProgress(value=0, description='Epoch 877', max=323), HTML(value='')))"
      ]
     },
     "metadata": {},
     "output_type": "display_data"
    },
    {
     "data": {
      "application/vnd.jupyter.widget-view+json": {
       "model_id": "",
       "version_major": 2,
       "version_minor": 0
      },
      "text/plain": [
       "HBox(children=(IntProgress(value=0, description='Epoch 878', max=323), HTML(value='')))"
      ]
     },
     "metadata": {},
     "output_type": "display_data"
    },
    {
     "data": {
      "application/vnd.jupyter.widget-view+json": {
       "model_id": "",
       "version_major": 2,
       "version_minor": 0
      },
      "text/plain": [
       "HBox(children=(IntProgress(value=0, description='Epoch 879', max=323), HTML(value='')))"
      ]
     },
     "metadata": {},
     "output_type": "display_data"
    },
    {
     "data": {
      "application/vnd.jupyter.widget-view+json": {
       "model_id": "",
       "version_major": 2,
       "version_minor": 0
      },
      "text/plain": [
       "HBox(children=(IntProgress(value=0, description='Epoch 880', max=323), HTML(value='')))"
      ]
     },
     "metadata": {},
     "output_type": "display_data"
    },
    {
     "data": {
      "application/vnd.jupyter.widget-view+json": {
       "model_id": "",
       "version_major": 2,
       "version_minor": 0
      },
      "text/plain": [
       "HBox(children=(IntProgress(value=0, description='Epoch 881', max=323), HTML(value='')))"
      ]
     },
     "metadata": {},
     "output_type": "display_data"
    },
    {
     "data": {
      "application/vnd.jupyter.widget-view+json": {
       "model_id": "",
       "version_major": 2,
       "version_minor": 0
      },
      "text/plain": [
       "HBox(children=(IntProgress(value=0, description='Epoch 882', max=323), HTML(value='')))"
      ]
     },
     "metadata": {},
     "output_type": "display_data"
    },
    {
     "data": {
      "application/vnd.jupyter.widget-view+json": {
       "model_id": "",
       "version_major": 2,
       "version_minor": 0
      },
      "text/plain": [
       "HBox(children=(IntProgress(value=0, description='Epoch 883', max=323), HTML(value='')))"
      ]
     },
     "metadata": {},
     "output_type": "display_data"
    },
    {
     "data": {
      "application/vnd.jupyter.widget-view+json": {
       "model_id": "",
       "version_major": 2,
       "version_minor": 0
      },
      "text/plain": [
       "HBox(children=(IntProgress(value=0, description='Epoch 884', max=323), HTML(value='')))"
      ]
     },
     "metadata": {},
     "output_type": "display_data"
    },
    {
     "data": {
      "application/vnd.jupyter.widget-view+json": {
       "model_id": "",
       "version_major": 2,
       "version_minor": 0
      },
      "text/plain": [
       "HBox(children=(IntProgress(value=0, description='Epoch 885', max=323), HTML(value='')))"
      ]
     },
     "metadata": {},
     "output_type": "display_data"
    },
    {
     "data": {
      "application/vnd.jupyter.widget-view+json": {
       "model_id": "",
       "version_major": 2,
       "version_minor": 0
      },
      "text/plain": [
       "HBox(children=(IntProgress(value=0, description='Epoch 886', max=323), HTML(value='')))"
      ]
     },
     "metadata": {},
     "output_type": "display_data"
    },
    {
     "data": {
      "application/vnd.jupyter.widget-view+json": {
       "model_id": "",
       "version_major": 2,
       "version_minor": 0
      },
      "text/plain": [
       "HBox(children=(IntProgress(value=0, description='Epoch 887', max=323), HTML(value='')))"
      ]
     },
     "metadata": {},
     "output_type": "display_data"
    },
    {
     "data": {
      "application/vnd.jupyter.widget-view+json": {
       "model_id": "",
       "version_major": 2,
       "version_minor": 0
      },
      "text/plain": [
       "HBox(children=(IntProgress(value=0, description='Epoch 888', max=323), HTML(value='')))"
      ]
     },
     "metadata": {},
     "output_type": "display_data"
    },
    {
     "data": {
      "application/vnd.jupyter.widget-view+json": {
       "model_id": "",
       "version_major": 2,
       "version_minor": 0
      },
      "text/plain": [
       "HBox(children=(IntProgress(value=0, description='Epoch 889', max=323), HTML(value='')))"
      ]
     },
     "metadata": {},
     "output_type": "display_data"
    },
    {
     "data": {
      "application/vnd.jupyter.widget-view+json": {
       "model_id": "",
       "version_major": 2,
       "version_minor": 0
      },
      "text/plain": [
       "HBox(children=(IntProgress(value=0, description='Epoch 890', max=323), HTML(value='')))"
      ]
     },
     "metadata": {},
     "output_type": "display_data"
    },
    {
     "data": {
      "application/vnd.jupyter.widget-view+json": {
       "model_id": "",
       "version_major": 2,
       "version_minor": 0
      },
      "text/plain": [
       "HBox(children=(IntProgress(value=0, description='Epoch 891', max=323), HTML(value='')))"
      ]
     },
     "metadata": {},
     "output_type": "display_data"
    },
    {
     "data": {
      "application/vnd.jupyter.widget-view+json": {
       "model_id": "",
       "version_major": 2,
       "version_minor": 0
      },
      "text/plain": [
       "HBox(children=(IntProgress(value=0, description='Epoch 892', max=323), HTML(value='')))"
      ]
     },
     "metadata": {},
     "output_type": "display_data"
    },
    {
     "data": {
      "application/vnd.jupyter.widget-view+json": {
       "model_id": "",
       "version_major": 2,
       "version_minor": 0
      },
      "text/plain": [
       "HBox(children=(IntProgress(value=0, description='Epoch 893', max=323), HTML(value='')))"
      ]
     },
     "metadata": {},
     "output_type": "display_data"
    },
    {
     "data": {
      "application/vnd.jupyter.widget-view+json": {
       "model_id": "",
       "version_major": 2,
       "version_minor": 0
      },
      "text/plain": [
       "HBox(children=(IntProgress(value=0, description='Epoch 894', max=323), HTML(value='')))"
      ]
     },
     "metadata": {},
     "output_type": "display_data"
    },
    {
     "data": {
      "application/vnd.jupyter.widget-view+json": {
       "model_id": "",
       "version_major": 2,
       "version_minor": 0
      },
      "text/plain": [
       "HBox(children=(IntProgress(value=0, description='Epoch 895', max=323), HTML(value='')))"
      ]
     },
     "metadata": {},
     "output_type": "display_data"
    },
    {
     "data": {
      "application/vnd.jupyter.widget-view+json": {
       "model_id": "",
       "version_major": 2,
       "version_minor": 0
      },
      "text/plain": [
       "HBox(children=(IntProgress(value=0, description='Epoch 896', max=323), HTML(value='')))"
      ]
     },
     "metadata": {},
     "output_type": "display_data"
    },
    {
     "data": {
      "application/vnd.jupyter.widget-view+json": {
       "model_id": "",
       "version_major": 2,
       "version_minor": 0
      },
      "text/plain": [
       "HBox(children=(IntProgress(value=0, description='Epoch 897', max=323), HTML(value='')))"
      ]
     },
     "metadata": {},
     "output_type": "display_data"
    },
    {
     "data": {
      "application/vnd.jupyter.widget-view+json": {
       "model_id": "",
       "version_major": 2,
       "version_minor": 0
      },
      "text/plain": [
       "HBox(children=(IntProgress(value=0, description='Epoch 898', max=323), HTML(value='')))"
      ]
     },
     "metadata": {},
     "output_type": "display_data"
    },
    {
     "data": {
      "application/vnd.jupyter.widget-view+json": {
       "model_id": "",
       "version_major": 2,
       "version_minor": 0
      },
      "text/plain": [
       "HBox(children=(IntProgress(value=0, description='Epoch 899', max=323), HTML(value='')))"
      ]
     },
     "metadata": {},
     "output_type": "display_data"
    },
    {
     "data": {
      "application/vnd.jupyter.widget-view+json": {
       "model_id": "",
       "version_major": 2,
       "version_minor": 0
      },
      "text/plain": [
       "HBox(children=(IntProgress(value=0, description='Epoch 900', max=323), HTML(value='')))"
      ]
     },
     "metadata": {},
     "output_type": "display_data"
    },
    {
     "data": {
      "application/vnd.jupyter.widget-view+json": {
       "model_id": "",
       "version_major": 2,
       "version_minor": 0
      },
      "text/plain": [
       "HBox(children=(IntProgress(value=0, description='Epoch 901', max=323), HTML(value='')))"
      ]
     },
     "metadata": {},
     "output_type": "display_data"
    },
    {
     "data": {
      "application/vnd.jupyter.widget-view+json": {
       "model_id": "",
       "version_major": 2,
       "version_minor": 0
      },
      "text/plain": [
       "HBox(children=(IntProgress(value=0, description='Epoch 902', max=323), HTML(value='')))"
      ]
     },
     "metadata": {},
     "output_type": "display_data"
    },
    {
     "data": {
      "application/vnd.jupyter.widget-view+json": {
       "model_id": "",
       "version_major": 2,
       "version_minor": 0
      },
      "text/plain": [
       "HBox(children=(IntProgress(value=0, description='Epoch 903', max=323), HTML(value='')))"
      ]
     },
     "metadata": {},
     "output_type": "display_data"
    },
    {
     "data": {
      "application/vnd.jupyter.widget-view+json": {
       "model_id": "",
       "version_major": 2,
       "version_minor": 0
      },
      "text/plain": [
       "HBox(children=(IntProgress(value=0, description='Epoch 904', max=323), HTML(value='')))"
      ]
     },
     "metadata": {},
     "output_type": "display_data"
    },
    {
     "data": {
      "application/vnd.jupyter.widget-view+json": {
       "model_id": "",
       "version_major": 2,
       "version_minor": 0
      },
      "text/plain": [
       "HBox(children=(IntProgress(value=0, description='Epoch 905', max=323), HTML(value='')))"
      ]
     },
     "metadata": {},
     "output_type": "display_data"
    },
    {
     "data": {
      "application/vnd.jupyter.widget-view+json": {
       "model_id": "",
       "version_major": 2,
       "version_minor": 0
      },
      "text/plain": [
       "HBox(children=(IntProgress(value=0, description='Epoch 906', max=323), HTML(value='')))"
      ]
     },
     "metadata": {},
     "output_type": "display_data"
    },
    {
     "data": {
      "application/vnd.jupyter.widget-view+json": {
       "model_id": "",
       "version_major": 2,
       "version_minor": 0
      },
      "text/plain": [
       "HBox(children=(IntProgress(value=0, description='Epoch 907', max=323), HTML(value='')))"
      ]
     },
     "metadata": {},
     "output_type": "display_data"
    },
    {
     "data": {
      "application/vnd.jupyter.widget-view+json": {
       "model_id": "",
       "version_major": 2,
       "version_minor": 0
      },
      "text/plain": [
       "HBox(children=(IntProgress(value=0, description='Epoch 908', max=323), HTML(value='')))"
      ]
     },
     "metadata": {},
     "output_type": "display_data"
    },
    {
     "data": {
      "application/vnd.jupyter.widget-view+json": {
       "model_id": "",
       "version_major": 2,
       "version_minor": 0
      },
      "text/plain": [
       "HBox(children=(IntProgress(value=0, description='Epoch 909', max=323), HTML(value='')))"
      ]
     },
     "metadata": {},
     "output_type": "display_data"
    },
    {
     "data": {
      "application/vnd.jupyter.widget-view+json": {
       "model_id": "",
       "version_major": 2,
       "version_minor": 0
      },
      "text/plain": [
       "HBox(children=(IntProgress(value=0, description='Epoch 910', max=323), HTML(value='')))"
      ]
     },
     "metadata": {},
     "output_type": "display_data"
    },
    {
     "data": {
      "application/vnd.jupyter.widget-view+json": {
       "model_id": "",
       "version_major": 2,
       "version_minor": 0
      },
      "text/plain": [
       "HBox(children=(IntProgress(value=0, description='Epoch 911', max=323), HTML(value='')))"
      ]
     },
     "metadata": {},
     "output_type": "display_data"
    },
    {
     "data": {
      "application/vnd.jupyter.widget-view+json": {
       "model_id": "",
       "version_major": 2,
       "version_minor": 0
      },
      "text/plain": [
       "HBox(children=(IntProgress(value=0, description='Epoch 912', max=323), HTML(value='')))"
      ]
     },
     "metadata": {},
     "output_type": "display_data"
    },
    {
     "data": {
      "application/vnd.jupyter.widget-view+json": {
       "model_id": "",
       "version_major": 2,
       "version_minor": 0
      },
      "text/plain": [
       "HBox(children=(IntProgress(value=0, description='Epoch 913', max=323), HTML(value='')))"
      ]
     },
     "metadata": {},
     "output_type": "display_data"
    },
    {
     "data": {
      "application/vnd.jupyter.widget-view+json": {
       "model_id": "",
       "version_major": 2,
       "version_minor": 0
      },
      "text/plain": [
       "HBox(children=(IntProgress(value=0, description='Epoch 914', max=323), HTML(value='')))"
      ]
     },
     "metadata": {},
     "output_type": "display_data"
    },
    {
     "data": {
      "application/vnd.jupyter.widget-view+json": {
       "model_id": "",
       "version_major": 2,
       "version_minor": 0
      },
      "text/plain": [
       "HBox(children=(IntProgress(value=0, description='Epoch 915', max=323), HTML(value='')))"
      ]
     },
     "metadata": {},
     "output_type": "display_data"
    },
    {
     "data": {
      "application/vnd.jupyter.widget-view+json": {
       "model_id": "",
       "version_major": 2,
       "version_minor": 0
      },
      "text/plain": [
       "HBox(children=(IntProgress(value=0, description='Epoch 916', max=323), HTML(value='')))"
      ]
     },
     "metadata": {},
     "output_type": "display_data"
    },
    {
     "data": {
      "application/vnd.jupyter.widget-view+json": {
       "model_id": "",
       "version_major": 2,
       "version_minor": 0
      },
      "text/plain": [
       "HBox(children=(IntProgress(value=0, description='Epoch 917', max=323), HTML(value='')))"
      ]
     },
     "metadata": {},
     "output_type": "display_data"
    },
    {
     "data": {
      "application/vnd.jupyter.widget-view+json": {
       "model_id": "",
       "version_major": 2,
       "version_minor": 0
      },
      "text/plain": [
       "HBox(children=(IntProgress(value=0, description='Epoch 918', max=323), HTML(value='')))"
      ]
     },
     "metadata": {},
     "output_type": "display_data"
    },
    {
     "data": {
      "application/vnd.jupyter.widget-view+json": {
       "model_id": "",
       "version_major": 2,
       "version_minor": 0
      },
      "text/plain": [
       "HBox(children=(IntProgress(value=0, description='Epoch 919', max=323), HTML(value='')))"
      ]
     },
     "metadata": {},
     "output_type": "display_data"
    },
    {
     "data": {
      "application/vnd.jupyter.widget-view+json": {
       "model_id": "",
       "version_major": 2,
       "version_minor": 0
      },
      "text/plain": [
       "HBox(children=(IntProgress(value=0, description='Epoch 920', max=323), HTML(value='')))"
      ]
     },
     "metadata": {},
     "output_type": "display_data"
    },
    {
     "data": {
      "application/vnd.jupyter.widget-view+json": {
       "model_id": "",
       "version_major": 2,
       "version_minor": 0
      },
      "text/plain": [
       "HBox(children=(IntProgress(value=0, description='Epoch 921', max=323), HTML(value='')))"
      ]
     },
     "metadata": {},
     "output_type": "display_data"
    },
    {
     "data": {
      "application/vnd.jupyter.widget-view+json": {
       "model_id": "",
       "version_major": 2,
       "version_minor": 0
      },
      "text/plain": [
       "HBox(children=(IntProgress(value=0, description='Epoch 922', max=323), HTML(value='')))"
      ]
     },
     "metadata": {},
     "output_type": "display_data"
    },
    {
     "data": {
      "application/vnd.jupyter.widget-view+json": {
       "model_id": "",
       "version_major": 2,
       "version_minor": 0
      },
      "text/plain": [
       "HBox(children=(IntProgress(value=0, description='Epoch 923', max=323), HTML(value='')))"
      ]
     },
     "metadata": {},
     "output_type": "display_data"
    },
    {
     "data": {
      "application/vnd.jupyter.widget-view+json": {
       "model_id": "",
       "version_major": 2,
       "version_minor": 0
      },
      "text/plain": [
       "HBox(children=(IntProgress(value=0, description='Epoch 924', max=323), HTML(value='')))"
      ]
     },
     "metadata": {},
     "output_type": "display_data"
    },
    {
     "data": {
      "application/vnd.jupyter.widget-view+json": {
       "model_id": "",
       "version_major": 2,
       "version_minor": 0
      },
      "text/plain": [
       "HBox(children=(IntProgress(value=0, description='Epoch 925', max=323), HTML(value='')))"
      ]
     },
     "metadata": {},
     "output_type": "display_data"
    },
    {
     "data": {
      "application/vnd.jupyter.widget-view+json": {
       "model_id": "",
       "version_major": 2,
       "version_minor": 0
      },
      "text/plain": [
       "HBox(children=(IntProgress(value=0, description='Epoch 926', max=323), HTML(value='')))"
      ]
     },
     "metadata": {},
     "output_type": "display_data"
    },
    {
     "data": {
      "application/vnd.jupyter.widget-view+json": {
       "model_id": "",
       "version_major": 2,
       "version_minor": 0
      },
      "text/plain": [
       "HBox(children=(IntProgress(value=0, description='Epoch 927', max=323), HTML(value='')))"
      ]
     },
     "metadata": {},
     "output_type": "display_data"
    },
    {
     "data": {
      "application/vnd.jupyter.widget-view+json": {
       "model_id": "",
       "version_major": 2,
       "version_minor": 0
      },
      "text/plain": [
       "HBox(children=(IntProgress(value=0, description='Epoch 928', max=323), HTML(value='')))"
      ]
     },
     "metadata": {},
     "output_type": "display_data"
    },
    {
     "data": {
      "application/vnd.jupyter.widget-view+json": {
       "model_id": "",
       "version_major": 2,
       "version_minor": 0
      },
      "text/plain": [
       "HBox(children=(IntProgress(value=0, description='Epoch 929', max=323), HTML(value='')))"
      ]
     },
     "metadata": {},
     "output_type": "display_data"
    },
    {
     "data": {
      "application/vnd.jupyter.widget-view+json": {
       "model_id": "",
       "version_major": 2,
       "version_minor": 0
      },
      "text/plain": [
       "HBox(children=(IntProgress(value=0, description='Epoch 930', max=323), HTML(value='')))"
      ]
     },
     "metadata": {},
     "output_type": "display_data"
    },
    {
     "data": {
      "application/vnd.jupyter.widget-view+json": {
       "model_id": "",
       "version_major": 2,
       "version_minor": 0
      },
      "text/plain": [
       "HBox(children=(IntProgress(value=0, description='Epoch 931', max=323), HTML(value='')))"
      ]
     },
     "metadata": {},
     "output_type": "display_data"
    },
    {
     "data": {
      "application/vnd.jupyter.widget-view+json": {
       "model_id": "",
       "version_major": 2,
       "version_minor": 0
      },
      "text/plain": [
       "HBox(children=(IntProgress(value=0, description='Epoch 932', max=323), HTML(value='')))"
      ]
     },
     "metadata": {},
     "output_type": "display_data"
    },
    {
     "data": {
      "application/vnd.jupyter.widget-view+json": {
       "model_id": "",
       "version_major": 2,
       "version_minor": 0
      },
      "text/plain": [
       "HBox(children=(IntProgress(value=0, description='Epoch 933', max=323), HTML(value='')))"
      ]
     },
     "metadata": {},
     "output_type": "display_data"
    },
    {
     "data": {
      "application/vnd.jupyter.widget-view+json": {
       "model_id": "",
       "version_major": 2,
       "version_minor": 0
      },
      "text/plain": [
       "HBox(children=(IntProgress(value=0, description='Epoch 934', max=323), HTML(value='')))"
      ]
     },
     "metadata": {},
     "output_type": "display_data"
    },
    {
     "data": {
      "application/vnd.jupyter.widget-view+json": {
       "model_id": "",
       "version_major": 2,
       "version_minor": 0
      },
      "text/plain": [
       "HBox(children=(IntProgress(value=0, description='Epoch 935', max=323), HTML(value='')))"
      ]
     },
     "metadata": {},
     "output_type": "display_data"
    },
    {
     "data": {
      "application/vnd.jupyter.widget-view+json": {
       "model_id": "",
       "version_major": 2,
       "version_minor": 0
      },
      "text/plain": [
       "HBox(children=(IntProgress(value=0, description='Epoch 936', max=323), HTML(value='')))"
      ]
     },
     "metadata": {},
     "output_type": "display_data"
    },
    {
     "data": {
      "application/vnd.jupyter.widget-view+json": {
       "model_id": "",
       "version_major": 2,
       "version_minor": 0
      },
      "text/plain": [
       "HBox(children=(IntProgress(value=0, description='Epoch 937', max=323), HTML(value='')))"
      ]
     },
     "metadata": {},
     "output_type": "display_data"
    },
    {
     "data": {
      "application/vnd.jupyter.widget-view+json": {
       "model_id": "",
       "version_major": 2,
       "version_minor": 0
      },
      "text/plain": [
       "HBox(children=(IntProgress(value=0, description='Epoch 938', max=323), HTML(value='')))"
      ]
     },
     "metadata": {},
     "output_type": "display_data"
    },
    {
     "data": {
      "application/vnd.jupyter.widget-view+json": {
       "model_id": "",
       "version_major": 2,
       "version_minor": 0
      },
      "text/plain": [
       "HBox(children=(IntProgress(value=0, description='Epoch 939', max=323), HTML(value='')))"
      ]
     },
     "metadata": {},
     "output_type": "display_data"
    },
    {
     "data": {
      "application/vnd.jupyter.widget-view+json": {
       "model_id": "",
       "version_major": 2,
       "version_minor": 0
      },
      "text/plain": [
       "HBox(children=(IntProgress(value=0, description='Epoch 940', max=323), HTML(value='')))"
      ]
     },
     "metadata": {},
     "output_type": "display_data"
    },
    {
     "data": {
      "application/vnd.jupyter.widget-view+json": {
       "model_id": "",
       "version_major": 2,
       "version_minor": 0
      },
      "text/plain": [
       "HBox(children=(IntProgress(value=0, description='Epoch 941', max=323), HTML(value='')))"
      ]
     },
     "metadata": {},
     "output_type": "display_data"
    },
    {
     "data": {
      "application/vnd.jupyter.widget-view+json": {
       "model_id": "",
       "version_major": 2,
       "version_minor": 0
      },
      "text/plain": [
       "HBox(children=(IntProgress(value=0, description='Epoch 942', max=323), HTML(value='')))"
      ]
     },
     "metadata": {},
     "output_type": "display_data"
    },
    {
     "data": {
      "application/vnd.jupyter.widget-view+json": {
       "model_id": "",
       "version_major": 2,
       "version_minor": 0
      },
      "text/plain": [
       "HBox(children=(IntProgress(value=0, description='Epoch 943', max=323), HTML(value='')))"
      ]
     },
     "metadata": {},
     "output_type": "display_data"
    },
    {
     "data": {
      "application/vnd.jupyter.widget-view+json": {
       "model_id": "",
       "version_major": 2,
       "version_minor": 0
      },
      "text/plain": [
       "HBox(children=(IntProgress(value=0, description='Epoch 944', max=323), HTML(value='')))"
      ]
     },
     "metadata": {},
     "output_type": "display_data"
    },
    {
     "data": {
      "application/vnd.jupyter.widget-view+json": {
       "model_id": "",
       "version_major": 2,
       "version_minor": 0
      },
      "text/plain": [
       "HBox(children=(IntProgress(value=0, description='Epoch 945', max=323), HTML(value='')))"
      ]
     },
     "metadata": {},
     "output_type": "display_data"
    },
    {
     "data": {
      "application/vnd.jupyter.widget-view+json": {
       "model_id": "",
       "version_major": 2,
       "version_minor": 0
      },
      "text/plain": [
       "HBox(children=(IntProgress(value=0, description='Epoch 946', max=323), HTML(value='')))"
      ]
     },
     "metadata": {},
     "output_type": "display_data"
    },
    {
     "data": {
      "application/vnd.jupyter.widget-view+json": {
       "model_id": "",
       "version_major": 2,
       "version_minor": 0
      },
      "text/plain": [
       "HBox(children=(IntProgress(value=0, description='Epoch 947', max=323), HTML(value='')))"
      ]
     },
     "metadata": {},
     "output_type": "display_data"
    },
    {
     "data": {
      "application/vnd.jupyter.widget-view+json": {
       "model_id": "",
       "version_major": 2,
       "version_minor": 0
      },
      "text/plain": [
       "HBox(children=(IntProgress(value=0, description='Epoch 948', max=323), HTML(value='')))"
      ]
     },
     "metadata": {},
     "output_type": "display_data"
    },
    {
     "data": {
      "application/vnd.jupyter.widget-view+json": {
       "model_id": "",
       "version_major": 2,
       "version_minor": 0
      },
      "text/plain": [
       "HBox(children=(IntProgress(value=0, description='Epoch 949', max=323), HTML(value='')))"
      ]
     },
     "metadata": {},
     "output_type": "display_data"
    },
    {
     "data": {
      "application/vnd.jupyter.widget-view+json": {
       "model_id": "",
       "version_major": 2,
       "version_minor": 0
      },
      "text/plain": [
       "HBox(children=(IntProgress(value=0, description='Epoch 950', max=323), HTML(value='')))"
      ]
     },
     "metadata": {},
     "output_type": "display_data"
    },
    {
     "data": {
      "application/vnd.jupyter.widget-view+json": {
       "model_id": "",
       "version_major": 2,
       "version_minor": 0
      },
      "text/plain": [
       "HBox(children=(IntProgress(value=0, description='Epoch 951', max=323), HTML(value='')))"
      ]
     },
     "metadata": {},
     "output_type": "display_data"
    },
    {
     "data": {
      "application/vnd.jupyter.widget-view+json": {
       "model_id": "",
       "version_major": 2,
       "version_minor": 0
      },
      "text/plain": [
       "HBox(children=(IntProgress(value=0, description='Epoch 952', max=323), HTML(value='')))"
      ]
     },
     "metadata": {},
     "output_type": "display_data"
    },
    {
     "data": {
      "application/vnd.jupyter.widget-view+json": {
       "model_id": "",
       "version_major": 2,
       "version_minor": 0
      },
      "text/plain": [
       "HBox(children=(IntProgress(value=0, description='Epoch 953', max=323), HTML(value='')))"
      ]
     },
     "metadata": {},
     "output_type": "display_data"
    },
    {
     "data": {
      "application/vnd.jupyter.widget-view+json": {
       "model_id": "",
       "version_major": 2,
       "version_minor": 0
      },
      "text/plain": [
       "HBox(children=(IntProgress(value=0, description='Epoch 954', max=323), HTML(value='')))"
      ]
     },
     "metadata": {},
     "output_type": "display_data"
    },
    {
     "data": {
      "application/vnd.jupyter.widget-view+json": {
       "model_id": "",
       "version_major": 2,
       "version_minor": 0
      },
      "text/plain": [
       "HBox(children=(IntProgress(value=0, description='Epoch 955', max=323), HTML(value='')))"
      ]
     },
     "metadata": {},
     "output_type": "display_data"
    },
    {
     "data": {
      "application/vnd.jupyter.widget-view+json": {
       "model_id": "",
       "version_major": 2,
       "version_minor": 0
      },
      "text/plain": [
       "HBox(children=(IntProgress(value=0, description='Epoch 956', max=323), HTML(value='')))"
      ]
     },
     "metadata": {},
     "output_type": "display_data"
    },
    {
     "data": {
      "application/vnd.jupyter.widget-view+json": {
       "model_id": "",
       "version_major": 2,
       "version_minor": 0
      },
      "text/plain": [
       "HBox(children=(IntProgress(value=0, description='Epoch 957', max=323), HTML(value='')))"
      ]
     },
     "metadata": {},
     "output_type": "display_data"
    },
    {
     "data": {
      "application/vnd.jupyter.widget-view+json": {
       "model_id": "",
       "version_major": 2,
       "version_minor": 0
      },
      "text/plain": [
       "HBox(children=(IntProgress(value=0, description='Epoch 958', max=323), HTML(value='')))"
      ]
     },
     "metadata": {},
     "output_type": "display_data"
    },
    {
     "data": {
      "application/vnd.jupyter.widget-view+json": {
       "model_id": "",
       "version_major": 2,
       "version_minor": 0
      },
      "text/plain": [
       "HBox(children=(IntProgress(value=0, description='Epoch 959', max=323), HTML(value='')))"
      ]
     },
     "metadata": {},
     "output_type": "display_data"
    },
    {
     "data": {
      "application/vnd.jupyter.widget-view+json": {
       "model_id": "",
       "version_major": 2,
       "version_minor": 0
      },
      "text/plain": [
       "HBox(children=(IntProgress(value=0, description='Epoch 960', max=323), HTML(value='')))"
      ]
     },
     "metadata": {},
     "output_type": "display_data"
    },
    {
     "data": {
      "application/vnd.jupyter.widget-view+json": {
       "model_id": "",
       "version_major": 2,
       "version_minor": 0
      },
      "text/plain": [
       "HBox(children=(IntProgress(value=0, description='Epoch 961', max=323), HTML(value='')))"
      ]
     },
     "metadata": {},
     "output_type": "display_data"
    },
    {
     "data": {
      "application/vnd.jupyter.widget-view+json": {
       "model_id": "",
       "version_major": 2,
       "version_minor": 0
      },
      "text/plain": [
       "HBox(children=(IntProgress(value=0, description='Epoch 962', max=323), HTML(value='')))"
      ]
     },
     "metadata": {},
     "output_type": "display_data"
    },
    {
     "data": {
      "application/vnd.jupyter.widget-view+json": {
       "model_id": "",
       "version_major": 2,
       "version_minor": 0
      },
      "text/plain": [
       "HBox(children=(IntProgress(value=0, description='Epoch 963', max=323), HTML(value='')))"
      ]
     },
     "metadata": {},
     "output_type": "display_data"
    },
    {
     "data": {
      "application/vnd.jupyter.widget-view+json": {
       "model_id": "",
       "version_major": 2,
       "version_minor": 0
      },
      "text/plain": [
       "HBox(children=(IntProgress(value=0, description='Epoch 964', max=323), HTML(value='')))"
      ]
     },
     "metadata": {},
     "output_type": "display_data"
    },
    {
     "data": {
      "application/vnd.jupyter.widget-view+json": {
       "model_id": "",
       "version_major": 2,
       "version_minor": 0
      },
      "text/plain": [
       "HBox(children=(IntProgress(value=0, description='Epoch 965', max=323), HTML(value='')))"
      ]
     },
     "metadata": {},
     "output_type": "display_data"
    },
    {
     "data": {
      "application/vnd.jupyter.widget-view+json": {
       "model_id": "",
       "version_major": 2,
       "version_minor": 0
      },
      "text/plain": [
       "HBox(children=(IntProgress(value=0, description='Epoch 966', max=323), HTML(value='')))"
      ]
     },
     "metadata": {},
     "output_type": "display_data"
    },
    {
     "data": {
      "application/vnd.jupyter.widget-view+json": {
       "model_id": "",
       "version_major": 2,
       "version_minor": 0
      },
      "text/plain": [
       "HBox(children=(IntProgress(value=0, description='Epoch 967', max=323), HTML(value='')))"
      ]
     },
     "metadata": {},
     "output_type": "display_data"
    },
    {
     "data": {
      "application/vnd.jupyter.widget-view+json": {
       "model_id": "",
       "version_major": 2,
       "version_minor": 0
      },
      "text/plain": [
       "HBox(children=(IntProgress(value=0, description='Epoch 968', max=323), HTML(value='')))"
      ]
     },
     "metadata": {},
     "output_type": "display_data"
    },
    {
     "data": {
      "application/vnd.jupyter.widget-view+json": {
       "model_id": "",
       "version_major": 2,
       "version_minor": 0
      },
      "text/plain": [
       "HBox(children=(IntProgress(value=0, description='Epoch 969', max=323), HTML(value='')))"
      ]
     },
     "metadata": {},
     "output_type": "display_data"
    },
    {
     "data": {
      "application/vnd.jupyter.widget-view+json": {
       "model_id": "",
       "version_major": 2,
       "version_minor": 0
      },
      "text/plain": [
       "HBox(children=(IntProgress(value=0, description='Epoch 970', max=323), HTML(value='')))"
      ]
     },
     "metadata": {},
     "output_type": "display_data"
    },
    {
     "data": {
      "application/vnd.jupyter.widget-view+json": {
       "model_id": "",
       "version_major": 2,
       "version_minor": 0
      },
      "text/plain": [
       "HBox(children=(IntProgress(value=0, description='Epoch 971', max=323), HTML(value='')))"
      ]
     },
     "metadata": {},
     "output_type": "display_data"
    },
    {
     "data": {
      "application/vnd.jupyter.widget-view+json": {
       "model_id": "",
       "version_major": 2,
       "version_minor": 0
      },
      "text/plain": [
       "HBox(children=(IntProgress(value=0, description='Epoch 972', max=323), HTML(value='')))"
      ]
     },
     "metadata": {},
     "output_type": "display_data"
    },
    {
     "data": {
      "application/vnd.jupyter.widget-view+json": {
       "model_id": "",
       "version_major": 2,
       "version_minor": 0
      },
      "text/plain": [
       "HBox(children=(IntProgress(value=0, description='Epoch 973', max=323), HTML(value='')))"
      ]
     },
     "metadata": {},
     "output_type": "display_data"
    },
    {
     "data": {
      "application/vnd.jupyter.widget-view+json": {
       "model_id": "",
       "version_major": 2,
       "version_minor": 0
      },
      "text/plain": [
       "HBox(children=(IntProgress(value=0, description='Epoch 974', max=323), HTML(value='')))"
      ]
     },
     "metadata": {},
     "output_type": "display_data"
    },
    {
     "data": {
      "application/vnd.jupyter.widget-view+json": {
       "model_id": "",
       "version_major": 2,
       "version_minor": 0
      },
      "text/plain": [
       "HBox(children=(IntProgress(value=0, description='Epoch 975', max=323), HTML(value='')))"
      ]
     },
     "metadata": {},
     "output_type": "display_data"
    },
    {
     "data": {
      "application/vnd.jupyter.widget-view+json": {
       "model_id": "",
       "version_major": 2,
       "version_minor": 0
      },
      "text/plain": [
       "HBox(children=(IntProgress(value=0, description='Epoch 976', max=323), HTML(value='')))"
      ]
     },
     "metadata": {},
     "output_type": "display_data"
    },
    {
     "data": {
      "application/vnd.jupyter.widget-view+json": {
       "model_id": "",
       "version_major": 2,
       "version_minor": 0
      },
      "text/plain": [
       "HBox(children=(IntProgress(value=0, description='Epoch 977', max=323), HTML(value='')))"
      ]
     },
     "metadata": {},
     "output_type": "display_data"
    },
    {
     "data": {
      "application/vnd.jupyter.widget-view+json": {
       "model_id": "",
       "version_major": 2,
       "version_minor": 0
      },
      "text/plain": [
       "HBox(children=(IntProgress(value=0, description='Epoch 978', max=323), HTML(value='')))"
      ]
     },
     "metadata": {},
     "output_type": "display_data"
    },
    {
     "data": {
      "application/vnd.jupyter.widget-view+json": {
       "model_id": "",
       "version_major": 2,
       "version_minor": 0
      },
      "text/plain": [
       "HBox(children=(IntProgress(value=0, description='Epoch 979', max=323), HTML(value='')))"
      ]
     },
     "metadata": {},
     "output_type": "display_data"
    },
    {
     "data": {
      "application/vnd.jupyter.widget-view+json": {
       "model_id": "",
       "version_major": 2,
       "version_minor": 0
      },
      "text/plain": [
       "HBox(children=(IntProgress(value=0, description='Epoch 980', max=323), HTML(value='')))"
      ]
     },
     "metadata": {},
     "output_type": "display_data"
    },
    {
     "data": {
      "application/vnd.jupyter.widget-view+json": {
       "model_id": "",
       "version_major": 2,
       "version_minor": 0
      },
      "text/plain": [
       "HBox(children=(IntProgress(value=0, description='Epoch 981', max=323), HTML(value='')))"
      ]
     },
     "metadata": {},
     "output_type": "display_data"
    },
    {
     "data": {
      "application/vnd.jupyter.widget-view+json": {
       "model_id": "",
       "version_major": 2,
       "version_minor": 0
      },
      "text/plain": [
       "HBox(children=(IntProgress(value=0, description='Epoch 982', max=323), HTML(value='')))"
      ]
     },
     "metadata": {},
     "output_type": "display_data"
    },
    {
     "data": {
      "application/vnd.jupyter.widget-view+json": {
       "model_id": "",
       "version_major": 2,
       "version_minor": 0
      },
      "text/plain": [
       "HBox(children=(IntProgress(value=0, description='Epoch 983', max=323), HTML(value='')))"
      ]
     },
     "metadata": {},
     "output_type": "display_data"
    },
    {
     "data": {
      "application/vnd.jupyter.widget-view+json": {
       "model_id": "",
       "version_major": 2,
       "version_minor": 0
      },
      "text/plain": [
       "HBox(children=(IntProgress(value=0, description='Epoch 984', max=323), HTML(value='')))"
      ]
     },
     "metadata": {},
     "output_type": "display_data"
    },
    {
     "data": {
      "application/vnd.jupyter.widget-view+json": {
       "model_id": "",
       "version_major": 2,
       "version_minor": 0
      },
      "text/plain": [
       "HBox(children=(IntProgress(value=0, description='Epoch 985', max=323), HTML(value='')))"
      ]
     },
     "metadata": {},
     "output_type": "display_data"
    },
    {
     "data": {
      "application/vnd.jupyter.widget-view+json": {
       "model_id": "",
       "version_major": 2,
       "version_minor": 0
      },
      "text/plain": [
       "HBox(children=(IntProgress(value=0, description='Epoch 986', max=323), HTML(value='')))"
      ]
     },
     "metadata": {},
     "output_type": "display_data"
    },
    {
     "data": {
      "application/vnd.jupyter.widget-view+json": {
       "model_id": "",
       "version_major": 2,
       "version_minor": 0
      },
      "text/plain": [
       "HBox(children=(IntProgress(value=0, description='Epoch 987', max=323), HTML(value='')))"
      ]
     },
     "metadata": {},
     "output_type": "display_data"
    },
    {
     "data": {
      "application/vnd.jupyter.widget-view+json": {
       "model_id": "",
       "version_major": 2,
       "version_minor": 0
      },
      "text/plain": [
       "HBox(children=(IntProgress(value=0, description='Epoch 988', max=323), HTML(value='')))"
      ]
     },
     "metadata": {},
     "output_type": "display_data"
    },
    {
     "data": {
      "application/vnd.jupyter.widget-view+json": {
       "model_id": "",
       "version_major": 2,
       "version_minor": 0
      },
      "text/plain": [
       "HBox(children=(IntProgress(value=0, description='Epoch 989', max=323), HTML(value='')))"
      ]
     },
     "metadata": {},
     "output_type": "display_data"
    },
    {
     "data": {
      "application/vnd.jupyter.widget-view+json": {
       "model_id": "",
       "version_major": 2,
       "version_minor": 0
      },
      "text/plain": [
       "HBox(children=(IntProgress(value=0, description='Epoch 990', max=323), HTML(value='')))"
      ]
     },
     "metadata": {},
     "output_type": "display_data"
    },
    {
     "data": {
      "application/vnd.jupyter.widget-view+json": {
       "model_id": "",
       "version_major": 2,
       "version_minor": 0
      },
      "text/plain": [
       "HBox(children=(IntProgress(value=0, description='Epoch 991', max=323), HTML(value='')))"
      ]
     },
     "metadata": {},
     "output_type": "display_data"
    },
    {
     "data": {
      "application/vnd.jupyter.widget-view+json": {
       "model_id": "",
       "version_major": 2,
       "version_minor": 0
      },
      "text/plain": [
       "HBox(children=(IntProgress(value=0, description='Epoch 992', max=323), HTML(value='')))"
      ]
     },
     "metadata": {},
     "output_type": "display_data"
    },
    {
     "data": {
      "application/vnd.jupyter.widget-view+json": {
       "model_id": "",
       "version_major": 2,
       "version_minor": 0
      },
      "text/plain": [
       "HBox(children=(IntProgress(value=0, description='Epoch 993', max=323), HTML(value='')))"
      ]
     },
     "metadata": {},
     "output_type": "display_data"
    },
    {
     "data": {
      "application/vnd.jupyter.widget-view+json": {
       "model_id": "",
       "version_major": 2,
       "version_minor": 0
      },
      "text/plain": [
       "HBox(children=(IntProgress(value=0, description='Epoch 994', max=323), HTML(value='')))"
      ]
     },
     "metadata": {},
     "output_type": "display_data"
    },
    {
     "data": {
      "application/vnd.jupyter.widget-view+json": {
       "model_id": "",
       "version_major": 2,
       "version_minor": 0
      },
      "text/plain": [
       "HBox(children=(IntProgress(value=0, description='Epoch 995', max=323), HTML(value='')))"
      ]
     },
     "metadata": {},
     "output_type": "display_data"
    },
    {
     "data": {
      "application/vnd.jupyter.widget-view+json": {
       "model_id": "",
       "version_major": 2,
       "version_minor": 0
      },
      "text/plain": [
       "HBox(children=(IntProgress(value=0, description='Epoch 996', max=323), HTML(value='')))"
      ]
     },
     "metadata": {},
     "output_type": "display_data"
    },
    {
     "data": {
      "application/vnd.jupyter.widget-view+json": {
       "model_id": "",
       "version_major": 2,
       "version_minor": 0
      },
      "text/plain": [
       "HBox(children=(IntProgress(value=0, description='Epoch 997', max=323), HTML(value='')))"
      ]
     },
     "metadata": {},
     "output_type": "display_data"
    },
    {
     "data": {
      "application/vnd.jupyter.widget-view+json": {
       "model_id": "",
       "version_major": 2,
       "version_minor": 0
      },
      "text/plain": [
       "HBox(children=(IntProgress(value=0, description='Epoch 998', max=323), HTML(value='')))"
      ]
     },
     "metadata": {},
     "output_type": "display_data"
    },
    {
     "data": {
      "application/vnd.jupyter.widget-view+json": {
       "model_id": "",
       "version_major": 2,
       "version_minor": 0
      },
      "text/plain": [
       "HBox(children=(IntProgress(value=0, description='Epoch 999', max=323), HTML(value='')))"
      ]
     },
     "metadata": {},
     "output_type": "display_data"
    },
    {
     "name": "stdout",
     "output_type": "stream",
     "text": [
      "\n"
     ]
    }
   ],
   "source": [
    "model = Sequential([\n",
    "    Dense(len(x_cols), input_dim=len(x_cols), kernel_initializer='normal', activation='relu'),\n",
    "    Dense(1, kernel_initializer='normal')\n",
    "])\n",
    "\n",
    "model.compile('adam', loss='mean_squared_error')\n",
    "\n",
    "# set up callbacks\n",
    "!rm -rf /tmp/checkpoints\n",
    "!mkdir /tmp/checkpoints\n",
    "\n",
    "checkpointer = ModelCheckpoint('/tmp/checkpoints/weights.{epoch:02d}-{val_loss:.2f}.hdf5')\n",
    "logger = CSVLogger('/tmp/log.csv')\n",
    "\n",
    "history = model.fit(X_train, y_train,\n",
    "                    batch_size=16,\n",
    "                    epochs=1000,\n",
    "                    verbose=0,\n",
    "                    callbacks=[checkpointer, logger, TQDMNotebookCallback()],\n",
    "                    validation_data=(X_valid, y_valid))"
   ]
  },
  {
   "cell_type": "code",
   "execution_count": 15,
   "metadata": {},
   "outputs": [
    {
     "name": "stdout",
     "output_type": "stream",
     "text": [
      "MSE: 11.234004480331015\n",
      "R^2: 0.8905588661171461\n"
     ]
    }
   ],
   "source": [
    "y_pred = model.predict(X_test)\n",
    "\n",
    "print('MSE:', mean_squared_error(y_test, y_pred))\n",
    "print('R^2:', r2_score(y_test, y_pred))"
   ]
  },
  {
   "cell_type": "markdown",
   "metadata": {},
   "source": [
    "### Load and compile trained model"
   ]
  },
  {
   "cell_type": "code",
   "execution_count": 27,
   "metadata": {},
   "outputs": [],
   "source": [
    "from keras.models import load_model\n",
    "\n",
    "model = load_model('/tmp/checkpoints/weights.01-631.68.hdf5')\n",
    "model.compile('adam', 'mean_squared_error')"
   ]
  },
  {
   "cell_type": "markdown",
   "metadata": {},
   "source": [
    "## Let's use cross validation"
   ]
  },
  {
   "cell_type": "code",
   "execution_count": 16,
   "metadata": {},
   "outputs": [],
   "source": [
    "from keras.layers import Dropout"
   ]
  },
  {
   "cell_type": "code",
   "execution_count": null,
   "metadata": {},
   "outputs": [],
   "source": [
    "X, y = boston_df[x_cols].values, boston_df['y'].values\n",
    "\n",
    "\n",
    "def build_fn():\n",
    "    model = Sequential([\n",
    "        Dense(32, input_dim=len(x_cols), kernel_initializer='normal', activation='relu'),\n",
    "        Dropout(0.5),\n",
    "        Dense(16, kernel_initializer='normal', activation='relu'),\n",
    "        Dense(1, kernel_initializer='normal')\n",
    "    ])\n",
    "    \n",
    "    model.compile('adam', loss='mean_squared_error')\n",
    "    \n",
    "    return model\n",
    "\n",
    "\n",
    "estimators = [\n",
    "    ('standardize', StandardScaler()),\n",
    "    ('mlp', KerasRegressor(build_fn=build_fn, epochs=500, batch_size=5, verbose=0))\n",
    "]\n",
    "\n",
    "pipeline = Pipeline(estimators)\n",
    "\n",
    "kfold = KFold(n_splits=5, random_state=1234)\n",
    "results = cross_val_score(pipeline, X, y, cv=kfold, scoring='r2', n_jobs=1)"
   ]
  },
  {
   "cell_type": "code",
   "execution_count": null,
   "metadata": {},
   "outputs": [],
   "source": [
    "print('R^2:', results.mean())"
   ]
  },
  {
   "cell_type": "markdown",
   "metadata": {},
   "source": [
    "## Excersize: play with NN structure. Try a deepper network and a wider ones."
   ]
  },
  {
   "cell_type": "code",
   "execution_count": null,
   "metadata": {},
   "outputs": [],
   "source": []
  }
 ],
 "metadata": {
  "kernelspec": {
   "display_name": "Python 3",
   "language": "python",
   "name": "python3"
  },
  "language_info": {
   "codemirror_mode": {
    "name": "ipython",
    "version": 3
   },
   "file_extension": ".py",
   "mimetype": "text/x-python",
   "name": "python",
   "nbconvert_exporter": "python",
   "pygments_lexer": "ipython3",
   "version": "3.6.5"
  }
 },
 "nbformat": 4,
 "nbformat_minor": 2
}

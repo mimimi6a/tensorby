{
 "cells": [
  {
   "cell_type": "code",
   "execution_count": 1,
   "metadata": {},
   "outputs": [],
   "source": [
    "from IPython.display import HTML"
   ]
  },
  {
   "cell_type": "markdown",
   "metadata": {},
   "source": [
    "# Multiclassification task on image data\n",
    "\n",
    "\n",
    "Dataset: [Fashion MNIST](https://github.com/zalandoresearch/fashion-mnist)\n",
    "\n",
    "<img src=\"img/fashion-mnist-sprite.png\">"
   ]
  },
  {
   "cell_type": "code",
   "execution_count": 2,
   "metadata": {
    "scrolled": false
   },
   "outputs": [
    {
     "data": {
      "text/html": [
       "<img src=\"img/embedding.gif\">"
      ],
      "text/plain": [
       "<IPython.core.display.HTML object>"
      ]
     },
     "execution_count": 2,
     "metadata": {},
     "output_type": "execute_result"
    }
   ],
   "source": [
    "HTML('<img src=\"img/embedding.gif\">')"
   ]
  },
  {
   "cell_type": "code",
   "execution_count": 3,
   "metadata": {},
   "outputs": [
    {
     "name": "stderr",
     "output_type": "stream",
     "text": [
      "Using TensorFlow backend.\n"
     ]
    }
   ],
   "source": [
    "import numpy as np\n",
    "import pandas as pd\n",
    "\n",
    "import matplotlib.pyplot as plt\n",
    "\n",
    "from sklearn.datasets import load_digits\n",
    "from sklearn.model_selection import train_test_split\n",
    "from sklearn.metrics import classification_report\n",
    "\n",
    "from IPython.display import SVG\n",
    "\n",
    "from keras.models import Sequential\n",
    "from keras.layers import InputLayer, Dense, Dropout, Conv2D, MaxPooling2D, Flatten\n",
    "from keras.utils.vis_utils import model_to_dot\n",
    "from keras.callbacks import CSVLogger, ModelCheckpoint\n",
    "from keras.datasets import fashion_mnist\n",
    "from keras.utils import to_categorical\n",
    "from keras_preprocessing.image import NumpyArrayIterator, ImageDataGenerator\n",
    "\n",
    "np.random.seed(1234)\n",
    "%matplotlib inline"
   ]
  },
  {
   "cell_type": "markdown",
   "metadata": {},
   "source": [
    "## Load dataset"
   ]
  },
  {
   "cell_type": "code",
   "execution_count": 4,
   "metadata": {
    "scrolled": true
   },
   "outputs": [],
   "source": [
    "fashion_mnist = fashion_mnist.load_data()"
   ]
  },
  {
   "cell_type": "code",
   "execution_count": 5,
   "metadata": {},
   "outputs": [],
   "source": [
    "(train_X, train_y), (test_X, test_y) = fashion_mnist"
   ]
  },
  {
   "cell_type": "markdown",
   "metadata": {},
   "source": [
    "## Excersize: plot the data"
   ]
  },
  {
   "cell_type": "code",
   "execution_count": 6,
   "metadata": {},
   "outputs": [
    {
     "data": {
      "image/png": "[encoded data removed]",
      "text/plain": [
       "<Figure size 864x432 with 10 Axes>"
      ]
     },
     "metadata": {},
     "output_type": "display_data"
    }
   ],
   "source": [
    "labels = np.unique(train_y)\n",
    "\n",
    "plt.figure(figsize=(12, 6))\n",
    "\n",
    "for i in labels:\n",
    "    ax = plt.subplot(1, len(labels), i + 1)\n",
    "    ax.axis('off')\n",
    "    plt.imshow(train_X[train_y == i][0], 'gray')"
   ]
  },
  {
   "cell_type": "markdown",
   "metadata": {},
   "source": [
    "## Scale data"
   ]
  },
  {
   "cell_type": "code",
   "execution_count": 7,
   "metadata": {},
   "outputs": [],
   "source": [
    "train_X = train_X.astype('float32') / 255.\n",
    "test_X = test_X.astype('float32') / 255."
   ]
  },
  {
   "cell_type": "markdown",
   "metadata": {},
   "source": [
    "## Split data intro train, valid and test"
   ]
  },
  {
   "cell_type": "code",
   "execution_count": 8,
   "metadata": {},
   "outputs": [
    {
     "name": "stdout",
     "output_type": "stream",
     "text": [
      "#train: 48000 #valid: 12000 #test: 10000\n"
     ]
    }
   ],
   "source": [
    "train_X, valid_X, train_y, valid_y = train_test_split(train_X, train_y, test_size=0.2, stratify=train_y)\n",
    "\n",
    "\n",
    "print('#train:', len(train_X), '#valid:', len(valid_X), '#test:', len(test_X))"
   ]
  },
  {
   "cell_type": "markdown",
   "metadata": {},
   "source": [
    "## Reshape data"
   ]
  },
  {
   "cell_type": "code",
   "execution_count": 9,
   "metadata": {},
   "outputs": [],
   "source": [
    "train_X = train_X.reshape(-1, 28, 28, 1)\n",
    "test_X = test_X.reshape(-1, 28, 28, 1)\n",
    "valid_X = valid_X.reshape(-1, 28, 28, 1)"
   ]
  },
  {
   "cell_type": "markdown",
   "metadata": {},
   "source": [
    "## One-hot encode targets\n",
    "\n",
    "In keras when we solve multiclassification task we apply one-hot encoding"
   ]
  },
  {
   "cell_type": "code",
   "execution_count": 10,
   "metadata": {},
   "outputs": [],
   "source": [
    "train_y_one_hot = to_categorical(train_y)\n",
    "test_y_one_hot = to_categorical(test_y)\n",
    "valid_y_one_hot = to_categorical(valid_y)"
   ]
  },
  {
   "cell_type": "markdown",
   "metadata": {},
   "source": [
    "## Excersize: solve task with a simple fully connected network (like in regression notebook)\n",
    "\n",
    "hints:\n",
    "    \n",
    "    * loss = 'categorical_crossentropy'\n",
    "    * metrics = ['accuracy']"
   ]
  },
  {
   "cell_type": "code",
   "execution_count": 11,
   "metadata": {},
   "outputs": [],
   "source": [
    "train_X = train_X.reshape(-1, 28 * 28)\n",
    "test_X = test_X.reshape(-1, 28 * 28)\n",
    "valid_X = valid_X.reshape(-1, 28 * 28)"
   ]
  },
  {
   "cell_type": "code",
   "execution_count": 12,
   "metadata": {},
   "outputs": [],
   "source": [
    "model = Sequential([\n",
    "    Dense(256, activation='relu'),\n",
    "    Dropout(0.5),\n",
    "    Dense(256, activation='relu'),\n",
    "    Dropout(0.5),\n",
    "    Dense(10, activation='softmax')\n",
    "])\n",
    "\n",
    "model.compile('adam', loss='categorical_crossentropy', metrics=['accuracy'])"
   ]
  },
  {
   "cell_type": "code",
   "execution_count": 13,
   "metadata": {
    "scrolled": false
   },
   "outputs": [
    {
     "name": "stdout",
     "output_type": "stream",
     "text": [
      "Train on 48000 samples, validate on 12000 samples\n",
      "Epoch 1/20\n",
      "48000/48000 [==============================] - 3s 64us/step - loss: 0.6806 - acc: 0.7522 - val_loss: 0.4335 - val_acc: 0.8402\n",
      "Epoch 2/20\n",
      "48000/48000 [==============================] - 2s 50us/step - loss: 0.5160 - acc: 0.8134 - val_loss: 0.4121 - val_acc: 0.8497\n",
      "Epoch 3/20\n",
      "48000/48000 [==============================] - 2s 50us/step - loss: 0.4749 - acc: 0.8297 - val_loss: 0.3930 - val_acc: 0.8467\n",
      "Epoch 4/20\n",
      "48000/48000 [==============================] - 2s 50us/step - loss: 0.4534 - acc: 0.8329 - val_loss: 0.3772 - val_acc: 0.8574\n",
      "Epoch 5/20\n",
      "48000/48000 [==============================] - 2s 50us/step - loss: 0.4407 - acc: 0.8413 - val_loss: 0.3804 - val_acc: 0.8593\n",
      "Epoch 6/20\n",
      "48000/48000 [==============================] - 2s 50us/step - loss: 0.4292 - acc: 0.8431 - val_loss: 0.3765 - val_acc: 0.8668\n",
      "Epoch 7/20\n",
      "48000/48000 [==============================] - 2s 50us/step - loss: 0.4186 - acc: 0.8498 - val_loss: 0.3527 - val_acc: 0.8706\n",
      "Epoch 8/20\n",
      "48000/48000 [==============================] - 2s 50us/step - loss: 0.4128 - acc: 0.8512 - val_loss: 0.3556 - val_acc: 0.8725\n",
      "Epoch 9/20\n",
      "48000/48000 [==============================] - 2s 50us/step - loss: 0.4004 - acc: 0.8533 - val_loss: 0.3493 - val_acc: 0.8710\n",
      "Epoch 10/20\n",
      "48000/48000 [==============================] - 2s 50us/step - loss: 0.3983 - acc: 0.8557 - val_loss: 0.3500 - val_acc: 0.8744\n",
      "Epoch 11/20\n",
      "48000/48000 [==============================] - 2s 50us/step - loss: 0.3930 - acc: 0.8575 - val_loss: 0.3470 - val_acc: 0.8707\n",
      "Epoch 12/20\n",
      "48000/48000 [==============================] - 2s 50us/step - loss: 0.3855 - acc: 0.8577 - val_loss: 0.3551 - val_acc: 0.8729\n",
      "Epoch 13/20\n",
      "48000/48000 [==============================] - 2s 50us/step - loss: 0.3818 - acc: 0.8628 - val_loss: 0.3313 - val_acc: 0.8774\n",
      "Epoch 14/20\n",
      "48000/48000 [==============================] - 2s 50us/step - loss: 0.3781 - acc: 0.8618 - val_loss: 0.3384 - val_acc: 0.8757\n",
      "Epoch 15/20\n",
      "48000/48000 [==============================] - 2s 51us/step - loss: 0.3772 - acc: 0.8647 - val_loss: 0.3552 - val_acc: 0.8646\n",
      "Epoch 16/20\n",
      "48000/48000 [==============================] - 2s 51us/step - loss: 0.3754 - acc: 0.8661 - val_loss: 0.3376 - val_acc: 0.8750\n",
      "Epoch 17/20\n",
      "48000/48000 [==============================] - 2s 50us/step - loss: 0.3663 - acc: 0.8674 - val_loss: 0.3474 - val_acc: 0.8772\n",
      "Epoch 18/20\n",
      "48000/48000 [==============================] - 2s 50us/step - loss: 0.3696 - acc: 0.8654 - val_loss: 0.3393 - val_acc: 0.8773\n",
      "Epoch 19/20\n",
      "48000/48000 [==============================] - 2s 50us/step - loss: 0.3660 - acc: 0.8668 - val_loss: 0.3300 - val_acc: 0.8815\n",
      "Epoch 20/20\n",
      "48000/48000 [==============================] - 2s 50us/step - loss: 0.3595 - acc: 0.8675 - val_loss: 0.3347 - val_acc: 0.8806\n"
     ]
    }
   ],
   "source": [
    "history = model.fit(train_X, train_y_one_hot,\n",
    "                    batch_size=32,\n",
    "                    epochs=20,\n",
    "                    validation_data=(valid_X, valid_y_one_hot))"
   ]
  },
  {
   "cell_type": "code",
   "execution_count": 14,
   "metadata": {},
   "outputs": [
    {
     "data": {
      "text/plain": [
       "<matplotlib.axes._subplots.AxesSubplot at 0x7f6130108668>"
      ]
     },
     "execution_count": 14,
     "metadata": {},
     "output_type": "execute_result"
    },
    {
     "data": {
      "image/png": "[encoded data removed]",
      "text/plain": [
       "<Figure size 432x288 with 1 Axes>"
      ]
     },
     "metadata": {},
     "output_type": "display_data"
    }
   ],
   "source": [
    "pd.DataFrame(history.history)[['loss', 'val_loss']].plot()"
   ]
  },
  {
   "cell_type": "code",
   "execution_count": 15,
   "metadata": {},
   "outputs": [
    {
     "data": {
      "text/plain": [
       "<matplotlib.axes._subplots.AxesSubplot at 0x7f6130187128>"
      ]
     },
     "execution_count": 15,
     "metadata": {},
     "output_type": "execute_result"
    },
    {
     "data": {
      "image/png": "[encoded data removed]",
      "text/plain": [
       "<Figure size 432x288 with 1 Axes>"
      ]
     },
     "metadata": {},
     "output_type": "display_data"
    }
   ],
   "source": [
    "pd.DataFrame(history.history)[['acc', 'val_acc']].plot()"
   ]
  },
  {
   "cell_type": "markdown",
   "metadata": {},
   "source": [
    "## Let's learn more about conv nets\n",
    "\n",
    "[cs231n](http://cs231n.github.io/convolutional-networks)"
   ]
  },
  {
   "cell_type": "code",
   "execution_count": 16,
   "metadata": {},
   "outputs": [],
   "source": [
    "train_X = train_X.reshape(-1, 28, 28, 1)\n",
    "test_X = test_X.reshape(-1, 28, 28, 1)\n",
    "valid_X = valid_X.reshape(-1, 28, 28, 1)"
   ]
  },
  {
   "cell_type": "markdown",
   "metadata": {},
   "source": [
    "## 1st cnn"
   ]
  },
  {
   "cell_type": "code",
   "execution_count": 21,
   "metadata": {},
   "outputs": [
    {
     "name": "stdout",
     "output_type": "stream",
     "text": [
      "_________________________________________________________________\n",
      "Layer (type)                 Output Shape              Param #   \n",
      "=================================================================\n",
      "conv2d_2 (Conv2D)            (None, 28, 28, 64)        320       \n",
      "_________________________________________________________________\n",
      "max_pooling2d_2 (MaxPooling2 (None, 14, 14, 64)        0         \n",
      "_________________________________________________________________\n",
      "flatten_2 (Flatten)          (None, 12544)             0         \n",
      "_________________________________________________________________\n",
      "dense_6 (Dense)              (None, 256)               3211520   \n",
      "_________________________________________________________________\n",
      "dropout_4 (Dropout)          (None, 256)               0         \n",
      "_________________________________________________________________\n",
      "dense_7 (Dense)              (None, 10)                2570      \n",
      "=================================================================\n",
      "Total params: 3,214,410\n",
      "Trainable params: 3,214,410\n",
      "Non-trainable params: 0\n",
      "_________________________________________________________________\n"
     ]
    }
   ],
   "source": [
    "model = Sequential()\n",
    "\n",
    "# Must define the input shape in the first layer of the neural network\n",
    "model.add(Conv2D(filters=64, kernel_size=2, padding='same', activation='relu', input_shape=(28, 28, 1))) \n",
    "model.add(MaxPooling2D(pool_size=2))\n",
    "\n",
    "model.add(Flatten())\n",
    "\n",
    "model.add(Dense(256, activation='relu'))\n",
    "model.add(Dropout(0.5))\n",
    "model.add(Dense(10, activation='softmax'))\n",
    "\n",
    "# Take a look at the model summary\n",
    "model.summary()"
   ]
  },
  {
   "cell_type": "markdown",
   "metadata": {},
   "source": [
    "## Plot the model"
   ]
  },
  {
   "cell_type": "code",
   "execution_count": 22,
   "metadata": {},
   "outputs": [
    {
     "data": {
      "image/svg+xml": [
       "<svg height=\"543pt\" viewBox=\"0.00 0.00 388.00 543.00\" width=\"388pt\" xmlns=\"http://www.w3.org/2000/svg\" xmlns:xlink=\"http://www.w3.org/1999/xlink\">\n",
       "<g class=\"graph\" id=\"graph0\" transform=\"scale(1 1) rotate(0) translate(4 539)\">\n",
       "<title>G</title>\n",
       "<polygon fill=\"#ffffff\" points=\"-4,4 -4,-539 384,-539 384,4 -4,4\" stroke=\"transparent\"/>\n",
       "<!-- 140057595735960 -->\n",
       "<g class=\"node\" id=\"node1\">\n",
       "<title>140057595735960</title>\n",
       "<polygon fill=\"none\" points=\"42,-415.5 42,-461.5 338,-461.5 338,-415.5 42,-415.5\" stroke=\"#000000\"/>\n",
       "<text fill=\"#000000\" font-family=\"Times,serif\" font-size=\"14.00\" text-anchor=\"middle\" x=\"103.5\" y=\"-434.8\">conv2d_2: Conv2D</text>\n",
       "<polyline fill=\"none\" points=\"165,-415.5 165,-461.5 \" stroke=\"#000000\"/>\n",
       "<text fill=\"#000000\" font-family=\"Times,serif\" font-size=\"14.00\" text-anchor=\"middle\" x=\"192.5\" y=\"-446.3\">input:</text>\n",
       "<polyline fill=\"none\" points=\"165,-438.5 220,-438.5 \" stroke=\"#000000\"/>\n",
       "<text fill=\"#000000\" font-family=\"Times,serif\" font-size=\"14.00\" text-anchor=\"middle\" x=\"192.5\" y=\"-423.3\">output:</text>\n",
       "<polyline fill=\"none\" points=\"220,-415.5 220,-461.5 \" stroke=\"#000000\"/>\n",
       "<text fill=\"#000000\" font-family=\"Times,serif\" font-size=\"14.00\" text-anchor=\"middle\" x=\"279\" y=\"-446.3\">(None, 28, 28, 1)</text>\n",
       "<polyline fill=\"none\" points=\"220,-438.5 338,-438.5 \" stroke=\"#000000\"/>\n",
       "<text fill=\"#000000\" font-family=\"Times,serif\" font-size=\"14.00\" text-anchor=\"middle\" x=\"279\" y=\"-423.3\">(None, 28, 28, 64)</text>\n",
       "</g>\n",
       "<!-- 140057595375688 -->\n",
       "<g class=\"node\" id=\"node2\">\n",
       "<title>140057595375688</title>\n",
       "<polygon fill=\"none\" points=\"0,-332.5 0,-378.5 380,-378.5 380,-332.5 0,-332.5\" stroke=\"#000000\"/>\n",
       "<text fill=\"#000000\" font-family=\"Times,serif\" font-size=\"14.00\" text-anchor=\"middle\" x=\"103.5\" y=\"-351.8\">max_pooling2d_2: MaxPooling2D</text>\n",
       "<polyline fill=\"none\" points=\"207,-332.5 207,-378.5 \" stroke=\"#000000\"/>\n",
       "<text fill=\"#000000\" font-family=\"Times,serif\" font-size=\"14.00\" text-anchor=\"middle\" x=\"234.5\" y=\"-363.3\">input:</text>\n",
       "<polyline fill=\"none\" points=\"207,-355.5 262,-355.5 \" stroke=\"#000000\"/>\n",
       "<text fill=\"#000000\" font-family=\"Times,serif\" font-size=\"14.00\" text-anchor=\"middle\" x=\"234.5\" y=\"-340.3\">output:</text>\n",
       "<polyline fill=\"none\" points=\"262,-332.5 262,-378.5 \" stroke=\"#000000\"/>\n",
       "<text fill=\"#000000\" font-family=\"Times,serif\" font-size=\"14.00\" text-anchor=\"middle\" x=\"321\" y=\"-363.3\">(None, 28, 28, 64)</text>\n",
       "<polyline fill=\"none\" points=\"262,-355.5 380,-355.5 \" stroke=\"#000000\"/>\n",
       "<text fill=\"#000000\" font-family=\"Times,serif\" font-size=\"14.00\" text-anchor=\"middle\" x=\"321\" y=\"-340.3\">(None, 14, 14, 64)</text>\n",
       "</g>\n",
       "<!-- 140057595735960&#45;&gt;140057595375688 -->\n",
       "<g class=\"edge\" id=\"edge2\">\n",
       "<title>140057595735960-&gt;140057595375688</title>\n",
       "<path d=\"M190,-415.3799C190,-407.1745 190,-397.7679 190,-388.8786\" fill=\"none\" stroke=\"#000000\"/>\n",
       "<polygon fill=\"#000000\" points=\"193.5001,-388.784 190,-378.784 186.5001,-388.784 193.5001,-388.784\" stroke=\"#000000\"/>\n",
       "</g>\n",
       "<!-- 140057595376136 -->\n",
       "<g class=\"node\" id=\"node3\">\n",
       "<title>140057595376136</title>\n",
       "<polygon fill=\"none\" points=\"48.5,-249.5 48.5,-295.5 331.5,-295.5 331.5,-249.5 48.5,-249.5\" stroke=\"#000000\"/>\n",
       "<text fill=\"#000000\" font-family=\"Times,serif\" font-size=\"14.00\" text-anchor=\"middle\" x=\"103.5\" y=\"-268.8\">flatten_2: Flatten</text>\n",
       "<polyline fill=\"none\" points=\"158.5,-249.5 158.5,-295.5 \" stroke=\"#000000\"/>\n",
       "<text fill=\"#000000\" font-family=\"Times,serif\" font-size=\"14.00\" text-anchor=\"middle\" x=\"186\" y=\"-280.3\">input:</text>\n",
       "<polyline fill=\"none\" points=\"158.5,-272.5 213.5,-272.5 \" stroke=\"#000000\"/>\n",
       "<text fill=\"#000000\" font-family=\"Times,serif\" font-size=\"14.00\" text-anchor=\"middle\" x=\"186\" y=\"-257.3\">output:</text>\n",
       "<polyline fill=\"none\" points=\"213.5,-249.5 213.5,-295.5 \" stroke=\"#000000\"/>\n",
       "<text fill=\"#000000\" font-family=\"Times,serif\" font-size=\"14.00\" text-anchor=\"middle\" x=\"272.5\" y=\"-280.3\">(None, 14, 14, 64)</text>\n",
       "<polyline fill=\"none\" points=\"213.5,-272.5 331.5,-272.5 \" stroke=\"#000000\"/>\n",
       "<text fill=\"#000000\" font-family=\"Times,serif\" font-size=\"14.00\" text-anchor=\"middle\" x=\"272.5\" y=\"-257.3\">(None, 12544)</text>\n",
       "</g>\n",
       "<!-- 140057595375688&#45;&gt;140057595376136 -->\n",
       "<g class=\"edge\" id=\"edge3\">\n",
       "<title>140057595375688-&gt;140057595376136</title>\n",
       "<path d=\"M190,-332.3799C190,-324.1745 190,-314.7679 190,-305.8786\" fill=\"none\" stroke=\"#000000\"/>\n",
       "<polygon fill=\"#000000\" points=\"193.5001,-305.784 190,-295.784 186.5001,-305.784 193.5001,-305.784\" stroke=\"#000000\"/>\n",
       "</g>\n",
       "<!-- 140057595378768 -->\n",
       "<g class=\"node\" id=\"node4\">\n",
       "<title>140057595378768</title>\n",
       "<polygon fill=\"none\" points=\"63.5,-166.5 63.5,-212.5 316.5,-212.5 316.5,-166.5 63.5,-166.5\" stroke=\"#000000\"/>\n",
       "<text fill=\"#000000\" font-family=\"Times,serif\" font-size=\"14.00\" text-anchor=\"middle\" x=\"114.5\" y=\"-185.8\">dense_6: Dense</text>\n",
       "<polyline fill=\"none\" points=\"165.5,-166.5 165.5,-212.5 \" stroke=\"#000000\"/>\n",
       "<text fill=\"#000000\" font-family=\"Times,serif\" font-size=\"14.00\" text-anchor=\"middle\" x=\"193\" y=\"-197.3\">input:</text>\n",
       "<polyline fill=\"none\" points=\"165.5,-189.5 220.5,-189.5 \" stroke=\"#000000\"/>\n",
       "<text fill=\"#000000\" font-family=\"Times,serif\" font-size=\"14.00\" text-anchor=\"middle\" x=\"193\" y=\"-174.3\">output:</text>\n",
       "<polyline fill=\"none\" points=\"220.5,-166.5 220.5,-212.5 \" stroke=\"#000000\"/>\n",
       "<text fill=\"#000000\" font-family=\"Times,serif\" font-size=\"14.00\" text-anchor=\"middle\" x=\"268.5\" y=\"-197.3\">(None, 12544)</text>\n",
       "<polyline fill=\"none\" points=\"220.5,-189.5 316.5,-189.5 \" stroke=\"#000000\"/>\n",
       "<text fill=\"#000000\" font-family=\"Times,serif\" font-size=\"14.00\" text-anchor=\"middle\" x=\"268.5\" y=\"-174.3\">(None, 256)</text>\n",
       "</g>\n",
       "<!-- 140057595376136&#45;&gt;140057595378768 -->\n",
       "<g class=\"edge\" id=\"edge4\">\n",
       "<title>140057595376136-&gt;140057595378768</title>\n",
       "<path d=\"M190,-249.3799C190,-241.1745 190,-231.7679 190,-222.8786\" fill=\"none\" stroke=\"#000000\"/>\n",
       "<polygon fill=\"#000000\" points=\"193.5001,-222.784 190,-212.784 186.5001,-222.784 193.5001,-222.784\" stroke=\"#000000\"/>\n",
       "</g>\n",
       "<!-- 140057602616512 -->\n",
       "<g class=\"node\" id=\"node5\">\n",
       "<title>140057602616512</title>\n",
       "<polygon fill=\"none\" points=\"58.5,-83.5 58.5,-129.5 321.5,-129.5 321.5,-83.5 58.5,-83.5\" stroke=\"#000000\"/>\n",
       "<text fill=\"#000000\" font-family=\"Times,serif\" font-size=\"14.00\" text-anchor=\"middle\" x=\"121\" y=\"-102.8\">dropout_4: Dropout</text>\n",
       "<polyline fill=\"none\" points=\"183.5,-83.5 183.5,-129.5 \" stroke=\"#000000\"/>\n",
       "<text fill=\"#000000\" font-family=\"Times,serif\" font-size=\"14.00\" text-anchor=\"middle\" x=\"211\" y=\"-114.3\">input:</text>\n",
       "<polyline fill=\"none\" points=\"183.5,-106.5 238.5,-106.5 \" stroke=\"#000000\"/>\n",
       "<text fill=\"#000000\" font-family=\"Times,serif\" font-size=\"14.00\" text-anchor=\"middle\" x=\"211\" y=\"-91.3\">output:</text>\n",
       "<polyline fill=\"none\" points=\"238.5,-83.5 238.5,-129.5 \" stroke=\"#000000\"/>\n",
       "<text fill=\"#000000\" font-family=\"Times,serif\" font-size=\"14.00\" text-anchor=\"middle\" x=\"280\" y=\"-114.3\">(None, 256)</text>\n",
       "<polyline fill=\"none\" points=\"238.5,-106.5 321.5,-106.5 \" stroke=\"#000000\"/>\n",
       "<text fill=\"#000000\" font-family=\"Times,serif\" font-size=\"14.00\" text-anchor=\"middle\" x=\"280\" y=\"-91.3\">(None, 256)</text>\n",
       "</g>\n",
       "<!-- 140057595378768&#45;&gt;140057602616512 -->\n",
       "<g class=\"edge\" id=\"edge5\">\n",
       "<title>140057595378768-&gt;140057602616512</title>\n",
       "<path d=\"M190,-166.3799C190,-158.1745 190,-148.7679 190,-139.8786\" fill=\"none\" stroke=\"#000000\"/>\n",
       "<polygon fill=\"#000000\" points=\"193.5001,-139.784 190,-129.784 186.5001,-139.784 193.5001,-139.784\" stroke=\"#000000\"/>\n",
       "</g>\n",
       "<!-- 140057602940152 -->\n",
       "<g class=\"node\" id=\"node6\">\n",
       "<title>140057602940152</title>\n",
       "<polygon fill=\"none\" points=\"70,-.5 70,-46.5 310,-46.5 310,-.5 70,-.5\" stroke=\"#000000\"/>\n",
       "<text fill=\"#000000\" font-family=\"Times,serif\" font-size=\"14.00\" text-anchor=\"middle\" x=\"121\" y=\"-19.8\">dense_7: Dense</text>\n",
       "<polyline fill=\"none\" points=\"172,-.5 172,-46.5 \" stroke=\"#000000\"/>\n",
       "<text fill=\"#000000\" font-family=\"Times,serif\" font-size=\"14.00\" text-anchor=\"middle\" x=\"199.5\" y=\"-31.3\">input:</text>\n",
       "<polyline fill=\"none\" points=\"172,-23.5 227,-23.5 \" stroke=\"#000000\"/>\n",
       "<text fill=\"#000000\" font-family=\"Times,serif\" font-size=\"14.00\" text-anchor=\"middle\" x=\"199.5\" y=\"-8.3\">output:</text>\n",
       "<polyline fill=\"none\" points=\"227,-.5 227,-46.5 \" stroke=\"#000000\"/>\n",
       "<text fill=\"#000000\" font-family=\"Times,serif\" font-size=\"14.00\" text-anchor=\"middle\" x=\"268.5\" y=\"-31.3\">(None, 256)</text>\n",
       "<polyline fill=\"none\" points=\"227,-23.5 310,-23.5 \" stroke=\"#000000\"/>\n",
       "<text fill=\"#000000\" font-family=\"Times,serif\" font-size=\"14.00\" text-anchor=\"middle\" x=\"268.5\" y=\"-8.3\">(None, 10)</text>\n",
       "</g>\n",
       "<!-- 140057602616512&#45;&gt;140057602940152 -->\n",
       "<g class=\"edge\" id=\"edge6\">\n",
       "<title>140057602616512-&gt;140057602940152</title>\n",
       "<path d=\"M190,-83.3799C190,-75.1745 190,-65.7679 190,-56.8786\" fill=\"none\" stroke=\"#000000\"/>\n",
       "<polygon fill=\"#000000\" points=\"193.5001,-56.784 190,-46.784 186.5001,-56.784 193.5001,-56.784\" stroke=\"#000000\"/>\n",
       "</g>\n",
       "<!-- 140057595376024 -->\n",
       "<g class=\"node\" id=\"node7\">\n",
       "<title>140057595376024</title>\n",
       "<polygon fill=\"none\" points=\"131,-498.5 131,-534.5 249,-534.5 249,-498.5 131,-498.5\" stroke=\"#000000\"/>\n",
       "<text fill=\"#000000\" font-family=\"Times,serif\" font-size=\"14.00\" text-anchor=\"middle\" x=\"190\" y=\"-512.8\">140057595376024</text>\n",
       "</g>\n",
       "<!-- 140057595376024&#45;&gt;140057595735960 -->\n",
       "<g class=\"edge\" id=\"edge1\">\n",
       "<title>140057595376024-&gt;140057595735960</title>\n",
       "<path d=\"M190,-498.4092C190,-490.4308 190,-480.795 190,-471.606\" fill=\"none\" stroke=\"#000000\"/>\n",
       "<polygon fill=\"#000000\" points=\"193.5001,-471.5333 190,-461.5333 186.5001,-471.5334 193.5001,-471.5333\" stroke=\"#000000\"/>\n",
       "</g>\n",
       "</g>\n",
       "</svg>"
      ],
      "text/plain": [
       "<IPython.core.display.SVG object>"
      ]
     },
     "execution_count": 22,
     "metadata": {},
     "output_type": "execute_result"
    }
   ],
   "source": [
    "SVG(model_to_dot(model, show_shapes=True).create(prog='dot', format='svg'))"
   ]
  },
  {
   "cell_type": "code",
   "execution_count": 23,
   "metadata": {},
   "outputs": [],
   "source": [
    "model.compile(loss='categorical_crossentropy', optimizer='adam', metrics=['accuracy'])"
   ]
  },
  {
   "cell_type": "code",
   "execution_count": 24,
   "metadata": {},
   "outputs": [
    {
     "name": "stdout",
     "output_type": "stream",
     "text": [
      "Train on 48000 samples, validate on 12000 samples\n",
      "Epoch 1/20\n",
      "48000/48000 [==============================] - 4s 84us/step - loss: 0.4855 - acc: 0.8266 - val_loss: 0.3283 - val_acc: 0.8818\n",
      "Epoch 2/20\n",
      "48000/48000 [==============================] - 4s 81us/step - loss: 0.3354 - acc: 0.8788 - val_loss: 0.2771 - val_acc: 0.8977\n",
      "Epoch 3/20\n",
      "48000/48000 [==============================] - 4s 83us/step - loss: 0.2914 - acc: 0.8933 - val_loss: 0.2774 - val_acc: 0.8962\n",
      "Epoch 4/20\n",
      "48000/48000 [==============================] - 4s 80us/step - loss: 0.2652 - acc: 0.9027 - val_loss: 0.2480 - val_acc: 0.9081\n",
      "Epoch 5/20\n",
      "48000/48000 [==============================] - 4s 80us/step - loss: 0.2467 - acc: 0.9106 - val_loss: 0.2437 - val_acc: 0.9094\n",
      "Epoch 6/20\n",
      "48000/48000 [==============================] - 4s 82us/step - loss: 0.2290 - acc: 0.9149 - val_loss: 0.2547 - val_acc: 0.9064\n",
      "Epoch 7/20\n",
      "48000/48000 [==============================] - 4s 80us/step - loss: 0.2150 - acc: 0.9196 - val_loss: 0.2339 - val_acc: 0.9143\n",
      "Epoch 8/20\n",
      "48000/48000 [==============================] - 4s 80us/step - loss: 0.2017 - acc: 0.9259 - val_loss: 0.2425 - val_acc: 0.9130\n",
      "Epoch 9/20\n",
      "48000/48000 [==============================] - 4s 81us/step - loss: 0.1908 - acc: 0.9294 - val_loss: 0.2284 - val_acc: 0.9154\n",
      "Epoch 10/20\n",
      "48000/48000 [==============================] - 4s 80us/step - loss: 0.1797 - acc: 0.9340 - val_loss: 0.2299 - val_acc: 0.9195\n",
      "Epoch 11/20\n",
      "48000/48000 [==============================] - 4s 83us/step - loss: 0.1676 - acc: 0.9374 - val_loss: 0.2341 - val_acc: 0.9170\n",
      "Epoch 12/20\n",
      "48000/48000 [==============================] - 4s 80us/step - loss: 0.1608 - acc: 0.9398 - val_loss: 0.2386 - val_acc: 0.9172\n",
      "Epoch 13/20\n",
      "48000/48000 [==============================] - 4s 80us/step - loss: 0.1516 - acc: 0.9430 - val_loss: 0.2293 - val_acc: 0.9206\n",
      "Epoch 14/20\n",
      "48000/48000 [==============================] - 4s 80us/step - loss: 0.1429 - acc: 0.9465 - val_loss: 0.2415 - val_acc: 0.9179\n",
      "Epoch 15/20\n",
      "48000/48000 [==============================] - 4s 80us/step - loss: 0.1352 - acc: 0.9485 - val_loss: 0.2383 - val_acc: 0.9208\n",
      "Epoch 16/20\n",
      "48000/48000 [==============================] - 4s 80us/step - loss: 0.1282 - acc: 0.9527 - val_loss: 0.2415 - val_acc: 0.9212\n",
      "Epoch 17/20\n",
      "48000/48000 [==============================] - 4s 80us/step - loss: 0.1211 - acc: 0.9541 - val_loss: 0.2469 - val_acc: 0.9217\n",
      "Epoch 18/20\n",
      "48000/48000 [==============================] - 4s 80us/step - loss: 0.1157 - acc: 0.9567 - val_loss: 0.2488 - val_acc: 0.9222\n",
      "Epoch 19/20\n",
      "48000/48000 [==============================] - 4s 80us/step - loss: 0.1107 - acc: 0.9578 - val_loss: 0.2586 - val_acc: 0.9170\n",
      "Epoch 20/20\n",
      "48000/48000 [==============================] - 4s 80us/step - loss: 0.1057 - acc: 0.9601 - val_loss: 0.2685 - val_acc: 0.9197\n"
     ]
    }
   ],
   "source": [
    "!rm -rf /tmp/checkpoints\n",
    "!mkdir /tmp/checkpoints\n",
    "\n",
    "checkpointer = ModelCheckpoint('/tmp/checkpoints/weights.{epoch:02d}-{val_loss:.2f}.hdf5')\n",
    "\n",
    "history = model.fit(train_X, train_y_one_hot,\n",
    "                    batch_size=64,\n",
    "                    epochs=20,\n",
    "                    validation_data=(valid_X, valid_y_one_hot),\n",
    "                    callbacks=[checkpointer])"
   ]
  },
  {
   "cell_type": "markdown",
   "metadata": {},
   "source": [
    "## Excersize: plot learning curves and choose the best epoch"
   ]
  },
  {
   "cell_type": "code",
   "execution_count": 26,
   "metadata": {},
   "outputs": [
    {
     "data": {
      "text/plain": [
       "<matplotlib.axes._subplots.AxesSubplot at 0x7f61296c2f60>"
      ]
     },
     "execution_count": 26,
     "metadata": {},
     "output_type": "execute_result"
    },
    {
     "data": {
      "image/png": "[encoded data removed]",
      "text/plain": [
       "<Figure size 432x288 with 1 Axes>"
      ]
     },
     "metadata": {},
     "output_type": "display_data"
    }
   ],
   "source": [
    "pd.DataFrame(history.history)[['loss', 'val_loss']].plot()"
   ]
  },
  {
   "cell_type": "markdown",
   "metadata": {},
   "source": [
    "## Excersize: change model structure (add more conv->max_pool blocks)\n",
    "\n",
    "[how to do it](http://cs231n.github.io/convolutional-networks/#layerpat)"
   ]
  },
  {
   "cell_type": "markdown",
   "metadata": {},
   "source": [
    "`INPUT -> [CONV -> RELU -> CONV -> RELU -> POOL]*3 -> [FC -> RELU]*2 -> FC`"
   ]
  },
  {
   "cell_type": "code",
   "execution_count": 38,
   "metadata": {},
   "outputs": [
    {
     "name": "stdout",
     "output_type": "stream",
     "text": [
      "_________________________________________________________________\n",
      "Layer (type)                 Output Shape              Param #   \n",
      "=================================================================\n",
      "conv2d_51 (Conv2D)           (None, 28, 28, 32)        320       \n",
      "_________________________________________________________________\n",
      "conv2d_52 (Conv2D)           (None, 28, 28, 32)        9248      \n",
      "_________________________________________________________________\n",
      "max_pooling2d_27 (MaxPooling (None, 14, 14, 32)        0         \n",
      "_________________________________________________________________\n",
      "conv2d_53 (Conv2D)           (None, 14, 14, 64)        18496     \n",
      "_________________________________________________________________\n",
      "conv2d_54 (Conv2D)           (None, 14, 14, 64)        36928     \n",
      "_________________________________________________________________\n",
      "max_pooling2d_28 (MaxPooling (None, 7, 7, 64)          0         \n",
      "_________________________________________________________________\n",
      "conv2d_55 (Conv2D)           (None, 7, 7, 128)         73856     \n",
      "_________________________________________________________________\n",
      "conv2d_56 (Conv2D)           (None, 7, 7, 128)         147584    \n",
      "_________________________________________________________________\n",
      "max_pooling2d_29 (MaxPooling (None, 3, 3, 128)         0         \n",
      "_________________________________________________________________\n",
      "flatten_11 (Flatten)         (None, 1152)              0         \n",
      "_________________________________________________________________\n",
      "dense_24 (Dense)             (None, 256)               295168    \n",
      "_________________________________________________________________\n",
      "dropout_13 (Dropout)         (None, 256)               0         \n",
      "_________________________________________________________________\n",
      "dense_25 (Dense)             (None, 10)                2570      \n",
      "=================================================================\n",
      "Total params: 584,170\n",
      "Trainable params: 584,170\n",
      "Non-trainable params: 0\n",
      "_________________________________________________________________\n"
     ]
    }
   ],
   "source": [
    "model = Sequential()\n",
    "\n",
    "# Must define the input shape in the first layer of the neural network\n",
    "model.add(Conv2D(filters=32, kernel_size=3, padding='same', activation='relu', input_shape=(28, 28, 1)))\n",
    "model.add(Conv2D(filters=32, kernel_size=3, padding='same', activation='relu', input_shape=(28, 28, 1))) \n",
    "model.add(MaxPooling2D(pool_size=2))\n",
    "\n",
    "model.add(Conv2D(filters=64, kernel_size=3, padding='same', activation='relu', input_shape=(28, 28, 1)))\n",
    "model.add(Conv2D(filters=64, kernel_size=3, padding='same', activation='relu', input_shape=(28, 28, 1))) \n",
    "model.add(MaxPooling2D(pool_size=2))\n",
    "\n",
    "model.add(Conv2D(filters=128, kernel_size=3, padding='same', activation='relu', input_shape=(28, 28, 1)))\n",
    "model.add(Conv2D(filters=128, kernel_size=3, padding='same', activation='relu', input_shape=(28, 28, 1))) \n",
    "model.add(MaxPooling2D(pool_size=2))\n",
    "\n",
    "model.add(Flatten())\n",
    "\n",
    "model.add(Dense(256, activation='relu'))\n",
    "model.add(Dropout(0.5))\n",
    "model.add(Dense(10, activation='softmax'))\n",
    "\n",
    "# Take a look at the model summary\n",
    "model.summary()"
   ]
  },
  {
   "cell_type": "code",
   "execution_count": 39,
   "metadata": {},
   "outputs": [
    {
     "name": "stdout",
     "output_type": "stream",
     "text": [
      "Train on 48000 samples, validate on 12000 samples\n",
      "Epoch 1/20\n",
      "48000/48000 [==============================] - 5s 112us/step - loss: 0.5463 - acc: 0.8024 - val_loss: 0.3313 - val_acc: 0.8732\n",
      "Epoch 2/20\n",
      "48000/48000 [==============================] - 5s 99us/step - loss: 0.3169 - acc: 0.8840 - val_loss: 0.2732 - val_acc: 0.8998\n",
      "Epoch 3/20\n",
      "48000/48000 [==============================] - 5s 103us/step - loss: 0.2613 - acc: 0.9048 - val_loss: 0.2421 - val_acc: 0.9131\n",
      "Epoch 4/20\n",
      "48000/48000 [==============================] - 5s 104us/step - loss: 0.2314 - acc: 0.9162 - val_loss: 0.2380 - val_acc: 0.9113\n",
      "Epoch 5/20\n",
      "48000/48000 [==============================] - 5s 104us/step - loss: 0.2044 - acc: 0.9260 - val_loss: 0.2212 - val_acc: 0.9209\n",
      "Epoch 6/20\n",
      "48000/48000 [==============================] - 5s 102us/step - loss: 0.1853 - acc: 0.9328 - val_loss: 0.2145 - val_acc: 0.9259\n",
      "Epoch 7/20\n",
      "48000/48000 [==============================] - 5s 100us/step - loss: 0.1671 - acc: 0.9388 - val_loss: 0.2244 - val_acc: 0.9187\n",
      "Epoch 8/20\n",
      "48000/48000 [==============================] - 5s 105us/step - loss: 0.1451 - acc: 0.9453 - val_loss: 0.1980 - val_acc: 0.9297\n",
      "Epoch 9/20\n",
      "48000/48000 [==============================] - 5s 101us/step - loss: 0.1325 - acc: 0.9499 - val_loss: 0.2163 - val_acc: 0.9319\n",
      "Epoch 10/20\n",
      "48000/48000 [==============================] - 5s 100us/step - loss: 0.1151 - acc: 0.9570 - val_loss: 0.2330 - val_acc: 0.9262\n",
      "Epoch 11/20\n",
      "48000/48000 [==============================] - 5s 102us/step - loss: 0.1058 - acc: 0.9602 - val_loss: 0.2421 - val_acc: 0.9286\n",
      "Epoch 12/20\n",
      "48000/48000 [==============================] - 5s 101us/step - loss: 0.0932 - acc: 0.9652 - val_loss: 0.2546 - val_acc: 0.9237\n",
      "Epoch 13/20\n",
      "48000/48000 [==============================] - 5s 100us/step - loss: 0.0852 - acc: 0.9679 - val_loss: 0.2744 - val_acc: 0.9189\n",
      "Epoch 14/20\n",
      "48000/48000 [==============================] - 5s 100us/step - loss: 0.0789 - acc: 0.9708 - val_loss: 0.3071 - val_acc: 0.9233\n",
      "Epoch 15/20\n",
      "48000/48000 [==============================] - 5s 100us/step - loss: 0.0683 - acc: 0.9750 - val_loss: 0.2618 - val_acc: 0.9274\n",
      "Epoch 16/20\n",
      "48000/48000 [==============================] - 5s 101us/step - loss: 0.0651 - acc: 0.9759 - val_loss: 0.2993 - val_acc: 0.9276\n",
      "Epoch 17/20\n",
      "48000/48000 [==============================] - 5s 101us/step - loss: 0.0597 - acc: 0.9787 - val_loss: 0.3302 - val_acc: 0.9252\n",
      "Epoch 18/20\n",
      "48000/48000 [==============================] - 5s 105us/step - loss: 0.0605 - acc: 0.9774 - val_loss: 0.3120 - val_acc: 0.9261\n",
      "Epoch 19/20\n",
      "48000/48000 [==============================] - 5s 99us/step - loss: 0.0542 - acc: 0.9800 - val_loss: 0.3630 - val_acc: 0.9228\n",
      "Epoch 20/20\n",
      "48000/48000 [==============================] - 5s 101us/step - loss: 0.0549 - acc: 0.9807 - val_loss: 0.3394 - val_acc: 0.9263\n"
     ]
    }
   ],
   "source": [
    "model.compile(loss='categorical_crossentropy', optimizer='adam', metrics=['accuracy'])\n",
    "\n",
    "!rm -rf /tmp/checkpoints\n",
    "!mkdir /tmp/checkpoints\n",
    "\n",
    "checkpointer = ModelCheckpoint('/tmp/checkpoints/weights.{epoch:02d}-{val_loss:.2f}.hdf5')\n",
    "\n",
    "history = model.fit(train_X, train_y_one_hot,\n",
    "                    batch_size=64,\n",
    "                    epochs=20,\n",
    "                    validation_data=(valid_X, valid_y_one_hot),\n",
    "                    callbacks=[checkpointer])"
   ]
  },
  {
   "cell_type": "code",
   "execution_count": 40,
   "metadata": {},
   "outputs": [
    {
     "data": {
      "text/plain": [
       "<matplotlib.axes._subplots.AxesSubplot at 0x7f61a9b59048>"
      ]
     },
     "execution_count": 40,
     "metadata": {},
     "output_type": "execute_result"
    },
    {
     "data": {
      "image/png": "[encoded data removed]",
      "text/plain": [
       "<Figure size 432x288 with 1 Axes>"
      ]
     },
     "metadata": {},
     "output_type": "display_data"
    }
   ],
   "source": [
    "pd.DataFrame(history.history)[['loss', 'val_loss']].plot()"
   ]
  }
 ],
 "metadata": {
  "kernelspec": {
   "display_name": "Python 3",
   "language": "python",
   "name": "python3"
  },
  "language_info": {
   "codemirror_mode": {
    "name": "ipython",
    "version": 3
   },
   "file_extension": ".py",
   "mimetype": "text/x-python",
   "name": "python",
   "nbconvert_exporter": "python",
   "pygments_lexer": "ipython3",
   "version": "3.6.5"
  }
 },
 "nbformat": 4,
 "nbformat_minor": 2
}

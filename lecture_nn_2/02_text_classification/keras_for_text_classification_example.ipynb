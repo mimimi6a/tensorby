{
 "cells": [
  {
   "cell_type": "markdown",
   "metadata": {},
   "source": [
    "<small><i>This notebook was created by [Alexander Fridman](http://www.rocketscience.ai) for the Lecture Course. Source and license info is on [GitHub](https://github.com/volhahedranovich/jupyter_lectures).</i></small>"
   ]
  },
  {
   "cell_type": "markdown",
   "metadata": {},
   "source": [
    "# <div class=\"alert alert-block alert-info\">Text Classification with Convolutional and Recurrent Networks</div>"
   ]
  },
  {
   "cell_type": "markdown",
   "metadata": {},
   "source": [
    "### RNN & LSTM\n",
    "[Colah's blog. Understanding LSTM Networks](http://colah.github.io/posts/2015-08-Understanding-LSTMs/)\n",
    "\n",
    "### Packages\n",
    "1. keras\n",
    "1. scikit-learn\n",
    "1. tensorflow (or theano)\n",
    "1. numpy\n",
    "1. pandas\n",
    "\n",
    "### Data\n",
    "\n",
    "[20 News Groups](http://scikit-learn.org/stable/datasets/twenty_newsgroups.html)"
   ]
  },
  {
   "cell_type": "code",
   "execution_count": 2,
   "metadata": {
    "ExecuteTime": {
     "end_time": "2018-03-01T10:15:47.276290Z",
     "start_time": "2018-03-01T10:15:45.621930Z"
    }
   },
   "outputs": [
    {
     "name": "stderr",
     "output_type": "stream",
     "text": [
      "Using TensorFlow backend.\n"
     ]
    }
   ],
   "source": [
    "import os\n",
    "import re\n",
    "import pickle\n",
    "import random\n",
    "import shutil\n",
    "from collections import Counter\n",
    "\n",
    "import matplotlib.pyplot as plt\n",
    "import numpy as np\n",
    "import pandas as pd\n",
    "from IPython.display import SVG\n",
    "from keras.callbacks import ModelCheckpoint, EarlyStopping\n",
    "from keras.layers import Embedding, Input, LSTM, Dense, Conv1D, MaxPooling1D, Flatten, Dropout, Masking\n",
    "from keras.models import Model, load_model, Sequential\n",
    "from keras.preprocessing.sequence import pad_sequences\n",
    "from keras.preprocessing.text import Tokenizer\n",
    "from keras.optimizers import Adam\n",
    "from keras.utils import to_categorical\n",
    "from keras.utils.vis_utils import model_to_dot\n",
    "from sklearn.datasets import fetch_20newsgroups\n",
    "from sklearn.metrics import classification_report\n",
    "from sklearn.model_selection import train_test_split\n",
    "from sklearn.preprocessing import LabelEncoder, OneHotEncoder\n",
    "\n",
    "\n",
    "%matplotlib inline"
   ]
  },
  {
   "cell_type": "markdown",
   "metadata": {},
   "source": [
    "### <div class=\"alert alert-block alert-success\">Prepare a dataset</div>\n",
    "1. Select N random classes.\n",
    "1. Save corresponding data (texts and targets) - each class into separate folder."
   ]
  },
  {
   "cell_type": "code",
   "execution_count": 3,
   "metadata": {
    "ExecuteTime": {
     "end_time": "2018-03-01T10:16:22.737639Z",
     "start_time": "2018-03-01T10:16:22.731101Z"
    }
   },
   "outputs": [],
   "source": [
    "N_CLASSES = 5\n",
    "DATASET_PATH = 'data'"
   ]
  },
  {
   "cell_type": "code",
   "execution_count": 4,
   "metadata": {
    "ExecuteTime": {
     "end_time": "2018-03-01T10:16:25.279660Z",
     "start_time": "2018-03-01T10:16:23.043630Z"
    }
   },
   "outputs": [
    {
     "name": "stdout",
     "output_type": "stream",
     "text": [
      "#texts: 4732\n",
      "Selected classes:\n",
      "('rec.motorcycles', 996)\n",
      "('sci.med', 990)\n",
      "('sci.electronics', 984)\n",
      "('comp.sys.mac.hardware', 963)\n",
      "('alt.atheism', 799)\n"
     ]
    }
   ],
   "source": [
    "assert N_CLASSES < 20\n",
    "\n",
    "# load dataset\n",
    "data = fetch_20newsgroups(subset='all', remove=('headers', 'footers', 'quotes'))\n",
    "\n",
    "# select N_CLASSES at random\n",
    "selected_target_names = set(random.sample(data['target_names'], N_CLASSES))\n",
    "\n",
    "# found positions of items of selected classes\n",
    "indexes = [i for i, y_i in enumerate(data['target']) \n",
    "           if data['target_names'][y_i] in selected_target_names]\n",
    "texts = [data['data'][i] for i in indexes]\n",
    "targets = [data['target_names'][data['target'][i]] for i in indexes]\n",
    "\n",
    "print('#texts:', len(texts))\n",
    "print('Selected classes:')\n",
    "print('\\n'.join(map(str, Counter(targets).most_common())))\n",
    "\n",
    "# save dataset\n",
    "shutil.rmtree(DATASET_PATH, ignore_errors=True)\n",
    "os.makedirs(DATASET_PATH, exist_ok=True)\n",
    "\n",
    "# create separate folder for each class\n",
    "for target_name in selected_target_names:\n",
    "    os.makedirs(os.path.join(DATASET_PATH, target_name), exist_ok=True)\n",
    "    \n",
    "for i, (target, text) in enumerate(sorted(zip(targets, texts))):\n",
    "    path = os.path.join(DATASET_PATH, target, r'{}.txt'.format(i))\n",
    "    \n",
    "    with open(path, 'w+', encoding='utf8') as f:\n",
    "        f.write(text)"
   ]
  },
  {
   "cell_type": "markdown",
   "metadata": {},
   "source": [
    "### <div class=\"alert alert-block alert-success\">Load dataset</div>"
   ]
  },
  {
   "cell_type": "code",
   "execution_count": 5,
   "metadata": {
    "ExecuteTime": {
     "end_time": "2018-03-01T10:16:26.200658Z",
     "start_time": "2018-03-01T10:16:26.193125Z"
    }
   },
   "outputs": [],
   "source": [
    "def load_data(path):\n",
    "    \"\"\"\n",
    "    data loading function\n",
    "    \n",
    "    assumes there is a folder full of *.txt files for each class\n",
    "    \"\"\"\n",
    "    texts, targets = [], []\n",
    "    \n",
    "    for target in os.listdir(path):\n",
    "        target_path = os.path.join(path, target)\n",
    "        \n",
    "        for text_file_name in os.listdir(target_path):\n",
    "            text_file_path = os.path.join(target_path, text_file_name)\n",
    "            \n",
    "            targets.append(target)\n",
    "            with open(text_file_path, encoding='utf8') as f:\n",
    "                texts.append(f.read())\n",
    "                \n",
    "    return texts, targets"
   ]
  },
  {
   "cell_type": "code",
   "execution_count": 6,
   "metadata": {
    "ExecuteTime": {
     "end_time": "2018-03-01T10:16:27.591294Z",
     "start_time": "2018-03-01T10:16:27.505195Z"
    }
   },
   "outputs": [
    {
     "name": "stdout",
     "output_type": "stream",
     "text": [
      "Dataset loaded (class counts):\n",
      "('rec.motorcycles', 996)\n",
      "('sci.med', 990)\n",
      "('sci.electronics', 984)\n",
      "('comp.sys.mac.hardware', 963)\n",
      "('alt.atheism', 799)\n"
     ]
    }
   ],
   "source": [
    "texts, targets = load_data(DATASET_PATH)\n",
    "N_CLASSES = len(np.unique(targets))\n",
    "\n",
    "print('Dataset loaded (class counts):')\n",
    "print('\\n'.join(map(str, Counter(targets).most_common())))"
   ]
  },
  {
   "cell_type": "markdown",
   "metadata": {},
   "source": [
    "### <div class=\"alert alert-block alert-success\">Split dataset into train, test, valid</div>"
   ]
  },
  {
   "cell_type": "code",
   "execution_count": 7,
   "metadata": {
    "ExecuteTime": {
     "end_time": "2018-03-01T10:16:28.932900Z",
     "start_time": "2018-03-01T10:16:28.913355Z"
    }
   },
   "outputs": [],
   "source": [
    "train_texts, test_texts, train_targets, test_targets = train_test_split(texts,\n",
    "                                                                        targets,\n",
    "                                                                        test_size=0.2,\n",
    "                                                                        stratify=targets,\n",
    "                                                                        random_state=42)\n",
    "train_texts, valid_texts, train_targets, valid_targets = train_test_split(train_texts,\n",
    "                                                                          train_targets,\n",
    "                                                                          test_size=0.2,\n",
    "                                                                          stratify=train_targets,\n",
    "                                                                          random_state=42)"
   ]
  },
  {
   "cell_type": "markdown",
   "metadata": {},
   "source": [
    "### <div class=\"alert alert-block alert-success\">Encode targets</div>\n",
    "\n",
    ">Also convert targets into 1-hot format required by using categorical_crossentropy loss "
   ]
  },
  {
   "cell_type": "code",
   "execution_count": 8,
   "metadata": {
    "ExecuteTime": {
     "end_time": "2018-03-01T10:16:29.742993Z",
     "start_time": "2018-03-01T10:16:29.722737Z"
    }
   },
   "outputs": [],
   "source": [
    "label_encoder = LabelEncoder()\n",
    "\n",
    "y_train = label_encoder.fit_transform(train_targets)\n",
    "y_valid = label_encoder.transform(valid_targets)\n",
    "y_test = label_encoder.transform(test_targets)\n",
    "\n",
    "y_train_1_hot = to_categorical(y_train, N_CLASSES)\n",
    "y_valid_1_hot = to_categorical(y_valid, N_CLASSES)\n",
    "\n",
    "with open('label_encoder.p', 'wb') as f:\n",
    "    pickle.dump(label_encoder, f)"
   ]
  },
  {
   "cell_type": "markdown",
   "metadata": {},
   "source": [
    "### <div class=\"alert alert-block alert-success\">Example 1: Simple RNN</div>\n",
    "\n",
    "> Cut last N chars\n",
    "\n",
    "> Simple text preprocessing"
   ]
  },
  {
   "cell_type": "code",
   "execution_count": 9,
   "metadata": {},
   "outputs": [],
   "source": [
    "def replace_non_alpha(text):\n",
    "    text = text.lower().strip()\n",
    "    text = re.sub(r'[^a-z]', ' ', text)\n",
    "    text = re.sub('\\s+', ' ', text)\n",
    "    return text.strip()\n",
    "\n",
    "\n",
    "def preprocess(texts, targets):\n",
    "    new_texts, new_targets = [], []\n",
    "    \n",
    "    for text, target in zip(texts, targets):\n",
    "        text = replace_non_alpha(text)\n",
    "        if len(text) > 50:\n",
    "            new_texts.append(text)\n",
    "            new_targets.append(target)\n",
    "            \n",
    "    return new_texts, np.array(new_targets)\n",
    "\n",
    "\n",
    "train_texts, y_train_1_hot = preprocess(train_texts, y_train_1_hot)\n",
    "test_texts, y_test = preprocess(test_texts, y_test)\n",
    "valid_texts, y_valid_1_hot = preprocess(valid_texts, y_valid_1_hot)"
   ]
  },
  {
   "cell_type": "markdown",
   "metadata": {},
   "source": [
    "### <div class=\"alert alert-block alert-success\">Tokenize and encode texts</div>\n",
    ">Limit number of tokens with NUM_WORDS\n",
    "\n",
    "*[More info about Tokenizer from keras](https://keras.io/preprocessing/text)*"
   ]
  },
  {
   "cell_type": "code",
   "execution_count": 10,
   "metadata": {},
   "outputs": [
    {
     "name": "stdout",
     "output_type": "stream",
     "text": [
      "Actual NUM_WORDS=10000\n"
     ]
    }
   ],
   "source": [
    "NUM_WORDS = 10000\n",
    "\n",
    "tokenizer = Tokenizer(NUM_WORDS)\n",
    "tokenizer.fit_on_texts(train_texts)\n",
    "NUM_WORDS = min(NUM_WORDS, len(tokenizer.word_index))\n",
    "print('Actual NUM_WORDS={}'.format(NUM_WORDS))\n",
    "\n",
    "with open('tokenizer.p', 'wb') as f:\n",
    "    pickle.dump(tokenizer, f)\n",
    "\n",
    "train_texts_encoded = tokenizer.texts_to_sequences(train_texts)\n",
    "valid_texts_encoded = tokenizer.texts_to_sequences(valid_texts)\n",
    "test_texts_encoded = tokenizer.texts_to_sequences(test_texts)"
   ]
  },
  {
   "cell_type": "markdown",
   "metadata": {},
   "source": [
    "### <div class=\"alert alert-block alert-success\">Analyze train text lengths and choose MAX_SEQUENCE_LENGTH</div>"
   ]
  },
  {
   "cell_type": "code",
   "execution_count": 11,
   "metadata": {
    "scrolled": true
   },
   "outputs": [
    {
     "data": {
      "text/plain": [
       "count    2848.000000\n",
       "mean      148.406250\n",
       "std       382.533847\n",
       "min         3.000000\n",
       "25%        42.000000\n",
       "50%        80.000000\n",
       "75%       149.000000\n",
       "max      8348.000000\n",
       "dtype: float64"
      ]
     },
     "execution_count": 11,
     "metadata": {},
     "output_type": "execute_result"
    }
   ],
   "source": [
    "train_text_lengths = list(map(len, train_texts_encoded))\n",
    "pd.Series(train_text_lengths).describe()"
   ]
  },
  {
   "cell_type": "code",
   "execution_count": 12,
   "metadata": {},
   "outputs": [],
   "source": [
    "MAX_SEQUENCE_LENGTH = 100\n",
    "\n",
    "X_train = pad_sequences(train_texts_encoded, MAX_SEQUENCE_LENGTH)\n",
    "X_valid = pad_sequences(valid_texts_encoded, MAX_SEQUENCE_LENGTH)\n",
    "X_test = pad_sequences(test_texts_encoded, MAX_SEQUENCE_LENGTH)"
   ]
  },
  {
   "cell_type": "markdown",
   "metadata": {},
   "source": [
    "### <div class=\"alert alert-block alert-success\">A neural net w/o embeddings</div>"
   ]
  },
  {
   "cell_type": "code",
   "execution_count": 13,
   "metadata": {},
   "outputs": [],
   "source": [
    "def get_one(i, size):\n",
    "    \"\"\"\n",
    "    >>> get_one(3, 8)\n",
    "    array([False, False, False,  True, False, False, False, False])\n",
    "    \"\"\"\n",
    "    return np.eye(1, size, k=i, dtype=np.bool).ravel()\n",
    "\n",
    "def encode_texts(texts):\n",
    "    max_sentence_len = np.max(list(map(len, texts)))\n",
    "    X = np.zeros((len(texts), max_sentence_len, NUM_WORDS), dtype=np.int8)\n",
    "    \n",
    "    for i, text in enumerate(texts):\n",
    "        for t, word_id in enumerate(text):\n",
    "            X[i, t, :] = get_one(word_id, NUM_WORDS)\n",
    "            \n",
    "    return X\n",
    "\n",
    "\n",
    "def iter_batches(texts, targets=None, batch_size=16, sort_by_len=True, shuffle=True):\n",
    "    assert (targets is not None) and (len(texts) == len(targets))\n",
    "    assert batch_size > 0\n",
    "    \n",
    "    if sort_by_len:\n",
    "        text_lengths = list(map(len, texts))\n",
    "        indexes = np.argsort(text_lengths)\n",
    "\n",
    "        texts = np.array(texts)[indexes]\n",
    "\n",
    "        if targets is not None:\n",
    "            targets = np.array(targets)[indexes]\n",
    "    \n",
    "    batch_indexes = list(range(len(texts) // batch_size))\n",
    "    \n",
    "    while True:\n",
    "        if shuffle:\n",
    "            random.shuffle(batch_indexes)\n",
    "            \n",
    "        for i in batch_indexes:\n",
    "            texts_batch = texts[i * batch_size:(i + 1) * batch_size]\n",
    "            texts_batch_encoded = encode_texts(texts_batch)\n",
    "            \n",
    "            if targets is not None:\n",
    "                targets_batch = targets[i * batch_size:(i + 1) * batch_size]\n",
    "                yield texts_batch_encoded, targets_batch\n",
    "            else:\n",
    "                yield texts_batch_encoded"
   ]
  },
  {
   "cell_type": "markdown",
   "metadata": {},
   "source": [
    "### <div class=\"alert alert-block alert-success\">Let's build a model</div>"
   ]
  },
  {
   "cell_type": "code",
   "execution_count": 56,
   "metadata": {},
   "outputs": [],
   "source": [
    "model = Sequential([\n",
    "    Masking(mask_value=np.int8(0), input_shape=(None, NUM_WORDS)),\n",
    "    LSTM(units=128, activation='tanh', implementation=2, return_sequences=True),\n",
    "    Dropout(0.2),\n",
    "    LSTM(units=128, activation='tanh', implementation=2),\n",
    "    Dropout(0.2),\n",
    "    Dense(N_CLASSES, activation='softmax')\n",
    "])\n",
    "\n",
    "\n",
    "model.compile(loss='categorical_crossentropy',\n",
    "              optimizer=Adam(clipnorm=1.),\n",
    "              metrics=['accuracy'])"
   ]
  },
  {
   "cell_type": "code",
   "execution_count": 57,
   "metadata": {},
   "outputs": [
    {
     "name": "stderr",
     "output_type": "stream",
     "text": [
      "/home/alex/.virtualenvs/gpu/lib/python3.6/site-packages/keras/engine/training_generator.py:47: UserWarning: Using a generator with `use_multiprocessing=True` and multiple workers may duplicate your data. Please consider using the`keras.utils.Sequence class.\n",
      "  UserWarning('Using a generator with `use_multiprocessing=True`'\n"
     ]
    },
    {
     "name": "stdout",
     "output_type": "stream",
     "text": [
      "Epoch 1/30\n",
      "182/182 [==============================] - 41s 224ms/step - loss: 1.3943 - acc: 0.3757 - val_loss: 1.0903 - val_acc: 0.5462\n",
      "Epoch 2/30\n",
      "182/182 [==============================] - 39s 214ms/step - loss: 0.7689 - acc: 0.7081 - val_loss: 0.8437 - val_acc: 0.6793\n",
      "Epoch 3/30\n",
      "182/182 [==============================] - 39s 215ms/step - loss: 0.3929 - acc: 0.8729 - val_loss: 0.9885 - val_acc: 0.7269\n",
      "Epoch 4/30\n",
      "182/182 [==============================] - 39s 215ms/step - loss: 0.2475 - acc: 0.9310 - val_loss: 0.8553 - val_acc: 0.7432\n",
      "Epoch 5/30\n",
      "182/182 [==============================] - 39s 215ms/step - loss: 0.1939 - acc: 0.9457 - val_loss: 1.1043 - val_acc: 0.7554\n"
     ]
    }
   ],
   "source": [
    "shutil.rmtree('checkpoints', ignore_errors=True)\n",
    "os.makedirs('checkpoints', exist_ok=True)\n",
    "\n",
    "BATCH_SIZE = 16\n",
    "\n",
    "train_gen = iter_batches(X_train, y_train_1_hot, BATCH_SIZE)\n",
    "test_gen = iter_batches(X_test, batch_size=BATCH_SIZE, sort_by_len=False)\n",
    "valid_gen = iter_batches(X_valid, y_valid_1_hot, BATCH_SIZE)\n",
    "\n",
    "train_steps = len(train_texts) // BATCH_SIZE\n",
    "\n",
    "\n",
    "checkpointer = ModelCheckpoint('checkpoints/weights.{epoch:02d}-{val_loss:.2f}.hdf5')\n",
    "stopper = EarlyStopping(patience=3)\n",
    "\n",
    "history = model.fit_generator(train_gen,\n",
    "                              steps_per_epoch=len(train_texts) // BATCH_SIZE,\n",
    "                              validation_data=valid_gen, \n",
    "                              validation_steps=len(valid_texts) // BATCH_SIZE,\n",
    "                              workers=3,\n",
    "                              use_multiprocessing=True,\n",
    "                              epochs=30,\n",
    "                              callbacks=[checkpointer, stopper])"
   ]
  },
  {
   "cell_type": "code",
   "execution_count": 58,
   "metadata": {},
   "outputs": [
    {
     "data": {
      "text/plain": [
       "<matplotlib.axes._subplots.AxesSubplot at 0x7f84625f6358>"
      ]
     },
     "execution_count": 58,
     "metadata": {},
     "output_type": "execute_result"
    },
    {
     "data": {
      "image/png": "[encoded data removed]",
      "text/plain": [
       "<Figure size 432x288 with 1 Axes>"
      ]
     },
     "metadata": {},
     "output_type": "display_data"
    },
    {
     "data": {
      "image/png": "[encoded data removed]",
      "text/plain": [
       "<Figure size 432x288 with 1 Axes>"
      ]
     },
     "metadata": {},
     "output_type": "display_data"
    }
   ],
   "source": [
    "df = pd.DataFrame(Out[23].history)\n",
    "\n",
    "df[['loss', 'val_loss']].plot()\n",
    "df[['acc', 'val_acc']].plot()"
   ]
  },
  {
   "cell_type": "markdown",
   "metadata": {},
   "source": [
    "### <div class=\"alert alert-block alert-success\">Example 2: more complex networks</div>\n",
    "Feel free to modify the functions for networks initializing, for example:\n",
    "1. Initialize an embedding layer with glove weights\n",
    "2. Add dropout to dense layers or even recurrent connections\n",
    "3. Try to combine convolutions and recurrent blocks (*[more info](https://machinelearningmastery.com/sequence-classification-lstm-recurrent-neural-networks-python-keras/)*)\n",
    "    \n",
    ">Size of the last dense layer is equal to the number of classes"
   ]
  },
  {
   "cell_type": "code",
   "execution_count": 16,
   "metadata": {
    "ExecuteTime": {
     "end_time": "2018-03-01T10:16:55.012312Z",
     "start_time": "2018-03-01T10:16:54.755058Z"
    }
   },
   "outputs": [
    {
     "name": "stdout",
     "output_type": "stream",
     "text": [
      "9684 words found in glove\n",
      "_________________________________________________________________\n",
      "Layer (type)                 Output Shape              Param #   \n",
      "=================================================================\n",
      "input_1 (InputLayer)         (None, 100)               0         \n",
      "_________________________________________________________________\n",
      "embedding_1 (Embedding)      (None, 100, 100)          1000100   \n",
      "_________________________________________________________________\n",
      "lstm_1 (LSTM)                (None, 128)               117248    \n",
      "_________________________________________________________________\n",
      "dense_1 (Dense)              (None, 5)                 645       \n",
      "=================================================================\n",
      "Total params: 1,117,993\n",
      "Trainable params: 117,893\n",
      "Non-trainable params: 1,000,100\n",
      "_________________________________________________________________\n",
      "None\n"
     ]
    },
    {
     "data": {
      "image/svg+xml": [
       "<svg height=\"304pt\" viewBox=\"0.00 0.00 334.00 304.00\" width=\"334pt\" xmlns=\"http://www.w3.org/2000/svg\" xmlns:xlink=\"http://www.w3.org/1999/xlink\">\n",
       "<g class=\"graph\" id=\"graph0\" transform=\"scale(1 1) rotate(0) translate(4 300)\">\n",
       "<title>G</title>\n",
       "<polygon fill=\"#ffffff\" points=\"-4,4 -4,-300 330,-300 330,4 -4,4\" stroke=\"transparent\"/>\n",
       "<!-- 140624590519936 -->\n",
       "<g class=\"node\" id=\"node1\">\n",
       "<title>140624590519936</title>\n",
       "<polygon fill=\"none\" points=\"31.5,-249.5 31.5,-295.5 294.5,-295.5 294.5,-249.5 31.5,-249.5\" stroke=\"#000000\"/>\n",
       "<text fill=\"#000000\" font-family=\"Times,serif\" font-size=\"14.00\" text-anchor=\"middle\" x=\"94\" y=\"-268.8\">input_1: InputLayer</text>\n",
       "<polyline fill=\"none\" points=\"156.5,-249.5 156.5,-295.5 \" stroke=\"#000000\"/>\n",
       "<text fill=\"#000000\" font-family=\"Times,serif\" font-size=\"14.00\" text-anchor=\"middle\" x=\"184\" y=\"-280.3\">input:</text>\n",
       "<polyline fill=\"none\" points=\"156.5,-272.5 211.5,-272.5 \" stroke=\"#000000\"/>\n",
       "<text fill=\"#000000\" font-family=\"Times,serif\" font-size=\"14.00\" text-anchor=\"middle\" x=\"184\" y=\"-257.3\">output:</text>\n",
       "<polyline fill=\"none\" points=\"211.5,-249.5 211.5,-295.5 \" stroke=\"#000000\"/>\n",
       "<text fill=\"#000000\" font-family=\"Times,serif\" font-size=\"14.00\" text-anchor=\"middle\" x=\"253\" y=\"-280.3\">(None, 100)</text>\n",
       "<polyline fill=\"none\" points=\"211.5,-272.5 294.5,-272.5 \" stroke=\"#000000\"/>\n",
       "<text fill=\"#000000\" font-family=\"Times,serif\" font-size=\"14.00\" text-anchor=\"middle\" x=\"253\" y=\"-257.3\">(None, 100)</text>\n",
       "</g>\n",
       "<!-- 140624590520272 -->\n",
       "<g class=\"node\" id=\"node2\">\n",
       "<title>140624590520272</title>\n",
       "<polygon fill=\"none\" points=\"0,-166.5 0,-212.5 326,-212.5 326,-166.5 0,-166.5\" stroke=\"#000000\"/>\n",
       "<text fill=\"#000000\" font-family=\"Times,serif\" font-size=\"14.00\" text-anchor=\"middle\" x=\"80.5\" y=\"-185.8\">embedding_1: Embedding</text>\n",
       "<polyline fill=\"none\" points=\"161,-166.5 161,-212.5 \" stroke=\"#000000\"/>\n",
       "<text fill=\"#000000\" font-family=\"Times,serif\" font-size=\"14.00\" text-anchor=\"middle\" x=\"188.5\" y=\"-197.3\">input:</text>\n",
       "<polyline fill=\"none\" points=\"161,-189.5 216,-189.5 \" stroke=\"#000000\"/>\n",
       "<text fill=\"#000000\" font-family=\"Times,serif\" font-size=\"14.00\" text-anchor=\"middle\" x=\"188.5\" y=\"-174.3\">output:</text>\n",
       "<polyline fill=\"none\" points=\"216,-166.5 216,-212.5 \" stroke=\"#000000\"/>\n",
       "<text fill=\"#000000\" font-family=\"Times,serif\" font-size=\"14.00\" text-anchor=\"middle\" x=\"271\" y=\"-197.3\">(None, 100)</text>\n",
       "<polyline fill=\"none\" points=\"216,-189.5 326,-189.5 \" stroke=\"#000000\"/>\n",
       "<text fill=\"#000000\" font-family=\"Times,serif\" font-size=\"14.00\" text-anchor=\"middle\" x=\"271\" y=\"-174.3\">(None, 100, 100)</text>\n",
       "</g>\n",
       "<!-- 140624590519936&#45;&gt;140624590520272 -->\n",
       "<g class=\"edge\" id=\"edge1\">\n",
       "<title>140624590519936-&gt;140624590520272</title>\n",
       "<path d=\"M163,-249.3799C163,-241.1745 163,-231.7679 163,-222.8786\" fill=\"none\" stroke=\"#000000\"/>\n",
       "<polygon fill=\"#000000\" points=\"166.5001,-222.784 163,-212.784 159.5001,-222.784 166.5001,-222.784\" stroke=\"#000000\"/>\n",
       "</g>\n",
       "<!-- 140624590412600 -->\n",
       "<g class=\"node\" id=\"node3\">\n",
       "<title>140624590412600</title>\n",
       "<polygon fill=\"none\" points=\"31.5,-83.5 31.5,-129.5 294.5,-129.5 294.5,-83.5 31.5,-83.5\" stroke=\"#000000\"/>\n",
       "<text fill=\"#000000\" font-family=\"Times,serif\" font-size=\"14.00\" text-anchor=\"middle\" x=\"80.5\" y=\"-102.8\">lstm_1: LSTM</text>\n",
       "<polyline fill=\"none\" points=\"129.5,-83.5 129.5,-129.5 \" stroke=\"#000000\"/>\n",
       "<text fill=\"#000000\" font-family=\"Times,serif\" font-size=\"14.00\" text-anchor=\"middle\" x=\"157\" y=\"-114.3\">input:</text>\n",
       "<polyline fill=\"none\" points=\"129.5,-106.5 184.5,-106.5 \" stroke=\"#000000\"/>\n",
       "<text fill=\"#000000\" font-family=\"Times,serif\" font-size=\"14.00\" text-anchor=\"middle\" x=\"157\" y=\"-91.3\">output:</text>\n",
       "<polyline fill=\"none\" points=\"184.5,-83.5 184.5,-129.5 \" stroke=\"#000000\"/>\n",
       "<text fill=\"#000000\" font-family=\"Times,serif\" font-size=\"14.00\" text-anchor=\"middle\" x=\"239.5\" y=\"-114.3\">(None, 100, 100)</text>\n",
       "<polyline fill=\"none\" points=\"184.5,-106.5 294.5,-106.5 \" stroke=\"#000000\"/>\n",
       "<text fill=\"#000000\" font-family=\"Times,serif\" font-size=\"14.00\" text-anchor=\"middle\" x=\"239.5\" y=\"-91.3\">(None, 128)</text>\n",
       "</g>\n",
       "<!-- 140624590520272&#45;&gt;140624590412600 -->\n",
       "<g class=\"edge\" id=\"edge2\">\n",
       "<title>140624590520272-&gt;140624590412600</title>\n",
       "<path d=\"M163,-166.3799C163,-158.1745 163,-148.7679 163,-139.8786\" fill=\"none\" stroke=\"#000000\"/>\n",
       "<polygon fill=\"#000000\" points=\"166.5001,-139.784 163,-129.784 159.5001,-139.784 166.5001,-139.784\" stroke=\"#000000\"/>\n",
       "</g>\n",
       "<!-- 140624590518592 -->\n",
       "<g class=\"node\" id=\"node4\">\n",
       "<title>140624590518592</title>\n",
       "<polygon fill=\"none\" points=\"43,-.5 43,-46.5 283,-46.5 283,-.5 43,-.5\" stroke=\"#000000\"/>\n",
       "<text fill=\"#000000\" font-family=\"Times,serif\" font-size=\"14.00\" text-anchor=\"middle\" x=\"94\" y=\"-19.8\">dense_1: Dense</text>\n",
       "<polyline fill=\"none\" points=\"145,-.5 145,-46.5 \" stroke=\"#000000\"/>\n",
       "<text fill=\"#000000\" font-family=\"Times,serif\" font-size=\"14.00\" text-anchor=\"middle\" x=\"172.5\" y=\"-31.3\">input:</text>\n",
       "<polyline fill=\"none\" points=\"145,-23.5 200,-23.5 \" stroke=\"#000000\"/>\n",
       "<text fill=\"#000000\" font-family=\"Times,serif\" font-size=\"14.00\" text-anchor=\"middle\" x=\"172.5\" y=\"-8.3\">output:</text>\n",
       "<polyline fill=\"none\" points=\"200,-.5 200,-46.5 \" stroke=\"#000000\"/>\n",
       "<text fill=\"#000000\" font-family=\"Times,serif\" font-size=\"14.00\" text-anchor=\"middle\" x=\"241.5\" y=\"-31.3\">(None, 128)</text>\n",
       "<polyline fill=\"none\" points=\"200,-23.5 283,-23.5 \" stroke=\"#000000\"/>\n",
       "<text fill=\"#000000\" font-family=\"Times,serif\" font-size=\"14.00\" text-anchor=\"middle\" x=\"241.5\" y=\"-8.3\">(None, 5)</text>\n",
       "</g>\n",
       "<!-- 140624590412600&#45;&gt;140624590518592 -->\n",
       "<g class=\"edge\" id=\"edge3\">\n",
       "<title>140624590412600-&gt;140624590518592</title>\n",
       "<path d=\"M163,-83.3799C163,-75.1745 163,-65.7679 163,-56.8786\" fill=\"none\" stroke=\"#000000\"/>\n",
       "<polygon fill=\"#000000\" points=\"166.5001,-56.784 163,-46.784 159.5001,-56.784 166.5001,-56.784\" stroke=\"#000000\"/>\n",
       "</g>\n",
       "</g>\n",
       "</svg>"
      ],
      "text/plain": [
       "<IPython.core.display.SVG object>"
      ]
     },
     "execution_count": 16,
     "metadata": {},
     "output_type": "execute_result"
    }
   ],
   "source": [
    "DEFAULT_EMBEDING_DIM = 100\n",
    "\n",
    "\n",
    "def load_glove_weights_matrix(word_index, embedding_dim=100, glove_dir='glove'):\n",
    "    weights_matrix = np.zeros((len(word_index) + 1, embedding_dim), dtype=np.float32)\n",
    "    glove_path = os.path.join(glove_dir, 'glove.6B.{}d.txt'.format(embedding_dim))\n",
    "    \n",
    "    n_words_found = 0\n",
    "    with open(glove_path) as f:\n",
    "        for line in f:\n",
    "            word, *weights = line.strip().split()\n",
    "            \n",
    "            if word in word_index:\n",
    "                weights_matrix[word_index[word]] = np.array(list(map(float, weights)))\n",
    "                n_words_found += 1\n",
    "                \n",
    "    print('{} words found in glove'.format(n_words_found))\n",
    "    return weights_matrix\n",
    "\n",
    "\n",
    "def extract_word_index_from_tokenizer(tokenizer):\n",
    "    return {w: i for w, i in tokenizer.word_index.items() if i <= tokenizer.num_words}\n",
    "\n",
    "    \n",
    "def build_cnn_model(embedding_weights=None):\n",
    "    if embedding_weights is not None:\n",
    "        embedding_dim = embedding_weights.shape[1]\n",
    "\n",
    "        embedding_layer = Embedding(\n",
    "            NUM_WORDS + 1,\n",
    "            embedding_dim,\n",
    "            weights=[embedding_weights],\n",
    "            input_length=MAX_SEQUENCE_LENGTH, \n",
    "            trainable=False)\n",
    "    else:\n",
    "        embedding_layer = Embedding(\n",
    "            NUM_WORDS + 1,\n",
    "            DEFAULT_EMBEDING_DIM,\n",
    "            input_length=MAX_SEQUENCE_LENGTH)\n",
    "\n",
    "    sequence_input = Input(shape=(MAX_SEQUENCE_LENGTH, ), dtype='int32')\n",
    "    embedded_sequences = embedding_layer(sequence_input)\n",
    "    x = Conv1D(128, 5, activation='relu')(embedded_sequences)\n",
    "    x = MaxPooling1D(5)(x)\n",
    "    x = Conv1D(128, 5, activation='relu')(x)\n",
    "    x = MaxPooling1D(5)(x)\n",
    "    x = Flatten()(x)\n",
    "    x = Dense(128, activation='relu')(x)\n",
    "    preds = Dense(N_CLASSES, activation='softmax')(x)\n",
    "\n",
    "    return Model(sequence_input, preds)\n",
    "\n",
    "\n",
    "def build_rnn_model(embedding_weights=None, rnn_size=128):\n",
    "    if embedding_weights is not None:\n",
    "        embedding_dim = embedding_weights.shape[1]\n",
    "\n",
    "        embedding_layer = Embedding(\n",
    "            NUM_WORDS + 1,\n",
    "            embedding_dim,\n",
    "            weights=[embedding_weights],\n",
    "            input_length=MAX_SEQUENCE_LENGTH, \n",
    "            mask_zero=True,\n",
    "            trainable=False)\n",
    "    else:\n",
    "        embedding_layer = Embedding(\n",
    "            NUM_WORDS + 1,\n",
    "            DEFAULT_EMBEDING_DIM,\n",
    "            mask_zero=True,\n",
    "            input_length=MAX_SEQUENCE_LENGTH)\n",
    "\n",
    "    sequence_input = Input(shape=(MAX_SEQUENCE_LENGTH, ), dtype='int32')\n",
    "    embedded_sequences = embedding_layer(sequence_input)\n",
    "    x = LSTM(rnn_size)(embedded_sequences)\n",
    "    preds = Dense(N_CLASSES, activation='softmax')(x)\n",
    "\n",
    "    return Model(sequence_input, preds)\n",
    "    \n",
    "    \n",
    "word_index = extract_word_index_from_tokenizer(tokenizer)\n",
    "glove_dir = '/mnt/ssd/glove_6B/'\n",
    "embedding_weights = load_glove_weights_matrix(word_index, glove_dir=glove_dir)\n",
    "# embedding_weights = None\n",
    "model = build_rnn_model(embedding_weights)\n",
    "# model = build_cnn_model(embedding_weights)\n",
    "\n",
    "model.compile('adam', 'categorical_crossentropy', metrics=['categorical_accuracy'])\n",
    "print(model.summary())\n",
    "SVG(model_to_dot(model, show_shapes=True).create(prog='dot', format='svg'))"
   ]
  },
  {
   "cell_type": "markdown",
   "metadata": {},
   "source": [
    "### Important\n",
    ">To save a model we will use `ModelCheckpoint` which saves the model after each epoch (by default).\n",
    "\n",
    ">Also a model can be saved directly by calling `save` method on the model instance.\n",
    "    \n",
    "```python\n",
    "    model.save('model.hdf5')\n",
    "```"
   ]
  },
  {
   "cell_type": "code",
   "execution_count": 17,
   "metadata": {
    "ExecuteTime": {
     "end_time": "2018-03-01T10:20:13.137292Z",
     "start_time": "2018-03-01T10:16:57.037735Z"
    },
    "code_folding": []
   },
   "outputs": [
    {
     "name": "stdout",
     "output_type": "stream",
     "text": [
      "Train on 2848 samples, validate on 705 samples\n",
      "Epoch 1/10\n",
      "2848/2848 [==============================] - 8s 3ms/step - loss: 1.3632 - categorical_accuracy: 0.4140 - val_loss: 1.0625 - val_categorical_accuracy: 0.5348\n",
      "Epoch 2/10\n",
      "2848/2848 [==============================] - 7s 3ms/step - loss: 0.9037 - categorical_accuracy: 0.6468 - val_loss: 0.9984 - val_categorical_accuracy: 0.6227\n",
      "Epoch 3/10\n",
      "2848/2848 [==============================] - 7s 3ms/step - loss: 0.9731 - categorical_accuracy: 0.6296 - val_loss: 0.7795 - val_categorical_accuracy: 0.7092\n",
      "Epoch 4/10\n",
      "2848/2848 [==============================] - 7s 3ms/step - loss: 0.7038 - categorical_accuracy: 0.7405 - val_loss: 0.6606 - val_categorical_accuracy: 0.7660\n",
      "Epoch 5/10\n",
      "2848/2848 [==============================] - 7s 3ms/step - loss: 0.5525 - categorical_accuracy: 0.8044 - val_loss: 0.6012 - val_categorical_accuracy: 0.7872\n",
      "Epoch 6/10\n",
      "2848/2848 [==============================] - 7s 3ms/step - loss: 0.5075 - categorical_accuracy: 0.8171 - val_loss: 0.5448 - val_categorical_accuracy: 0.8113\n",
      "Epoch 7/10\n",
      "2848/2848 [==============================] - 7s 3ms/step - loss: 0.4358 - categorical_accuracy: 0.8438 - val_loss: 0.5073 - val_categorical_accuracy: 0.8184\n",
      "Epoch 8/10\n",
      "2848/2848 [==============================] - 7s 3ms/step - loss: 0.3896 - categorical_accuracy: 0.8596 - val_loss: 0.5819 - val_categorical_accuracy: 0.7915\n",
      "Epoch 9/10\n",
      "2848/2848 [==============================] - 7s 3ms/step - loss: 0.3579 - categorical_accuracy: 0.8729 - val_loss: 0.5340 - val_categorical_accuracy: 0.8099\n",
      "Epoch 10/10\n",
      "2848/2848 [==============================] - 7s 3ms/step - loss: 0.3035 - categorical_accuracy: 0.8912 - val_loss: 0.5022 - val_categorical_accuracy: 0.8170\n"
     ]
    }
   ],
   "source": [
    "# prepare directory for checkpoints\n",
    "shutil.rmtree('checkpoints', ignore_errors=True)\n",
    "os.makedirs('checkpoints', exist_ok=True)\n",
    "\n",
    "\n",
    "checkpointer = ModelCheckpoint('checkpoints/weights.{epoch:02d}-{val_loss:.2f}.hdf5')\n",
    "stopper = EarlyStopping(patience=3)\n",
    "\n",
    "history = model.fit(X_train, y_train_1_hot,\n",
    "                    batch_size=32,\n",
    "                    validation_data=[X_valid, y_valid_1_hot],\n",
    "                    callbacks=[checkpointer, stopper],\n",
    "                    epochs=10)"
   ]
  },
  {
   "cell_type": "markdown",
   "metadata": {},
   "source": [
    "### <div class=\"alert alert-block alert-success\">Visualize learning curves and select the best checkpoint</div>"
   ]
  },
  {
   "cell_type": "code",
   "execution_count": 61,
   "metadata": {
    "ExecuteTime": {
     "end_time": "2018-03-01T10:20:13.336377Z",
     "start_time": "2018-03-01T10:20:13.138263Z"
    }
   },
   "outputs": [
    {
     "data": {
      "image/png": "[encoded data removed]",
      "text/plain": [
       "<Figure size 432x288 with 1 Axes>"
      ]
     },
     "metadata": {},
     "output_type": "display_data"
    },
    {
     "data": {
      "image/png": "[encoded data removed]",
      "text/plain": [
       "<Figure size 432x288 with 1 Axes>"
      ]
     },
     "metadata": {},
     "output_type": "display_data"
    }
   ],
   "source": [
    "history_df = pd.DataFrame(history.history)\n",
    "\n",
    "history_df[['loss', 'val_loss']].plot()\n",
    "history_df[['categorical_accuracy', 'val_categorical_accuracy']].plot();"
   ]
  },
  {
   "cell_type": "markdown",
   "metadata": {},
   "source": [
    ">From the learning curves plotted above we can conclude that our model reaches the best performance after the $i^{th}$ epoch and then would be overfitted."
   ]
  },
  {
   "cell_type": "markdown",
   "metadata": {
    "ExecuteTime": {
     "end_time": "2018-01-16T14:46:55.952317Z",
     "start_time": "2018-01-16T14:46:55.943686Z"
    }
   },
   "source": [
    "### <div class=\"alert alert-block alert-success\">Load $i^{th}$ checkpoint and measure quality on the test set</div>"
   ]
  },
  {
   "cell_type": "code",
   "execution_count": 23,
   "metadata": {
    "ExecuteTime": {
     "end_time": "2018-01-17T06:37:48.909850Z",
     "start_time": "2018-01-17T06:37:47.808823Z"
    }
   },
   "outputs": [],
   "source": [
    "model = load_model('checkpoints/weights.09-0.74.hdf5')"
   ]
  },
  {
   "cell_type": "code",
   "execution_count": 24,
   "metadata": {
    "ExecuteTime": {
     "end_time": "2018-01-17T06:37:49.145730Z",
     "start_time": "2018-01-17T06:37:48.910664Z"
    }
   },
   "outputs": [
    {
     "name": "stdout",
     "output_type": "stream",
     "text": [
      "913/913 [==============================] - 0s 325us/step\n"
     ]
    }
   ],
   "source": [
    "y_test_pred_proba = model.predict(X_test, batch_size=256, verbose=1)\n",
    "y_test_pred = np.argmax(y_test_pred_proba, axis=1)"
   ]
  },
  {
   "cell_type": "code",
   "execution_count": 25,
   "metadata": {
    "ExecuteTime": {
     "end_time": "2018-01-17T06:37:51.217393Z",
     "start_time": "2018-01-17T06:37:51.210911Z"
    }
   },
   "outputs": [
    {
     "name": "stdout",
     "output_type": "stream",
     "text": [
      "                       precision    recall  f1-score   support\n",
      "\n",
      "comp.sys.mac.hardware       0.87      0.79      0.83       193\n",
      "      rec.motorcycles       0.80      0.81      0.81       199\n",
      "              sci.med       0.74      0.71      0.72       198\n",
      "            sci.space       0.70      0.79      0.74       197\n",
      "   talk.religion.misc       0.70      0.68      0.69       126\n",
      "\n",
      "          avg / total       0.77      0.76      0.77       913\n",
      "\n"
     ]
    }
   ],
   "source": [
    "print(classification_report(y_test, y_test_pred, target_names=label_encoder.classes_))"
   ]
  },
  {
   "cell_type": "markdown",
   "metadata": {},
   "source": [
    "### <div class=\"alert alert-block alert-success\">Load model and run inference on \"new\" data</div>"
   ]
  },
  {
   "cell_type": "code",
   "execution_count": 29,
   "metadata": {
    "ExecuteTime": {
     "end_time": "2018-01-17T06:38:15.366045Z",
     "start_time": "2018-01-17T06:38:13.843313Z"
    }
   },
   "outputs": [
    {
     "name": "stdout",
     "output_type": "stream",
     "text": [
      "963/963 [==============================] - 0s 412us/step\n"
     ]
    },
    {
     "name": "stderr",
     "output_type": "stream",
     "text": [
      "/home/alex/.virtualenvs/gpu/lib/python3.6/site-packages/sklearn/preprocessing/label.py:151: DeprecationWarning: The truth value of an empty array is ambiguous. Returning False, but in future this will result in an error. Use `array.size > 0` to check that an array is not empty.\n",
      "  if diff:\n"
     ]
    }
   ],
   "source": [
    "# load pipeline (only tokenzer in this case)\n",
    "with open('tokenizer.p', 'rb') as f:\n",
    "    tokenizer = pickle.load(f)\n",
    "    \n",
    "# load label encoder (required to restore targets from model predictions)\n",
    "with open('label_encoder.p', 'rb') as f:\n",
    "    label_encoder = pickle.load(f)\n",
    "    \n",
    "# load the model\n",
    "model = model = load_model('checkpoints/weights.09-0.74.hdf5')\n",
    "    \n",
    "# let's imagine that \"new\" data is a set of *.txt files in NEW_DATA_PATH dir\n",
    "NEW_DATA_PATH = 'data/comp.sys.mac.hardware'\n",
    "new_texts = [open(os.path.join(NEW_DATA_PATH, file_name)).read() \n",
    "             for file_name in os.listdir(NEW_DATA_PATH)]\n",
    "\n",
    "new_texts_encoded = tokenizer.texts_to_sequences(new_texts)\n",
    "X_new = pad_sequences(new_texts_encoded, MAX_SEQUENCE_LENGTH)\n",
    "\n",
    "# run prediction on \"new\" data (we will get a vector of class probabilities for each text)\n",
    "y_new_pred_proba = model.predict(X_new, batch_size=256, verbose=1)\n",
    "# select most probable class for each text\n",
    "y_new_pred = np.argmax(y_new_pred_proba, axis=1)\n",
    "# restore target names\n",
    "y_new_targets = label_encoder.inverse_transform(y_new_pred)"
   ]
  },
  {
   "cell_type": "code",
   "execution_count": 30,
   "metadata": {
    "ExecuteTime": {
     "end_time": "2018-01-17T06:38:16.422468Z",
     "start_time": "2018-01-17T06:38:16.417413Z"
    }
   },
   "outputs": [
    {
     "data": {
      "text/plain": [
       "Counter({'comp.sys.mac.hardware': 878,\n",
       "         'rec.motorcycles': 19,\n",
       "         'sci.med': 13,\n",
       "         'sci.space': 52,\n",
       "         'talk.religion.misc': 1})"
      ]
     },
     "execution_count": 30,
     "metadata": {},
     "output_type": "execute_result"
    }
   ],
   "source": [
    "Counter(y_new_targets)"
   ]
  },
  {
   "cell_type": "markdown",
   "metadata": {},
   "source": [
    "### <div class=\"alert alert-block alert-success\">Run inference on a string of some text</div>"
   ]
  },
  {
   "cell_type": "code",
   "execution_count": 31,
   "metadata": {
    "ExecuteTime": {
     "end_time": "2018-01-24T23:23:17.546765Z",
     "start_time": "2018-01-24T23:23:17.536420Z"
    }
   },
   "outputs": [],
   "source": [
    "def predict_on_text(model, label_encoder, tokenizer, text, n_top_labels):\n",
    "    text = [text]\n",
    "    text_encoded = tokenizer.texts_to_sequences(text)\n",
    "    X = pad_sequences(text_encoded, MAX_SEQUENCE_LENGTH)\n",
    "    y_pred_proba = model.predict(X)[0]\n",
    "    \n",
    "    top_n_label_idxs = y_pred_proba.argsort()[::-1][:n_top_labels]\n",
    "    top_n_probs = y_pred_proba[top_n_label_idxs]\n",
    "    top_n_labels = label_encoder.inverse_transform(top_n_label_idxs)\n",
    "    \n",
    "    return list(zip(top_n_labels, top_n_probs))"
   ]
  },
  {
   "cell_type": "code",
   "execution_count": 32,
   "metadata": {
    "ExecuteTime": {
     "end_time": "2018-01-24T23:34:49.366529Z",
     "start_time": "2018-01-24T23:34:49.233379Z"
    }
   },
   "outputs": [
    {
     "name": "stderr",
     "output_type": "stream",
     "text": [
      "/home/alex/.virtualenvs/gpu/lib/python3.6/site-packages/sklearn/preprocessing/label.py:151: DeprecationWarning: The truth value of an empty array is ambiguous. Returning False, but in future this will result in an error. Use `array.size > 0` to check that an array is not empty.\n",
      "  if diff:\n"
     ]
    },
    {
     "data": {
      "text/plain": [
       "[('sci.space', 0.62188417),\n",
       " ('comp.sys.mac.hardware', 0.37245288),\n",
       " ('sci.med', 0.0045804163)]"
      ]
     },
     "execution_count": 32,
     "metadata": {},
     "output_type": "execute_result"
    }
   ],
   "source": [
    "text = \"hardware pc processor and a bit of deep space\"\n",
    "n_labels = 3\n",
    "\n",
    "predict_on_text(model, label_encoder, tokenizer, text, n_labels)"
   ]
  }
 ],
 "metadata": {
  "kernelspec": {
   "display_name": "Python 3",
   "language": "python",
   "name": "python3"
  },
  "language_info": {
   "codemirror_mode": {
    "name": "ipython",
    "version": 3
   },
   "file_extension": ".py",
   "mimetype": "text/x-python",
   "name": "python",
   "nbconvert_exporter": "python",
   "pygments_lexer": "ipython3",
   "version": "3.6.5"
  }
 },
 "nbformat": 4,
 "nbformat_minor": 2
}

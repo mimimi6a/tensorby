{
 "cells": [
  {
   "cell_type": "markdown",
   "metadata": {},
   "source": [
    "<small><i>This notebook was created by [Alexander Fridman](http://www.rocketscience.ai) for the Lecture Course. Source and license info is on [GitHub](https://github.com/volhahedranovich/jupyter_lectures).</i></small>"
   ]
  },
  {
   "cell_type": "markdown",
   "metadata": {},
   "source": [
    "# <div class=\"alert alert-block alert-info\">Text Classification with Convolutional and Recurrent Networks</div>"
   ]
  },
  {
   "cell_type": "markdown",
   "metadata": {},
   "source": [
    "### RNN & LSTM\n",
    "[Colah's blog. Understanding LSTM Networks](http://colah.github.io/posts/2015-08-Understanding-LSTMs/)\n",
    "\n",
    "### Packages\n",
    "1. keras\n",
    "1. scikit-learn\n",
    "1. tensorflow (or theano)\n",
    "1. numpy\n",
    "1. pandas\n",
    "\n",
    "### Data\n",
    "\n",
    "[20 News Groups](http://scikit-learn.org/stable/datasets/twenty_newsgroups.html)"
   ]
  },
  {
   "cell_type": "code",
   "execution_count": 1,
   "metadata": {
    "ExecuteTime": {
     "end_time": "2018-03-01T10:15:47.276290Z",
     "start_time": "2018-03-01T10:15:45.621930Z"
    }
   },
   "outputs": [
    {
     "name": "stderr",
     "output_type": "stream",
     "text": [
      "Using TensorFlow backend.\n"
     ]
    }
   ],
   "source": [
    "import os\n",
    "import pickle\n",
    "import random\n",
    "import shutil\n",
    "from collections import Counter\n",
    "\n",
    "import matplotlib.pyplot as plt\n",
    "import numpy as np\n",
    "import pandas as pd\n",
    "from IPython.display import SVG\n",
    "from keras.callbacks import ModelCheckpoint, EarlyStopping\n",
    "from keras.layers import Embedding, Input, LSTM, Dense, Conv1D, MaxPooling1D, Flatten\n",
    "from keras.models import Model, load_model\n",
    "from keras.preprocessing.sequence import pad_sequences\n",
    "from keras.preprocessing.text import Tokenizer\n",
    "from keras.utils import to_categorical\n",
    "from keras.utils.vis_utils import model_to_dot\n",
    "from sklearn.datasets import fetch_20newsgroups\n",
    "from sklearn.metrics import classification_report\n",
    "from sklearn.model_selection import train_test_split\n",
    "from sklearn.preprocessing import LabelEncoder, OneHotEncoder\n",
    "\n",
    "\n",
    "%matplotlib inline"
   ]
  },
  {
   "cell_type": "markdown",
   "metadata": {},
   "source": [
    "### <div class=\"alert alert-block alert-success\">Prepare a dataset</div>\n",
    "1. Select N random classes.\n",
    "1. Save corresponding data (texts and targets) - each class into separate folder."
   ]
  },
  {
   "cell_type": "code",
   "execution_count": 2,
   "metadata": {
    "ExecuteTime": {
     "end_time": "2018-03-01T10:16:22.737639Z",
     "start_time": "2018-03-01T10:16:22.731101Z"
    }
   },
   "outputs": [],
   "source": [
    "N_CLASSES = 5\n",
    "DATASET_PATH = 'data'"
   ]
  },
  {
   "cell_type": "code",
   "execution_count": 3,
   "metadata": {
    "ExecuteTime": {
     "end_time": "2018-03-01T10:16:25.279660Z",
     "start_time": "2018-03-01T10:16:23.043630Z"
    }
   },
   "outputs": [
    {
     "name": "stderr",
     "output_type": "stream",
     "text": [
      "Downloading 20news dataset. This may take a few minutes.\n",
      "Downloading dataset from https://ndownloader.figshare.com/files/5975967 (14 MB)\n"
     ]
    },
    {
     "name": "stdout",
     "output_type": "stream",
     "text": [
      "#texts: 4489\n",
      "Selected classes:\n",
      "('comp.windows.x', 988)\n",
      "('sci.space', 987)\n",
      "('talk.politics.mideast', 940)\n",
      "('alt.atheism', 799)\n",
      "('talk.politics.misc', 775)\n"
     ]
    }
   ],
   "source": [
    "assert N_CLASSES < 20\n",
    "\n",
    "# load dataset\n",
    "data = fetch_20newsgroups(subset='all', remove=('headers', 'footers', 'quotes'))\n",
    "\n",
    "# select N_CLASSES at random\n",
    "selected_target_names = set(random.sample(data['target_names'], N_CLASSES))\n",
    "\n",
    "# found positions of items of selected classes\n",
    "indexes = [i for i, y_i in enumerate(data['target']) \n",
    "           if data['target_names'][y_i] in selected_target_names]\n",
    "texts = [data['data'][i] for i in indexes]\n",
    "targets = [data['target_names'][data['target'][i]] for i in indexes]\n",
    "\n",
    "print('#texts:', len(texts))\n",
    "print('Selected classes:')\n",
    "print('\\n'.join(map(str, Counter(targets).most_common())))\n",
    "\n",
    "# save dataset\n",
    "shutil.rmtree(DATASET_PATH, ignore_errors=True)\n",
    "os.makedirs(DATASET_PATH, exist_ok=True)\n",
    "\n",
    "# create separate folder for each class\n",
    "for target_name in selected_target_names:\n",
    "    os.makedirs(os.path.join(DATASET_PATH, target_name), exist_ok=True)\n",
    "    \n",
    "for i, (target, text) in enumerate(sorted(zip(targets, texts))):\n",
    "    path = os.path.join(DATASET_PATH, target, r'{}.txt'.format(i))\n",
    "    \n",
    "    with open(path, 'w+', encoding='utf8') as f:\n",
    "        f.write(text)"
   ]
  },
  {
   "cell_type": "markdown",
   "metadata": {},
   "source": [
    "### <div class=\"alert alert-block alert-success\">Load dataset</div>"
   ]
  },
  {
   "cell_type": "code",
   "execution_count": 4,
   "metadata": {
    "ExecuteTime": {
     "end_time": "2018-03-01T10:16:26.200658Z",
     "start_time": "2018-03-01T10:16:26.193125Z"
    }
   },
   "outputs": [],
   "source": [
    "def load_data(path):\n",
    "    \"\"\"\n",
    "    data loading function\n",
    "    \n",
    "    assumes there is a folder full of *.txt files for each class\n",
    "    \"\"\"\n",
    "    texts, targets = [], []\n",
    "    \n",
    "    for target in os.listdir(path):\n",
    "        target_path = os.path.join(path, target)\n",
    "        \n",
    "        for text_file_name in os.listdir(target_path):\n",
    "            text_file_path = os.path.join(target_path, text_file_name)\n",
    "            \n",
    "            targets.append(target)\n",
    "            with open(text_file_path, encoding='utf8') as f:\n",
    "                texts.append(f.read())\n",
    "                \n",
    "    return texts, targets"
   ]
  },
  {
   "cell_type": "code",
   "execution_count": 5,
   "metadata": {
    "ExecuteTime": {
     "end_time": "2018-03-01T10:16:27.591294Z",
     "start_time": "2018-03-01T10:16:27.505195Z"
    }
   },
   "outputs": [
    {
     "name": "stdout",
     "output_type": "stream",
     "text": [
      "Dataset loaded (class counts):\n",
      "('comp.windows.x', 988)\n",
      "('sci.space', 987)\n",
      "('talk.politics.mideast', 940)\n",
      "('alt.atheism', 799)\n",
      "('talk.politics.misc', 775)\n"
     ]
    }
   ],
   "source": [
    "texts, targets = load_data(DATASET_PATH)\n",
    "N_CLASSES = len(np.unique(targets))\n",
    "\n",
    "print('Dataset loaded (class counts):')\n",
    "print('\\n'.join(map(str, Counter(targets).most_common())))"
   ]
  },
  {
   "cell_type": "markdown",
   "metadata": {},
   "source": [
    "### <div class=\"alert alert-block alert-success\">Split dataset into train, test, valid</div>"
   ]
  },
  {
   "cell_type": "code",
   "execution_count": 6,
   "metadata": {
    "ExecuteTime": {
     "end_time": "2018-03-01T10:16:28.932900Z",
     "start_time": "2018-03-01T10:16:28.913355Z"
    }
   },
   "outputs": [],
   "source": [
    "train_texts, test_texts, train_targets, test_targets = train_test_split(texts,\n",
    "                                                                        targets,\n",
    "                                                                        test_size=0.2,\n",
    "                                                                        stratify=targets,\n",
    "                                                                        random_state=42)\n",
    "train_texts, valid_texts, train_targets, valid_targets = train_test_split(train_texts,\n",
    "                                                                          train_targets,\n",
    "                                                                          test_size=0.2,\n",
    "                                                                          stratify=train_targets,\n",
    "                                                                          random_state=42)"
   ]
  },
  {
   "cell_type": "markdown",
   "metadata": {},
   "source": [
    "### <div class=\"alert alert-block alert-success\">Encode targets</div>\n",
    "\n",
    ">Also convert targets into 1-hot format required by using categorical_crossentropy loss "
   ]
  },
  {
   "cell_type": "code",
   "execution_count": 7,
   "metadata": {
    "ExecuteTime": {
     "end_time": "2018-03-01T10:16:29.742993Z",
     "start_time": "2018-03-01T10:16:29.722737Z"
    }
   },
   "outputs": [],
   "source": [
    "label_encoder = LabelEncoder()\n",
    "\n",
    "y_train = label_encoder.fit_transform(train_targets)\n",
    "y_valid = label_encoder.transform(valid_targets)\n",
    "y_test = label_encoder.transform(test_targets)\n",
    "\n",
    "y_train_1_hot = to_categorical(y_train, N_CLASSES)\n",
    "y_valid_1_hot = to_categorical(y_valid, N_CLASSES)\n",
    "\n",
    "with open('label_encoder.p', 'wb') as f:\n",
    "    pickle.dump(label_encoder, f)"
   ]
  },
  {
   "cell_type": "markdown",
   "metadata": {},
   "source": [
    "### <div class=\"alert alert-block alert-success\">Tokenize and encode texts</div>\n",
    ">Limit number of tokens with NUM_WORDS\n",
    "\n",
    "*[More info about Tokenizer from keras](https://keras.io/preprocessing/text)*"
   ]
  },
  {
   "cell_type": "code",
   "execution_count": 8,
   "metadata": {
    "ExecuteTime": {
     "end_time": "2018-03-01T10:16:32.098702Z",
     "start_time": "2018-03-01T10:16:31.147862Z"
    }
   },
   "outputs": [
    {
     "name": "stdout",
     "output_type": "stream",
     "text": [
      "Actual NUM_WORDS=20000\n"
     ]
    }
   ],
   "source": [
    "NUM_WORDS = 20000\n",
    "\n",
    "tokenizer = Tokenizer(NUM_WORDS)\n",
    "tokenizer.fit_on_texts(train_texts)\n",
    "NUM_WORDS = min(NUM_WORDS, len(tokenizer.word_index))\n",
    "print('Actual NUM_WORDS={}'.format(NUM_WORDS))\n",
    "\n",
    "with open('tokenizer.p', 'wb') as f:\n",
    "    pickle.dump(tokenizer, f)\n",
    "\n",
    "train_texts_encoded = tokenizer.texts_to_sequences(train_texts)\n",
    "valid_texts_encoded = tokenizer.texts_to_sequences(valid_texts)\n",
    "test_texts_encoded = tokenizer.texts_to_sequences(test_texts)"
   ]
  },
  {
   "cell_type": "markdown",
   "metadata": {},
   "source": [
    "### <div class=\"alert alert-block alert-success\">Analyze train text lengths and choose MAX_SEQUENCE_LENGTH</div>"
   ]
  },
  {
   "cell_type": "code",
   "execution_count": 9,
   "metadata": {
    "ExecuteTime": {
     "end_time": "2018-03-01T10:16:33.492147Z",
     "start_time": "2018-03-01T10:16:33.479222Z"
    }
   },
   "outputs": [
    {
     "data": {
      "text/plain": [
       "count     2872.000000\n",
       "mean       250.591922\n",
       "std        729.802767\n",
       "min          0.000000\n",
       "25%         44.000000\n",
       "50%         95.000000\n",
       "75%        198.250000\n",
       "max      10931.000000\n",
       "dtype: float64"
      ]
     },
     "execution_count": 9,
     "metadata": {},
     "output_type": "execute_result"
    }
   ],
   "source": [
    "train_text_lengths = list(map(len, train_texts_encoded))\n",
    "pd.Series(train_text_lengths).describe()"
   ]
  },
  {
   "cell_type": "code",
   "execution_count": 10,
   "metadata": {
    "ExecuteTime": {
     "end_time": "2018-03-01T10:16:40.912729Z",
     "start_time": "2018-03-01T10:16:40.911179Z"
    }
   },
   "outputs": [],
   "source": [
    "MAX_SEQUENCE_LENGTH = 150"
   ]
  },
  {
   "cell_type": "code",
   "execution_count": 11,
   "metadata": {
    "ExecuteTime": {
     "end_time": "2018-03-01T10:16:41.391276Z",
     "start_time": "2018-03-01T10:16:41.354699Z"
    }
   },
   "outputs": [],
   "source": [
    "X_train = pad_sequences(train_texts_encoded, MAX_SEQUENCE_LENGTH)\n",
    "X_valid = pad_sequences(valid_texts_encoded, MAX_SEQUENCE_LENGTH)\n",
    "X_test = pad_sequences(test_texts_encoded, MAX_SEQUENCE_LENGTH)"
   ]
  },
  {
   "cell_type": "markdown",
   "metadata": {},
   "source": [
    "### <div class=\"alert alert-block alert-success\">Set up and train a network</div>\n",
    "Feel free to modify the functions for networks initializing, for example:\n",
    "1. Initialize an embedding layer with glove weights\n",
    "2. Add dropout to dense layers or even recurrent connections\n",
    "3. Try to combine convolutions and recurrent blocks (*[more info](https://machinelearningmastery.com/sequence-classification-lstm-recurrent-neural-networks-python-keras/)*)\n",
    "    \n",
    ">Size of the last dense layer is equal to the number of classes"
   ]
  },
  {
   "cell_type": "code",
   "execution_count": 14,
   "metadata": {
    "ExecuteTime": {
     "end_time": "2018-03-01T10:16:55.012312Z",
     "start_time": "2018-03-01T10:16:54.755058Z"
    }
   },
   "outputs": [
    {
     "name": "stdout",
     "output_type": "stream",
     "text": [
      "_________________________________________________________________\n",
      "Layer (type)                 Output Shape              Param #   \n",
      "=================================================================\n",
      "input_3 (InputLayer)         (None, 150)               0         \n",
      "_________________________________________________________________\n",
      "embedding_3 (Embedding)      (None, 150, 100)          2000100   \n",
      "_________________________________________________________________\n",
      "lstm_3 (LSTM)                (None, 128)               117248    \n",
      "_________________________________________________________________\n",
      "dense_3 (Dense)              (None, 5)                 645       \n",
      "=================================================================\n",
      "Total params: 2,117,993\n",
      "Trainable params: 2,117,993\n",
      "Non-trainable params: 0\n",
      "_________________________________________________________________\n",
      "None\n"
     ]
    },
    {
     "data": {
      "image/svg+xml": [
       "<svg height=\"304pt\" viewBox=\"0.00 0.00 334.00 304.00\" width=\"334pt\" xmlns=\"http://www.w3.org/2000/svg\" xmlns:xlink=\"http://www.w3.org/1999/xlink\">\n",
       "<g class=\"graph\" id=\"graph0\" transform=\"scale(1 1) rotate(0) translate(4 300)\">\n",
       "<title>G</title>\n",
       "<polygon fill=\"#ffffff\" points=\"-4,4 -4,-300 330,-300 330,4 -4,4\" stroke=\"transparent\"/>\n",
       "<!-- 140363844820328 -->\n",
       "<g class=\"node\" id=\"node1\">\n",
       "<title>140363844820328</title>\n",
       "<polygon fill=\"none\" points=\"31.5,-249.5 31.5,-295.5 294.5,-295.5 294.5,-249.5 31.5,-249.5\" stroke=\"#000000\"/>\n",
       "<text fill=\"#000000\" font-family=\"Times,serif\" font-size=\"14.00\" text-anchor=\"middle\" x=\"94\" y=\"-268.8\">input_3: InputLayer</text>\n",
       "<polyline fill=\"none\" points=\"156.5,-249.5 156.5,-295.5 \" stroke=\"#000000\"/>\n",
       "<text fill=\"#000000\" font-family=\"Times,serif\" font-size=\"14.00\" text-anchor=\"middle\" x=\"184\" y=\"-280.3\">input:</text>\n",
       "<polyline fill=\"none\" points=\"156.5,-272.5 211.5,-272.5 \" stroke=\"#000000\"/>\n",
       "<text fill=\"#000000\" font-family=\"Times,serif\" font-size=\"14.00\" text-anchor=\"middle\" x=\"184\" y=\"-257.3\">output:</text>\n",
       "<polyline fill=\"none\" points=\"211.5,-249.5 211.5,-295.5 \" stroke=\"#000000\"/>\n",
       "<text fill=\"#000000\" font-family=\"Times,serif\" font-size=\"14.00\" text-anchor=\"middle\" x=\"253\" y=\"-280.3\">(None, 150)</text>\n",
       "<polyline fill=\"none\" points=\"211.5,-272.5 294.5,-272.5 \" stroke=\"#000000\"/>\n",
       "<text fill=\"#000000\" font-family=\"Times,serif\" font-size=\"14.00\" text-anchor=\"middle\" x=\"253\" y=\"-257.3\">(None, 150)</text>\n",
       "</g>\n",
       "<!-- 140363844820216 -->\n",
       "<g class=\"node\" id=\"node2\">\n",
       "<title>140363844820216</title>\n",
       "<polygon fill=\"none\" points=\"0,-166.5 0,-212.5 326,-212.5 326,-166.5 0,-166.5\" stroke=\"#000000\"/>\n",
       "<text fill=\"#000000\" font-family=\"Times,serif\" font-size=\"14.00\" text-anchor=\"middle\" x=\"80.5\" y=\"-185.8\">embedding_3: Embedding</text>\n",
       "<polyline fill=\"none\" points=\"161,-166.5 161,-212.5 \" stroke=\"#000000\"/>\n",
       "<text fill=\"#000000\" font-family=\"Times,serif\" font-size=\"14.00\" text-anchor=\"middle\" x=\"188.5\" y=\"-197.3\">input:</text>\n",
       "<polyline fill=\"none\" points=\"161,-189.5 216,-189.5 \" stroke=\"#000000\"/>\n",
       "<text fill=\"#000000\" font-family=\"Times,serif\" font-size=\"14.00\" text-anchor=\"middle\" x=\"188.5\" y=\"-174.3\">output:</text>\n",
       "<polyline fill=\"none\" points=\"216,-166.5 216,-212.5 \" stroke=\"#000000\"/>\n",
       "<text fill=\"#000000\" font-family=\"Times,serif\" font-size=\"14.00\" text-anchor=\"middle\" x=\"271\" y=\"-197.3\">(None, 150)</text>\n",
       "<polyline fill=\"none\" points=\"216,-189.5 326,-189.5 \" stroke=\"#000000\"/>\n",
       "<text fill=\"#000000\" font-family=\"Times,serif\" font-size=\"14.00\" text-anchor=\"middle\" x=\"271\" y=\"-174.3\">(None, 150, 100)</text>\n",
       "</g>\n",
       "<!-- 140363844820328&#45;&gt;140363844820216 -->\n",
       "<g class=\"edge\" id=\"edge1\">\n",
       "<title>140363844820328-&gt;140363844820216</title>\n",
       "<path d=\"M163,-249.3799C163,-241.1745 163,-231.7679 163,-222.8786\" fill=\"none\" stroke=\"#000000\"/>\n",
       "<polygon fill=\"#000000\" points=\"166.5001,-222.784 163,-212.784 159.5001,-222.784 166.5001,-222.784\" stroke=\"#000000\"/>\n",
       "</g>\n",
       "<!-- 140363844820888 -->\n",
       "<g class=\"node\" id=\"node3\">\n",
       "<title>140363844820888</title>\n",
       "<polygon fill=\"none\" points=\"31.5,-83.5 31.5,-129.5 294.5,-129.5 294.5,-83.5 31.5,-83.5\" stroke=\"#000000\"/>\n",
       "<text fill=\"#000000\" font-family=\"Times,serif\" font-size=\"14.00\" text-anchor=\"middle\" x=\"80.5\" y=\"-102.8\">lstm_3: LSTM</text>\n",
       "<polyline fill=\"none\" points=\"129.5,-83.5 129.5,-129.5 \" stroke=\"#000000\"/>\n",
       "<text fill=\"#000000\" font-family=\"Times,serif\" font-size=\"14.00\" text-anchor=\"middle\" x=\"157\" y=\"-114.3\">input:</text>\n",
       "<polyline fill=\"none\" points=\"129.5,-106.5 184.5,-106.5 \" stroke=\"#000000\"/>\n",
       "<text fill=\"#000000\" font-family=\"Times,serif\" font-size=\"14.00\" text-anchor=\"middle\" x=\"157\" y=\"-91.3\">output:</text>\n",
       "<polyline fill=\"none\" points=\"184.5,-83.5 184.5,-129.5 \" stroke=\"#000000\"/>\n",
       "<text fill=\"#000000\" font-family=\"Times,serif\" font-size=\"14.00\" text-anchor=\"middle\" x=\"239.5\" y=\"-114.3\">(None, 150, 100)</text>\n",
       "<polyline fill=\"none\" points=\"184.5,-106.5 294.5,-106.5 \" stroke=\"#000000\"/>\n",
       "<text fill=\"#000000\" font-family=\"Times,serif\" font-size=\"14.00\" text-anchor=\"middle\" x=\"239.5\" y=\"-91.3\">(None, 128)</text>\n",
       "</g>\n",
       "<!-- 140363844820216&#45;&gt;140363844820888 -->\n",
       "<g class=\"edge\" id=\"edge2\">\n",
       "<title>140363844820216-&gt;140363844820888</title>\n",
       "<path d=\"M163,-166.3799C163,-158.1745 163,-148.7679 163,-139.8786\" fill=\"none\" stroke=\"#000000\"/>\n",
       "<polygon fill=\"#000000\" points=\"166.5001,-139.784 163,-129.784 159.5001,-139.784 166.5001,-139.784\" stroke=\"#000000\"/>\n",
       "</g>\n",
       "<!-- 140363844720008 -->\n",
       "<g class=\"node\" id=\"node4\">\n",
       "<title>140363844720008</title>\n",
       "<polygon fill=\"none\" points=\"43,-.5 43,-46.5 283,-46.5 283,-.5 43,-.5\" stroke=\"#000000\"/>\n",
       "<text fill=\"#000000\" font-family=\"Times,serif\" font-size=\"14.00\" text-anchor=\"middle\" x=\"94\" y=\"-19.8\">dense_3: Dense</text>\n",
       "<polyline fill=\"none\" points=\"145,-.5 145,-46.5 \" stroke=\"#000000\"/>\n",
       "<text fill=\"#000000\" font-family=\"Times,serif\" font-size=\"14.00\" text-anchor=\"middle\" x=\"172.5\" y=\"-31.3\">input:</text>\n",
       "<polyline fill=\"none\" points=\"145,-23.5 200,-23.5 \" stroke=\"#000000\"/>\n",
       "<text fill=\"#000000\" font-family=\"Times,serif\" font-size=\"14.00\" text-anchor=\"middle\" x=\"172.5\" y=\"-8.3\">output:</text>\n",
       "<polyline fill=\"none\" points=\"200,-.5 200,-46.5 \" stroke=\"#000000\"/>\n",
       "<text fill=\"#000000\" font-family=\"Times,serif\" font-size=\"14.00\" text-anchor=\"middle\" x=\"241.5\" y=\"-31.3\">(None, 128)</text>\n",
       "<polyline fill=\"none\" points=\"200,-23.5 283,-23.5 \" stroke=\"#000000\"/>\n",
       "<text fill=\"#000000\" font-family=\"Times,serif\" font-size=\"14.00\" text-anchor=\"middle\" x=\"241.5\" y=\"-8.3\">(None, 5)</text>\n",
       "</g>\n",
       "<!-- 140363844820888&#45;&gt;140363844720008 -->\n",
       "<g class=\"edge\" id=\"edge3\">\n",
       "<title>140363844820888-&gt;140363844720008</title>\n",
       "<path d=\"M163,-83.3799C163,-75.1745 163,-65.7679 163,-56.8786\" fill=\"none\" stroke=\"#000000\"/>\n",
       "<polygon fill=\"#000000\" points=\"166.5001,-56.784 163,-46.784 159.5001,-56.784 166.5001,-56.784\" stroke=\"#000000\"/>\n",
       "</g>\n",
       "</g>\n",
       "</svg>"
      ],
      "text/plain": [
       "<IPython.core.display.SVG object>"
      ]
     },
     "execution_count": 14,
     "metadata": {},
     "output_type": "execute_result"
    }
   ],
   "source": [
    "DEFAULT_EMBEDING_DIM = 100\n",
    "\n",
    "\n",
    "def load_glove_weights_matrix(word_index, embedding_dim=100, glove_dir='glove'):\n",
    "    weights_matrix = np.zeros((len(word_index) + 1, embedding_dim), dtype=np.float32)\n",
    "    glove_path = os.path.join(glove_dir, 'glove.twitter.27B.{}d.txt'.format(embedding_dim))\n",
    "    \n",
    "    n_words_found = 0\n",
    "    with open(glove_path) as f:\n",
    "        for line in f:\n",
    "            word, *weights = line.strip().split()\n",
    "            \n",
    "            if word in word_index:\n",
    "                weights_matrix[word_index[word]] = np.array(list(map(float, weights)))\n",
    "                n_words_found += 1\n",
    "                \n",
    "    print('{} words found in glove'.format(n_words_found))\n",
    "    return weights_matrix\n",
    "\n",
    "\n",
    "def extract_word_index_from_tokenizer(tokenizer):\n",
    "    return {w: i for w, i in tokenizer.word_index.items() if i <= tokenizer.num_words}\n",
    "\n",
    "    \n",
    "def build_cnn_model_with_glove_embeddings(embedding_weights=None):\n",
    "    if embedding_weights is not None:\n",
    "        embedding_dim = embedding_weights.shape[1]\n",
    "\n",
    "        embedding_layer = Embedding(\n",
    "            NUM_WORDS + 1,\n",
    "            embedding_dim,\n",
    "            weights=[embedding_weights],\n",
    "            input_length=MAX_SEQUENCE_LENGTH, \n",
    "            trainable=False)\n",
    "    else:\n",
    "        embedding_layer = Embedding(\n",
    "            NUM_WORDS + 1,\n",
    "            DEFAULT_EMBEDING_DIM,\n",
    "            input_length=MAX_SEQUENCE_LENGTH)\n",
    "\n",
    "    sequence_input = Input(shape=(MAX_SEQUENCE_LENGTH, ), dtype='int32')\n",
    "    embedded_sequences = embedding_layer(sequence_input)\n",
    "    x = Conv1D(128, 5, activation='relu')(embedded_sequences)\n",
    "    x = MaxPooling1D(5)(x)\n",
    "    x = Conv1D(128, 5, activation='relu')(x)\n",
    "    x = MaxPooling1D(5)(x)\n",
    "    x = Flatten()(x)\n",
    "    x = Dense(128, activation='relu')(x)\n",
    "    preds = Dense(N_CLASSES, activation='softmax')(x)\n",
    "\n",
    "    return Model(sequence_input, preds)\n",
    "\n",
    "\n",
    "def build_rnn_model(embedding_weights=None, rnn_size=128):\n",
    "    if embedding_weights is not None:\n",
    "        embedding_dim = embedding_weights.shape[1]\n",
    "\n",
    "        embedding_layer = Embedding(\n",
    "            NUM_WORDS + 1,\n",
    "            embedding_dim,\n",
    "            weights=[embedding_weights],\n",
    "            input_length=MAX_SEQUENCE_LENGTH, \n",
    "            mask_zero=True,\n",
    "            trainable=False)\n",
    "    else:\n",
    "        embedding_layer = Embedding(\n",
    "            NUM_WORDS + 1,\n",
    "            DEFAULT_EMBEDING_DIM,\n",
    "            mask_zero=True,\n",
    "            input_length=MAX_SEQUENCE_LENGTH)\n",
    "\n",
    "    sequence_input = Input(shape=(MAX_SEQUENCE_LENGTH, ), dtype='int32')\n",
    "    embedded_sequences = embedding_layer(sequence_input)\n",
    "    x = LSTM(rnn_size)(embedded_sequences)\n",
    "    preds = Dense(N_CLASSES, activation='softmax')(x)\n",
    "\n",
    "    return Model(sequence_input, preds)\n",
    "    \n",
    "    \n",
    "word_index = extract_word_index_from_tokenizer(tokenizer)\n",
    "# embedding_weights = load_glove_weights_matrix(word_index)\n",
    "embedding_weights = None\n",
    "model = build_rnn_model(embedding_weights)\n",
    "\n",
    "model.compile('adam', 'categorical_crossentropy', metrics=['categorical_accuracy'])\n",
    "print(model.summary())\n",
    "SVG(model_to_dot(model, show_shapes=True).create(prog='dot', format='svg'))"
   ]
  },
  {
   "cell_type": "markdown",
   "metadata": {},
   "source": [
    "### Important\n",
    ">To save a model we will use `ModelCheckpoint` which saves the model after each epoch (by default).\n",
    "\n",
    ">Also a model can be saved directly by calling `save` method on the model instance.\n",
    "    \n",
    "```python\n",
    "    model.save('model.hdf5')\n",
    "```"
   ]
  },
  {
   "cell_type": "code",
   "execution_count": 15,
   "metadata": {
    "ExecuteTime": {
     "end_time": "2018-03-01T10:20:13.137292Z",
     "start_time": "2018-03-01T10:16:57.037735Z"
    },
    "code_folding": []
   },
   "outputs": [
    {
     "name": "stdout",
     "output_type": "stream",
     "text": [
      "Train on 2872 samples, validate on 719 samples\n",
      "Epoch 1/10\n",
      "2872/2872 [==============================] - 13s 4ms/step - loss: 1.4884 - categorical_accuracy: 0.3712 - val_loss: 1.1764 - val_categorical_accuracy: 0.5257\n",
      "Epoch 2/10\n",
      "2872/2872 [==============================] - 12s 4ms/step - loss: 0.9784 - categorical_accuracy: 0.6542 - val_loss: 0.9375 - val_categorical_accuracy: 0.6064\n",
      "Epoch 3/10\n",
      "2872/2872 [==============================] - 12s 4ms/step - loss: 0.4898 - categorical_accuracy: 0.8353 - val_loss: 0.7264 - val_categorical_accuracy: 0.7065\n",
      "Epoch 4/10\n",
      "2872/2872 [==============================] - 12s 4ms/step - loss: 0.2181 - categorical_accuracy: 0.9300 - val_loss: 0.7972 - val_categorical_accuracy: 0.7121\n",
      "Epoch 5/10\n",
      "2872/2872 [==============================] - 12s 4ms/step - loss: 0.1340 - categorical_accuracy: 0.9593 - val_loss: 0.8632 - val_categorical_accuracy: 0.6718\n",
      "Epoch 6/10\n",
      "2872/2872 [==============================] - 12s 4ms/step - loss: 0.0883 - categorical_accuracy: 0.9728 - val_loss: 0.9733 - val_categorical_accuracy: 0.7051\n"
     ]
    }
   ],
   "source": [
    "# prepare directory for checkpoints\n",
    "shutil.rmtree('checkpoints', ignore_errors=True)\n",
    "os.makedirs('checkpoints', exist_ok=True)\n",
    "\n",
    "\n",
    "checkpointer = ModelCheckpoint('checkpoints/weights.{epoch:02d}-{val_loss:.2f}.hdf5')\n",
    "stopper = EarlyStopping(patience=3)\n",
    "\n",
    "history = model.fit(X_train, y_train_1_hot,\n",
    "                    batch_size=32,\n",
    "                    validation_data=[X_valid, y_valid_1_hot],\n",
    "                    callbacks=[checkpointer, stopper],\n",
    "                    epochs=10)"
   ]
  },
  {
   "cell_type": "markdown",
   "metadata": {},
   "source": [
    "### <div class=\"alert alert-block alert-success\">Visualize learning curves and select the best checkpoint</div>"
   ]
  },
  {
   "cell_type": "code",
   "execution_count": 16,
   "metadata": {
    "ExecuteTime": {
     "end_time": "2018-03-01T10:20:13.336377Z",
     "start_time": "2018-03-01T10:20:13.138263Z"
    }
   },
   "outputs": [
    {
     "data": {
      "image/png": "[encoded data removed]",
      "text/plain": [
       "<Figure size 432x288 with 1 Axes>"
      ]
     },
     "metadata": {},
     "output_type": "display_data"
    },
    {
     "data": {
      "image/png": "[encoded data removed]",
      "text/plain": [
       "<Figure size 432x288 with 1 Axes>"
      ]
     },
     "metadata": {},
     "output_type": "display_data"
    }
   ],
   "source": [
    "history_df = pd.DataFrame(history.history)\n",
    "\n",
    "history_df[['loss', 'val_loss']].plot()\n",
    "history_df[['categorical_accuracy', 'val_categorical_accuracy']].plot();"
   ]
  },
  {
   "cell_type": "markdown",
   "metadata": {},
   "source": [
    ">From the learning curves plotted above we can conclude that our model reaches the best performance after the $i^{th}$ epoch and then would be overfitted."
   ]
  },
  {
   "cell_type": "markdown",
   "metadata": {
    "ExecuteTime": {
     "end_time": "2018-01-16T14:46:55.952317Z",
     "start_time": "2018-01-16T14:46:55.943686Z"
    }
   },
   "source": [
    "### <div class=\"alert alert-block alert-success\">Load $i^{th}$ checkpoint and measure quality on the test set</div>"
   ]
  },
  {
   "cell_type": "code",
   "execution_count": 27,
   "metadata": {
    "ExecuteTime": {
     "end_time": "2018-01-17T06:37:48.909850Z",
     "start_time": "2018-01-17T06:37:47.808823Z"
    },
    "collapsed": true
   },
   "outputs": [],
   "source": [
    "model = load_model('checkpoints/weights.02-0.70.hdf5')"
   ]
  },
  {
   "cell_type": "code",
   "execution_count": 28,
   "metadata": {
    "ExecuteTime": {
     "end_time": "2018-01-17T06:37:49.145730Z",
     "start_time": "2018-01-17T06:37:48.910664Z"
    }
   },
   "outputs": [
    {
     "name": "stdout",
     "output_type": "stream",
     "text": [
      "976/976 [==============================] - 4s 4ms/step\n"
     ]
    }
   ],
   "source": [
    "y_test_pred_proba = model.predict(X_test, batch_size=256, verbose=1)\n",
    "y_test_pred = np.argmax(y_test_pred_proba, axis=1)"
   ]
  },
  {
   "cell_type": "code",
   "execution_count": 29,
   "metadata": {
    "ExecuteTime": {
     "end_time": "2018-01-17T06:37:51.217393Z",
     "start_time": "2018-01-17T06:37:51.210911Z"
    }
   },
   "outputs": [
    {
     "name": "stdout",
     "output_type": "stream",
     "text": [
      "                          precision    recall  f1-score   support\n",
      "\n",
      " comp.os.ms-windows.misc       0.56      0.66      0.61       197\n",
      "comp.sys.ibm.pc.hardware       0.62      0.49      0.55       197\n",
      "            misc.forsale       0.87      0.77      0.82       195\n",
      "      rec.sport.baseball       0.61      0.86      0.72       199\n",
      "   talk.politics.mideast       0.89      0.62      0.73       188\n",
      "\n",
      "             avg / total       0.71      0.68      0.68       976\n",
      "\n"
     ]
    }
   ],
   "source": [
    "print(classification_report(y_test, y_test_pred, target_names=label_encoder.classes_))"
   ]
  },
  {
   "cell_type": "markdown",
   "metadata": {},
   "source": [
    "### <div class=\"alert alert-block alert-success\">Load model and run inference on \"new\" data</div>"
   ]
  },
  {
   "cell_type": "code",
   "execution_count": 30,
   "metadata": {
    "ExecuteTime": {
     "end_time": "2018-01-17T06:38:15.366045Z",
     "start_time": "2018-01-17T06:38:13.843313Z"
    }
   },
   "outputs": [
    {
     "name": "stdout",
     "output_type": "stream",
     "text": [
      "975/975 [==============================] - 4s 4ms/step\n"
     ]
    },
    {
     "name": "stderr",
     "output_type": "stream",
     "text": [
      "/home/volha/py34/lib/python3.4/site-packages/sklearn/preprocessing/label.py:151: DeprecationWarning: The truth value of an empty array is ambiguous. Returning False, but in future this will result in an error. Use `array.size > 0` to check that an array is not empty.\n",
      "  if diff:\n"
     ]
    }
   ],
   "source": [
    "# load pipeline (only tokenzer in this case)\n",
    "with open('tokenizer.p', 'rb') as f:\n",
    "    tokenizer = pickle.load(f)\n",
    "    \n",
    "# load label encoder (required to restore targets from model predictions)\n",
    "with open('label_encoder.p', 'rb') as f:\n",
    "    label_encoder = pickle.load(f)\n",
    "    \n",
    "# load the model\n",
    "model = model = load_model('checkpoints/weights.02-0.70.hdf5')\n",
    "    \n",
    "# let's imagine that \"new\" data is a set of *.txt files in NEW_DATA_PATH dir\n",
    "NEW_DATA_PATH = 'data/misc.forsale'\n",
    "new_texts = [open(os.path.join(NEW_DATA_PATH, file_name)).read() \n",
    "             for file_name in os.listdir(NEW_DATA_PATH)]\n",
    "\n",
    "new_texts_encoded = tokenizer.texts_to_sequences(new_texts)\n",
    "X_new = pad_sequences(new_texts_encoded, MAX_SEQUENCE_LENGTH)\n",
    "\n",
    "# run prediction on \"new\" data (we will get a vector of class probabilities for each text)\n",
    "y_new_pred_proba = model.predict(X_new, batch_size=256, verbose=1)\n",
    "# select most probable class for each text\n",
    "y_new_pred = np.argmax(y_new_pred_proba, axis=1)\n",
    "# restore target names\n",
    "y_new_targets = label_encoder.inverse_transform(y_new_pred)"
   ]
  },
  {
   "cell_type": "code",
   "execution_count": 31,
   "metadata": {
    "ExecuteTime": {
     "end_time": "2018-01-17T06:38:16.422468Z",
     "start_time": "2018-01-17T06:38:16.417413Z"
    }
   },
   "outputs": [
    {
     "data": {
      "text/plain": [
       "Counter({'comp.os.ms-windows.misc': 17,\n",
       "         'comp.sys.ibm.pc.hardware': 40,\n",
       "         'misc.forsale': 868,\n",
       "         'rec.sport.baseball': 45,\n",
       "         'talk.politics.mideast': 5})"
      ]
     },
     "execution_count": 31,
     "metadata": {},
     "output_type": "execute_result"
    }
   ],
   "source": [
    "Counter(y_new_targets)"
   ]
  },
  {
   "cell_type": "markdown",
   "metadata": {},
   "source": [
    "### <div class=\"alert alert-block alert-success\">Run inference on a string of some text</div>"
   ]
  },
  {
   "cell_type": "code",
   "execution_count": 32,
   "metadata": {
    "ExecuteTime": {
     "end_time": "2018-01-24T23:23:17.546765Z",
     "start_time": "2018-01-24T23:23:17.536420Z"
    },
    "collapsed": true
   },
   "outputs": [],
   "source": [
    "def predict_on_text(model, label_encoder, tokenizer, text, n_top_labels):\n",
    "    text = [text]\n",
    "    text_encoded = tokenizer.texts_to_sequences(text)\n",
    "    X = pad_sequences(text_encoded, MAX_SEQUENCE_LENGTH)\n",
    "    y_pred_proba = model.predict(X)[0]\n",
    "    \n",
    "    top_n_label_idxs = y_pred_proba.argsort()[::-1][:n_top_labels]\n",
    "    top_n_probs = y_pred_proba[top_n_label_idxs]\n",
    "    top_n_labels = label_encoder.inverse_transform(top_n_label_idxs)\n",
    "    \n",
    "    return list(zip(top_n_labels, top_n_probs))"
   ]
  },
  {
   "cell_type": "code",
   "execution_count": 33,
   "metadata": {
    "ExecuteTime": {
     "end_time": "2018-01-24T23:34:49.366529Z",
     "start_time": "2018-01-24T23:34:49.233379Z"
    }
   },
   "outputs": [
    {
     "name": "stderr",
     "output_type": "stream",
     "text": [
      "/home/volha/py34/lib/python3.4/site-packages/sklearn/preprocessing/label.py:151: DeprecationWarning: The truth value of an empty array is ambiguous. Returning False, but in future this will result in an error. Use `array.size > 0` to check that an array is not empty.\n",
      "  if diff:\n"
     ]
    },
    {
     "data": {
      "text/plain": [
       "[('comp.sys.ibm.pc.hardware', 0.53675175),\n",
       " ('comp.os.ms-windows.misc', 0.37999728),\n",
       " ('misc.forsale', 0.052131794)]"
      ]
     },
     "execution_count": 33,
     "metadata": {},
     "output_type": "execute_result"
    }
   ],
   "source": [
    "text = \"hardware pc processor and a bit of deep space\"\n",
    "n_labels = 3\n",
    "\n",
    "predict_on_text(model, label_encoder, tokenizer, text, n_labels)"
   ]
  }
 ],
 "metadata": {
  "kernelspec": {
   "display_name": "Python 3",
   "language": "python",
   "name": "python3"
  },
  "language_info": {
   "codemirror_mode": {
    "name": "ipython",
    "version": 3
   },
   "file_extension": ".py",
   "mimetype": "text/x-python",
   "name": "python",
   "nbconvert_exporter": "python",
   "pygments_lexer": "ipython3",
   "version": "3.6.5"
  }
 },
 "nbformat": 4,
 "nbformat_minor": 2
}

{
 "cells": [
  {
   "cell_type": "markdown",
   "metadata": {},
   "source": [
    "<small><i>This notebook was put together by [Alexander Fridman](http://www.rocketscience.ai) for the Lecture Course. Source and license info is on [GitHub](https://github.com/volhahedranovich/jupyter_lectures).</i></small>"
   ]
  },
  {
   "cell_type": "markdown",
   "metadata": {},
   "source": [
    "# <div class=\"alert alert-block alert-info\">Image Classification with Convolutional Networks</div>"
   ]
  },
  {
   "cell_type": "code",
   "execution_count": 1,
   "metadata": {
    "ExecuteTime": {
     "end_time": "2018-03-01T11:45:45.737101Z",
     "start_time": "2018-03-01T11:45:44.808267Z"
    }
   },
   "outputs": [
    {
     "name": "stderr",
     "output_type": "stream",
     "text": [
      "Using TensorFlow backend.\n"
     ]
    }
   ],
   "source": [
    "import os\n",
    "import shutil\n",
    "\n",
    "import keras\n",
    "import keras.backend as K\n",
    "import numpy as np\n",
    "import pandas as pd\n",
    "from keras_applications.inception_v3 import InceptionV3, preprocess_input\n",
    "from keras.datasets import cifar10, mnist\n",
    "from keras_preprocessing.image import ImageDataGenerator\n",
    "from keras.models import Sequential, Model\n",
    "from keras.layers import Dense, Dropout, Activation, Flatten\n",
    "from keras.layers import Conv2D, MaxPooling2D, GlobalAveragePooling2D\n",
    "\n",
    "%matplotlib inline"
   ]
  },
  {
   "cell_type": "markdown",
   "metadata": {},
   "source": [
    "### <div class=\"alert alert-block alert-success\">Datasets</div>\n",
    "\n",
    "CIFAR10\n",
    "<img src=\"img/cifar10.png\" alt=\"cifar10\" title=\"cifar10\" />\n",
    "\n",
    "MNIST\n",
    "<img src=\"img/mnist.png\" width=\"350px\" height=\"350px\" alt=\"mnist\" title=\"mnist\" />"
   ]
  },
  {
   "cell_type": "markdown",
   "metadata": {},
   "source": [
    "### <div class=\"alert alert-block alert-success\">Load a dataset</div>"
   ]
  },
  {
   "cell_type": "code",
   "execution_count": 2,
   "metadata": {
    "ExecuteTime": {
     "end_time": "2018-03-01T11:45:45.742970Z",
     "start_time": "2018-03-01T11:45:45.741438Z"
    }
   },
   "outputs": [],
   "source": [
    "DATASET = 'cifar10'"
   ]
  },
  {
   "cell_type": "code",
   "execution_count": 3,
   "metadata": {
    "ExecuteTime": {
     "end_time": "2018-03-01T11:45:46.394603Z",
     "start_time": "2018-03-01T11:45:45.982783Z"
    }
   },
   "outputs": [
    {
     "name": "stdout",
     "output_type": "stream",
     "text": [
      "x_train shape: (50000, 32, 32, 3)\n",
      "50000 train samples\n",
      "10000 test samples\n"
     ]
    }
   ],
   "source": [
    "assert DATASET in {'mnist', 'cifar10'}, 'wrong dataset'\n",
    "\n",
    "if DATASET == 'mnist':\n",
    "    n_channels = 1\n",
    "    dataset_loader = mnist.load_data\n",
    "    batch_size = 128\n",
    "elif DATASET == 'cifar10':\n",
    "    n_channels = 3\n",
    "    dataset_loader = cifar10.load_data\n",
    "    batch_size = 32\n",
    "    \n",
    "\n",
    "def load_data():\n",
    "    (x_train, y_train), (x_test, y_test) = dataset_loader()\n",
    "    num_classes = len(np.unique(y_train))\n",
    "    _, img_rows, img_cols, *_ = x_train.shape\n",
    "\n",
    "    if K.image_data_format() == 'channels_first':\n",
    "        x_train = x_train.reshape(x_train.shape[0], n_channels, img_rows, img_cols)\n",
    "        x_test = x_test.reshape(x_test.shape[0], n_channels, img_rows, img_cols)\n",
    "        input_shape = (n_channels, img_rows, img_cols)\n",
    "    else:\n",
    "        x_train = x_train.reshape(x_train.shape[0], img_rows, img_cols, n_channels)\n",
    "        x_test = x_test.reshape(x_test.shape[0], img_rows, img_cols, n_channels)\n",
    "        input_shape = (img_rows, img_cols, n_channels)\n",
    "        \n",
    "    x_train = x_train.astype('float32')\n",
    "    x_test = x_test.astype('float32')\n",
    "\n",
    "    return (x_train, y_train), (x_test, y_test), num_classes, input_shape\n",
    "\n",
    "\n",
    "(x_train, y_train), (x_test, y_test), num_classes, input_shape = load_data()\n",
    "print('x_train shape:', x_train.shape)\n",
    "print(x_train.shape[0], 'train samples')\n",
    "print(x_test.shape[0], 'test samples')"
   ]
  },
  {
   "cell_type": "markdown",
   "metadata": {},
   "source": [
    "### <div class=\"alert alert-block alert-success\">Convert class vectors to binary class matrices</div>"
   ]
  },
  {
   "cell_type": "code",
   "execution_count": 4,
   "metadata": {
    "ExecuteTime": {
     "end_time": "2018-03-01T11:45:47.500255Z",
     "start_time": "2018-03-01T11:45:47.486426Z"
    }
   },
   "outputs": [],
   "source": [
    "y_train = keras.utils.to_categorical(y_train, num_classes)\n",
    "y_test = keras.utils.to_categorical(y_test, num_classes)"
   ]
  },
  {
   "cell_type": "markdown",
   "metadata": {},
   "source": [
    "### <div class=\"alert alert-block alert-success\">Build a model</div>"
   ]
  },
  {
   "cell_type": "code",
   "execution_count": 5,
   "metadata": {
    "ExecuteTime": {
     "end_time": "2018-03-01T11:45:48.531231Z",
     "start_time": "2018-03-01T11:45:48.473892Z"
    }
   },
   "outputs": [],
   "source": [
    "def cifar10_cnn(input_shape, num_classes):\n",
    "    model = Sequential()\n",
    "    \n",
    "    model.add(Conv2D(32, (3, 3), padding='same',\n",
    "                     input_shape=input_shape))\n",
    "    model.add(Activation('relu'))\n",
    "    model.add(Conv2D(32, (3, 3)))\n",
    "    model.add(Activation('relu'))\n",
    "    model.add(MaxPooling2D(pool_size=(2, 2)))\n",
    "    model.add(Dropout(0.25))\n",
    "\n",
    "    model.add(Conv2D(64, (3, 3), padding='same'))\n",
    "    model.add(Activation('relu'))\n",
    "    model.add(Conv2D(64, (3, 3)))\n",
    "    model.add(Activation('relu'))\n",
    "    model.add(MaxPooling2D(pool_size=(2, 2)))\n",
    "    model.add(Dropout(0.25))\n",
    "\n",
    "    model.add(Flatten())\n",
    "    model.add(Dense(512))\n",
    "    model.add(Activation('relu'))\n",
    "    model.add(Dropout(0.5))\n",
    "    model.add(Dense(num_classes))\n",
    "    model.add(Activation('softmax'))\n",
    "    \n",
    "    # initiate RMSprop optimizer\n",
    "    opt = keras.optimizers.rmsprop(lr=0.0001, decay=1e-6)\n",
    "\n",
    "    return model, opt\n",
    "\n",
    "\n",
    "def mnist_cnn(input_shape, num_classes):\n",
    "    model = Sequential()\n",
    "    \n",
    "    model.add(Conv2D(32, kernel_size=(3, 3),\n",
    "                     activation='relu',\n",
    "                     input_shape=input_shape))\n",
    "    model.add(Conv2D(64, (3, 3), activation='relu'))\n",
    "    model.add(MaxPooling2D(pool_size=(2, 2)))\n",
    "    model.add(Dropout(0.25))\n",
    "    model.add(Flatten())\n",
    "    model.add(Dense(128, activation='relu'))\n",
    "    model.add(Dropout(0.5))\n",
    "    model.add(Dense(num_classes, activation='softmax'))\n",
    "    \n",
    "    return model, 'adadelta'"
   ]
  },
  {
   "cell_type": "code",
   "execution_count": 6,
   "metadata": {
    "ExecuteTime": {
     "end_time": "2018-03-01T11:45:49.285298Z",
     "start_time": "2018-03-01T11:45:49.202978Z"
    }
   },
   "outputs": [
    {
     "name": "stdout",
     "output_type": "stream",
     "text": [
      "_________________________________________________________________\n",
      "Layer (type)                 Output Shape              Param #   \n",
      "=================================================================\n",
      "conv2d_1 (Conv2D)            (None, 32, 32, 32)        896       \n",
      "_________________________________________________________________\n",
      "activation_1 (Activation)    (None, 32, 32, 32)        0         \n",
      "_________________________________________________________________\n",
      "conv2d_2 (Conv2D)            (None, 30, 30, 32)        9248      \n",
      "_________________________________________________________________\n",
      "activation_2 (Activation)    (None, 30, 30, 32)        0         \n",
      "_________________________________________________________________\n",
      "max_pooling2d_1 (MaxPooling2 (None, 15, 15, 32)        0         \n",
      "_________________________________________________________________\n",
      "dropout_1 (Dropout)          (None, 15, 15, 32)        0         \n",
      "_________________________________________________________________\n",
      "conv2d_3 (Conv2D)            (None, 15, 15, 64)        18496     \n",
      "_________________________________________________________________\n",
      "activation_3 (Activation)    (None, 15, 15, 64)        0         \n",
      "_________________________________________________________________\n",
      "conv2d_4 (Conv2D)            (None, 13, 13, 64)        36928     \n",
      "_________________________________________________________________\n",
      "activation_4 (Activation)    (None, 13, 13, 64)        0         \n",
      "_________________________________________________________________\n",
      "max_pooling2d_2 (MaxPooling2 (None, 6, 6, 64)          0         \n",
      "_________________________________________________________________\n",
      "dropout_2 (Dropout)          (None, 6, 6, 64)          0         \n",
      "_________________________________________________________________\n",
      "flatten_1 (Flatten)          (None, 2304)              0         \n",
      "_________________________________________________________________\n",
      "dense_1 (Dense)              (None, 512)               1180160   \n",
      "_________________________________________________________________\n",
      "activation_5 (Activation)    (None, 512)               0         \n",
      "_________________________________________________________________\n",
      "dropout_3 (Dropout)          (None, 512)               0         \n",
      "_________________________________________________________________\n",
      "dense_2 (Dense)              (None, 10)                5130      \n",
      "_________________________________________________________________\n",
      "activation_6 (Activation)    (None, 10)                0         \n",
      "=================================================================\n",
      "Total params: 1,250,858\n",
      "Trainable params: 1,250,858\n",
      "Non-trainable params: 0\n",
      "_________________________________________________________________\n"
     ]
    }
   ],
   "source": [
    "model, opt = globals()['{}_cnn'.format(DATASET)](input_shape, num_classes)\n",
    "\n",
    "model.compile(loss='categorical_crossentropy',\n",
    "              optimizer=opt,\n",
    "              metrics=['accuracy'])\n",
    "\n",
    "model.summary()"
   ]
  },
  {
   "cell_type": "markdown",
   "metadata": {},
   "source": [
    "### <div class=\"alert alert-block alert-success\">Setup image data generator (data augmentation)</div>"
   ]
  },
  {
   "cell_type": "code",
   "execution_count": 7,
   "metadata": {
    "ExecuteTime": {
     "end_time": "2018-03-01T11:45:50.506917Z",
     "start_time": "2018-03-01T11:45:50.424960Z"
    }
   },
   "outputs": [],
   "source": [
    "x_train = x_train.astype('float') / 255\n",
    "x_test = x_test.astype('float') / 255"
   ]
  },
  {
   "cell_type": "code",
   "execution_count": 8,
   "metadata": {
    "ExecuteTime": {
     "end_time": "2018-03-01T11:45:51.268336Z",
     "start_time": "2018-03-01T11:45:51.021429Z"
    }
   },
   "outputs": [],
   "source": [
    "datagen = ImageDataGenerator(\n",
    "    featurewise_center=False,  # set input mean to 0 over the dataset\n",
    "    samplewise_center=False,  # set each sample mean to 0\n",
    "    featurewise_std_normalization=False,  # divide inputs by std of the dataset\n",
    "    samplewise_std_normalization=False,  # divide each input by its std\n",
    "    zca_whitening=False,  # apply ZCA whitening\n",
    "    rotation_range=0,  # randomly rotate images in the range (degrees, 0 to 180)\n",
    "    width_shift_range=0.,  # randomly shift images horizontally (fraction of total width)\n",
    "    height_shift_range=0.,  # randomly shift images vertically (fraction of total height)\n",
    "    horizontal_flip=False,  # randomly flip images\n",
    "    vertical_flip=False)  # randomly flip images\n",
    "\n",
    "# Compute quantities required for feature-wise normalization\n",
    "# (std, mean, and principal components if ZCA whitening is applied).\n",
    "datagen.fit(x_train)"
   ]
  },
  {
   "cell_type": "markdown",
   "metadata": {},
   "source": [
    "### <div class=\"alert alert-block alert-success\">Train the model</div>"
   ]
  },
  {
   "cell_type": "code",
   "execution_count": 13,
   "metadata": {
    "ExecuteTime": {
     "end_time": "2018-03-01T11:46:01.194659Z",
     "start_time": "2018-03-01T11:45:51.961484Z"
    }
   },
   "outputs": [
    {
     "name": "stdout",
     "output_type": "stream",
     "text": [
      "Epoch 1/10\n",
      "1562/1562 [==============================] - 9s 6ms/step - loss: 1.8275 - acc: 0.3294 - val_loss: 1.5488 - val_acc: 0.4452\n",
      "Epoch 2/10\n",
      "1562/1562 [==============================] - 9s 6ms/step - loss: 1.5024 - acc: 0.4557 - val_loss: 1.3830 - val_acc: 0.5053\n",
      "Epoch 3/10\n",
      "1562/1562 [==============================] - 8s 5ms/step - loss: 1.3612 - acc: 0.5106 - val_loss: 1.2334 - val_acc: 0.5563\n",
      "Epoch 4/10\n",
      "1562/1562 [==============================] - 6s 4ms/step - loss: 1.2717 - acc: 0.5464 - val_loss: 1.1587 - val_acc: 0.5894\n",
      "Epoch 5/10\n",
      "1562/1562 [==============================] - 7s 5ms/step - loss: 1.1934 - acc: 0.5768 - val_loss: 1.0763 - val_acc: 0.6201\n",
      "Epoch 6/10\n",
      "1562/1562 [==============================] - 9s 6ms/step - loss: 1.1317 - acc: 0.6028 - val_loss: 1.0231 - val_acc: 0.6392\n",
      "Epoch 7/10\n",
      "1562/1562 [==============================] - 8s 5ms/step - loss: 1.0680 - acc: 0.6233 - val_loss: 0.9739 - val_acc: 0.6576\n",
      "Epoch 8/10\n",
      "1562/1562 [==============================] - 8s 5ms/step - loss: 1.0210 - acc: 0.6419 - val_loss: 0.9361 - val_acc: 0.6718\n",
      "Epoch 9/10\n",
      "1562/1562 [==============================] - 9s 5ms/step - loss: 0.9816 - acc: 0.6557 - val_loss: 0.8957 - val_acc: 0.6826\n",
      "Epoch 10/10\n",
      "1562/1562 [==============================] - 8s 5ms/step - loss: 0.9459 - acc: 0.6666 - val_loss: 0.8764 - val_acc: 0.6921\n"
     ]
    }
   ],
   "source": [
    "shutil.rmtree('checkpoints', ignore_errors=True)\n",
    "os.makedirs('checkpoints')\n",
    "\n",
    "checkpointer = keras.callbacks.ModelCheckpoint('checkpoints/weights.{epoch:02d}-{val_loss:.2f}.hdf5')\n",
    "\n",
    "train_steps = len(x_train) // batch_size\n",
    "\n",
    "history = model.fit_generator(\n",
    "    datagen.flow(x_train, y_train, batch_size=batch_size),\n",
    "    steps_per_epoch=train_steps,\n",
    "    epochs=10,\n",
    "    callbacks=[checkpointer],\n",
    "    validation_data=(x_test, y_test),\n",
    "    use_multiprocessing=False,\n",
    "    workers=2)"
   ]
  },
  {
   "cell_type": "code",
   "execution_count": 14,
   "metadata": {
    "ExecuteTime": {
     "end_time": "2018-03-01T10:25:54.164524Z",
     "start_time": "2018-03-01T10:25:53.914141Z"
    }
   },
   "outputs": [
    {
     "data": {
      "image/png": "[encoded data removed]",
      "text/plain": [
       "<Figure size 432x288 with 1 Axes>"
      ]
     },
     "metadata": {},
     "output_type": "display_data"
    },
    {
     "data": {
      "image/png": "[encoded data removed]",
      "text/plain": [
       "<Figure size 432x288 with 1 Axes>"
      ]
     },
     "metadata": {},
     "output_type": "display_data"
    }
   ],
   "source": [
    "history_df = pd.DataFrame(history.history)\n",
    "\n",
    "history_df[['loss', 'val_loss']].plot()\n",
    "history_df[['acc', 'val_acc']].plot();"
   ]
  },
  {
   "cell_type": "markdown",
   "metadata": {},
   "source": [
    "### <div class=\"alert alert-block alert-success\">Score the trained model</div>"
   ]
  },
  {
   "cell_type": "code",
   "execution_count": 15,
   "metadata": {
    "ExecuteTime": {
     "end_time": "2018-03-01T10:25:57.353493Z",
     "start_time": "2018-03-01T10:25:56.834736Z"
    }
   },
   "outputs": [
    {
     "name": "stdout",
     "output_type": "stream",
     "text": [
      "10000/10000 [==============================] - 0s 43us/step\n",
      "Test loss: 0.8764013585090638\n",
      "Test accuracy: 0.6921\n"
     ]
    }
   ],
   "source": [
    "scores = model.evaluate(x_test, y_test, verbose=1)\n",
    "print('Test loss:', scores[0])\n",
    "print('Test accuracy:', scores[1])"
   ]
  },
  {
   "cell_type": "markdown",
   "metadata": {},
   "source": [
    "# <div class=\"alert alert-block alert-info\">Model fine-tuning</div>\n",
    "\n",
    "*[More info about model fine-tuning with keras](https://keras.io/applications/)*"
   ]
  },
  {
   "cell_type": "markdown",
   "metadata": {},
   "source": [
    "### <div class=\"alert alert-block alert-success\">Load the data</div>"
   ]
  },
  {
   "cell_type": "code",
   "execution_count": 5,
   "metadata": {
    "ExecuteTime": {
     "end_time": "2018-03-01T11:34:33.092293Z",
     "start_time": "2018-03-01T11:34:32.692348Z"
    }
   },
   "outputs": [],
   "source": [
    "(x_train, y_train), (x_test, y_test), num_classes, input_shape = load_data()\n",
    "\n",
    "y_train = keras.utils.to_categorical(y_train, num_classes)\n",
    "y_test = keras.utils.to_categorical(y_test, num_classes)"
   ]
  },
  {
   "cell_type": "markdown",
   "metadata": {},
   "source": [
    "### <div class=\"alert alert-block alert-success\">Create the base pre-trained model</div>"
   ]
  },
  {
   "cell_type": "code",
   "execution_count": 10,
   "metadata": {
    "ExecuteTime": {
     "end_time": "2018-03-01T11:34:56.363063Z",
     "start_time": "2018-03-01T11:34:33.685465Z"
    }
   },
   "outputs": [],
   "source": [
    "base_model = InceptionV3(weights='imagenet', include_top=False)\n",
    "\n",
    "# add a global spatial average pooling layer\n",
    "x = base_model.output\n",
    "x = GlobalAveragePooling2D()(x)\n",
    "# let's add a fully-connected layer\n",
    "x = Dense(1024, activation='relu')(x)\n",
    "# and a logistic layer -- let's say we have num_classes classes\n",
    "predictions = Dense(num_classes, activation='softmax')(x)\n",
    "\n",
    "# this is the model we will train\n",
    "model = Model(inputs=base_model.input, outputs=predictions)"
   ]
  },
  {
   "cell_type": "markdown",
   "metadata": {},
   "source": [
    "### <div class=\"alert alert-block alert-success\">Preprocess data in the same way as used while base model was trained</div>"
   ]
  },
  {
   "cell_type": "code",
   "execution_count": 6,
   "metadata": {
    "ExecuteTime": {
     "end_time": "2018-03-01T11:34:56.474191Z",
     "start_time": "2018-03-01T11:34:56.363869Z"
    }
   },
   "outputs": [],
   "source": [
    "x_train = preprocess_input(x_train)\n",
    "x_test = preprocess_input(x_test)"
   ]
  },
  {
   "cell_type": "code",
   "execution_count": 7,
   "metadata": {
    "ExecuteTime": {
     "start_time": "2018-03-01T11:34:18.039Z"
    }
   },
   "outputs": [],
   "source": [
    "datagen = ImageDataGenerator(\n",
    "    featurewise_center=False,  # set input mean to 0 over the dataset\n",
    "    samplewise_center=False,  # set each sample mean to 0\n",
    "    featurewise_std_normalization=False,  # divide inputs by std of the dataset\n",
    "    samplewise_std_normalization=False,  # divide each input by its std\n",
    "    zca_whitening=False,  # apply ZCA whitening\n",
    "    zca_epsilon=1e-06,  # epsilon for ZCA whitening\n",
    "    rotation_range=0,  # randomly rotate images in the range (degrees, 0 to 180)\n",
    "    width_shift_range=0.1,  # randomly shift images horizontally (fraction of total width)\n",
    "    height_shift_range=0.1,  # randomly shift images vertically (fraction of total height)\n",
    "    shear_range=0.,  # set range for random shear\n",
    "    zoom_range=0.,  # set range for random zoom\n",
    "    channel_shift_range=0.,  # set range for random channel shifts\n",
    "    fill_mode='nearest',  # set mode for filling points outside the input boundaries\n",
    "    cval=0.,  # value used for fill_mode = \"constant\"\n",
    "    horizontal_flip=True,  # randomly flip images\n",
    "    vertical_flip=False,  # randomly flip images\n",
    "    rescale=None,  # set rescaling factor (applied before any other transformation)\n",
    "    preprocessing_function=None,  # set function that will be applied on each input\n",
    "    data_format=None,  # image data format, either \"channels_first\" or \"channels_last\"\n",
    "    validation_split=0.0)  # fraction of images reserved for validation (strictly between 0 and 1)\n",
    "\n",
    "# Compute quantities required for feature-wise normalization\n",
    "# (std, mean, and principal components if ZCA whitening is applied).\n",
    "datagen.fit(x_train)"
   ]
  },
  {
   "cell_type": "markdown",
   "metadata": {},
   "source": [
    "### <div class=\"alert alert-block alert-success\">Train only the top layers (which were randomly initialized)</div>"
   ]
  },
  {
   "cell_type": "code",
   "execution_count": null,
   "metadata": {},
   "outputs": [
    {
     "name": "stdout",
     "output_type": "stream",
     "text": [
      "Epoch 1/1\n"
     ]
    }
   ],
   "source": [
    "# freeze all convolutional InceptionV3 layers\n",
    "# for layer in base_model.layers:\n",
    "#     layer.trainable = False\n",
    "\n",
    "# compile the model (should be done *after* setting layers to non-trainable)\n",
    "model.compile(optimizer='rmsprop', loss='categorical_crossentropy')\n",
    "\n",
    "# train_steps = len(x_train) // batch_size\n",
    "\n",
    "# train the model on the new data for a few epochs\n",
    "model.fit(x_train, y_train, batch_size=4)"
   ]
  },
  {
   "cell_type": "code",
   "execution_count": null,
   "metadata": {
    "ExecuteTime": {
     "start_time": "2018-03-01T11:34:21.095Z"
    }
   },
   "outputs": [
    {
     "name": "stdout",
     "output_type": "stream",
     "text": [
      "Epoch 1/2\n"
     ]
    }
   ],
   "source": [
    "# freeze all convolutional InceptionV3 layers\n",
    "for layer in base_model.layers:\n",
    "    layer.trainable = False\n",
    "\n",
    "# compile the model (should be done *after* setting layers to non-trainable)\n",
    "model.compile(optimizer='rmsprop', loss='categorical_crossentropy')\n",
    "\n",
    "train_steps = len(x_train) // batch_size\n",
    "\n",
    "# train the model on the new data for a few epochs\n",
    "model.fit_generator(\n",
    "    datagen.flow(x_train, y_train, batch_size=2),\n",
    "    steps_per_epoch=train_steps,\n",
    "    epochs=2,\n",
    "    validation_data=(x_test, y_test),\n",
    "    use_multiprocessing=True,\n",
    "    workers=2)"
   ]
  },
  {
   "cell_type": "markdown",
   "metadata": {},
   "source": [
    "> At this point, the top layers are well trained and we can start fine-tuning\n",
    "  convolutional layers from inception V3. We will freeze the bottom N layers\n",
    "  and train the remaining top layers."
   ]
  },
  {
   "cell_type": "code",
   "execution_count": null,
   "metadata": {
    "ExecuteTime": {
     "end_time": "2018-03-01T10:24:30.210463Z",
     "start_time": "2018-03-01T10:23:08.390Z"
    }
   },
   "outputs": [],
   "source": [
    "# we chose to train the top 2 inception blocks, i.e. we will freeze\n",
    "# the first 249 layers and unfreeze the rest:\n",
    "for layer in model.layers[:249]:\n",
    "    layer.trainable = False\n",
    "for layer in model.layers[249:]:\n",
    "    layer.trainable = True\n",
    "\n",
    "# we need to recompile the model for these modifications to take effect\n",
    "# we use SGD with a low learning rate\n",
    "opt = keras.optimizers.SGD(lr=0.0001, momentum=0.9)\n",
    "model.compile(optimizer=opt, loss='categorical_crossentropy', metrics=['accuracy'])"
   ]
  },
  {
   "cell_type": "code",
   "execution_count": null,
   "metadata": {
    "ExecuteTime": {
     "end_time": "2018-03-01T10:24:30.210916Z",
     "start_time": "2018-03-01T10:23:10.161Z"
    }
   },
   "outputs": [],
   "source": [
    "model.fit_generator(\n",
    "    datagen.flow(x_train, y_train, batch_size=4),\n",
    "    steps_per_epoch=train_steps,\n",
    "    epochs=10,\n",
    "    validation_data=(x_test, y_test),\n",
    "    use_multiprocessing=True,\n",
    "    workers=2)"
   ]
  },
  {
   "cell_type": "markdown",
   "metadata": {},
   "source": [
    "### <div class=\"alert alert-block alert-success\">Score the trained model</div>"
   ]
  },
  {
   "cell_type": "code",
   "execution_count": null,
   "metadata": {
    "ExecuteTime": {
     "end_time": "2018-03-01T10:24:30.211363Z",
     "start_time": "2018-03-01T10:23:11.587Z"
    }
   },
   "outputs": [],
   "source": [
    "scores = model.evaluate(x_test, y_test, verbose=1)\n",
    "print('Test loss:', scores[0])\n",
    "print('Test accuracy:', scores[1])"
   ]
  }
 ],
 "metadata": {
  "kernelspec": {
   "display_name": "Python 3",
   "language": "python",
   "name": "python3"
  },
  "language_info": {
   "codemirror_mode": {
    "name": "ipython",
    "version": 3
   },
   "file_extension": ".py",
   "mimetype": "text/x-python",
   "name": "python",
   "nbconvert_exporter": "python",
   "pygments_lexer": "ipython3",
   "version": "3.6.5"
  }
 },
 "nbformat": 4,
 "nbformat_minor": 2
}

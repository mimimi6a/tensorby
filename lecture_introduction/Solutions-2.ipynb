{
 "cells": [
  {
   "cell_type": "code",
   "execution_count": 62,
   "metadata": {
    "collapsed": true
   },
   "outputs": [],
   "source": [
    "%matplotlib inline\n",
    "import pandas as pd"
   ]
  },
  {
   "cell_type": "code",
   "execution_count": 63,
   "metadata": {},
   "outputs": [
    {
     "data": {
      "text/html": [
       "<div>\n",
       "<style>\n",
       "    .dataframe thead tr:only-child th {\n",
       "        text-align: right;\n",
       "    }\n",
       "\n",
       "    .dataframe thead th {\n",
       "        text-align: left;\n",
       "    }\n",
       "\n",
       "    .dataframe tbody tr th {\n",
       "        vertical-align: top;\n",
       "    }\n",
       "</style>\n",
       "<table border=\"1\" class=\"dataframe\">\n",
       "  <thead>\n",
       "    <tr style=\"text-align: right;\">\n",
       "      <th></th>\n",
       "      <th>title</th>\n",
       "      <th>year</th>\n",
       "    </tr>\n",
       "  </thead>\n",
       "  <tbody>\n",
       "    <tr>\n",
       "      <th>0</th>\n",
       "      <td>Berlian si Etty</td>\n",
       "      <td>2013</td>\n",
       "    </tr>\n",
       "    <tr>\n",
       "      <th>1</th>\n",
       "      <td>The Mighty</td>\n",
       "      <td>1929</td>\n",
       "    </tr>\n",
       "    <tr>\n",
       "      <th>2</th>\n",
       "      <td>Little Black Spiders</td>\n",
       "      <td>2012</td>\n",
       "    </tr>\n",
       "    <tr>\n",
       "      <th>3</th>\n",
       "      <td>Twelve O'Clock High</td>\n",
       "      <td>1949</td>\n",
       "    </tr>\n",
       "    <tr>\n",
       "      <th>4</th>\n",
       "      <td>D4</td>\n",
       "      <td>2011</td>\n",
       "    </tr>\n",
       "  </tbody>\n",
       "</table>\n",
       "</div>"
      ],
      "text/plain": [
       "                  title  year\n",
       "0       Berlian si Etty  2013\n",
       "1            The Mighty  1929\n",
       "2  Little Black Spiders  2012\n",
       "3   Twelve O'Clock High  1949\n",
       "4                    D4  2011"
      ]
     },
     "execution_count": 63,
     "metadata": {},
     "output_type": "execute_result"
    }
   ],
   "source": [
    "titles = pd.read_csv('data/titles.csv')\n",
    "titles = titles[titles['year'] <= 2015]\n",
    "titles.head()"
   ]
  },
  {
   "cell_type": "code",
   "execution_count": 64,
   "metadata": {},
   "outputs": [
    {
     "data": {
      "text/html": [
       "<div>\n",
       "<style>\n",
       "    .dataframe thead tr:only-child th {\n",
       "        text-align: right;\n",
       "    }\n",
       "\n",
       "    .dataframe thead th {\n",
       "        text-align: left;\n",
       "    }\n",
       "\n",
       "    .dataframe tbody tr th {\n",
       "        vertical-align: top;\n",
       "    }\n",
       "</style>\n",
       "<table border=\"1\" class=\"dataframe\">\n",
       "  <thead>\n",
       "    <tr style=\"text-align: right;\">\n",
       "      <th></th>\n",
       "      <th>title</th>\n",
       "      <th>year</th>\n",
       "      <th>name</th>\n",
       "      <th>type</th>\n",
       "      <th>character</th>\n",
       "      <th>n</th>\n",
       "    </tr>\n",
       "  </thead>\n",
       "  <tbody>\n",
       "    <tr>\n",
       "      <th>0</th>\n",
       "      <td>Suuri illusioni</td>\n",
       "      <td>1985</td>\n",
       "      <td>Homo $</td>\n",
       "      <td>actor</td>\n",
       "      <td>Guests</td>\n",
       "      <td>22.0</td>\n",
       "    </tr>\n",
       "    <tr>\n",
       "      <th>1</th>\n",
       "      <td>Natas es Satan</td>\n",
       "      <td>1977</td>\n",
       "      <td>Ramon 'Cartucho' Pena</td>\n",
       "      <td>actor</td>\n",
       "      <td>Nigth Club Owner</td>\n",
       "      <td>NaN</td>\n",
       "    </tr>\n",
       "    <tr>\n",
       "      <th>2</th>\n",
       "      <td>Los tarantos</td>\n",
       "      <td>1963</td>\n",
       "      <td>'El Guisa'</td>\n",
       "      <td>actor</td>\n",
       "      <td>Bailaor</td>\n",
       "      <td>25.0</td>\n",
       "    </tr>\n",
       "    <tr>\n",
       "      <th>3</th>\n",
       "      <td>Los tarantos</td>\n",
       "      <td>1963</td>\n",
       "      <td>'El Viti'</td>\n",
       "      <td>actor</td>\n",
       "      <td>Cantaor</td>\n",
       "      <td>20.0</td>\n",
       "    </tr>\n",
       "    <tr>\n",
       "      <th>4</th>\n",
       "      <td>Been Down So Long It Looks Like Up to Me</td>\n",
       "      <td>1971</td>\n",
       "      <td>Murray the 'K'</td>\n",
       "      <td>actor</td>\n",
       "      <td>Himself</td>\n",
       "      <td>NaN</td>\n",
       "    </tr>\n",
       "  </tbody>\n",
       "</table>\n",
       "</div>"
      ],
      "text/plain": [
       "                                      title  year                   name  \\\n",
       "0                           Suuri illusioni  1985                 Homo $   \n",
       "1                            Natas es Satan  1977  Ramon 'Cartucho' Pena   \n",
       "2                              Los tarantos  1963             'El Guisa'   \n",
       "3                              Los tarantos  1963              'El Viti'   \n",
       "4  Been Down So Long It Looks Like Up to Me  1971         Murray the 'K'   \n",
       "\n",
       "    type         character     n  \n",
       "0  actor            Guests  22.0  \n",
       "1  actor  Nigth Club Owner   NaN  \n",
       "2  actor           Bailaor  25.0  \n",
       "3  actor           Cantaor  20.0  \n",
       "4  actor           Himself   NaN  "
      ]
     },
     "execution_count": 64,
     "metadata": {},
     "output_type": "execute_result"
    }
   ],
   "source": [
    "cast = pd.read_csv('data/cast.csv')\n",
    "cast.head()"
   ]
  },
  {
   "cell_type": "markdown",
   "metadata": {},
   "source": [
    "### What are the ten most common movie names of all time?"
   ]
  },
  {
   "cell_type": "code",
   "execution_count": 85,
   "metadata": {},
   "outputs": [
    {
     "data": {
      "text/html": [
       "<div>\n",
       "<style>\n",
       "    .dataframe thead tr:only-child th {\n",
       "        text-align: right;\n",
       "    }\n",
       "\n",
       "    .dataframe thead th {\n",
       "        text-align: left;\n",
       "    }\n",
       "\n",
       "    .dataframe tbody tr th {\n",
       "        vertical-align: top;\n",
       "    }\n",
       "</style>\n",
       "<table border=\"1\" class=\"dataframe\">\n",
       "  <thead>\n",
       "    <tr style=\"text-align: right;\">\n",
       "      <th></th>\n",
       "      <th>name</th>\n",
       "      <th>number</th>\n",
       "    </tr>\n",
       "  </thead>\n",
       "  <tbody>\n",
       "    <tr>\n",
       "      <th>0</th>\n",
       "      <td>Hamlet</td>\n",
       "      <td>18</td>\n",
       "    </tr>\n",
       "    <tr>\n",
       "      <th>1</th>\n",
       "      <td>Carmen</td>\n",
       "      <td>15</td>\n",
       "    </tr>\n",
       "    <tr>\n",
       "      <th>2</th>\n",
       "      <td>Macbeth</td>\n",
       "      <td>14</td>\n",
       "    </tr>\n",
       "    <tr>\n",
       "      <th>3</th>\n",
       "      <td>Honeymoon</td>\n",
       "      <td>11</td>\n",
       "    </tr>\n",
       "    <tr>\n",
       "      <th>5</th>\n",
       "      <td>Maya</td>\n",
       "      <td>11</td>\n",
       "    </tr>\n",
       "    <tr>\n",
       "      <th>7</th>\n",
       "      <td>Othello</td>\n",
       "      <td>11</td>\n",
       "    </tr>\n",
       "    <tr>\n",
       "      <th>4</th>\n",
       "      <td>Temptation</td>\n",
       "      <td>11</td>\n",
       "    </tr>\n",
       "    <tr>\n",
       "      <th>6</th>\n",
       "      <td>The Three Musketeers</td>\n",
       "      <td>11</td>\n",
       "    </tr>\n",
       "    <tr>\n",
       "      <th>8</th>\n",
       "      <td>Anna Karenina</td>\n",
       "      <td>10</td>\n",
       "    </tr>\n",
       "    <tr>\n",
       "      <th>10</th>\n",
       "      <td>Kismet</td>\n",
       "      <td>10</td>\n",
       "    </tr>\n",
       "  </tbody>\n",
       "</table>\n",
       "</div>"
      ],
      "text/plain": [
       "                    name  number\n",
       "0                 Hamlet      18\n",
       "1                 Carmen      15\n",
       "2                Macbeth      14\n",
       "3              Honeymoon      11\n",
       "5                   Maya      11\n",
       "7                Othello      11\n",
       "4             Temptation      11\n",
       "6   The Three Musketeers      11\n",
       "8          Anna Karenina      10\n",
       "10                Kismet      10"
      ]
     },
     "execution_count": 85,
     "metadata": {},
     "output_type": "execute_result"
    }
   ],
   "source": [
    "h=titles\n",
    "h=h.title.value_counts()\n",
    "h=h.reset_index()\n",
    "h.columns = ['name','number']\n",
    "h.sort_values(['number','name'], ascending=[False, True]).head(10)"
   ]
  },
  {
   "cell_type": "markdown",
   "metadata": {
    "collapsed": true
   },
   "source": [
    "### What are the names of movies appeared more than 10 times in film history?"
   ]
  },
  {
   "cell_type": "code",
   "execution_count": 51,
   "metadata": {
    "scrolled": false
   },
   "outputs": [
    {
     "data": {
      "text/plain": [
       "Hamlet                  18\n",
       "Carmen                  15\n",
       "Macbeth                 14\n",
       "Honeymoon               11\n",
       "Temptation              11\n",
       "Maya                    11\n",
       "The Three Musketeers    11\n",
       "Othello                 11\n",
       "Name: title, dtype: int64"
      ]
     },
     "execution_count": 51,
     "metadata": {},
     "output_type": "execute_result"
    }
   ],
   "source": [
    "h=titles\n",
    "h=h.title.value_counts()\n",
    "h[h>10]"
   ]
  },
  {
   "cell_type": "markdown",
   "metadata": {
    "collapsed": true
   },
   "source": [
    "### Which three years of the 1930s saw the most films released?"
   ]
  },
  {
   "cell_type": "code",
   "execution_count": 10,
   "metadata": {},
   "outputs": [
    {
     "data": {
      "text/plain": [
       "1937    1208\n",
       "1936    1150\n",
       "1938    1147\n",
       "Name: year, dtype: int64"
      ]
     },
     "execution_count": 10,
     "metadata": {},
     "output_type": "execute_result"
    }
   ],
   "source": [
    "h=titles\n",
    "h[h.year//10 == 193].year.value_counts().head(3)"
   ]
  },
  {
   "cell_type": "markdown",
   "metadata": {
    "collapsed": true
   },
   "source": [
    "### Plot the number of films that have been released each decade over the history of cinema."
   ]
  },
  {
   "cell_type": "code",
   "execution_count": 22,
   "metadata": {},
   "outputs": [
    {
     "data": {
      "image/png": "[encoded data removed]",
      "text/plain": [
       "<matplotlib.figure.Figure at 0x1b8684eba90>"
      ]
     },
     "metadata": {},
     "output_type": "display_data"
    }
   ],
   "source": [
    "h=titles\n",
    "x=h.year // 10 * 10\n",
    "ax = x.value_counts().sort_index().plot(kind='bar', title = 'Number of films released each decade over the history of cinema')\n",
    "ax.set(xlabel=\"decade\", ylabel=\"number of films\");"
   ]
  },
  {
   "cell_type": "markdown",
   "metadata": {
    "collapsed": true
   },
   "source": [
    "### Plot the number of \"Hamlet\" films made each decade."
   ]
  },
  {
   "cell_type": "code",
   "execution_count": 23,
   "metadata": {},
   "outputs": [
    {
     "data": {
      "image/png": "[encoded data removed]",
      "text/plain": [
       "<matplotlib.figure.Figure at 0x1b86846f2e8>"
      ]
     },
     "metadata": {},
     "output_type": "display_data"
    }
   ],
   "source": [
    "h=titles\n",
    "h=h[h.title=='Hamlet']\n",
    "x=h.year // 10 * 10\n",
    "ax = x.value_counts().sort_index().plot(kind='bar')\n",
    "ax.set(xlabel=\"decade\", ylabel=\"number of films\", title = 'Number of \"Hamlet\" films made each decade');"
   ]
  },
  {
   "cell_type": "markdown",
   "metadata": {
    "collapsed": true
   },
   "source": [
    "### Plot the number of \"Rustler\" characters in each decade of the history of film."
   ]
  },
  {
   "cell_type": "code",
   "execution_count": 25,
   "metadata": {},
   "outputs": [
    {
     "data": {
      "image/png": "[encoded data removed]",
      "text/plain": [
       "<matplotlib.figure.Figure at 0x1b868468780>"
      ]
     },
     "metadata": {},
     "output_type": "display_data"
    }
   ],
   "source": [
    "h=cast\n",
    "h=h[h.character=='Rustler']\n",
    "x=h.year // 10 * 10\n",
    "ax = x.value_counts().sort_index().plot(kind='bar')\n",
    "ax.set(xlabel=\"decade\", ylabel=\"number of characters\", title = 'Number of \"Rustler\" characters in each decade');"
   ]
  },
  {
   "cell_type": "markdown",
   "metadata": {
    "collapsed": true
   },
   "source": [
    "### Plot the number of \"Hamlet\" characters each decade."
   ]
  },
  {
   "cell_type": "code",
   "execution_count": 26,
   "metadata": {},
   "outputs": [
    {
     "data": {
      "image/png": "[encoded data removed]",
      "text/plain": [
       "<matplotlib.figure.Figure at 0x1b8685ccc50>"
      ]
     },
     "metadata": {},
     "output_type": "display_data"
    }
   ],
   "source": [
    "h=cast\n",
    "h=h[h.character=='Hamlet']\n",
    "x=h.year // 10 * 10\n",
    "ax = x.value_counts().sort_index().plot(kind='bar')\n",
    "ax.set(xlabel=\"decade\", ylabel=\"number of characters\", title = 'Number of \"Hamlet\" characters in each decade');"
   ]
  },
  {
   "cell_type": "markdown",
   "metadata": {
    "collapsed": true
   },
   "source": [
    "### What are the 11 most common character names in movie history?"
   ]
  },
  {
   "cell_type": "code",
   "execution_count": 15,
   "metadata": {},
   "outputs": [
    {
     "data": {
      "text/plain": [
       "Minor Role     6278\n",
       "Dancer         5954\n",
       "Townsman       5785\n",
       "Himself        5399\n",
       "Reporter       4616\n",
       "Policeman      4416\n",
       "Henchman       4401\n",
       "Party Guest    3909\n",
       "Doctor         3467\n",
       "Waiter         2960\n",
       "Barfly         2729\n",
       "Name: character, dtype: int64"
      ]
     },
     "execution_count": 15,
     "metadata": {},
     "output_type": "execute_result"
    }
   ],
   "source": [
    "h=cast\n",
    "h.character.value_counts().head(11)"
   ]
  },
  {
   "cell_type": "markdown",
   "metadata": {
    "collapsed": true
   },
   "source": [
    "### Who are the people credited as \"Herself\" more than 3 times in film history?"
   ]
  },
  {
   "cell_type": "code",
   "execution_count": 46,
   "metadata": {},
   "outputs": [
    {
     "data": {
      "text/plain": [
       "Queen Elizabeth II    8\n",
       "Joyce Brothers        5\n",
       "Bunny Yeager          5\n",
       "Josephine Baker       4\n",
       "Inday Badiday         4\n",
       "Sarah Vaughan         4\n",
       "Lily Morris           4\n",
       "Marilyn Monroe        4\n",
       "Bessie Love           4\n",
       "Rekha                 4\n",
       "Minnie Pearl          4\n",
       "Eve Becke             4\n",
       "Mary Pickford         4\n",
       "Name: name, dtype: int64"
      ]
     },
     "execution_count": 46,
     "metadata": {},
     "output_type": "execute_result"
    }
   ],
   "source": [
    "h=cast\n",
    "h=h[h.character=='Herself']\n",
    "h=h.name.value_counts()\n",
    "h[h>3]"
   ]
  },
  {
   "cell_type": "markdown",
   "metadata": {
    "collapsed": true
   },
   "source": [
    "### Who are the people credited as \"Himself\" more than 10 times in film history?"
   ]
  },
  {
   "cell_type": "code",
   "execution_count": 53,
   "metadata": {},
   "outputs": [
    {
     "data": {
      "text/plain": [
       "Adolf Hitler             60\n",
       "Richard Nixon            15\n",
       "Winston Churchill        15\n",
       "Franklin D. Roosevelt    14\n",
       "Benito Mussolini         12\n",
       "Billy Graham             11\n",
       "Joe Louis                11\n",
       "Name: name, dtype: int64"
      ]
     },
     "execution_count": 53,
     "metadata": {},
     "output_type": "execute_result"
    }
   ],
   "source": [
    "h=cast\n",
    "h=h[h.character=='Himself']\n",
    "h=h.name.value_counts()\n",
    "h[h>10]"
   ]
  },
  {
   "cell_type": "markdown",
   "metadata": {
    "collapsed": true
   },
   "source": [
    "### Which actors or actresses appeared in more than 25 movies in the year 1945?"
   ]
  },
  {
   "cell_type": "code",
   "execution_count": 55,
   "metadata": {},
   "outputs": [
    {
     "data": {
      "text/plain": [
       "Emmett Vogan       39\n",
       "Sam (II) Harris    33\n",
       "Harold Miller      29\n",
       "Bess Flowers       29\n",
       "Frank O'Connor     27\n",
       "Franklyn Farnum    27\n",
       "Nolan Leary        27\n",
       "Name: name, dtype: int64"
      ]
     },
     "execution_count": 55,
     "metadata": {},
     "output_type": "execute_result"
    }
   ],
   "source": [
    "h=cast\n",
    "h=h[h.year == 1945]\n",
    "h=h.name.value_counts()\n",
    "h[h>25]"
   ]
  },
  {
   "cell_type": "markdown",
   "metadata": {
    "collapsed": true
   },
   "source": [
    "### Which actors or actresses appeared in more than 15 movies in the year 1985?"
   ]
  },
  {
   "cell_type": "code",
   "execution_count": 56,
   "metadata": {},
   "outputs": [
    {
     "data": {
      "text/plain": [
       "Mammootty        22\n",
       "Shakti Kapoor    21\n",
       "Sukumari         20\n",
       "Name: name, dtype: int64"
      ]
     },
     "execution_count": 56,
     "metadata": {},
     "output_type": "execute_result"
    }
   ],
   "source": [
    "h=cast\n",
    "h=h[h.year == 1985]\n",
    "h=h.name.value_counts()\n",
    "h[h>15]"
   ]
  },
  {
   "cell_type": "markdown",
   "metadata": {
    "collapsed": true
   },
   "source": [
    "### Plot how many roles Mammootty has played in each year of his career."
   ]
  },
  {
   "cell_type": "code",
   "execution_count": 31,
   "metadata": {},
   "outputs": [
    {
     "data": {
      "image/png": "[encoded data removed]",
      "text/plain": [
       "<matplotlib.figure.Figure at 0x1b868a16390>"
      ]
     },
     "metadata": {},
     "output_type": "display_data"
    }
   ],
   "source": [
    "h=cast\n",
    "h=h[h.name == 'Mammootty']\n",
    "ax = h.year.value_counts().sort_index().plot(kind='bar')\n",
    "ax.set(xlabel=\"year\", ylabel=\"number of roles\", title = 'Number of roles Mammootty has played in his career');"
   ]
  },
  {
   "cell_type": "markdown",
   "metadata": {
    "collapsed": true
   },
   "source": [
    "### What are the roles that start with the phrase \"Patron in\" and have appeared more than once in film history?"
   ]
  },
  {
   "cell_type": "code",
   "execution_count": 44,
   "metadata": {},
   "outputs": [
    {
     "data": {
      "text/plain": [
       "Patron in Frisky Rabbit         16\n",
       "Patron in Chinese Restaurant     9\n",
       "Patron in Billiard Parlor        5\n",
       "Patron in cabaret                3\n",
       "Patron in Bar                    2\n",
       "Name: character, dtype: int64"
      ]
     },
     "execution_count": 44,
     "metadata": {},
     "output_type": "execute_result"
    }
   ],
   "source": [
    "h=cast\n",
    "h=h[h.character.str.startswith('Patron in')]\n",
    "h = h.character.value_counts()\n",
    "h[h>1]"
   ]
  },
  {
   "cell_type": "markdown",
   "metadata": {
    "collapsed": true
   },
   "source": [
    "### What are the roles that start with the word \"Science\" and have appeared more than once in film history?"
   ]
  },
  {
   "cell_type": "code",
   "execution_count": 45,
   "metadata": {},
   "outputs": [
    {
     "data": {
      "text/plain": [
       "Science Teacher        10\n",
       "Science Club Member     5\n",
       "Science teacher         2\n",
       "Name: character, dtype: int64"
      ]
     },
     "execution_count": 45,
     "metadata": {},
     "output_type": "execute_result"
    }
   ],
   "source": [
    "h=cast\n",
    "h=h[h.character.str.startswith('Science')]\n",
    "h=h.character.value_counts()\n",
    "h[h>1]"
   ]
  },
  {
   "cell_type": "markdown",
   "metadata": {
    "collapsed": true
   },
   "source": [
    "### Plot the n-values of the roles that Judi Dench has played over her career."
   ]
  },
  {
   "cell_type": "code",
   "execution_count": 41,
   "metadata": {},
   "outputs": [
    {
     "data": {
      "image/png": "[encoded data removed]",
      "text/plain": [
       "<matplotlib.figure.Figure at 0x1b868b1fc50>"
      ]
     },
     "metadata": {},
     "output_type": "display_data"
    }
   ],
   "source": [
    "ax = cast[cast.name == 'Judi Dench'].n.value_counts().sort_index().plot(kind='bar')\n",
    "ax.set(xlabel=\"n-values\", ylabel=\"number\", title = 'n-values of the roles Judi Dench has played over her career');"
   ]
  },
  {
   "cell_type": "markdown",
   "metadata": {
    "collapsed": true
   },
   "source": [
    "### Plot the n-values of Cary Grant's roles through his career."
   ]
  },
  {
   "cell_type": "code",
   "execution_count": 36,
   "metadata": {},
   "outputs": [
    {
     "data": {
      "image/png": "[encoded data removed]",
      "text/plain": [
       "<matplotlib.figure.Figure at 0x1b868bcab00>"
      ]
     },
     "metadata": {},
     "output_type": "display_data"
    }
   ],
   "source": [
    "h=cast\n",
    "ax = h[h.name == 'Cary Grant'].groupby('n').size().plot(kind='bar')\n",
    "ax.set(xlabel=\"n-values\", ylabel=\"number\", title = 'n-values of the roles Cary Grant has played over his career');"
   ]
  },
  {
   "cell_type": "markdown",
   "metadata": {
    "collapsed": true
   },
   "source": [
    "### Plot the n-value of the roles that Sidney Poitier has acted over the years."
   ]
  },
  {
   "cell_type": "code",
   "execution_count": 42,
   "metadata": {},
   "outputs": [
    {
     "data": {
      "image/png": "[encoded data removed]",
      "text/plain": [
       "<matplotlib.figure.Figure at 0x1b868b4c748>"
      ]
     },
     "metadata": {},
     "output_type": "display_data"
    }
   ],
   "source": [
    "h=cast\n",
    "ax = h[h.name == 'Sidney Poitier'].n.value_counts().sort_index().plot(kind='bar')\n",
    "ax.set(xlabel=\"n-values\", ylabel=\"number\", title = 'n-values of the roles Sidney Poitier has acted over the years');"
   ]
  },
  {
   "cell_type": "markdown",
   "metadata": {
    "collapsed": true
   },
   "source": [
    "### How many leading (n=1) roles were available to actors, and how many to actresses, in the 1950s?"
   ]
  },
  {
   "cell_type": "code",
   "execution_count": 28,
   "metadata": {},
   "outputs": [
    {
     "data": {
      "text/plain": [
       "actor      6694\n",
       "actress    3036\n",
       "Name: type, dtype: int64"
      ]
     },
     "execution_count": 28,
     "metadata": {},
     "output_type": "execute_result"
    }
   ],
   "source": [
    "h=cast\n",
    "h=h[(h.n==1) & (h.year//10==195)]\n",
    "h.type.value_counts()"
   ]
  },
  {
   "cell_type": "markdown",
   "metadata": {
    "collapsed": true
   },
   "source": [
    "### How many supporting (n=2) roles were available to actors, and how many to actresses, in the 1950s?"
   ]
  },
  {
   "cell_type": "code",
   "execution_count": 29,
   "metadata": {},
   "outputs": [
    {
     "data": {
      "text/plain": [
       "actor      4641\n",
       "actress    4632\n",
       "Name: type, dtype: int64"
      ]
     },
     "execution_count": 29,
     "metadata": {},
     "output_type": "execute_result"
    }
   ],
   "source": [
    "h=cast\n",
    "h=h[(h.n==2) & (h.year//10==195)]\n",
    "h.type.value_counts()"
   ]
  },
  {
   "cell_type": "code",
   "execution_count": null,
   "metadata": {
    "collapsed": true
   },
   "outputs": [],
   "source": []
  }
 ],
 "metadata": {
  "kernelspec": {
   "display_name": "Python 3",
   "language": "python",
   "name": "python3"
  },
  "language_info": {
   "codemirror_mode": {
    "name": "ipython",
    "version": 3
   },
   "file_extension": ".py",
   "mimetype": "text/x-python",
   "name": "python",
   "nbconvert_exporter": "python",
   "pygments_lexer": "ipython3",
   "version": "3.6.1"
  }
 },
 "nbformat": 4,
 "nbformat_minor": 1
}

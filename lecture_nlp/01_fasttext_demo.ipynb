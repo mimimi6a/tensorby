{
  "nbformat": 4,
  "nbformat_minor": 0,
  "metadata": {
    "colab": {
      "name": "fasttext.ipynb",
      "version": "0.3.2",
      "provenance": [],
      "collapsed_sections": []
    },
    "kernelspec": {
      "name": "python3",
      "display_name": "Python 3"
    }
  },
  "cells": [
    {
      "metadata": {
        "id": "eQJIRA3S8Eub",
        "colab_type": "code",
        "colab": {}
      },
      "cell_type": "code",
      "source": [
        "%%bash\n",
        "\n",
        "# Install required packages\n",
        "pip install -U -q git+https://github.com/facebookresearch/fastText.git\n",
        "pip install -U -q pandas scikit-learn imblearn\n",
        "\n",
        "# Download & extract dataset\n",
        "wget -q -O data.zip https://he-s3.s3.amazonaws.com/media/hackathon/predict-the-happiness/predict-the-happiness/f2c2f440-8-dataset_he.zip\n",
        "unzip -oqq data.zip train.csv"
      ],
      "execution_count": 0,
      "outputs": []
    },
    {
      "metadata": {
        "id": "eHK7Pw-L8KOu",
        "colab_type": "code",
        "colab": {}
      },
      "cell_type": "code",
      "source": [
        "import pandas as pd\n",
        "from fastText import train_supervised, load_model\n",
        "from imblearn.under_sampling import RandomUnderSampler\n",
        "from sklearn.metrics import classification_report\n",
        "from sklearn.model_selection import train_test_split"
      ],
      "execution_count": 0,
      "outputs": []
    },
    {
      "metadata": {
        "id": "IfbbIjrTBp7p",
        "colab_type": "text"
      },
      "cell_type": "markdown",
      "source": [
        "### Загрузим данные, выровняем соотношение классов для упрощения задачи"
      ]
    },
    {
      "metadata": {
        "id": "Jf-sW5rg8qMB",
        "colab_type": "code",
        "colab": {
          "base_uri": "https://localhost:8080/",
          "height": 254
        },
        "outputId": "6f4771c2-486c-4bde-eb0e-5972c8c265d7"
      },
      "cell_type": "code",
      "source": [
        "df = pd.read_csv('train.csv', usecols=['Description', 'Is_Response'])\\\n",
        "  .rename(columns={'Description': 'x', 'Is_Response': 'y'})\n",
        "df['y'] = df['y'].map(lambda x: x.replace(' ', '_'))\n",
        "\n",
        "X, y = RandomUnderSampler(random_state=42).fit_resample(df[['x']], df['y'].values)\n",
        "df = pd.DataFrame({'x': X[:, 0], 'y': y})\n",
        "\n",
        "print(df.y.value_counts())\n",
        "df.head()"
      ],
      "execution_count": 3,
      "outputs": [
        {
          "output_type": "stream",
          "text": [
            "happy        12411\n",
            "not_happy    12411\n",
            "Name: y, dtype: int64\n"
          ],
          "name": "stdout"
        },
        {
          "output_type": "execute_result",
          "data": {
            "text/html": [
              "<div>\n",
              "<style scoped>\n",
              "    .dataframe tbody tr th:only-of-type {\n",
              "        vertical-align: middle;\n",
              "    }\n",
              "\n",
              "    .dataframe tbody tr th {\n",
              "        vertical-align: top;\n",
              "    }\n",
              "\n",
              "    .dataframe thead th {\n",
              "        text-align: right;\n",
              "    }\n",
              "</style>\n",
              "<table border=\"1\" class=\"dataframe\">\n",
              "  <thead>\n",
              "    <tr style=\"text-align: right;\">\n",
              "      <th></th>\n",
              "      <th>x</th>\n",
              "      <th>y</th>\n",
              "    </tr>\n",
              "  </thead>\n",
              "  <tbody>\n",
              "    <tr>\n",
              "      <th>0</th>\n",
              "      <td>Henry is a big part of why I look forward to c...</td>\n",
              "      <td>happy</td>\n",
              "    </tr>\n",
              "    <tr>\n",
              "      <th>1</th>\n",
              "      <td>We stayed - nights at the blue sea lodge at th...</td>\n",
              "      <td>happy</td>\n",
              "    </tr>\n",
              "    <tr>\n",
              "      <th>2</th>\n",
              "      <td>I've stayed at several Embassy Suites in the p...</td>\n",
              "      <td>happy</td>\n",
              "    </tr>\n",
              "    <tr>\n",
              "      <th>3</th>\n",
              "      <td>I was recently in Chicago for business and sta...</td>\n",
              "      <td>happy</td>\n",
              "    </tr>\n",
              "    <tr>\n",
              "      <th>4</th>\n",
              "      <td>My wife and I recently traveled to NYC for fou...</td>\n",
              "      <td>happy</td>\n",
              "    </tr>\n",
              "  </tbody>\n",
              "</table>\n",
              "</div>"
            ],
            "text/plain": [
              "                                                   x      y\n",
              "0  Henry is a big part of why I look forward to c...  happy\n",
              "1  We stayed - nights at the blue sea lodge at th...  happy\n",
              "2  I've stayed at several Embassy Suites in the p...  happy\n",
              "3  I was recently in Chicago for business and sta...  happy\n",
              "4  My wife and I recently traveled to NYC for fou...  happy"
            ]
          },
          "metadata": {
            "tags": []
          },
          "execution_count": 3
        }
      ]
    },
    {
      "metadata": {
        "id": "_N5UQJEu-odw",
        "colab_type": "text"
      },
      "cell_type": "markdown",
      "source": [
        "### Разобьем данные на обучающую и тестовую выборки"
      ]
    },
    {
      "metadata": {
        "id": "GwNfCG4L8sU8",
        "colab_type": "code",
        "colab": {}
      },
      "cell_type": "code",
      "source": [
        "train_df, test_df = train_test_split(df, test_size=0.2, stratify=df['y'])\n",
        "\n",
        "train_df = train_df.copy()\n",
        "test_df = test_df.copy()"
      ],
      "execution_count": 0,
      "outputs": []
    },
    {
      "metadata": {
        "id": "sPp98fd2IvMK",
        "colab_type": "text"
      },
      "cell_type": "markdown",
      "source": [
        "### Выполним минимальную необходимую предобработку данных"
      ]
    },
    {
      "metadata": {
        "id": "JgnYQKq6IrcU",
        "colab_type": "code",
        "colab": {}
      },
      "cell_type": "code",
      "source": [
        "def preprocess(x):\n",
        "  # TODO: ознакомиться с рекомендациями авторов fastText по предобработке и применить их\n",
        "  return x.replace('\\n', ' ').strip()\n",
        "\n",
        "\n",
        "train_df['x'] = train_df['x'].map(preprocess)\n",
        "test_df['x'] = test_df['x'].map(preprocess)"
      ],
      "execution_count": 0,
      "outputs": []
    },
    {
      "metadata": {
        "id": "6gSxIAEC-0-j",
        "colab_type": "text"
      },
      "cell_type": "markdown",
      "source": [
        "### Обучим и провалидируем модель"
      ]
    },
    {
      "metadata": {
        "id": "Wks_AIfCCAnf",
        "colab_type": "code",
        "colab": {}
      },
      "cell_type": "code",
      "source": [
        "def save_df_in_fasttext_format(df, path, label_prefix='__label__'):\n",
        "  with open(path, 'w+') as f:\n",
        "    for _, row in df.iterrows():\n",
        "      assert '\\n' not in row['x']\n",
        "      f.write('{}{} {}\\n'.format(label_prefix, row['y'], row['x'].strip()))\n",
        "      \n",
        "\n",
        "def predict(model, df, label_prefix='__label__'):\n",
        "  labels, probs = model.predict(df['x'].tolist())\n",
        "  return [label_list[0].replace(label_prefix, '') for label_list in labels]\n",
        "\n",
        "\n",
        "save_df_in_fasttext_format(train_df, 'train.data')"
      ],
      "execution_count": 0,
      "outputs": []
    },
    {
      "metadata": {
        "id": "8fodqELOImDU",
        "colab_type": "code",
        "colab": {
          "base_uri": "https://localhost:8080/",
          "height": 173
        },
        "outputId": "a5e46659-82b3-4082-945d-7162ba5aabcc"
      },
      "cell_type": "code",
      "source": [
        "# TODO: ознакомиться с параметрами модели\n",
        "model = train_supervised(input='train.data',\n",
        "                         epoch=25,\n",
        "                         lr=1.0,\n",
        "                         wordNgrams=2,\n",
        "                         verbose=2,\n",
        "                         minCount=1,\n",
        "                         label='__label__')\n",
        "model.save_model('ft.model')\n",
        "test_df['y_pred'] = predict(model, test_df)\n",
        "\n",
        "print(classification_report(test_df['y'], test_df['y_pred']))"
      ],
      "execution_count": 13,
      "outputs": [
        {
          "output_type": "stream",
          "text": [
            "              precision    recall  f1-score   support\n",
            "\n",
            "       happy       0.87      0.87      0.87      2482\n",
            "   not_happy       0.87      0.87      0.87      2483\n",
            "\n",
            "   micro avg       0.87      0.87      0.87      4965\n",
            "   macro avg       0.87      0.87      0.87      4965\n",
            "weighted avg       0.87      0.87      0.87      4965\n",
            "\n"
          ],
          "name": "stdout"
        }
      ]
    },
    {
      "metadata": {
        "id": "w8TqwjZCMWbN",
        "colab_type": "text"
      },
      "cell_type": "markdown",
      "source": [
        "### Выполним сжатие модели и повторно замерим качество"
      ]
    },
    {
      "metadata": {
        "id": "-1UjguWRJ4_u",
        "colab_type": "code",
        "colab": {
          "base_uri": "https://localhost:8080/",
          "height": 173
        },
        "outputId": "d2483419-4bb0-4e5b-989a-78dc75b9653a"
      },
      "cell_type": "code",
      "source": [
        "model.quantize(input='train.data', qnorm=True, retrain=True, cutoff=100000)\n",
        "model.save_model('ft_quantized.model')\n",
        "\n",
        "print(classification_report(test_df['y'], predict(model, test_df)))"
      ],
      "execution_count": 14,
      "outputs": [
        {
          "output_type": "stream",
          "text": [
            "              precision    recall  f1-score   support\n",
            "\n",
            "       happy       0.87      0.86      0.87      2482\n",
            "   not_happy       0.87      0.87      0.87      2483\n",
            "\n",
            "   micro avg       0.87      0.87      0.87      4965\n",
            "   macro avg       0.87      0.87      0.87      4965\n",
            "weighted avg       0.87      0.87      0.87      4965\n",
            "\n"
          ],
          "name": "stdout"
        }
      ]
    },
    {
      "metadata": {
        "id": "NhkoNmqPL9IW",
        "colab_type": "code",
        "colab": {
          "base_uri": "https://localhost:8080/",
          "height": 52
        },
        "outputId": "e999935c-7e9b-47ab-e844-8879114fe98a"
      },
      "cell_type": "code",
      "source": [
        "!ls -lah | grep model"
      ],
      "execution_count": 15,
      "outputs": [
        {
          "output_type": "stream",
          "text": [
            "-rw-r--r-- 1 root root 806M Nov 21 21:39 ft.model\n",
            "-rw-r--r-- 1 root root 5.9M Nov 21 21:41 ft_quantized.model\n"
          ],
          "name": "stdout"
        }
      ]
    }
  ]
}
{
  "nbformat": 4,
  "nbformat_minor": 0,
  "metadata": {
    "colab": {
      "name": "text_classification.ipynb",
      "version": "0.3.2",
      "provenance": [],
      "collapsed_sections": []
    },
    "kernelspec": {
      "name": "python3",
      "display_name": "Python 3"
    }
  },
  "cells": [
    {
      "metadata": {
        "id": "h_Gl5J5LSWwF",
        "colab_type": "code",
        "colab": {
          "base_uri": "https://localhost:8080/",
          "height": 35
        },
        "outputId": "9c1c595d-688f-4229-d3ee-7fae3599793a"
      },
      "cell_type": "code",
      "source": [
        "%%bash\n",
        "\n",
        "# Install required packages\n",
        "pip install -U -q pandas scikit-learn imblearn\n",
        "\n",
        "# Download & extract dataset\n",
        "wget -q -O data.zip https://he-s3.s3.amazonaws.com/media/hackathon/predict-the-happiness/predict-the-happiness/f2c2f440-8-dataset_he.zip\n",
        "unzip -oqq data.zip train.csv"
      ],
      "execution_count": 1,
      "outputs": [
        {
          "output_type": "stream",
          "text": [
            "  Failed building wheel for fasttext\n"
          ],
          "name": "stderr"
        }
      ]
    },
    {
      "metadata": {
        "id": "eg2iKzKESX8A",
        "colab_type": "code",
        "colab": {}
      },
      "cell_type": "code",
      "source": [
        "import pandas as pd\n",
        "from imblearn.under_sampling import RandomUnderSampler\n",
        "from sklearn.metrics import classification_report\n",
        "from sklearn.model_selection import train_test_split\n",
        "from sklearn.feature_extraction.text import CountVectorizer, TfidfVectorizer\n",
        "from sklearn.ensemble import RandomForestClassifier"
      ],
      "execution_count": 0,
      "outputs": []
    },
    {
      "metadata": {
        "id": "XAUf-Fd8S9ix",
        "colab_type": "text"
      },
      "cell_type": "markdown",
      "source": [
        "### Загрузим данные, выровняем соотношение классов для упрощения задачи"
      ]
    },
    {
      "metadata": {
        "id": "s5G3aUNXS60a",
        "colab_type": "code",
        "colab": {
          "base_uri": "https://localhost:8080/",
          "height": 254
        },
        "outputId": "38ad98d4-b559-48a0-85e3-95f23e661f89"
      },
      "cell_type": "code",
      "source": [
        "df = pd.read_csv('train.csv', usecols=['Description', 'Is_Response'])\\\n",
        "  .rename(columns={'Description': 'x', 'Is_Response': 'y'})\n",
        "df['y'] = df['y'].map(lambda x: x.replace(' ', '_'))\n",
        "\n",
        "X, y = RandomUnderSampler(random_state=42).fit_resample(df[['x']], df['y'].values)\n",
        "df = pd.DataFrame({'x': X[:, 0], 'y': y})\n",
        "\n",
        "print(df.y.value_counts())\n",
        "df.head()"
      ],
      "execution_count": 3,
      "outputs": [
        {
          "output_type": "stream",
          "text": [
            "happy        12411\n",
            "not_happy    12411\n",
            "Name: y, dtype: int64\n"
          ],
          "name": "stdout"
        },
        {
          "output_type": "execute_result",
          "data": {
            "text/html": [
              "<div>\n",
              "<style scoped>\n",
              "    .dataframe tbody tr th:only-of-type {\n",
              "        vertical-align: middle;\n",
              "    }\n",
              "\n",
              "    .dataframe tbody tr th {\n",
              "        vertical-align: top;\n",
              "    }\n",
              "\n",
              "    .dataframe thead th {\n",
              "        text-align: right;\n",
              "    }\n",
              "</style>\n",
              "<table border=\"1\" class=\"dataframe\">\n",
              "  <thead>\n",
              "    <tr style=\"text-align: right;\">\n",
              "      <th></th>\n",
              "      <th>x</th>\n",
              "      <th>y</th>\n",
              "    </tr>\n",
              "  </thead>\n",
              "  <tbody>\n",
              "    <tr>\n",
              "      <th>0</th>\n",
              "      <td>Henry is a big part of why I look forward to c...</td>\n",
              "      <td>happy</td>\n",
              "    </tr>\n",
              "    <tr>\n",
              "      <th>1</th>\n",
              "      <td>We stayed - nights at the blue sea lodge at th...</td>\n",
              "      <td>happy</td>\n",
              "    </tr>\n",
              "    <tr>\n",
              "      <th>2</th>\n",
              "      <td>I've stayed at several Embassy Suites in the p...</td>\n",
              "      <td>happy</td>\n",
              "    </tr>\n",
              "    <tr>\n",
              "      <th>3</th>\n",
              "      <td>I was recently in Chicago for business and sta...</td>\n",
              "      <td>happy</td>\n",
              "    </tr>\n",
              "    <tr>\n",
              "      <th>4</th>\n",
              "      <td>My wife and I recently traveled to NYC for fou...</td>\n",
              "      <td>happy</td>\n",
              "    </tr>\n",
              "  </tbody>\n",
              "</table>\n",
              "</div>"
            ],
            "text/plain": [
              "                                                   x      y\n",
              "0  Henry is a big part of why I look forward to c...  happy\n",
              "1  We stayed - nights at the blue sea lodge at th...  happy\n",
              "2  I've stayed at several Embassy Suites in the p...  happy\n",
              "3  I was recently in Chicago for business and sta...  happy\n",
              "4  My wife and I recently traveled to NYC for fou...  happy"
            ]
          },
          "metadata": {
            "tags": []
          },
          "execution_count": 3
        }
      ]
    },
    {
      "metadata": {
        "id": "liZujyotTDMB",
        "colab_type": "text"
      },
      "cell_type": "markdown",
      "source": [
        "### Разобьем данные на обучающую и тестовую выборки"
      ]
    },
    {
      "metadata": {
        "id": "F7ePPphCS_i6",
        "colab_type": "code",
        "colab": {}
      },
      "cell_type": "code",
      "source": [
        "train_df, test_df = train_test_split(df, test_size=0.2, stratify=df['y'])\n",
        "\n",
        "train_df = train_df.copy()\n",
        "test_df = test_df.copy()"
      ],
      "execution_count": 0,
      "outputs": []
    },
    {
      "metadata": {
        "id": "JWhEOgzcTHRw",
        "colab_type": "text"
      },
      "cell_type": "markdown",
      "source": [
        "### Выполним векторизацию\n",
        "\n",
        "[Раздел документации scikit-learn посвященный векторизации текстовых данных](https://scikit-learn.org/stable/modules/feature_extraction.html#text-feature-extraction)\n",
        "\n",
        "\n",
        "#### CountVectorizer\n",
        "```Init signature: CountVectorizer(input='content', encoding='utf-8', decode_error='strict', strip_accents=None, lowercase=True, preprocessor=None, tokenizer=None, stop_words=None, token_pattern='(?u)\\\\b\\\\w\\\\w+\\\\b', ngram_range=(1, 1), analyzer='word', max_df=1.0, min_df=1, max_features=None, vocabulary=None, binary=False, dtype=<class 'numpy.int64'>)```\n",
        "\n",
        "#### TfidfVectorizer\n",
        "```Init signature: TfidfVectorizer(input='content', encoding='utf-8', decode_error='strict', strip_accents=None, lowercase=True, preprocessor=None, tokenizer=None, analyzer='word', stop_words=None, token_pattern='(?u)\\\\b\\\\w\\\\w+\\\\b', ngram_range=(1, 1), max_df=1.0, min_df=1, max_features=None, vocabulary=None, binary=False, dtype=<class 'numpy.float64'>, norm='l2', use_idf=True, smooth_idf=True, sublinear_tf=False)```"
      ]
    },
    {
      "metadata": {
        "id": "VXyDrEcRTGAp",
        "colab_type": "code",
        "colab": {
          "base_uri": "https://localhost:8080/",
          "height": 35
        },
        "outputId": "570d9078-54cd-46c0-d3fd-681166366d4e"
      },
      "cell_type": "code",
      "source": [
        "vectorizer = \n",
        "train_X = vectorizer.fit_transform(train_df['x'].values)\n",
        "test_X = vectorizer.transform(test_df['x'].values)\n",
        "\n",
        "\n",
        "print(train_X.shape)"
      ],
      "execution_count": 8,
      "outputs": [
        {
          "output_type": "stream",
          "text": [
            "(19857, 1000)\n"
          ],
          "name": "stdout"
        }
      ]
    },
    {
      "metadata": {
        "id": "8U2oJqytUO_B",
        "colab_type": "text"
      },
      "cell_type": "markdown",
      "source": [
        "### Обучим и провалидируем классификатор"
      ]
    },
    {
      "metadata": {
        "id": "Y8LvSVq7TQWg",
        "colab_type": "code",
        "colab": {
          "base_uri": "https://localhost:8080/",
          "height": 228
        },
        "outputId": "7648f0fb-a3f5-457f-8805-0eb006d4dd92"
      },
      "cell_type": "code",
      "source": [
        "classifier = \n",
        "classifier.fit(train_X, train_df['y'].values)\n",
        "\n",
        "y_pred = classifier.predict(test_X)\n",
        "\n",
        "print(classification_report(test_df['y'].values, y_pred))"
      ],
      "execution_count": 9,
      "outputs": [
        {
          "output_type": "stream",
          "text": [
            "/usr/local/lib/python3.6/dist-packages/sklearn/ensemble/forest.py:248: FutureWarning: The default value of n_estimators will change from 10 in version 0.20 to 100 in 0.22.\n",
            "  \"10 in version 0.20 to 100 in 0.22.\", FutureWarning)\n"
          ],
          "name": "stderr"
        },
        {
          "output_type": "stream",
          "text": [
            "              precision    recall  f1-score   support\n",
            "\n",
            "       happy       0.74      0.83      0.78      2483\n",
            "   not_happy       0.80      0.71      0.76      2482\n",
            "\n",
            "   micro avg       0.77      0.77      0.77      4965\n",
            "   macro avg       0.77      0.77      0.77      4965\n",
            "weighted avg       0.77      0.77      0.77      4965\n",
            "\n"
          ],
          "name": "stdout"
        }
      ]
    },
    {
      "metadata": {
        "id": "eI2zkdLNUjg_",
        "colab_type": "text"
      },
      "cell_type": "markdown",
      "source": [
        "### Задание: собрать pipeline (vectorizer->classifier). Выполнить грид-поиск гиперпараметров\n",
        "\n",
        "[Пример построения pipeline при решении задачи классификации текстов](https://scikit-learn.org/stable/auto_examples/model_selection/grid_search_text_feature_extraction.html#sphx-glr-auto-examples-model-selection-grid-search-text-feature-extraction-py)"
      ]
    },
    {
      "metadata": {
        "id": "eBb2jVeoUKF3",
        "colab_type": "code",
        "colab": {}
      },
      "cell_type": "code",
      "source": [
        ""
      ],
      "execution_count": 0,
      "outputs": []
    }
  ]
}
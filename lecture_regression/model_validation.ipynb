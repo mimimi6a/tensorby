{
 "cells": [
  {
   "cell_type": "markdown",
   "metadata": {},
   "source": [
    "## Validation curves (plotting scores to evaluate models) and Grid Search\n",
    "https://scikit-learn.org/stable/modules/learning_curve.html#learning-curve<br>\n",
    "https://scikit-learn.org/stable/modules/grid_search.html#grid-search"
   ]
  },
  {
   "cell_type": "code",
   "execution_count": 71,
   "metadata": {
    "collapsed": true
   },
   "outputs": [],
   "source": [
    "%matplotlib inline\n",
    "import matplotlib.pyplot as plt\n",
    "import numpy as np"
   ]
  },
  {
   "cell_type": "code",
   "execution_count": null,
   "metadata": {
    "collapsed": true
   },
   "outputs": [],
   "source": [
    "# Temporarily Suppressing Warnings\n",
    "import warnings\n",
    "warnings.filterwarnings(\"ignore\")"
   ]
  },
  {
   "cell_type": "code",
   "execution_count": 72,
   "metadata": {
    "collapsed": true
   },
   "outputs": [],
   "source": [
    "from sklearn.preprocessing import PolynomialFeatures\n",
    "from sklearn.linear_model import LinearRegression\n",
    "from sklearn.pipeline import make_pipeline"
   ]
  },
  {
   "cell_type": "code",
   "execution_count": 6,
   "metadata": {
    "scrolled": false
   },
   "outputs": [],
   "source": [
    "# np.random.seed(1)\n",
    "# x = 10 * np.random.rand(50)\n",
    "# y = np.sin(x) + 0.1 * np.random.randn(50)\n",
    "# plt.scatter(x, y)"
   ]
  },
  {
   "cell_type": "code",
   "execution_count": 5,
   "metadata": {},
   "outputs": [],
   "source": [
    "# poly_model = make_pipeline(PolynomialFeatures(),\n",
    "#                            LinearRegression())"
   ]
  },
  {
   "cell_type": "code",
   "execution_count": 3,
   "metadata": {},
   "outputs": [],
   "source": [
    "# poly_model.named_steps"
   ]
  },
  {
   "cell_type": "markdown",
   "metadata": {},
   "source": [
    "## Validation curves in Scikit-Learn"
   ]
  },
  {
   "cell_type": "code",
   "execution_count": 1,
   "metadata": {},
   "outputs": [],
   "source": [
    "# # http://scikit-learn.org/stable/modules/generated/sklearn.model_selection.validation_curve.html\n",
    "# from sklearn.model_selection import validation_curve\n",
    "# degree = np.arange(0, 25)\n",
    "\n",
    "# train_score, val_score = validation_curve(poly_model, x[:, np.newaxis], y, \n",
    "#                                           'polynomialfeatures__degree', degree, cv=5)\n",
    "# print(train_score.shape)\n",
    "# print(train_score[0:5,])\n",
    "# print(val_score.shape)\n",
    "# print(val_score[0:5,])"
   ]
  },
  {
   "cell_type": "code",
   "execution_count": 2,
   "metadata": {},
   "outputs": [],
   "source": [
    "# plt.figure(figsize=(12,4))\n",
    "# plt.plot(degree, np.median(train_score, 1), color='blue', label='training score')\n",
    "# plt.plot(degree, np.median(val_score, 1), color='red', label='validation score')\n",
    "# plt.xticks(degree)\n",
    "# plt.legend(loc='best')\n",
    "# plt.ylim(0, 1)\n",
    "# plt.xlabel('degree')\n",
    "# plt.ylabel('score');"
   ]
  },
  {
   "cell_type": "markdown",
   "metadata": {},
   "source": [
    "This shows precisely the qualitative behavior we expect: the training score is everywhere higher than the validation score; the training score is monotonically improving with increased model complexity; and the validation score reaches a maximum before dropping off as the model becomes over-fit.\n",
    "\n",
    "Optimal degree is ???"
   ]
  },
  {
   "cell_type": "markdown",
   "metadata": {},
   "source": [
    "## Validation in Practice: Grid Search"
   ]
  },
  {
   "cell_type": "markdown",
   "metadata": {},
   "source": [
    "In practice, models generally have more than one knob to turn and plots of validation curves change from lines to multi-dimensional surfaces.In these cases, such visualizations are difficult and we would rather simply find the particular model that maximizes the validation score.\n",
    "\n",
    "Scikit-Learn provides automated tools to do this in the grid search module.\n",
    "Here is an example of using grid search to find the optimal polynomial model.\n",
    "We will explore a two-dimensional grid of model features; namely the polynomial degree and the flag telling us whether to normalize."
   ]
  },
  {
   "cell_type": "code",
   "execution_count": 7,
   "metadata": {
    "collapsed": true
   },
   "outputs": [],
   "source": [
    "# # http://scikit-learn.org/stable/modules/generated/sklearn.model_selection.GridSearchCV.html\n",
    "# from sklearn.model_selection import GridSearchCV\n",
    "\n",
    "# param_grid = {'polynomialfeatures__degree': np.arange(4,17),\n",
    "#               'linearregression__normalize': [True, False]}\n",
    "\n",
    "# grid = GridSearchCV(poly_model, param_grid, cv=5)"
   ]
  },
  {
   "cell_type": "code",
   "execution_count": 9,
   "metadata": {},
   "outputs": [],
   "source": [
    "# grid.fit(x[:, np.newaxis], y)"
   ]
  },
  {
   "cell_type": "code",
   "execution_count": 10,
   "metadata": {},
   "outputs": [],
   "source": [
    "# grid.best_params_"
   ]
  },
  {
   "cell_type": "code",
   "execution_count": 11,
   "metadata": {},
   "outputs": [],
   "source": [
    "# grid.best_score_"
   ]
  },
  {
   "cell_type": "code",
   "execution_count": 13,
   "metadata": {},
   "outputs": [],
   "source": [
    "# grid.grid_scores_"
   ]
  },
  {
   "cell_type": "code",
   "execution_count": 14,
   "metadata": {},
   "outputs": [],
   "source": [
    "# # Build a model using best parameters\n",
    "\n",
    "# poly_model = make_pipeline(PolynomialFeatures(10),\n",
    "#                            LinearRegression())\n",
    "\n",
    "# poly_model.fit(x[:, np.newaxis], y)\n",
    "# xfit = np.linspace(0, 10, 1000)\n",
    "# yfit = poly_model.predict(xfit[:, np.newaxis])\n",
    "\n",
    "\n",
    "# plt.scatter(x, y)\n",
    "# plt.plot(xfit, yfit);"
   ]
  },
  {
   "cell_type": "code",
   "execution_count": null,
   "metadata": {
    "collapsed": true
   },
   "outputs": [],
   "source": []
  },
  {
   "cell_type": "markdown",
   "metadata": {},
   "source": [
    "## Learning curves in Scikit-Learn"
   ]
  },
  {
   "cell_type": "code",
   "execution_count": 15,
   "metadata": {
    "collapsed": true
   },
   "outputs": [],
   "source": [
    "# # http://scikit-learn.org/stable/modules/generated/sklearn.model_selection.learning_curve.html\n",
    "# from sklearn.model_selection import learning_curve\n",
    "\n",
    "# N, train_lc, val_lc = learning_curve(poly_model, x[:, np.newaxis], y, cv=5, \n",
    "#                                      train_sizes=np.linspace(0.3, 1, 20))"
   ]
  },
  {
   "cell_type": "code",
   "execution_count": 16,
   "metadata": {},
   "outputs": [],
   "source": [
    "# np.linspace(0.3, 1, 20)"
   ]
  },
  {
   "cell_type": "code",
   "execution_count": 17,
   "metadata": {},
   "outputs": [],
   "source": [
    "# N"
   ]
  },
  {
   "cell_type": "code",
   "execution_count": 18,
   "metadata": {},
   "outputs": [],
   "source": [
    "# plt.figure(figsize=(12,4))\n",
    "\n",
    "# plt.plot(N, np.mean(train_lc, 1), color='blue', label='training score')\n",
    "# plt.plot(N, np.mean(val_lc, 1), color='red', label='validation score')\n",
    "# plt.hlines(np.mean([train_lc[-1], val_lc[-1]]), N[0], N[-1],\n",
    "#                  color='gray', linestyle='dashed')\n",
    "\n",
    "# plt.ylim(0, 1)\n",
    "# plt.xlim(N[0], N[-1])\n",
    "# plt.xlabel('training size')\n",
    "# plt.ylabel('score')\n",
    "# plt.title('degree = 10')\n",
    "# plt.legend(loc='best');"
   ]
  },
  {
   "cell_type": "code",
   "execution_count": null,
   "metadata": {
    "collapsed": true
   },
   "outputs": [],
   "source": []
  }
 ],
 "metadata": {
  "anaconda-cloud": {},
  "kernelspec": {
   "display_name": "Python 3",
   "language": "python",
   "name": "python3"
  },
  "language_info": {
   "codemirror_mode": {
    "name": "ipython",
    "version": 3
   },
   "file_extension": ".py",
   "mimetype": "text/x-python",
   "name": "python",
   "nbconvert_exporter": "python",
   "pygments_lexer": "ipython3",
   "version": "3.6.1"
  }
 },
 "nbformat": 4,
 "nbformat_minor": 1
}

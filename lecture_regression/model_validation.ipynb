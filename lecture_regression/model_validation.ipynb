{
 "cells": [
  {
   "cell_type": "code",
   "execution_count": 71,
   "metadata": {
    "collapsed": true
   },
   "outputs": [],
   "source": [
    "%matplotlib inline\n",
    "import matplotlib.pyplot as plt\n",
    "import numpy as np"
   ]
  },
  {
   "cell_type": "code",
   "execution_count": 72,
   "metadata": {
    "collapsed": true
   },
   "outputs": [],
   "source": [
    "from sklearn.preprocessing import PolynomialFeatures\n",
    "from sklearn.linear_model import LinearRegression\n",
    "from sklearn.pipeline import make_pipeline"
   ]
  },
  {
   "cell_type": "code",
   "execution_count": 73,
   "metadata": {
    "scrolled": false
   },
   "outputs": [
    {
     "data": {
      "text/plain": [
       "<matplotlib.collections.PathCollection at 0x267127a4208>"
      ]
     },
     "execution_count": 73,
     "metadata": {},
     "output_type": "execute_result"
    },
    {
     "data": {
      "image/png": "[encoded data removed]",
      "text/plain": [
       "<matplotlib.figure.Figure at 0x267115a6400>"
      ]
     },
     "metadata": {},
     "output_type": "display_data"
    }
   ],
   "source": [
    "np.random.seed(1)\n",
    "x = 10 * np.random.rand(50)\n",
    "y = np.sin(x) + 0.1 * np.random.randn(50)\n",
    "plt.scatter(x, y)"
   ]
  },
  {
   "cell_type": "code",
   "execution_count": 74,
   "metadata": {
    "collapsed": true
   },
   "outputs": [],
   "source": [
    "poly_model = make_pipeline(PolynomialFeatures(),\n",
    "                           LinearRegression())"
   ]
  },
  {
   "cell_type": "code",
   "execution_count": 76,
   "metadata": {},
   "outputs": [
    {
     "data": {
      "text/plain": [
       "{'linearregression': LinearRegression(copy_X=True, fit_intercept=True, n_jobs=1, normalize=False),\n",
       " 'polynomialfeatures': PolynomialFeatures(degree=24, include_bias=True, interaction_only=False)}"
      ]
     },
     "execution_count": 76,
     "metadata": {},
     "output_type": "execute_result"
    }
   ],
   "source": [
    "poly_model.named_steps"
   ]
  },
  {
   "cell_type": "markdown",
   "metadata": {},
   "source": [
    "## Validation curves in Scikit-Learn"
   ]
  },
  {
   "cell_type": "code",
   "execution_count": 78,
   "metadata": {},
   "outputs": [
    {
     "name": "stdout",
     "output_type": "stream",
     "text": [
      "(25, 5)\n",
      "[[0.00000000e+00 0.00000000e+00 0.00000000e+00 0.00000000e+00\n",
      "  0.00000000e+00]\n",
      " [3.29795129e-03 1.53228759e-03 7.33473446e-03 1.01875809e-02\n",
      "  5.71388154e-04]\n",
      " [7.11543975e-02 8.15350974e-02 1.30376011e-01 1.41969628e-01\n",
      "  1.49921460e-01]\n",
      " [1.97769486e-01 1.75550943e-01 1.64310719e-01 1.81805510e-01\n",
      "  1.70642985e-01]\n",
      " [8.48738636e-01 8.76477513e-01 8.74818394e-01 8.78095035e-01\n",
      "  8.89765363e-01]]\n"
     ]
    }
   ],
   "source": [
    "# http://scikit-learn.org/stable/modules/generated/sklearn.model_selection.validation_curve.html\n",
    "from sklearn.model_selection import validation_curve\n",
    "degree = np.arange(0, 25)\n",
    "\n",
    "train_score, val_score = validation_curve(poly_model, x[:, np.newaxis], y, \n",
    "                                          'polynomialfeatures__degree', degree, cv=5)\n",
    "print(train_score.shape)\n",
    "print(train_score[0:5,])"
   ]
  },
  {
   "cell_type": "code",
   "execution_count": 77,
   "metadata": {},
   "outputs": [
    {
     "data": {
      "image/png": "[encoded data removed]",
      "text/plain": [
       "<matplotlib.figure.Figure at 0x26712787780>"
      ]
     },
     "metadata": {},
     "output_type": "display_data"
    }
   ],
   "source": [
    "plt.figure(figsize=(12,4))\n",
    "plt.plot(degree, np.median(train_score, 1), color='blue', label='training score')\n",
    "plt.plot(degree, np.median(val_score, 1), color='red', label='validation score')\n",
    "plt.xticks(degree)\n",
    "plt.legend(loc='best')\n",
    "plt.ylim(0, 1)\n",
    "plt.xlabel('degree')\n",
    "plt.ylabel('score');"
   ]
  },
  {
   "cell_type": "markdown",
   "metadata": {},
   "source": [
    "This shows precisely the qualitative behavior we expect: the training score is everywhere higher than the validation score; the training score is monotonically improving with increased model complexity; and the validation score reaches a maximum before dropping off as the model becomes over-fit.\n",
    "\n",
    "Optimal degree is ???"
   ]
  },
  {
   "cell_type": "markdown",
   "metadata": {},
   "source": [
    "## Validation in Practice: Grid Search"
   ]
  },
  {
   "cell_type": "markdown",
   "metadata": {},
   "source": [
    "In practice, models generally have more than one knob to turn and plots of validation curves change from lines to multi-dimensional surfaces.In these cases, such visualizations are difficult and we would rather simply find the particular model that maximizes the validation score.\n",
    "\n",
    "Scikit-Learn provides automated tools to do this in the grid search module.\n",
    "Here is an example of using grid search to find the optimal polynomial model.\n",
    "We will explore a two-dimensional grid of model features; namely the polynomial degree and the flag telling us whether to normalize."
   ]
  },
  {
   "cell_type": "code",
   "execution_count": 79,
   "metadata": {
    "collapsed": true
   },
   "outputs": [],
   "source": [
    "# http://scikit-learn.org/stable/modules/generated/sklearn.model_selection.GridSearchCV.html\n",
    "from sklearn.grid_search import GridSearchCV\n",
    "\n",
    "param_grid = {'polynomialfeatures__degree': np.arange(4,17),\n",
    "              'linearregression__normalize': [True, False]}\n",
    "\n",
    "grid = GridSearchCV(poly_model, param_grid, cv=5)"
   ]
  },
  {
   "cell_type": "code",
   "execution_count": 80,
   "metadata": {},
   "outputs": [
    {
     "data": {
      "text/plain": [
       "GridSearchCV(cv=5, error_score='raise',\n",
       "       estimator=Pipeline(steps=[('polynomialfeatures', PolynomialFeatures(degree=24, include_bias=True, interaction_only=False)), ('linearregression', LinearRegression(copy_X=True, fit_intercept=True, n_jobs=1, normalize=False))]),\n",
       "       fit_params={}, iid=True, n_jobs=1,\n",
       "       param_grid={'polynomialfeatures__degree': array([ 4,  5,  6,  7,  8,  9, 10, 11, 12, 13, 14, 15, 16]), 'linearregression__normalize': [True, False]},\n",
       "       pre_dispatch='2*n_jobs', refit=True, scoring=None, verbose=0)"
      ]
     },
     "execution_count": 80,
     "metadata": {},
     "output_type": "execute_result"
    }
   ],
   "source": [
    "grid.fit(x[:, np.newaxis], y)"
   ]
  },
  {
   "cell_type": "code",
   "execution_count": 81,
   "metadata": {},
   "outputs": [
    {
     "data": {
      "text/plain": [
       "{'linearregression__normalize': False, 'polynomialfeatures__degree': 10}"
      ]
     },
     "execution_count": 81,
     "metadata": {},
     "output_type": "execute_result"
    }
   ],
   "source": [
    "grid.best_params_"
   ]
  },
  {
   "cell_type": "code",
   "execution_count": 85,
   "metadata": {},
   "outputs": [
    {
     "data": {
      "text/plain": [
       "0.9594034798539752"
      ]
     },
     "execution_count": 85,
     "metadata": {},
     "output_type": "execute_result"
    }
   ],
   "source": [
    "grid.best_score_"
   ]
  },
  {
   "cell_type": "code",
   "execution_count": 90,
   "metadata": {},
   "outputs": [
    {
     "data": {
      "text/plain": [
       "[mean: 0.79349, std: 0.08753, params: {'linearregression__normalize': True, 'polynomialfeatures__degree': 4},\n",
       " mean: 0.86172, std: 0.03226, params: {'linearregression__normalize': True, 'polynomialfeatures__degree': 5},\n",
       " mean: 0.94649, std: 0.03843, params: {'linearregression__normalize': True, 'polynomialfeatures__degree': 6},\n",
       " mean: 0.94696, std: 0.04057, params: {'linearregression__normalize': True, 'polynomialfeatures__degree': 7},\n",
       " mean: 0.93647, std: 0.05447, params: {'linearregression__normalize': True, 'polynomialfeatures__degree': 8},\n",
       " mean: 0.90533, std: 0.08324, params: {'linearregression__normalize': True, 'polynomialfeatures__degree': 9},\n",
       " mean: 0.95940, std: 0.03228, params: {'linearregression__normalize': True, 'polynomialfeatures__degree': 10},\n",
       " mean: 0.95811, std: 0.03208, params: {'linearregression__normalize': True, 'polynomialfeatures__degree': 11},\n",
       " mean: 0.95452, std: 0.03712, params: {'linearregression__normalize': True, 'polynomialfeatures__degree': 12},\n",
       " mean: 0.91607, std: 0.07460, params: {'linearregression__normalize': True, 'polynomialfeatures__degree': 13},\n",
       " mean: 0.92095, std: 0.08555, params: {'linearregression__normalize': True, 'polynomialfeatures__degree': 14},\n",
       " mean: 0.91563, std: 0.09252, params: {'linearregression__normalize': True, 'polynomialfeatures__degree': 15},\n",
       " mean: 0.93521, std: 0.04299, params: {'linearregression__normalize': True, 'polynomialfeatures__degree': 16},\n",
       " mean: 0.79349, std: 0.08753, params: {'linearregression__normalize': False, 'polynomialfeatures__degree': 4},\n",
       " mean: 0.86172, std: 0.03226, params: {'linearregression__normalize': False, 'polynomialfeatures__degree': 5},\n",
       " mean: 0.94649, std: 0.03843, params: {'linearregression__normalize': False, 'polynomialfeatures__degree': 6},\n",
       " mean: 0.94696, std: 0.04057, params: {'linearregression__normalize': False, 'polynomialfeatures__degree': 7},\n",
       " mean: 0.93647, std: 0.05447, params: {'linearregression__normalize': False, 'polynomialfeatures__degree': 8},\n",
       " mean: 0.90533, std: 0.08324, params: {'linearregression__normalize': False, 'polynomialfeatures__degree': 9},\n",
       " mean: 0.95940, std: 0.03228, params: {'linearregression__normalize': False, 'polynomialfeatures__degree': 10},\n",
       " mean: 0.95811, std: 0.03208, params: {'linearregression__normalize': False, 'polynomialfeatures__degree': 11},\n",
       " mean: 0.95453, std: 0.03712, params: {'linearregression__normalize': False, 'polynomialfeatures__degree': 12},\n",
       " mean: 0.92673, std: 0.07450, params: {'linearregression__normalize': False, 'polynomialfeatures__degree': 13},\n",
       " mean: 0.94075, std: 0.05913, params: {'linearregression__normalize': False, 'polynomialfeatures__degree': 14},\n",
       " mean: 0.94124, std: 0.05662, params: {'linearregression__normalize': False, 'polynomialfeatures__degree': 15},\n",
       " mean: 0.18236, std: 1.45008, params: {'linearregression__normalize': False, 'polynomialfeatures__degree': 16}]"
      ]
     },
     "execution_count": 90,
     "metadata": {},
     "output_type": "execute_result"
    }
   ],
   "source": [
    "grid.grid_scores_"
   ]
  },
  {
   "cell_type": "code",
   "execution_count": 82,
   "metadata": {},
   "outputs": [
    {
     "data": {
      "image/png": "[encoded data removed]",
      "text/plain": [
       "<matplotlib.figure.Figure at 0x26712732f28>"
      ]
     },
     "metadata": {},
     "output_type": "display_data"
    }
   ],
   "source": [
    "# Build a model using best parameters\n",
    "\n",
    "poly_model = make_pipeline(PolynomialFeatures(10),\n",
    "                           LinearRegression())\n",
    "\n",
    "poly_model.fit(x[:, np.newaxis], y)\n",
    "xfit = np.linspace(0, 10, 1000)\n",
    "yfit = poly_model.predict(xfit[:, np.newaxis])\n",
    "\n",
    "\n",
    "plt.scatter(x, y)\n",
    "plt.plot(xfit, yfit);"
   ]
  },
  {
   "cell_type": "code",
   "execution_count": null,
   "metadata": {
    "collapsed": true
   },
   "outputs": [],
   "source": []
  },
  {
   "cell_type": "markdown",
   "metadata": {},
   "source": [
    "## Learning curves in Scikit-Learn"
   ]
  },
  {
   "cell_type": "code",
   "execution_count": 58,
   "metadata": {
    "collapsed": true
   },
   "outputs": [],
   "source": [
    "# Temporarily Suppressing Warnings\n",
    "import warnings\n",
    "warnings.filterwarnings(\"ignore\")"
   ]
  },
  {
   "cell_type": "code",
   "execution_count": 94,
   "metadata": {},
   "outputs": [],
   "source": [
    "# http://scikit-learn.org/stable/modules/generated/sklearn.model_selection.learning_curve.html\n",
    "from sklearn.model_selection import learning_curve\n",
    "\n",
    "N, train_lc, val_lc = learning_curve(poly_model, x[:, np.newaxis], y, cv=5, \n",
    "                                     train_sizes=np.linspace(0.3, 1, 20))"
   ]
  },
  {
   "cell_type": "code",
   "execution_count": 96,
   "metadata": {},
   "outputs": [
    {
     "data": {
      "text/plain": [
       "array([0.3       , 0.33684211, 0.37368421, 0.41052632, 0.44736842,\n",
       "       0.48421053, 0.52105263, 0.55789474, 0.59473684, 0.63157895,\n",
       "       0.66842105, 0.70526316, 0.74210526, 0.77894737, 0.81578947,\n",
       "       0.85263158, 0.88947368, 0.92631579, 0.96315789, 1.        ])"
      ]
     },
     "execution_count": 96,
     "metadata": {},
     "output_type": "execute_result"
    }
   ],
   "source": [
    "np.linspace(0.3, 1, 20)"
   ]
  },
  {
   "cell_type": "code",
   "execution_count": 97,
   "metadata": {},
   "outputs": [
    {
     "data": {
      "text/plain": [
       "array([12, 13, 14, 16, 17, 19, 20, 22, 23, 25, 26, 28, 29, 31, 32, 34, 35,\n",
       "       37, 38, 40])"
      ]
     },
     "execution_count": 97,
     "metadata": {},
     "output_type": "execute_result"
    }
   ],
   "source": [
    "N"
   ]
  },
  {
   "cell_type": "code",
   "execution_count": 98,
   "metadata": {},
   "outputs": [
    {
     "data": {
      "image/png": "[encoded data removed]",
      "text/plain": [
       "<matplotlib.figure.Figure at 0x267126f9630>"
      ]
     },
     "metadata": {},
     "output_type": "display_data"
    }
   ],
   "source": [
    "plt.figure(figsize=(12,4))\n",
    "\n",
    "plt.plot(N, np.mean(train_lc, 1), color='blue', label='training score')\n",
    "plt.plot(N, np.mean(val_lc, 1), color='red', label='validation score')\n",
    "plt.hlines(np.mean([train_lc[-1], val_lc[-1]]), N[0], N[-1],\n",
    "                 color='gray', linestyle='dashed')\n",
    "\n",
    "plt.ylim(0, 1)\n",
    "plt.xlim(N[0], N[-1])\n",
    "plt.xlabel('training size')\n",
    "plt.ylabel('score')\n",
    "plt.title('degree = 8')\n",
    "plt.legend(loc='best');"
   ]
  },
  {
   "cell_type": "code",
   "execution_count": null,
   "metadata": {
    "collapsed": true
   },
   "outputs": [],
   "source": []
  }
 ],
 "metadata": {
  "anaconda-cloud": {},
  "kernelspec": {
   "display_name": "Python 3",
   "language": "python",
   "name": "python3"
  },
  "language_info": {
   "codemirror_mode": {
    "name": "ipython",
    "version": 3
   },
   "file_extension": ".py",
   "mimetype": "text/x-python",
   "name": "python",
   "nbconvert_exporter": "python",
   "pygments_lexer": "ipython3",
   "version": "3.6.1"
  }
 },
 "nbformat": 4,
 "nbformat_minor": 1
}
